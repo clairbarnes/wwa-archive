{
 "cells": [
  {
   "cell_type": "markdown",
   "id": "da069a93-75ab-4b72-bede-d2ef27986c85",
   "metadata": {},
   "source": [
    "# **East Africa drought study - data preprocessing**"
   ]
  },
  {
   "cell_type": "code",
   "execution_count": 2,
   "id": "ce46cbc2-bfdc-48d0-acdc-69a2f534e9dd",
   "metadata": {},
   "outputs": [],
   "source": [
    "import sys; sys.path.append('/home/clair/wwa')\n",
    "from wwa import *\n",
    "\n",
    "# for SPEI fitting\n",
    "import lmoments3.distr                     # pip install git+https://github.com/OpenHydrology/lmoments3.git\n",
    "glo = getattr(lmoments3.distr, \"glo\") \n",
    "\n",
    "# load shapefile used to extract time series from gridded data\n",
    "sf = gpd.read_file(\"sf_gha\")"
   ]
  },
  {
   "cell_type": "markdown",
   "id": "1b70f359-347f-454a-b000-37b0287da3c0",
   "metadata": {
    "tags": []
   },
   "source": [
    "---\n",
    "## **Covariates**\n",
    "\n",
    "_4-year smoothed GMST, Nino3.4 and SSTs all downloaded from Climate Explorer during March 2023_"
   ]
  },
  {
   "cell_type": "markdown",
   "id": "9cbe3ec2-7181-4f66-8cb1-9b1ea585624c",
   "metadata": {},
   "source": [
    "### **GMST**"
   ]
  },
  {
   "cell_type": "code",
   "execution_count": 35,
   "id": "d7aecd81-329f-49ef-a0fb-74316db6ccb5",
   "metadata": {},
   "outputs": [],
   "source": [
    "gmst = pd.read_csv(\"../90_data/gmst.dat\", comment = \"#\", sep = \" .\", engine = \"python\", header = None, names = [\"year\",\"gmst\"], index_col = \"year\")\n",
    "\n",
    "# create CSV with headers for upload to Climate Explorer\n",
    "\n",
    "csv_fnm = \"ts/EA-drought_gmst-smoothed.dat\"\n",
    "str1 = \"# contact :: smoothed GMST - East Africa drought 2023, c.barnes22@imperial.ac.uk\"\n",
    "str2 = \"# gmst [decC] April 2023 snapshot of giss_al_gl_m_4yrlo from KNMI Climate Explorer at \"+re.sub(\".dat\", \"\", csv_fnm.split(\"/\")[-1])\n",
    "head = \"# year gmst\"\n",
    "\n",
    "! echo \"$str1 \" > $csv_fnm\n",
    "! echo \"$str2\" >> $csv_fnm\n",
    "! echo \"$head\" >> $csv_fnm\n",
    "\n",
    "gmst.to_csv(csv_fnm, sep = \" \", mode = \"a\", header = False)"
   ]
  },
  {
   "cell_type": "markdown",
   "id": "1de1fc8f-cfc9-4abc-ae98-93dbe8a30638",
   "metadata": {},
   "source": [
    "### **Detrended Nino index**"
   ]
  },
  {
   "cell_type": "code",
   "execution_count": 36,
   "id": "983e864f-deae-4e7f-a641-a32ab8a722f9",
   "metadata": {},
   "outputs": [],
   "source": [
    "# get detrended Nino index from indices on Climate Explorer\n",
    "nino = decode_times(xr.open_dataset(\"data/iersst_nino3.4a.nc\", decode_times = False))[\"Nino3.4\"]\n",
    "sst = decode_times(xr.open_dataset(\"data/iersstv5_0-360E_-20-20N_n_su.nc\", decode_times = False)).sst\n",
    "nino_detrended = (nino - (sst - sst.sel(time = slice(\"1980\", \"2010\")).mean())).rename(\"nino_dt\")\n",
    "\n",
    "nino_ond = nino_detrended.rolling(time = 3, center = False).mean().groupby(\"time.month\")[12].dropna(\"time\", \"any\")\n",
    "nino_ond = nino_ond.assign_coords(time = nino_ond.time.dt.year).to_dataframe()"
   ]
  },
  {
   "cell_type": "code",
   "execution_count": 38,
   "id": "837ef1a0-5323-41f0-a75d-6e58f588a3b7",
   "metadata": {},
   "outputs": [],
   "source": [
    "# create CSV with headers for upload to Climate Explorer\n",
    "\n",
    "csv_fnm = \"ts/EA-drought_detrended-nino-ond.dat\"\n",
    "str1 = \"# contact :: mean detrended Nino3.4 index for OND - East Africa drought 2023, c.barnes22@imperial.ac.uk\"\n",
    "str2 = \"# nino34 [degC] April 2023 snapshot of iersst_nino3.4a detrended with iersstv5_0-360E_-20-20N_n_su from KNMI Climate Explorer at \"+re.sub(\".dat\", \"\", csv_fnm.split(\"/\")[-1])\n",
    "head = \"# year nino34\"\n",
    "\n",
    "! echo \"$str1 \" > $csv_fnm\n",
    "! echo \"$str2\" >> $csv_fnm\n",
    "! echo \"$head\" >> $csv_fnm\n",
    "\n",
    "nino_ond.to_csv(csv_fnm, sep = \" \", mode = \"a\", header = False)"
   ]
  },
  {
   "cell_type": "markdown",
   "id": "b74a2580-2b51-4b6e-a1cf-b33f87a248eb",
   "metadata": {
    "tags": []
   },
   "source": [
    "---\n",
    "## **Gridded observations**"
   ]
  },
  {
   "cell_type": "markdown",
   "id": "ac7d27c3-af8b-4d05-9ead-606964a589a7",
   "metadata": {},
   "source": [
    "### **CPC**"
   ]
  },
  {
   "cell_type": "markdown",
   "id": "f3c8eff7-7c26-49bf-af53-1042645e80be",
   "metadata": {},
   "source": [
    "#### **Precip**"
   ]
  },
  {
   "cell_type": "code",
   "execution_count": 92,
   "id": "5c166021-626a-4a20-ab93-cf1a72d275fb",
   "metadata": {},
   "outputs": [],
   "source": [
    "# load daily CPC precip, resample to monthly\n",
    "pr_cpc = xr.open_mfdataset(\"../../Data/cpc/precip.*.nc\").sel(lon = slice(28,54), lat = slice(18,-15), time = slice(None, \"2022\")).precip\n",
    "\n",
    "# get monthly time series of mean precip over study region\n",
    "pr_cpc_ts = pr_cpc.where(regionmask.mask_3D_geopandas(sf, pr_cpc.lon, pr_cpc.lat).squeeze(drop = True) == 1).mean([\"lat\", \"lon\"])\n",
    "pr_cpc_ts.to_netcdf(\"data/cpc_pr_ts-daily.nc\")\n",
    "\n",
    "# seasonal cycle\n",
    "pr_cpc_ts.groupby(\"time.dayofyear\").mean().to_netcdf(\"data/cpc_pr_seasonal.nc\")\n",
    "\n",
    "# spatial patterns\n",
    "pr_cpc.sel(time = [m in [3,4,5] for m in pr_cpc.time.dt.month]).mean(\"time\").to_netcdf(\"data/cpc_pr-mam_spatial.nc\")\n",
    "pr_cpc.sel(time = [m in [10,11,12] for m in pr_cpc.time.dt.month]).mean(\"time\").to_netcdf(\"data/cpc_pr-ond_spatial.nc\")"
   ]
  },
  {
   "cell_type": "code",
   "execution_count": null,
   "id": "fb581a4f-7eb7-44b1-82e2-0ac13a632a40",
   "metadata": {},
   "outputs": [],
   "source": [
    "## TIME SERIES FOR CLIMATE EXPLORER\n",
    "\n",
    "for season in [\"mam\", \"ond\", \"24\"]:\n",
    "    \n",
    "    # get accumulated precip for required period\n",
    "    if season == \"mam\":\n",
    "        pr = pr_cpc_ts.rolling(time = 3).sum().groupby(\"time.month\")[5]\n",
    "    elif season == \"ond\":\n",
    "        pr = pr_cpc_ts.rolling(time = 3).sum().groupby(\"time.month\")[12]\n",
    "    elif season == \"24\":\n",
    "        pr = pr_cpc_ts.rolling(time = 24).sum().groupby(\"time.month\")[12]\n",
    "        \n",
    "    # determine filename & text strings    \n",
    "    s_string = {\"mam\" : \"MAM\", \"ond\" : \"OND\", \"24\" : \"24m accumulated\"}[season]\n",
    "    s_str2 = {\"mam\" : \"MAM\", \"ond\" : \"OND\", \"24\" : \"2-year\"}[season]\n",
    "                    \n",
    "    csv_fnm = \"ts/EA-drought_pr-\"+season+\"_cpc.dat\"\n",
    "    if len(csv_fnm) >= 65: print(\"! Filename too long: \", csv_fnm)\n",
    "    \n",
    "    #create extra header lines for upload to Climate Explorer \n",
    "    str1 = \"# contact :: CPC \"+s_string+\" precip - East Africa drought 2023, c.barnes22@imperial.ac.uk\"\n",
    "    str2 = \"# pr_\"+season+\" [mm] \"+s_str2+\" accumulated precipitation at \"+re.sub(\".dat\", \"\", csv_fnm.split(\"/\")[-1])\n",
    "    head = \"# year pr_\"+season\n",
    "    \n",
    "    # make .dat file\n",
    "    ! echo \"$str1 \" > $csv_fnm\n",
    "    ! echo \"$str2\" >> $csv_fnm\n",
    "    ! echo \"$head\" >> $csv_fnm\n",
    "    pr.assign_coords(time = pr.time.dt.year).dropna(\"time\", \"any\").to_dataframe().to_csv(csv_fnm, sep = \" \", mode = \"a\", header = False)"
   ]
  },
  {
   "cell_type": "markdown",
   "id": "4fcf7569-8b9e-4b9c-8731-d903c58e87e9",
   "metadata": {
    "tags": []
   },
   "source": [
    "#### **PET**"
   ]
  },
  {
   "cell_type": "code",
   "execution_count": 93,
   "id": "b0704ef4-7894-491e-93a0-612993600e46",
   "metadata": {},
   "outputs": [],
   "source": [
    "# load daily temperatures\n",
    "tmin, tmax = [xr.open_dataset(\"data/cpc_\"+varnm+\".nc\").sel(lon = slice(28,54), lat = slice(18,-15), time = slice(None, \"2022\"))[varnm] for varnm in [\"tmin\", \"tmax\"]]\n",
    "\n",
    "# use mean temperature to validate seasonal & spatial characteristics\n",
    "tas = (tmax + tmin) / 2\n",
    "tas.where(regionmask.mask_3D_geopandas(sf, tas.lon, tas.lat).squeeze(drop = True) == 1).mean([\"lat\", \"lon\"]).groupby(\"time.dayofyear\").mean().to_netcdf(\"data/cpc_tas_seasonal.nc\")\n",
    "tas.mean(\"time\").to_netcdf(\"data/cpc_tas_spatial.nc\")"
   ]
  },
  {
   "cell_type": "code",
   "execution_count": 94,
   "id": "8daf95fe-0768-463a-8c1c-a0272a83b868",
   "metadata": {},
   "outputs": [],
   "source": [
    "# Compute PET using Thornthwaite equation\n",
    "pet = convert_units_to(potential_evapotranspiration(tasmin = tmin, tasmax = tmax, method = \"thornthwaite48\"), \"mm/month\").rename(\"pet\")\n",
    "pet_ts = pet.where(regionmask.mask_3D_geopandas(sf, pet.lon, pet.lat).squeeze(drop = True) == 1).mean([\"lat\", \"lon\"])\n",
    "pet_ts.to_netcdf(\"data/cpc_pet_ts-monthly.nc\")"
   ]
  },
  {
   "cell_type": "code",
   "execution_count": 48,
   "id": "1e389ba9-778a-4c96-a12a-90225a00af60",
   "metadata": {},
   "outputs": [],
   "source": [
    "## TIME SERIES FOR CLIMATE EXPLORER\n",
    "\n",
    "csv_fnm = \"ts/EA-drought_pet-24_cpc.dat\"\n",
    "if len(csv_fnm) >= 65: print(\"! Filename too long: \", csv_fnm)\n",
    "\n",
    "#create extra header lines for upload to Climate Explorer \n",
    "str1 = \"# contact :: CPC 24-month accumulated PET - East Africa drought 2023, c.barnes22@imperial.ac.uk\"\n",
    "str2 = \"# pet_24 [mm] 2-year accumulated potential evapotranspiration (Thornthwaite) at \"+re.sub(\".dat\", \"\", csv_fnm.split(\"/\")[-1])\n",
    "head = \"# year pet_24\"\n",
    "\n",
    "! echo \"$str1 \" > $csv_fnm\n",
    "! echo \"$str2\" >> $csv_fnm\n",
    "! echo \"$head\" >> $csv_fnm\n",
    "\n",
    "pet24 = pet_ts.rolling(time = 24).sum().groupby(\"time.month\")[12]\n",
    "pet24.assign_coords(time = pet24.time.dt.year).dropna(\"time\", \"any\").to_dataframe().to_csv(csv_fnm, sep = \" \", mode = \"a\", header = False)"
   ]
  },
  {
   "cell_type": "markdown",
   "id": "29715946-2caa-4ffb-bb35-3b6e62b81f9a",
   "metadata": {},
   "source": [
    "#### **SPEI**"
   ]
  },
  {
   "cell_type": "code",
   "execution_count": 83,
   "id": "b460e3e6-55fd-4757-b8bc-19b9ace53d28",
   "metadata": {},
   "outputs": [
    {
     "name": "stdout",
     "output_type": "stream",
     "text": [
      "Ratio PET/PR: 4\n"
     ]
    }
   ],
   "source": [
    "# load data\n",
    "epr = pd.merge(pd.read_csv(\"ts/EA-drought_pr-24_cpc.dat\", comment = \"#\", sep = \" \", header = None, names = [\"year\", \"pr\"], index_col = \"year\"),\n",
    "               pd.read_csv(\"ts/EA-drought_pet-24_cpc.dat\", comment = \"#\", sep = \" \", header = None, names = [\"year\", \"pet\"], index_col = \"year\"),\n",
    "               left_index = True, right_index = True)\n",
    "\n",
    "epr[\"eff_pr\"] = epr.pr - epr.pet\n",
    "\n",
    "# quick check that the units look right - expect PET to be about 3-4 times PR\n",
    "print(\"Ratio PET/PR:\", int(epr.pet.mean() / epr.pr.mean()))"
   ]
  },
  {
   "cell_type": "code",
   "execution_count": 75,
   "id": "50b5f318-374d-4e8d-a7b5-6bab0865e572",
   "metadata": {},
   "outputs": [],
   "source": [
    "# compute SPEI\n",
    "spei_pars = glo.lmom_fit(epr.loc[slice(\"1980\", \"2010\"), \"eff_pr\"])\n",
    "spei24 = norm.ppf(glo.cdf(epr.eff_pr, *spei_pars.values()))"
   ]
  },
  {
   "cell_type": "code",
   "execution_count": null,
   "id": "2dffd9f2-65d7-4ebb-9464-f0863723b719",
   "metadata": {},
   "outputs": [],
   "source": [
    "## TIME SERIES FOR CLIMATE EXPLORER\n",
    "\n",
    "csv_fnm = \"ts/EA-drought_spei-24_cpc.dat\"\n",
    "if len(csv_fnm) >= 65: print(\"! Filename too long: \", csv_fnm)\n",
    "\n",
    "# create extra header lines for upload to Climate Explorer \n",
    "str1 = \"# contact :: CPC 24-month SPEI - East Africa drought 2023, c.barnes22@imperial.ac.uk\"\n",
    "str2 = \"# spei_24 [mm] accumulated standardised precipitation-evapotranspiration index at \"+re.sub(\".dat\", \"\", csv_fnm.split(\"/\")[-1])\n",
    "head = \"# year spei24\"\n",
    "\n",
    "! echo \"$str1 \" > $csv_fnm\n",
    "! echo \"$str2\" >> $csv_fnm\n",
    "! echo \"$head\" >> $csv_fnm\n",
    "\n",
    "pd.DataFrame({\"year\" : epr.index, \"spei\" : spei24}).set_index(\"year\").to_csv(csv_fnm, sep = \" \", mode = \"a\", header = False)"
   ]
  },
  {
   "cell_type": "markdown",
   "id": "f80ae486-87dd-42aa-a340-9e82fc1b4829",
   "metadata": {
    "tags": []
   },
   "source": [
    "---\n",
    "### **CenTrends + CHIRPS**\n",
    "_Blended dataset downloaded from Climate Explorer_"
   ]
  },
  {
   "cell_type": "markdown",
   "id": "23da0119-a45c-42df-bc51-76e7131f9ea9",
   "metadata": {},
   "source": [
    "#### **Precip**"
   ]
  },
  {
   "cell_type": "code",
   "execution_count": 119,
   "id": "a6a3c0a5-754a-435e-ae1a-96562f345ed7",
   "metadata": {},
   "outputs": [],
   "source": [
    "# load monthly Centrends/CHIRPS precip\n",
    "centrends = decode_times(xr.open_dataset(\"data/centrends_chirps_28-54E_-15-18N.nc\", decode_times = False)).precip.sel(time = slice(None, \"2022\"))\n",
    "\n",
    "centrends_ts = centrends.where(regionmask.mask_3D_geopandas(sf, centrends.lon, centrends.lat).squeeze(drop = True) == 1).mean([\"lat\", \"lon\"])\n",
    "\n",
    "# spatial patterns\n",
    "centrends.sel(time = [m in [3,4,5] for m in centrends.time.dt.month]).mean(\"time\").to_netcdf(\"data/ctchirps_pr-mam_spatial.nc\")\n",
    "centrends.sel(time = [m in [10,11,12] for m in centrends.time.dt.month]).mean(\"time\").to_netcdf(\"data/ctchirps_pr-ond_spatial.nc\")"
   ]
  },
  {
   "cell_type": "code",
   "execution_count": null,
   "id": "8fa40967-abc4-4ccf-9d03-23ba6e537d16",
   "metadata": {},
   "outputs": [],
   "source": [
    "# visual check of seasonal cycle against CPC (matches, so can just use daily CPC to validate models)\n",
    "cpc_sc = xr.open_dataset(\"data/cpc_pr_seasonal.nc\").precip\n",
    "\n",
    "centrends_sc = centrends_ts.sel(time = slice(\"1980\", \"2022\")).groupby(\"time.month\").mean()\n",
    "\n",
    "cpc_sc.plot(label = \"CPC\")\n",
    "plt.gca().plot([datetime(2020,int(m),15).timetuple().tm_yday for m in centrends_sc.month], centrends_sc, color = \"k\", label = \"CHIRPS\", marker = \".\")"
   ]
  },
  {
   "cell_type": "code",
   "execution_count": 123,
   "id": "ffdc42c7-ee7f-4522-9f9b-439977cad9be",
   "metadata": {},
   "outputs": [],
   "source": [
    "## TIME SERIES FOR CLIMATE EXPLORER\n",
    "\n",
    "for season in [\"mam\", \"ond\", \"24\"]:\n",
    "    \n",
    "    # get accumulated precip for required period\n",
    "    if season == \"mam\":\n",
    "        pr = centrends_ts.rolling(time = 3).sum().groupby(\"time.month\")[5]\n",
    "    elif season == \"ond\":\n",
    "        pr = centrends_ts.rolling(time = 3).sum().groupby(\"time.month\")[12]\n",
    "    elif season == \"24\":\n",
    "        pr = centrends_ts.rolling(time = 24).sum().groupby(\"time.month\")[12]\n",
    "        \n",
    "    # determine filename & text strings    \n",
    "    s_string = {\"mam\" : \"MAM\", \"ond\" : \"OND\", \"24\" : \"24m accumulated\"}[season]\n",
    "    s_str2 = {\"mam\" : \"MAM\", \"ond\" : \"OND\", \"24\" : \"2-year\"}[season]\n",
    "                    \n",
    "    csv_fnm = \"ts/EA-drought_pr-\"+season+\"_chirps05+centrends01.dat\"\n",
    "    if len(csv_fnm) >= 65: print(\"! Filename too long: \", csv_fnm)\n",
    "    \n",
    "    #create extra header lines for upload to Climate Explorer \n",
    "    str1 = \"# contact :: CenTrends 0.1deg + CHIRPS 0.5deg 12m \"+s_string+\" precip - East Africa drought 2023, c.barnes22@imperial.ac.uk\"\n",
    "    str2 = \"# pr_\"+season+\" [mm] \"+s_str2+\" accumulated precipitation at \"+re.sub(\".dat\", \"\", csv_fnm.split(\"/\")[-1])\n",
    "    head = \"# year pr_\"+season\n",
    "    \n",
    "    # make .dat file\n",
    "    ! echo \"$str1 \" > $csv_fnm\n",
    "    ! echo \"$str2\" >> $csv_fnm\n",
    "    ! echo \"$head\" >> $csv_fnm\n",
    "    pr.assign_coords(time = pr.time.dt.year).dropna(\"time\", \"any\").to_dataframe().to_csv(csv_fnm, sep = \" \", mode = \"a\", header = False)"
   ]
  },
  {
   "cell_type": "markdown",
   "id": "aabb45dc-acea-4b97-923d-bdd29fc21f7f",
   "metadata": {},
   "source": [
    "## **Models**"
   ]
  },
  {
   "cell_type": "markdown",
   "id": "8a0c6e34-2046-467d-b25d-fe588f34b2a7",
   "metadata": {},
   "source": [
    "### **CORDEX**"
   ]
  },
  {
   "cell_type": "markdown",
   "id": "66e80339-693a-46c3-8752-1112d8d0fc22",
   "metadata": {
    "tags": []
   },
   "source": [
    "#### **GMST**\n",
    "_CMIP5 global mean temperatures (tas) downloaded from Climate Explorer_"
   ]
  },
  {
   "cell_type": "code",
   "execution_count": 124,
   "id": "fdea9114-76f7-4b85-9035-ed419e67d44f",
   "metadata": {},
   "outputs": [],
   "source": [
    "# Copy CMIP5 GMST files across\n",
    "for gcm in list(set([\"_rcp85_\".join(cordex_model(fnm).split(\"_\")[:2]) for fnm in glob.glob(\"cordex/pr_*.nc\")])):\n",
    "    \n",
    "    gsat_fnm = glob.glob(\"../00_gsat/cmip5_smoothed-gsat*\"+gcm+\".dat\")\n",
    "    print(gsat_fnm)\n",
    "    \n",
    "    if len(gsat_fnm) == 0:\n",
    "        print(\"No GSAT:\", gcm)\n",
    "        continue\n",
    "\n",
    "    gsat_fnm = gsat_fnm[0]\n",
    "    new_fnm = \"ts/EA-drought_\"+re.sub(\".+Amon\", \"gsat\", gsat_fnm.split(\"/\")[-1])\n",
    "    if len(new_fnm.split(\"/\")[-1]) > 65: print(\"Filename too long:\", new_fnm)\n",
    "    \n",
    "    ! cp $gsat_fnm $new_fnm"
   ]
  },
  {
   "cell_type": "markdown",
   "id": "decc79a3-6249-4d7f-ac23-25a465586ab3",
   "metadata": {
    "tags": []
   },
   "source": [
    "#### **Detrended Nino3.4 index**\n",
    "_Nino3.4 index & tropical SSTs downloaded from Climate Explorer_"
   ]
  },
  {
   "cell_type": "code",
   "execution_count": 219,
   "id": "244d6523-ad2b-4e60-91ab-780656f4e409",
   "metadata": {
    "tags": []
   },
   "outputs": [
    {
     "name": "stdout",
     "output_type": "stream",
     "text": [
      "['../10_nino-detrended/cmip5_nino-detrended_MPI-ESM-MR_rcp85_r1.dat']\n",
      "['../10_nino-detrended/cmip5_nino-detrended_HadGEM2-ES_rcp85_r1.dat']\n",
      "['../10_nino-detrended/cmip5_nino-detrended_MIROC5_rcp85_r1.dat']\n",
      "['../10_nino-detrended/cmip5_nino-detrended_EC-EARTH_rcp85_r1.dat']\n",
      "['../10_nino-detrended/cmip5_nino-detrended_EC-EARTH_rcp85_r3.dat']\n",
      "['../10_nino-detrended/cmip5_nino-detrended_MPI-ESM-LR_rcp85_r2.dat']\n",
      "['../10_nino-detrended/cmip5_nino-detrended_MPI-ESM-LR_rcp85_r3.dat']\n",
      "['../10_nino-detrended/cmip5_nino-detrended_CanESM2_rcp85_r1.dat']\n",
      "['../10_nino-detrended/cmip5_nino-detrended_NorESM1-M_rcp85_r1.dat']\n",
      "['../10_nino-detrended/cmip5_nino-detrended_CSIRO-Mk3-6-0_rcp85_r1.dat']\n",
      "['../10_nino-detrended/cmip5_nino-detrended_IPSL-CM5A-LR_rcp85_r1.dat']\n",
      "['../10_nino-detrended/cmip5_nino-detrended_EC-EARTH_rcp85_r12.dat']\n",
      "['../10_nino-detrended/cmip5_nino-detrended_MPI-ESM-LR_rcp85_r1.dat']\n",
      "['../10_nino-detrended/cmip5_nino-detrended_GFDL-ESM2M_rcp85_r1.dat']\n",
      "['../10_nino-detrended/cmip5_nino-detrended_IPSL-CM5A-MR_rcp85_r1.dat']\n",
      "['../10_nino-detrended/cmip5_nino-detrended_CNRM-CM5_rcp85_r1.dat']\n"
     ]
    }
   ],
   "source": [
    "# compute OND Nino index\n",
    "for gcm in list(set([\"_rcp85_\".join(cordex_model(fnm).split(\"_\")[:2]) for fnm in glob.glob(\"cordex/pr_*.nc\")])):\n",
    "    \n",
    "    nino_fnm = glob.glob(\"../10_nino-detrended/cmip5_nino-detrended_\"+gcm+\".dat\")\n",
    "    if len(nino_fnm) == 0:\n",
    "        print(\"No Nino:\", gcm)\n",
    "        continue\n",
    "    print(nino_fnm)\n",
    "\n",
    "    nino = pd.read_csv(nino_fnm[0], comment = \"#\", sep = \" \", header = None, names = [\"time\", \"nino\"], index_col = [\"time\"], parse_dates = True)\n",
    "    nino_ond = nino.rolling(3, center = False).mean().loc[nino.index.month == 12]\n",
    "    nino_ond.index = nino_ond.index.year\n",
    "    \n",
    "    # filename & headers for CSV\n",
    "    csv_fnm = \"ts/EA-drought_detrended-nino-ond_\"+gcm+\".dat\"\n",
    "    if len(csv_fnm.split(\"/\")[-1]) > 65: print(\"Filename too long:\", csv_fnm)\n",
    "    \n",
    "    str1 = \"# contact :: CMIP5 \"+gcm+\" mean detrended Nino3.4 index for OND - East Africa drought 2023, c.barnes22@imperial.ac.uk\"\n",
    "    str2 = \"# nino34 [degC] Nino3.4 index detrended with Indian Ocean tropical SSTs from CVDP at \"+re.sub(\".dat\", \"\", csv_fnm.split(\"/\")[-1])\n",
    "    head = \"# year nino34\"\n",
    "\n",
    "    ! echo \"$str1 \" > $csv_fnm\n",
    "    ! echo \"$str2\" >> $csv_fnm\n",
    "    ! echo \"$head\" >> $csv_fnm\n",
    "    \n",
    "    nino_ond.to_csv(csv_fnm, sep = \" \", mode = \"a\", header = False)"
   ]
  },
  {
   "cell_type": "markdown",
   "id": "6a802636-abe6-481c-991c-316384fcd16e",
   "metadata": {},
   "source": [
    "#### **Precip**\n",
    "_Raw data downloaded from Synda_"
   ]
  },
  {
   "cell_type": "code",
   "execution_count": 124,
   "id": "aa90c5ed-46d0-4d0a-b50f-4f93f0919186",
   "metadata": {},
   "outputs": [],
   "source": [
    "## Extract time series & spatial patterns from raw data\n",
    "\n",
    "for fnm in sorted(glob.glob(\"../synda/data/CORDEX/AFR-44/*/*/*/day/pr\")):\n",
    "    \n",
    "    mdl_fl = sorted(glob.glob(fnm+\"/*.nc\"))\n",
    "    new_fnm = re.sub(\"_[0-9]{8}-\", \"_\"+mdl_fl[0][-20:-12]+\"-\", mdl_fl[-1].split(\"/\")[-1])\n",
    "    print(new_fnm)\n",
    "    \n",
    "    # skip if file already exists\n",
    "    if len(glob.glob(new_fnm)) > 0: continue\n",
    "    \n",
    "    # also skip if not both historical & RCP runs available\n",
    "    if not all([any([s in fnm for fnm in mdl_fl]) for s in [\"historical\", \"rcp85\"]]): continue\n",
    "    \n",
    "    # otherwise - carry on\n",
    "    rcp = xr.open_mfdataset([fnm for fnm in mdl_fl if \"rcp85\" in fnm]).sel(time = slice(None, \"2050\"))\n",
    "    hist = xr.open_mfdataset([fnm for fnm in mdl_fl if \"historical\" in fnm])\n",
    "    \n",
    "    if \"rlon\" in rcp.dims:\n",
    "        hist = hist.assign_coords(rlon = rcp.rlon, rlat = rcp.rlat)\n",
    "        xy_dims = [\"rlon\", \"rlat\"]\n",
    "    elif \"x\" in rcp.dims:\n",
    "        hist = hist.assign_coords(x = rcp.x, y = rcp.y)\n",
    "        xy_dims = [\"x\", \"y\"]\n",
    "    else:\n",
    "        print(hist.dims)\n",
    "        continue\n",
    "    \n",
    "    # combine historical & rcp into single array, create regionmask & larger rectangular mask\n",
    "    da = xr.concat([hist, rcp], \"time\").pr\n",
    "    rm = regionmask.mask_3D_geopandas(sf, da.lon, da.lat, drop = False).squeeze(drop = True)\n",
    "    \n",
    "    #~~~~~~~~~~~~~~~~~~~~~~~~~~~~~~~~~~~~~~~~~~~~~~~~~~~~~~~~~~~~~~~~~~~~~~~~~~~~~~~~~~~~~~~~~~~~~~~~\n",
    "                  \n",
    "    # daily time series over study region (will compute seasonal/annual indices separately)\n",
    "    ts = convert_units_to(da.where(rm == 1).mean(xy_dims), \"mm/day\")\n",
    "    ts.to_netcdf(new_fnm)\n",
    "                  \n",
    "    # seasonal cycle over the study region (obs period only)\n",
    "    sc = ts.sel(time = slice(\"1980\", \"2022\")).groupby(\"time.dayofyear\").mean()\n",
    "    sc.to_netcdf(\"sc_\"+re.sub(\"[0-9]{8}-[0-9]{8}\", \"19800101-20221231\", new_fnm))\n",
    "    \n",
    "    # spatial pattern over larger rectangular region (obs period only)\n",
    "    sp_mask = np.logical_and(np.logical_and(da.lat > -15, da.lat < 18), np.logical_and(da.lon > 28, da.lon < 54))\n",
    "    sp = da.where(rm == 1).dropna(xy_dims[0], \"all\").dropna(xy_dims[1], \"all\").sel(time = slice(\"1980\", \"2022\"))\n",
    "    \n",
    "    # check spatial patterns for short & long rains separately\n",
    "    sp.sel(time = [m in [10,11,12] for m in sp.time.dt.month]).mean(\"time\").to_netcdf(\"sp-ond_\"+re.sub(\"[0-9]{8}-[0-9]{8}\", \"19800101-20221231\", new_fnm))\n",
    "    sp.sel(time = [m in [3,4,5] for m in sp.time.dt.month]).mean(\"time\").to_netcdf(\"sp-mam_\"+re.sub(\"[0-9]{8}-[0-9]{8}\", \"19800101-20221231\", new_fnm))"
   ]
  },
  {
   "cell_type": "code",
   "execution_count": 124,
   "id": "f98dd0d2-eeaa-4df5-8618-1854b8b274c4",
   "metadata": {},
   "outputs": [],
   "source": [
    "## TIME SERIES FOR CLIMATE EXPLORER\n",
    "\n",
    "for fnm in glob.glob(\"cordex/pr_*.nc\"):\n",
    "    \n",
    "    ds = convert_calendar(xr.open_dataset(fnm).pr.resample(time = \"MS\").sum(), \"default\", align_on = \"date\")\n",
    "    mdl = cordex_model(fnm)\n",
    "     \n",
    "    for season in [\"mam\", \"ond\", \"24\"]:\n",
    "        \n",
    "        s_string = {\"mam\" : \"MAM\", \"ond\" : \"OND\", \"24\" : \"24m accumulated\"}[season]\n",
    "        s_str2 = {\"mam\" : \"MAM\", \"ond\" : \"OND\", \"24\" : \"2-year\"}[season]\n",
    "        \n",
    "        csv_fnm = \"ts/EA-drought_pr-\"+season+\"_\"+fnm.split(\"_\")[1]+\"_\"+cordex_model(fnm)+\".dat\"\n",
    "        if len(csv_fnm) >= 65: print(\"! Filename too long: \", csv_fnm)\n",
    "        \n",
    "        # create  header lines\n",
    "        str1 = \"# contact :: CORDEX \"+re.sub(\"_day.+\", \"\", re.sub(\".+pr_\", \"\", fnm))+\" \"+s_string+\" precip - East Africa drought 2023, c.barnes22@imperial.ac.uk\"\n",
    "        str2 = \"# pr_\"+season+\" [mm] \"+s_str2+\" accumulated precipitation at \"+re.sub(\".dat\", \"\", csv_fnm.split(\"/\")[-1])\n",
    "        head = \"# year pr_\"+season\n",
    "        \n",
    "        ! echo \"$str1 \" > $csv_fnm\n",
    "        ! echo \"$str2\" >> $csv_fnm\n",
    "        ! echo \"$head\" >> $csv_fnm\n",
    "        \n",
    "        # get 3-month accumulated precip\n",
    "        if season == \"mam\":\n",
    "            pr = ds.rolling(time = 3).sum().groupby(\"time.month\")[5]\n",
    "        elif season == \"ond\":\n",
    "            pr = ds.rolling(time = 3).sum().groupby(\"time.month\")[12]\n",
    "        elif season == \"24\":\n",
    "            pr = ds.rolling(time = 24).sum().groupby(\"time.month\")[12]\n",
    "        \n",
    "        pr.assign_coords(time = pr.time.dt.year).dropna(\"time\", \"any\").to_dataframe().to_csv(csv_fnm, sep = \" \", mode = \"a\", header = False)"
   ]
  },
  {
   "cell_type": "markdown",
   "id": "a90444af-e2c6-4f11-9aa8-cda9c6846fc3",
   "metadata": {},
   "source": [
    "#### **Temperature & Thornthwaite PET, SPEI**\n",
    "_Raw data downloaded from Synda_\n"
   ]
  },
  {
   "cell_type": "code",
   "execution_count": null,
   "id": "72b96821-ca28-45dd-9c52-c1533b208666",
   "metadata": {},
   "outputs": [],
   "source": [
    "## Extract time series & spatial patterns from raw data\n",
    "\n",
    "for fpath in glob.glob(\"../synda/data/CORDEX/AFR-*/*/*/*/day/tas\"):\n",
    "    \n",
    "    mdl_fl = sorted(glob.glob(fpath+\"/*.nc\"))\n",
    "    new_fnm = re.sub(\"_[0-9]{8}-\", \"_\"+mdl_fl[0][-20:-12]+\"-\", mdl_fl[-1].split(\"/\")[-1])\n",
    "    print(new_fnm)\n",
    "    \n",
    "    # also skip if not both historical & RCP runs available\n",
    "    if not all([any([s in fnm for fnm in mdl_fl]) for s in [\"historical\", \"rcp85\"]]): continue\n",
    "        \n",
    "    # skip if file already exists\n",
    "    if len(glob.glob(new_fnm)) > 0: continue\n",
    "        \n",
    "    # otherwise - carry on\n",
    "    rcp = convert_calendar(xr.open_mfdataset([fnm for fnm in mdl_fl if \"rcp85\" in fnm]).sel(time = slice(None, \"2050\")), \"default\", align_on = \"year\")\n",
    "    hist = convert_calendar(xr.open_mfdataset([fnm for fnm in mdl_fl if \"historical\" in fnm]), \"default\", align_on = \"year\")\n",
    "\n",
    "    if \"rlon\" in rcp.dims:\n",
    "        hist = hist.assign_coords(rlon = rcp.rlon, rlat = rcp.rlat)\n",
    "        xy_dims = [\"rlon\", \"rlat\"]\n",
    "    elif \"x\" in rcp.dims:\n",
    "        hist = hist.assign_coords(x = rcp.x, y = rcp.y)\n",
    "        xy_dims = [\"x\", \"y\"]\n",
    "    else:\n",
    "        print(hist.dims)\n",
    "        continue\n",
    "    \n",
    "    # combine historical & rcp into single array, create regionmask & larger rectangular mask\n",
    "    da = convert_units_to(xr.concat([hist, rcp], \"time\").tas, \"degC\")\n",
    "    rm = regionmask.mask_3D_geopandas(sf, da.lon, da.lat, drop = False).squeeze(drop = True)\n",
    "    \n",
    "    #~~~~~~~~~~~~~~~~~~~~~~~~~~~~~~~~~~~~~~~~~~~~~~~~~~~~~~~~~~~~~~~~~~~~~~~~~~~~~~~~~~~~~~~~~~~~~~~~\n",
    "    \n",
    "    # PET averaged over the study region\n",
    "    pet = convert_units_to(potential_evapotranspiration(tas = da, method = \"thornthwaite48\"), \"mm/day\", context = \"hydro\").rename(\"pet\")\n",
    "    pet_ts = pet.where(rm == 1).mean(xy_dims)\n",
    "    pet_ts.to_netcdf(re.sub(\"tas\", \"pet\", new_fnm))\n",
    "\n",
    "    # spatial pattern over larger rectangular region (obs period only)\n",
    "    sp_mask = np.logical_and(np.logical_and(da.lat > -15, da.lat < 18), np.logical_and(da.lon > 28, da.lon < 54))\n",
    "    sp = da.where(sp_mask == 1).dropna(xy_dims[0], \"all\").dropna(xy_dims[1], \"all\").sel(time = slice(\"1980\", \"2022\"))\n",
    "    sp.to_netcdf(\"sp_\"+re.sub(\"[0-9]{8}-[0-9]{8}\", \"19800101-20221231\", new_fnm))\n",
    "    \n",
    "    # seasonal cycle over the study region (obs period only)\n",
    "    sc = da.where(rm == 1).mean(xy_dims).sel(time = slice(\"1980\", \"2022\")).groupby(\"time.dayofyear\").mean()\n",
    "    sc.to_netcdf(\"sc_\"+re.sub(\"[0-9]{8}-[0-9]{8}\", \"19800101-20221231\", new_fnm))"
   ]
  },
  {
   "cell_type": "code",
   "execution_count": 124,
   "id": "5195d49b-1a2b-4269-9b39-659e713d75ed",
   "metadata": {},
   "outputs": [],
   "source": [
    "## TIME SERIES FOR CLIMATE EXPLORER\n",
    "\n",
    "for fnm in glob.glob(\"cordex/pet_*.nc\"):\n",
    "    \n",
    "    csv_fnm = \"ts/EA-drought_pet-24_\"+fnm.split(\"_\")[1]+\"_\"+cordex_model(fnm)+\".dat\"\n",
    "    if len(csv_fnm) >= 65: print(\"! Filename too long: \", csv_fnm)\n",
    "    \n",
    "    # create  header lines\n",
    "    str1 = \"# contact :: CORDEX \"+fnm.split(\"_\")[1]+\" \"+cordex_model(fnm)+\" 24-month accumulated PET - East Africa drought 2023, c.barnes22@imperial.ac.uk\"\n",
    "    str2 = \"# pet_24 [mm] accumulated potential evapotranspiration (Thornthwaite) at \"+re.sub(\".dat\", \"\", csv_fnm.split(\"/\")[-1])\n",
    "    head = \"# year pet_24\"\n",
    "    \n",
    "    ! echo \"$str1 \" > $csv_fnm\n",
    "    ! echo \"$str2\" >> $csv_fnm\n",
    "    ! echo \"$head\" >> $csv_fnm\n",
    "        \n",
    "    pet = convert_units_to(xr.open_dataset(fnm).pet, \"mm/month\").rolling(time = 24).sum().groupby(\"time.month\")[12].reset_coords(drop = True)\n",
    "    pet = pet.assign_coords(time = pet.time.dt.year).dropna(\"time\", \"any\").to_dataframe()\n",
    "    pet.to_csv(csv_fnm, sep = \" \", mode = \"a\", header = False)\n",
    "    \n",
    "    #~~~~~~~~~~~~~~~~~~~~~~~~~~~~~~~~~~~~~~~~~~~~~~~~#\n",
    "        \n",
    "    pr = pd.read_csv(re.sub(\"pet\", \"pr\", csv_fnm), comment = \"#\", sep = \" \", header = None, names = [\"year\", \"pr\"], index_col = 0)\n",
    "    df = pd.merge(pr, pet, left_index = True, right_index = True)\n",
    "    df[\"eff_pr\"] = df.pr - df.pet\n",
    "    \n",
    "    spei_pars = glo.lmom_fit(df.loc[slice(\"1980\", \"2010\"), \"eff_pr\"]).values()\n",
    "    spei = norm.ppf(glo.cdf(np.array(df.eff_pr.values), *spei_pars))\n",
    "    \n",
    "    str1 = re.sub(\"accumulated PET\", \"spei\", str1)\n",
    "    str2 = re.sub(\"potential evapotranspiration (Thornthwaite)\", \"SPEI_24\", str2)\n",
    "    head = re.sub(\"pet\", \"spei\", head)\n",
    "    csv_fnm = re.sub(\"pet\", \"spei\", csv_fnm)\n",
    "    \n",
    "    ! echo \"$str1 \" > $csv_fnm\n",
    "    ! echo \"$str2\" >> $csv_fnm\n",
    "    ! echo \"$head\" >> $csv_fnm\n",
    "    \n",
    "    pd.DataFrame({\"year\" : df.index, \"spei\" : spei}).set_index(\"year\").to_csv(csv_fnm, sep = \" \", mode = \"a\", header = False)"
   ]
  },
  {
   "cell_type": "markdown",
   "id": "e8211aa4-de73-4168-a8b6-b8243ea1f27d",
   "metadata": {},
   "source": [
    "#### **Model PET (evspsblpot)**\n",
    "_Raw data downloaded from Synda_"
   ]
  },
  {
   "cell_type": "code",
   "execution_count": null,
   "id": "04151a1f-5494-4e67-b7e8-5e871c62a7fc",
   "metadata": {},
   "outputs": [],
   "source": [
    "## TIME SERIES FOR CLIMATE EXPLORER\n",
    "\n",
    "for fpath in glob.glob(\"../synda/data/CORDEX/AFR-*/*/*/*/day/evspsblpot\"):\n",
    "    \n",
    "    mdl_fl = sorted(glob.glob(fpath+\"/*.nc\"))\n",
    "    new_fnm = re.sub(\"_[0-9]{8}-\", \"_\"+mdl_fl[0][-20:-12]+\"-\", mdl_fl[-1].split(\"/\")[-1])\n",
    "    print(new_fnm)\n",
    "    \n",
    "    # also skip if not both historical & RCP runs available\n",
    "    if not all([any([s in fnm for fnm in mdl_fl]) for s in [\"historical\", \"rcp85\"]]): continue\n",
    "        \n",
    "    # skip if file already exists\n",
    "    if len(glob.glob(new_fnm)) > 0: continue\n",
    "        \n",
    "    # otherwise - carry on\n",
    "    rcp = convert_calendar(xr.open_mfdataset([fnm for fnm in mdl_fl if \"rcp85\" in fnm]).sel(time = slice(None, \"2050\")), \"default\", align_on = \"year\")\n",
    "    hist = convert_calendar(xr.open_mfdataset([fnm for fnm in mdl_fl if \"historical\" in fnm]), \"default\", align_on = \"year\")\n",
    "\n",
    "    if \"rlon\" in rcp.dims:\n",
    "        hist = hist.assign_coords(rlon = rcp.rlon, rlat = rcp.rlat)\n",
    "        xy_dims = [\"rlon\", \"rlat\"]\n",
    "    elif \"x\" in rcp.dims:\n",
    "        hist = hist.assign_coords(x = rcp.x, y = rcp.y)\n",
    "        xy_dims = [\"x\", \"y\"]\n",
    "    else:\n",
    "        print(hist.dims)\n",
    "        continue\n",
    "    \n",
    "    # combine historical & rcp into single array, create regionmask\n",
    "    da = convert_units_to(xr.concat([hist, rcp], \"time\").evspsblpot, \"mm/day\", context = \"hydro\")\n",
    "    rm = regionmask.mask_3D_geopandas(sf, da.lon, da.lat, drop = False).squeeze(drop = True)\n",
    "    \n",
    "    # get daily time series over study region\n",
    "    ts = da.where(rm == 1).mean(xy_dims)\n",
    "    ts.to_netcdf(new_fnm)"
   ]
  },
  {
   "cell_type": "markdown",
   "id": "4817bf38-ed46-417c-a3c6-9772b2b926af",
   "metadata": {},
   "source": [
    "## **HighResMIP**\n",
    "\n",
    "_Monthly precip & temperature data provided by Sihan Li_"
   ]
  },
  {
   "cell_type": "markdown",
   "id": "947bf7f6-62a1-42d7-9cd7-b0e80a29a083",
   "metadata": {
    "tags": []
   },
   "source": [
    "#### **Precipitation indices**"
   ]
  },
  {
   "cell_type": "code",
   "execution_count": 144,
   "id": "7e310642-f7a0-4652-9903-f4bd286db624",
   "metadata": {},
   "outputs": [],
   "source": [
    "# seasonal cycle & spatial patterns\n",
    "\n",
    "for fnm in glob.glob(\"highresmip/*_pr_Amon*.nc\"):\n",
    "    \n",
    "    pr = convert_units_to(xr.open_dataset(fnm).pr, \"mm/month\").sel(time = slice(\"1980\", \"2022\"))\n",
    "    \n",
    "    new_fnm = re.sub(\"_[0-9]{6}-[0-9]{6}\", \"198001-202212\", fnm)\n",
    "    \n",
    "    pr.sel(time = [m in [3,4,5] for m in pr.time.dt.month]).mean(\"time\").to_netcdf(re.sub(\"_pr_\", \"_sp-pr-mam_\", new_fnm))\n",
    "    pr.sel(time = [m in [10,11,12] for m in pr.time.dt.month]).mean(\"time\").to_netcdf(re.sub(\"_pr_\", \"_sp-pr-ond_\", new_fnm))\n",
    "    \n",
    "    pr.where(regionmask.mask_3D_geopandas(sf, pr.lon, pr.lat, drop = False).squeeze(drop = True) == 1).mean([\"lat\", \"lon\"]).groupby(\"time.month\").mean().to_netcdf(re.sub(\"_pr_\", \"_sc-pr_\", new_fnm))\n",
    "    "
   ]
  },
  {
   "cell_type": "code",
   "execution_count": 38,
   "id": "19af5762-4816-4fcb-91b3-6fb52b78a216",
   "metadata": {},
   "outputs": [],
   "source": [
    "## TIME SERIES FOR CLIMATE EXPLORER\n",
    "\n",
    "for fnm in glob.glob(\"highresmip/*_pr_Amon*.nc\"):\n",
    "    \n",
    "    # load data, get monthly time series of mean precip over study region\n",
    "    da = convert_units_to(convert_calendar(xr.open_dataset(fnm).pr, \"default\", align_on = \"date\"), \"mm/month\")\n",
    "    ts = da.where(regionmask.mask_3D_geopandas(sf, da.lon, da.lat, drop = False).squeeze(drop = True) == 1).mean([\"lat\", \"lon\"])\n",
    "    \n",
    "    for season in [\"mam\", \"ond\", \"24\"]:\n",
    "        \n",
    "        # get accumulated precip\n",
    "        if season == \"mam\":\n",
    "            pr = ts.rolling(time = 3).sum().groupby(\"time.month\")[5]\n",
    "        elif season == \"ond\":\n",
    "            pr = ts.rolling(time = 3).sum().groupby(\"time.month\")[12]\n",
    "        elif season == \"24\":\n",
    "            pr = ts.rolling(time = 24).sum().groupby(\"time.month\")[12]\n",
    "        \n",
    "        # create filename & check length\n",
    "        csv_fnm = \"ts/EA-drought_pr-\"+season+\"_highresSST_\"+fnm.split(\"_\")[4]+\".dat\"\n",
    "        if len(csv_fnm) >= 65: print(\"! Filename too long: \", csv_fnm)\n",
    "        \n",
    "        # create  header lines\n",
    "        s_string = {\"mam\" : \"MAM\", \"ond\" : \"OND\", \"24\" : \"24m accumulated\"}[season]\n",
    "        s_str2 = {\"mam\" : \"MAM\", \"ond\" : \"OND\", \"24\" : \"2-year\"}[season]\n",
    "        \n",
    "        str1 = \"# contact :: HighResMIP \"+fnm.split(\"_\")[4]+\" \"+s_string+\" precip - East Africa drought 2023, c.barnes22@imperial.ac.uk\"\n",
    "        str2 = \"# pr_\"+season+\" [mm] \"+s_str2+\" accumulated precipitation at \"+re.sub(\".dat\", \"\", csv_fnm.split(\"/\")[-1])\n",
    "        head = \"# year pr_\"+season\n",
    "        \n",
    "        # create .dat file with required headers\n",
    "        ! echo \"$str1 \" > $csv_fnm\n",
    "        ! echo \"$str2\" >> $csv_fnm\n",
    "        ! echo \"$head\" >> $csv_fnm\n",
    "        pr.assign_coords(time = pr.time.dt.year).dropna(\"time\", \"any\").to_dataframe().to_csv(csv_fnm, sep = \" \", mode = \"a\", header = False)"
   ]
  },
  {
   "cell_type": "markdown",
   "id": "52faeb00-1243-4f46-ac1d-c88dbebc479a",
   "metadata": {
    "tags": []
   },
   "source": [
    "#### **Thornthwaite PET & SPEI**"
   ]
  },
  {
   "cell_type": "code",
   "execution_count": 145,
   "id": "2de40780-b92b-44fa-8583-5915d64bcef6",
   "metadata": {},
   "outputs": [],
   "source": [
    "# seasonal cycle & spatial patterns\n",
    "\n",
    "for fnm in glob.glob(\"highresmip/*_tas_Amon*.nc\"):\n",
    "    \n",
    "    tas = convert_units_to(xr.open_dataset(fnm).tas, \"degC\").sel(time = slice(\"1980\", \"2022\"))\n",
    "    \n",
    "    new_fnm = re.sub(\"_[0-9]{6}-[0-9]{6}\", \"198001-202212\", fnm)\n",
    "    \n",
    "    tas.mean(\"time\").to_netcdf(re.sub(\"_tas_\", \"_sp-tas_\", new_fnm))\n",
    "    tas.where(regionmask.mask_3D_geopandas(sf, tas.lon, tas.lat, drop = False).squeeze(drop = True) == 1).mean([\"lat\", \"lon\"]).groupby(\"time.month\").mean().to_netcdf(re.sub(\"_tas_\", \"_sc-tas_\", new_fnm))\n",
    "    "
   ]
  },
  {
   "cell_type": "code",
   "execution_count": null,
   "id": "f7c3583e-2348-44ca-8e4c-2979d0e73846",
   "metadata": {},
   "outputs": [],
   "source": [
    "## TIME SERIES FOR CLIMATE EXPLORER\n",
    "\n",
    "for fnm in sorted(glob.glob(\"highresmip/*_tas_Amon*.nc\")):\n",
    "    \n",
    "    # load data, compute PET & get monthly time series of mean PET over study region (resampling used to convert times for use by PET method)\n",
    "    da = convert_calendar(xr.open_dataset(fnm).tas.reset_coords(drop = True), \"default\", align_on = \"date\")\n",
    "    pet = convert_units_to(potential_evapotranspiration(tas = da, method = \"TW48\").rename(\"pet\"), \"mm/month\").resample(time = \"MS\").mean()\n",
    "    ts = pet.where(regionmask.mask_3D_geopandas(sf, pet.lon, pet.lat, drop = False).squeeze(drop = True) == 1).mean([\"lat\", \"lon\"])\n",
    "    \n",
    "    # get accumulated PET (have to reconvert calendar to convert times from timestamp to datetime)\n",
    "    ts_24m = convert_calendar(ts.rolling(time = 24).sum().groupby(\"time.month\")[12], \"default\", align_on = \"date\")\n",
    "    \n",
    "    # create filename & check length\n",
    "    csv_fnm = \"ts/EA-drought_pet-24_highresSST_\"+fnm.split(\"_\")[4]+\".dat\"\n",
    "    if len(csv_fnm) >= 65: print(\"! Filename too long: \", csv_fnm)\n",
    "    \n",
    "    # create  header lines\n",
    "    str1 = \"# contact :: HighResMIP \"+fnm.split(\"_\")[4]+\" 24-month accumulated PET - East Africa drought 2023, c.barnes22@imperial.ac.uk\"\n",
    "    str2 = \"# pet_24 [mm] accumulated potential evapotranspiration (Thornthwaite) at \"+re.sub(\".dat\", \"\", csv_fnm.split(\"/\")[-1])\n",
    "    head = \"# year pet_24\"\n",
    "    \n",
    "    # create .dat file with required headers\n",
    "    ! echo \"$str1 \" > $csv_fnm\n",
    "    ! echo \"$str2\" >> $csv_fnm\n",
    "    ! echo \"$head\" >> $csv_fnm\n",
    "    ts_24m.assign_coords(time = ts_24m.time.dt.year).dropna(\"time\", \"any\").to_dataframe().to_csv(csv_fnm, sep = \" \", mode = \"a\", header = False)\n",
    "    \n",
    "    #~~~~~~~~~~~~~~~~~~~~~~~~~~~~~~~~~~~~~~~~~~~~~~~~~~~~~~~~~~~~~~~~~~~~~~~~~~~~~~~~~~~~\n",
    "    ## SPEI\n",
    "    \n",
    "    # get time series of 24-month accumulated precip (resampling used to align dates on first of month)\n",
    "    pr = convert_units_to(convert_calendar(xr.open_dataset(re.sub(\"tas\", \"pr\", fnm)).pr, \"default\", align_on = \"date\"), \"mm/month\").resample(time = \"MS\").mean()\n",
    "    pr_24m = pr.where(regionmask.mask_3D_geopandas(sf, pr.lon, pr.lat, drop = False).squeeze(drop = True) == 1).mean([\"lat\", \"lon\"]).rolling(time = 24).sum().groupby(\"time.month\")[12]\n",
    "    eff_pr = (pr_24m - ts_24m).dropna(\"time\", \"any\")\n",
    "    \n",
    "    # get SPEI calibration parameters & compute SPEI time series\n",
    "    spei_pars = glo.lmom_fit(eff_pr.sel(time = slice(\"1980\", \"2010\")).copy()).values()\n",
    "    spei = norm.ppf(glo.cdf(eff_pr, *spei_pars))\n",
    "    \n",
    "    # modify headers & filename for SPEI\n",
    "    csv_fnm = re.sub(\"pet\", \"spei\", csv_fnm)\n",
    "    str1 = re.sub(\"accumulated PET\", \"SPEI\", str1)\n",
    "    str2 = re.sub(\"potential evapotranspiration (Thornthwaite)\", \"SPEI_24\", str2)\n",
    "    head = re.sub(\"pet\", \"spei\", head)\n",
    "    \n",
    "    # create .dat file with required headers\n",
    "    ! echo \"$str1 \" > $csv_fnm\n",
    "    ! echo \"$str1 \" > $csv_fnm\n",
    "    ! echo \"$str2\" >> $csv_fnm\n",
    "    ! echo \"$head\" >> $csv_fnm\n",
    "    pd.DataFrame({\"year\" : eff_pr.time.dt.year, \"spei\" : spei}).set_index(\"year\").to_csv(csv_fnm, sep = \" \", mode = \"a\", header = False)"
   ]
  }
 ],
 "metadata": {
  "kernelspec": {
   "display_name": "Python [conda env:wwa]",
   "language": "python",
   "name": "conda-env-wwa-py"
  },
  "language_info": {
   "codemirror_mode": {
    "name": "ipython",
    "version": 3
   },
   "file_extension": ".py",
   "mimetype": "text/x-python",
   "name": "python",
   "nbconvert_exporter": "python",
   "pygments_lexer": "ipython3",
   "version": "3.10.8"
  }
 },
 "nbformat": 4,
 "nbformat_minor": 5
}
