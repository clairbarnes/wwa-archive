{
 "cells": [
  {
   "cell_type": "markdown",
   "id": "7f864a4c-cbf9-454f-bc57-fb7f817c8cfc",
   "metadata": {},
   "source": [
    "# **Agricultural drought in central South America - preparing model data for analysis**"
   ]
  },
  {
   "cell_type": "code",
   "execution_count": 1,
   "id": "5dc77952-2df1-47e1-b956-1787989223ed",
   "metadata": {},
   "outputs": [],
   "source": [
    "import sys; sys.path.append('/home/clair/wwa'); from wwa import *; from wwa_indices import get_spi"
   ]
  },
  {
   "cell_type": "markdown",
   "id": "37c2716d-2e5d-45bc-b3ab-d0735c8ec8c1",
   "metadata": {},
   "source": [
    "---\n",
    "## **Pre-processing**\n",
    "Time series, spatial patterns & seasonal cycle all extracted from data downloaded using synda"
   ]
  },
  {
   "cell_type": "markdown",
   "id": "f26453f1-b3f1-4093-8823-000af794b3a3",
   "metadata": {},
   "source": [
    "---\n",
    "### **CORDEX**"
   ]
  },
  {
   "cell_type": "markdown",
   "id": "dd6457cf-60f2-48f4-8a38-c724139878c0",
   "metadata": {},
   "source": [
    "#### **Seasonal cycle**\n"
   ]
  },
  {
   "cell_type": "markdown",
   "id": "d048b64c-dbfa-4b94-ad1a-8f57f039906c",
   "metadata": {},
   "source": [
    "#### **Spatial pattern**\n",
    "Using CPC as reference - agrees very closely with MSWEP, also gives temperature data if looking at SPEI\n"
   ]
  },
  {
   "cell_type": "code",
   "execution_count": null,
   "id": "49c88afc-3049-4ea1-a97a-8ac6e407dbb1",
   "metadata": {},
   "outputs": [],
   "source": []
  }
 ],
 "metadata": {
  "kernelspec": {
   "display_name": "Python [conda env:wwa]",
   "language": "python",
   "name": "conda-env-wwa-py"
  },
  "language_info": {
   "codemirror_mode": {
    "name": "ipython",
    "version": 3
   },
   "file_extension": ".py",
   "mimetype": "text/x-python",
   "name": "python",
   "nbconvert_exporter": "python",
   "pygments_lexer": "ipython3",
   "version": "3.10.8"
  }
 },
 "nbformat": 4,
 "nbformat_minor": 5
}
