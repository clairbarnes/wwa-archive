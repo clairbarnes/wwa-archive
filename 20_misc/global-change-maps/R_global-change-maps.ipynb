{
 "cells": [
  {
   "cell_type": "code",
   "execution_count": 1,
   "id": "892a273c-ed5f-4ecc-a7cf-1fc4a2b82c52",
   "metadata": {},
   "outputs": [],
   "source": [
    "source(\"../../../wwa/methods_extRemes.r\")"
   ]
  },
  {
   "cell_type": "code",
   "execution_count": 8,
   "id": "40182a72-7361-491f-853f-a343fd2a7a4f",
   "metadata": {},
   "outputs": [
    {
     "data": {
      "text/html": [
       "<style>\n",
       ".list-inline {list-style: none; margin:0; padding: 0}\n",
       ".list-inline>li {display: inline-block}\n",
       ".list-inline>li:not(:last-child)::after {content: \"\\00b7\"; padding: 0 .5ex}\n",
       "</style>\n",
       "<ol class=list-inline><li>0.1635417</li><li>0.1635417</li></ol>\n"
      ],
      "text/latex": [
       "\\begin{enumerate*}\n",
       "\\item 0.1635417\n",
       "\\item 0.1635417\n",
       "\\end{enumerate*}\n"
      ],
      "text/markdown": [
       "1. 0.1635417\n",
       "2. 0.1635417\n",
       "\n",
       "\n"
      ],
      "text/plain": [
       "[1] 0.1635417 0.1635417"
      ]
     },
     "metadata": {},
     "output_type": "display_data"
    }
   ],
   "source": [
    "gmst <- read.csv(\"../../../wwa/90_data/gmst.csv\", row.names = \"year\")\n",
    "gmst <- gmst - gmst[\"2022\",\"gmst\"]+1.2\n",
    "range(gmst[sapply(1950, toString),])"
   ]
  },
  {
   "cell_type": "markdown",
   "id": "fb339d14-dc17-48ba-98e6-492eb9068fc3",
   "metadata": {},
   "source": [
    "### **Max likelihood estimates at each grid cell**"
   ]
  },
  {
   "cell_type": "markdown",
   "id": "042d8d2f-0d34-41e5-9c2c-e30d2d00fb65",
   "metadata": {},
   "source": [
    "#### **ML fit at each grid cell**"
   ]
  },
  {
   "cell_type": "code",
   "execution_count": 98,
   "id": "7a61e9da-a12f-4418-9554-52b1d8ebbe03",
   "metadata": {},
   "outputs": [],
   "source": [
    "gmst <- read.csv(\"../../../wwa/90_data/gmst.csv\", row.names = \"year\")\n",
    "\n",
    "times <- sapply(list.files(\"data\"), function(fnm) {\n",
    "\n",
    "    era5 <- read.csv(paste0(\"data/\", fnm), skip = 3, header = F, row.names = \"V1\")\n",
    "    df <- merge(gmst, era5, by = \"row.names\")\n",
    "    row.names(df) = df$Row.names\n",
    "    \n",
    "    # fit model to each grid cell (takes about a minute per file, on average)\n",
    "    system.time({\n",
    "        mle_gev = lapply(colnames(df)[-(1:2)], function(cnm) {\n",
    "            \n",
    "            if(sum(is.na(df[,cnm])) > 2) {\n",
    "                return(NULL)\n",
    "            } else {\n",
    "                df_c = setNames(df[,c(\"gmst\",cnm)], c(\"gmst\", \"tmax\"))\n",
    "                df_c = df_c[!is.na(df_c$tmax),]\n",
    "                return(suppressWarnings(fevd(x=tmax, data=df_c, location.fun=~gmst, type=\"GEV\", optim.args = list(method = \"Nelder-Mead\"))))\n",
    "            }\n",
    "        })\n",
    "        save(mle_gev, file = paste0(\"fitted/\", gsub(\"csv\", \"\", gsub(\"flattened\", \"shift-ml-ests\", fnm)),\"Rdata\"))\n",
    "    })[\"elapsed\"]\n",
    "})"
   ]
  },
  {
   "cell_type": "markdown",
   "id": "2ea1dcda-139a-490a-ae3f-4760c12afb97",
   "metadata": {},
   "source": [
    "#### **Get pars, return levels**"
   ]
  },
  {
   "cell_type": "code",
   "execution_count": 2,
   "id": "f9500007-dd29-4322-bbaa-553641ec367f",
   "metadata": {},
   "outputs": [],
   "source": [
    "invisible(sapply(list.files(\"fitted\", pattern = \".Rdata\", full.names = T), function(fnm) {\n",
    "    load(fnm)\n",
    "    \n",
    "    # parameter estimates, event value, return period\n",
    "    ml_res <- data.frame(t(do.call(\"rbind\", lapply(1:length(mle_gev), function(i) {\n",
    "        if(is.null(mle_gev[[i]])) {\n",
    "            return(rep(NA,10))\n",
    "        } else {\n",
    "            mdl <- mle_gev[[i]]\n",
    "            \n",
    "            pars <- mdl$results$par\n",
    "            \n",
    "            gmst_1950 <- mdl$cov.data[\"1950\", \"gmst\"]\n",
    "            gmst_1980 <- mdl$cov.data[\"1980\", \"gmst\"]\n",
    "            gmst_2022 <- mdl$cov.data[\"2022\", \"gmst\"]\n",
    "            \n",
    "            rl20 <- setNames(unname(sapply(c(gmst_2022 - 1.2, gmst_1950, gmst_1980, gmst_2022, gmst_2022 + 0.8), return_level, mdl = mdl, rp = 20)),\n",
    "                             c(\"pi\", \"1950\", \"1980\", \"2022\", \"fut\"))\n",
    "            \n",
    "            nll = mdl$results$value\n",
    "            \n",
    "            return(c(pars, rl20, \"nll\" = nll))\n",
    "        }\n",
    "    }))))\n",
    "    write.csv(ml_res, gsub(\"Rdata\", \"csv\", fnm))\n",
    "}))"
   ]
  },
  {
   "cell_type": "code",
   "execution_count": null,
   "id": "902823e8-2301-498c-a14a-3150d6c42889",
   "metadata": {},
   "outputs": [],
   "source": []
  }
 ],
 "metadata": {
  "kernelspec": {
   "display_name": "R [conda env:r_env]",
   "language": "R",
   "name": "conda-env-r_env-r"
  },
  "language_info": {
   "codemirror_mode": "r",
   "file_extension": ".r",
   "mimetype": "text/x-r-source",
   "name": "R",
   "pygments_lexer": "r",
   "version": "4.2.2"
  }
 },
 "nbformat": 4,
 "nbformat_minor": 5
}
