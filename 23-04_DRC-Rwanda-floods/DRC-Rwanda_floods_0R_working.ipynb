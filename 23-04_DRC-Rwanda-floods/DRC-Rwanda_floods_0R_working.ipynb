{
 "cells": [
  {
   "cell_type": "markdown",
   "id": "832c8d7a-4d77-4fb4-ae43-a486058ba3a5",
   "metadata": {},
   "source": [
    "# **Flooding in DRC/Rwanda - working code for trend analysis**"
   ]
  },
  {
   "cell_type": "code",
   "execution_count": 2,
   "id": "f4ade436-4382-4821-ae82-401ddd6b9b06",
   "metadata": {},
   "outputs": [],
   "source": [
    "source(\"../00_model-fitting/wwa_model-fitting.R\")\n",
    "\n",
    "variable = \"rx5day-mam\"\n",
    "region = \"shapefile\"\n",
    "region_name = \"DRC/Rwanda region\""
   ]
  },
  {
   "cell_type": "code",
   "execution_count": 3,
   "id": "c9752fd2-72b8-4a19-9970-d186078a7aca",
   "metadata": {},
   "outputs": [],
   "source": [
    "# loop over gridded obs products, fit GEV\n",
    "gmst <- load_ts(\"ts/drc-rw-floods_gmst-smoothed.dat\", col.names = c(\"year\", \"gmst\"))\n",
    "\n",
    "obs_fitted <- sapply(c(\"mswep\", \"chirps\", \"cpc\", \"era5\", \"tamsat\"), function(fnm) {\n",
    "    df <- merge(gmst, load_ts(paste0(\"ts/drc-rw-floods_\",variable,\"_\", fnm, \"_\", region,\".dat\"), col.names = c(\"year\", \"pr\")))\n",
    "    fit_ns(\"gev\", \"fixeddisp\", df, \"pr\", \"gmst\", lower = F)\n",
    "}, simplify = F)\n",
    "\n",
    "# set covariates\n",
    "gmst_2023 <- gmst$gmst[gmst$year == 2023]"
   ]
  },
  {
   "cell_type": "code",
   "execution_count": 4,
   "id": "22b315df-afe9-4f51-86b4-d9941ed087bb",
   "metadata": {},
   "outputs": [],
   "source": [
    "set.seed(42)\n",
    "obs_ci <- t(sapply(obs_fitted, function(mdl) {\n",
    "    zz <- boot_ci(mdl, cov = gmst_2023, cov_cf = gmst_2023 - 1.2, nsamp = 1000)\n",
    "    unlist(sapply(rownames(zz), function(a) c(zz[a,]), simplify = F))\n",
    "}))\n",
    "write.csv(obs_ci, paste0(\"res-obs_\", variable, \"_\", region, \".csv\"))"
   ]
  },
  {
   "cell_type": "code",
   "execution_count": 4,
   "id": "5ca6eefd-3a6a-4122-a517-f518317b506f",
   "metadata": {},
   "outputs": [
    {
     "data": {
      "text/html": [
       "<strong>png:</strong> 2"
      ],
      "text/latex": [
       "\\textbf{png:} 2"
      ],
      "text/markdown": [
       "**png:** 2"
      ],
      "text/plain": [
       "png \n",
       "  2 "
      ]
     },
     "metadata": {},
     "output_type": "display_data"
    }
   ],
   "source": [
    "# return level plots\n",
    "prep_window(c(2,3))\n",
    "\n",
    "png(paste0(\"fig/obs_return-levels_\",variable,\"_\",region,\".png\"), width = 540*3, height = 540*2); {\n",
    "    par(mfrow = c(2,3), cex = 1.4, lwd = 3, oma = c(0,0,2,0))\n",
    "    invisible(sapply(1:5, function(i) {\n",
    "        mdl <- obs_fitted[[i]]\n",
    "        plot_returnlevels(mdl, cov = gmst_2023, cov_cf = gmst_2023 - 1.2, legend_pos = NA, nsamp = 500, main = names(obs_fitted)[i], ylim = c(20,200))\n",
    "    }))\n",
    "    plot.new()\n",
    "    legend(\"left\", legend = c(\"Present climate\", \"Counterfactual climate\", \"Observed event\"), col = c(\"firebrick\", \"blue\", \"magenta\"), lty = 1, pch = c(20,20,NA), bty = \"n\")\n",
    "    mtext(paste0(\"Return level plots for \",variable,\" over \",region_name,\" region\"), outer = T, cex = 2, font = 2)\n",
    "}; dev.off()"
   ]
  },
  {
   "cell_type": "code",
   "execution_count": 5,
   "id": "f2420cea-bac2-444f-b2d5-efb72004cef3",
   "metadata": {},
   "outputs": [
    {
     "data": {
      "text/html": [
       "<strong>png:</strong> 2"
      ],
      "text/latex": [
       "\\textbf{png:} 2"
      ],
      "text/markdown": [
       "**png:** 2"
      ],
      "text/plain": [
       "png \n",
       "  2 "
      ]
     },
     "metadata": {},
     "output_type": "display_data"
    }
   ],
   "source": [
    "# trend plots\n",
    "prep_window(c(2,3))\n",
    "\n",
    "png(paste0(\"fig/obs_trend_\",variable,\"_\",region,\".png\"), width = 540*3, height = 540*2); {\n",
    "    par(mfrow = c(2,3), cex = 1.4, lwd = 3, oma = c(0,0,2,0))\n",
    "    invisible(sapply(1:5, function(i) {\n",
    "        mdl <- obs_fitted[[i]]\n",
    "        plot_trend(mdl, main = names(obs_fitted)[i], legend_pos = NA)\n",
    "    }))\n",
    "    plot.new()\n",
    "    legend(\"left\", legend = c(\"location\", \"1-in-6-year event\", \"1-in-40-year event\"), lty = 1, col = c(\"black\", \"blue\", \"blue\"), lwd = c(2,2,1), bty = \"n\")\n",
    "    mtext(paste0(\"Trend in \",variable,\" over \",region_name,\" region\"), outer = T, cex = 2, font = 2)\n",
    "}; dev.off()"
   ]
  },
  {
   "cell_type": "code",
   "execution_count": 6,
   "id": "645a7215-81b3-479d-b318-dca942718219",
   "metadata": {},
   "outputs": [
    {
     "data": {
      "text/html": [
       "<strong>png:</strong> 2"
      ],
      "text/latex": [
       "\\textbf{png:} 2"
      ],
      "text/markdown": [
       "**png:** 2"
      ],
      "text/plain": [
       "png \n",
       "  2 "
      ]
     },
     "metadata": {},
     "output_type": "display_data"
    }
   ],
   "source": [
    "# GMST trend plots\n",
    "prep_window(c(1,5))\n",
    "\n",
    "png(paste0(\"fig/obs_gmst-trend_\",variable,\"_\",region,\".png\"), width = 540*3, height = 540*2); {\n",
    "    par(mfrow = c(2,3), cex = 1.4, lwd = 3, oma = c(0,0,2,0))\n",
    "    invisible(sapply(1:5, function(i) {\n",
    "        mdl <- obs_fitted[[i]]\n",
    "        plot_gmsttrend(mdl, cov = gmst_2023, cov_cf = gmst_2023 - 1.2, main = names(obs_fitted)[i], legend_pos = NA)\n",
    "    }))\n",
    "    plot.new()\n",
    "    legend(\"left\", legend = c(\"location\", \"1-in-6-year event\", \"1-in-40-year event\"), lty = 1, col = c(\"black\", \"blue\", \"blue\"), lwd = c(2,2,1), bty = \"n\")\n",
    "    mtext(paste0(\"GMST trend in \",variable,\" over \",region_name,\" region\"), outer = T, cex = 2, font = 2)\n",
    "}; dev.off()"
   ]
  },
  {
   "cell_type": "markdown",
   "id": "75e079ec-81f7-46c9-a097-e45a6b0e23f0",
   "metadata": {},
   "source": [
    "---\n",
    "## **MAM precip (Gaussian)**"
   ]
  },
  {
   "cell_type": "code",
   "execution_count": 7,
   "id": "861df589-5656-4794-b6fd-5a323d647aff",
   "metadata": {},
   "outputs": [],
   "source": [
    "variable = \"mam\"\n",
    "region = \"26_31_-5_2\"\n",
    "region_name = \"26E-31E, 5S-2N\""
   ]
  },
  {
   "cell_type": "code",
   "execution_count": 8,
   "id": "765f0ed6-2647-4b10-8dbb-8dd09cf89c92",
   "metadata": {},
   "outputs": [],
   "source": [
    "# loop over models, fit GEV\n",
    "gmst <- load_ts(\"ts/drc-rw-floods_gmst-smoothed.dat\", col.names = c(\"year\", \"gmst\"))\n",
    "\n",
    "obs_fitted <- sapply(c(\"mswep\", \"chirps\", \"cpc\", \"era5\", \"tamsat\"), function(fnm) {\n",
    "    df <- merge(gmst, load_ts(paste0(\"ts/drc-rw-floods_\",variable,\"_\", fnm, \"_\", region,\".dat\"), col.names = c(\"year\", \"pr\")))\n",
    "    fit_ns(\"norm\", \"fixeddisp\", df, \"pr\", \"gmst\", lower = F)\n",
    "}, simplify = F)\n",
    "\n",
    "# set covariates\n",
    "gmst_2023 <- gmst$gmst[gmst$year == 2023]"
   ]
  },
  {
   "cell_type": "code",
   "execution_count": 9,
   "id": "760c34f2-e98f-4b1a-91df-808c634fcf25",
   "metadata": {},
   "outputs": [],
   "source": [
    "obs_ci <- t(sapply(obs_fitted, function(mdl) {\n",
    "    zz <- boot_ci(mdl, cov = gmst_2023, cov_cf = gmst_2023 - 1.2, nsamp = 50)\n",
    "    unlist(sapply(rownames(zz), function(a) c(zz[a,]), simplify = F))\n",
    "}))\n",
    "write.csv(obs_ci, paste0(\"res-obs_\", variable, \"_\", region, \".csv\"))"
   ]
  },
  {
   "cell_type": "code",
   "execution_count": 10,
   "id": "499553ed-8da7-4d48-96c1-0cf53f45202d",
   "metadata": {},
   "outputs": [
    {
     "data": {
      "text/html": [
       "<strong>png:</strong> 2"
      ],
      "text/latex": [
       "\\textbf{png:} 2"
      ],
      "text/markdown": [
       "**png:** 2"
      ],
      "text/plain": [
       "png \n",
       "  2 "
      ]
     },
     "metadata": {},
     "output_type": "display_data"
    }
   ],
   "source": [
    "# return level plots\n",
    "prep_window(c(2,3))\n",
    "\n",
    "png(paste0(\"fig/obs_return-levels_\",variable,\"_\",region,\".png\"), width = 540*3, height = 540*2); {\n",
    "    par(mfrow = c(2,3), cex = 1.4, lwd = 3, oma = c(0,0,2,0))\n",
    "    invisible(sapply(1:5, function(i) {\n",
    "        mdl <- obs_fitted[[i]]\n",
    "        plot_returnlevels(mdl, cov = gmst_2023, cov_cf = gmst_2023 - 1.2, legend_pos = NA, nsamp = 500, main = names(obs_fitted)[i], ylim = c(200,1200))\n",
    "    }))\n",
    "    plot.new()\n",
    "    legend(\"left\", legend = c(\"Present climate\", \"Counterfactual climate\", \"Observed event\"), col = c(\"firebrick\", \"blue\", \"magenta\"), lty = 1, pch = c(20,20,NA), bty = \"n\")\n",
    "    mtext(paste0(\"Return level plots for \",variable,\" over \",region_name,\" region\"), outer = T, cex = 2, font = 2)\n",
    "}; dev.off()"
   ]
  },
  {
   "cell_type": "code",
   "execution_count": 11,
   "id": "be0dccc9-bd50-4846-8391-8d7ab65c9beb",
   "metadata": {},
   "outputs": [
    {
     "data": {
      "text/html": [
       "<strong>png:</strong> 2"
      ],
      "text/latex": [
       "\\textbf{png:} 2"
      ],
      "text/markdown": [
       "**png:** 2"
      ],
      "text/plain": [
       "png \n",
       "  2 "
      ]
     },
     "metadata": {},
     "output_type": "display_data"
    }
   ],
   "source": [
    "# trend plots\n",
    "prep_window(c(2,3))\n",
    "\n",
    "png(paste0(\"fig/obs_trend_\",variable,\"_\",region,\".png\"), width = 540*3, height = 540*2); {\n",
    "    par(mfrow = c(2,3), cex = 1.4, lwd = 3, oma = c(0,0,2,0))\n",
    "    invisible(sapply(1:5, function(i) {\n",
    "        mdl <- obs_fitted[[i]]\n",
    "        plot_trend(mdl, main = names(obs_fitted)[i], legend_pos = NA)\n",
    "    }))\n",
    "    plot.new()\n",
    "    legend(\"left\", legend = c(\"location\", \"1-in-6-year event\", \"1-in-40-year event\"), lty = 1, col = c(\"black\", \"blue\", \"blue\"), lwd = c(2,2,1), bty = \"n\")\n",
    "    mtext(paste0(\"Trend in \",variable,\" over \",region_name,\" region\"), outer = T, cex = 2, font = 2)\n",
    "}; dev.off()"
   ]
  },
  {
   "cell_type": "code",
   "execution_count": 12,
   "id": "6fb6f23e-b657-4e8d-b413-a259ecb0e6c0",
   "metadata": {},
   "outputs": [
    {
     "data": {
      "text/html": [
       "<strong>png:</strong> 2"
      ],
      "text/latex": [
       "\\textbf{png:} 2"
      ],
      "text/markdown": [
       "**png:** 2"
      ],
      "text/plain": [
       "png \n",
       "  2 "
      ]
     },
     "metadata": {},
     "output_type": "display_data"
    }
   ],
   "source": [
    "# GMST trend plots\n",
    "prep_window(c(1,5))\n",
    "\n",
    "png(paste0(\"fig/obs_gmst-trend_\",variable,\"_\",region,\".png\"), width = 540*3, height = 540*2); {\n",
    "    par(mfrow = c(2,3), cex = 1.4, lwd = 3, oma = c(0,0,2,0))\n",
    "    invisible(sapply(1:5, function(i) {\n",
    "        mdl <- obs_fitted[[i]]\n",
    "        plot_gmsttrend(mdl, cov = gmst_2023, cov_cf = gmst_2023 - 1.2, main = names(obs_fitted)[i], legend_pos = NA)\n",
    "    }))\n",
    "    plot.new()\n",
    "    legend(\"left\", legend = c(\"location\", \"1-in-6-year event\", \"1-in-40-year event\"), lty = 1, col = c(\"black\", \"blue\", \"blue\"), lwd = c(2,2,1), bty = \"n\")\n",
    "    mtext(paste0(\"GMST trend in \",variable,\" over \",region_name,\" region\"), outer = T, cex = 2, font = 2)\n",
    "}; dev.off()"
   ]
  },
  {
   "cell_type": "code",
   "execution_count": null,
   "id": "f7566fd7-070e-4465-993b-61bc2ffd08ad",
   "metadata": {},
   "outputs": [],
   "source": []
  }
 ],
 "metadata": {
  "kernelspec": {
   "display_name": "R [conda env:r_env]",
   "language": "R",
   "name": "conda-env-r_env-r"
  },
  "language_info": {
   "codemirror_mode": "r",
   "file_extension": ".r",
   "mimetype": "text/x-r-source",
   "name": "R",
   "pygments_lexer": "r",
   "version": "4.2.2"
  }
 },
 "nbformat": 4,
 "nbformat_minor": 5
}
