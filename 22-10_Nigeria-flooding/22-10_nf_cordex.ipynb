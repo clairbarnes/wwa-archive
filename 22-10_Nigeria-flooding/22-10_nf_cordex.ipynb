{
 "cells": [
  {
   "cell_type": "code",
   "execution_count": 1,
   "metadata": {},
   "outputs": [],
   "source": [
    "import glob, re, regionmask, geopandas as gpd, numpy as np, xarray as xr\n",
    "xr.set_options(keep_attrs = True)\n",
    "\n",
    "from xclim.core.units import convert_units_to\n",
    "\n",
    "#~~~~~~~~~~~~~~~~~~~~~~~~~~~~~~~~~~~~~~~~~~~~~~~~~~~~~~~~~~~~~~~~~~~~~~~~~~~~~~~~~~~~~~~~~~~~~~~~~~~~~~~~~~~~~~~\n",
    "def wrap_lon(ds):\n",
    "    \n",
    "    # if dataset longitudes are defined as 0:360, wrap the data from -180:180\n",
    "    if ds.lon.max() > 350:\n",
    "        ds[\"lon\"] = (ds.lon.dims, (((ds.lon.values + 180) % 360) - 180), ds.lon.attrs)\n",
    "        \n",
    "        # can only reindex if lon is a dimension - if only a coordinate, should already be in correct order\n",
    "        if \"lon\" in ds.dims:\n",
    "            ds = ds.reindex({ \"lon\" : np.sort(ds.lon) })\n",
    "    return ds"
   ]
  },
  {
   "cell_type": "code",
   "execution_count": 2,
   "metadata": {},
   "outputs": [],
   "source": [
    "# define variable & units\n",
    "varnm = \"pr\"\n",
    "var_units = \"mm/day\"\n",
    "\n",
    "# define study region\n",
    "sr_lon = [2,25]\n",
    "sr_lat = [4,17]\n",
    "\n",
    "# also larger region for spatial patterns\n",
    "sp_lon = [-13,27]\n",
    "sp_lat = [-5,25]\n",
    "obs_dates = slice(\"1981\", \"2022\")"
   ]
  },
  {
   "cell_type": "markdown",
   "metadata": {},
   "source": [
    "---\n",
    "### **Extract time series & monthly spatial patterns from raw data**\n",
    "```\n",
    "synda install domain=AFR-44,AFR-22 frequency=day variable=pr experiment=rcp85,historical\n",
    "```"
   ]
  },
  {
   "cell_type": "code",
   "execution_count": 6,
   "metadata": {},
   "outputs": [
    {
     "name": "stdout",
     "output_type": "stream",
     "text": [
      "../synda/data/cordex/output/AFR-44/ICTP/MPI-M-MPI-ESM-MR/rcp85/r1i1p1/RegCM4-3/v4/day/pr: lagdo chad niger \n",
      "Done.\n"
     ]
    }
   ],
   "source": [
    "afr44 = sorted(set([re.sub(\"historical\", \"rcp85\", fnm) for fnm in glob.glob(\"../synda/data/cordex/output/AFR-44/*/*/*/*/*/*/day/pr\")]))\n",
    "afr22 = sorted(set([re.sub(\"historical\", \"rcp85\", fnm) for fnm in glob.glob(\"../synda/data/cordex/output/AFR-22/*/*/*/*/*/*/day/pr\")]))\n",
    "\n",
    "sf_chad = gpd.read_file(\"sf_lake-chad\")\n",
    "sf_lagdo = gpd.read_file(\"sf_lagdo-dam\")\n",
    "sf_niger = gpd.read_file(\"sf_lower-niger\")\n",
    "\n",
    "for fpath in (afr44 + afr22)[11:12]:\n",
    "    \n",
    "    print(fpath, end = \": \")\n",
    "    \n",
    "    # list all files (RCP85 & historical)\n",
    "    fl_hist = sorted(glob.glob(re.sub(\"rcp85\", \"historical\", fpath)+\"/*/*.nc\"))\n",
    "    fl_rcp = sorted(glob.glob(fpath+\"/*/*.nc\"))\n",
    "    \n",
    "    # check that files actually exist\n",
    "    if len(fl_hist + fl_rcp) == 0: \n",
    "        print(\"no files\")\n",
    "        continue\n",
    "    if len(fl_hist) == 0:\n",
    "        print(\"no historical data\")\n",
    "        continue\n",
    "    if len(fl_rcp) == 0: \n",
    "        print(\"no scenario data\")\n",
    "        continue\n",
    "    \n",
    "    # construct new filename\n",
    "    ts_fnm = re.sub(\"historical\", \"hist-rcp85\", \"cordex/\"+re.sub(\"-[0-9]{8}\", \"-\"+fl_rcp[-1][-11:-3], fl_hist[0].split(\"/\")[-1]))\n",
    "    sp_fnm = re.sub(\"[0-9]{8}-[0-9]{8}\", \"-\".join([obs_dates.start, obs_dates.stop]), re.sub(varnm, varnm+\"-spatial\", ts_fnm))    \n",
    "    \n",
    "#     if len(glob.glob(re.sub(\"day_.+\", \"*\", re.sub(\"spatial\", \"*\", sp_fnm)))) == 4:\n",
    "#         print(\"already processed\")\n",
    "#         continue\n",
    "        \n",
    "    # load the data separately (some files need units fixing)\n",
    "    da_hist = convert_units_to(xr.open_mfdataset(fl_hist)[varnm], var_units)\n",
    "    da_rcp = convert_units_to(xr.open_mfdataset(fl_rcp)[varnm], var_units)\n",
    "    \n",
    "    # fix persistent unit errors (some files have precip in kg/m/s even after conversion)\n",
    "    if varnm == \"pr\":\n",
    "        if da_hist.max() < 0.1: da_hist = da_hist * 86400\n",
    "        if da_rcp.max() < 0.1: da_rcp = da_rcp * 86400\n",
    "            \n",
    "    da = wrap_lon(xr.concat([da_hist, da_rcp], \"time\"))\n",
    "    \n",
    "    try:\n",
    "        xy_dims = da.cf.axes[\"X\"] + da.cf.axes[\"Y\"]\n",
    "    except:\n",
    "        if \"rlat\" in da.dims:\n",
    "            xy_dims = [\"rlat\", \"rlon\"]\n",
    "        elif \"x\" in da.dims:\n",
    "            xy_dims = [\"x\", \"y\"]\n",
    "        else:\n",
    "            print(\"xy_dims undefined\")\n",
    "            continue\n",
    "            \n",
    "    # record files used (including version number)\n",
    "    da = da.assign_attrs(file_list = \", \".join([re.sub(\".+\"+varnm+\"/\", \"\", fnm) for fnm in fl_hist + fl_rcp]))\n",
    "        \n",
    "    for rnm in [\"lagdo\", \"chad\", \"niger\"]:\n",
    "        \n",
    "        r_fnm = re.sub(varnm, varnm+\"-\"+rnm, ts_fnm)\n",
    "\n",
    "        # skip if time series already exists\n",
    "        if len(glob.glob(r_fnm)) >= 0:\n",
    "            \n",
    "            rm = regionmask.mask_3D_geopandas(eval(\"sf_\"+rnm), da.lon, da.lat, drop = False).squeeze(drop = True)\n",
    "            ts = da.where(rm).mean(xy_dims)\n",
    "            ts.to_netcdf(r_fnm)\n",
    "            print(rnm, end = \" \")\n",
    "        \n",
    "#     # skip if spatial pattern already exists\n",
    "#     if len(glob.glob(sp_fnm)) == 0:\n",
    "#         # extract region for evaluation of spatial patterns\n",
    "#         spatial_region = np.logical_and(np.logical_and(ds.lat >= sp_lat[0], ds.lat <= sp_lat[1]), np.logical_and(ds.lon >= sp_lon[0], ds.lon <= sp_lon[1]))\n",
    "#         sp = pr.where(spatial_region == 1).sel(time = obs_dates).groupby(\"time.month\").mean().dropna(xy_dims[0], \"all\").dropna(xy_dims[1], \"all\")\n",
    "#         sp.to_netcdf(sp_fnm)\n",
    "#         print(\"spatial\", end = \" \")\n",
    "        \n",
    "    print(\"\")\n",
    "    \n",
    "print(\"Done.\")"
   ]
  },
  {
   "cell_type": "code",
   "execution_count": null,
   "metadata": {},
   "outputs": [],
   "source": []
  }
 ],
 "metadata": {
  "kernelspec": {
   "display_name": "Python [conda env:wwa_prep]",
   "language": "python",
   "name": "conda-env-wwa_prep-py"
  },
  "language_info": {
   "codemirror_mode": {
    "name": "ipython",
    "version": 3
   },
   "file_extension": ".py",
   "mimetype": "text/x-python",
   "name": "python",
   "nbconvert_exporter": "python",
   "pygments_lexer": "ipython3",
   "version": "3.10.6"
  }
 },
 "nbformat": 4,
 "nbformat_minor": 2
}
