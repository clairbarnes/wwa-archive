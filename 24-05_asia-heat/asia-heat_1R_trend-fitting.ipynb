{
 "cells": [
  {
   "cell_type": "code",
   "execution_count": 1,
   "id": "d4ed0004-634d-4f5c-90e1-82ce44829641",
   "metadata": {},
   "outputs": [
    {
     "name": "stderr",
     "output_type": "stream",
     "text": [
      "Skipping install of 'rwwa' from a github remote, the SHA1 (a428e9e0) has not changed since last install.\n",
      "  Use `force = TRUE` to force installation\n",
      "\n",
      "Loading required package: extRemes\n",
      "\n",
      "Loading required package: Lmoments\n",
      "\n",
      "Loading required package: distillery\n",
      "\n",
      "\n",
      "Attaching package: ‘extRemes’\n",
      "\n",
      "\n",
      "The following objects are masked from ‘package:stats’:\n",
      "\n",
      "    qqnorm, qqplot\n",
      "\n",
      "\n",
      "Loading required package: plyr\n",
      "\n",
      "\n",
      "Attaching package: ‘plyr’\n",
      "\n",
      "\n",
      "The following object is masked from ‘package:distillery’:\n",
      "\n",
      "    is.formula\n",
      "\n",
      "\n"
     ]
    }
   ],
   "source": [
    "devtools::install_github(\"clairbarnes/rwwa\")\n",
    "library(rwwa)"
   ]
  },
  {
   "cell_type": "markdown",
   "id": "89bb31b3-4cb5-4bc7-b722-3c253630acd0",
   "metadata": {
    "tags": []
   },
   "source": [
    "# Linear trend per grid cell"
   ]
  },
  {
   "cell_type": "markdown",
   "id": "730a9cd0-4d71-4b8d-9435-567b556c9524",
   "metadata": {},
   "source": [
    "## West Asia"
   ]
  },
  {
   "cell_type": "code",
   "execution_count": 13,
   "id": "bedd3080-75d3-48f6-a419-325de66c5cc0",
   "metadata": {},
   "outputs": [],
   "source": [
    "gmst <- read.table(\"data/gmst.txt\", col.names = c(\"year\", \"gmst\"))\n",
    "gmst$gmst <- gmst$gmst - gmst$gmst[gmst$year == 2024]\n",
    "\n",
    "cov_2023 <- data.frame(gmst = gmst$gmst[gmst$year == 2024])\n",
    "cov_cf <- rbind(\"hist\" = cov_2023 - c(1.2, 0))"
   ]
  },
  {
   "cell_type": "code",
   "execution_count": 23,
   "id": "bc29a451-0826-47a7-813e-44628eac9593",
   "metadata": {},
   "outputs": [],
   "source": [
    "ds <- \"era5\"\n",
    "fnm <- paste0(\"data/\",ds,\"_WA_flattened.csv\")\n",
    "\n",
    "df <- read.csv(fnm, skip = 3, header = F)\n",
    "colnames(df)[1] <- \"year\"\n",
    "df <- merge(gmst, df)"
   ]
  },
  {
   "cell_type": "code",
   "execution_count": 24,
   "id": "be9bf844-739d-40b6-b45d-01f4514eff3f",
   "metadata": {},
   "outputs": [],
   "source": [
    "# fit nonstationary model to all grid cells\n",
    "models <- sapply(colnames(df)[grepl(\"V[0-9]\",colnames(df))], function(cnm) {\n",
    "    df_c <- df[,c(\"year\", \"gmst\", cnm)]\n",
    "    tryCatch(fit_ns(\"gev\", \"shift\", df_c, cnm, c(\"gmst\"), lower = F), error = function(cond) {return(NULL)})\n",
    "}, simplify = F)"
   ]
  },
  {
   "cell_type": "code",
   "execution_count": 25,
   "id": "a1f9a62e-00b9-4317-a0b6-980b269a9512",
   "metadata": {},
   "outputs": [],
   "source": [
    "fitted_res <- sapply(models, function(mdl) {\n",
    "    if(is.null(unlist(mdl)[1])) { return(rep(NA, 10)) } else { mdl_ests(mdl, cov_f = cov_2023, cov_cf = cov_cf) } \n",
    "}, simplify = T)\n",
    "fitted_res <- rbind(fitted_res)\n",
    "write.csv(fitted_res, paste0(\"res/res_\",ds, \"_WA_gridded.csv\"))"
   ]
  },
  {
   "cell_type": "markdown",
   "id": "137c514e-899f-4b73-8d39-7de226b40709",
   "metadata": {},
   "source": [
    "## East Asia"
   ]
  },
  {
   "cell_type": "code",
   "execution_count": 10,
   "id": "291be397-2d7d-49a9-ac35-f53f26269dee",
   "metadata": {},
   "outputs": [],
   "source": [
    "gmst <- read.table(\"data/gmst.txt\", col.names = c(\"year\", \"gmst\"))\n",
    "gmst$gmst <- gmst$gmst - gmst$gmst[gmst$year == 2024]\n",
    "\n",
    "nino <- read.csv(\"data/nino_djf.csv\", col.names = c(\"year\", \"nino\"))\n",
    "\n",
    "cov_2023 <- data.frame(gmst = gmst$gmst[gmst$year == 2024], nino = nino$nino[nino$year == 2024])\n",
    "cov_cf <- rbind(\"hist\" = cov_2023 - c(1.2, 0), \"neut\" = c(cov_2023$gmst, 0))"
   ]
  },
  {
   "cell_type": "code",
   "execution_count": null,
   "id": "c2733560-2519-4aff-865d-97521c8cab59",
   "metadata": {},
   "outputs": [],
   "source": [
    "ds <- \"era5\"\n",
    "fnm <- paste0(\"data/\",ds,\"_EA_flattened.csv\")\n",
    "\n",
    "df <- read.csv(fnm, skip = 3, header = F)\n",
    "colnames(df)[1] <- \"year\"\n",
    "df <- merge(merge(nino, gmst), df)\n",
    "\n",
    "# fit nonstationary model to all grid cells\n",
    "models <- sapply(colnames(df)[grepl(\"V[0-9]\",colnames(df))], function(cnm) {\n",
    "    df_c <- df[,c(\"year\", \"gmst\", \"nino\", cnm)]\n",
    "    tryCatch(fit_ns(\"gev\", \"shift\", df_c, cnm, c(\"gmst\", \"nino\"), lower = F), error = function(cond) {return(NULL)})\n",
    "}, simplify = F)"
   ]
  },
  {
   "cell_type": "code",
   "execution_count": null,
   "id": "ee1c1519-68c0-48b4-b31f-16267f812f1a",
   "metadata": {},
   "outputs": [],
   "source": [
    "# get all model resuls & save as .csv to be reconstructed & plotted in python\n",
    "fitted_res <- sapply(models, function(mdl) {\n",
    "    if(is.null(unlist(mdl)[1])) { return(rep(NA, 14)) } else { mdl_ests(mdl, cov_f = cov_2023, cov_cf = cov_cf) } \n",
    "}, simplify = T)\n",
    "\n",
    "write.csv(fitted_res, paste0(\"res/res_\",ds, \"_EA_gridded.csv\"))"
   ]
  },
  {
   "cell_type": "code",
   "execution_count": null,
   "id": "6711713f-c6bc-4591-82fc-716c3b8ed91e",
   "metadata": {},
   "outputs": [],
   "source": []
  }
 ],
 "metadata": {
  "kernelspec": {
   "display_name": "R [conda env:r_env]",
   "language": "R",
   "name": "conda-env-r_env-r"
  },
  "language_info": {
   "codemirror_mode": "r",
   "file_extension": ".r",
   "mimetype": "text/x-r-source",
   "name": "R",
   "pygments_lexer": "r",
   "version": "4.2.3"
  }
 },
 "nbformat": 4,
 "nbformat_minor": 5
}
