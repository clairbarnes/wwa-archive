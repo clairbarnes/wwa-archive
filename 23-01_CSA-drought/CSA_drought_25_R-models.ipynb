{
 "cells": [
  {
   "cell_type": "markdown",
   "id": "d0123182-5724-43fb-9182-669f9ea21de6",
   "metadata": {},
   "source": [
    "# **Agricultural drought in central South America - trend analysis**"
   ]
  },
  {
   "cell_type": "code",
   "execution_count": 1,
   "id": "7044725d-989f-4cae-8a65-e70470160d5f",
   "metadata": {},
   "outputs": [],
   "source": [
    "source(\"../methods_extRemes.r\")\n",
    "\n",
    "# method to obtain 95% confidence interval by bootstrapping\n",
    "boot_ci <- function(mdl, rp, cov1, cov2, nsamp = 10000, lower = F) {\n",
    "    \n",
    "    n <- length(mdl$x)\n",
    "    \n",
    "    boot_sample <- rbind.fill(sapply(1:nsamp, function(i) {\n",
    "        \n",
    "        # resample & refit model\n",
    "        boot_df <- mdl$cov.data[sample(1:n,n,replace = T),]\n",
    "        suppressWarnings(boot_fit <- flnorm(\"precip\", \"gmst\", boot_df, type = \"fixeddisp\", method = \"MLE\"))\n",
    "        \n",
    "        # compute required quantities for bootstrap (dispersion, PR, delta_I, delta_logI)\n",
    "        pars_now <- sgev_pars(boot_fit, cov1)\n",
    "        disp <- pars_now$scale / pars_now$loc\n",
    "        \n",
    "        rl <- return_level(boot_fit, rp, cov1, lower = lower)\n",
    "        rlhist <- return_level(boot_fit, rp, cov2, lower = lower)\n",
    "        \n",
    "        pr <- prob_ratio(boot_fit, rl, cov1, cov2, lower = lower)\n",
    "        \n",
    "        dI <- delta_I(boot_fit, rp, cov1, cov2, rel = T, lower = lower)   \n",
    "        dlogI <- (log(rl) - log(rlhist)) / log(rlhist) * 100\n",
    "        \n",
    "        as.data.frame(list(\"disp\" = disp, \"pr\" = pr, \"delta_I\" = dI, \"delta_logI\" = dlogI))\n",
    "        \n",
    "    }, simplify = F))\n",
    "    return(apply(boot_sample, 2, quantile, c(0.025, 0.975)))\n",
    "}"
   ]
  },
  {
   "cell_type": "markdown",
   "id": "3f7e3516-0701-42c4-8322-18cefc8f9964",
   "metadata": {},
   "source": [
    "---\n",
    "## **CORDEX OND precip**"
   ]
  },
  {
   "cell_type": "code",
   "execution_count": 2,
   "id": "990c1994-f1bc-48bd-86f2-b5755c296544",
   "metadata": {},
   "outputs": [],
   "source": [
    "gsats = list('CCCma-CanESM2' = \"CanESM2\", 'CNRM-CERFACS-CNRM-CM5' = \"CNRM-CM5\", 'CSIRO-QCCCE-CSIRO-Mk3-6-0' = \"CSIRO-Mk3-6-0\", 'ICHEC-EC-EARTH' = \"EC-EARTH\",\n",
    "             'IPSL-IPSL-CM5A-MR' = \"IPSL-CM5A-LR\", 'MIROC-MIROC5' = \"MIROC5\", 'MPI-M-MPI-ESM-LR' = \"MPI-ESM-LR\", \"MOHC-HadGEM2-ES\" = \"HadGEM2-ES\",\n",
    "             \"NCC-NorESM1-M\" = \"NorESM1-M\", \"NOAA-GFDL-GFDL-ESM2M\" = \"GFDL-ESM2G\", \"MPI-M-MPI-ESM-MR\" = \"MPI-ESM-MR\")"
   ]
  },
  {
   "cell_type": "code",
   "execution_count": null,
   "id": "3c2076be-0a97-4812-85eb-ce01af251fd1",
   "metadata": {},
   "outputs": [],
   "source": [
    "rp <- 20\n",
    "\n",
    "cordex_pr_ond <- rbind.fill(sapply(list.files(\"ts\", pattern = \"pr-ond_SAM\"), function(fnm) {\n",
    "    \n",
    "    set.seed(1)\n",
    "    \n",
    "    # print(fnm)\n",
    "    if(grepl(\"r12i1p1\", fnm)) {\n",
    "        gmst_fnm <- '/home/clair/wwa/00_gsat/cordex_tas_Amon_EC-EARTH_rcp85_r12i1p1.dat'\n",
    "    } else {\n",
    "        gcm <- strsplit(fnm, \"_\")[[1]][4]\n",
    "        gmst_fnm <- list.files(\"/home/clair/wwa/00_gsat\", pattern = gsats[[gcm]], full.names = T)\n",
    "    }\n",
    "        \n",
    "    if(length(gmst_fnm) == 0) {return(NULL)}\n",
    "    \n",
    "    # load data + GCM GMST into a single dataframe\n",
    "    df <- read.csv(paste0(\"ts/\", fnm), comment.char = \"#\", header = F, sep = \" \", col.names = c(\"year\", \"precip\"))\n",
    "    gmst <- read.fwf(gmst_fnm, comment.char = \"#\", widths = c(5,15), col.names = c(\"year\", \"gmst\"))\n",
    "    df <- merge(gmst, df)\n",
    "    row.names(df) <- df$year\n",
    "    \n",
    "    event_gmst <- df[\"2022\", \"gmst\"]\n",
    "    \n",
    "    mdl_eval <- flnorm(\"precip\", \"gmst\", df[df$year >= 1980 & df$year <= 2022,], type = \"fixeddisp\", method = \"MLE\")  # obs period only\n",
    "    mdl_attr <- flnorm(\"precip\", \"gmst\", df[df$year <= 2022,], type = \"fixeddisp\", method = \"MLE\")                    # up to present day\n",
    "    mdl_proj <- flnorm(\"precip\", \"gmst\", df[df$year <= 2050,], type = \"fixeddisp\", method = \"MLE\")                    # up to 2050\n",
    "    \n",
    "    # parameters from evaluation fit: just dispersion (& event value for reference)\n",
    "    eval_pars_now <- sgev_pars(mdl_eval, event_gmst)\n",
    "    eval_disp <- eval_pars_now$scale / eval_pars_now$loc                                # needs bootstrapping\n",
    "    eval_rl <- return_level(mdl_eval, rp, event_gmst, lower = T)\n",
    "    \n",
    "    # parameters from attribution fit:\n",
    "    attr_rl <- return_level(mdl_attr, rp, event_gmst, lower = T)\n",
    "    attr_rlhist <- return_level(mdl_attr, rp, event_gmst - 1.2, lower = T)\n",
    "    attr_rphist <- return_period(mdl_attr, attr_rl, event_gmst - 1.2, lower = T)\n",
    "    attr_pars_now <- sgev_pars(mdl_attr, event_gmst)\n",
    "    attr_disp <- attr_pars_now$scale / attr_pars_now$loc       \n",
    "    attr_pr <- prob_ratio(mdl_attr, attr_rl, event_gmst, event_gmst - 1.2, lower = T)\n",
    "    attr_dI <- delta_I(mdl_attr, rp, event_gmst, event_gmst - 1.2, rel = T, lower = T)   \n",
    "    attr_dlogI <- (log(attr_rl) - log(attr_rlhist)) / log(attr_rlhist) * 100\n",
    "    \n",
    "    # parameters from future projection:\n",
    "    proj_rl <- return_level(mdl_proj, rp, event_gmst, lower = T)\n",
    "    proj_rlfut <- return_level(mdl_proj, rp, event_gmst + 0.8, lower = T)\n",
    "    proj_rpfut <- return_period(mdl_proj, proj_rl, event_gmst + 0.8, lower = T)\n",
    "    proj_pars_now <- sgev_pars(mdl_proj, event_gmst)\n",
    "    proj_disp <- proj_pars_now$scale / proj_pars_now$loc       \n",
    "    proj_pr <- prob_ratio(mdl_proj, proj_rl, event_gmst + 0.8, event_gmst, lower = T)\n",
    "    proj_dI <- delta_I(mdl_proj, rp, event_gmst + 0.8, event_gmst, rel = T, lower = T)   \n",
    "    proj_dlogI <- (log(proj_rlfut) - log(proj_rl)) / log(proj_rl) * 100\n",
    "    \n",
    "    # bootstrap (has to be fitted for each model individually to ensure sampling of correct years)...\n",
    "    ci_eval <- boot_ci(mdl_eval, rp = rp, cov1 = event_gmst, cov2 = event_gmst - 1.2, nsamp = 10000, lower = T)\n",
    "    ci_attr <- boot_ci(mdl_attr, rp = rp, cov1 = event_gmst, cov2 = event_gmst - 1.2, nsamp = 10000, lower = T)\n",
    "    ci_proj <- boot_ci(mdl_proj, rp = rp, cov1 = event_gmst + 0.8, cov2 = event_gmst, nsamp = 10000, lower = T)\n",
    "    \n",
    "    # return results\n",
    "    cbind(model = gsub(\".+-ond_\", \"\", gsub(\".dat\", \"\", fnm)),\n",
    "          as.data.frame(list(\"eval_disp\" = eval_disp, \"eval_disp_lower\" = ci_eval[\"2.5%\",\"disp\"], \"eval_disp_upper\" = ci_eval[\"97.5%\",\"disp\"],\n",
    "                             \"attr_disp\" = attr_disp, \"attr_disp_lower\" = ci_attr[\"2.5%\",\"disp\"], \"attr_disp_upper\" = ci_attr[\"97.5%\",\"disp\"],\n",
    "                             \"attr_value\" = attr_rl, \"attr_logvalue\" = log10(attr_rl), \"attr_rp\" = rp, \"attr_rp_hist\" = attr_rphist, \n",
    "                             \"attr_pr\" = attr_pr, \"attr_pr_lower\" = ci_attr[\"2.5%\",\"pr\"], \"attr_pr_upper\" = ci_attr[\"97.5%\",\"pr\"],\n",
    "                             \"attr_dI\" = attr_dI, \"attr_dI_lower\" = ci_attr[\"2.5%\",\"delta_I\"], \"attr_dI_upper\" = ci_attr[\"97.5%\",\"delta_I\"],\n",
    "                             \"attr_dlogI\" = attr_dlogI, \"attr_dlogI_lower\" = ci_attr[\"2.5%\",\"delta_logI\"], \"attr_dlogI_upper\" = ci_attr[\"97.5%\",\"delta_logI\"],\n",
    "                             \"proj_pr\" = proj_pr, \"proj_pr_lower\" = ci_proj[\"2.5%\",\"pr\"], \"proj_pr_upper\" = ci_proj[\"97.5%\",\"pr\"],\n",
    "                             \"proj_dI\" = proj_dI, \"proj_dI_lower\" = ci_proj[\"2.5%\",\"delta_I\"], \"proj_dI_upper\" = ci_proj[\"97.5%\",\"delta_I\"],\n",
    "                             \"proj_dlogI\" = proj_dlogI, \"proj_dlogI_lower\" = ci_proj[\"2.5%\",\"delta_logI\"], \"proj_dlogI_upper\" = ci_proj[\"97.5%\",\"delta_logI\"]\n",
    "                             )))\n",
    "    \n",
    "}, simplify = F))\n",
    "write.csv(cordex_pr_ond, \"cordex-pr-ond-results.csv\", row.names = F)"
   ]
  },
  {
   "cell_type": "markdown",
   "id": "e0ce123b-6af9-4348-b51e-84ca4ffdf4d1",
   "metadata": {},
   "source": [
    "---\n",
    "## **FLOR & AM2 OND precip**"
   ]
  },
  {
   "cell_type": "code",
   "execution_count": null,
   "id": "f3257f14-25c6-4198-906e-bbf9ae559515",
   "metadata": {},
   "outputs": [],
   "source": []
  }
 ],
 "metadata": {
  "kernelspec": {
   "display_name": "R [conda env:r_env]",
   "language": "R",
   "name": "conda-env-r_env-r"
  },
  "language_info": {
   "codemirror_mode": "r",
   "file_extension": ".r",
   "mimetype": "text/x-r-source",
   "name": "R",
   "pygments_lexer": "r",
   "version": "4.2.2"
  }
 },
 "nbformat": 4,
 "nbformat_minor": 5
}
