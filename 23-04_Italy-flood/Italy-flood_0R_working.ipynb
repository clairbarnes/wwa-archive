{
 "cells": [
  {
   "cell_type": "markdown",
   "id": "91cc233f-bbbd-401d-b387-dd13341747aa",
   "metadata": {},
   "source": [
    "# **Flooding in Italy - working code (R)**"
   ]
  },
  {
   "cell_type": "code",
   "execution_count": 1,
   "id": "8b5d3b84-2dce-4f90-9f22-089f8227cecd",
   "metadata": {},
   "outputs": [],
   "source": [
    "source(\"../methods_extRemes.r\")\n",
    "\n",
    "prep_window <- function(rc = c(1,1), w = 4, h = 4) { options(repr.plot.width = rc[2]*w, repr.plot.height = rc[1]*h, repr.plot.res = 200); par(mfrow = rc, pch = 20) }\n",
    "load_ts <- function(fnm, col.names) { read.csv(fnm, comment.char = \"#\", sep = \" \", header = F, col.names = col.names) }"
   ]
  },
  {
   "cell_type": "code",
   "execution_count": 2,
   "id": "7c431547-af33-4c63-be8c-8cd1541abe77",
   "metadata": {},
   "outputs": [],
   "source": [
    "# support function to give required results\n",
    "mdl_ests <- function(mdl, cov, cov_cf, ev, rp = NA) {\n",
    "\n",
    "    pars <- mdl$results$par\n",
    "    disp <- unname(pars[\"sigma0\"] / pars[\"mu0\"])\n",
    "\n",
    "    if(is.na(rp)) rp <- return_period(mdl, value = ev, covariate = cov, lower = F)\n",
    "    if(is.finite(rp)) {\n",
    "        rp_cf <- return_period(mdl, value = ev, covariate = cov_cf)\n",
    "        rl_cf <- unname(return_level(mdl, rp = rp, covariate = cov_cf))\n",
    "\n",
    "        c(pars,\n",
    "          \"disp\" = disp, \n",
    "          \"event_magnitude\" = ev, \n",
    "          \"return_period\" = rp, \n",
    "          \"PR\" = rp_cf / rp, \n",
    "          \"dI_abs\" = ev - rl_cf, \n",
    "          \"dI_rel\" = (ev - rl_cf) / rl_cf * 100)\n",
    "    } else {\n",
    "        return(rep(NA, 10))\n",
    "    }\n",
    "}"
   ]
  },
  {
   "cell_type": "code",
   "execution_count": 3,
   "id": "0a8d59ad-b9bf-4b9f-87cc-8ea3d70b6531",
   "metadata": {},
   "outputs": [],
   "source": [
    "# wrapper function to get bootstrapped confidence intervals for spreadsheet\n",
    "boot_ci <- function(mdl, cov, cov_cf, ev = NA, rp = NA, seed = 42, nsamp = 500, dp = 5) {\n",
    "    \n",
    "    # get best estimate from the observed data\n",
    "    event_value <- mdl$x[length(mdl$x)]\n",
    "    mdl_res <- mdl_ests(mdl, cov, cov_cf, event_value, rp = rp)\n",
    "    mdl_df <- mdl$cov.data\n",
    "    \n",
    "    # get bootstrap sample\n",
    "    set.seed(seed)    \n",
    "    boot_res <- sapply(1:nsamp, function(i) {\n",
    "        boot_df <- mdl_df[sample(1:nrow(mdl_df), nrow(mdl_df), replace = T),]\n",
    "        boot_mdl <- fevd_fixeddisp(\"rx21day\", \"gmst\", boot_df, solver = \"Nelder-Mead\")\n",
    "        mdl_ests(boot_mdl, cov, cov_cf, event_value, rp = rp)\n",
    "    })\n",
    "    boot_qq <- t(rbind(\"bestimate\" = mdl_res, apply(boot_res, 1, quantile, c(0.025, 0.975), na.rm = T)))\n",
    "    if(!is.na(dp)) boot_qq <- round(boot_qq, dp)\n",
    "    return(boot_qq)\n",
    "}"
   ]
  },
  {
   "cell_type": "markdown",
   "id": "d8f4d6b0-3a8b-455a-94d6-9145094a3c93",
   "metadata": {},
   "source": [
    "---\n",
    "## **Trend analysis - observations**"
   ]
  },
  {
   "cell_type": "code",
   "execution_count": 14,
   "id": "6899b8a5-6420-4361-8244-4a60aca824f5",
   "metadata": {},
   "outputs": [],
   "source": [
    "gmst <- load_ts(\"ts/Italy-floods_gmst-smoothed.dat\", col.names = c(\"year\", \"gmst\"))\n",
    "gmst_2023 <- gmst[gmst$year == 2023, \"gmst\"]\n",
    "gmst_cf <- gmst_2023 - 1.2"
   ]
  },
  {
   "cell_type": "code",
   "execution_count": 16,
   "id": "be0eef98-e9cd-4479-b04d-db72bdb1592c",
   "metadata": {},
   "outputs": [
    {
     "data": {
      "text/html": [
       "<table class=\"dataframe\">\n",
       "<caption>A matrix: 10 × 3 of type dbl</caption>\n",
       "<thead>\n",
       "\t<tr><th></th><th scope=col>bestimate</th><th scope=col>2.5%</th><th scope=col>97.5%</th></tr>\n",
       "</thead>\n",
       "<tbody>\n",
       "\t<tr><th scope=row>mu0</th><td> 96.18517</td><td> 82.11267</td><td>  117.86247</td></tr>\n",
       "\t<tr><th scope=row>sigma0</th><td> 21.28290</td><td> 14.07613</td><td>   27.63517</td></tr>\n",
       "\t<tr><th scope=row>shape</th><td>  0.09425</td><td> -0.10335</td><td>    0.49210</td></tr>\n",
       "\t<tr><th scope=row>alpha</th><td> -2.43542</td><td>-37.65285</td><td>   23.13395</td></tr>\n",
       "\t<tr><th scope=row>dispersion</th><td>  0.22127</td><td>  0.14658</td><td>    0.26690</td></tr>\n",
       "\t<tr><th scope=row>event_magnitude</th><td>212.30070</td><td>212.30070</td><td>  212.30070</td></tr>\n",
       "\t<tr><th scope=row>return_period</th><td> 95.15533</td><td> 20.37165</td><td>30607.94235</td></tr>\n",
       "\t<tr><th scope=row>PR</th><td>  0.81911</td><td>  0.00666</td><td>   18.64574</td></tr>\n",
       "\t<tr><th scope=row>dI_abs</th><td> -6.54958</td><td>-98.72365</td><td>   61.11476</td></tr>\n",
       "\t<tr><th scope=row>dI_rel</th><td> -2.99272</td><td>-31.74145</td><td>   40.42360</td></tr>\n",
       "</tbody>\n",
       "</table>\n"
      ],
      "text/latex": [
       "A matrix: 10 × 3 of type dbl\n",
       "\\begin{tabular}{r|lll}\n",
       "  & bestimate & 2.5\\% & 97.5\\%\\\\\n",
       "\\hline\n",
       "\tmu0 &  96.18517 &  82.11267 &   117.86247\\\\\n",
       "\tsigma0 &  21.28290 &  14.07613 &    27.63517\\\\\n",
       "\tshape &   0.09425 &  -0.10335 &     0.49210\\\\\n",
       "\talpha &  -2.43542 & -37.65285 &    23.13395\\\\\n",
       "\tdispersion &   0.22127 &   0.14658 &     0.26690\\\\\n",
       "\tevent\\_magnitude & 212.30070 & 212.30070 &   212.30070\\\\\n",
       "\treturn\\_period &  95.15533 &  20.37165 & 30607.94235\\\\\n",
       "\tPR &   0.81911 &   0.00666 &    18.64574\\\\\n",
       "\tdI\\_abs &  -6.54958 & -98.72365 &    61.11476\\\\\n",
       "\tdI\\_rel &  -2.99272 & -31.74145 &    40.42360\\\\\n",
       "\\end{tabular}\n"
      ],
      "text/markdown": [
       "\n",
       "A matrix: 10 × 3 of type dbl\n",
       "\n",
       "| <!--/--> | bestimate | 2.5% | 97.5% |\n",
       "|---|---|---|---|\n",
       "| mu0 |  96.18517 |  82.11267 |   117.86247 |\n",
       "| sigma0 |  21.28290 |  14.07613 |    27.63517 |\n",
       "| shape |   0.09425 |  -0.10335 |     0.49210 |\n",
       "| alpha |  -2.43542 | -37.65285 |    23.13395 |\n",
       "| dispersion |   0.22127 |   0.14658 |     0.26690 |\n",
       "| event_magnitude | 212.30070 | 212.30070 |   212.30070 |\n",
       "| return_period |  95.15533 |  20.37165 | 30607.94235 |\n",
       "| PR |   0.81911 |   0.00666 |    18.64574 |\n",
       "| dI_abs |  -6.54958 | -98.72365 |    61.11476 |\n",
       "| dI_rel |  -2.99272 | -31.74145 |    40.42360 |\n",
       "\n"
      ],
      "text/plain": [
       "                bestimate 2.5%      97.5%      \n",
       "mu0              96.18517  82.11267   117.86247\n",
       "sigma0           21.28290  14.07613    27.63517\n",
       "shape             0.09425  -0.10335     0.49210\n",
       "alpha            -2.43542 -37.65285    23.13395\n",
       "dispersion        0.22127   0.14658     0.26690\n",
       "event_magnitude 212.30070 212.30070   212.30070\n",
       "return_period    95.15533  20.37165 30607.94235\n",
       "PR                0.81911   0.00666    18.64574\n",
       "dI_abs           -6.54958 -98.72365    61.11476\n",
       "dI_rel           -2.99272 -31.74145    40.42360"
      ]
     },
     "metadata": {},
     "output_type": "display_data"
    }
   ],
   "source": [
    "# MSWEP\n",
    "df <- merge(gmst, load_ts(\"ts/Italy-floods_rx21day-amj_mswep.dat\", col.names = c(\"year\", \"rx21day\")))\n",
    "ns_mdl <- fevd_fixeddisp(\"rx21day\", \"gmst\", df, solver = \"Nelder-Mead\")\n",
    "boot_ci(ns_mdl, gmst_2023, gmst_cf, nsamp = 1000)"
   ]
  },
  {
   "cell_type": "code",
   "execution_count": 18,
   "id": "84b19800-9982-4c2d-b108-66adbab2a25b",
   "metadata": {},
   "outputs": [
    {
     "data": {
      "text/html": [
       "<table class=\"dataframe\">\n",
       "<caption>A matrix: 10 × 3 of type dbl</caption>\n",
       "<thead>\n",
       "\t<tr><th></th><th scope=col>bestimate</th><th scope=col>2.5%</th><th scope=col>97.5%</th></tr>\n",
       "</thead>\n",
       "<tbody>\n",
       "\t<tr><th scope=row>mu0</th><td> 107.01738</td><td>  97.51432</td><td>1.167080e+02</td></tr>\n",
       "\t<tr><th scope=row>sigma0</th><td>  27.69835</td><td>  22.57624</td><td>3.218326e+01</td></tr>\n",
       "\t<tr><th scope=row>shape</th><td>   0.06337</td><td>  -0.07344</td><td>2.366000e-01</td></tr>\n",
       "\t<tr><th scope=row>alpha</th><td> -10.19596</td><td> -33.07732</td><td>1.246151e+01</td></tr>\n",
       "\t<tr><th scope=row>dispersion</th><td>   0.25882</td><td>   0.21354</td><td>2.981700e-01</td></tr>\n",
       "\t<tr><th scope=row>event_magnitude</th><td> 346.58893</td><td> 346.58893</td><td>3.465889e+02</td></tr>\n",
       "\t<tr><th scope=row>return_period</th><td>1981.90924</td><td> 133.31696</td><td>1.678320e+08</td></tr>\n",
       "\t<tr><th scope=row>PR</th><td>   0.39223</td><td>   0.00241</td><td>2.603050e+00</td></tr>\n",
       "\t<tr><th scope=row>dI_abs</th><td> -41.97905</td><td>-142.13912</td><td>4.875570e+01</td></tr>\n",
       "\t<tr><th scope=row>dI_rel</th><td> -10.80353</td><td> -29.08348</td><td>1.637216e+01</td></tr>\n",
       "</tbody>\n",
       "</table>\n"
      ],
      "text/latex": [
       "A matrix: 10 × 3 of type dbl\n",
       "\\begin{tabular}{r|lll}\n",
       "  & bestimate & 2.5\\% & 97.5\\%\\\\\n",
       "\\hline\n",
       "\tmu0 &  107.01738 &   97.51432 & 1.167080e+02\\\\\n",
       "\tsigma0 &   27.69835 &   22.57624 & 3.218326e+01\\\\\n",
       "\tshape &    0.06337 &   -0.07344 & 2.366000e-01\\\\\n",
       "\talpha &  -10.19596 &  -33.07732 & 1.246151e+01\\\\\n",
       "\tdispersion &    0.25882 &    0.21354 & 2.981700e-01\\\\\n",
       "\tevent\\_magnitude &  346.58893 &  346.58893 & 3.465889e+02\\\\\n",
       "\treturn\\_period & 1981.90924 &  133.31696 & 1.678320e+08\\\\\n",
       "\tPR &    0.39223 &    0.00241 & 2.603050e+00\\\\\n",
       "\tdI\\_abs &  -41.97905 & -142.13912 & 4.875570e+01\\\\\n",
       "\tdI\\_rel &  -10.80353 &  -29.08348 & 1.637216e+01\\\\\n",
       "\\end{tabular}\n"
      ],
      "text/markdown": [
       "\n",
       "A matrix: 10 × 3 of type dbl\n",
       "\n",
       "| <!--/--> | bestimate | 2.5% | 97.5% |\n",
       "|---|---|---|---|\n",
       "| mu0 |  107.01738 |   97.51432 | 1.167080e+02 |\n",
       "| sigma0 |   27.69835 |   22.57624 | 3.218326e+01 |\n",
       "| shape |    0.06337 |   -0.07344 | 2.366000e-01 |\n",
       "| alpha |  -10.19596 |  -33.07732 | 1.246151e+01 |\n",
       "| dispersion |    0.25882 |    0.21354 | 2.981700e-01 |\n",
       "| event_magnitude |  346.58893 |  346.58893 | 3.465889e+02 |\n",
       "| return_period | 1981.90924 |  133.31696 | 1.678320e+08 |\n",
       "| PR |    0.39223 |    0.00241 | 2.603050e+00 |\n",
       "| dI_abs |  -41.97905 | -142.13912 | 4.875570e+01 |\n",
       "| dI_rel |  -10.80353 |  -29.08348 | 1.637216e+01 |\n",
       "\n"
      ],
      "text/plain": [
       "                bestimate  2.5%       97.5%       \n",
       "mu0              107.01738   97.51432 1.167080e+02\n",
       "sigma0            27.69835   22.57624 3.218326e+01\n",
       "shape              0.06337   -0.07344 2.366000e-01\n",
       "alpha            -10.19596  -33.07732 1.246151e+01\n",
       "dispersion         0.25882    0.21354 2.981700e-01\n",
       "event_magnitude  346.58893  346.58893 3.465889e+02\n",
       "return_period   1981.90924  133.31696 1.678320e+08\n",
       "PR                 0.39223    0.00241 2.603050e+00\n",
       "dI_abs           -41.97905 -142.13912 4.875570e+01\n",
       "dI_rel           -10.80353  -29.08348 1.637216e+01"
      ]
     },
     "metadata": {},
     "output_type": "display_data"
    }
   ],
   "source": [
    "# ERA5\n",
    "df <- merge(gmst, load_ts(\"ts/Italy-floods_rx21day-amj_era5.dat\", col.names = c(\"year\", \"rx21day\")))\n",
    "ns_mdl <- fevd_fixeddisp(\"rx21day\", \"gmst\", df, solver = \"Nelder-Mead\")\n",
    "boot_ci(ns_mdl, gmst_2023, gmst_cf, nsamp = 1000)"
   ]
  },
  {
   "cell_type": "markdown",
   "id": "9f14867e-a11f-4d60-bd88-f319233f2460",
   "metadata": {},
   "source": [
    "## **Trend analysis - CORDEX**"
   ]
  },
  {
   "cell_type": "code",
   "execution_count": 4,
   "id": "f1d2e305-2275-45ce-8847-952ac1d6a418",
   "metadata": {},
   "outputs": [],
   "source": [
    "model_results <- function(df, rp = 10, cov_pres, cov_pi, cov_fut, nsamp = 5, seed = 42) {\n",
    "    \n",
    "    # FUNCTION TO CARRY OUT ALL ATTRIBUTION RUNS & PRODUCE RESULTS IN SPREADSHEET-FRIENDLY FORM\n",
    "    \n",
    "    set.seed(seed)\n",
    "    \n",
    "    #~~~~~~~~~~~~~~~~~~~~~~~~~~~~~~~~~~~~~~~~~~~~~~~~~~~~~~~~~~~~~~~~~~~~~~~\n",
    "    # FIT MODEL to three different subsets: for evaluation, attribution & projection\n",
    "    \n",
    "    # fit models\n",
    "    mdl_eval <- fevd_fixeddisp(\"rx21day\", \"gmst\", df[df$year >= 1979 & df$year <= 2023,], solver = \"Nelder-Mead\")\n",
    "    mdl_attr <- fevd_fixeddisp(\"rx21day\", \"gmst\", df[df$year <= 2023,], solver = \"Nelder-Mead\")\n",
    "    mdl_proj <- fevd_fixeddisp(\"rx21day\", \"gmst\", df[df$year <= 2050,], solver = \"Nelder-Mead\")\n",
    "    \n",
    "    # get return level to use for analysis\n",
    "    event_rl <- unname(return_level(mdl_attr, rp = rp, covariate = gmst_2023))\n",
    "    \n",
    "    #~~~~~~~~~~~~~~~~~~~~~~~~~~~~~~~~~~~~~~~~~~~~~~~~~~~~~~~~~~~~~~~~~~~~~~~\n",
    "    ## Bootstrap each set of model results\n",
    "\n",
    "    ci_eval <- boot_ci(mdl_eval, cov = cov_pres, cov_cf = cov_pi, ev = event_rl, rp = rp, nsamp = nsamp)[c(\"disp\", \"shape\"),]\n",
    "    ci_attr <- boot_ci(mdl_attr, cov = cov_pres, cov_cf = cov_pi, ev = event_rl, rp = rp, nsamp = nsamp)[c(\"PR\", \"dI_rel\"),]\n",
    "    ci_proj <- boot_ci(mdl_proj, cov = cov_pres, cov_cf = cov_fut, ev = event_rl, rp = rp, nsamp = nsamp)[c(\"PR\", \"dI_rel\"),]\n",
    "                   \n",
    "    # invert future projections\n",
    "    ci_proj[\"PR\",] <- 1/ci_proj[\"PR\",c(1,3,2)]\n",
    "    ci_proj[\"dI_rel\",] <- -ci_proj[\"dI_rel\", c(1,3,2)]\n",
    "    \n",
    "    # flatten & rename\n",
    "    ci_eval <- unlist(lapply(rownames(ci_eval), function(cnm) setNames(ci_eval[cnm,], paste(\"eval\", gsub(\"_\", \"-\", cnm), c(\"est\", \"lower\", \"upper\"), sep = \"_\"))))\n",
    "    ci_attr <- unlist(lapply(rownames(ci_attr), function(cnm) setNames(ci_attr[cnm,], paste(\"attr\", gsub(\"_\", \"-\", cnm), c(\"est\", \"lower\", \"upper\"), sep = \"_\"))))\n",
    "    ci_proj <- unlist(lapply(rownames(ci_proj), function(cnm) setNames(ci_proj[cnm,], paste(\"proj\", gsub(\"_\", \"-\", cnm), c(\"est\", \"lower\", \"upper\"), sep = \"_\"))))\n",
    "                         \n",
    "    # #~~~~~~~~~~~~~~~~~~~~~~~~~~~~~~~~~~~~~~~~~~~~~~~~~~~~~~~~~~~~~~~~~~~~~~~\n",
    "    \n",
    "    t(data.frame(c(ci_eval, \"rp_value\" = event_rl, ci_attr, ci_proj)))     \n",
    "}"
   ]
  },
  {
   "cell_type": "code",
   "execution_count": 5,
   "id": "1d1f535e-9bf4-4e70-89fd-375181f81acb",
   "metadata": {},
   "outputs": [],
   "source": [
    "gmst <- load_ts(\"ts/Italy-floods_gmst-smoothed.dat\", col.names = c(\"year\", \"gmst\"))\n",
    "gmst_2023 <- gmst[gmst$year == 2023, \"gmst\"]\n",
    "gmst_pi <- gmst_2023 - 1.2\n",
    "gmst_fut <- gmst_2023 + 1.2\n",
    "\n",
    "# parameters for confidence intervals\n",
    "rp <- 100\n",
    "nsamp <- 1000"
   ]
  },
  {
   "cell_type": "code",
   "execution_count": null,
   "id": "4f8a8c59-41f9-44fa-b4be-f6df05d9d69b",
   "metadata": {},
   "outputs": [],
   "source": [
    "# loop over all available models, get results for each\n",
    "res <- do.call(\"rbind\", sapply(list.files(\"ts\", pattern = \"rx21day-amj_EUR-11\", full.names = T), function(fnm) {\n",
    "\n",
    "    print(fnm)\n",
    "    \n",
    "    # load data   \n",
    "    gmst_fnm <- list.files(\"ts\", paste0(\"smoothed-gsat_\", strsplit(fnm, \"_\")[[1]][4], \"_rcp85_\", strsplit(fnm, \"_\")[[1]][5], \".dat\"), full.names = T)\n",
    "    df <- merge(load_ts(gmst_fnm, col.names = c(\"year\", \"gmst\")), \n",
    "                load_ts(fnm, col.names = c(\"year\", \"rx21day\")))\n",
    "    \n",
    "    res_df <- model_results(df, rp = rp, gmst_2023, gmst_pi, gmst_fut, nsamp = nsamp)\n",
    "    rownames(res_df) <- gsub(\".dat\", \"\", paste0(strsplit(fnm, \"_\")[[1]][4:6], collapse = \"_\"))\n",
    "    res_df\n",
    "}, simplify = F))\n",
    "write.csv(res, \"Italy-floods_cordex-results.csv\")"
   ]
  },
  {
   "cell_type": "code",
   "execution_count": null,
   "id": "c1c731b7-fb9a-42eb-9ef1-230e2e1ace59",
   "metadata": {},
   "outputs": [],
   "source": []
  }
 ],
 "metadata": {
  "kernelspec": {
   "display_name": "R [conda env:r_env]",
   "language": "R",
   "name": "conda-env-r_env-r"
  },
  "language_info": {
   "codemirror_mode": "r",
   "file_extension": ".r",
   "mimetype": "text/x-r-source",
   "name": "R",
   "pygments_lexer": "r",
   "version": "4.2.2"
  }
 },
 "nbformat": 4,
 "nbformat_minor": 5
}
