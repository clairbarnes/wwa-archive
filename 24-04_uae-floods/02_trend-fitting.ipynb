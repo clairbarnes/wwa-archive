{
 "cells": [
  {
   "cell_type": "code",
   "execution_count": null,
   "metadata": {},
   "outputs": [
    {
     "ename": "ERROR",
     "evalue": "Error in loadNamespace(i, c(lib.loc, .libPaths()), versionCheck = vI[[i]]): namespace ‘fastmap’ 1.1.0 is already loaded, but >= 1.1.1 is required\n",
     "output_type": "error",
     "traceback": [
      "Error in loadNamespace(i, c(lib.loc, .libPaths()), versionCheck = vI[[i]]): namespace ‘fastmap’ 1.1.0 is already loaded, but >= 1.1.1 is required\nTraceback:\n",
      "1. loadNamespace(x)",
      "2. namespaceImportFrom(ns, loadNamespace(j <- i[[1L]], c(lib.loc, \n .     .libPaths()), versionCheck = vI[[j]]), i[[2L]], from = package)",
      "3. asNamespace(ns)",
      "4. loadNamespace(j <- i[[1L]], c(lib.loc, .libPaths()), versionCheck = vI[[j]])",
      "5. namespaceImportFrom(ns, loadNamespace(j <- i[[1L]], c(lib.loc, \n .     .libPaths()), versionCheck = vI[[j]]), i[[2L]], from = package)",
      "6. asNamespace(ns)",
      "7. loadNamespace(j <- i[[1L]], c(lib.loc, .libPaths()), versionCheck = vI[[j]])",
      "8. namespaceImport(ns, loadNamespace(i, c(lib.loc, .libPaths()), \n .     versionCheck = vI[[i]]), from = package)",
      "9. loadNamespace(i, c(lib.loc, .libPaths()), versionCheck = vI[[i]])",
      "10. stop(gettextf(\"namespace %s %s is already loaded, but %s %s is required\", \n  .     sQuote(package), current, zop, zversion), domain = NA)"
     ]
    }
   ],
   "source": [
    "devtools::install_github(\"clairbarnes/rwwa\")\n",
    "library(rwwa)"
   ]
  },
  {
   "cell_type": "markdown",
   "metadata": {
    "tags": []
   },
   "source": [
    "## Per grid cell"
   ]
  },
  {
   "cell_type": "code",
   "execution_count": 27,
   "metadata": {},
   "outputs": [],
   "source": [
    "nino <- read.csv(\"nino_djf.csv\", col.names = c(\"year\", \"nino\"))\n",
    "nino$year <- nino$year - 1\n",
    "\n",
    "gmst <- read.table(\"gmst.txt\", col.names = c(\"year\", \"gmst\"))\n",
    "gmst$gmst <- gmst$gmst - gmst$gmst[gmst$year == 2023]\n",
    "\n",
    "df <- read.csv(\"era5_flattened.csv\", skip = 3, header = F)\n",
    "colnames(df)[1] <- \"year\"\n",
    "\n",
    "df <- merge(merge(nino, gmst), df)"
   ]
  },
  {
   "cell_type": "code",
   "execution_count": 32,
   "metadata": {},
   "outputs": [],
   "source": [
    "cov_2023 <- df[df$year == 2023,c(\"gmst\", \"nino\")]\n",
    "cov_cf <- rbind(\"hist\" = cov_2023 - c(1.2, 0),\n",
    "                \"neut\" = c(cov_2023$gmst, 0))"
   ]
  },
  {
   "cell_type": "code",
   "execution_count": 34,
   "metadata": {},
   "outputs": [],
   "source": [
    "# fit nonstationary model to all grid cells\n",
    "models <- sapply(colnames(df)[-(1:3)], function(cnm) {\n",
    "    df_c <- df[,c(\"year\", \"gmst\", \"nino\", cnm)]\n",
    "    fit_ns(\"gev\", \"fixeddisp\", df_c, cnm, c(\"gmst\", \"nino\"), lower = F)\n",
    "}, simplify = F)"
   ]
  },
  {
   "cell_type": "code",
   "execution_count": 35,
   "metadata": {},
   "outputs": [],
   "source": [
    "# get all model resuls & save as .csv to be reconstructed & plotted in python\n",
    "fitted_res <- sapply(models, mdl_ests, cov_f = cov_2023, cov_cf = cov_cf)\n",
    "write.csv(fitted_res, paste0(\"gridded-res_era5.csv\"))"
   ]
  },
  {
   "cell_type": "code",
   "execution_count": null,
   "metadata": {},
   "outputs": [],
   "source": []
  }
 ],
 "metadata": {
  "kernelspec": {
   "display_name": "Python [conda env:r_test]",
   "language": "python",
   "name": "conda-env-r_test-py"
  },
  "language_info": {
   "codemirror_mode": {
    "name": "ipython",
    "version": 3
   },
   "file_extension": ".py",
   "mimetype": "text/x-python",
   "name": "python",
   "nbconvert_exporter": "python",
   "pygments_lexer": "ipython3",
   "version": "3.12.2"
  }
 },
 "nbformat": 4,
 "nbformat_minor": 5
}
