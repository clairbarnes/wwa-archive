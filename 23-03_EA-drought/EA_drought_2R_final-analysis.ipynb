{
 "cells": [
  {
   "cell_type": "markdown",
   "id": "9bc4a020-e0a2-461a-b24c-44be4fb863b1",
   "metadata": {},
   "source": [
    "# **East Africa drought study - analysis of model data**\n",
    "\n",
    "_Model fitting is less stable when using lognormal - carry out transformation separately_"
   ]
  },
  {
   "cell_type": "code",
   "execution_count": null,
   "id": "8ab4bc38-8aff-4553-8139-5abb6d26d6d2",
   "metadata": {},
   "outputs": [],
   "source": [
    "source(\"../wwa_nonstationary_fitting.r\")\n",
    "\n",
    "prep_window <- function(rc = c(1,1), w = 4, h = 4) { options(repr.plot.width = rc[2]*w, repr.plot.height = rc[1]*h, repr.plot.res = 200); par(mfrow = rc, pch = 20) }"
   ]
  },
  {
   "cell_type": "markdown",
   "id": "eaf291c3-e083-41f3-8314-27f527127eb9",
   "metadata": {
    "tags": []
   },
   "source": [
    "---\n",
    "## **Prep & testing**"
   ]
  },
  {
   "cell_type": "code",
   "execution_count": null,
   "id": "2c485e38-01bf-45a3-a6ad-c4e741e2b29a",
   "metadata": {},
   "outputs": [],
   "source": [
    "# load data, fix values for factual & counterfactual climate\n",
    "\n",
    "df <- read.csv(\"data/gmst-nino-cpc.csv\")\n",
    "\n",
    "gmst_2022 <- df[df$year == 2022, \"gmst\"]\n",
    "gmst_cf <- gmst_2022 - 1.2\n",
    "\n",
    "ondnino_2022 <- df[df$year == 2022, \"nino_ond\"]\n",
    "ondnino_cf <- ondnino_2022"
   ]
  },
  {
   "cell_type": "code",
   "execution_count": null,
   "id": "6218de86-f0b8-45b1-9483-335d7ba69866",
   "metadata": {},
   "outputs": [],
   "source": [
    "# wrapper function to get bootstrapped confidence intervals for spreadsheet\n",
    "bootstrap_obs_results <- function(mdl, cov1, cov2, cov1_cf = NA, cov2_cf = NA, seed = 101, nsamp = 1000, dp = 5, convert_logs = T) {\n",
    "\n",
    "    # create internal function to give required results\n",
    "    get_mdl_values <- function(mdl, ev, cov1, cov2, cov1_cf = NA, cov2_cf = NA) {\n",
    "        \n",
    "        pars <- mdl$par\n",
    "        \n",
    "        rp <- 1/map_to_u(mdl, x = event_value, cov1 = cov1, cov2 = cov2)\n",
    "        rp_cf <- 1/map_to_u(mdl, x = event_value, cov1 = cov1_cf, cov2 = cov2_cf)\n",
    "        rl_cf <- map_from_u(1/rp, mdl, cov1 = cov1_cf, cov2 = cov2_cf)\n",
    "        \n",
    "        # if using log values, convert back to natural units\n",
    "        if(convert_logs) {\n",
    "            if(substr(mdl$varnm,1,5) == \"log10\") {\n",
    "                ev <- 10^ev\n",
    "                rl_cf <- 10^rl_cf\n",
    "            } else if(substr(mdl$varnm,1,3) == \"log\") {\n",
    "                ev <- exp(ev)\n",
    "                rl_cf <- exp(rl_cf)\n",
    "            }\n",
    "        }\n",
    "        c(pars, \n",
    "          \"dispersion\" = unname(pars[\"sigma0\"] / pars[\"mu0\"]),\n",
    "          \"event_magnitude\" = ev,\n",
    "          \"return_period\" = rp,\n",
    "          \"probability_ratio\" = rp_cf/rp,\n",
    "          \"abs_change_in_intensity\" = (ev - rl_cf),\n",
    "          \"rel_change_in_intensity\" = ((ev - rl_cf) / rl_cf) * 100\n",
    "         )   \n",
    "    }\n",
    "    \n",
    "    # get best estimate from the observed data\n",
    "    event_value <- mdl$x[mdl$ev_idx]\n",
    "    mdl_res <- get_mdl_values(mdl, event_value, cov1, cov2, cov1_cf, cov2_cf)\n",
    "    mdl_df <- setNames(data.frame(mdl$x, mdl$cov1, mdl$cov2), c(mdl$varnm, mdl$covnm_1, mdl$covnm_2)) \n",
    "    \n",
    "    # get bootstrap sample\n",
    "    set.seed(seed)    \n",
    "    boot_res <- sapply(1:nsamp, function(i) {\n",
    "        boot_df <- mdl_df[sample(1:nrow(mdl_df), nrow(mdl_df), replace = T),]\n",
    "        boot_mdl <- fit_ns(mdl$dist, mdl$type, boot_df, varnm = mdl$varnm, covnm_1 = mdl$covnm_1, covnm_2 = mdl$covnm_2, lower = mdl$lower)\n",
    "        get_mdl_values(boot_mdl, event_value, cov1, cov2, cov1_cf, cov2_cf)\n",
    "    })\n",
    "    boot_qq <- t(rbind(\"bestimate\" = mdl_res, apply(boot_res, 1, quantile, c(0.025, 0.975), na.rm = T)))\n",
    "    if(!is.na(dp)) boot_qq <- round(boot_qq, dp)\n",
    "    return(boot_qq)\n",
    "}"
   ]
  },
  {
   "cell_type": "markdown",
   "id": "5c815cd2-fd19-4c83-9eca-b7bb4dfa4f07",
   "metadata": {
    "jp-MarkdownHeadingCollapsed": true,
    "tags": []
   },
   "source": [
    "#### **Check results against Climate Explorer**"
   ]
  },
  {
   "cell_type": "code",
   "execution_count": null,
   "id": "f3826bf4-a6ee-4143-87c3-d817ce8ea64d",
   "metadata": {},
   "outputs": [],
   "source": [
    "# fit test model to log precip - should give same results as Climate Explorer\n",
    "bootstrap_obs_results(fit_ns(\"norm\", \"fixeddisp\", df, varnm = \"log10pr_ond\", covnm_1 = \"gmst\", lower = T),\n",
    "                        cov1 = gmst_2022, cov2 = ondnino_2022, cov1_cf = gmst_cf, cov2_cf = ondnino_cf, convert_logs = F)"
   ]
  },
  {
   "cell_type": "code",
   "execution_count": null,
   "id": "a1291903-8c69-4dae-9982-4b9e99502d84",
   "metadata": {},
   "outputs": [],
   "source": [
    "# test same model using lognormal fit - should give comparable disp/RP/PR\n",
    "bootstrap_obs_results(fit_ns(\"lnorm\", \"fixeddisp\", df, varnm = \"pr_ond\", covnm_1 = \"gmst\", lower = T),\n",
    "                  cov1 = gmst_2022, cov2 = ondnino_2022, cov1_cf = gmst_cf, cov2_cf = ondnino_cf, convert_logs = F)"
   ]
  },
  {
   "cell_type": "markdown",
   "id": "193dc08f-6961-409d-b121-47416586c6ba",
   "metadata": {
    "jp-MarkdownHeadingCollapsed": true,
    "tags": []
   },
   "source": [
    "#### **Instability in lognormal fit**\n",
    "\n",
    "_Some instability in the model fit when using lognormal distribution: prefer to use log_pr & convert_"
   ]
  },
  {
   "cell_type": "code",
   "execution_count": null,
   "id": "26d2ec36-ae88-4bf2-ac78-4e2fbed8e36b",
   "metadata": {
    "tags": []
   },
   "outputs": [],
   "source": [
    "bootstrap_obs_results(fit_ns(\"lnorm\", \"fixeddisp\", df, varnm = \"pr_ond\", covnm_1 = \"gmst\", covnm_2 = \"nino_ond\", lower = T),\n",
    "                  cov1 = gmst_2022, cov2 = ondnino_2022, cov1_cf = gmst_cf, cov2_cf = ondnino_cf, convert_logs = T)"
   ]
  },
  {
   "cell_type": "code",
   "execution_count": null,
   "id": "1345518e-ed98-4950-b06a-50102f8f5ee7",
   "metadata": {
    "tags": []
   },
   "outputs": [],
   "source": [
    "# pr_ond ~ gmst + nino_ond\n",
    "bootstrap_obs_results(fit_ns(\"norm\", \"fixeddisp\", df, varnm = \"log10pr_ond\", covnm_1 = \"gmst\", covnm_2 = \"nino_ond\", lower = T),\n",
    "                  cov1 = gmst_2022, cov2 = ondnino_2022, cov1_cf = gmst_cf, cov2_cf = ondnino_cf, convert_logs = T)"
   ]
  },
  {
   "cell_type": "code",
   "execution_count": null,
   "id": "d0761576-78f8-4fe8-99dc-5828726d2053",
   "metadata": {},
   "outputs": [],
   "source": [
    "# confirm: if we use natural log, we get almost same fitted parameters as using lognormal, but without the model instability\n",
    "df[\"lognpr_ond\"] <- log(df$pr_ond)\n",
    "bootstrap_obs_results(fit_ns(\"norm\", \"fixeddisp\", df, varnm = \"lognpr_ond\", covnm_1 = \"gmst\", covnm_2 = \"nino_ond\", lower = T),\n",
    "                  cov1 = gmst_2022, cov2 = ondnino_2022, cov1_cf = gmst_cf, cov2_cf = ondnino_cf, convert_logs = T)"
   ]
  },
  {
   "cell_type": "markdown",
   "id": "880d38ea-5559-42e1-88fd-f203f73bba4c",
   "metadata": {
    "tags": []
   },
   "source": [
    "---\n",
    "## **Observations**"
   ]
  },
  {
   "cell_type": "code",
   "execution_count": 1,
   "id": "24835eca-e03a-42bb-bc20-fec8a0db8047",
   "metadata": {},
   "outputs": [],
   "source": [
    "source(\"../wwa_nonstationary_fitting.r\")\n",
    "\n",
    "# load covariate data\n",
    "df <- merge(read.csv(\"ts/EA-drought_gmst-smoothed.dat\", comment.char = \"#\", sep = \" \", header = F, col.names = c(\"year\", \"gmst\")),\n",
    "            read.csv(\"ts/EA-drought_detrended-nino-ond.dat\", comment.char = \"#\", sep = \" \", header = F, col.names = c(\"year\", \"nino_ond\")))\n",
    "\n",
    "# fix covariate values\n",
    "gmst_2022 <- df[df$year == 2022, \"gmst\"]\n",
    "gmst_cf <- gmst_2022 - 1.2\n",
    "\n",
    "ondnino_2022 <- ondnino_cf <- df[df$year == 2022, \"nino_ond\"]"
   ]
  },
  {
   "cell_type": "markdown",
   "id": "49a68faa-7c47-4880-bb81-a47fd721329e",
   "metadata": {
    "tags": []
   },
   "source": [
    "### **Results for spreadsheet**"
   ]
  },
  {
   "cell_type": "code",
   "execution_count": 2,
   "id": "00b0942c-f36f-4fd9-b81a-7041961b9d7c",
   "metadata": {},
   "outputs": [],
   "source": [
    "# wrapper function to get bootstrapped confidence intervals for spreadsheet\n",
    "bootstrap_obs_results <- function(mdl, cov1, cov1_cf, cov2 = NA, cov2_cf = NA, seed = 101, nsamp = 1000, dp = 5, convert_logs = T, spreadsheet_format = T) {\n",
    "\n",
    "    # create internal function to give required results\n",
    "    get_mdl_values <- function(mdl, ev, cov1, cov2, cov1_cf = NA, cov2_cf = NA) {\n",
    "        \n",
    "        pars <- mdl$par\n",
    "        \n",
    "        rp <- 1/map_to_u(mdl, x = event_value, cov1 = cov1, cov2 = cov2)\n",
    "        rp_cf <- 1/map_to_u(mdl, x = event_value, cov1 = cov1_cf, cov2 = cov2_cf)\n",
    "        rl_cf <- map_from_u(1/rp, mdl, cov1 = cov1_cf, cov2 = cov2_cf)\n",
    "        \n",
    "        # if using log values, convert back to natural units\n",
    "        if(convert_logs) {\n",
    "            if(substr(mdl$varnm,1,5) == \"log10\") {\n",
    "                ev <- 10^ev\n",
    "                rl_cf <- 10^rl_cf\n",
    "            } else if(substr(mdl$varnm,1,3) == \"log\") {\n",
    "                ev <- exp(ev)\n",
    "                rl_cf <- exp(rl_cf)\n",
    "            }\n",
    "        }\n",
    "        c(pars, \n",
    "          \"dispersion\" = unname(pars[\"sigma0\"] / pars[\"mu0\"]),\n",
    "          \"variance\" = unname(pars[\"sigma0\"]),\n",
    "          \"event_magnitude\" = ev,\n",
    "          \"return_period\" = rp,\n",
    "          \"probability_ratio\" = rp_cf/rp,\n",
    "          \"abs_change_in_intensity\" = (ev - rl_cf),\n",
    "          \"rel_change_in_intensity\" = ((ev - rl_cf) / rl_cf) * 100\n",
    "         )   \n",
    "    }\n",
    "    \n",
    "    # get best estimate from the observed data\n",
    "    event_value <- mdl$x[mdl$ev_idx]\n",
    "    mdl_res <- get_mdl_values(mdl, event_value, cov1, cov2, cov1_cf, cov2_cf)\n",
    "    mdl_df <- setNames(data.frame(mdl$x, mdl$cov1, mdl$cov2), c(mdl$varnm, mdl$covnm_1, mdl$covnm_2)) \n",
    "    \n",
    "    # get bootstrap sample\n",
    "    set.seed(seed)    \n",
    "    boot_res <- sapply(1:nsamp, function(i) {\n",
    "        boot_df <- mdl_df[sample(1:nrow(mdl_df), nrow(mdl_df), replace = T),]\n",
    "        boot_mdl <- fit_ns(mdl$dist, mdl$type, boot_df, varnm = mdl$varnm, covnm_1 = mdl$covnm_1, covnm_2 = mdl$covnm_2, lower = mdl$lower)\n",
    "        get_mdl_values(boot_mdl, event_value, cov1, cov2, cov1_cf, cov2_cf)\n",
    "    })\n",
    "    boot_qq <- t(rbind(\"bestimate\" = mdl_res, apply(boot_res, 1, quantile, c(0.025, 0.975), na.rm = T)))\n",
    "    if(!is.na(dp)) boot_qq <- round(boot_qq, dp)\n",
    "    \n",
    "    if(spreadsheet_format) {\n",
    "        return(c(setNames(boot_qq[\"dispersion\",], c(\"disp_est\", \"disp_lower\", \"disp_upper\")),\n",
    "                 setNames(boot_qq[\"variance\",], c(\"sigma_est\", \"sigma_lower\", \"sigma_upper\")),\n",
    "                 \"event_magnitude\" = boot_qq[\"event_magnitude\", \"bestimate\"],\n",
    "                 setNames(boot_qq[\"return_period\",], c(\"rp_est\", \"rp_lower\", \"rp_upper\")),\n",
    "                 setNames(boot_qq[\"probability_ratio\",], c(\"pr_est\", \"pr_lower\", \"pr_upper\")),\n",
    "                 setNames(boot_qq[\"rel_change_in_intensity\",], c(\"rel_DI_est\", \"rel_DI_lower\", \"rel_DI_upper\")),\n",
    "                 setNames(boot_qq[\"abs_change_in_intensity\",], c(\"abs_DI_est\", \"abs_DI_lower\", \"abs_DI_upper\"))))\n",
    "    } else {\n",
    "        return(boot_qq)\n",
    "    }\n",
    "}"
   ]
  },
  {
   "cell_type": "code",
   "execution_count": null,
   "id": "a77d498d-1e46-4250-8bd4-3f9a0fd571d6",
   "metadata": {},
   "outputs": [],
   "source": [
    "pr_ond_res <- do.call(\"rbind\", sapply(c(\"cpc\", \"chirps05+centrends01\"), function(dsnm) {\n",
    "    \n",
    "    pr_df <- merge(df, read.csv(paste0(\"ts/EA-drought_pr-ond_\",dsnm,\".dat\"), comment.char = \"#\", sep = \" \", header = F, col.names = c(\"year\", \"pr\")))\n",
    "    pr_df[\"log10_pr\"] <- log10(pr_df$pr)\n",
    "    \n",
    "    bootstrap_obs_results(fit_ns(\"norm\", \"fixeddisp\", pr_df, varnm = \"log10_pr\", covnm_1 = \"gmst\", covnm_2 = \"nino_ond\", lower = T), nsamp = 1000,\n",
    "                  cov1 = gmst_2022, cov1_cf = gmst_cf, cov2 = ondnino_2022, cov2_cf = ondnino_cf, convert_logs = T)\n",
    "}, simplify = F))\n",
    "write.csv(pr_ond_res, \"res/EA-drought_pr-ond_obs_fitted.csv\")"
   ]
  },
  {
   "cell_type": "code",
   "execution_count": null,
   "id": "7b5cb2bd-ac33-4f79-b6bb-c9fc0d4adba4",
   "metadata": {},
   "outputs": [],
   "source": [
    "pr_ond_res_gmstonly <- do.call(\"rbind\", sapply(c(\"cpc\", \"chirps05+centrends01\"), function(dsnm) {\n",
    "    \n",
    "    pr_df <- merge(df, read.csv(paste0(\"ts/EA-drought_pr-ond_\",dsnm,\".dat\"), comment.char = \"#\", sep = \" \", header = F, col.names = c(\"year\", \"pr\")))\n",
    "    pr_df[\"log10_pr\"] <- log10(pr_df$pr)\n",
    "    \n",
    "    bootstrap_obs_results(fit_ns(\"norm\", \"fixeddisp\", pr_df, varnm = \"log10_pr\", covnm_1 = \"gmst\", lower = T), nsamp = 1000,\n",
    "                  cov1 = gmst_2022, cov1_cf = gmst_cf, cov2 = ondnino_2022, cov2_cf = ondnino_cf, convert_logs = T)\n",
    "}, simplify = F))\n",
    "write.csv(pr_ond_res_gmstonly, \"res/EA-drought_pr-ond_obs_fitted-gmst-only.csv\")"
   ]
  },
  {
   "cell_type": "code",
   "execution_count": null,
   "id": "8459ed60-c309-4385-b281-9b6586172537",
   "metadata": {},
   "outputs": [],
   "source": [
    "pr_mam_res <- do.call(\"rbind\", sapply(c(\"cpc\", \"chirps05+centrends01\"), function(dsnm) {\n",
    "    \n",
    "    pr_df <- merge(df, read.csv(paste0(\"ts/EA-drought_pr-mam_\",dsnm,\".dat\"), comment.char = \"#\", sep = \" \", header = F, col.names = c(\"year\", \"pr\")))\n",
    "    pr_df[\"log10_pr\"] <- log10(pr_df$pr)\n",
    "    \n",
    "    bootstrap_obs_results(fit_ns(\"norm\", \"fixeddisp\", pr_df, varnm = \"log10_pr\", covnm_1 = \"gmst\", lower = T), nsamp = 1000,\n",
    "                  cov1 = gmst_2022, cov1_cf = gmst_cf, convert_logs = T)\n",
    "}, simplify = F))\n",
    "write.csv(pr_mam_res, \"res/EA-drought_pr-mam_obs_fitted.csv\")"
   ]
  },
  {
   "cell_type": "code",
   "execution_count": null,
   "id": "b698bd24-9bd6-4cba-b0fc-400e6b42995a",
   "metadata": {},
   "outputs": [],
   "source": [
    "pr_24_res <- do.call(\"rbind\", sapply(c(\"cpc\", \"chirps05+centrends01\"), function(dsnm) {\n",
    "    \n",
    "    pr_df <- merge(df, read.csv(paste0(\"ts/EA-drought_pr-24_\",dsnm,\".dat\"), comment.char = \"#\", sep = \" \", header = F, col.names = c(\"year\", \"pr\")))\n",
    "    pr_df[\"log10_pr\"] <- log10(pr_df$pr)\n",
    "    \n",
    "    bootstrap_obs_results(fit_ns(\"norm\", \"fixeddisp\", pr_df, varnm = \"log10_pr\", covnm_1 = \"gmst\", lower = T), nsamp = 1000,\n",
    "                  cov1 = gmst_2022, cov1_cf = gmst_cf, convert_logs = T)\n",
    "}, simplify = F))\n",
    "write.csv(pr_24_res, \"res/EA-drought_pr-24_obs_fitted.csv\")"
   ]
  },
  {
   "cell_type": "code",
   "execution_count": 3,
   "id": "73802e59-acc7-4bfe-8b12-61f91a1d12f0",
   "metadata": {},
   "outputs": [],
   "source": [
    "pet_24_res <- do.call(\"rbind\", sapply(c(\"cpc\"), function(dsnm) {\n",
    "    \n",
    "    pr_df <- merge(df, read.csv(paste0(\"ts/EA-drought_pet-24_\",dsnm,\".dat\"), comment.char = \"#\", sep = \" \", header = F, col.names = c(\"year\", \"pet\")))\n",
    "    \n",
    "    bootstrap_obs_results(fit_ns(\"norm\", \"shift\", pr_df, varnm = \"pet\", covnm_1 = \"gmst\", lower = F), nsamp = 1000,\n",
    "                  cov1 = gmst_2022, cov1_cf = gmst_cf)\n",
    "}, simplify = F))\n",
    "write.csv(pet_24_res, \"res/EA-drought_pet-24_obs_fitted.csv\")"
   ]
  },
  {
   "cell_type": "code",
   "execution_count": 4,
   "id": "fc682fbb-0871-49f7-aa44-eccd46c5ffcf",
   "metadata": {},
   "outputs": [],
   "source": [
    "spei_24_res <- do.call(\"rbind\", sapply(c(\"cpc\"), function(dsnm) {\n",
    "    \n",
    "    pr_df <- merge(df, read.csv(paste0(\"ts/EA-drought_spei-24_\",dsnm,\".dat\"), comment.char = \"#\", sep = \" \", header = F, col.names = c(\"year\", \"spei\")))\n",
    "    \n",
    "    bootstrap_obs_results(fit_ns(\"norm\", \"shift\", pr_df, varnm = \"spei\", covnm_1 = \"gmst\", lower = T), nsamp = 1000,\n",
    "                  cov1 = gmst_2022, cov1_cf = gmst_cf)\n",
    "}, simplify = F))\n",
    "write.csv(spei_24_res, \"res/EA-drought_spei-24_obs_fitted.csv\")"
   ]
  },
  {
   "cell_type": "markdown",
   "id": "2fff27b4-0b2a-43c7-8a1e-314d22952240",
   "metadata": {
    "tags": []
   },
   "source": [
    "#### **Values for contour plot**"
   ]
  },
  {
   "cell_type": "code",
   "execution_count": null,
   "id": "106e9a83-5cf3-457e-8101-fb91622cdf21",
   "metadata": {},
   "outputs": [],
   "source": [
    "pr_df <- merge(merge(df, read.csv(paste0(\"ts/EA-drought_pr-24_cpc.dat\"), comment.char = \"#\", sep = \" \", header = F, col.names = c(\"year\", \"pr\"))),\n",
    "               read.csv(paste0(\"ts/EA-drought_pet-24_cpc.dat\"), comment.char = \"#\", sep = \" \", header = F, col.names = c(\"year\", \"pet\")))\n",
    "pr_df[\"log10_pr\"] <- log10(pr_df$pr)\n",
    "\n",
    "mdl_pet <- fit_ns(\"norm\", \"shift\", pr_df, varnm = \"pet\", covnm_1 = \"gmst\", lower = F)\n",
    "mdl_pr <- fit_ns(\"norm\", \"fixeddisp\", pr_df, varnm = \"log10_pr\", covnm_1 = \"gmst\", lower = T)\n",
    "\n",
    "pet_cf <- map_from_u(map_to_u(mdl_pet)[mdl_pet$ev_idx], mdl_pet, cov1 = pr_df$gmst[pr_df$year == 2022] - 1.2)\n",
    "pr_cf <- map_from_u(map_to_u(mdl_pr)[mdl_pr$ev_idx], mdl_pr, cov1 = pr_df$gmst[pr_df$year == 2022] - 1.2)\n",
    "print(c(10^pr_cf, pet_cf))"
   ]
  },
  {
   "cell_type": "markdown",
   "id": "183fa52b-4683-459d-afa5-09f2f8e4f977",
   "metadata": {},
   "source": [
    "### **Joint changes**"
   ]
  },
  {
   "cell_type": "code",
   "execution_count": null,
   "id": "019bb958-162d-44a2-96b7-e0f84b7e197a",
   "metadata": {},
   "outputs": [],
   "source": [
    "# load data\n",
    "pr_df <- merge(merge(merge(read.csv(\"ts/EA-drought_gmst-smoothed.dat\", comment.char = \"#\", sep = \" \", header = F, col.names = c(\"year\", \"gmst\")),\n",
    "                     read.csv(paste0(\"ts/EA-drought_pr-24_cpc.dat\"), comment.char = \"#\", sep = \" \", header = F, col.names = c(\"year\", \"pr\"))),\n",
    "               read.csv(paste0(\"ts/EA-drought_pet-24_cpc.dat\"), comment.char = \"#\", sep = \" \", header = F, col.names = c(\"year\", \"pet\"))),\n",
    "               read.csv(paste0(\"ts/EA-drought_spei-24_cpc.dat\"), comment.char = \"#\", sep = \" \", header = F, col.names = c(\"year\", \"spei\")))\n",
    "pr_df[\"log10_pr\"] <- log10(pr_df$pr)\n",
    "\n",
    "gmst_2022 <- pr_df$gmst[pr_df$year == 2022]\n",
    "gmst_cf <- gmst_2022 - 1.2"
   ]
  },
  {
   "cell_type": "code",
   "execution_count": null,
   "id": "cc0c35c0-e16b-44b1-a9c6-63a32e342e46",
   "metadata": {},
   "outputs": [],
   "source": [
    "# fit base models\n",
    "mdl_pr <- fit_ns(\"norm\", \"fixeddisp\", pr_df, varnm = \"log10_pr\", covnm_1 = \"gmst\", lower = T)\n",
    "mdl_pet <- fit_ns(\"norm\", \"shift\", pr_df, varnm = \"pet\", covnm_1 = \"gmst\", lower = F)\n",
    "mdl_spei <- fit_ns(\"norm\", \"shift\", pr_df, varnm = \"spei\", covnm_1 = \"gmst\", lower = T)\n",
    "\n",
    "rp_pr <- 1/map_to_u(mdl_pr)[mdl_pr$ev_idx]\n",
    "rp_pet <- 1/map_to_u(mdl_pet)[mdl_pet$ev_idx]\n",
    "rp_spei <- 1/map_to_u(mdl_spei)[mdl_spei$ev_idx]\n",
    "\n",
    "change_in_intensity <- c(\"pr\" = Delta_I(mdl_pr, rp = rp_pr, cov1 = gmst_2022, cov1_cf = gmst_cf, relative = F),\n",
    "                         \"pet\" = Delta_I(mdl_pet, rp = rp_pet, cov1 = gmst_2022, cov1_cf = gmst_cf, relative = F),\n",
    "                         \"spei\" = Delta_I(mdl_spei, rp = rp_spei, cov1 = gmst_2022, cov1_cf = gmst_cf, relative = F))"
   ]
  },
  {
   "cell_type": "code",
   "execution_count": null,
   "id": "218cc7d1-ea72-41aa-9482-bfde3634c157",
   "metadata": {},
   "outputs": [],
   "source": [
    "# bootstrap sample for change in intensity\n",
    "nsamp <- 1000\n",
    "set.seed(1)\n",
    "boot_res <- sapply(1:nsamp, function(i) {\n",
    "    \n",
    "    # resample data, refit models\n",
    "    boot_df <- pr_df[sample(1:nrow(pr_df), nrow(pr_df), replace = T),]\n",
    "    bootmdl_pr <- fit_ns(mdl_pr$dist, mdl_pr$type, boot_df, varnm = mdl_pr$varnm, covnm_1 = mdl_pr$covnm_1, covnm_2 = mdl_pr$covnm_2, lower = mdl_pr$lower)\n",
    "    bootmdl_pet <- fit_ns(mdl_pet$dist, mdl_pet$type, boot_df, varnm = mdl_pet$varnm, covnm_1 = mdl_pet$covnm_1, covnm_2 = mdl_pet$covnm_2, lower = mdl_pet$lower)\n",
    "    bootmdl_spei <- fit_ns(mdl_spei$dist, mdl_spei$type, boot_df, varnm = mdl_spei$varnm, covnm_1 = mdl_spei$covnm_1, covnm_2 = mdl_spei$covnm_2, lower = mdl_spei$lower)\n",
    "    \n",
    "    c(\"pr\" = Delta_I(bootmdl_pr, rp = rp_pr, cov1 = gmst_2022, cov1_cf = gmst_cf, relative = F),\n",
    "      \"pet\" = Delta_I(bootmdl_pet, rp = rp_pet, cov1 = gmst_2022, cov1_cf = gmst_cf, relative = F),\n",
    "      \"spei\" = Delta_I(bootmdl_spei, rp = rp_spei, cov1 = gmst_2022, cov1_cf = gmst_cf, relative = F))\n",
    "})"
   ]
  },
  {
   "cell_type": "code",
   "execution_count": null,
   "id": "751f7085-6c2a-4c04-8e48-7e0b603771b8",
   "metadata": {},
   "outputs": [],
   "source": [
    "boxplot(t(boot_res))"
   ]
  },
  {
   "cell_type": "code",
   "execution_count": null,
   "id": "4c4efac7-9cc2-419d-a358-e3fe48b5eb9a",
   "metadata": {},
   "outputs": [],
   "source": [
    "par(mfrow = c(1,3))\n",
    "boxplot(t(boot_res[c(\"pr\", \"pet\"),]))\n",
    "boxplot(boot_res[\"pet\",])"
   ]
  },
  {
   "cell_type": "markdown",
   "id": "c153db78-993e-4b76-9da6-af4abac81ea9",
   "metadata": {},
   "source": [
    "### **Plots of trend & return level**"
   ]
  },
  {
   "cell_type": "code",
   "execution_count": null,
   "id": "b0651c7c-f96a-4f53-bf36-0e56411bf428",
   "metadata": {},
   "outputs": [],
   "source": [
    "source(\"../wwa_nonstationary_fitting.r\")\n",
    "\n",
    "# load covariate data\n",
    "df <- merge(read.csv(\"ts/EA-drought_gmst-smoothed.dat\", comment.char = \"#\", sep = \" \", header = F, col.names = c(\"year\", \"gmst\")),\n",
    "            read.csv(\"ts/EA-drought_detrended-nino-ond.dat\", comment.char = \"#\", sep = \" \", header = F, col.names = c(\"year\", \"nino_ond\")))\n",
    "\n",
    "# fix covariate values\n",
    "gmst_2022 <- df[df$year == 2022, \"gmst\"]\n",
    "gmst_cf <- gmst_2022 - 1.2\n",
    "\n",
    "ondnino_2022 <- ondnino_cf <- df[df$year == 2022, \"nino_ond\"]"
   ]
  },
  {
   "cell_type": "markdown",
   "id": "4449a813-fa59-4df0-9993-26355c3b43a4",
   "metadata": {},
   "source": [
    "#### **pr_ond ~ gmst + nino_ond**"
   ]
  },
  {
   "cell_type": "code",
   "execution_count": null,
   "id": "fba3b6fa-c736-4fec-a745-3289d0e72db0",
   "metadata": {},
   "outputs": [],
   "source": [
    "varnm = \"pr-ond\"\n",
    "sapply(c(\"cpc\", \"chirps05+centrends01\"), function(ds_nm) {\n",
    "        \n",
    "    pr_df <- merge(df, read.csv(paste0(\"ts/EA-drought_\",varnm,\"_\",ds_nm,\".dat\"), comment.char = \"#\", sep = \" \", header = F, col.names = c(\"year\", \"pr\")))\n",
    "    pr_df[\"log10_pr\"] <- log10(pr_df$pr)\n",
    "    \n",
    "    mdl <- fit_ns(\"norm\", \"fixeddisp\", pr_df, varnm = \"log10_pr\", covnm_1 = \"gmst\", covnm_2 = \"nino_ond\", lower = T)\n",
    "\n",
    "    png(paste0(\"fig/rlplot_\",varnm,\"_\",ds_nm,\".png\"), width = 480*1.2, height = 480); {\n",
    "        par(mar = c(3.5,3.5,1,3.5), cex = 1.4)\n",
    "        plot_returnperiods(mdl, cov1 = gmst_2022, cov1_cf = gmst_cf, cov2 = ondnino_2022, cov2_cf = ondnino_cf, ylab = \"log10 precip\")\n",
    "        \n",
    "        yticks <- c(50,seq(100,700,100))\n",
    "        axis(4, at = log10(yticks), labels = yticks)\n",
    "        mtext(\"Precip (mm)\", side = 4, line = 2.5, cex = par(\"cex\"))\n",
    "    }; dev.off()\n",
    "    \n",
    "    png(paste0(\"fig/gmsttrend_\",varnm,\"_\",ds_nm,\".png\"), width = 480*1.2, height = 480); {\n",
    "        par(mar = c(3.5,3.5,1,3.5), cex = 1.4)\n",
    "        plot_gmsttrend(mdl, cov1 = gmst_2022, cov1_cf = gmst_cf, cov2 = ondnino_2022, ylab = \"log10 precip\", ylim = c(1.6,2.8))\n",
    "\n",
    "        yticks <- c(50,seq(100,700,100))\n",
    "        axis(4, at = log10(yticks), labels = yticks)\n",
    "        mtext(\"Precip (mm)\", side = 4, line = 2.5, cex = par(\"cex\"))\n",
    "    }; dev.off()\n",
    "})"
   ]
  },
  {
   "cell_type": "code",
   "execution_count": null,
   "id": "a1c01291-9f83-4ffc-8c04-a5fd28207547",
   "metadata": {},
   "outputs": [],
   "source": [
    "# or both models on one axis?\n",
    "sapply(c(\"cpc\", \"chirps05+centrends01\"), function(ds_nm) {\n",
    "    \n",
    "    pr_df <- merge(df, read.csv(paste0(\"ts/EA-drought_\",varnm,\"_\",ds_nm,\".dat\"), comment.char = \"#\", sep = \" \", header = F, col.names = c(\"year\", \"pr\")))\n",
    "    pr_df[\"log10_pr\"] <- log10(pr_df$pr)\n",
    "    mdl_nino <- fit_ns(\"norm\", \"fixeddisp\", pr_df, varnm = \"log10_pr\", covnm_1 = \"gmst\", covnm_2 = \"nino_ond\", lower = T)\n",
    "    mdl_gmst <- fit_ns(\"norm\", \"fixeddisp\", pr_df, varnm = \"log10_pr\", covnm_1 = \"gmst\", lower = T)\n",
    "    \n",
    "    png(paste0(\"fig/gmsttrend_\",varnm,\"_\",ds_nm,\"_both-models.png\"), width = 480*1.4, height = 480); {\n",
    "        par(mar = c(3.5,3.5,1,3.5), cex = 1.4)\n",
    "        plot_gmsttrend(mdl_gmst, cov1 = gmst_2022, cov1_cf = gmst_cf, cov2 = ondnino_2022, legend_pos = NA)\n",
    "        plot_gmsttrend(mdl_nino, cov1 = gmst_2022, cov1_cf = gmst_cf, cov2 = ondnino_2022, ylab = \"log10 precip\", ylim = c(1.6,2.8), legend_pos = NA, add = T, col_main = \"darkred\", col_rl = \"red\", lty = \"dotted\")\n",
    "\n",
    "        legend(\"topleft\", legend = c(\"pr_ond ~ gmst\", \"1-in-6-year event\", \"1-in-40-year event\", \"pr_ond ~ gmst + nino\", \"1-in-6-year event\", \"1-in-40-year event\"),\n",
    "               ncol = 2, col = c(\"black\", rep(\"blue\", 2), \"darkred\", rep(\"red\", 2)), lty = rep(1:2, each = 3), lwd = rep(c(2,2,1), 2), bty = \"n\")\n",
    "        yticks <- c(50,seq(100,700,100))\n",
    "        axis(4, at = log10(yticks), labels = yticks)\n",
    "        mtext(\"Precip (mm)\", side = 4, line = 2.5, cex = par(\"cex\"))\n",
    "    }; dev.off()\n",
    "    \n",
    "    png(paste0(\"fig/rlplot_\",varnm,\"_\",ds_nm,\"_both-models.png\"), width = 480*1.4, height = 480); {\n",
    "        par(mar = c(3.5,3.5,1,3.5), cex = 1.4)\n",
    "        plot_returnperiods(mdl_gmst, cov1 = gmst_2022, cov1_cf = gmst_cf, cov2 = ondnino_2022, cov2_cf = ondnino_cf, ylab = \"log10 precip\", xlim = c(1,1000), ylim = c(1.6, 2.6), pch = NA, legend_pos = NA)\n",
    "        plot_returnperiods(mdl_nino, cov1 = gmst_2022, cov1_cf = gmst_cf, cov2 = ondnino_2022, cov2_cf = ondnino_cf, add = T, legend_pos = NA, pch = NA, lty = 2)\n",
    "        \n",
    "        legend(\"topright\", legend = c(\"pr_ond ~ gmst (2022 climate)\", \"pr_ond ~ gmst(counterfactual)\", \"pr_ond ~ gmst + nino (2022 climate)\", \"pr_ond ~ gmst + nino (counterfactual)\"),\n",
    "               ncol = 1, col = rep(c(\"firebrick\", \"blue\"), 2), lty = rep(1:2, each = 2), bty = \"n\")\n",
    "        \n",
    "        yticks <- c(50,seq(100,700,100))\n",
    "        axis(4, at = log10(yticks), labels = yticks)\n",
    "        mtext(\"Precip (mm)\", side = 4, line = 2.5, cex = par(\"cex\"))\n",
    "    }; dev.off()\n",
    "})"
   ]
  },
  {
   "cell_type": "markdown",
   "id": "c8645715-e38a-4e37-9831-8e90e51e621a",
   "metadata": {},
   "source": [
    "#### **pr_ond ~ gmst**"
   ]
  },
  {
   "cell_type": "code",
   "execution_count": null,
   "id": "9012f8cc-ef0a-47da-ac14-8d2e5ae240ad",
   "metadata": {},
   "outputs": [],
   "source": [
    "varnm = \"pr-ond\"\n",
    "sapply(c(\"cpc\", \"chirps05+centrends01\"), function(ds_nm) {\n",
    "        \n",
    "    pr_df <- merge(df, read.csv(paste0(\"ts/EA-drought_\",varnm,\"_\",ds_nm,\".dat\"), comment.char = \"#\", sep = \" \", header = F, col.names = c(\"year\", \"pr\")))\n",
    "    pr_df[\"log10_pr\"] <- log10(pr_df$pr)\n",
    "    \n",
    "    mdl <- fit_ns(\"norm\", \"fixeddisp\", pr_df, varnm = \"log10_pr\", covnm_1 = \"gmst\",lower = T)\n",
    "\n",
    "    png(paste0(\"fig/rlplot_\",varnm,\"-gmst_\",ds_nm,\".png\"), width = 480*1.2, height = 480); {\n",
    "        par(mar = c(3.5,3.5,1,3.5), cex = 1.4)\n",
    "        plot_returnperiods(mdl, cov1 = gmst_2022, cov1_cf = gmst_cf, cov2 = ondnino_2022, cov2_cf = ondnino_cf, ylab = \"log10 precip\")\n",
    "        \n",
    "        yticks <- c(50,seq(100,700,100))\n",
    "        axis(4, at = log10(yticks), labels = yticks)\n",
    "        mtext(\"Precip (mm)\", side = 4, line = 2.5, cex = par(\"cex\"))\n",
    "    }; dev.off()\n",
    "    \n",
    "    png(paste0(\"fig/gmsttrend_\",varnm,\"-gmst_\",ds_nm,\".png\"), width = 480*1.2, height = 480); {\n",
    "        par(mar = c(3.5,3.5,1,3.5), cex = 1.4)\n",
    "        plot_gmsttrend(mdl, cov1 = gmst_2022, cov1_cf = gmst_cf, cov2 = ondnino_2022, ylab = \"log10 precip\", ylim = c(1.6,2.8))\n",
    "\n",
    "        yticks <- c(50,seq(100,700,100))\n",
    "        axis(4, at = log10(yticks), labels = yticks)\n",
    "        mtext(\"Precip (mm)\", side = 4, line = 2.5, cex = par(\"cex\"))\n",
    "    }; dev.off()\n",
    "})"
   ]
  },
  {
   "cell_type": "markdown",
   "id": "37b4beb0-fe4f-4a4d-94d8-f73172fb6afa",
   "metadata": {},
   "source": [
    "#### **pr_mam ~ gmst**"
   ]
  },
  {
   "cell_type": "code",
   "execution_count": null,
   "id": "51c28b99-be45-4b57-9bcc-f43346780309",
   "metadata": {},
   "outputs": [],
   "source": [
    "varnm = \"pr-mam\"\n",
    "sapply(c(\"cpc\", \"chirps05+centrends01\"), function(ds_nm) {\n",
    "        \n",
    "    pr_df <- merge(df, read.csv(paste0(\"ts/EA-drought_\",varnm,\"_\",ds_nm,\".dat\"), comment.char = \"#\", sep = \" \", header = F, col.names = c(\"year\", \"pr\")))\n",
    "    pr_df[\"log10_pr\"] <- log10(pr_df$pr)\n",
    "    \n",
    "    mdl <- fit_ns(\"norm\", \"fixeddisp\", pr_df, varnm = \"log10_pr\", covnm_1 = \"gmst\", lower = T)\n",
    "\n",
    "    png(paste0(\"fig/rlplot_\",varnm,\"_\",ds_nm,\".png\"), width = 480*1.2, height = 480); {\n",
    "        par(mar = c(3.5,3.5,1,3.5), cex = 1.4)\n",
    "        plot_returnperiods(mdl, cov1 = gmst_2022, cov1_cf = gmst_cf, cov2 = ondnino_2022, cov2_cf = ondnino_cf, ylab = \"log10 precip\")\n",
    "        \n",
    "        yticks <- c(50,seq(100,700,100))\n",
    "        axis(4, at = log10(yticks), labels = yticks)\n",
    "        mtext(\"Precip (mm)\", side = 4, line = 2.5, cex = par(\"cex\"))\n",
    "    }; dev.off()\n",
    "    \n",
    "    png(paste0(\"fig/gmsttrend_\",varnm,\"_\",ds_nm,\".png\"), width = 480*1.2, height = 480); {\n",
    "        par(mar = c(3.5,3.5,1,3.5), cex = 1.4)\n",
    "        plot_gmsttrend(mdl, cov1 = gmst_2022, cov1_cf = gmst_cf, cov2 = ondnino_2022, ylab = \"log10 precip\", ylim = c(1.8,2.9), legend_pos = \"topleft\")\n",
    "\n",
    "        yticks <- c(50,seq(100,700,100))\n",
    "        axis(4, at = log10(yticks), labels = yticks)\n",
    "        mtext(\"Precip (mm)\", side = 4, line = 2.5, cex = par(\"cex\"))\n",
    "    }; dev.off()\n",
    "})"
   ]
  },
  {
   "cell_type": "markdown",
   "id": "e33bc30e-c563-4970-8674-38890e729e7f",
   "metadata": {},
   "source": [
    "#### **pr_24 ~ gmst**"
   ]
  },
  {
   "cell_type": "code",
   "execution_count": null,
   "id": "5ac7ed13-634f-4e77-8674-e896f8a2ad89",
   "metadata": {},
   "outputs": [],
   "source": [
    "varnm = \"pr-24\"\n",
    "sapply(c(\"cpc\", \"chirps05+centrends01\"), function(ds_nm) {\n",
    "        \n",
    "    pr_df <- merge(df, read.csv(paste0(\"ts/EA-drought_\",varnm,\"_\",ds_nm,\".dat\"), comment.char = \"#\", sep = \" \", header = F, col.names = c(\"year\", \"pr\")))\n",
    "    pr_df[\"log10_pr\"] <- log10(pr_df$pr)\n",
    "    \n",
    "    mdl <- fit_ns(\"norm\", \"fixeddisp\", pr_df, varnm = \"log10_pr\", covnm_1 = \"gmst\", lower = T)\n",
    "\n",
    "    png(paste0(\"fig/rlplot_\",varnm,\"_\",ds_nm,\".png\"), width = 480*1.2, height = 480); {\n",
    "        par(mar = c(3.5,3.5,1,3.5), cex = 1.4)\n",
    "        plot_returnperiods(mdl, cov1 = gmst_2022, cov1_cf = gmst_cf, cov2 = ondnino_2022, cov2_cf = ondnino_cf, ylab = \"log10 precip\")\n",
    "        \n",
    "        yticks <- c(50,seq(100,700,100))\n",
    "        axis(4, at = log10(yticks), labels = yticks)\n",
    "        mtext(\"Precip (mm)\", side = 4, line = 2.5, cex = par(\"cex\"))\n",
    "    }; dev.off()\n",
    "    \n",
    "    png(paste0(\"fig/gmsttrend_\",varnm,\"_\",ds_nm,\".png\"), width = 480*1.2, height = 480); {\n",
    "        par(mar = c(3.5,3.5,1,3.5), cex = 1.4)\n",
    "        plot_gmsttrend(mdl, cov1 = gmst_2022, cov1_cf = gmst_cf, cov2 = ondnino_2022, ylab = \"log10 precip\", ylim = c(2.7,3.2), legend_pos = NA)\n",
    "\n",
    "        yticks <- c(50,seq(100,700,100))\n",
    "        axis(4, at = log10(yticks), labels = yticks)\n",
    "        mtext(\"Precip (mm)\", side = 4, line = 2.5, cex = par(\"cex\"))\n",
    "    }; dev.off()\n",
    "})"
   ]
  },
  {
   "cell_type": "markdown",
   "id": "a1b81bf9-7c60-4a23-8709-18c23f9b5f59",
   "metadata": {},
   "source": [
    "### **PET & SPEI**"
   ]
  },
  {
   "cell_type": "code",
   "execution_count": null,
   "id": "82b2b74f-61fa-464f-9969-9cf208b49aba",
   "metadata": {},
   "outputs": [],
   "source": [
    "varnm = \"pet-24\"\n",
    "sapply(c(\"cpc\"), function(ds_nm) {\n",
    "        \n",
    "    pr_df <- merge(df, read.csv(paste0(\"ts/EA-drought_\",varnm,\"_\",ds_nm,\".dat\"), comment.char = \"#\", sep = \" \", header = F, col.names = c(\"year\", \"pet\")))\n",
    "    \n",
    "    mdl <- fit_ns(\"norm\", \"shift\", pr_df, varnm = \"pet\", covnm_1 = \"gmst\", lower = F)\n",
    "\n",
    "    png(paste0(\"fig/rlplot_\",varnm,\"_\",ds_nm,\".png\"), width = 480*1.2, height = 480); {\n",
    "        par(mar = c(3.5,3.5,1,3.5), cex = 1.4)\n",
    "        plot_returnperiods(mdl, cov1 = gmst_2022, cov1_cf = gmst_cf, cov2 = ondnino_2022, cov2_cf = ondnino_cf, ylab = \"PET (mm)\", ylim = c(80,150))\n",
    "    }; dev.off()\n",
    "    \n",
    "    png(paste0(\"fig/gmsttrend_\",varnm,\"_\",ds_nm,\".png\"), width = 480*1.2, height = 480); {\n",
    "        par(mar = c(3.5,3.5,1,3.5), cex = 1.4)\n",
    "        plot_gmsttrend(mdl, cov1 = gmst_2022, cov1_cf = gmst_cf, cov2 = ondnino_2022, ylab = \"PET (mm)\", legend_pos = NA, ylim = c(80,150))\n",
    "    }; dev.off()\n",
    "})"
   ]
  },
  {
   "cell_type": "code",
   "execution_count": null,
   "id": "671b2f1a-0635-41e8-8f88-d421d3b64a20",
   "metadata": {},
   "outputs": [],
   "source": [
    "varnm = \"spei-24\"\n",
    "sapply(c(\"cpc\"), function(ds_nm) {\n",
    "        \n",
    "    pr_df <- merge(df, read.csv(paste0(\"ts/EA-drought_\",varnm,\"_\",ds_nm,\".dat\"), comment.char = \"#\", sep = \" \", header = F, col.names = c(\"year\", \"spei\")))\n",
    "    \n",
    "    mdl <- fit_ns(\"norm\", \"shift\", pr_df, varnm = \"spei\", covnm_1 = \"gmst\", lower = T)\n",
    "\n",
    "    png(paste0(\"fig/rlplot_\",varnm,\"_\",ds_nm,\".png\"), width = 480*1.2, height = 480); {\n",
    "        par(mar = c(3.5,3.5,1,3.5), cex = 1.4)\n",
    "        plot_returnperiods(mdl, cov1 = gmst_2022, cov1_cf = gmst_cf, cov2 = ondnino_2022, cov2_cf = ondnino_cf, ylab = \"24-month SPEI\", ylim = c(-3.9, 3.9))\n",
    "    }; dev.off()\n",
    "    \n",
    "    png(paste0(\"fig/gmsttrend_\",varnm,\"_\",ds_nm,\".png\"), width = 480*1.2, height = 480); {\n",
    "        par(mar = c(3.5,3.5,1,3.5), cex = 1.4)\n",
    "        plot_gmsttrend(mdl, cov1 = gmst_2022, cov1_cf = gmst_cf, cov2 = ondnino_2022, ylab = \"24-month SPEI\", legend_pos = NA, ylim = c(-3.9, 3.9))\n",
    "    }; dev.off()\n",
    "})"
   ]
  },
  {
   "cell_type": "markdown",
   "id": "5698c970-25ba-4e21-bc00-ed2fd741663e",
   "metadata": {},
   "source": [
    "## **Station data**"
   ]
  },
  {
   "cell_type": "code",
   "execution_count": null,
   "id": "228a9ff9-85ef-4bf2-9a06-739e795f986e",
   "metadata": {},
   "outputs": [],
   "source": [
    "source(\"../wwa_nonstationary_fitting.r\")\n",
    "\n",
    "# load covariate data\n",
    "df <- merge(read.csv(\"ts/EA-drought_gmst-smoothed.dat\", comment.char = \"#\", sep = \" \", header = F, col.names = c(\"year\", \"gmst\")),\n",
    "            read.csv(\"ts/EA-drought_detrended-nino-ond.dat\", comment.char = \"#\", sep = \" \", header = F, col.names = c(\"year\", \"nino_ond\")))\n",
    "\n",
    "# fix covariate values\n",
    "gmst_2022 <- df[df$year == 2022, \"gmst\"]\n",
    "gmst_cf <- gmst_2022 - 1.2\n",
    "\n",
    "ondnino_2022 <- ondnino_cf <- df[df$year == 2022, \"nino_ond\"]"
   ]
  },
  {
   "cell_type": "markdown",
   "id": "539e8cfc-427c-4dd1-85b3-109dc2befaa6",
   "metadata": {},
   "source": [
    "### **Tables of fitted trends**"
   ]
  },
  {
   "cell_type": "code",
   "execution_count": null,
   "id": "4bd69496-fccb-4a98-b9a4-8fcc3dd9036d",
   "metadata": {},
   "outputs": [],
   "source": [
    "stn_ond_res <- t(sapply(list.files(\"ts\", pattern = \"ond_stn\", full.names = T), function(fnm) {\n",
    "    \n",
    "    stn <- gsub(\".dat\", \"\", strsplit(fnm, \"-\")[[1]][5])\n",
    "    pr_df <- merge(df, read.csv(fnm, comment.char = \"#\", sep = \" \", header = F, col.names = c(\"year\", \"precip\")))\n",
    "    pr_df[\"log10_pr\"] <- log10(pr_df$pr)\n",
    "    \n",
    "    bootstrap_obs_results(fit_ns(\"norm\", \"fixeddisp\", pr_df, varnm = \"log10_pr\", covnm_1 = \"gmst\", covnm_2 = \"nino_ond\", lower = T), nsamp = 1000,\n",
    "                          cov1 = gmst_2022, cov1_cf = gmst_cf, cov2 = ondnino_2022, cov2_cf = ondnino_cf, convert_logs = T)\n",
    "}))\n",
    "write.csv(stn_ond_res, \"res/EA-drought_pr-ond_stations_fitted.csv\")"
   ]
  },
  {
   "cell_type": "code",
   "execution_count": null,
   "id": "62dd6eaf-2cfc-43de-a8bd-c529bd98bd02",
   "metadata": {},
   "outputs": [],
   "source": [
    "stn_mam_res <- t(sapply(list.files(\"ts\", pattern = \"mam_stn\", full.names = T), function(fnm) {\n",
    "    \n",
    "    stn <- gsub(\".dat\", \"\", strsplit(fnm, \"-\")[[1]][5])\n",
    "    pr_df <- merge(df, read.csv(fnm, comment.char = \"#\", sep = \" \", header = F, col.names = c(\"year\", \"precip\")))\n",
    "    pr_df[\"log10_pr\"] <- log10(pr_df$pr)\n",
    "    \n",
    "    bootstrap_obs_results(fit_ns(\"norm\", \"fixeddisp\", pr_df, varnm = \"log10_pr\", covnm_1 = \"gmst\", lower = T), nsamp = 1000,\n",
    "                          cov1 = gmst_2022, cov1_cf = gmst_cf, cov2 = ondnino_2022, cov2_cf = ondnino_cf, convert_logs = T)\n",
    "}))\n",
    "write.csv(stn_mam_res, \"res/EA-drought_pr-mam_stations_fitted.csv\")"
   ]
  },
  {
   "cell_type": "code",
   "execution_count": null,
   "id": "5eea2032-60b5-44bc-b238-4b2b56a3d0c5",
   "metadata": {
    "tags": []
   },
   "outputs": [],
   "source": [
    "stn_24_res <- t(sapply(list.files(\"ts\", pattern = \"24-month_stn\", full.names = T), function(fnm) {\n",
    "    \n",
    "    stn <- gsub(\".dat\", \"\", strsplit(fnm, \"-\")[[1]][5])\n",
    "    pr_df <- merge(df, read.csv(fnm, comment.char = \"#\", sep = \" \", header = F, col.names = c(\"year\", \"precip\")))\n",
    "    pr_df[\"log10_pr\"] <- log10(pr_df$pr)\n",
    "    \n",
    "    bootstrap_obs_results(fit_ns(\"norm\", \"fixeddisp\", pr_df, varnm = \"log10_pr\", covnm_1 = \"gmst\", lower = T), nsamp = 1000,\n",
    "                          cov1 = gmst_2022, cov1_cf = gmst_cf, cov2 = ondnino_2022, cov2_cf = ondnino_cf, convert_logs = T)\n",
    "}))\n",
    "write.csv(stn_mam_res, \"res/EA-drought_pr-24_stations_fitted.csv\")"
   ]
  },
  {
   "cell_type": "markdown",
   "id": "f7b4f831-9e83-408b-a612-fb6487010797",
   "metadata": {},
   "source": [
    "### **Trend plots**"
   ]
  },
  {
   "cell_type": "code",
   "execution_count": null,
   "id": "858990a9-076d-467c-819e-9715d024988e",
   "metadata": {},
   "outputs": [],
   "source": [
    "# Trends in GMST\n",
    "prep_window(c(2,4))\n",
    "par(mar = c(3.5,3.5,3.5,3.5))\n",
    "invisible(sapply(list.files(\"ts\", pattern = \"24-month_stn\", full.names = T), function(fnm) {\n",
    "    \n",
    "    stn <- gsub(\".dat\", \"\", strsplit(fnm, \"-\")[[1]][5])\n",
    "    pr_df <- merge(df, read.csv(fnm, comment.char = \"#\", sep = \" \", header = F, col.names = c(\"year\", \"precip\")))\n",
    "    pr_df[\"log10_pr\"] <- log10(pr_df$pr)\n",
    "    \n",
    "    mdl <- fit_ns(\"norm\", \"fixeddisp\", pr_df, varnm = \"log10_pr\", covnm_1 = \"gmst\", lower = T)\n",
    "    \n",
    "    plot_gmsttrend(mdl, cov1 = gmst_2022, cov1_cf = gmst_cf, cov2 = ondnino_2022, ylab = \"log10 precip\", legend_pos = NA, main = stn)\n",
    "    yticks <- c(50,seq(100,1500,100), seq(2000,5000,500))\n",
    "    axis(4, at = log10(yticks), labels = yticks)\n",
    "    mtext(\"Precip (mm)\", side = 4, line = 2.5, cex = par(\"cex\"))\n",
    "}))\n",
    "plot.new()\n",
    "legend(\"left\", legend = c(\"location\", \"1-in-6-year event\", \"1-in-40-year event\"), lty = 1, col = c(\"black\", rep(\"blue\", 2)), lwd = c(2,2,1))"
   ]
  },
  {
   "cell_type": "code",
   "execution_count": null,
   "id": "3cd02bd7-991a-475c-af01-05e4ea2fcf4e",
   "metadata": {},
   "outputs": [],
   "source": [
    "# Return level plots\n",
    "prep_window(c(2,4))\n",
    "par(mar = c(3.5,3.5,3.5,3.5))\n",
    "invisible(sapply(list.files(\"ts\", pattern = \"24-month_stn\", full.names = T), function(fnm) {\n",
    "    \n",
    "    stn <- gsub(\".dat\", \"\", strsplit(fnm, \"-\")[[1]][5])\n",
    "    pr_df <- merge(df, read.csv(fnm, comment.char = \"#\", sep = \" \", header = F, col.names = c(\"year\", \"precip\")))\n",
    "    pr_df[\"log10_pr\"] <- log10(pr_df$pr)\n",
    "    \n",
    "    mdl <- fit_ns(\"norm\", \"fixeddisp\", pr_df, varnm = \"log10_pr\", covnm_1 = \"gmst\", lower = T)\n",
    "    \n",
    "    plot_returnperiods(mdl, cov1 = gmst_2022, cov1_cf = gmst_cf, cov2 = ondnino_2022, cov2_cf = ondnino_cf, ylab = \"log10 precip\", main = stn)\n",
    "    \n",
    "    yticks <- c(50,seq(100,1500,100), seq(2000,5000,500))\n",
    "    axis(4, at = log10(yticks), labels = yticks)\n",
    "    mtext(\"Precip (mm)\", side = 4, line = 2.5, cex = par(\"cex\"))\n",
    "    \n",
    "}))"
   ]
  },
  {
   "cell_type": "code",
   "execution_count": null,
   "id": "c4a8a74a-eaf9-4c33-88b8-bb9bebdf1042",
   "metadata": {
    "tags": []
   },
   "outputs": [],
   "source": [
    "# Trends over time\n",
    "\n",
    "prep_window(c(2,4))\n",
    "par(mar = c(3.5,3.5,3.5,3.5))\n",
    "invisible(sapply(list.files(\"ts\", pattern = \"24-month_stn\", full.names = T), function(fnm) {\n",
    "    \n",
    "    stn <- gsub(\".dat\", \"\", strsplit(fnm, \"-\")[[1]][5])\n",
    "    pr_df <- merge(df, read.csv(fnm, comment.char = \"#\", sep = \" \", header = F, col.names = c(\"year\", \"precip\")))\n",
    "    pr_df[\"log10_pr\"] <- log10(pr_df$pr)\n",
    "    \n",
    "    mdl <- fit_ns(\"norm\", \"fixeddisp\", pr_df, varnm = \"log10_pr\", covnm_1 = \"gmst\", lower = T)\n",
    "    rp_2022 <- 1/map_to_u(mdl)[mdl$ev_idx]\n",
    "    \n",
    "    plot(pr_df[,c(\"year\", \"precip\")], type = \"S\", lwd = 2, xlab = \"\", ylab = \"\", col = adjustcolor(\"black\", alpha = 0.5), main = paste0(stn, \" (rp\", round(rp_2022,0),\")\"))\n",
    "    lines(pr_df$year, 10^ns_pars(mdl)$loc, type = \"S\", lwd = 2, col = \"black\")\n",
    "    lines(pr_df$year, 10^map_from_u(1/6, mdl, cov1 = mdl$cov1), col = \"blue\", lwd = 2, type = \"s\")\n",
    "    lines(pr_df$year, 10^map_from_u(1/40, mdl, cov1 = mdl$cov1), col = \"blue\", lwd = 1, type = \"s\")\n",
    "    \n",
    "    points(2022, pr_df$precip[pr_df$year == 2022], col = \"magenta\", pch = 20, cex = 2)\n",
    "    mtext(\"Precip (mm)\", side = 2, line = 2.5, cex = par(\"cex\"))\n",
    "}))\n",
    "plot.new()\n",
    "legend(\"left\", legend = c(\"location\", \"1-in-6-year event\", \"1-in-40-year event\"), lty = 1, col = c(\"black\", rep(\"blue\", 2)), lwd = c(2,2,1))"
   ]
  },
  {
   "cell_type": "markdown",
   "id": "5618cb76-57d9-44cd-9a2a-92488d5a6268",
   "metadata": {},
   "source": [
    "---\n",
    "## **Models**"
   ]
  },
  {
   "cell_type": "code",
   "execution_count": 1,
   "id": "c6bebcc0-5069-4fd1-a50a-ca810b8a5ced",
   "metadata": {
    "tags": []
   },
   "outputs": [],
   "source": [
    "source(\"../wwa_nonstationary_fitting.r\")\n",
    "\n",
    "model_results <- function(df, dist, fittype, varnm, covnm_1, covnm_2 = NA, cov1_2022, cov1_hist, cov1_fut, cov2_2022 = 0, cov2_hist = 0, cov2_fut = 0,\n",
    "                                lower = F, rp = 10, delta_relative = T, nsamp = 1000, seed = 1) {\n",
    "    \n",
    "    # FUNCTION TO CARRY OUT ALL ATTRIBUTION RUNS & PRODUCE RESULTS IN SPREADSHEET-FRIENDLY FORM\n",
    "    \n",
    "    set.seed(seed)\n",
    "    \n",
    "    #~~~~~~~~~~~~~~~~~~~~~~~~~~~~~~~~~~~~~~~~~~~~~~~~~~~~~~~~~~~~~~~~~~~~~~~\n",
    "    # FIT MODEL to three different subsets: for evaluation, attribution & projection\n",
    "    \n",
    "    df_eval <- df[df$year >= 1979 & df$year <= 2022,]\n",
    "    df_attr <- df[df$year <= 2022,]\n",
    "    df_proj <- df[df$year <= 2050,]\n",
    "    \n",
    "    mdl_eval <- fit_ns(dist, fittype, df_eval, varnm = varnm, covnm_1 = covnm_1, covnm_2 = covnm_2, lower = lower)\n",
    "    mdl_attr <- fit_ns(dist, fittype, df_attr, varnm = varnm, covnm_1 = covnm_1, covnm_2 = covnm_2, lower = lower)\n",
    "    mdl_proj <- fit_ns(dist, fittype, df_proj, varnm = varnm, covnm_1 = covnm_1, covnm_2 = covnm_2, lower = lower)\n",
    "    \n",
    "    #~~~~~~~~~~~~~~~~~~~~~~~~~~~~~~~~~~~~~~~~~~~~~~~~~~~~~~~~~~~~~~~~~~~~~~~\n",
    "    ## EVALUATION (get model parameters)\n",
    "    \n",
    "    if(fittype == \"fixeddisp\") {\n",
    "        disp_eval <- mdl_eval$par[\"sigma0\"] / mdl_eval$par[\"mu0\"]\n",
    "        boot_eval <- sapply(1:nsamp, function(i) {\n",
    "            \n",
    "            boot_df <- df_eval[sample(1:nrow(df_eval), nrow(df_eval), replace = T),]\n",
    "            boot_mdl <- fit_ns(mdl_eval$dist, mdl_eval$type, boot_df, varnm = mdl_eval$varnm, covnm_1 = mdl_eval$covnm_1, covnm_2 = mdl_eval$covnm_2, lower = mdl_eval$lower)\n",
    "            boot_mdl$par[\"sigma0\"] / boot_mdl$par[\"mu0\"]\n",
    "        })\n",
    "        ci_eval <- setNames(c(disp_eval, quantile(boot_eval, c(0.025, 0.975))),\n",
    "                            c(\"disp_est\", \"disp_lower\", \"disp_upper\"))\n",
    "    } else {\n",
    "        var_eval <- mdl_eval$par[\"sigma0\"]\n",
    "        boot_eval <- sapply(1:nsamp, function(i) {\n",
    "            \n",
    "            boot_df <- df_eval[sample(1:nrow(df_eval), nrow(df_eval), replace = T),]\n",
    "            boot_mdl <- fit_ns(mdl_eval$dist, mdl_eval$type, boot_df, varnm = mdl_eval$varnm, covnm_1 = mdl_eval$covnm_1, covnm_2 = mdl_eval$covnm_2, lower = mdl_eval$lower)\n",
    "            boot_mdl$par[\"sigma0\"]\n",
    "        })\n",
    "        ci_eval <- setNames(c(var_eval, quantile(boot_eval, c(0.025, 0.975))),\n",
    "                            c(\"var_est\", \"var_lower\", \"var_upper\"))\n",
    "    }\n",
    "    \n",
    "    #~~~~~~~~~~~~~~~~~~~~~~~~~~~~~~~~~~~~~~~~~~~~~~~~~~~~~~~~~~~~~~~~~~~~~~~\n",
    "    ## ATTRIBUTION (get event value, PR & DI)\n",
    "    \n",
    "    rl_2022 <- map_from_u(1/rp, mdl_attr, cov1 = cov1_2022, cov2 = cov2_2022)\n",
    "    if(substr(varnm,1,5) == \"log10\") { actual_rl2022 <- 10^rl_2022 } else { actual_rl2022 <- rl_2022 }\n",
    "    \n",
    "    pr_eval <- prob_ratio(mdl_attr, rl_2022, cov1 = cov1_2022, cov1_cf = cov1_hist, cov2 = cov2_2022, cov2_cf = cov2_hist)\n",
    "    dI_eval <- Delta_I(mdl_attr, rp, cov1 = cov1_2022, cov1_cf = cov1_hist, relative = delta_relative)\n",
    "    \n",
    "    boot_attr <- sapply(1:nsamp, function(i) {\n",
    "        \n",
    "        boot_df <- df_attr[sample(1:nrow(df_attr), nrow(df_attr), replace = T),]\n",
    "        boot_mdl <- fit_ns(mdl_attr$dist, mdl_attr$type, boot_df, varnm = mdl_attr$varnm, covnm_1 = mdl_attr$covnm_1, covnm_2 = mdl_attr$covnm_2, lower = mdl_attr$lower)\n",
    "        \n",
    "        boot_pr <- prob_ratio(boot_mdl, rl_2022, cov1 = cov1_2022, cov1_cf = cov1_hist, cov2 = cov2_2022, cov2_cf = cov2_hist)\n",
    "        boot_di <- Delta_I(boot_mdl, 10, cov1 = cov1_2022, cov1_cf = cov1_hist, cov2 = cov2_2022, cov2_cf = cov2_hist, relative = delta_relative)\n",
    "        \n",
    "        c(\"PR\" = boot_pr, \"DI\" = boot_di)\n",
    "    })\n",
    "    ci_attr <- rbind(\"est\" = c(pr_eval, dI_eval), apply(boot_attr, 1, quantile, c(0.025, 0.975)))\n",
    "    ci_attr <- unlist(lapply(colnames(ci_attr), function(cnm) setNames(ci_attr[,cnm], paste(\"attr\", cnm, c(\"est\", \"lower\", \"upper\"), sep = \"_\"))))\n",
    "                          \n",
    "    #~~~~~~~~~~~~~~~~~~~~~~~~~~~~~~~~~~~~~~~~~~~~~~~~~~~~~~~~~~~~~~~~~~~~~~~\n",
    "    ## PROJECTION (get PR & DI)\n",
    "\n",
    "    pr_proj <- prob_ratio(mdl_proj, rl_2022, cov1 = cov1_2022, cov1_cf = cov1_fut, cov2 = cov2_2022, cov2_cf = cov2_fut)\n",
    "    dI_proj <- Delta_I(mdl_proj, 10, cov1 = cov1_2022, cov1_cf = cov1_fut, relative = delta_relative)\n",
    "                             \n",
    "    boot_proj <- sapply(1:nsamp, function(i) {\n",
    "        \n",
    "        boot_df <- df_proj[sample(1:nrow(df_proj), nrow(df_proj), replace = T),]\n",
    "        boot_mdl <- fit_ns(mdl_proj$dist, mdl_proj$type, boot_df, varnm = mdl_proj$varnm, covnm_1 = mdl_proj$covnm_1, covnm_2 = mdl_proj$covnm_2, lower = mdl_proj$lower)\n",
    "        \n",
    "        boot_pr <- prob_ratio(boot_mdl, rl_2022, cov1 = cov1_2022, cov1_cf = cov1_fut, cov2 = cov2_2022, cov2_cf = cov2_fut)\n",
    "        boot_di <- Delta_I(boot_mdl, 10, cov1 = cov1_2022, cov1_cf = cov1_fut, cov2 = cov2_2022, cov2_cf = cov2_fut, relative = delta_relative)\n",
    "        \n",
    "        c(\"PR\" = boot_pr, \"DI\" = boot_di)\n",
    "    })\n",
    "    ci_proj <- rbind(\"est\" = c(pr_proj, dI_proj), apply(boot_proj, 1, quantile, c(0.025, 0.975)))\n",
    "      \n",
    "    # invert\n",
    "    ci_proj[,\"PR\"] <- 1/ci_proj[c(1,3,2),\"PR\"]\n",
    "    ci_proj[,\"DI\"] <- -ci_proj[c(1,3,2),\"DI\"]   \n",
    "                             \n",
    "    ci_proj <- unlist(lapply(colnames(ci_proj), function(cnm) setNames(ci_proj[,cnm], paste(\"proj\", cnm, c(\"est\", \"lower\", \"upper\"), sep = \"_\"))))\n",
    "                             \n",
    "    # #~~~~~~~~~~~~~~~~~~~~~~~~~~~~~~~~~~~~~~~~~~~~~~~~~~~~~~~~~~~~~~~~~~~~~~~\n",
    "                             \n",
    "    # t(setNames(data.frame(c(ci_eval, \"rp_value\" = actual_rl2022, ci_attr, ci_proj)), gsub(\".dat\", \"\", gsub(\".+pr-mam_\", \"\", fnm))))      \n",
    "    t(data.frame(c(ci_eval, \"rp_value\" = actual_rl2022, ci_attr, ci_proj)))     \n",
    "}\n",
    "\n"
   ]
  },
  {
   "cell_type": "markdown",
   "id": "bc9b31fd-9441-4908-89f6-0d2c0897afb5",
   "metadata": {},
   "source": [
    "### **CORDEX**"
   ]
  },
  {
   "cell_type": "markdown",
   "id": "8855d16d-2294-47cd-a900-8846654e999d",
   "metadata": {},
   "source": [
    "#### **Precipitation indices**"
   ]
  },
  {
   "cell_type": "code",
   "execution_count": null,
   "id": "132f2f12-a8f3-4103-a197-3bce9a91f0d2",
   "metadata": {},
   "outputs": [],
   "source": [
    "# fit model & get results for each season\n",
    "invisible(sapply(c(\"mam\", \"ond\", \"24\"), function(seas) {\n",
    "    \n",
    "    rp <- list(\"mam\" = 10, \"ond\" = 5, \"24\" = 20)[[seas]]                  # return period depending on variable\n",
    "    if(seas == \"ond\") { covnm_2 = \"nino_ond\" } else { covnm_2 = NA }      # OND needs second covariate\n",
    "    \n",
    "    # loop over all available models, get results for each\n",
    "    res <- sapply(list.files(\"ts\", pattern = paste0(\"pr-\",seas,\"_AFR\"), full.names = T), function(fnm) {\n",
    "        \n",
    "        if(grepl(\"HadGEM2-ES_r1_RegCM4-3\", fnm)) {return(rep(NA, 16))}\n",
    "        \n",
    "        # load necessary data\n",
    "        gmst_fnm <- list.files(\"ts\", pattern = paste0(\"smoothed-gsat_\", strsplit(fnm, \"_\")[[1]][4],\"_rcp85_\",strsplit(fnm, \"_\")[[1]][5],\".dat\"), full.names = T)\n",
    "        gmst <- read.csv(gmst_fnm, comment.char = \"#\", sep = \" \", header = F, col.names = c(\"year\", \"gmst\"))\n",
    "        \n",
    "        nino_fnm <- list.files(\"ts\", paste0(\"nino-ond_\",strsplit(fnm, \"_\")[[1]][4],\"_rcp85_\",strsplit(fnm, \"_\")[[1]][5],\".dat\"), full.names = T)\n",
    "        nino <- read.csv(nino_fnm, comment.char = \"#\", sep = \" \", header = F, col.names = c(\"year\", \"nino_ond\"))\n",
    "        \n",
    "        pr <- read.csv(fnm, comment.char = \"#\", sep = \" \", header = F, col.names = c(\"year\", \"pr\"))\n",
    "        df <- merge(merge(gmst, nino), pr)\n",
    "        df[\"log10pr\"] <- log10(df$pr)   # fit models to log precip, convert back at the end (more stable model fitting)\n",
    "        \n",
    "        # covariates defining current, past & future climates\n",
    "        gmst_2022 <- gmst[gmst$year == 2022, \"gmst\"]\n",
    "        gmst_hist <- gmst_2022 - 1.2\n",
    "        gmst_fut <- gmst_2022 + 0.8\n",
    "        nino_2022 <- nino_hist <- nino_fut <- 0    # dummy covariates\n",
    "        \n",
    "        # fit model & get results\n",
    "        data.frame(model_results(df, \"norm\", \"fixeddisp\", varnm = \"log10pr\", covnm_1 = \"gmst\", covnm_2 = covnm_2, lower = T, rp = rp, delta_relative = T, nsamp = 1000,\n",
    "                                       cov1_2022 = gmst_2022, cov1_hist = gmst_hist, cov1_fut = gmst_fut, \n",
    "                                       cov2_2022 = nino_2022, cov2_hist = nino_hist, cov2_fut = nino_fut))\n",
    "    }, simplify = F)\n",
    "    \n",
    "    # merge results into single dataframe, tidy rownames & save to csv\n",
    "    res <- do.call(\"rbind\", res)\n",
    "    rownames(res) <- gsub(\".dat\", \"\", gsub(paste0(\".+pr-\",seas,\"_\"), \"\", rownames(res)))\n",
    "    write.csv(res, paste0(\"res/EA-drought_pr-\",seas,\"_cordex_fitted.csv\"))\n",
    "}))"
   ]
  },
  {
   "cell_type": "markdown",
   "id": "b89bbb19-8698-446d-9074-71218238072a",
   "metadata": {
    "toc-hr-collapsed": true
   },
   "source": [
    "#### **PET & SPEI**"
   ]
  },
  {
   "cell_type": "code",
   "execution_count": 3,
   "id": "7bd46f28-1ce4-4879-9d7e-21370f8b6ec5",
   "metadata": {},
   "outputs": [],
   "source": [
    "# fit model & get results for each season\n",
    "invisible(sapply(c(\"pet\", \"spei\")[1], function(varnm) {\n",
    "    \n",
    "    rp <- list(\"pet\" = 2, \"spei\" = 10)[[varnm]]                  # return period depending on variable\n",
    "    lower <- list(\"pet\" = F, \"spei\" = T)[[varnm]]                # consider lower or upper tail, depending on variable\n",
    "    relative_delta <- list(\"pet\" = T, \"spei\" = F)[[varnm]]\n",
    "    \n",
    "    # loop over all available models, get results for each\n",
    "    res <- sapply(sort(list.files(\"ts\", pattern = paste0(\"_\",varnm,\"-24_AFR\"), full.names = T)), function(fnm) {\n",
    "        \n",
    "        if(grepl(\"HadGEM2-ES_r1_RegCM4-3\", fnm)) {return(rep(NA, 16))}\n",
    "        \n",
    "        # load necessary data\n",
    "        gmst_fnm <- list.files(\"ts\", pattern = paste0(\"smoothed-gsat_\", strsplit(fnm, \"_\")[[1]][4],\"_rcp85_\",strsplit(fnm, \"_\")[[1]][5],\".dat\"), full.names = T)\n",
    "        gmst <- read.csv(gmst_fnm, comment.char = \"#\", sep = \" \", header = F, col.names = c(\"year\", \"gmst\"))\n",
    "        \n",
    "        pr <- read.csv(fnm, comment.char = \"#\", sep = \" \", header = F, col.names = c(\"year\", varnm))\n",
    "        df <- merge(gmst, pr)\n",
    "        df <- df[!is.na(df[,varnm]),]\n",
    "        \n",
    "        # covariates defining current, past & future climates\n",
    "        gmst_2022 <- gmst[gmst$year == 2022, \"gmst\"]\n",
    "        gmst_hist <- gmst_2022 - 1.2\n",
    "        gmst_fut <- gmst_2022 + 0.8\n",
    "        nino_2022 <- nino_hist <- nino_fut <- 0    # dummy covariates\n",
    "        \n",
    "        # fit model & get results\n",
    "        data.frame(model_results(df, \"norm\", \"shift\", varnm = varnm, covnm_1 = \"gmst\", covnm_2 = NA, lower = lower, rp = rp, delta_relative = relative_delta, nsamp = 1000,\n",
    "                                       cov1_2022 = gmst_2022, cov1_hist = gmst_hist, cov1_fut = gmst_fut, \n",
    "                                       cov2_2022 = nino_2022, cov2_hist = nino_hist, cov2_fut = nino_fut))\n",
    "    }, simplify = F)\n",
    "    \n",
    "    # merge results into single dataframe, tidy rownames & save to csv\n",
    "    res <- do.call(\"rbind\", res)\n",
    "    rownames(res) <- gsub(\".dat\", \"\", gsub(\".+-24_\", \"\", rownames(res)))\n",
    "    write.csv(res, paste0(\"res/EA-drought_\",varnm,\"-24_cordex_fitted.csv\"))\n",
    "}))"
   ]
  },
  {
   "cell_type": "markdown",
   "id": "34951a6b-a459-43be-b531-4b1f9252c219",
   "metadata": {},
   "source": [
    "### **HighResMIP**"
   ]
  },
  {
   "cell_type": "code",
   "execution_count": null,
   "id": "92bc6441-52b4-4d57-b973-74d324f6abe6",
   "metadata": {},
   "outputs": [],
   "source": [
    "source(\"../wwa_nonstationary_fitting.r\")\n",
    "\n",
    "# load covariate data\n",
    "cov_df <- merge(read.csv(\"ts/EA-drought_gmst-smoothed.dat\", comment.char = \"#\", sep = \" \", header = F, col.names = c(\"year\", \"gmst\")),\n",
    "            read.csv(\"ts/EA-drought_detrended-nino-ond.dat\", comment.char = \"#\", sep = \" \", header = F, col.names = c(\"year\", \"nino_ond\")))\n",
    "\n",
    "# fix covariate values defining current, past & future climates\n",
    "gmst_2022 <- cov_df[cov_df$year == 2022, \"gmst\"]\n",
    "gmst_hist <- gmst_2022 - 1.2\n",
    "gmst_fut <- gmst_2022 + 0.8\n",
    "\n",
    "nino_2022 <- nino_hist <- nino_fut <- cov_df[cov_df$year == 2022, \"nino_ond\"]"
   ]
  },
  {
   "cell_type": "code",
   "execution_count": null,
   "id": "b03c3398-ae67-4668-b458-62fd36df142e",
   "metadata": {},
   "outputs": [],
   "source": [
    "hiresmip_results <- function(df, dist, fittype, varnm, covnm_1, covnm_2 = NA, cov1_2022, cov1_hist, cov1_fut = NA, cov2_2022 = 0, cov2_hist = 0, cov2_fut = NA,\n",
    "                                lower = F, rp = 10, delta_relative = T, nsamp = 1000, seed = 1) {\n",
    "    \n",
    "    # FUNCTION TO CARRY OUT ALL ATTRIBUTION RUNS & PRODUCE RESULTS IN SPREADSHEET-FRIENDLY FORM\n",
    "    \n",
    "    set.seed(seed)\n",
    "    \n",
    "    #~~~~~~~~~~~~~~~~~~~~~~~~~~~~~~~~~~~~~~~~~~~~~~~~~~~~~~~~~~~~~~~~~~~~~~~\n",
    "    # FIT MODEL to three different subsets: for evaluation, attribution & projection\n",
    "    \n",
    "    df_eval <- df[df$year >= 1979 & df$year <= 2022,]\n",
    "    df_attr <- df[df$year <= 2022,]\n",
    "    \n",
    "    mdl_eval <- fit_ns(dist, fittype, df_eval, varnm = varnm, covnm_1 = covnm_1, covnm_2 = covnm_2, lower = lower)\n",
    "    mdl_attr <- fit_ns(dist, fittype, df_attr, varnm = varnm, covnm_1 = covnm_1, covnm_2 = covnm_2, lower = lower)\n",
    "    \n",
    "    #~~~~~~~~~~~~~~~~~~~~~~~~~~~~~~~~~~~~~~~~~~~~~~~~~~~~~~~~~~~~~~~~~~~~~~~\n",
    "    ## EVALUATION (get model parameters)\n",
    "    \n",
    "    disp_eval <- mdl_eval$par[\"sigma0\"] / mdl_eval$par[\"mu0\"]\n",
    "    var_eval <- mdl_eval$par[\"sigma0\"]\n",
    "    boot_eval <- sapply(1:nsamp, function(i) {\n",
    "        \n",
    "        boot_df <- df_eval[sample(1:nrow(df_eval), nrow(df_eval), replace = T),]\n",
    "        boot_mdl <- fit_ns(mdl_eval$dist, mdl_eval$type, boot_df, varnm = mdl_eval$varnm, covnm_1 = mdl_eval$covnm_1, covnm_2 = mdl_eval$covnm_2, lower = mdl_eval$lower)\n",
    "        if(fittype == \"fixeddisp\") {\n",
    "            boot_mdl$par[\"sigma0\"] / boot_mdl$par[\"mu0\"]\n",
    "        } else {\n",
    "            boot_mdl$par[\"sigma0\"]\n",
    "        }\n",
    "    })\n",
    "    if(fittype == \"fixeddisp\") {\n",
    "        ci_eval <- setNames(c(disp_eval, quantile(boot_eval, c(0.025, 0.975))),\n",
    "                            c(\"disp_est\", \"disp_lower\", \"disp_upper\"))\n",
    "    } else {\n",
    "        ci_eval <- setNames(c(var_eval, quantile(boot_eval, c(0.025, 0.975))),\n",
    "                            c(\"var_est\", \"var_lower\", \"var_upper\"))\n",
    "    }\n",
    "    \n",
    "    #~~~~~~~~~~~~~~~~~~~~~~~~~~~~~~~~~~~~~~~~~~~~~~~~~~~~~~~~~~~~~~~~~~~~~~~\n",
    "    ## ATTRIBUTION (get event value, PR & DI)\n",
    "    \n",
    "    rl_2022 <- map_from_u(1/rp, mdl_attr, cov1 = cov1_2022, cov2 = cov2_2022)\n",
    "    if(substr(varnm,1,5) == \"log10\") { actual_rl2022 <- 10^rl_2022 } else { actual_rl2022 <- rl_2022 }\n",
    "    \n",
    "    pr_eval <- prob_ratio(mdl_attr, rl_2022, cov1 = cov1_2022, cov1_cf = cov1_hist, cov2 = cov2_2022, cov2_cf = cov2_hist)\n",
    "    dI_eval <- Delta_I(mdl_attr, rp, cov1 = cov1_2022, cov1_cf = cov1_hist, relative = delta_relative)\n",
    "    \n",
    "    boot_attr <- sapply(1:nsamp, function(i) {\n",
    "        \n",
    "        boot_df <- df_attr[sample(1:nrow(df_attr), nrow(df_attr), replace = T),]\n",
    "        boot_mdl <- fit_ns(mdl_attr$dist, mdl_attr$type, boot_df, varnm = mdl_attr$varnm, covnm_1 = mdl_attr$covnm_1, covnm_2 = mdl_attr$covnm_2, lower = mdl_attr$lower)\n",
    "        \n",
    "        boot_pr <- prob_ratio(boot_mdl, rl_2022, cov1 = cov1_2022, cov1_cf = cov1_hist, cov2 = cov2_2022, cov2_cf = cov2_hist)\n",
    "        boot_di <- Delta_I(boot_mdl, rp, cov1 = cov1_2022, cov1_cf = cov1_hist, cov2 = cov2_2022, cov2_cf = cov2_hist, relative = delta_relative)\n",
    "        \n",
    "        c(\"PR\" = boot_pr, \"DI\" = boot_di)\n",
    "    })\n",
    "    ci_attr <- rbind(\"est\" = c(pr_eval, dI_eval), apply(boot_attr, 1, quantile, c(0.025, 0.975)))\n",
    "    ci_attr <- unlist(lapply(colnames(ci_attr), function(cnm) setNames(ci_attr[,cnm], paste(\"attr\", cnm, c(\"est\", \"lower\", \"upper\"), sep = \"_\"))))\n",
    "                             \n",
    "    # #~~~~~~~~~~~~~~~~~~~~~~~~~~~~~~~~~~~~~~~~~~~~~~~~~~~~~~~~~~~~~~~~~~~~~~~\n",
    "\n",
    "    # Can't do future projection, because using observed GMST & Nino time series as covariates\n",
    "                             \n",
    "    # #~~~~~~~~~~~~~~~~~~~~~~~~~~~~~~~~~~~~~~~~~~~~~~~~~~~~~~~~~~~~~~~~~~~~~~~\n",
    "                             \n",
    "    # t(setNames(data.frame(c(ci_eval, \"rp_value\" = rl_2022, ci_attr, ci_proj)), gsub(\".dat\", \"\", gsub(\".+pr-mam_\", \"\", fnm))))      \n",
    "    t(data.frame(c(ci_eval, \"rp_value\" = actual_rl2022, ci_attr)))     \n",
    "}"
   ]
  },
  {
   "cell_type": "markdown",
   "id": "d170cb68-dec0-4f47-af96-9afc8ca01bf4",
   "metadata": {},
   "source": [
    "#### **Precipitation indices**"
   ]
  },
  {
   "cell_type": "code",
   "execution_count": null,
   "id": "58f26ec0-12b9-400a-b82e-acc5244f5c42",
   "metadata": {},
   "outputs": [],
   "source": [
    "# fit model & get results for each season\n",
    "invisible(sapply(c(\"mam\", \"ond\", \"24\"), function(seas) {\n",
    "    \n",
    "    rp <- list(\"mam\" = 10, \"ond\" = 5, \"24\" = 20)[[seas]]                  # return period depending on variable\n",
    "    if(seas == \"ond\") { covnm_2 = \"nino_ond\" } else { covnm_2 = NA }      # OND needs second covariate\n",
    "    \n",
    "    # loop over all available models, get results for each\n",
    "    res <- sapply(list.files(\"ts\", pattern = paste0(\"pr-\",seas,\"_highres\"), full.names = T), function(fnm) {\n",
    "        \n",
    "        pr <- read.csv(fnm, comment.char = \"#\", sep = \" \", header = F, col.names = c(\"year\", \"pr\"))\n",
    "        df <- merge(cov_df, pr)\n",
    "        df[\"log10pr\"] <- log10(df$pr)   # fit models to log precip, convert back at the end (more stable model fitting)\n",
    "        \n",
    "        data.frame(hiresmip_results(df, \"norm\", \"fixeddisp\", varnm = \"log10pr\", covnm_1 = \"gmst\", covnm_2 = covnm_2, lower = T, rp = rp, delta_relative = T, nsamp = 1000,\n",
    "                                       cov1_2022 = gmst_2022, cov1_hist = gmst_hist, cov1_fut = gmst_fut, \n",
    "                                       cov2_2022 = nino_2022, cov2_hist = nino_hist, cov2_fut = nino_fut))\n",
    "    }, simplify = F)\n",
    "    \n",
    "    # merge results into single dataframe, tidy rownames & save to csv\n",
    "    res <- do.call(\"rbind\", res)\n",
    "    rownames(res) <- gsub(\".dat\", \"\", gsub(\".+highresSST_\", \"\", rownames(res)))\n",
    "    write.csv(res, paste0(\"res/EA-drought_pr-\",seas,\"_highresmip_fitted.csv\"))\n",
    "}))"
   ]
  },
  {
   "cell_type": "markdown",
   "id": "02b11c48-e65f-4043-a286-1f63d88e7db4",
   "metadata": {},
   "source": [
    "#### **PET & SPEI**"
   ]
  },
  {
   "cell_type": "code",
   "execution_count": null,
   "id": "d9486508-5859-4e8a-9c98-3c4b0122861c",
   "metadata": {},
   "outputs": [],
   "source": [
    "invisible(sapply(c(\"pet\", \"spei\"), function(varnm) {\n",
    "    \n",
    "    rp <- list(\"pet\" = 2, \"spei\" = 15)[[varnm]]                  # return period depending on variable\n",
    "    lower <- list(\"pet\" = F, \"spei\" = T)[[varnm]]                # consider lower or upper tail, depending on variable\n",
    "    relative_delta <- list(\"pet\" = T, \"spei\" = F)[[varnm]]\n",
    "    \n",
    "    # loop over all available models, get results for each\n",
    "    res <- sapply(list.files(\"ts\", pattern = paste0(varnm, \"-24_highres\"), full.names = T), function(fnm) {\n",
    "        \n",
    "        ts <- read.csv(fnm, comment.char = \"#\", sep = \" \", header = F, col.names = c(\"year\", varnm))\n",
    "        ts <- ts[!is.na(ts[,varnm]),]   # only fit to finite SPEI values (avoids problem of truncation of high values)\n",
    "        df <- merge(cov_df, ts)\n",
    "        \n",
    "        data.frame(hiresmip_results(df, \"norm\", \"shift\", varnm = varnm, covnm_1 = \"gmst\", lower = lower, rp = rp, delta_relative = relative_delta, nsamp = 1000,\n",
    "                                       cov1_2022 = gmst_2022, cov1_hist = gmst_hist, cov1_fut = gmst_2022, \n",
    "                                       cov2_2022 = nino_2022, cov2_hist = nino_hist, cov2_fut = gmst_2022))\n",
    "        }, simplify = F)\n",
    "    \n",
    "    # merge results into single dataframe, tidy rownames & save to csv\n",
    "    res <- do.call(\"rbind\", res)\n",
    "    rownames(res) <- gsub(\".dat\", \"\", gsub(\".+highresSST_\", \"\", rownames(res)))\n",
    "    write.csv(res, paste0(\"res/EA-drought_\",varnm,\"-24_highresmip_fitted.csv\"))\n",
    "}))"
   ]
  },
  {
   "cell_type": "code",
   "execution_count": null,
   "id": "6e324eb8-53d0-489e-862c-692b64bca846",
   "metadata": {},
   "outputs": [],
   "source": []
  }
 ],
 "metadata": {
  "kernelspec": {
   "display_name": "R [conda env:r_env]",
   "language": "R",
   "name": "conda-env-r_env-r"
  },
  "language_info": {
   "codemirror_mode": "r",
   "file_extension": ".r",
   "mimetype": "text/x-r-source",
   "name": "R",
   "pygments_lexer": "r",
   "version": "4.2.2"
  }
 },
 "nbformat": 4,
 "nbformat_minor": 5
}
