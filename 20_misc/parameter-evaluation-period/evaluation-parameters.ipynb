{
 "cells": [
  {
   "cell_type": "markdown",
   "id": "df795389-6db9-4911-865a-e96341d7fa09",
   "metadata": {},
   "source": [
    "## **Comparison of model parameters when estimated over full period prior to 2023, vs over 1979-2023**"
   ]
  },
  {
   "cell_type": "code",
   "execution_count": 95,
   "id": "1143b838-3933-4c77-88a7-9b27e833c4fd",
   "metadata": {},
   "outputs": [],
   "source": [
    "source(\"../../00_model-fitting/wwa_model-fitting.R\")"
   ]
  },
  {
   "cell_type": "markdown",
   "id": "df44191e-d2fc-47df-80c2-742d6dade3cd",
   "metadata": {},
   "source": [
    "### **GEV/precip (Emilia-Romagna rx21day)**"
   ]
  },
  {
   "cell_type": "code",
   "execution_count": null,
   "id": "d6998c51-52c1-43ca-bfab-ed244d30d988",
   "metadata": {},
   "outputs": [],
   "source": [
    "# # loop over all available models, get results for each\n",
    "# res <- sapply(list.files(\"../../23-04_Italy-floods/ts\", pattern = \"rx21day-amj_EUR-11\", full.names = T), function(fnm) {\n",
    "    \n",
    "#     gmst_fnm <- paste0(c(strsplit(fnm, \"/\")[[1]][1:4], paste0(\"Italy-floods_cmip5_smoothed-gsat_\", strsplit(fnm, \"_\")[[1]][5], \"_rcp85_\", strsplit(fnm, \"_\")[[1]][6], \".dat\")), collapse = \"/\")\n",
    "    \n",
    "#     df <- merge(load_ts(gmst_fnm, col.names = c(\"year\", \"gmst\")), load_ts(fnm, col.names = c(\"year\", \"pr\")))\n",
    "#     gmst_2023 <- df$gmst[df$year == 2023]\n",
    "    \n",
    "#     list(\"1950-2023\" = boot_ci(fit_ns(\"gev\", \"fixeddisp\", df[df$year <= 2023,], \"pr\", \"gmst\"), cov = gmst_2023, cov_cf = gmst_2023 - 1.2),\n",
    "#           \"1979-2023\" = boot_ci(fit_ns(\"gev\", \"fixeddisp\", df[(df$year >= 1979) & (df$year <= 2023),], \"pr\", \"gmst\"), cov = gmst_2023, cov_cf = gmst_2023 - 1.2))\n",
    "# }, simplify = F)\n",
    "# names(res) <- sapply(names(res), function(fnm) gsub(\".dat\", \"\", paste0(strsplit(fnm, \"_\")[[1]][5:7], collapse = \"_\")))\n",
    "\n",
    "# save(res, file = \"res_er-rx21day.rData\")"
   ]
  },
  {
   "cell_type": "code",
   "execution_count": 92,
   "id": "7dcc4624-6a2f-4bcd-b906-eb743171f249",
   "metadata": {},
   "outputs": [
    {
     "data": {
      "text/html": [
       "<strong>png:</strong> 2"
      ],
      "text/latex": [
       "\\textbf{png:} 2"
      ],
      "text/markdown": [
       "**png:** 2"
      ],
      "text/plain": [
       "png \n",
       "  2 "
      ]
     },
     "metadata": {},
     "output_type": "display_data"
    },
    {
     "data": {
      "text/html": [
       "<strong>png:</strong> 2"
      ],
      "text/latex": [
       "\\textbf{png:} 2"
      ],
      "text/markdown": [
       "**png:** 2"
      ],
      "text/plain": [
       "png \n",
       "  2 "
      ]
     },
     "metadata": {},
     "output_type": "display_data"
    }
   ],
   "source": [
    "load(\"res_er-rx21day.rData\")\n",
    "\n",
    "prep_window(c(1,3)); par(mfrow = c(1,1))\n",
    "\n",
    "png(\"fig_er-rx21day_shape.png\", height = 480, width = 480*3); par(cex = 1.4); {\n",
    "    boxplot(sapply(lapply(res, \"[[\", \"1950-2023\"), \"[\", \"shape\", ), lty = 1, col = adjustcolor(\"blue\", 0.5), border = \"darkblue\",\n",
    "           main = \"Shape parameter in EuroCORDEX runs: Emilia-Romagna rx21day\")\n",
    "    boxplot(sapply(lapply(res, \"[[\", \"1979-2023\"), \"[\", \"shape\", ), add = T, lty = 1, col = adjustcolor(\"red\", 0.3), border = \"darkred\")\n",
    "    abline(h = 0, lty = 2)\n",
    "\n",
    "    legend(\"topleft\", legend = c(\"all prior to 2023\", \"1979-2023\"), fill = adjustcolor(c(\"blue\", \"red\"), 0.4), title = \"Data used in estimation\")\n",
    "}; dev.off()\n",
    "\n",
    "\n",
    "prep_window(c(1,3)); par(mfrow = c(1,1))\n",
    "\n",
    "png(\"fig_er-rx21day_disp.png\", height = 480, width = 480*3); par(cex = 1.4); {\n",
    "    boxplot(sapply(lapply(res, \"[[\", \"1950-2023\"), \"[\", \"disp\", ), lty = 1, col = adjustcolor(\"blue\", 0.5), border = \"darkblue\",\n",
    "           main = \"Dispersion in EuroCORDEX runs: Emilia-Romagna rx21day\")\n",
    "    boxplot(sapply(lapply(res, \"[[\", \"1979-2023\"), \"[\", \"disp\", ), add = T, lty = 1, col = adjustcolor(\"red\", 0.3), border = \"darkred\")\n",
    "    abline(h = 0, lty = 2)\n",
    "\n",
    "    legend(\"topleft\", legend = c(\"all prior to 2023\", \"1979-2023\"), fill = adjustcolor(c(\"blue\", \"red\"), 0.4), title = \"Data used in estimation\")\n",
    "}; dev.off()\n"
   ]
  },
  {
   "cell_type": "markdown",
   "id": "695a20ea-2a57-41de-90ee-6990b68284b8",
   "metadata": {},
   "source": [
    "### **GEV/temp (India/Bangladesh tx4x)**"
   ]
  },
  {
   "cell_type": "code",
   "execution_count": 84,
   "id": "105da2dc-6ca0-42a3-b39d-c37bde7c92b8",
   "metadata": {},
   "outputs": [],
   "source": [
    "# # loop over all available models, get results for each\n",
    "# res <- sapply(list.files(\"../../23-04_Asia-heatwave/ts\", pattern = \"tx4x-ib-ext_WAS-22\", full.names = T), function(fnm) {\n",
    "    \n",
    "#     gmst_fnm <- paste0(c(strsplit(fnm, \"/\")[[1]][1:4], paste0(\"EA-hw_cmip5_smoothed-gsat_\", strsplit(fnm, \"_\")[[1]][5], \"_rcp85_\", strsplit(fnm, \"_\")[[1]][6], \".dat\")), collapse = \"/\")\n",
    "    \n",
    "#     df <- merge(load_ts(gmst_fnm, col.names = c(\"year\", \"gmst\")), load_ts(fnm, col.names = c(\"year\", \"tx4x\")))\n",
    "#     gmst_2023 <- df$gmst[df$year == 2023]\n",
    "    \n",
    "#     list(\"1950-2023\" = boot_ci(fit_ns(\"gev\", \"shift\", df[df$year <= 2023,], \"tx4x\", \"gmst\"), cov = gmst_2023, cov_cf = gmst_2023 - 1.2),\n",
    "#           \"1979-2023\" = boot_ci(fit_ns(\"gev\", \"shift\", df[(df$year >= 1979) & (df$year <= 2023),], \"tx4x\", \"gmst\"), cov = gmst_2023, cov_cf = gmst_2023 - 1.2))\n",
    "# }, simplify = F)\n",
    "# names(res) <- sapply(names(res), function(fnm) gsub(\".dat\", \"\", paste0(strsplit(fnm, \"_\")[[1]][5:7], collapse = \"_\")))\n",
    "\n",
    "# save(res, file = \"res_ib-ext_tx4x.rData\")"
   ]
  },
  {
   "cell_type": "code",
   "execution_count": 94,
   "id": "09bcddcd-2f09-420d-8137-604909356202",
   "metadata": {},
   "outputs": [
    {
     "data": {
      "text/html": [
       "<strong>png:</strong> 2"
      ],
      "text/latex": [
       "\\textbf{png:} 2"
      ],
      "text/markdown": [
       "**png:** 2"
      ],
      "text/plain": [
       "png \n",
       "  2 "
      ]
     },
     "metadata": {},
     "output_type": "display_data"
    },
    {
     "data": {
      "text/html": [
       "<strong>png:</strong> 2"
      ],
      "text/latex": [
       "\\textbf{png:} 2"
      ],
      "text/markdown": [
       "**png:** 2"
      ],
      "text/plain": [
       "png \n",
       "  2 "
      ]
     },
     "metadata": {},
     "output_type": "display_data"
    }
   ],
   "source": [
    "load(\"res_ib-ext_tx4x.rData\")\n",
    "\n",
    "prep_window(c(1,3)); par(mfrow = c(1,1))\n",
    "\n",
    "png(\"fig_ib-ext_tx4x_shape.png\", height = 480, width = 480*3); par(cex = 1.4); {\n",
    "    boxplot(sapply(lapply(res, \"[[\", \"1950-2023\"), \"[\", \"shape\", ), lty = 1, col = adjustcolor(\"blue\", 0.5), border = \"darkblue\",\n",
    "           main = \"Shape parameter in CORDEX WAS-22 runs: India-Bangladesh tx4x (external boundary)\")\n",
    "    boxplot(sapply(lapply(res, \"[[\", \"1979-2023\"), \"[\", \"shape\", ), add = T, lty = 1, col = adjustcolor(\"red\", 0.3), border = \"darkred\")\n",
    "    abline(h = 0, lty = 2)\n",
    "\n",
    "    legend(\"topleft\", legend = c(\"all prior to 2023\", \"1979-2023\"), fill = adjustcolor(c(\"blue\", \"red\"), 0.4), title = \"Data used in estimation\")\n",
    "}; dev.off()\n",
    "\n",
    "prep_window(c(1,3)); par(mfrow = c(1,1))\n",
    "\n",
    "png(\"fig_ib-ext_tx4x_sigma.png\", height = 480, width = 480*3); par(cex = 1.4); {\n",
    "    boxplot(sapply(lapply(res, \"[[\", \"1950-2023\"), \"[\", \"sigma0\", ), lty = 1, col = adjustcolor(\"blue\", 0.5), border = \"darkblue\",\n",
    "           main = \"Sigma0 in CORDEX WAS-22 runs: India-Bangladesh tx4x (external boundary)\")\n",
    "    boxplot(sapply(lapply(res, \"[[\", \"1979-2023\"), \"[\", \"sigma0\", ), add = T, lty = 1, col = adjustcolor(\"red\", 0.3), border = \"darkred\")\n",
    "    abline(h = 0, lty = 2)\n",
    "\n",
    "    legend(\"topleft\", legend = c(\"all prior to 2023\", \"1979-2023\"), fill = adjustcolor(c(\"blue\", \"red\"), 0.4), title = \"Data used in estimation\")\n",
    "}; dev.off()\n"
   ]
  },
  {
   "cell_type": "markdown",
   "id": "575ebc7a-2424-4e5d-bb8b-c22c536b7077",
   "metadata": {},
   "source": [
    "### **Gaussian/log10_pr (EA drought MAM precip)**"
   ]
  },
  {
   "cell_type": "code",
   "execution_count": 104,
   "id": "40f9fb57-4c1e-4511-af04-f218401ae42a",
   "metadata": {
    "tags": []
   },
   "outputs": [],
   "source": [
    "# # loop over all available models, get results for each\n",
    "# res <- sapply(list.files(\"../../23-03_EA-drought/ts\", pattern = \"pr-mam_AFR-44\", full.names = T), function(fnm) {\n",
    "    \n",
    "#     if(fnm == \"../../23-03_EA-drought/ts/EA-drought_pr-mam_AFR-44_HadGEM2-ES_r1_RegCM4-3.dat\") { return(NULL) }\n",
    "#     print(fnm)\n",
    "#     gmst_fnm <- paste0(c(strsplit(fnm, \"/\")[[1]][1:4], paste0(\"EA-drought_cmip5_smoothed-gsat_\", strsplit(fnm, \"_\")[[1]][5], \"_rcp85_\", strsplit(fnm, \"_\")[[1]][6], \".dat\")), collapse = \"/\")\n",
    "    \n",
    "#     df <- merge(load_ts(gmst_fnm, col.names = c(\"year\", \"gmst\")), load_ts(fnm, col.names = c(\"year\", \"pr\")))\n",
    "#     df$log10_pr <- log10(df$pr)\n",
    "#     gmst_2023 <- df$gmst[df$year == 2023]\n",
    "    \n",
    "#     list(\"1950-2023\" = boot_ci(fit_ns(\"norm\", \"fixeddisp\", df[df$year <= 2023,], \"log10_pr\", \"gmst\"), cov = gmst_2023, cov_cf = gmst_2023 - 1.2),\n",
    "#           \"1979-2023\" = boot_ci(fit_ns(\"norm\", \"fixeddisp\", df[(df$year >= 1979) & (df$year <= 2023),], \"log10_pr\", \"gmst\"), cov = gmst_2023, cov_cf = gmst_2023 - 1.2))\n",
    "# }, simplify = F)\n",
    "\n",
    "# names(res) <- sapply(names(res), function(fnm) gsub(\".dat\", \"\", paste0(strsplit(fnm, \"_\")[[1]][5:7], collapse = \"_\")))\n",
    "# save(res, file = \"res_ea_mampr.rData\")"
   ]
  },
  {
   "cell_type": "code",
   "execution_count": 105,
   "id": "408760e2-a9bd-4f1a-9fd9-5f7396ae7e53",
   "metadata": {},
   "outputs": [
    {
     "data": {
      "text/html": [
       "<strong>png:</strong> 2"
      ],
      "text/latex": [
       "\\textbf{png:} 2"
      ],
      "text/markdown": [
       "**png:** 2"
      ],
      "text/plain": [
       "png \n",
       "  2 "
      ]
     },
     "metadata": {},
     "output_type": "display_data"
    }
   ],
   "source": [
    "load(\"res_ea_mampr.rData\")\n",
    "\n",
    "prep_window(c(1,3)); par(mfrow = c(1,1))\n",
    "\n",
    "# png(\"fig_ea_mampr_shape.png\", height = 480, width = 480*3); par(cex = 1.4); {\n",
    "#     boxplot(sapply(lapply(res, \"[[\", \"1950-2023\"), \"[\", \"shape\", ), lty = 1, col = adjustcolor(\"blue\", 0.5), border = \"darkblue\",\n",
    "#            main = \"Shape parameter in CORDEX AFR-44 runs: East Africa MAM pr\")\n",
    "#     boxplot(sapply(lapply(res, \"[[\", \"1979-2023\"), \"[\", \"shape\", ), add = T, lty = 1, col = adjustcolor(\"red\", 0.3), border = \"darkred\")\n",
    "#     abline(h = 0, lty = 2)\n",
    "\n",
    "#     legend(\"topleft\", legend = c(\"all prior to 2023\", \"1979-2023\"), fill = adjustcolor(c(\"blue\", \"red\"), 0.4), title = \"Data used in estimation\")\n",
    "# }; dev.off()\n",
    "\n",
    "\n",
    "prep_window(c(1,3)); par(mfrow = c(1,1))\n",
    "\n",
    "png(\"fig_ea_mampr_sigma.png\", height = 480, width = 480*3); par(cex = 1.4); {\n",
    "    boxplot(sapply(lapply(res, \"[[\", \"1950-2023\"), \"[\", \"sigma0\", ), lty = 1, col = adjustcolor(\"blue\", 0.5), border = \"darkblue\",\n",
    "           main = \"Sigma0 in CORDEX AFR-44 runs: East Africa MAM pr\")\n",
    "    boxplot(sapply(lapply(res, \"[[\", \"1979-2023\"), \"[\", \"sigma0\", ), add = T, lty = 1, col = adjustcolor(\"red\", 0.3), border = \"darkred\")\n",
    "    abline(h = 0, lty = 2)\n",
    "\n",
    "    legend(\"topleft\", legend = c(\"all prior to 2023\", \"1979-2023\"), fill = adjustcolor(c(\"blue\", \"red\"), 0.4), title = \"Data used in estimation\")\n",
    "}; dev.off()\n"
   ]
  },
  {
   "cell_type": "code",
   "execution_count": null,
   "id": "745371e7-7149-4dfc-a6c4-ee438be583ca",
   "metadata": {},
   "outputs": [],
   "source": []
  }
 ],
 "metadata": {
  "kernelspec": {
   "display_name": "R [conda env:r_env]",
   "language": "R",
   "name": "conda-env-r_env-r"
  },
  "language_info": {
   "codemirror_mode": "r",
   "file_extension": ".r",
   "mimetype": "text/x-r-source",
   "name": "R",
   "pygments_lexer": "r",
   "version": "4.2.2"
  }
 },
 "nbformat": 4,
 "nbformat_minor": 5
}
