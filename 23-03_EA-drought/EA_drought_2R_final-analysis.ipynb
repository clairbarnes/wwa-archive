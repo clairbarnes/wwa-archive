{
 "cells": [
  {
   "cell_type": "markdown",
   "id": "9bc4a020-e0a2-461a-b24c-44be4fb863b1",
   "metadata": {},
   "source": [
    "# **East Africa drought study - analysis of model data**"
   ]
  },
  {
   "cell_type": "code",
   "execution_count": 1,
   "id": "8ab4bc38-8aff-4553-8139-5abb6d26d6d2",
   "metadata": {},
   "outputs": [],
   "source": [
    "source(\"../wwa_nonstationary_fitting.r\")"
   ]
  },
  {
   "cell_type": "markdown",
   "id": "e2e66ed1-eeed-4833-8a45-c0a81fc2bf88",
   "metadata": {
    "tags": []
   },
   "source": [
    "---\n",
    "## **Observations**"
   ]
  },
  {
   "cell_type": "markdown",
   "id": "eaf291c3-e083-41f3-8314-27f527127eb9",
   "metadata": {},
   "source": [
    "### **Prep & testing**"
   ]
  },
  {
   "cell_type": "code",
   "execution_count": 2,
   "id": "2c485e38-01bf-45a3-a6ad-c4e741e2b29a",
   "metadata": {},
   "outputs": [],
   "source": [
    "# load data, fix values for factual & counterfactual climate\n",
    "\n",
    "df <- read.csv(\"data/gmst-nino-cpc.csv\")\n",
    "\n",
    "gmst_2022 <- df[df$year == 2022, \"gmst\"]\n",
    "gmst_cf <- gmst_2022 - 1.2\n",
    "\n",
    "ondnino_2022 <- df[df$year == 2022, \"nino_ond\"]\n",
    "ondnino_cf <- ondnino_2022"
   ]
  },
  {
   "cell_type": "code",
   "execution_count": 75,
   "id": "6218de86-f0b8-45b1-9483-335d7ba69866",
   "metadata": {},
   "outputs": [],
   "source": [
    "# wrapper function to get bootstrapped confidence intervals for spreadsheet\n",
    "bootstrap_obs_results <- function(mdl, cov1, cov2, cov1_cf = NA, cov2_cf = NA, seed = 101, nsamp = 1000, dp = 5, convert_logs = T) {\n",
    "\n",
    "    # create internal function to give required results\n",
    "    get_mdl_values <- function(mdl, ev, cov1, cov2, cov1_cf = NA, cov2_cf = NA) {\n",
    "        \n",
    "        pars <- mdl$par\n",
    "        \n",
    "        rp <- 1/map_to_u(mdl, x = event_value, cov1 = cov1, cov2 = cov2)\n",
    "        rp_cf <- 1/map_to_u(mdl, x = event_value, cov1 = cov1_cf, cov2 = cov2_cf)\n",
    "        rl_cf <- map_from_u(1/rp, mdl, cov1 = cov1_cf, cov2 = cov2_cf)\n",
    "        \n",
    "        # if using log values, convert back to natural units\n",
    "        if(convert_logs) {\n",
    "            if(substr(mdl$varnm,1,5) == \"log10\") {\n",
    "                ev <- 10^ev\n",
    "                rl_cf <- 10^rl_cf\n",
    "            } else if(substr(mdl$varnm,1,3) == \"log\") {\n",
    "                ev <- exp(ev)\n",
    "                rl_cf <- exp(rl_cf)\n",
    "            }\n",
    "        }\n",
    "        c(pars, \n",
    "          \"dispersion\" = unname(pars[\"sigma0\"] / pars[\"mu0\"]),\n",
    "          \"event_magnitude\" = ev,\n",
    "          \"return_period\" = rp,\n",
    "          \"probability_ratio\" = rp_cf/rp,\n",
    "          \"abs_change_in_intensity\" = (ev - rl_cf),\n",
    "          \"rel_change_in_intensity\" = ((ev - rl_cf) / rl_cf) * 100\n",
    "         )   \n",
    "    }\n",
    "    \n",
    "    # get best estimate from the observed data\n",
    "    event_value <- mdl$x[mdl$ev_idx]\n",
    "    mdl_res <- get_mdl_values(mdl, event_value, cov1, cov2, cov1_cf, cov2_cf)\n",
    "    mdl_df <- setNames(data.frame(mdl$x, mdl$cov1, mdl$cov2), c(mdl$varnm, mdl$covnm_1, mdl$covnm_2)) \n",
    "    \n",
    "    # get bootstrap sample\n",
    "    set.seed(seed)    \n",
    "    boot_res <- sapply(1:nsamp, function(i) {\n",
    "        boot_df <- mdl_df[sample(1:nrow(mdl_df), nrow(mdl_df), replace = T),]\n",
    "        boot_mdl <- fit_ns(mdl$dist, mdl$type, boot_df, varnm = mdl$varnm, covnm_1 = mdl$covnm_1, covnm_2 = mdl$covnm_2, lower = mdl$lower)\n",
    "        get_mdl_values(boot_mdl, event_value, cov1, cov2, cov1_cf, cov2_cf)\n",
    "    })\n",
    "    boot_qq <- t(rbind(\"bestimate\" = mdl_res, apply(boot_res, 1, quantile, c(0.025, 0.975), na.rm = T)))\n",
    "    if(!is.na(dp)) boot_qq <- round(boot_qq, dp)\n",
    "    return(boot_qq)\n",
    "}"
   ]
  },
  {
   "cell_type": "markdown",
   "id": "5c815cd2-fd19-4c83-9eca-b7bb4dfa4f07",
   "metadata": {
    "jp-MarkdownHeadingCollapsed": true,
    "tags": []
   },
   "source": [
    "#### **Check results against Climate Explorer**"
   ]
  },
  {
   "cell_type": "code",
   "execution_count": 79,
   "id": "f3826bf4-a6ee-4143-87c3-d817ce8ea64d",
   "metadata": {},
   "outputs": [
    {
     "data": {
      "text/html": [
       "<table class=\"dataframe\">\n",
       "<caption>A matrix: 10 × 3 of type dbl</caption>\n",
       "<thead>\n",
       "\t<tr><th></th><th scope=col>bestimate</th><th scope=col>2.5%</th><th scope=col>97.5%</th></tr>\n",
       "</thead>\n",
       "<tbody>\n",
       "\t<tr><th scope=row>mu0</th><td>2.11385</td><td> 1.99395</td><td> 2.26001</td></tr>\n",
       "\t<tr><th scope=row>sigma0</th><td>0.19262</td><td> 0.14105</td><td> 0.24037</td></tr>\n",
       "\t<tr><th scope=row>alpha</th><td>0.07560</td><td>-0.16343</td><td> 0.27828</td></tr>\n",
       "\t<tr><th scope=row>beta</th><td>0.00000</td><td> 0.00000</td><td> 0.00000</td></tr>\n",
       "\t<tr><th scope=row>dispersion</th><td>0.09112</td><td> 0.06683</td><td> 0.11084</td></tr>\n",
       "\t<tr><th scope=row>event_magnitude</th><td>1.93781</td><td> 1.93781</td><td> 1.93781</td></tr>\n",
       "\t<tr><th scope=row>return_period</th><td>9.27779</td><td> 4.73671</td><td>36.10080</td></tr>\n",
       "\t<tr><th scope=row>probability_ratio</th><td>0.51682</td><td> 0.06253</td><td> 4.53706</td></tr>\n",
       "\t<tr><th scope=row>abs_change_in_intensity</th><td>0.08141</td><td>-0.17479</td><td> 0.30212</td></tr>\n",
       "\t<tr><th scope=row>rel_change_in_intensity</th><td>4.38518</td><td>-8.27384</td><td>18.47067</td></tr>\n",
       "</tbody>\n",
       "</table>\n"
      ],
      "text/latex": [
       "A matrix: 10 × 3 of type dbl\n",
       "\\begin{tabular}{r|lll}\n",
       "  & bestimate & 2.5\\% & 97.5\\%\\\\\n",
       "\\hline\n",
       "\tmu0 & 2.11385 &  1.99395 &  2.26001\\\\\n",
       "\tsigma0 & 0.19262 &  0.14105 &  0.24037\\\\\n",
       "\talpha & 0.07560 & -0.16343 &  0.27828\\\\\n",
       "\tbeta & 0.00000 &  0.00000 &  0.00000\\\\\n",
       "\tdispersion & 0.09112 &  0.06683 &  0.11084\\\\\n",
       "\tevent\\_magnitude & 1.93781 &  1.93781 &  1.93781\\\\\n",
       "\treturn\\_period & 9.27779 &  4.73671 & 36.10080\\\\\n",
       "\tprobability\\_ratio & 0.51682 &  0.06253 &  4.53706\\\\\n",
       "\tabs\\_change\\_in\\_intensity & 0.08141 & -0.17479 &  0.30212\\\\\n",
       "\trel\\_change\\_in\\_intensity & 4.38518 & -8.27384 & 18.47067\\\\\n",
       "\\end{tabular}\n"
      ],
      "text/markdown": [
       "\n",
       "A matrix: 10 × 3 of type dbl\n",
       "\n",
       "| <!--/--> | bestimate | 2.5% | 97.5% |\n",
       "|---|---|---|---|\n",
       "| mu0 | 2.11385 |  1.99395 |  2.26001 |\n",
       "| sigma0 | 0.19262 |  0.14105 |  0.24037 |\n",
       "| alpha | 0.07560 | -0.16343 |  0.27828 |\n",
       "| beta | 0.00000 |  0.00000 |  0.00000 |\n",
       "| dispersion | 0.09112 |  0.06683 |  0.11084 |\n",
       "| event_magnitude | 1.93781 |  1.93781 |  1.93781 |\n",
       "| return_period | 9.27779 |  4.73671 | 36.10080 |\n",
       "| probability_ratio | 0.51682 |  0.06253 |  4.53706 |\n",
       "| abs_change_in_intensity | 0.08141 | -0.17479 |  0.30212 |\n",
       "| rel_change_in_intensity | 4.38518 | -8.27384 | 18.47067 |\n",
       "\n"
      ],
      "text/plain": [
       "                        bestimate 2.5%     97.5%   \n",
       "mu0                     2.11385    1.99395  2.26001\n",
       "sigma0                  0.19262    0.14105  0.24037\n",
       "alpha                   0.07560   -0.16343  0.27828\n",
       "beta                    0.00000    0.00000  0.00000\n",
       "dispersion              0.09112    0.06683  0.11084\n",
       "event_magnitude         1.93781    1.93781  1.93781\n",
       "return_period           9.27779    4.73671 36.10080\n",
       "probability_ratio       0.51682    0.06253  4.53706\n",
       "abs_change_in_intensity 0.08141   -0.17479  0.30212\n",
       "rel_change_in_intensity 4.38518   -8.27384 18.47067"
      ]
     },
     "metadata": {},
     "output_type": "display_data"
    }
   ],
   "source": [
    "# fit test model to log precip - should give same results as Climate Explorer\n",
    "bootstrap_obs_results(fit_ns(\"norm\", \"fixeddisp\", df, varnm = \"log10pr_ond\", covnm_1 = \"gmst\", lower = T),\n",
    "                        cov1 = gmst_2022, cov2 = ondnino_2022, cov1_cf = gmst_cf, cov2_cf = ondnino_cf, convert_logs = F)"
   ]
  },
  {
   "cell_type": "code",
   "execution_count": 80,
   "id": "a1291903-8c69-4dae-9982-4b9e99502d84",
   "metadata": {},
   "outputs": [
    {
     "data": {
      "text/html": [
       "<table class=\"dataframe\">\n",
       "<caption>A matrix: 10 × 3 of type dbl</caption>\n",
       "<thead>\n",
       "\t<tr><th></th><th scope=col>bestimate</th><th scope=col>2.5%</th><th scope=col>97.5%</th></tr>\n",
       "</thead>\n",
       "<tbody>\n",
       "\t<tr><th scope=row>mu0</th><td> 4.86711</td><td>-8.581000e-02</td><td>  5.33036</td></tr>\n",
       "\t<tr><th scope=row>sigma0</th><td> 0.44359</td><td> 3.267500e-01</td><td> 12.90564</td></tr>\n",
       "\t<tr><th scope=row>alpha</th><td> 0.17449</td><td>-6.056800e-01</td><td>  0.77568</td></tr>\n",
       "\t<tr><th scope=row>beta</th><td> 0.00000</td><td> 0.000000e+00</td><td>  0.00000</td></tr>\n",
       "\t<tr><th scope=row>dispersion</th><td> 0.09114</td><td>-3.579750e+00</td><td>  0.42307</td></tr>\n",
       "\t<tr><th scope=row>event_magnitude</th><td>86.65775</td><td> 8.665775e+01</td><td> 86.65775</td></tr>\n",
       "\t<tr><th scope=row>return_period</th><td> 9.27930</td><td> 1.118030e+00</td><td> 35.59413</td></tr>\n",
       "\t<tr><th scope=row>probability_ratio</th><td> 0.51613</td><td> 6.257000e-02</td><td> 10.59477</td></tr>\n",
       "\t<tr><th scope=row>abs_change_in_intensity</th><td>14.84415</td><td>-6.558811e+14</td><td> 43.76041</td></tr>\n",
       "\t<tr><th scope=row>rel_change_in_intensity</th><td>20.67039</td><td>-1.000000e+02</td><td>102.39797</td></tr>\n",
       "</tbody>\n",
       "</table>\n"
      ],
      "text/latex": [
       "A matrix: 10 × 3 of type dbl\n",
       "\\begin{tabular}{r|lll}\n",
       "  & bestimate & 2.5\\% & 97.5\\%\\\\\n",
       "\\hline\n",
       "\tmu0 &  4.86711 & -8.581000e-02 &   5.33036\\\\\n",
       "\tsigma0 &  0.44359 &  3.267500e-01 &  12.90564\\\\\n",
       "\talpha &  0.17449 & -6.056800e-01 &   0.77568\\\\\n",
       "\tbeta &  0.00000 &  0.000000e+00 &   0.00000\\\\\n",
       "\tdispersion &  0.09114 & -3.579750e+00 &   0.42307\\\\\n",
       "\tevent\\_magnitude & 86.65775 &  8.665775e+01 &  86.65775\\\\\n",
       "\treturn\\_period &  9.27930 &  1.118030e+00 &  35.59413\\\\\n",
       "\tprobability\\_ratio &  0.51613 &  6.257000e-02 &  10.59477\\\\\n",
       "\tabs\\_change\\_in\\_intensity & 14.84415 & -6.558811e+14 &  43.76041\\\\\n",
       "\trel\\_change\\_in\\_intensity & 20.67039 & -1.000000e+02 & 102.39797\\\\\n",
       "\\end{tabular}\n"
      ],
      "text/markdown": [
       "\n",
       "A matrix: 10 × 3 of type dbl\n",
       "\n",
       "| <!--/--> | bestimate | 2.5% | 97.5% |\n",
       "|---|---|---|---|\n",
       "| mu0 |  4.86711 | -8.581000e-02 |   5.33036 |\n",
       "| sigma0 |  0.44359 |  3.267500e-01 |  12.90564 |\n",
       "| alpha |  0.17449 | -6.056800e-01 |   0.77568 |\n",
       "| beta |  0.00000 |  0.000000e+00 |   0.00000 |\n",
       "| dispersion |  0.09114 | -3.579750e+00 |   0.42307 |\n",
       "| event_magnitude | 86.65775 |  8.665775e+01 |  86.65775 |\n",
       "| return_period |  9.27930 |  1.118030e+00 |  35.59413 |\n",
       "| probability_ratio |  0.51613 |  6.257000e-02 |  10.59477 |\n",
       "| abs_change_in_intensity | 14.84415 | -6.558811e+14 |  43.76041 |\n",
       "| rel_change_in_intensity | 20.67039 | -1.000000e+02 | 102.39797 |\n",
       "\n"
      ],
      "text/plain": [
       "                        bestimate 2.5%          97.5%    \n",
       "mu0                      4.86711  -8.581000e-02   5.33036\n",
       "sigma0                   0.44359   3.267500e-01  12.90564\n",
       "alpha                    0.17449  -6.056800e-01   0.77568\n",
       "beta                     0.00000   0.000000e+00   0.00000\n",
       "dispersion               0.09114  -3.579750e+00   0.42307\n",
       "event_magnitude         86.65775   8.665775e+01  86.65775\n",
       "return_period            9.27930   1.118030e+00  35.59413\n",
       "probability_ratio        0.51613   6.257000e-02  10.59477\n",
       "abs_change_in_intensity 14.84415  -6.558811e+14  43.76041\n",
       "rel_change_in_intensity 20.67039  -1.000000e+02 102.39797"
      ]
     },
     "metadata": {},
     "output_type": "display_data"
    }
   ],
   "source": [
    "# test same model using lognormal fit - should give comparable disp/RP/PR\n",
    "bootstrap_obs_results(fit_ns(\"lnorm\", \"fixeddisp\", df, varnm = \"pr_ond\", covnm_1 = \"gmst\", lower = T),\n",
    "                  cov1 = gmst_2022, cov2 = ondnino_2022, cov1_cf = gmst_cf, cov2_cf = ondnino_cf, convert_logs = F)"
   ]
  },
  {
   "cell_type": "markdown",
   "id": "193dc08f-6961-409d-b121-47416586c6ba",
   "metadata": {
    "tags": []
   },
   "source": [
    "#### **Instability in lognormal fit**\n",
    "\n",
    "_Some instability in the model fit when using lognormal distribution: prefer to use log_pr & convert_"
   ]
  },
  {
   "cell_type": "code",
   "execution_count": 76,
   "id": "26d2ec36-ae88-4bf2-ac78-4e2fbed8e36b",
   "metadata": {
    "tags": []
   },
   "outputs": [
    {
     "data": {
      "text/html": [
       "<table class=\"dataframe\">\n",
       "<caption>A matrix: 10 × 3 of type dbl</caption>\n",
       "<thead>\n",
       "\t<tr><th></th><th scope=col>bestimate</th><th scope=col>2.5%</th><th scope=col>97.5%</th></tr>\n",
       "</thead>\n",
       "<tbody>\n",
       "\t<tr><th scope=row>mu0</th><td> 4.80534</td><td>  -0.00591</td><td>4.601593e+01</td></tr>\n",
       "\t<tr><th scope=row>sigma0</th><td> 0.38312</td><td>   0.30291</td><td>1.835417e+02</td></tr>\n",
       "\t<tr><th scope=row>alpha</th><td> 0.31110</td><td>-148.25073</td><td>3.508790e+00</td></tr>\n",
       "\t<tr><th scope=row>beta</th><td> 0.18709</td><td>  -7.72621</td><td>2.179950e+00</td></tr>\n",
       "\t<tr><th scope=row>dispersion</th><td> 0.07973</td><td>  -7.74113</td><td>1.420148e+06</td></tr>\n",
       "\t<tr><th scope=row>event_magnitude</th><td>86.65775</td><td>  86.65775</td><td>8.665775e+01</td></tr>\n",
       "\t<tr><th scope=row>return_period</th><td> 7.26351</td><td>   1.03753</td><td>2.706110e+01</td></tr>\n",
       "\t<tr><th scope=row>probability_ratio</th><td> 0.31708</td><td>   0.06809</td><td>1.336318e+02</td></tr>\n",
       "\t<tr><th scope=row>abs_change_in_intensity</th><td>24.57644</td><td>      -Inf</td><td>6.858379e+01</td></tr>\n",
       "\t<tr><th scope=row>rel_change_in_intensity</th><td>39.58751</td><td>-100.00000</td><td>4.481868e+02</td></tr>\n",
       "</tbody>\n",
       "</table>\n"
      ],
      "text/latex": [
       "A matrix: 10 × 3 of type dbl\n",
       "\\begin{tabular}{r|lll}\n",
       "  & bestimate & 2.5\\% & 97.5\\%\\\\\n",
       "\\hline\n",
       "\tmu0 &  4.80534 &   -0.00591 & 4.601593e+01\\\\\n",
       "\tsigma0 &  0.38312 &    0.30291 & 1.835417e+02\\\\\n",
       "\talpha &  0.31110 & -148.25073 & 3.508790e+00\\\\\n",
       "\tbeta &  0.18709 &   -7.72621 & 2.179950e+00\\\\\n",
       "\tdispersion &  0.07973 &   -7.74113 & 1.420148e+06\\\\\n",
       "\tevent\\_magnitude & 86.65775 &   86.65775 & 8.665775e+01\\\\\n",
       "\treturn\\_period &  7.26351 &    1.03753 & 2.706110e+01\\\\\n",
       "\tprobability\\_ratio &  0.31708 &    0.06809 & 1.336318e+02\\\\\n",
       "\tabs\\_change\\_in\\_intensity & 24.57644 &       -Inf & 6.858379e+01\\\\\n",
       "\trel\\_change\\_in\\_intensity & 39.58751 & -100.00000 & 4.481868e+02\\\\\n",
       "\\end{tabular}\n"
      ],
      "text/markdown": [
       "\n",
       "A matrix: 10 × 3 of type dbl\n",
       "\n",
       "| <!--/--> | bestimate | 2.5% | 97.5% |\n",
       "|---|---|---|---|\n",
       "| mu0 |  4.80534 |   -0.00591 | 4.601593e+01 |\n",
       "| sigma0 |  0.38312 |    0.30291 | 1.835417e+02 |\n",
       "| alpha |  0.31110 | -148.25073 | 3.508790e+00 |\n",
       "| beta |  0.18709 |   -7.72621 | 2.179950e+00 |\n",
       "| dispersion |  0.07973 |   -7.74113 | 1.420148e+06 |\n",
       "| event_magnitude | 86.65775 |   86.65775 | 8.665775e+01 |\n",
       "| return_period |  7.26351 |    1.03753 | 2.706110e+01 |\n",
       "| probability_ratio |  0.31708 |    0.06809 | 1.336318e+02 |\n",
       "| abs_change_in_intensity | 24.57644 |       -Inf | 6.858379e+01 |\n",
       "| rel_change_in_intensity | 39.58751 | -100.00000 | 4.481868e+02 |\n",
       "\n"
      ],
      "text/plain": [
       "                        bestimate 2.5%       97.5%       \n",
       "mu0                      4.80534    -0.00591 4.601593e+01\n",
       "sigma0                   0.38312     0.30291 1.835417e+02\n",
       "alpha                    0.31110  -148.25073 3.508790e+00\n",
       "beta                     0.18709    -7.72621 2.179950e+00\n",
       "dispersion               0.07973    -7.74113 1.420148e+06\n",
       "event_magnitude         86.65775    86.65775 8.665775e+01\n",
       "return_period            7.26351     1.03753 2.706110e+01\n",
       "probability_ratio        0.31708     0.06809 1.336318e+02\n",
       "abs_change_in_intensity 24.57644        -Inf 6.858379e+01\n",
       "rel_change_in_intensity 39.58751  -100.00000 4.481868e+02"
      ]
     },
     "metadata": {},
     "output_type": "display_data"
    }
   ],
   "source": [
    "bootstrap_obs_results(fit_ns(\"lnorm\", \"fixeddisp\", df, varnm = \"pr_ond\", covnm_1 = \"gmst\", covnm_2 = \"nino_ond\", lower = T),\n",
    "                  cov1 = gmst_2022, cov2 = ondnino_2022, cov1_cf = gmst_cf, cov2_cf = ondnino_cf, convert_logs = T)"
   ]
  },
  {
   "cell_type": "code",
   "execution_count": 77,
   "id": "1345518e-ed98-4950-b06a-50102f8f5ee7",
   "metadata": {
    "tags": []
   },
   "outputs": [
    {
     "data": {
      "text/html": [
       "<table class=\"dataframe\">\n",
       "<caption>A matrix: 10 × 3 of type dbl</caption>\n",
       "<thead>\n",
       "\t<tr><th></th><th scope=col>bestimate</th><th scope=col>2.5%</th><th scope=col>97.5%</th></tr>\n",
       "</thead>\n",
       "<tbody>\n",
       "\t<tr><th scope=row>mu0</th><td> 2.08734</td><td>  1.96873</td><td>  2.20702</td></tr>\n",
       "\t<tr><th scope=row>sigma0</th><td> 0.16650</td><td>  0.12496</td><td>  0.19207</td></tr>\n",
       "\t<tr><th scope=row>alpha</th><td> 0.13447</td><td> -0.07215</td><td>  0.32123</td></tr>\n",
       "\t<tr><th scope=row>beta</th><td> 0.07967</td><td>  0.02650</td><td>  0.12575</td></tr>\n",
       "\t<tr><th scope=row>dispersion</th><td> 0.07977</td><td>  0.05895</td><td>  0.09303</td></tr>\n",
       "\t<tr><th scope=row>event_magnitude</th><td>86.65774</td><td> 86.65774</td><td> 86.65774</td></tr>\n",
       "\t<tr><th scope=row>return_period</th><td> 7.35726</td><td>  3.69988</td><td> 30.59830</td></tr>\n",
       "\t<tr><th scope=row>probability_ratio</th><td> 0.31701</td><td>  0.06059</td><td>  2.08681</td></tr>\n",
       "\t<tr><th scope=row>abs_change_in_intensity</th><td>24.47894</td><td>-17.13128</td><td> 47.55208</td></tr>\n",
       "\t<tr><th scope=row>rel_change_in_intensity</th><td>39.36863</td><td>-16.50587</td><td>121.60260</td></tr>\n",
       "</tbody>\n",
       "</table>\n"
      ],
      "text/latex": [
       "A matrix: 10 × 3 of type dbl\n",
       "\\begin{tabular}{r|lll}\n",
       "  & bestimate & 2.5\\% & 97.5\\%\\\\\n",
       "\\hline\n",
       "\tmu0 &  2.08734 &   1.96873 &   2.20702\\\\\n",
       "\tsigma0 &  0.16650 &   0.12496 &   0.19207\\\\\n",
       "\talpha &  0.13447 &  -0.07215 &   0.32123\\\\\n",
       "\tbeta &  0.07967 &   0.02650 &   0.12575\\\\\n",
       "\tdispersion &  0.07977 &   0.05895 &   0.09303\\\\\n",
       "\tevent\\_magnitude & 86.65774 &  86.65774 &  86.65774\\\\\n",
       "\treturn\\_period &  7.35726 &   3.69988 &  30.59830\\\\\n",
       "\tprobability\\_ratio &  0.31701 &   0.06059 &   2.08681\\\\\n",
       "\tabs\\_change\\_in\\_intensity & 24.47894 & -17.13128 &  47.55208\\\\\n",
       "\trel\\_change\\_in\\_intensity & 39.36863 & -16.50587 & 121.60260\\\\\n",
       "\\end{tabular}\n"
      ],
      "text/markdown": [
       "\n",
       "A matrix: 10 × 3 of type dbl\n",
       "\n",
       "| <!--/--> | bestimate | 2.5% | 97.5% |\n",
       "|---|---|---|---|\n",
       "| mu0 |  2.08734 |   1.96873 |   2.20702 |\n",
       "| sigma0 |  0.16650 |   0.12496 |   0.19207 |\n",
       "| alpha |  0.13447 |  -0.07215 |   0.32123 |\n",
       "| beta |  0.07967 |   0.02650 |   0.12575 |\n",
       "| dispersion |  0.07977 |   0.05895 |   0.09303 |\n",
       "| event_magnitude | 86.65774 |  86.65774 |  86.65774 |\n",
       "| return_period |  7.35726 |   3.69988 |  30.59830 |\n",
       "| probability_ratio |  0.31701 |   0.06059 |   2.08681 |\n",
       "| abs_change_in_intensity | 24.47894 | -17.13128 |  47.55208 |\n",
       "| rel_change_in_intensity | 39.36863 | -16.50587 | 121.60260 |\n",
       "\n"
      ],
      "text/plain": [
       "                        bestimate 2.5%      97.5%    \n",
       "mu0                      2.08734    1.96873   2.20702\n",
       "sigma0                   0.16650    0.12496   0.19207\n",
       "alpha                    0.13447   -0.07215   0.32123\n",
       "beta                     0.07967    0.02650   0.12575\n",
       "dispersion               0.07977    0.05895   0.09303\n",
       "event_magnitude         86.65774   86.65774  86.65774\n",
       "return_period            7.35726    3.69988  30.59830\n",
       "probability_ratio        0.31701    0.06059   2.08681\n",
       "abs_change_in_intensity 24.47894  -17.13128  47.55208\n",
       "rel_change_in_intensity 39.36863  -16.50587 121.60260"
      ]
     },
     "metadata": {},
     "output_type": "display_data"
    }
   ],
   "source": [
    "# pr_ond ~ gmst + nino_ond\n",
    "bootstrap_obs_results(fit_ns(\"norm\", \"fixeddisp\", df, varnm = \"log10pr_ond\", covnm_1 = \"gmst\", covnm_2 = \"nino_ond\", lower = T),\n",
    "                  cov1 = gmst_2022, cov2 = ondnino_2022, cov1_cf = gmst_cf, cov2_cf = ondnino_cf, convert_logs = T)"
   ]
  },
  {
   "cell_type": "code",
   "execution_count": 78,
   "id": "d0761576-78f8-4fe8-99dc-5828726d2053",
   "metadata": {},
   "outputs": [
    {
     "data": {
      "text/html": [
       "<table class=\"dataframe\">\n",
       "<caption>A matrix: 10 × 3 of type dbl</caption>\n",
       "<thead>\n",
       "\t<tr><th></th><th scope=col>bestimate</th><th scope=col>2.5%</th><th scope=col>97.5%</th></tr>\n",
       "</thead>\n",
       "<tbody>\n",
       "\t<tr><th scope=row>mu0</th><td> 4.80631</td><td>  4.53320</td><td>  5.08185</td></tr>\n",
       "\t<tr><th scope=row>sigma0</th><td> 0.38336</td><td>  0.28774</td><td>  0.44230</td></tr>\n",
       "\t<tr><th scope=row>alpha</th><td> 0.30973</td><td> -0.16611</td><td>  0.74022</td></tr>\n",
       "\t<tr><th scope=row>beta</th><td> 0.18346</td><td>  0.06101</td><td>  0.28957</td></tr>\n",
       "\t<tr><th scope=row>dispersion</th><td> 0.07976</td><td>  0.05895</td><td>  0.09304</td></tr>\n",
       "\t<tr><th scope=row>event_magnitude</th><td>86.65775</td><td> 86.65775</td><td> 86.65775</td></tr>\n",
       "\t<tr><th scope=row>return_period</th><td> 7.36042</td><td>  3.70003</td><td> 30.59794</td></tr>\n",
       "\t<tr><th scope=row>probability_ratio</th><td> 0.31685</td><td>  0.06059</td><td>  2.08684</td></tr>\n",
       "\t<tr><th scope=row>abs_change_in_intensity</th><td>24.48457</td><td>-17.13121</td><td> 47.57549</td></tr>\n",
       "\t<tr><th scope=row>rel_change_in_intensity</th><td>39.38124</td><td>-16.50581</td><td>121.73512</td></tr>\n",
       "</tbody>\n",
       "</table>\n"
      ],
      "text/latex": [
       "A matrix: 10 × 3 of type dbl\n",
       "\\begin{tabular}{r|lll}\n",
       "  & bestimate & 2.5\\% & 97.5\\%\\\\\n",
       "\\hline\n",
       "\tmu0 &  4.80631 &   4.53320 &   5.08185\\\\\n",
       "\tsigma0 &  0.38336 &   0.28774 &   0.44230\\\\\n",
       "\talpha &  0.30973 &  -0.16611 &   0.74022\\\\\n",
       "\tbeta &  0.18346 &   0.06101 &   0.28957\\\\\n",
       "\tdispersion &  0.07976 &   0.05895 &   0.09304\\\\\n",
       "\tevent\\_magnitude & 86.65775 &  86.65775 &  86.65775\\\\\n",
       "\treturn\\_period &  7.36042 &   3.70003 &  30.59794\\\\\n",
       "\tprobability\\_ratio &  0.31685 &   0.06059 &   2.08684\\\\\n",
       "\tabs\\_change\\_in\\_intensity & 24.48457 & -17.13121 &  47.57549\\\\\n",
       "\trel\\_change\\_in\\_intensity & 39.38124 & -16.50581 & 121.73512\\\\\n",
       "\\end{tabular}\n"
      ],
      "text/markdown": [
       "\n",
       "A matrix: 10 × 3 of type dbl\n",
       "\n",
       "| <!--/--> | bestimate | 2.5% | 97.5% |\n",
       "|---|---|---|---|\n",
       "| mu0 |  4.80631 |   4.53320 |   5.08185 |\n",
       "| sigma0 |  0.38336 |   0.28774 |   0.44230 |\n",
       "| alpha |  0.30973 |  -0.16611 |   0.74022 |\n",
       "| beta |  0.18346 |   0.06101 |   0.28957 |\n",
       "| dispersion |  0.07976 |   0.05895 |   0.09304 |\n",
       "| event_magnitude | 86.65775 |  86.65775 |  86.65775 |\n",
       "| return_period |  7.36042 |   3.70003 |  30.59794 |\n",
       "| probability_ratio |  0.31685 |   0.06059 |   2.08684 |\n",
       "| abs_change_in_intensity | 24.48457 | -17.13121 |  47.57549 |\n",
       "| rel_change_in_intensity | 39.38124 | -16.50581 | 121.73512 |\n",
       "\n"
      ],
      "text/plain": [
       "                        bestimate 2.5%      97.5%    \n",
       "mu0                      4.80631    4.53320   5.08185\n",
       "sigma0                   0.38336    0.28774   0.44230\n",
       "alpha                    0.30973   -0.16611   0.74022\n",
       "beta                     0.18346    0.06101   0.28957\n",
       "dispersion               0.07976    0.05895   0.09304\n",
       "event_magnitude         86.65775   86.65775  86.65775\n",
       "return_period            7.36042    3.70003  30.59794\n",
       "probability_ratio        0.31685    0.06059   2.08684\n",
       "abs_change_in_intensity 24.48457  -17.13121  47.57549\n",
       "rel_change_in_intensity 39.38124  -16.50581 121.73512"
      ]
     },
     "metadata": {},
     "output_type": "display_data"
    }
   ],
   "source": [
    "# confirm: if we use natural log, we get almost same fitted parameters as using lognormal, but without the model instability\n",
    "df[\"lognpr_ond\"] <- log(df$pr_ond)\n",
    "bootstrap_obs_results(fit_ns(\"norm\", \"fixeddisp\", df, varnm = \"lognpr_ond\", covnm_1 = \"gmst\", covnm_2 = \"nino_ond\", lower = T),\n",
    "                  cov1 = gmst_2022, cov2 = ondnino_2022, cov1_cf = gmst_cf, cov2_cf = ondnino_cf, convert_logs = T)"
   ]
  },
  {
   "cell_type": "markdown",
   "id": "848c74a3-c7f2-486b-8465-4a640406fae1",
   "metadata": {},
   "source": [
    "### **Results for CPC**"
   ]
  },
  {
   "cell_type": "code",
   "execution_count": 82,
   "id": "2abb8411-8521-4f66-8595-704944d36e92",
   "metadata": {},
   "outputs": [],
   "source": [
    "# load data, fix values for factual & counterfactual climate\n",
    "\n",
    "df <- read.csv(\"data/gmst-nino-cpc.csv\")\n",
    "\n",
    "gmst_2022 <- df[df$year == 2022, \"gmst\"]\n",
    "gmst_cf <- gmst_2022 - 1.2\n",
    "\n",
    "ondnino_2022 <- df[df$year == 2022, \"nino_ond\"]\n",
    "ondnino_cf <- ondnino_2022\n",
    "\n",
    "#~~~~~~~~~~~~~~~~~~~~~~~~~~~~~~~~~~~~~~~~~~~~~~~~~~~~~~~~~~~~~~~~~~~~~~~~~~~~~~~~~~~~~~~~~~~~~~~~~~~~~~~~~~~~~~~~~~~~~~~~~~~~~~~~~~~~~~~~~~\n",
    "\n",
    "# wrapper function to get bootstrapped confidence intervals for spreadsheet\n",
    "bootstrap_obs_results <- function(mdl, cov1, cov2, cov1_cf = NA, cov2_cf = NA, seed = 101, nsamp = 1000, dp = 5, convert_logs = T) {\n",
    "\n",
    "    # create internal function to give required results\n",
    "    get_mdl_values <- function(mdl, ev, cov1, cov2, cov1_cf = NA, cov2_cf = NA) {\n",
    "        \n",
    "        pars <- mdl$par\n",
    "        \n",
    "        rp <- 1/map_to_u(mdl, x = event_value, cov1 = cov1, cov2 = cov2)\n",
    "        rp_cf <- 1/map_to_u(mdl, x = event_value, cov1 = cov1_cf, cov2 = cov2_cf)\n",
    "        rl_cf <- map_from_u(1/rp, mdl, cov1 = cov1_cf, cov2 = cov2_cf)\n",
    "        \n",
    "        # if using log values, convert back to natural units\n",
    "        if(convert_logs) {\n",
    "            if(substr(mdl$varnm,1,5) == \"log10\") {\n",
    "                ev <- 10^ev\n",
    "                rl_cf <- 10^rl_cf\n",
    "            } else if(substr(mdl$varnm,1,3) == \"log\") {\n",
    "                ev <- exp(ev)\n",
    "                rl_cf <- exp(rl_cf)\n",
    "            }\n",
    "        }\n",
    "        c(pars, \n",
    "          \"dispersion\" = unname(pars[\"sigma0\"] / pars[\"mu0\"]),\n",
    "          \"event_magnitude\" = ev,\n",
    "          \"return_period\" = rp,\n",
    "          \"probability_ratio\" = rp_cf/rp,\n",
    "          \"abs_change_in_intensity\" = (ev - rl_cf),\n",
    "          \"rel_change_in_intensity\" = ((ev - rl_cf) / rl_cf) * 100\n",
    "         )   \n",
    "    }\n",
    "    \n",
    "    # get best estimate from the observed data\n",
    "    event_value <- mdl$x[mdl$ev_idx]\n",
    "    mdl_res <- get_mdl_values(mdl, event_value, cov1, cov2, cov1_cf, cov2_cf)\n",
    "    mdl_df <- setNames(data.frame(mdl$x, mdl$cov1, mdl$cov2), c(mdl$varnm, mdl$covnm_1, mdl$covnm_2)) \n",
    "    \n",
    "    # get bootstrap sample\n",
    "    set.seed(seed)    \n",
    "    boot_res <- sapply(1:nsamp, function(i) {\n",
    "        boot_df <- mdl_df[sample(1:nrow(mdl_df), nrow(mdl_df), replace = T),]\n",
    "        boot_mdl <- fit_ns(mdl$dist, mdl$type, boot_df, varnm = mdl$varnm, covnm_1 = mdl$covnm_1, covnm_2 = mdl$covnm_2, lower = mdl$lower)\n",
    "        get_mdl_values(boot_mdl, event_value, cov1, cov2, cov1_cf, cov2_cf)\n",
    "    })\n",
    "    boot_qq <- t(rbind(\"bestimate\" = mdl_res, apply(boot_res, 1, quantile, c(0.025, 0.975), na.rm = T)))\n",
    "    if(!is.na(dp)) boot_qq <- round(boot_qq, dp)\n",
    "    return(boot_qq)\n",
    "}"
   ]
  },
  {
   "cell_type": "code",
   "execution_count": 83,
   "id": "e9d88433-aca6-4681-a5e9-8e098af1bb1b",
   "metadata": {},
   "outputs": [
    {
     "data": {
      "text/html": [
       "<table class=\"dataframe\">\n",
       "<caption>A matrix: 10 × 3 of type dbl</caption>\n",
       "<thead>\n",
       "\t<tr><th></th><th scope=col>bestimate</th><th scope=col>2.5%</th><th scope=col>97.5%</th></tr>\n",
       "</thead>\n",
       "<tbody>\n",
       "\t<tr><th scope=row>mu0</th><td> 2.08734</td><td>  1.96873</td><td>  2.20702</td></tr>\n",
       "\t<tr><th scope=row>sigma0</th><td> 0.16650</td><td>  0.12496</td><td>  0.19207</td></tr>\n",
       "\t<tr><th scope=row>alpha</th><td> 0.13447</td><td> -0.07215</td><td>  0.32123</td></tr>\n",
       "\t<tr><th scope=row>beta</th><td> 0.07967</td><td>  0.02650</td><td>  0.12575</td></tr>\n",
       "\t<tr><th scope=row>dispersion</th><td> 0.07977</td><td>  0.05895</td><td>  0.09303</td></tr>\n",
       "\t<tr><th scope=row>event_magnitude</th><td>86.65774</td><td> 86.65774</td><td> 86.65774</td></tr>\n",
       "\t<tr><th scope=row>return_period</th><td> 7.35726</td><td>  3.69988</td><td> 30.59830</td></tr>\n",
       "\t<tr><th scope=row>probability_ratio</th><td> 0.31701</td><td>  0.06059</td><td>  2.08681</td></tr>\n",
       "\t<tr><th scope=row>abs_change_in_intensity</th><td>24.47894</td><td>-17.13128</td><td> 47.55208</td></tr>\n",
       "\t<tr><th scope=row>rel_change_in_intensity</th><td>39.36863</td><td>-16.50587</td><td>121.60260</td></tr>\n",
       "</tbody>\n",
       "</table>\n"
      ],
      "text/latex": [
       "A matrix: 10 × 3 of type dbl\n",
       "\\begin{tabular}{r|lll}\n",
       "  & bestimate & 2.5\\% & 97.5\\%\\\\\n",
       "\\hline\n",
       "\tmu0 &  2.08734 &   1.96873 &   2.20702\\\\\n",
       "\tsigma0 &  0.16650 &   0.12496 &   0.19207\\\\\n",
       "\talpha &  0.13447 &  -0.07215 &   0.32123\\\\\n",
       "\tbeta &  0.07967 &   0.02650 &   0.12575\\\\\n",
       "\tdispersion &  0.07977 &   0.05895 &   0.09303\\\\\n",
       "\tevent\\_magnitude & 86.65774 &  86.65774 &  86.65774\\\\\n",
       "\treturn\\_period &  7.35726 &   3.69988 &  30.59830\\\\\n",
       "\tprobability\\_ratio &  0.31701 &   0.06059 &   2.08681\\\\\n",
       "\tabs\\_change\\_in\\_intensity & 24.47894 & -17.13128 &  47.55208\\\\\n",
       "\trel\\_change\\_in\\_intensity & 39.36863 & -16.50587 & 121.60260\\\\\n",
       "\\end{tabular}\n"
      ],
      "text/markdown": [
       "\n",
       "A matrix: 10 × 3 of type dbl\n",
       "\n",
       "| <!--/--> | bestimate | 2.5% | 97.5% |\n",
       "|---|---|---|---|\n",
       "| mu0 |  2.08734 |   1.96873 |   2.20702 |\n",
       "| sigma0 |  0.16650 |   0.12496 |   0.19207 |\n",
       "| alpha |  0.13447 |  -0.07215 |   0.32123 |\n",
       "| beta |  0.07967 |   0.02650 |   0.12575 |\n",
       "| dispersion |  0.07977 |   0.05895 |   0.09303 |\n",
       "| event_magnitude | 86.65774 |  86.65774 |  86.65774 |\n",
       "| return_period |  7.35726 |   3.69988 |  30.59830 |\n",
       "| probability_ratio |  0.31701 |   0.06059 |   2.08681 |\n",
       "| abs_change_in_intensity | 24.47894 | -17.13128 |  47.55208 |\n",
       "| rel_change_in_intensity | 39.36863 | -16.50587 | 121.60260 |\n",
       "\n"
      ],
      "text/plain": [
       "                        bestimate 2.5%      97.5%    \n",
       "mu0                      2.08734    1.96873   2.20702\n",
       "sigma0                   0.16650    0.12496   0.19207\n",
       "alpha                    0.13447   -0.07215   0.32123\n",
       "beta                     0.07967    0.02650   0.12575\n",
       "dispersion               0.07977    0.05895   0.09303\n",
       "event_magnitude         86.65774   86.65774  86.65774\n",
       "return_period            7.35726    3.69988  30.59830\n",
       "probability_ratio        0.31701    0.06059   2.08681\n",
       "abs_change_in_intensity 24.47894  -17.13128  47.55208\n",
       "rel_change_in_intensity 39.36863  -16.50587 121.60260"
      ]
     },
     "metadata": {},
     "output_type": "display_data"
    }
   ],
   "source": [
    "# pr_ond ~ gmst + nino_ond\n",
    "bootstrap_obs_results(fit_ns(\"norm\", \"fixeddisp\", df, varnm = \"log10pr_ond\", covnm_1 = \"gmst\", covnm_2 = \"nino_ond\", lower = T),\n",
    "                  cov1 = gmst_2022, cov2 = ondnino_2022, cov1_cf = gmst_cf, cov2_cf = ondnino_cf, convert_logs = T)"
   ]
  },
  {
   "cell_type": "code",
   "execution_count": 84,
   "id": "bf3c9c82-e1f1-463f-ba1e-c374cdf5a1b4",
   "metadata": {},
   "outputs": [
    {
     "data": {
      "text/html": [
       "<table class=\"dataframe\">\n",
       "<caption>A matrix: 10 × 3 of type dbl</caption>\n",
       "<thead>\n",
       "\t<tr><th></th><th scope=col>bestimate</th><th scope=col>2.5%</th><th scope=col>97.5%</th></tr>\n",
       "</thead>\n",
       "<tbody>\n",
       "\t<tr><th scope=row>mu0</th><td>  2.30264</td><td>   2.18556</td><td>   2.42336</td></tr>\n",
       "\t<tr><th scope=row>sigma0</th><td>  0.14889</td><td>   0.11475</td><td>   0.17262</td></tr>\n",
       "\t<tr><th scope=row>alpha</th><td> -0.12474</td><td>  -0.36445</td><td>   0.09124</td></tr>\n",
       "\t<tr><th scope=row>beta</th><td>  0.00000</td><td>   0.00000</td><td>   0.00000</td></tr>\n",
       "\t<tr><th scope=row>dispersion</th><td>  0.06466</td><td>   0.04878</td><td>   0.07624</td></tr>\n",
       "\t<tr><th scope=row>event_magnitude</th><td>100.62882</td><td> 100.62882</td><td> 100.62882</td></tr>\n",
       "\t<tr><th scope=row>return_period</th><td> 10.88907</td><td>   4.36724</td><td>  52.71624</td></tr>\n",
       "\t<tr><th scope=row>probability_ratio</th><td>  6.93885</td><td>   0.24862</td><td>3622.23391</td></tr>\n",
       "\t<tr><th scope=row>abs_change_in_intensity</th><td>-36.53563</td><td>-150.36741</td><td>  20.01821</td></tr>\n",
       "\t<tr><th scope=row>rel_change_in_intensity</th><td>-26.63637</td><td> -59.90816</td><td>  24.83328</td></tr>\n",
       "</tbody>\n",
       "</table>\n"
      ],
      "text/latex": [
       "A matrix: 10 × 3 of type dbl\n",
       "\\begin{tabular}{r|lll}\n",
       "  & bestimate & 2.5\\% & 97.5\\%\\\\\n",
       "\\hline\n",
       "\tmu0 &   2.30264 &    2.18556 &    2.42336\\\\\n",
       "\tsigma0 &   0.14889 &    0.11475 &    0.17262\\\\\n",
       "\talpha &  -0.12474 &   -0.36445 &    0.09124\\\\\n",
       "\tbeta &   0.00000 &    0.00000 &    0.00000\\\\\n",
       "\tdispersion &   0.06466 &    0.04878 &    0.07624\\\\\n",
       "\tevent\\_magnitude & 100.62882 &  100.62882 &  100.62882\\\\\n",
       "\treturn\\_period &  10.88907 &    4.36724 &   52.71624\\\\\n",
       "\tprobability\\_ratio &   6.93885 &    0.24862 & 3622.23391\\\\\n",
       "\tabs\\_change\\_in\\_intensity & -36.53563 & -150.36741 &   20.01821\\\\\n",
       "\trel\\_change\\_in\\_intensity & -26.63637 &  -59.90816 &   24.83328\\\\\n",
       "\\end{tabular}\n"
      ],
      "text/markdown": [
       "\n",
       "A matrix: 10 × 3 of type dbl\n",
       "\n",
       "| <!--/--> | bestimate | 2.5% | 97.5% |\n",
       "|---|---|---|---|\n",
       "| mu0 |   2.30264 |    2.18556 |    2.42336 |\n",
       "| sigma0 |   0.14889 |    0.11475 |    0.17262 |\n",
       "| alpha |  -0.12474 |   -0.36445 |    0.09124 |\n",
       "| beta |   0.00000 |    0.00000 |    0.00000 |\n",
       "| dispersion |   0.06466 |    0.04878 |    0.07624 |\n",
       "| event_magnitude | 100.62882 |  100.62882 |  100.62882 |\n",
       "| return_period |  10.88907 |    4.36724 |   52.71624 |\n",
       "| probability_ratio |   6.93885 |    0.24862 | 3622.23391 |\n",
       "| abs_change_in_intensity | -36.53563 | -150.36741 |   20.01821 |\n",
       "| rel_change_in_intensity | -26.63637 |  -59.90816 |   24.83328 |\n",
       "\n"
      ],
      "text/plain": [
       "                        bestimate 2.5%       97.5%     \n",
       "mu0                       2.30264    2.18556    2.42336\n",
       "sigma0                    0.14889    0.11475    0.17262\n",
       "alpha                    -0.12474   -0.36445    0.09124\n",
       "beta                      0.00000    0.00000    0.00000\n",
       "dispersion                0.06466    0.04878    0.07624\n",
       "event_magnitude         100.62882  100.62882  100.62882\n",
       "return_period            10.88907    4.36724   52.71624\n",
       "probability_ratio         6.93885    0.24862 3622.23391\n",
       "abs_change_in_intensity -36.53563 -150.36741   20.01821\n",
       "rel_change_in_intensity -26.63637  -59.90816   24.83328"
      ]
     },
     "metadata": {},
     "output_type": "display_data"
    }
   ],
   "source": [
    "# pr_mam ~ gmst\n",
    "bootstrap_obs_results(fit_ns(\"norm\", \"fixeddisp\", df, varnm = \"log10pr_mam\", covnm_1 = \"gmst\", lower = T),\n",
    "                  cov1 = gmst_2022, cov2 = ondnino_2022, cov1_cf = gmst_cf, cov2_cf = ondnino_cf, convert_logs = T)"
   ]
  },
  {
   "cell_type": "code",
   "execution_count": 89,
   "id": "faa621ad-aeef-4aca-aa29-e9f4e8206743",
   "metadata": {},
   "outputs": [
    {
     "data": {
      "text/html": [
       "<table class=\"dataframe\">\n",
       "<caption>A matrix: 10 × 3 of type dbl</caption>\n",
       "<thead>\n",
       "\t<tr><th></th><th scope=col>bestimate</th><th scope=col>2.5%</th><th scope=col>97.5%</th></tr>\n",
       "</thead>\n",
       "<tbody>\n",
       "\t<tr><th scope=row>mu0</th><td>  2.93015</td><td>   2.87098</td><td>  3.00010</td></tr>\n",
       "\t<tr><th scope=row>sigma0</th><td>  0.08199</td><td>   0.06249</td><td>  0.09598</td></tr>\n",
       "\t<tr><th scope=row>alpha</th><td> -0.02630</td><td>  -0.14273</td><td>  0.07319</td></tr>\n",
       "\t<tr><th scope=row>beta</th><td>  0.00000</td><td>   0.00000</td><td>  0.00000</td></tr>\n",
       "\t<tr><th scope=row>dispersion</th><td>  0.02798</td><td>   0.02122</td><td>  0.03282</td></tr>\n",
       "\t<tr><th scope=row>event_magnitude</th><td>588.28680</td><td> 588.28680</td><td>588.28680</td></tr>\n",
       "\t<tr><th scope=row>return_period</th><td> 21.47824</td><td>   8.05635</td><td>135.69069</td></tr>\n",
       "\t<tr><th scope=row>probability_ratio</th><td>  2.27386</td><td>   0.09040</td><td>361.33541</td></tr>\n",
       "\t<tr><th scope=row>abs_change_in_intensity</th><td>-42.06057</td><td>-267.51131</td><td>102.85892</td></tr>\n",
       "\t<tr><th scope=row>rel_change_in_intensity</th><td> -6.67260</td><td> -31.25869</td><td> 21.18943</td></tr>\n",
       "</tbody>\n",
       "</table>\n"
      ],
      "text/latex": [
       "A matrix: 10 × 3 of type dbl\n",
       "\\begin{tabular}{r|lll}\n",
       "  & bestimate & 2.5\\% & 97.5\\%\\\\\n",
       "\\hline\n",
       "\tmu0 &   2.93015 &    2.87098 &   3.00010\\\\\n",
       "\tsigma0 &   0.08199 &    0.06249 &   0.09598\\\\\n",
       "\talpha &  -0.02630 &   -0.14273 &   0.07319\\\\\n",
       "\tbeta &   0.00000 &    0.00000 &   0.00000\\\\\n",
       "\tdispersion &   0.02798 &    0.02122 &   0.03282\\\\\n",
       "\tevent\\_magnitude & 588.28680 &  588.28680 & 588.28680\\\\\n",
       "\treturn\\_period &  21.47824 &    8.05635 & 135.69069\\\\\n",
       "\tprobability\\_ratio &   2.27386 &    0.09040 & 361.33541\\\\\n",
       "\tabs\\_change\\_in\\_intensity & -42.06057 & -267.51131 & 102.85892\\\\\n",
       "\trel\\_change\\_in\\_intensity &  -6.67260 &  -31.25869 &  21.18943\\\\\n",
       "\\end{tabular}\n"
      ],
      "text/markdown": [
       "\n",
       "A matrix: 10 × 3 of type dbl\n",
       "\n",
       "| <!--/--> | bestimate | 2.5% | 97.5% |\n",
       "|---|---|---|---|\n",
       "| mu0 |   2.93015 |    2.87098 |   3.00010 |\n",
       "| sigma0 |   0.08199 |    0.06249 |   0.09598 |\n",
       "| alpha |  -0.02630 |   -0.14273 |   0.07319 |\n",
       "| beta |   0.00000 |    0.00000 |   0.00000 |\n",
       "| dispersion |   0.02798 |    0.02122 |   0.03282 |\n",
       "| event_magnitude | 588.28680 |  588.28680 | 588.28680 |\n",
       "| return_period |  21.47824 |    8.05635 | 135.69069 |\n",
       "| probability_ratio |   2.27386 |    0.09040 | 361.33541 |\n",
       "| abs_change_in_intensity | -42.06057 | -267.51131 | 102.85892 |\n",
       "| rel_change_in_intensity |  -6.67260 |  -31.25869 |  21.18943 |\n",
       "\n"
      ],
      "text/plain": [
       "                        bestimate 2.5%       97.5%    \n",
       "mu0                       2.93015    2.87098   3.00010\n",
       "sigma0                    0.08199    0.06249   0.09598\n",
       "alpha                    -0.02630   -0.14273   0.07319\n",
       "beta                      0.00000    0.00000   0.00000\n",
       "dispersion                0.02798    0.02122   0.03282\n",
       "event_magnitude         588.28680  588.28680 588.28680\n",
       "return_period            21.47824    8.05635 135.69069\n",
       "probability_ratio         2.27386    0.09040 361.33541\n",
       "abs_change_in_intensity -42.06057 -267.51131 102.85892\n",
       "rel_change_in_intensity  -6.67260  -31.25869  21.18943"
      ]
     },
     "metadata": {},
     "output_type": "display_data"
    }
   ],
   "source": [
    "# pr_24 ~ gmst\n",
    "bootstrap_obs_results(fit_ns(\"norm\", \"fixeddisp\", df[-1,], varnm = \"log10pr24\", covnm_1 = \"gmst\", lower = T),\n",
    "                  cov1 = gmst_2022, cov2 = ondnino_2022, cov1_cf = gmst_cf, cov2_cf = ondnino_cf, convert_logs = T)"
   ]
  },
  {
   "cell_type": "code",
   "execution_count": 91,
   "id": "ee6a1c9c-2fff-44b4-8566-65e31ac26d76",
   "metadata": {},
   "outputs": [
    {
     "data": {
      "text/html": [
       "<table class=\"dataframe\">\n",
       "<caption>A matrix: 10 × 3 of type dbl</caption>\n",
       "<thead>\n",
       "\t<tr><th></th><th scope=col>bestimate</th><th scope=col>2.5%</th><th scope=col>97.5%</th></tr>\n",
       "</thead>\n",
       "<tbody>\n",
       "\t<tr><th scope=row>mu0</th><td>104.51890</td><td>100.82351</td><td>107.89970</td></tr>\n",
       "\t<tr><th scope=row>sigma0</th><td>  4.37897</td><td>  3.48799</td><td>  5.04177</td></tr>\n",
       "\t<tr><th scope=row>alpha</th><td> 16.92236</td><td> 11.39885</td><td> 23.01569</td></tr>\n",
       "\t<tr><th scope=row>beta</th><td>  0.00000</td><td>  0.00000</td><td>  0.00000</td></tr>\n",
       "\t<tr><th scope=row>dispersion</th><td>  0.04190</td><td>  0.03329</td><td>  0.04794</td></tr>\n",
       "\t<tr><th scope=row>event_magnitude</th><td>121.41286</td><td>121.41286</td><td>121.41286</td></tr>\n",
       "\t<tr><th scope=row>return_period</th><td>  1.60274</td><td>  1.22736</td><td>  2.40824</td></tr>\n",
       "\t<tr><th scope=row>probability_ratio</th><td>  0.62393</td><td>  0.41524</td><td>  0.81477</td></tr>\n",
       "\t<tr><th scope=row>abs_change_in_intensity</th><td> 20.30683</td><td> 13.67862</td><td> 27.61882</td></tr>\n",
       "\t<tr><th scope=row>rel_change_in_intensity</th><td> 20.08469</td><td> 12.69664</td><td> 29.44625</td></tr>\n",
       "</tbody>\n",
       "</table>\n"
      ],
      "text/latex": [
       "A matrix: 10 × 3 of type dbl\n",
       "\\begin{tabular}{r|lll}\n",
       "  & bestimate & 2.5\\% & 97.5\\%\\\\\n",
       "\\hline\n",
       "\tmu0 & 104.51890 & 100.82351 & 107.89970\\\\\n",
       "\tsigma0 &   4.37897 &   3.48799 &   5.04177\\\\\n",
       "\talpha &  16.92236 &  11.39885 &  23.01569\\\\\n",
       "\tbeta &   0.00000 &   0.00000 &   0.00000\\\\\n",
       "\tdispersion &   0.04190 &   0.03329 &   0.04794\\\\\n",
       "\tevent\\_magnitude & 121.41286 & 121.41286 & 121.41286\\\\\n",
       "\treturn\\_period &   1.60274 &   1.22736 &   2.40824\\\\\n",
       "\tprobability\\_ratio &   0.62393 &   0.41524 &   0.81477\\\\\n",
       "\tabs\\_change\\_in\\_intensity &  20.30683 &  13.67862 &  27.61882\\\\\n",
       "\trel\\_change\\_in\\_intensity &  20.08469 &  12.69664 &  29.44625\\\\\n",
       "\\end{tabular}\n"
      ],
      "text/markdown": [
       "\n",
       "A matrix: 10 × 3 of type dbl\n",
       "\n",
       "| <!--/--> | bestimate | 2.5% | 97.5% |\n",
       "|---|---|---|---|\n",
       "| mu0 | 104.51890 | 100.82351 | 107.89970 |\n",
       "| sigma0 |   4.37897 |   3.48799 |   5.04177 |\n",
       "| alpha |  16.92236 |  11.39885 |  23.01569 |\n",
       "| beta |   0.00000 |   0.00000 |   0.00000 |\n",
       "| dispersion |   0.04190 |   0.03329 |   0.04794 |\n",
       "| event_magnitude | 121.41286 | 121.41286 | 121.41286 |\n",
       "| return_period |   1.60274 |   1.22736 |   2.40824 |\n",
       "| probability_ratio |   0.62393 |   0.41524 |   0.81477 |\n",
       "| abs_change_in_intensity |  20.30683 |  13.67862 |  27.61882 |\n",
       "| rel_change_in_intensity |  20.08469 |  12.69664 |  29.44625 |\n",
       "\n"
      ],
      "text/plain": [
       "                        bestimate 2.5%      97.5%    \n",
       "mu0                     104.51890 100.82351 107.89970\n",
       "sigma0                    4.37897   3.48799   5.04177\n",
       "alpha                    16.92236  11.39885  23.01569\n",
       "beta                      0.00000   0.00000   0.00000\n",
       "dispersion                0.04190   0.03329   0.04794\n",
       "event_magnitude         121.41286 121.41286 121.41286\n",
       "return_period             1.60274   1.22736   2.40824\n",
       "probability_ratio         0.62393   0.41524   0.81477\n",
       "abs_change_in_intensity  20.30683  13.67862  27.61882\n",
       "rel_change_in_intensity  20.08469  12.69664  29.44625"
      ]
     },
     "metadata": {},
     "output_type": "display_data"
    }
   ],
   "source": [
    "# pet_24 ~ gmst (need to check model structure!)\n",
    "bootstrap_obs_results(fit_ns(\"norm\", \"shift\", df[-1,], varnm = \"pet_24\", covnm_1 = \"gmst\", lower = T),\n",
    "                  cov1 = gmst_2022, cov2 = ondnino_2022, cov1_cf = gmst_cf, cov2_cf = ondnino_cf, convert_logs = T)"
   ]
  },
  {
   "cell_type": "code",
   "execution_count": null,
   "id": "d7117f5a-59b3-403d-9679-82187a40623f",
   "metadata": {},
   "outputs": [],
   "source": []
  }
 ],
 "metadata": {
  "kernelspec": {
   "display_name": "R [conda env:r_env]",
   "language": "R",
   "name": "conda-env-r_env-r"
  },
  "language_info": {
   "codemirror_mode": "r",
   "file_extension": ".r",
   "mimetype": "text/x-r-source",
   "name": "R",
   "pygments_lexer": "r",
   "version": "4.2.2"
  }
 },
 "nbformat": 4,
 "nbformat_minor": 5
}
