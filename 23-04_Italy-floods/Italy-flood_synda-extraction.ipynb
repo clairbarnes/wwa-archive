{
 "cells": [
  {
   "cell_type": "code",
   "execution_count": 1,
   "metadata": {},
   "outputs": [],
   "source": [
    "import sys; sys.path.append('/rds/general/user/cb2714/home/')\n",
    "from wwa import *"
   ]
  },
  {
   "cell_type": "markdown",
   "metadata": {},
   "source": [
    "---\n",
    "## **CORDEX**\n",
    "\n",
    "Extract rectangular region over Italy from raw data downloaded using synda"
   ]
  },
  {
   "cell_type": "code",
   "execution_count": 2,
   "metadata": {},
   "outputs": [],
   "source": [
    "# lat-lon bounds for selection of data\n",
    "xn = 5; xx = 20; yn = 35; yx = 50\n",
    "\n",
    "varnm = \"pr\"\n",
    "units = \"mm/day\"\n",
    "\n",
    "# get list of available files, check against files already processed\n",
    "synda_fl = glob.glob(\"../synda/data/CORDEX/EUR-11/*/*/*/day/\"+varnm+\"/*.nc\")\n",
    "synda_fl = [fnm for fnm in synda_fl if int(fnm[-20:-16]) <= 2050]\n",
    "fl = glob.glob(\"*.nc\")\n",
    "\n",
    "fl_to_process = [fnm for fnm in synda_fl if not fnm.split(\"/\")[-1] in fl]"
   ]
  },
  {
   "cell_type": "code",
   "execution_count": 30,
   "metadata": {},
   "outputs": [
    {
     "name": "stdout",
     "output_type": "stream",
     "text": [
      "\n"
     ]
    }
   ],
   "source": [
    "# loop over unprocessed files (mf approach)\n",
    "for fnm in fl_to_process:\n",
    "\n",
    "    if os.path.exists(fnm.split(\"/\")[-1]): continue\n",
    "    da = convert_units_to(xr.open_dataset(fnm)[varnm], units)\n",
    "\n",
    "    if \"rlon\" in da.dims:\n",
    "        x_dim, y_dim = [\"rlon\", \"rlat\"]\n",
    "    elif \"x\" in da.dims:\n",
    "        x_dim, y_dim = [\"x\", \"y\"]\n",
    "   \n",
    "    # MPI-ESM-LR_rcp85_r1i1p1_IPSL-WRF381P has no x or y coords - use dummy coords to match other WRF381P run\n",
    "    if all(da[x_dim] == 0):\n",
    "        da = da.assign_coords({x_dim : list(np.arange(0, len(da[x_dim])*12.5, 12.5))})\n",
    "    if all(da[y_dim] == 0):\n",
    "        da = da.assign_coords({y_dim : list(np.arange(0, len(da[y_dim])*12.5, 12.5))})\n",
    "\n",
    "    if \"latitude\" in da.coords: da = da.rename(latitude = \"lat\")\n",
    "    if \"longitude\" in da.coords: da = da.rename(longitude = \"lon\")\n",
    "        \n",
    "    # fix typos in coordinates (mainly CNRM-CM5_ALADIN63)\n",
    "    if len(np.unique(da[x_dim])) != len(da[x_dim]):\n",
    "        da = da.assign_coords({x_dim : list(np.arange(da[x_dim].min(), da[x_dim].max()+1, np.diff(da[x_dim][:2])[0]))})\n",
    "    if len(np.unique(da[y_dim])) != len(da[y_dim]):\n",
    "        da = da.assign_coords({y_dim : list(np.arange(da[y_dim].min(), da[y_dim].max()+1, np.diff(da[y_dim][:2])[0]))})\n",
    "        \n",
    "    # trim data to area required\n",
    "    sp_mask = np.logical_and(np.logical_and(da.lat > yn, da.lat < yx), np.logical_and(da.lon > xn, da.lon < xx))\n",
    "    sp_mask = sp_mask.where(sp_mask == 1).dropna(x_dim, \"all\").dropna(y_dim, \"all\")\n",
    "    da = da.sel({x_dim : sp_mask[x_dim], y_dim : sp_mask[y_dim], \"time\" : slice(None, \"2050\")})\n",
    "\n",
    "    # save individual files to netcdf (quicker than compiling in advance)\n",
    "    da.to_netcdf(fnm.split(\"/\")[-1])\n",
    "    print(\".\", end = \"\")\n",
    "\n",
    "print(\"\")"
   ]
  },
  {
   "cell_type": "markdown",
   "metadata": {},
   "source": [
    "### **Check completed runs to uninstall**"
   ]
  },
  {
   "cell_type": "code",
   "execution_count": 4,
   "metadata": {},
   "outputs": [],
   "source": [
    "for fpath in glob.glob(\"../synda/data/CORDEX/EUR-11/*/*/*/day/pr/\"):\n",
    "    \n",
    "    synda_fl = glob.glob(fpath+\"*.nc\")\n",
    "    if len(synda_fl) == 0: continue\n",
    "        \n",
    "    synda_fl = [fnm for fnm in synda_fl if int(fnm[-20:-16]) <= 2050]\n",
    "    fnm_patn = re.sub(\"rcp85\", \"*\", re.sub(\"historical\", \"*\", \"_\".join(synda_fl[0].split(\"/\")[-1].split(\"_\")[:-1])+\"*.nc\"))\n",
    "    \n",
    "    if len(glob.glob(fnm_patn)) == len(synda_fl):\n",
    "        print(fpath, len(glob.glob(fnm_patn)), len(synda_fl))"
   ]
  },
  {
   "cell_type": "markdown",
   "metadata": {},
   "source": [
    "### **List available runs, get timeseries & spatial pattern**"
   ]
  },
  {
   "cell_type": "code",
   "execution_count": 38,
   "metadata": {},
   "outputs": [],
   "source": [
    "sf = gpd.read_file(\"sf_emilia-romagna/\")\n",
    "run_list = list(set([re.sub(\"historical\", \"rcp85\", \"_\".join(fnm.split(\"_\")[:-1])) for fnm in glob.glob(\"*.nc\")]))\n",
    "\n",
    "for run in run_list:\n",
    "    \n",
    "    if run in [\"pr_EUR-11_MOHC-HadGEM2-ES_rcp85_r1i1p1_ICTP-RegCM4-6_v1_day\"]: continue\n",
    "    if len(glob.glob(\"cordex/\"+run+\"*.nc\")) == 2: continue\n",
    "    \n",
    "    print(run)\n",
    "    fl = glob.glob(re.sub(\"rcp85\", \"*\", run)+\"*.nc\")\n",
    "    \n",
    "    da = xr.open_mfdataset(fl).pr\n",
    "    \n",
    "    if \"rlon\" in da.dims:\n",
    "        x_dim, y_dim = [\"rlon\", \"rlat\"]\n",
    "    elif \"x\" in da.dims:\n",
    "        x_dim, y_dim = [\"x\", \"y\"]\n",
    "    \n",
    "    # get timeseries over Emilia-Romagna region\n",
    "    rm = regionmask.mask_3D_geopandas(sf, da.lon, da.lat).squeeze(drop = True)\n",
    "    ts = da.where(rm).mean([x_dim, y_dim])\n",
    "    ts.to_netcdf(\"cordex/\"+run+\"_ts.nc\")\n",
    "    \n",
    "    # monthly spatial patterns (not sure which months we'll need, so keep all)\n",
    "    sp = da.sel(time = slice(\"1980\", \"2022\")).groupby(\"time.month\").mean()\n",
    "    sp.to_netcdf(\"cordex/\"+run+\"_sp.nc\")"
   ]
  },
  {
   "cell_type": "code",
   "execution_count": null,
   "metadata": {},
   "outputs": [],
   "source": []
  }
 ],
 "metadata": {
  "kernelspec": {
   "display_name": "Python [conda env:wwa]",
   "language": "python",
   "name": "conda-env-wwa-py"
  },
  "language_info": {
   "codemirror_mode": {
    "name": "ipython",
    "version": 3
   },
   "file_extension": ".py",
   "mimetype": "text/x-python",
   "name": "python",
   "nbconvert_exporter": "python",
   "pygments_lexer": "ipython3",
   "version": "3.10.8"
  }
 },
 "nbformat": 4,
 "nbformat_minor": 2
}
