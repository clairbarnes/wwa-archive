{
 "cells": [
  {
   "cell_type": "markdown",
   "id": "d7399b3a-f206-406a-86a3-5aaf38645ca8",
   "metadata": {},
   "source": [
    "# **New Zealand flood study - model analysis**"
   ]
  },
  {
   "cell_type": "code",
   "execution_count": 23,
   "id": "1005957c-bb47-4ad8-bec9-3adfe3e68ae6",
   "metadata": {
    "tags": []
   },
   "outputs": [],
   "source": [
    "source(\"../methods_extRemes.r\")\n",
    "\n",
    "\n",
    "#~~~~~~~~~~~~~~~~~~~~~~~~~~~~~~~~~~~~~~~~~~~~~~~~~~~~~~~~~~~~~~~~~~~~~~~~~~~~~~~~~~~~~~~~~~~~~~~~~~~~~~~~~~~~~~~\n",
    "# generic method to compute bootstrapped confidence intervals\n",
    "boot_ci <- function(mdl, rp, cov1, cov2, ev = NA, nsamp = 10000, lower = F, rel = F) {\n",
    "    \n",
    "    n <- length(mdl$x)\n",
    "    mtype <- strsplit(mdl$type, \"_\")[[1]]\n",
    "            \n",
    "    boot_sample <- rbind.fill(sapply(1:nsamp, function(i) {\n",
    "        \n",
    "        # resample & refit model\n",
    "        boot_df <- mdl$cov.data[sample(1:n,n,replace = T),]\n",
    "        suppressWarnings(boot_fit <- fevd_fixeddisp(mdl$var.name, mdl$cov.name, data = boot_df, method = \"MLE\", solver = solver))\n",
    "        \n",
    "        # compute required quantities for bootstrap (dispersion, PR, delta_I, delta_logI)\n",
    "        pars_now <- sgev_pars(boot_fit, cov1)\n",
    "        pars_then <- sgev_pars(boot_fit, cov2)\n",
    "        disp <- pars_now$scale / pars_now$loc\n",
    "        sigma <- pars_now$scale\n",
    "        trend <- boot_fit$results$par[\"alpha\"]\n",
    "        shape <- boot_fit$results$par[\"shape\"]\n",
    "        \n",
    "        mu0 <- pars_now$loc\n",
    "        mu1 <- pars_then$loc\n",
    "        \n",
    "        if(is.na(ev)) {\n",
    "            rl <- return_level(boot_fit, rp, cov1, lower = lower)\n",
    "            rlhist <- return_level(boot_fit, rp, cov2, lower = lower)\n",
    "        } else {\n",
    "            rl <- ev\n",
    "            rp <- return_period(boot_fit, ev, cov1, lower = lower)\n",
    "            rlhist <- return_level(boot_fit, rp, cov2, lower = lower)\n",
    "        }\n",
    "        \n",
    "        pr <- prob_ratio(boot_fit, rl, cov1, cov2, lower = lower)\n",
    "        dI <- delta_I(boot_fit, rp, cov1, cov2, rel = F, lower = lower)\n",
    "        dI_rel <- delta_I(boot_fit, rp, cov1, cov2, rel = T, lower = lower)\n",
    "        \n",
    "        return(as.data.frame(list(\"mu0\" = mu0, \"mu1\" = mu1, \"disp\" = disp, \"sigma\" = sigma, \"trend\" = trend, \"shape\" = shape, \"rp\" = rp, \"pr\" = pr, \"delta_I\" = dI, \"delta_I_rel\" = dI)))\n",
    "    }, simplify = F))\n",
    "    return(apply(boot_sample, 2, quantile, c(0.025, 0.975)))\n",
    "}"
   ]
  },
  {
   "cell_type": "markdown",
   "id": "c383b2ee-7447-4c35-90f1-ae491e4537be",
   "metadata": {},
   "source": [
    "## **CORDEX**"
   ]
  },
  {
   "cell_type": "code",
   "execution_count": 24,
   "id": "6ee8c8d6-b425-49e1-bf03-2e99d31a19b9",
   "metadata": {},
   "outputs": [],
   "source": [
    "rp <- 10\n",
    "nboot = 10\n",
    "lower = F\n",
    "dI_rel = T\n",
    "solver = \"Nelder-Mead\""
   ]
  },
  {
   "cell_type": "code",
   "execution_count": 30,
   "id": "0aeff9cd-bf20-4860-aa25-0af699af5ba5",
   "metadata": {},
   "outputs": [],
   "source": [
    "cordex_results <- rbind.fill(sapply(list.files(\"ts\", pattern = \"rx2day_AUS-22\"), function(fnm) {\n",
    "    \n",
    "    set.seed(1)\n",
    "    \n",
    "    gmst_fnm <- list.files(\"ts\", pattern = paste0(\"gsat_\",strsplit(fnm, \"_\")[[1]][4]), full.names = T)\n",
    "\n",
    "    df <- read.csv(paste0(\"ts/\", fnm), comment.char = \"#\", header = F, sep = \" \", col.names = c(\"year\", \"rx2day\"))\n",
    "    gmst <- read.csv(gmst_fnm, comment.char = \"#\",  header = F, sep = \" \", col.names = c(\"year\", \"gmst\"))\n",
    "    df <- merge(gmst, df)\n",
    "    row.names(df) <- df$year\n",
    "    \n",
    "    event_gmst <- df[\"2023\", \"gmst\"]\n",
    "    \n",
    "    mdl_eval <- fevd_fixeddisp(\"rx2day\", \"gmst\", df[df$year >= 1979 & df$year <= 2023,], method = \"MLE\", solver = solver)  # obs period only\n",
    "    mdl_attr <- fevd_fixeddisp(\"rx2day\", \"gmst\", df[df$year <= 2023,], method = \"MLE\", solver = solver)                    # up to present day\n",
    "    mdl_proj <- fevd_fixeddisp(\"rx2day\", \"gmst\", df[df$year <= 2050,], method = \"MLE\", solver = solver)                    # up to 2050\n",
    "    \n",
    "    # parameters from evaluation fit: just dispersion (& event value for reference)\n",
    "    eval_pars_now <- sgev_pars(mdl_eval, event_gmst)\n",
    "    eval_disp <- eval_pars_now$scale / eval_pars_now$loc                                # needs bootstrapping\n",
    "    eval_rl <- return_level(mdl_eval, rp, event_gmst, lower = lower)\n",
    "    \n",
    "    # parameters from attribution fit:\n",
    "    attr_rl <- return_level(mdl_attr, rp, event_gmst, lower = lower)\n",
    "    attr_rlhist <- return_level(mdl_attr, rp, event_gmst - 1.2, lower = lower)\n",
    "    attr_rphist <- return_period(mdl_attr, attr_rl, event_gmst - 1.2, lower = lower)\n",
    "    attr_pars_now <- sgev_pars(mdl_attr, event_gmst)\n",
    "    attr_disp <- attr_pars_now$scale / attr_pars_now$loc       \n",
    "    attr_pr <- prob_ratio(mdl_attr, attr_rl, event_gmst, event_gmst - 1.2, lower = lower)\n",
    "    attr_dI <- delta_I(mdl_attr, rp, event_gmst, event_gmst - 1.2, rel = dI_rel, lower = lower)   \n",
    "    attr_trend <- mdl_attr$results$par[\"alpha\"]\n",
    "    \n",
    "    # parameters from future projection:\n",
    "    proj_rl <- return_level(mdl_proj, rp, event_gmst, lower = lower)\n",
    "    proj_rlfut <- return_level(mdl_proj, rp, event_gmst + 0.8, lower = lower)\n",
    "    proj_rpfut <- return_period(mdl_proj, proj_rl, event_gmst + 0.8, lower = lower)\n",
    "    proj_pars_now <- sgev_pars(mdl_proj, event_gmst)\n",
    "    proj_disp <- proj_pars_now$scale / proj_pars_now$loc       \n",
    "    proj_pr <- prob_ratio(mdl_proj, attr_rl, event_gmst, event_gmst + 0.8, lower = lower)                  # should switch cov1 & cov2 to get the right result, but sticking with inversion for consistency for now.\n",
    "    proj_dI <- delta_I(mdl_proj, rp, event_gmst, event_gmst + 0.8, rel = dI_rel, lower = lower)\n",
    "    proj_trend <- mdl_proj$results$par[\"alpha\"]\n",
    "    \n",
    "    # bootstrap (has to be fitted for each model individually to ensure sampling of correct years)...\n",
    "    ci_eval <- boot_ci(mdl_eval, rp = rp, cov1 = event_gmst, cov2 = event_gmst - 1.2, nsamp = nboot, lower = lower, rel = dI_rel)\n",
    "    ci_attr <- boot_ci(mdl_attr, rp = rp, cov1 = event_gmst, cov2 = event_gmst - 1.2, nsamp = nboot, lower = lower, rel = dI_rel)\n",
    "    ci_proj <- boot_ci(mdl_proj, rp = rp, cov1 = event_gmst, cov2 = event_gmst + 0.8, ev = attr_rl, nsamp = nboot, lower = lower, rel = dI_rel)\n",
    "    \n",
    "    # return results (including inversion of the future values)\n",
    "    cbind(model = gsub(\".+AUS-22_\", \"\", gsub(\".dat\", \"\", fnm)),\n",
    "          as.data.frame(list(\"eval_disp\" = eval_disp, \"eval_disp_lower\" = ci_eval[\"2.5%\",\"disp\"], \"eval_disp_upper\" = ci_eval[\"97.5%\",\"disp\"],\n",
    "                             \"eval_shape\" = mdl_eval$results$par[\"shape\"], \"eval_shape_lower\" = ci_eval[\"2.5%\",\"shape\"], \"eval_shape_upper\" = ci_eval[\"97.5%\",\"shape\"],\n",
    "                             \"attr_disp\" = attr_disp, \"attr_disp_lower\" = ci_attr[\"2.5%\",\"disp\"], \"attr_disp_upper\" = ci_attr[\"97.5%\",\"disp\"],\n",
    "                             \"attr_trend\" = attr_trend, \"attr_trend_lower\" = ci_attr[\"2.5%\",\"trend\"], \"attr_trend_upper\" = ci_attr[\"97.5%\",\"trend\"],\n",
    "                             \"attr_value\" = attr_rl, \"attr_logvalue\" = log10(attr_rl), \"attr_rp\" = rp, \"attr_rp_hist\" = attr_rphist, \n",
    "                             \"attr_pr\" = attr_pr, \"attr_pr_lower\" = ci_attr[\"2.5%\",\"pr\"], \"attr_pr_upper\" = ci_attr[\"97.5%\",\"pr\"],\n",
    "                             \"attr_dI\" = attr_dI, \"attr_dI_lower\" = ci_attr[\"2.5%\",\"delta_I\"], \"attr_dI_upper\" = ci_attr[\"97.5%\",\"delta_I\"],\n",
    "                             \"proj_trend\" = proj_trend, \"proj_trend_lower\" = ci_proj[\"2.5%\",\"trend\"], \"proj_trend_upper\" = ci_proj[\"97.5%\",\"trend\"],\n",
    "                             \"proj_pr\" = proj_pr, \"proj_pr_lower\" = ci_proj[\"2.5%\",\"pr\"], \"proj_pr_upper\" = ci_proj[\"97.5%\",\"pr\"],\n",
    "                             \"proj_dI\" = proj_dI, \"proj_dI_lower\" = ci_proj[\"2.5%\",\"delta_I\"], \"proj_dI_upper\" = ci_proj[\"97.5%\",\"delta_I\"],\n",
    "                             \"proj_pr_inv\" = 1/proj_pr, \"proj_pr_lower_inv\" = 1/ci_proj[\"97.5%\",\"pr\"], \"proj_pr_upper_inv\" = 1/ci_proj[\"2.5%\",\"pr\"],\n",
    "                             \"proj_dI_inv\" = -proj_dI, \"proj_dI_lower_inv\" = -ci_proj[\"97.5%\",\"delta_I\"], \"proj_dI_upper_inv\" = -ci_proj[\"2.5%\",\"delta_I\"]\n",
    "                             )))\n",
    "    \n",
    "}, simplify = F))"
   ]
  },
  {
   "cell_type": "code",
   "execution_count": 31,
   "id": "3c845c27-d531-4cca-b473-033832f1d31b",
   "metadata": {},
   "outputs": [],
   "source": [
    "write.csv(cordex_results, \"cordex_eval_results.csv\", row.names = T)"
   ]
  },
  {
   "cell_type": "code",
   "execution_count": null,
   "id": "1b3df04d-a7e7-40bd-864e-4226718708ee",
   "metadata": {},
   "outputs": [],
   "source": []
  }
 ],
 "metadata": {
  "kernelspec": {
   "display_name": "R [conda env:r_env]",
   "language": "R",
   "name": "conda-env-r_env-r"
  },
  "language_info": {
   "codemirror_mode": "r",
   "file_extension": ".r",
   "mimetype": "text/x-r-source",
   "name": "R",
   "pygments_lexer": "r",
   "version": "4.2.2"
  }
 },
 "nbformat": 4,
 "nbformat_minor": 5
}
