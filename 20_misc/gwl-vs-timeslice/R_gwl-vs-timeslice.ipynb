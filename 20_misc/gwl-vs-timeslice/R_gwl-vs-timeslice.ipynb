{
 "cells": [
  {
   "cell_type": "code",
   "execution_count": 101,
   "id": "93ef3c56-7aa7-4435-9278-5b61a11ff590",
   "metadata": {},
   "outputs": [],
   "source": [
    "source(\"../../methods_extRemes.r\")"
   ]
  },
  {
   "cell_type": "markdown",
   "id": "777c9aaf-e346-416e-bc0f-8bedf5e43e77",
   "metadata": {},
   "source": [
    "### **Compare observed GEV fitted to year vs GMST**"
   ]
  },
  {
   "cell_type": "code",
   "execution_count": 2,
   "id": "ee8ccb75-17ef-4a3c-9795-bb9eabefd92d",
   "metadata": {},
   "outputs": [],
   "source": [
    "gmst <- read.fwf(\"../../90_data/gmst.dat\", comment.char = \"#\", widths = c(5,15), col.names = c(\"year\", \"gmst\"))\n",
    "df = read.csv(\"flooding_nigeria/chirps_lake-chad_jjas-mean.dat\", comment.char = \"#\", sep = \" \", col.names = c(\"year\", \"precip\"))\n",
    "df <- merge(gmst, df)"
   ]
  },
  {
   "cell_type": "code",
   "execution_count": 106,
   "id": "7f6b1519-c03d-431e-89ed-583ead51b095",
   "metadata": {},
   "outputs": [],
   "source": [
    "# fit models to observations: attribution by GMST or by time?\n",
    "chirps_gmst <- fnorm_fixeddisp(\"precip\", \"gmst\", df, method = \"MLE\") \n",
    "chirps_time <- fnorm_fixeddisp(\"precip\", \"year\", df, method = \"MLE\")"
   ]
  },
  {
   "cell_type": "code",
   "execution_count": 24,
   "id": "b7aedacb-541e-4cc8-862b-523542a1bbba",
   "metadata": {},
   "outputs": [],
   "source": [
    "# covariance matrices for different models\n",
    "qc_2022 = event_qcov(chirps_gmst, gmst$gmst[gmst$year == 2022])\n",
    "qc_pi = event_qcov(chirps_gmst, gmst$gmst[gmst$year == 2022] - 1.2)\n",
    "qc_1900 = event_qcov(chirps_gmst, gmst$gmst[gmst$year == 1900])"
   ]
  },
  {
   "cell_type": "code",
   "execution_count": 38,
   "id": "ca463c01-8d76-443a-abe3-024e275c8e26",
   "metadata": {},
   "outputs": [
    {
     "data": {
      "text/html": [
       "6.1876662378032"
      ],
      "text/latex": [
       "6.1876662378032"
      ],
      "text/markdown": [
       "6.1876662378032"
      ],
      "text/plain": [
       "[1] 6.187666"
      ]
     },
     "metadata": {},
     "output_type": "display_data"
    }
   ],
   "source": [
    "return_level(chirps_gmst, 20, gmst$gmst[gmst$year == 2022])"
   ]
  },
  {
   "cell_type": "code",
   "execution_count": 53,
   "id": "9c49e5b3-dceb-4dfa-b804-5850dd5a0079",
   "metadata": {},
   "outputs": [
    {
     "data": {
      "text/html": [
       "1362.68089524206"
      ],
      "text/latex": [
       "1362.68089524206"
      ],
      "text/markdown": [
       "1362.68089524206"
      ],
      "text/plain": [
       "[1] 1362.681"
      ]
     },
     "metadata": {},
     "output_type": "display_data"
    }
   ],
   "source": [
    "prob_ratio(chirps_gmst, df[df$year == 2022, \"precip\"], df[df$year == 2022, \"gmst\"], df[df$year == 2022, \"gmst\"] - .92)"
   ]
  },
  {
   "cell_type": "code",
   "execution_count": 60,
   "id": "9b87862b-2838-4ccd-89c8-5e4b5629cdbc",
   "metadata": {},
   "outputs": [
    {
     "data": {
      "text/html": [
       "4.56807563569271"
      ],
      "text/latex": [
       "4.56807563569271"
      ],
      "text/markdown": [
       "4.56807563569271"
      ],
      "text/plain": [
       "[1] 4.568076"
      ]
     },
     "metadata": {},
     "output_type": "display_data"
    }
   ],
   "source": [
    "1/"
   ]
  },
  {
   "cell_type": "code",
   "execution_count": 73,
   "id": "1161f576-a517-4fb8-8148-88820504a463",
   "metadata": {},
   "outputs": [
    {
     "data": {
      "text/html": [
       "12.8226920830289"
      ],
      "text/latex": [
       "12.8226920830289"
      ],
      "text/markdown": [
       "12.8226920830289"
      ],
      "text/plain": [
       "[1] 12.82269"
      ]
     },
     "metadata": {},
     "output_type": "display_data"
    }
   ],
   "source": [
    "value = df[df$year == 2022, \"precip\"]\n",
    "\n",
    "1/(1-pnorm(value, mean = pars$loc, sd = pars$scale))"
   ]
  },
  {
   "cell_type": "code",
   "execution_count": 89,
   "id": "2339aeb5-be66-46f6-98ef-017e45849110",
   "metadata": {},
   "outputs": [
    {
     "data": {
      "text/html": [
       "21.8910560978126"
      ],
      "text/latex": [
       "21.8910560978126"
      ],
      "text/markdown": [
       "21.8910560978126"
      ],
      "text/plain": [
       "[1] 21.89106"
      ]
     },
     "metadata": {},
     "output_type": "display_data"
    }
   ],
   "source": [
    "rp <- return_period(chirps_gmst, df[df$year == 2022, \"precip\"], df[df$year == 2022, \"gmst\"])\n",
    "delta_I(chirps_gmst, rp, df[df$year == 2022, \"gmst\"], df[df$year == 2022, \"gmst\"] - .92, rel = T)"
   ]
  },
  {
   "cell_type": "code",
   "execution_count": 105,
   "id": "55e94878-26bf-4066-8e11-d8e1bff764f6",
   "metadata": {},
   "outputs": [
    {
     "data": {
      "text/html": [
       "<dl>\n",
       "\t<dt>$loc</dt>\n",
       "\t\t<dd>5.29231786117546</dd>\n",
       "\t<dt>$scale</dt>\n",
       "\t\t<dd>0.544333162511953</dd>\n",
       "\t<dt>$shape</dt>\n",
       "\t\t<dd>&lt;NA&gt;</dd>\n",
       "</dl>\n"
      ],
      "text/latex": [
       "\\begin{description}\n",
       "\\item[\\$loc] 5.29231786117546\n",
       "\\item[\\$scale] 0.544333162511953\n",
       "\\item[\\$shape] <NA>\n",
       "\\end{description}\n"
      ],
      "text/markdown": [
       "$loc\n",
       ":   5.29231786117546\n",
       "$scale\n",
       ":   0.544333162511953\n",
       "$shape\n",
       ":   &lt;NA&gt;\n",
       "\n",
       "\n"
      ],
      "text/plain": [
       "$loc\n",
       "[1] 5.292318\n",
       "\n",
       "$scale\n",
       "[1] 0.5443332\n",
       "\n",
       "$shape\n",
       "[1] NA\n"
      ]
     },
     "metadata": {},
     "output_type": "display_data"
    }
   ],
   "source": [
    "sgev_pars(chirps_gmst, covariate = df[df$year == 2022, \"gmst\"])"
   ]
  },
  {
   "cell_type": "code",
   "execution_count": 103,
   "id": "22d94f9c-0910-44cd-82a6-a1cba510bb51",
   "metadata": {},
   "outputs": [
    {
     "data": {
      "text/html": [
       "<dl>\n",
       "\t<dt>$loc</dt>\n",
       "\t\t<dd>5.29231786117546</dd>\n",
       "\t<dt>$scale</dt>\n",
       "\t\t<dd>0.544333162511953</dd>\n",
       "</dl>\n"
      ],
      "text/latex": [
       "\\begin{description}\n",
       "\\item[\\$loc] 5.29231786117546\n",
       "\\item[\\$scale] 0.544333162511953\n",
       "\\end{description}\n"
      ],
      "text/markdown": [
       "$loc\n",
       ":   5.29231786117546\n",
       "$scale\n",
       ":   0.544333162511953\n",
       "\n",
       "\n"
      ],
      "text/plain": [
       "$loc\n",
       "[1] 5.292318\n",
       "\n",
       "$scale\n",
       "[1] 0.5443332\n"
      ]
     },
     "metadata": {},
     "output_type": "display_data"
    }
   ],
   "source": [
    "fd_lss(chirps_gmst, covariate = df[df$year == 2022, \"gmst\"])"
   ]
  },
  {
   "cell_type": "code",
   "execution_count": null,
   "id": "9633fa81-0913-4d62-a5c6-46da3272a178",
   "metadata": {},
   "outputs": [],
   "source": [
    "gpd.read_"
   ]
  }
 ],
 "metadata": {
  "kernelspec": {
   "display_name": "R [conda env:r_env]",
   "language": "R",
   "name": "conda-env-r_env-r"
  },
  "language_info": {
   "codemirror_mode": "r",
   "file_extension": ".r",
   "mimetype": "text/x-r-source",
   "name": "R",
   "pygments_lexer": "r",
   "version": "4.2.2"
  }
 },
 "nbformat": 4,
 "nbformat_minor": 5
}
