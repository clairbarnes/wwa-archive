{
 "cells": [
  {
   "cell_type": "code",
   "execution_count": 1,
   "id": "b0579c8a-1922-4604-9869-d8d6e54e56e0",
   "metadata": {},
   "outputs": [],
   "source": [
    "suppressMessages(library(SPEI))"
   ]
  },
  {
   "cell_type": "code",
   "execution_count": 102,
   "id": "32f5e051-4c75-4c33-9a2f-e7a15ca0d840",
   "metadata": {},
   "outputs": [
    {
     "data": {
      "text/html": [
       "<dl>\n",
       "\t<dt>$mswep</dt>\n",
       "\t\t<dd>NULL</dd>\n",
       "\t<dt>$chirps</dt>\n",
       "\t\t<dd>NULL</dd>\n",
       "</dl>\n"
      ],
      "text/latex": [
       "\\begin{description}\n",
       "\\item[\\$mswep] NULL\n",
       "\\item[\\$chirps] NULL\n",
       "\\end{description}\n"
      ],
      "text/markdown": [
       "$mswep\n",
       ":   NULL\n",
       "$chirps\n",
       ":   NULL\n",
       "\n",
       "\n"
      ],
      "text/plain": [
       "$mswep\n",
       "NULL\n",
       "\n",
       "$chirps\n",
       "NULL\n"
      ]
     },
     "metadata": {},
     "output_type": "display_data"
    }
   ],
   "source": [
    "sapply(c(\"mswep\", \"chirps\"), function(ds) {\n",
    "    df = read.csv(paste0(\"data/\", ds, \"_monthly.csv\"))\n",
    "    df_ts <- ts(df$pr, start = sapply(strsplit(df$time[1], \"-\")[[1]], as.integer)[1:2], frequency = 12)\n",
    "    res_df <- sapply(c(1,3,6), function(nm) {\n",
    "        spi_m <- spi(df_ts, scale = nm, ref.start = c(1990,1), ref.end = c(2020,12))\n",
    "        spi_m$fitted\n",
    "    })\n",
    "    write.csv(setNames(data.frame(df$time, res_df), c(\"time\", \"spi_1\", \"spi_3\", \"spi_6\")), file = paste0(\"data/\",ds,\"_spi-monthly.csv\"), row.names = F)\n",
    "})"
   ]
  },
  {
   "cell_type": "code",
   "execution_count": null,
   "id": "8794dc47-077d-418c-9e28-ca52f971d073",
   "metadata": {},
   "outputs": [],
   "source": []
  }
 ],
 "metadata": {
  "kernelspec": {
   "display_name": "R [conda env:r_env]",
   "language": "R",
   "name": "conda-env-r_env-r"
  },
  "language_info": {
   "codemirror_mode": "r",
   "file_extension": ".r",
   "mimetype": "text/x-r-source",
   "name": "R",
   "pygments_lexer": "r",
   "version": "4.2.2"
  }
 },
 "nbformat": 4,
 "nbformat_minor": 5
}
