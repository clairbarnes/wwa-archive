{
 "cells": [
  {
   "cell_type": "code",
   "execution_count": 36,
   "id": "7384d769-f35d-4a30-a901-bfcc655a2fd0",
   "metadata": {},
   "outputs": [],
   "source": [
    "from PIL import Image\n",
    "import glob\n",
    "import re\n",
    "\n",
    "def make_gif(frame_folder, gif_name = \"new_gif\", frame_dur = 4, nloops = 0):\n",
    "    \n",
    "    gif_name = re.sub(\"\\.gif\", \"\", gif_name)+\".gif\"\n",
    "    img_list = sorted(glob.glob(f\"{frame_folder}/*.png\"))\n",
    "    frames = [Image.open(image) for image in img_list]\n",
    "    frame_one = frames[0]\n",
    "    frame_one.save(gif_name, format=\"GIF\", append_images = frames, save_all = True, duration = len(img_list) * frame_dur, loop=nloops)\n",
    "    "
   ]
  },
  {
   "cell_type": "code",
   "execution_count": 37,
   "id": "fd706542-4641-4ed6-af76-d868ba51124b",
   "metadata": {},
   "outputs": [],
   "source": [
    "make_gif(\"img\", gif_name = \"maxtmax_anom_sm5.gif\", nloops = 3)"
   ]
  },
  {
   "cell_type": "code",
   "execution_count": null,
   "id": "1518e244-8897-4a65-b1cf-7b178a231c7c",
   "metadata": {},
   "outputs": [],
   "source": []
  }
 ],
 "metadata": {
  "kernelspec": {
   "display_name": "Python [conda env:anim]",
   "language": "python",
   "name": "conda-env-anim-py"
  },
  "language_info": {
   "codemirror_mode": {
    "name": "ipython",
    "version": 3
   },
   "file_extension": ".py",
   "mimetype": "text/x-python",
   "name": "python",
   "nbconvert_exporter": "python",
   "pygments_lexer": "ipython3",
   "version": "3.10.4"
  }
 },
 "nbformat": 4,
 "nbformat_minor": 5
}
