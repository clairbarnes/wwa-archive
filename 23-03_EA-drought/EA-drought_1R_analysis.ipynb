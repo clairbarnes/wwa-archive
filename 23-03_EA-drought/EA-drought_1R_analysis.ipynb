{
 "cells": [
  {
   "cell_type": "markdown",
   "id": "9bc4a020-e0a2-461a-b24c-44be4fb863b1",
   "metadata": {},
   "source": [
    "# **East Africa drought study - analysis of model data**\n",
    "\n",
    "_Model fitting is less stable when using lognormal - carry out transformation separately_"
   ]
  },
  {
   "cell_type": "code",
   "execution_count": 89,
   "id": "8ab4bc38-8aff-4553-8139-5abb6d26d6d2",
   "metadata": {},
   "outputs": [],
   "source": [
    "source(\"../wwa_nonstationary_fitting.r\")\n",
    "\n",
    "# list return periods to use in later analysis\n",
    "return_periods <- list(\"mam\" = 10, \"ond\" = 5, \"24\" = 20, \"pet\" = 3, \"spei\" = 10)"
   ]
  },
  {
   "cell_type": "markdown",
   "id": "eaf291c3-e083-41f3-8314-27f527127eb9",
   "metadata": {
    "tags": [],
    "toc-hr-collapsed": true
   },
   "source": [
    "---\n",
    "## **Prep & testing**"
   ]
  },
  {
   "cell_type": "code",
   "execution_count": 12,
   "id": "e9282d96-b3f1-46f8-8dfb-0b531b7c27d0",
   "metadata": {},
   "outputs": [],
   "source": [
    "# load data, fix values for factual & counterfactual climate\n",
    "\n",
    "df <- merge(merge(load_ts(\"ts/EA-drought_gmst-smoothed.dat\", col.names = c(\"year\", \"gmst\")),\n",
    "                  load_ts(\"ts/EA-drought_detrended-nino-ond.dat\", col.names = c(\"year\", \"nino_ond\"))),\n",
    "            load_ts(\"ts/EA-drought_pr-ond_cpc.dat\", c(\"year\", \"pr_ond\")))\n",
    "df[\"log10pr\"] <- log10(df$pr_ond)\n",
    "\n",
    "gmst_2022 <- df[df$year == 2022, \"gmst\"]\n",
    "gmst_cf <- gmst_2022 - 1.2\n",
    "\n",
    "ondnino_2022 <- df[df$year == 2022, \"nino_ond\"]\n",
    "ondnino_cf <- ondnino_2022"
   ]
  },
  {
   "cell_type": "code",
   "execution_count": 11,
   "id": "6218de86-f0b8-45b1-9483-335d7ba69866",
   "metadata": {},
   "outputs": [],
   "source": [
    "# wrapper function to get bootstrapped confidence intervals for spreadsheet\n",
    "bootstrap_obs_results <- function(mdl, cov1, cov2, cov1_cf = NA, cov2_cf = NA, seed = 101, nsamp = 1000, dp = 5, convert_logs = T) {\n",
    "\n",
    "    # create internal function to give required results\n",
    "    get_mdl_values <- function(mdl, ev, cov1, cov2, cov1_cf = NA, cov2_cf = NA) {\n",
    "        \n",
    "        pars <- mdl$par\n",
    "        \n",
    "        rp <- 1/map_to_u(mdl, x = event_value, cov1 = cov1, cov2 = cov2)\n",
    "        rp_cf <- 1/map_to_u(mdl, x = event_value, cov1 = cov1_cf, cov2 = cov2_cf)\n",
    "        rl_cf <- map_from_u(1/rp, mdl, cov1 = cov1_cf, cov2 = cov2_cf)\n",
    "        \n",
    "        # if using log values, convert back to natural units\n",
    "        if(convert_logs) {\n",
    "            if(substr(mdl$varnm,1,5) == \"log10\") {\n",
    "                ev <- 10^ev\n",
    "                rl_cf <- 10^rl_cf\n",
    "            } else if(substr(mdl$varnm,1,3) == \"log\") {\n",
    "                ev <- exp(ev)\n",
    "                rl_cf <- exp(rl_cf)\n",
    "            }\n",
    "        }\n",
    "        c(pars, \n",
    "          \"dispersion\" = unname(pars[\"sigma0\"] / pars[\"mu0\"]),\n",
    "          \"event_magnitude\" = ev,\n",
    "          \"return_period\" = rp,\n",
    "          \"probability_ratio\" = rp_cf/rp,\n",
    "          \"abs_change_in_intensity\" = (ev - rl_cf),\n",
    "          \"rel_change_in_intensity\" = ((ev - rl_cf) / rl_cf) * 100\n",
    "         )   \n",
    "    }\n",
    "    \n",
    "    # get best estimate from the observed data\n",
    "    event_value <- mdl$x[mdl$ev_idx]\n",
    "    mdl_res <- get_mdl_values(mdl, event_value, cov1, cov2, cov1_cf, cov2_cf)\n",
    "    mdl_df <- setNames(data.frame(mdl$x, mdl$cov1, mdl$cov2), c(mdl$varnm, mdl$covnm_1, mdl$covnm_2)) \n",
    "    \n",
    "    # get bootstrap sample\n",
    "    set.seed(seed)    \n",
    "    boot_res <- sapply(1:nsamp, function(i) {\n",
    "        boot_df <- mdl_df[sample(1:nrow(mdl_df), nrow(mdl_df), replace = T),]\n",
    "        boot_mdl <- fit_ns(mdl$dist, mdl$type, boot_df, varnm = mdl$varnm, covnm_1 = mdl$covnm_1, covnm_2 = mdl$covnm_2, lower = mdl$lower)\n",
    "        get_mdl_values(boot_mdl, event_value, cov1, cov2, cov1_cf, cov2_cf)\n",
    "    })\n",
    "    boot_qq <- t(rbind(\"bestimate\" = mdl_res, apply(boot_res, 1, quantile, c(0.025, 0.975), na.rm = T)))\n",
    "    if(!is.na(dp)) boot_qq <- round(boot_qq, dp)\n",
    "    return(boot_qq)\n",
    "}"
   ]
  },
  {
   "cell_type": "markdown",
   "id": "5c815cd2-fd19-4c83-9eca-b7bb4dfa4f07",
   "metadata": {
    "tags": []
   },
   "source": [
    "### **Check results against Climate Explorer**"
   ]
  },
  {
   "cell_type": "code",
   "execution_count": 14,
   "id": "f3826bf4-a6ee-4143-87c3-d817ce8ea64d",
   "metadata": {},
   "outputs": [
    {
     "data": {
      "text/html": [
       "<table class=\"dataframe\">\n",
       "<caption>A matrix: 3 × 10 of type dbl</caption>\n",
       "<thead>\n",
       "\t<tr><th></th><th scope=col>mu0</th><th scope=col>sigma0</th><th scope=col>alpha</th><th scope=col>beta</th><th scope=col>dispersion</th><th scope=col>event_magnitude</th><th scope=col>return_period</th><th scope=col>probability_ratio</th><th scope=col>abs_change_in_intensity</th><th scope=col>rel_change_in_intensity</th></tr>\n",
       "</thead>\n",
       "<tbody>\n",
       "\t<tr><th scope=row>bestimate</th><td>2.11385</td><td>0.19262</td><td> 0.07560</td><td>0</td><td>0.09112</td><td>1.93781</td><td> 9.27783</td><td>0.51682</td><td> 0.08141</td><td> 4.38518</td></tr>\n",
       "\t<tr><th scope=row>2.5%</th><td>1.99395</td><td>0.14105</td><td>-0.16343</td><td>0</td><td>0.06683</td><td>1.93781</td><td> 4.73672</td><td>0.06253</td><td>-0.17479</td><td>-8.27383</td></tr>\n",
       "\t<tr><th scope=row>97.5%</th><td>2.26001</td><td>0.24037</td><td> 0.27828</td><td>0</td><td>0.11084</td><td>1.93781</td><td>36.10110</td><td>4.53706</td><td> 0.30212</td><td>18.47044</td></tr>\n",
       "</tbody>\n",
       "</table>\n"
      ],
      "text/latex": [
       "A matrix: 3 × 10 of type dbl\n",
       "\\begin{tabular}{r|llllllllll}\n",
       "  & mu0 & sigma0 & alpha & beta & dispersion & event\\_magnitude & return\\_period & probability\\_ratio & abs\\_change\\_in\\_intensity & rel\\_change\\_in\\_intensity\\\\\n",
       "\\hline\n",
       "\tbestimate & 2.11385 & 0.19262 &  0.07560 & 0 & 0.09112 & 1.93781 &  9.27783 & 0.51682 &  0.08141 &  4.38518\\\\\n",
       "\t2.5\\% & 1.99395 & 0.14105 & -0.16343 & 0 & 0.06683 & 1.93781 &  4.73672 & 0.06253 & -0.17479 & -8.27383\\\\\n",
       "\t97.5\\% & 2.26001 & 0.24037 &  0.27828 & 0 & 0.11084 & 1.93781 & 36.10110 & 4.53706 &  0.30212 & 18.47044\\\\\n",
       "\\end{tabular}\n"
      ],
      "text/markdown": [
       "\n",
       "A matrix: 3 × 10 of type dbl\n",
       "\n",
       "| <!--/--> | mu0 | sigma0 | alpha | beta | dispersion | event_magnitude | return_period | probability_ratio | abs_change_in_intensity | rel_change_in_intensity |\n",
       "|---|---|---|---|---|---|---|---|---|---|---|\n",
       "| bestimate | 2.11385 | 0.19262 |  0.07560 | 0 | 0.09112 | 1.93781 |  9.27783 | 0.51682 |  0.08141 |  4.38518 |\n",
       "| 2.5% | 1.99395 | 0.14105 | -0.16343 | 0 | 0.06683 | 1.93781 |  4.73672 | 0.06253 | -0.17479 | -8.27383 |\n",
       "| 97.5% | 2.26001 | 0.24037 |  0.27828 | 0 | 0.11084 | 1.93781 | 36.10110 | 4.53706 |  0.30212 | 18.47044 |\n",
       "\n"
      ],
      "text/plain": [
       "          mu0     sigma0  alpha    beta dispersion event_magnitude\n",
       "bestimate 2.11385 0.19262  0.07560 0    0.09112    1.93781        \n",
       "2.5%      1.99395 0.14105 -0.16343 0    0.06683    1.93781        \n",
       "97.5%     2.26001 0.24037  0.27828 0    0.11084    1.93781        \n",
       "          return_period probability_ratio abs_change_in_intensity\n",
       "bestimate  9.27783      0.51682            0.08141               \n",
       "2.5%       4.73672      0.06253           -0.17479               \n",
       "97.5%     36.10110      4.53706            0.30212               \n",
       "          rel_change_in_intensity\n",
       "bestimate  4.38518               \n",
       "2.5%      -8.27383               \n",
       "97.5%     18.47044               "
      ]
     },
     "metadata": {},
     "output_type": "display_data"
    }
   ],
   "source": [
    "# fit test model to log10 precip - should give same results as Climate Explorer\n",
    "t(bootstrap_obs_results(fit_ns(\"norm\", \"fixeddisp\", df, varnm = \"log10pr\", covnm_1 = \"gmst\", lower = T),\n",
    "                        cov1 = gmst_2022, cov2 = ondnino_2022, cov1_cf = gmst_cf, cov2_cf = ondnino_cf, convert_logs = F))"
   ]
  },
  {
   "cell_type": "code",
   "execution_count": 16,
   "id": "a1291903-8c69-4dae-9982-4b9e99502d84",
   "metadata": {},
   "outputs": [
    {
     "data": {
      "text/html": [
       "<table class=\"dataframe\">\n",
       "<caption>A matrix: 3 × 10 of type dbl</caption>\n",
       "<thead>\n",
       "\t<tr><th></th><th scope=col>mu0</th><th scope=col>sigma0</th><th scope=col>alpha</th><th scope=col>beta</th><th scope=col>dispersion</th><th scope=col>event_magnitude</th><th scope=col>return_period</th><th scope=col>probability_ratio</th><th scope=col>abs_change_in_intensity</th><th scope=col>rel_change_in_intensity</th></tr>\n",
       "</thead>\n",
       "<tbody>\n",
       "\t<tr><th scope=row>bestimate</th><td> 4.86742</td><td> 0.44344</td><td> 0.17377</td><td>0</td><td> 0.09110</td><td>86.65762</td><td> 9.27588</td><td> 0.51733</td><td> 1.478818e+01</td><td>  20.57645</td></tr>\n",
       "\t<tr><th scope=row>2.5%</th><td>-0.08582</td><td> 0.32683</td><td>-0.71777</td><td>0</td><td>-3.57976</td><td>86.65762</td><td> 1.12600</td><td> 0.06256</td><td>-6.558737e+14</td><td>-100.00000</td></tr>\n",
       "\t<tr><th scope=row>97.5%</th><td> 5.39266</td><td>12.90566</td><td> 0.77622</td><td>0</td><td> 0.42307</td><td>86.65762</td><td>35.59423</td><td>10.83574</td><td> 4.368283e+01</td><td> 101.66776</td></tr>\n",
       "</tbody>\n",
       "</table>\n"
      ],
      "text/latex": [
       "A matrix: 3 × 10 of type dbl\n",
       "\\begin{tabular}{r|llllllllll}\n",
       "  & mu0 & sigma0 & alpha & beta & dispersion & event\\_magnitude & return\\_period & probability\\_ratio & abs\\_change\\_in\\_intensity & rel\\_change\\_in\\_intensity\\\\\n",
       "\\hline\n",
       "\tbestimate &  4.86742 &  0.44344 &  0.17377 & 0 &  0.09110 & 86.65762 &  9.27588 &  0.51733 &  1.478818e+01 &   20.57645\\\\\n",
       "\t2.5\\% & -0.08582 &  0.32683 & -0.71777 & 0 & -3.57976 & 86.65762 &  1.12600 &  0.06256 & -6.558737e+14 & -100.00000\\\\\n",
       "\t97.5\\% &  5.39266 & 12.90566 &  0.77622 & 0 &  0.42307 & 86.65762 & 35.59423 & 10.83574 &  4.368283e+01 &  101.66776\\\\\n",
       "\\end{tabular}\n"
      ],
      "text/markdown": [
       "\n",
       "A matrix: 3 × 10 of type dbl\n",
       "\n",
       "| <!--/--> | mu0 | sigma0 | alpha | beta | dispersion | event_magnitude | return_period | probability_ratio | abs_change_in_intensity | rel_change_in_intensity |\n",
       "|---|---|---|---|---|---|---|---|---|---|---|\n",
       "| bestimate |  4.86742 |  0.44344 |  0.17377 | 0 |  0.09110 | 86.65762 |  9.27588 |  0.51733 |  1.478818e+01 |   20.57645 |\n",
       "| 2.5% | -0.08582 |  0.32683 | -0.71777 | 0 | -3.57976 | 86.65762 |  1.12600 |  0.06256 | -6.558737e+14 | -100.00000 |\n",
       "| 97.5% |  5.39266 | 12.90566 |  0.77622 | 0 |  0.42307 | 86.65762 | 35.59423 | 10.83574 |  4.368283e+01 |  101.66776 |\n",
       "\n"
      ],
      "text/plain": [
       "          mu0      sigma0   alpha    beta dispersion event_magnitude\n",
       "bestimate  4.86742  0.44344  0.17377 0     0.09110   86.65762       \n",
       "2.5%      -0.08582  0.32683 -0.71777 0    -3.57976   86.65762       \n",
       "97.5%      5.39266 12.90566  0.77622 0     0.42307   86.65762       \n",
       "          return_period probability_ratio abs_change_in_intensity\n",
       "bestimate  9.27588       0.51733           1.478818e+01          \n",
       "2.5%       1.12600       0.06256          -6.558737e+14          \n",
       "97.5%     35.59423      10.83574           4.368283e+01          \n",
       "          rel_change_in_intensity\n",
       "bestimate   20.57645             \n",
       "2.5%      -100.00000             \n",
       "97.5%      101.66776             "
      ]
     },
     "metadata": {},
     "output_type": "display_data"
    }
   ],
   "source": [
    "# test same model using lognormal fit - should give comparable disp/RP/PR\n",
    "t(bootstrap_obs_results(fit_ns(\"lnorm\", \"fixeddisp\", df, varnm = \"pr_ond\", covnm_1 = \"gmst\", lower = T),\n",
    "                        cov1 = gmst_2022, cov2 = ondnino_2022, cov1_cf = gmst_cf, cov2_cf = ondnino_cf, convert_logs = F))\n",
    "\n",
    "# note that although best estimate is same, confidence bounds are much larger when using lognormal - stick with converting first"
   ]
  },
  {
   "cell_type": "markdown",
   "id": "193dc08f-6961-409d-b121-47416586c6ba",
   "metadata": {
    "tags": []
   },
   "source": [
    "### **Instability in lognormal fit**\n",
    "\n",
    "_Some instability in the model fit when using lognormal distribution: prefer to use log_pr & convert_"
   ]
  },
  {
   "cell_type": "code",
   "execution_count": 20,
   "id": "26d2ec36-ae88-4bf2-ac78-4e2fbed8e36b",
   "metadata": {
    "tags": []
   },
   "outputs": [
    {
     "data": {
      "text/html": [
       "<table class=\"dataframe\">\n",
       "<caption>A matrix: 3 × 10 of type dbl</caption>\n",
       "<thead>\n",
       "\t<tr><th></th><th scope=col>mu0</th><th scope=col>sigma0</th><th scope=col>alpha</th><th scope=col>beta</th><th scope=col>dispersion</th><th scope=col>event_magnitude</th><th scope=col>return_period</th><th scope=col>probability_ratio</th><th scope=col>abs_change_in_intensity</th><th scope=col>rel_change_in_intensity</th></tr>\n",
       "</thead>\n",
       "<tbody>\n",
       "\t<tr><th scope=row>bestimate</th><td> 9.88844</td><td>  2.99970</td><td>  -7.62436</td><td>-1.07495</td><td>      0.30335</td><td>86.65762</td><td> 3.33942</td><td> 21.43685</td><td>-77197.37229</td><td> -99.88787</td></tr>\n",
       "\t<tr><th scope=row>2.5%</th><td>-3.63148</td><td>  0.30487</td><td>-130.07037</td><td>-3.95057</td><td>    -47.43308</td><td>86.65762</td><td> 1.04071</td><td>  0.07097</td><td>        -Inf</td><td>-100.00000</td></tr>\n",
       "\t<tr><th scope=row>97.5%</th><td>40.49918</td><td>186.27992</td><td>  14.03244</td><td> 2.50192</td><td>2143852.11204</td><td>86.65762</td><td>25.59655</td><td>125.08699</td><td>    60.91809</td><td> 287.09005</td></tr>\n",
       "</tbody>\n",
       "</table>\n"
      ],
      "text/latex": [
       "A matrix: 3 × 10 of type dbl\n",
       "\\begin{tabular}{r|llllllllll}\n",
       "  & mu0 & sigma0 & alpha & beta & dispersion & event\\_magnitude & return\\_period & probability\\_ratio & abs\\_change\\_in\\_intensity & rel\\_change\\_in\\_intensity\\\\\n",
       "\\hline\n",
       "\tbestimate &  9.88844 &   2.99970 &   -7.62436 & -1.07495 &       0.30335 & 86.65762 &  3.33942 &  21.43685 & -77197.37229 &  -99.88787\\\\\n",
       "\t2.5\\% & -3.63148 &   0.30487 & -130.07037 & -3.95057 &     -47.43308 & 86.65762 &  1.04071 &   0.07097 &         -Inf & -100.00000\\\\\n",
       "\t97.5\\% & 40.49918 & 186.27992 &   14.03244 &  2.50192 & 2143852.11204 & 86.65762 & 25.59655 & 125.08699 &     60.91809 &  287.09005\\\\\n",
       "\\end{tabular}\n"
      ],
      "text/markdown": [
       "\n",
       "A matrix: 3 × 10 of type dbl\n",
       "\n",
       "| <!--/--> | mu0 | sigma0 | alpha | beta | dispersion | event_magnitude | return_period | probability_ratio | abs_change_in_intensity | rel_change_in_intensity |\n",
       "|---|---|---|---|---|---|---|---|---|---|---|\n",
       "| bestimate |  9.88844 |   2.99970 |   -7.62436 | -1.07495 |       0.30335 | 86.65762 |  3.33942 |  21.43685 | -77197.37229 |  -99.88787 |\n",
       "| 2.5% | -3.63148 |   0.30487 | -130.07037 | -3.95057 |     -47.43308 | 86.65762 |  1.04071 |   0.07097 |         -Inf | -100.00000 |\n",
       "| 97.5% | 40.49918 | 186.27992 |   14.03244 |  2.50192 | 2143852.11204 | 86.65762 | 25.59655 | 125.08699 |     60.91809 |  287.09005 |\n",
       "\n"
      ],
      "text/plain": [
       "          mu0      sigma0    alpha      beta     dispersion    event_magnitude\n",
       "bestimate  9.88844   2.99970   -7.62436 -1.07495       0.30335 86.65762       \n",
       "2.5%      -3.63148   0.30487 -130.07037 -3.95057     -47.43308 86.65762       \n",
       "97.5%     40.49918 186.27992   14.03244  2.50192 2143852.11204 86.65762       \n",
       "          return_period probability_ratio abs_change_in_intensity\n",
       "bestimate  3.33942       21.43685         -77197.37229           \n",
       "2.5%       1.04071        0.07097                 -Inf           \n",
       "97.5%     25.59655      125.08699             60.91809           \n",
       "          rel_change_in_intensity\n",
       "bestimate  -99.88787             \n",
       "2.5%      -100.00000             \n",
       "97.5%      287.09005             "
      ]
     },
     "metadata": {},
     "output_type": "display_data"
    }
   ],
   "source": [
    "t(bootstrap_obs_results(fit_ns(\"lnorm\", \"fixeddisp\", df, varnm = \"pr_ond\", covnm_1 = \"gmst\", covnm_2 = \"nino_ond\", lower = T),\n",
    "                  cov1 = gmst_2022, cov2 = ondnino_2022, cov1_cf = gmst_cf, cov2_cf = ondnino_cf, convert_logs = T))"
   ]
  },
  {
   "cell_type": "code",
   "execution_count": 21,
   "id": "1345518e-ed98-4950-b06a-50102f8f5ee7",
   "metadata": {
    "tags": []
   },
   "outputs": [
    {
     "data": {
      "text/html": [
       "<table class=\"dataframe\">\n",
       "<caption>A matrix: 3 × 10 of type dbl</caption>\n",
       "<thead>\n",
       "\t<tr><th></th><th scope=col>mu0</th><th scope=col>sigma0</th><th scope=col>alpha</th><th scope=col>beta</th><th scope=col>dispersion</th><th scope=col>event_magnitude</th><th scope=col>return_period</th><th scope=col>probability_ratio</th><th scope=col>abs_change_in_intensity</th><th scope=col>rel_change_in_intensity</th></tr>\n",
       "</thead>\n",
       "<tbody>\n",
       "\t<tr><th scope=row>bestimate</th><td>2.07564</td><td>0.16555</td><td> 0.13376</td><td>0.09616</td><td>0.07976</td><td>86.65762</td><td> 7.34744</td><td>0.31706</td><td> 24.48485</td><td> 39.38196</td></tr>\n",
       "\t<tr><th scope=row>2.5%</th><td>1.95537</td><td>0.12456</td><td>-0.07179</td><td>0.03212</td><td>0.05896</td><td>86.65762</td><td> 3.69350</td><td>0.06070</td><td>-17.14967</td><td>-16.52068</td></tr>\n",
       "\t<tr><th scope=row>97.5%</th><td>2.19727</td><td>0.19112</td><td> 0.31910</td><td>0.15141</td><td>0.09302</td><td>86.65762</td><td>30.53724</td><td>2.08818</td><td> 47.52997</td><td>121.47803</td></tr>\n",
       "</tbody>\n",
       "</table>\n"
      ],
      "text/latex": [
       "A matrix: 3 × 10 of type dbl\n",
       "\\begin{tabular}{r|llllllllll}\n",
       "  & mu0 & sigma0 & alpha & beta & dispersion & event\\_magnitude & return\\_period & probability\\_ratio & abs\\_change\\_in\\_intensity & rel\\_change\\_in\\_intensity\\\\\n",
       "\\hline\n",
       "\tbestimate & 2.07564 & 0.16555 &  0.13376 & 0.09616 & 0.07976 & 86.65762 &  7.34744 & 0.31706 &  24.48485 &  39.38196\\\\\n",
       "\t2.5\\% & 1.95537 & 0.12456 & -0.07179 & 0.03212 & 0.05896 & 86.65762 &  3.69350 & 0.06070 & -17.14967 & -16.52068\\\\\n",
       "\t97.5\\% & 2.19727 & 0.19112 &  0.31910 & 0.15141 & 0.09302 & 86.65762 & 30.53724 & 2.08818 &  47.52997 & 121.47803\\\\\n",
       "\\end{tabular}\n"
      ],
      "text/markdown": [
       "\n",
       "A matrix: 3 × 10 of type dbl\n",
       "\n",
       "| <!--/--> | mu0 | sigma0 | alpha | beta | dispersion | event_magnitude | return_period | probability_ratio | abs_change_in_intensity | rel_change_in_intensity |\n",
       "|---|---|---|---|---|---|---|---|---|---|---|\n",
       "| bestimate | 2.07564 | 0.16555 |  0.13376 | 0.09616 | 0.07976 | 86.65762 |  7.34744 | 0.31706 |  24.48485 |  39.38196 |\n",
       "| 2.5% | 1.95537 | 0.12456 | -0.07179 | 0.03212 | 0.05896 | 86.65762 |  3.69350 | 0.06070 | -17.14967 | -16.52068 |\n",
       "| 97.5% | 2.19727 | 0.19112 |  0.31910 | 0.15141 | 0.09302 | 86.65762 | 30.53724 | 2.08818 |  47.52997 | 121.47803 |\n",
       "\n"
      ],
      "text/plain": [
       "          mu0     sigma0  alpha    beta    dispersion event_magnitude\n",
       "bestimate 2.07564 0.16555  0.13376 0.09616 0.07976    86.65762       \n",
       "2.5%      1.95537 0.12456 -0.07179 0.03212 0.05896    86.65762       \n",
       "97.5%     2.19727 0.19112  0.31910 0.15141 0.09302    86.65762       \n",
       "          return_period probability_ratio abs_change_in_intensity\n",
       "bestimate  7.34744      0.31706            24.48485              \n",
       "2.5%       3.69350      0.06070           -17.14967              \n",
       "97.5%     30.53724      2.08818            47.52997              \n",
       "          rel_change_in_intensity\n",
       "bestimate  39.38196              \n",
       "2.5%      -16.52068              \n",
       "97.5%     121.47803              "
      ]
     },
     "metadata": {},
     "output_type": "display_data"
    }
   ],
   "source": [
    "# pr_ond ~ gmst + nino_ond\n",
    "t(bootstrap_obs_results(fit_ns(\"norm\", \"fixeddisp\", df, varnm = \"log10pr\", covnm_1 = \"gmst\", covnm_2 = \"nino_ond\", lower = T),\n",
    "                  cov1 = gmst_2022, cov2 = ondnino_2022, cov1_cf = gmst_cf, cov2_cf = ondnino_cf, convert_logs = T))"
   ]
  },
  {
   "cell_type": "code",
   "execution_count": 22,
   "id": "d0761576-78f8-4fe8-99dc-5828726d2053",
   "metadata": {},
   "outputs": [
    {
     "data": {
      "text/html": [
       "<table class=\"dataframe\">\n",
       "<caption>A matrix: 3 × 10 of type dbl</caption>\n",
       "<thead>\n",
       "\t<tr><th></th><th scope=col>mu0</th><th scope=col>sigma0</th><th scope=col>alpha</th><th scope=col>beta</th><th scope=col>dispersion</th><th scope=col>event_magnitude</th><th scope=col>return_period</th><th scope=col>probability_ratio</th><th scope=col>abs_change_in_intensity</th><th scope=col>rel_change_in_intensity</th></tr>\n",
       "</thead>\n",
       "<tbody>\n",
       "\t<tr><th scope=row>bestimate</th><td>4.77930</td><td>0.38120</td><td> 0.30801</td><td>0.22141</td><td>0.07976</td><td>86.65762</td><td> 7.34664</td><td>0.31706</td><td> 24.48606</td><td> 39.38468</td></tr>\n",
       "\t<tr><th scope=row>2.5%</th><td>4.50242</td><td>0.28682</td><td>-0.16530</td><td>0.07394</td><td>0.05896</td><td>86.65762</td><td> 3.69350</td><td>0.06070</td><td>-17.15214</td><td>-16.52267</td></tr>\n",
       "\t<tr><th scope=row>97.5%</th><td>5.05941</td><td>0.44009</td><td> 0.73476</td><td>0.34858</td><td>0.09303</td><td>86.65762</td><td>30.53684</td><td>2.08874</td><td> 47.52957</td><td>121.47580</td></tr>\n",
       "</tbody>\n",
       "</table>\n"
      ],
      "text/latex": [
       "A matrix: 3 × 10 of type dbl\n",
       "\\begin{tabular}{r|llllllllll}\n",
       "  & mu0 & sigma0 & alpha & beta & dispersion & event\\_magnitude & return\\_period & probability\\_ratio & abs\\_change\\_in\\_intensity & rel\\_change\\_in\\_intensity\\\\\n",
       "\\hline\n",
       "\tbestimate & 4.77930 & 0.38120 &  0.30801 & 0.22141 & 0.07976 & 86.65762 &  7.34664 & 0.31706 &  24.48606 &  39.38468\\\\\n",
       "\t2.5\\% & 4.50242 & 0.28682 & -0.16530 & 0.07394 & 0.05896 & 86.65762 &  3.69350 & 0.06070 & -17.15214 & -16.52267\\\\\n",
       "\t97.5\\% & 5.05941 & 0.44009 &  0.73476 & 0.34858 & 0.09303 & 86.65762 & 30.53684 & 2.08874 &  47.52957 & 121.47580\\\\\n",
       "\\end{tabular}\n"
      ],
      "text/markdown": [
       "\n",
       "A matrix: 3 × 10 of type dbl\n",
       "\n",
       "| <!--/--> | mu0 | sigma0 | alpha | beta | dispersion | event_magnitude | return_period | probability_ratio | abs_change_in_intensity | rel_change_in_intensity |\n",
       "|---|---|---|---|---|---|---|---|---|---|---|\n",
       "| bestimate | 4.77930 | 0.38120 |  0.30801 | 0.22141 | 0.07976 | 86.65762 |  7.34664 | 0.31706 |  24.48606 |  39.38468 |\n",
       "| 2.5% | 4.50242 | 0.28682 | -0.16530 | 0.07394 | 0.05896 | 86.65762 |  3.69350 | 0.06070 | -17.15214 | -16.52267 |\n",
       "| 97.5% | 5.05941 | 0.44009 |  0.73476 | 0.34858 | 0.09303 | 86.65762 | 30.53684 | 2.08874 |  47.52957 | 121.47580 |\n",
       "\n"
      ],
      "text/plain": [
       "          mu0     sigma0  alpha    beta    dispersion event_magnitude\n",
       "bestimate 4.77930 0.38120  0.30801 0.22141 0.07976    86.65762       \n",
       "2.5%      4.50242 0.28682 -0.16530 0.07394 0.05896    86.65762       \n",
       "97.5%     5.05941 0.44009  0.73476 0.34858 0.09303    86.65762       \n",
       "          return_period probability_ratio abs_change_in_intensity\n",
       "bestimate  7.34664      0.31706            24.48606              \n",
       "2.5%       3.69350      0.06070           -17.15214              \n",
       "97.5%     30.53684      2.08874            47.52957              \n",
       "          rel_change_in_intensity\n",
       "bestimate  39.38468              \n",
       "2.5%      -16.52267              \n",
       "97.5%     121.47580              "
      ]
     },
     "metadata": {},
     "output_type": "display_data"
    }
   ],
   "source": [
    "# confirm: if we use natural log, we get almost same fitted parameters as using lognormal, but without the model instability\n",
    "df[\"lognpr\"] <- log(df$pr_ond)\n",
    "t(bootstrap_obs_results(fit_ns(\"norm\", \"fixeddisp\", df, varnm = \"lognpr\", covnm_1 = \"gmst\", covnm_2 = \"nino_ond\", lower = T),\n",
    "                  cov1 = gmst_2022, cov2 = ondnino_2022, cov1_cf = gmst_cf, cov2_cf = ondnino_cf, convert_logs = T))"
   ]
  },
  {
   "cell_type": "markdown",
   "id": "880d38ea-5559-42e1-88fd-f203f73bba4c",
   "metadata": {
    "tags": []
   },
   "source": [
    "---\n",
    "## **Observations**"
   ]
  },
  {
   "cell_type": "code",
   "execution_count": 2,
   "id": "24835eca-e03a-42bb-bc20-fec8a0db8047",
   "metadata": {},
   "outputs": [],
   "source": [
    "source(\"../wwa_nonstationary_fitting.r\")\n",
    "\n",
    "# load covariate data\n",
    "df <- merge(load_ts(\"ts/EA-drought_gmst-smoothed.dat\", col.names = c(\"year\", \"gmst\")),\n",
    "            load_ts(\"ts/EA-drought_detrended-nino-ond.dat\", col.names = c(\"year\", \"nino_ond\")))\n",
    "\n",
    "# fix covariate values\n",
    "gmst_2022 <- df[df$year == 2022, \"gmst\"]\n",
    "gmst_cf <- gmst_2022 - 1.2\n",
    "\n",
    "ondnino_2022 <- ondnino_cf <- df[df$year == 2022, \"nino_ond\"]"
   ]
  },
  {
   "cell_type": "markdown",
   "id": "49a68faa-7c47-4880-bb81-a47fd721329e",
   "metadata": {
    "tags": [],
    "toc-hr-collapsed": true
   },
   "source": [
    "### **Results for spreadsheet**"
   ]
  },
  {
   "cell_type": "code",
   "execution_count": 3,
   "id": "00b0942c-f36f-4fd9-b81a-7041961b9d7c",
   "metadata": {},
   "outputs": [],
   "source": [
    "# wrapper function to get bootstrapped confidence intervals for spreadsheet\n",
    "bootstrap_obs_results <- function(mdl, cov1, cov1_cf, cov2 = NA, cov2_cf = NA, seed = 101, nsamp = 1000, dp = 5, convert_logs = T, spreadsheet_format = T) {\n",
    "\n",
    "    # create internal function to give required results\n",
    "    get_mdl_values <- function(mdl, ev, cov1, cov2, cov1_cf = NA, cov2_cf = NA) {\n",
    "        \n",
    "        pars <- mdl$par\n",
    "        \n",
    "        rp <- 1/map_to_u(mdl, x = event_value, cov1 = cov1, cov2 = cov2)\n",
    "        rp_cf <- 1/map_to_u(mdl, x = event_value, cov1 = cov1_cf, cov2 = cov2_cf)\n",
    "        rl_cf <- map_from_u(1/rp, mdl, cov1 = cov1_cf, cov2 = cov2_cf)\n",
    "        \n",
    "        # if using log values, convert back to natural units\n",
    "        if(convert_logs) {\n",
    "            if(substr(mdl$varnm,1,5) == \"log10\") {\n",
    "                ev <- 10^ev\n",
    "                rl_cf <- 10^rl_cf\n",
    "            } else if(substr(mdl$varnm,1,3) == \"log\") {\n",
    "                ev <- exp(ev)\n",
    "                rl_cf <- exp(rl_cf)\n",
    "            }\n",
    "        }\n",
    "        c(pars, \n",
    "          \"dispersion\" = unname(pars[\"sigma0\"] / pars[\"mu0\"]),\n",
    "          \"variance\" = unname(pars[\"sigma0\"]),\n",
    "          \"event_magnitude\" = ev,\n",
    "          \"return_period\" = rp,\n",
    "          \"probability_ratio\" = rp_cf/rp,\n",
    "          \"abs_change_in_intensity\" = (ev - rl_cf),\n",
    "          \"rel_change_in_intensity\" = ((ev - rl_cf) / rl_cf) * 100\n",
    "         )   \n",
    "    }\n",
    "    \n",
    "    # get best estimate from the observed data\n",
    "    event_value <- mdl$x[mdl$ev_idx]\n",
    "    mdl_res <- get_mdl_values(mdl, event_value, cov1, cov2, cov1_cf, cov2_cf)\n",
    "    mdl_df <- setNames(data.frame(mdl$x, mdl$cov1, mdl$cov2), c(mdl$varnm, mdl$covnm_1, mdl$covnm_2)) \n",
    "    \n",
    "    # get bootstrap sample\n",
    "    set.seed(seed)    \n",
    "    boot_res <- sapply(1:nsamp, function(i) {\n",
    "        boot_df <- mdl_df[sample(1:nrow(mdl_df), nrow(mdl_df), replace = T),]\n",
    "        boot_mdl <- fit_ns(mdl$dist, mdl$type, boot_df, varnm = mdl$varnm, covnm_1 = mdl$covnm_1, covnm_2 = mdl$covnm_2, lower = mdl$lower)\n",
    "        get_mdl_values(boot_mdl, event_value, cov1, cov2, cov1_cf, cov2_cf)\n",
    "    })\n",
    "    boot_qq <- t(rbind(\"bestimate\" = mdl_res, apply(boot_res, 1, quantile, c(0.025, 0.975), na.rm = T)))\n",
    "    if(!is.na(dp)) boot_qq <- round(boot_qq, dp)\n",
    "    \n",
    "    if(spreadsheet_format) {\n",
    "        return(c(setNames(boot_qq[\"dispersion\",], c(\"disp_est\", \"disp_lower\", \"disp_upper\")),\n",
    "                 setNames(boot_qq[\"variance\",], c(\"sigma_est\", \"sigma_lower\", \"sigma_upper\")),\n",
    "                 \"event_magnitude\" = boot_qq[\"event_magnitude\", \"bestimate\"],\n",
    "                 setNames(boot_qq[\"return_period\",], c(\"rp_est\", \"rp_lower\", \"rp_upper\")),\n",
    "                 setNames(boot_qq[\"probability_ratio\",], c(\"pr_est\", \"pr_lower\", \"pr_upper\")),\n",
    "                 setNames(boot_qq[\"rel_change_in_intensity\",], c(\"rel_DI_est\", \"rel_DI_lower\", \"rel_DI_upper\")),\n",
    "                 setNames(boot_qq[\"abs_change_in_intensity\",], c(\"abs_DI_est\", \"abs_DI_lower\", \"abs_DI_upper\"))))\n",
    "    } else {\n",
    "        return(boot_qq)\n",
    "    }\n",
    "}"
   ]
  },
  {
   "cell_type": "markdown",
   "id": "b6552a5d-de23-45fa-acb6-e02f655ce78e",
   "metadata": {},
   "source": [
    "#### **Precipitation indices**"
   ]
  },
  {
   "cell_type": "code",
   "execution_count": 4,
   "id": "54e8a97d-722a-45e0-9135-91e910a63634",
   "metadata": {},
   "outputs": [],
   "source": [
    "invisible(sapply(c(\"mam\", \"ond\", \"24\"), function(seas) {\n",
    "    \n",
    "    if(seas == \"ond\") { covnm_2 = \"nino_ond\" } else { covnm_2 = NA }      # OND needs second covariate\n",
    "    \n",
    "    # loop over all available models, get results for each\n",
    "    res <- do.call(\"rbind\", sapply(c(\"cpc\", \"chirps05+centrends01\"), function(dsnm) {\n",
    "        \n",
    "        fnm <- paste0(\"ts/EA-drought_pr-\", seas,\"_\",dsnm,\".dat\")\n",
    "        \n",
    "        pr_df <- merge(df, load_ts(paste0(\"ts/EA-drought_pr-\", seas,\"_\",dsnm,\".dat\"), col.names = c(\"year\", \"pr\")))\n",
    "        pr_df[\"log10_pr\"] <- log10(pr_df$pr)\n",
    "                \n",
    "        bootstrap_obs_results(fit_ns(\"norm\", \"fixeddisp\", pr_df, varnm = \"log10_pr\", covnm_1 = \"gmst\", covnm_2 = covnm_2, lower = T), nsamp = 1000,\n",
    "                              cov1 = gmst_2022, cov1_cf = gmst_cf, cov2 = ondnino_2022, cov2_cf = ondnino_cf, convert_logs = T)\n",
    "    }, simplify = F))\n",
    "    write.csv(res, paste0(\"res/EA-drought_pr-\", seas, \"_obs_fitted.csv\"))\n",
    "}))"
   ]
  },
  {
   "cell_type": "code",
   "execution_count": 5,
   "id": "7b5cb2bd-ac33-4f79-b6bb-c9fc0d4adba4",
   "metadata": {},
   "outputs": [],
   "source": [
    "pr_ond_res_gmstonly <- do.call(\"rbind\", sapply(c(\"cpc\", \"chirps05+centrends01\"), function(dsnm) {\n",
    "    \n",
    "    pr_df <- merge(df, load_ts(paste0(\"ts/EA-drought_pr-ond_\",dsnm,\".dat\"), col.names = c(\"year\", \"pr\")))\n",
    "    pr_df[\"log10_pr\"] <- log10(pr_df$pr)\n",
    "    \n",
    "    bootstrap_obs_results(fit_ns(\"norm\", \"fixeddisp\", pr_df, varnm = \"log10_pr\", covnm_1 = \"gmst\", lower = T), nsamp = 1000,\n",
    "                  cov1 = gmst_2022, cov1_cf = gmst_cf, cov2 = ondnino_2022, cov2_cf = ondnino_cf, convert_logs = T)\n",
    "}, simplify = F))\n",
    "write.csv(pr_ond_res_gmstonly, \"res/EA-drought_pr-ond_obs_fitted-gmst-only.csv\")"
   ]
  },
  {
   "cell_type": "markdown",
   "id": "6ad2eb16-5000-40e0-9e7c-f888eb8bf139",
   "metadata": {},
   "source": [
    "#### **PET & SPEI**"
   ]
  },
  {
   "cell_type": "code",
   "execution_count": 6,
   "id": "c7355bd7-0c0f-4099-9001-67c1d93b4e8d",
   "metadata": {},
   "outputs": [],
   "source": [
    "invisible(sapply(c(\"pet\", \"spei\"), function(varnm) {\n",
    "    \n",
    "    lower <- list(\"pet\" = F, \"spei\" = T)[[varnm]]                # consider lower or upper tail, depending on variable\n",
    "    \n",
    "    # loop over all available models, get results for each\n",
    "    res <- do.call(\"rbind\", sapply(c(\"cpc\"), function(dsnm) {\n",
    "        \n",
    "        pr_df <- merge(df, load_ts(paste0(\"ts/EA-drought_\",varnm,\"-24_\",dsnm,\".dat\"), col.names = c(\"year\", varnm)))\n",
    "        \n",
    "        bootstrap_obs_results(fit_ns(\"norm\", \"shift\", pr_df, varnm = varnm, covnm_1 = \"gmst\", lower = lower), nsamp = 1000,\n",
    "                              cov1 = gmst_2022, cov1_cf = gmst_cf)\n",
    "    }, simplify = F))\n",
    "    write.csv(res, paste0(\"res/EA-drought_\",varnm,\"-24_obs_fitted.csv\"))\n",
    "}))"
   ]
  },
  {
   "cell_type": "markdown",
   "id": "746e29c6-488e-449c-895c-e684fc6532b7",
   "metadata": {
    "toc-hr-collapsed": true
   },
   "source": [
    "### **Plots of trend & return level**"
   ]
  },
  {
   "cell_type": "code",
   "execution_count": 7,
   "id": "b0651c7c-f96a-4f53-bf36-0e56411bf428",
   "metadata": {},
   "outputs": [],
   "source": [
    "source(\"../wwa_nonstationary_fitting.r\")\n",
    "\n",
    "# load covariate data\n",
    "df <- merge(read.csv(\"ts/EA-drought_gmst-smoothed.dat\", comment.char = \"#\", sep = \" \", header = F, col.names = c(\"year\", \"gmst\")),\n",
    "            read.csv(\"ts/EA-drought_detrended-nino-ond.dat\", comment.char = \"#\", sep = \" \", header = F, col.names = c(\"year\", \"nino_ond\")))\n",
    "\n",
    "# fix covariate values\n",
    "gmst_2022 <- df[df$year == 2022, \"gmst\"]\n",
    "gmst_cf <- gmst_2022 - 1.2\n",
    "\n",
    "ondnino_2022 <- ondnino_cf <- df[df$year == 2022, \"nino_ond\"]"
   ]
  },
  {
   "cell_type": "markdown",
   "id": "1ad0cf3f-4e74-4567-a300-69d278790a66",
   "metadata": {},
   "source": [
    "#### **pr_ond ~ gmst + nino_ond**"
   ]
  },
  {
   "cell_type": "code",
   "execution_count": 8,
   "id": "9a1b65a7-c550-47e5-a622-d1a523b479ac",
   "metadata": {},
   "outputs": [
    {
     "data": {
      "text/html": [
       "<style>\n",
       ".dl-inline {width: auto; margin:0; padding: 0}\n",
       ".dl-inline>dt, .dl-inline>dd {float: none; width: auto; display: inline-block}\n",
       ".dl-inline>dt::after {content: \":\\0020\"; padding-right: .5ex}\n",
       ".dl-inline>dt:not(:first-of-type) {padding-left: .5ex}\n",
       "</style><dl class=dl-inline><dt>cpc.png</dt><dd>2</dd><dt>chirps05+centrends01.png</dt><dd>2</dd></dl>\n"
      ],
      "text/latex": [
       "\\begin{description*}\n",
       "\\item[cpc.png] 2\n",
       "\\item[chirps05+centrends01.png] 2\n",
       "\\end{description*}\n"
      ],
      "text/markdown": [
       "cpc.png\n",
       ":   2chirps05+centrends01.png\n",
       ":   2\n",
       "\n"
      ],
      "text/plain": [
       "                 cpc.png chirps05+centrends01.png \n",
       "                       2                        2 "
      ]
     },
     "metadata": {},
     "output_type": "display_data"
    }
   ],
   "source": [
    "varnm = \"pr-ond\"\n",
    "sapply(c(\"cpc\", \"chirps05+centrends01\"), function(ds_nm) {\n",
    "        \n",
    "    pr_df <- merge(df, load_ts(paste0(\"ts/EA-drought_\",varnm,\"_\",ds_nm,\".dat\"), col.names = c(\"year\", \"pr\")))\n",
    "    pr_df[\"log10_pr\"] <- log10(pr_df$pr)\n",
    "    \n",
    "    mdl <- fit_ns(\"norm\", \"fixeddisp\", pr_df, varnm = \"log10_pr\", covnm_1 = \"gmst\", covnm_2 = \"nino_ond\", lower = T)\n",
    "\n",
    "    png(paste0(\"fig/rlplot_\",varnm,\"_\",ds_nm,\".png\"), width = 480*1.2, height = 480); {\n",
    "        par(mar = c(3.5,3.5,1,3.5), cex = 1.4)\n",
    "        plot_returnperiods(mdl, cov1 = gmst_2022, cov1_cf = gmst_cf, cov2 = ondnino_2022, cov2_cf = ondnino_cf, ylab = \"log10 precip\")\n",
    "        \n",
    "        yticks <- c(50,seq(100,700,100))\n",
    "        axis(4, at = log10(yticks), labels = yticks)\n",
    "        mtext(\"Precip (mm)\", side = 4, line = 2.5, cex = par(\"cex\"))\n",
    "    }; dev.off()\n",
    "    \n",
    "    png(paste0(\"fig/gmsttrend_\",varnm,\"_\",ds_nm,\".png\"), width = 480*1.2, height = 480); {\n",
    "        par(mar = c(3.5,3.5,1,3.5), cex = 1.4)\n",
    "        plot_gmsttrend(mdl, cov1 = gmst_2022, cov1_cf = gmst_cf, cov2 = ondnino_2022, ylab = \"log10 precip\", ylim = c(1.6,2.8))\n",
    "\n",
    "        yticks <- c(50,seq(100,700,100))\n",
    "        axis(4, at = log10(yticks), labels = yticks)\n",
    "        mtext(\"Precip (mm)\", side = 4, line = 2.5, cex = par(\"cex\"))\n",
    "    }; dev.off()\n",
    "})"
   ]
  },
  {
   "cell_type": "code",
   "execution_count": 9,
   "id": "a1c01291-9f83-4ffc-8c04-a5fd28207547",
   "metadata": {},
   "outputs": [
    {
     "data": {
      "text/html": [
       "<style>\n",
       ".dl-inline {width: auto; margin:0; padding: 0}\n",
       ".dl-inline>dt, .dl-inline>dd {float: none; width: auto; display: inline-block}\n",
       ".dl-inline>dt::after {content: \":\\0020\"; padding-right: .5ex}\n",
       ".dl-inline>dt:not(:first-of-type) {padding-left: .5ex}\n",
       "</style><dl class=dl-inline><dt>cpc.png</dt><dd>2</dd><dt>chirps05+centrends01.png</dt><dd>2</dd></dl>\n"
      ],
      "text/latex": [
       "\\begin{description*}\n",
       "\\item[cpc.png] 2\n",
       "\\item[chirps05+centrends01.png] 2\n",
       "\\end{description*}\n"
      ],
      "text/markdown": [
       "cpc.png\n",
       ":   2chirps05+centrends01.png\n",
       ":   2\n",
       "\n"
      ],
      "text/plain": [
       "                 cpc.png chirps05+centrends01.png \n",
       "                       2                        2 "
      ]
     },
     "metadata": {},
     "output_type": "display_data"
    }
   ],
   "source": [
    "# or both models on one axis?\n",
    "varnm = \"pr-ond\"\n",
    "sapply(c(\"cpc\", \"chirps05+centrends01\"), function(ds_nm) {\n",
    "    \n",
    "    pr_df <- merge(df, read.csv(paste0(\"ts/EA-drought_\",varnm,\"_\",ds_nm,\".dat\"), comment.char = \"#\", sep = \" \", header = F, col.names = c(\"year\", \"pr\")))\n",
    "    pr_df[\"log10_pr\"] <- log10(pr_df$pr)\n",
    "    mdl_nino <- fit_ns(\"norm\", \"fixeddisp\", pr_df, varnm = \"log10_pr\", covnm_1 = \"gmst\", covnm_2 = \"nino_ond\", lower = T)\n",
    "    mdl_gmst <- fit_ns(\"norm\", \"fixeddisp\", pr_df, varnm = \"log10_pr\", covnm_1 = \"gmst\", lower = T)\n",
    "    \n",
    "    png(paste0(\"fig/gmsttrend_\",varnm,\"_\",ds_nm,\"_both-models.png\"), width = 480*1.4, height = 480); {\n",
    "        par(mar = c(3.5,3.5,1,3.5), cex = 1.4)\n",
    "        plot_gmsttrend(mdl_gmst, cov1 = gmst_2022, cov1_cf = gmst_cf, cov2 = ondnino_2022, legend_pos = NA)\n",
    "        plot_gmsttrend(mdl_nino, cov1 = gmst_2022, cov1_cf = gmst_cf, cov2 = ondnino_2022, ylab = \"log10 precip\", legend_pos = NA, add = T, col_main = \"darkred\", col_rl = \"red\", lty = \"dotted\")\n",
    "\n",
    "        legend(\"topleft\", legend = c(\"pr_ond ~ gmst\", \"1-in-6-year event\", \"1-in-40-year event\", \"pr_ond ~ gmst + nino\", \"1-in-6-year event\", \"1-in-40-year event\"),\n",
    "               ncol = 2, col = c(\"black\", rep(\"blue\", 2), \"darkred\", rep(\"red\", 2)), lty = rep(1:2, each = 3), lwd = rep(c(2,2,1), 2), bty = \"n\")\n",
    "        yticks <- c(50,seq(100,700,100))\n",
    "        axis(4, at = log10(yticks), labels = yticks)\n",
    "        mtext(\"Precip (mm)\", side = 4, line = 2.5, cex = par(\"cex\"))\n",
    "    }; dev.off()\n",
    "    \n",
    "    png(paste0(\"fig/rlplot_\",varnm,\"_\",ds_nm,\"_both-models.png\"), width = 480*1.4, height = 480); {\n",
    "        par(mar = c(3.5,3.5,1,3.5), cex = 1.4)\n",
    "        plot_returnperiods(mdl_gmst, cov1 = gmst_2022, cov1_cf = gmst_cf, cov2 = ondnino_2022, cov2_cf = ondnino_cf, ylab = \"log10 precip\", xlim = c(1,1000), pch = NA, legend_pos = NA, nsamp = NA)\n",
    "        plot_returnperiods(mdl_nino, cov1 = gmst_2022, cov1_cf = gmst_cf, cov2 = ondnino_2022, cov2_cf = ondnino_cf, add = T, legend_pos = NA, pch = NA, lty = 2, nsamp = NA)\n",
    "        \n",
    "        legend(\"topright\", legend = c(\"pr_ond ~ gmst (2022 climate)\", \"pr_ond ~ gmst(counterfactual)\", \"pr_ond ~ gmst + nino (2022 climate)\", \"pr_ond ~ gmst + nino (counterfactual)\"),\n",
    "               ncol = 1, col = rep(c(\"firebrick\", \"blue\"), 2), lty = rep(1:2, each = 2), bty = \"n\")\n",
    "        \n",
    "        yticks <- c(50,seq(100,700,100))\n",
    "        axis(4, at = log10(yticks), labels = yticks)\n",
    "        mtext(\"Precip (mm)\", side = 4, line = 2.5, cex = par(\"cex\"))\n",
    "    }; dev.off()\n",
    "})"
   ]
  },
  {
   "cell_type": "markdown",
   "id": "39ec8e72-6917-4a99-a644-030b5f8881c3",
   "metadata": {},
   "source": [
    "#### **pr_ond ~ gmst**"
   ]
  },
  {
   "cell_type": "code",
   "execution_count": 10,
   "id": "9012f8cc-ef0a-47da-ac14-8d2e5ae240ad",
   "metadata": {},
   "outputs": [
    {
     "data": {
      "text/html": [
       "<style>\n",
       ".dl-inline {width: auto; margin:0; padding: 0}\n",
       ".dl-inline>dt, .dl-inline>dd {float: none; width: auto; display: inline-block}\n",
       ".dl-inline>dt::after {content: \":\\0020\"; padding-right: .5ex}\n",
       ".dl-inline>dt:not(:first-of-type) {padding-left: .5ex}\n",
       "</style><dl class=dl-inline><dt>cpc.png</dt><dd>2</dd><dt>chirps05+centrends01.png</dt><dd>2</dd></dl>\n"
      ],
      "text/latex": [
       "\\begin{description*}\n",
       "\\item[cpc.png] 2\n",
       "\\item[chirps05+centrends01.png] 2\n",
       "\\end{description*}\n"
      ],
      "text/markdown": [
       "cpc.png\n",
       ":   2chirps05+centrends01.png\n",
       ":   2\n",
       "\n"
      ],
      "text/plain": [
       "                 cpc.png chirps05+centrends01.png \n",
       "                       2                        2 "
      ]
     },
     "metadata": {},
     "output_type": "display_data"
    }
   ],
   "source": [
    "varnm = \"pr-ond\"\n",
    "sapply(c(\"cpc\", \"chirps05+centrends01\"), function(ds_nm) {\n",
    "        \n",
    "    pr_df <- merge(df, read.csv(paste0(\"ts/EA-drought_\",varnm,\"_\",ds_nm,\".dat\"), comment.char = \"#\", sep = \" \", header = F, col.names = c(\"year\", \"pr\")))\n",
    "    pr_df[\"log10_pr\"] <- log10(pr_df$pr)\n",
    "    \n",
    "    mdl <- fit_ns(\"norm\", \"fixeddisp\", pr_df, varnm = \"log10_pr\", covnm_1 = \"gmst\",lower = T)\n",
    "\n",
    "    png(paste0(\"fig/rlplot_\",varnm,\"-gmst_\",ds_nm,\".png\"), width = 480*1.2, height = 480); {\n",
    "        par(mar = c(3.5,3.5,1,3.5), cex = 1.4)\n",
    "        plot_returnperiods(mdl, cov1 = gmst_2022, cov1_cf = gmst_cf, cov2 = ondnino_2022, cov2_cf = ondnino_cf, ylab = \"log10 precip\")\n",
    "        \n",
    "        yticks <- c(50,seq(100,700,100))\n",
    "        axis(4, at = log10(yticks), labels = yticks)\n",
    "        mtext(\"Precip (mm)\", side = 4, line = 2.5, cex = par(\"cex\"))\n",
    "    }; dev.off()\n",
    "    \n",
    "    png(paste0(\"fig/gmsttrend_\",varnm,\"-gmst_\",ds_nm,\".png\"), width = 480*1.2, height = 480); {\n",
    "        par(mar = c(3.5,3.5,1,3.5), cex = 1.4)\n",
    "        plot_gmsttrend(mdl, cov1 = gmst_2022, cov1_cf = gmst_cf, cov2 = ondnino_2022, ylab = \"log10 precip\")\n",
    "\n",
    "        yticks <- c(50,seq(100,700,100))\n",
    "        axis(4, at = log10(yticks), labels = yticks)\n",
    "        mtext(\"Precip (mm)\", side = 4, line = 2.5, cex = par(\"cex\"))\n",
    "    }; dev.off()\n",
    "})"
   ]
  },
  {
   "cell_type": "markdown",
   "id": "58b84edb-f87a-4320-9766-2f447fa5f6a4",
   "metadata": {},
   "source": [
    "#### **pr_mam ~ gmst**"
   ]
  },
  {
   "cell_type": "code",
   "execution_count": 11,
   "id": "51c28b99-be45-4b57-9bcc-f43346780309",
   "metadata": {},
   "outputs": [
    {
     "data": {
      "text/html": [
       "<style>\n",
       ".dl-inline {width: auto; margin:0; padding: 0}\n",
       ".dl-inline>dt, .dl-inline>dd {float: none; width: auto; display: inline-block}\n",
       ".dl-inline>dt::after {content: \":\\0020\"; padding-right: .5ex}\n",
       ".dl-inline>dt:not(:first-of-type) {padding-left: .5ex}\n",
       "</style><dl class=dl-inline><dt>cpc.png</dt><dd>2</dd><dt>chirps05+centrends01.png</dt><dd>2</dd></dl>\n"
      ],
      "text/latex": [
       "\\begin{description*}\n",
       "\\item[cpc.png] 2\n",
       "\\item[chirps05+centrends01.png] 2\n",
       "\\end{description*}\n"
      ],
      "text/markdown": [
       "cpc.png\n",
       ":   2chirps05+centrends01.png\n",
       ":   2\n",
       "\n"
      ],
      "text/plain": [
       "                 cpc.png chirps05+centrends01.png \n",
       "                       2                        2 "
      ]
     },
     "metadata": {},
     "output_type": "display_data"
    }
   ],
   "source": [
    "varnm = \"pr-mam\"\n",
    "sapply(c(\"cpc\", \"chirps05+centrends01\"), function(ds_nm) {\n",
    "        \n",
    "    pr_df <- merge(df, read.csv(paste0(\"ts/EA-drought_\",varnm,\"_\",ds_nm,\".dat\"), comment.char = \"#\", sep = \" \", header = F, col.names = c(\"year\", \"pr\")))\n",
    "    pr_df[\"log10_pr\"] <- log10(pr_df$pr)\n",
    "    \n",
    "    mdl <- fit_ns(\"norm\", \"fixeddisp\", pr_df, varnm = \"log10_pr\", covnm_1 = \"gmst\", lower = T)\n",
    "\n",
    "    png(paste0(\"fig/rlplot_\",varnm,\"_\",ds_nm,\".png\"), width = 480*1.2, height = 480); {\n",
    "        par(mar = c(3.5,3.5,1,3.5), cex = 1.4)\n",
    "        plot_returnperiods(mdl, cov1 = gmst_2022, cov1_cf = gmst_cf, cov2 = ondnino_2022, cov2_cf = ondnino_cf, ylab = \"log10 precip\")\n",
    "        \n",
    "        yticks <- c(50,seq(100,1000,100))\n",
    "        axis(4, at = log10(yticks), labels = yticks)\n",
    "        mtext(\"Precip (mm)\", side = 4, line = 2.5, cex = par(\"cex\"))\n",
    "    }; dev.off()\n",
    "    \n",
    "    png(paste0(\"fig/gmsttrend_\",varnm,\"_\",ds_nm,\".png\"), width = 480*1.2, height = 480); {\n",
    "        par(mar = c(3.5,3.5,1,3.5), cex = 1.4)\n",
    "        plot_gmsttrend(mdl, cov1 = gmst_2022, cov1_cf = gmst_cf, cov2 = ondnino_2022, ylab = \"log10 precip\", legend_pos = \"topleft\")\n",
    "\n",
    "        yticks <- c(50,seq(100,1000,100))\n",
    "        axis(4, at = log10(yticks), labels = yticks)\n",
    "        mtext(\"Precip (mm)\", side = 4, line = 2.5, cex = par(\"cex\"))\n",
    "    }; dev.off()\n",
    "})"
   ]
  },
  {
   "cell_type": "markdown",
   "id": "ba0e3380-e886-422e-a732-712f0416893e",
   "metadata": {},
   "source": [
    "#### **pr_24 ~ gmst**"
   ]
  },
  {
   "cell_type": "code",
   "execution_count": 12,
   "id": "5ac7ed13-634f-4e77-8674-e896f8a2ad89",
   "metadata": {},
   "outputs": [
    {
     "data": {
      "text/html": [
       "<style>\n",
       ".dl-inline {width: auto; margin:0; padding: 0}\n",
       ".dl-inline>dt, .dl-inline>dd {float: none; width: auto; display: inline-block}\n",
       ".dl-inline>dt::after {content: \":\\0020\"; padding-right: .5ex}\n",
       ".dl-inline>dt:not(:first-of-type) {padding-left: .5ex}\n",
       "</style><dl class=dl-inline><dt>cpc.png</dt><dd>2</dd><dt>chirps05+centrends01.png</dt><dd>2</dd></dl>\n"
      ],
      "text/latex": [
       "\\begin{description*}\n",
       "\\item[cpc.png] 2\n",
       "\\item[chirps05+centrends01.png] 2\n",
       "\\end{description*}\n"
      ],
      "text/markdown": [
       "cpc.png\n",
       ":   2chirps05+centrends01.png\n",
       ":   2\n",
       "\n"
      ],
      "text/plain": [
       "                 cpc.png chirps05+centrends01.png \n",
       "                       2                        2 "
      ]
     },
     "metadata": {},
     "output_type": "display_data"
    }
   ],
   "source": [
    "varnm = \"pr-24\"\n",
    "sapply(c(\"cpc\", \"chirps05+centrends01\"), function(ds_nm) {\n",
    "        \n",
    "    pr_df <- merge(df, read.csv(paste0(\"ts/EA-drought_\",varnm,\"_\",ds_nm,\".dat\"), comment.char = \"#\", sep = \" \", header = F, col.names = c(\"year\", \"pr\")))\n",
    "    pr_df[\"log10_pr\"] <- log10(pr_df$pr)\n",
    "    \n",
    "    mdl <- fit_ns(\"norm\", \"fixeddisp\", pr_df, varnm = \"log10_pr\", covnm_1 = \"gmst\", lower = T)\n",
    "\n",
    "    png(paste0(\"fig/rlplot_\",varnm,\"_\",ds_nm,\".png\"), width = 480*1.2, height = 480); {\n",
    "        par(mar = c(3.5,3.5,1,3.5), cex = 1.4)\n",
    "        plot_returnperiods(mdl, cov1 = gmst_2022, cov1_cf = gmst_cf, cov2 = ondnino_2022, cov2_cf = ondnino_cf, ylab = \"log10 precip\")\n",
    "        \n",
    "        yticks <- c(50,seq(100,2000,100))\n",
    "        axis(4, at = log10(yticks), labels = yticks)\n",
    "        mtext(\"Precip (mm)\", side = 4, line = 2.5, cex = par(\"cex\"))\n",
    "    }; dev.off()\n",
    "    \n",
    "    png(paste0(\"fig/gmsttrend_\",varnm,\"_\",ds_nm,\".png\"), width = 480*1.2, height = 480); {\n",
    "        par(mar = c(3.5,3.5,1,3.5), cex = 1.4)\n",
    "        plot_gmsttrend(mdl, cov1 = gmst_2022, cov1_cf = gmst_cf, cov2 = ondnino_2022, ylab = \"log10 precip\", legend_pos = NA)\n",
    "\n",
    "        yticks <- c(50,seq(100,2000,100))\n",
    "        axis(4, at = log10(yticks), labels = yticks)\n",
    "        mtext(\"Precip (mm)\", side = 4, line = 2.5, cex = par(\"cex\"))\n",
    "    }; dev.off()\n",
    "})"
   ]
  },
  {
   "cell_type": "markdown",
   "id": "f69c8d50-9767-40de-a70b-d925087bb03a",
   "metadata": {},
   "source": [
    "#### **pet_24 ~ gmst**"
   ]
  },
  {
   "cell_type": "code",
   "execution_count": 13,
   "id": "e6f8f30f-1ee2-46c3-9568-f10f990a8216",
   "metadata": {},
   "outputs": [
    {
     "data": {
      "text/html": [
       "<strong>cpc.png:</strong> 2"
      ],
      "text/latex": [
       "\\textbf{cpc.png:} 2"
      ],
      "text/markdown": [
       "**cpc.png:** 2"
      ],
      "text/plain": [
       "cpc.png \n",
       "      2 "
      ]
     },
     "metadata": {},
     "output_type": "display_data"
    }
   ],
   "source": [
    "varnm = \"pet-24\"\n",
    "ds_nm <- \"cpc\"\n",
    "sapply(c(\"cpc\"), function(ds_nm) {\n",
    "        \n",
    "    pr_df <- merge(df, load_ts(paste0(\"ts/EA-drought_\",varnm,\"_\",ds_nm,\".dat\"), col.names = c(\"year\", \"pet\")))\n",
    "    \n",
    "    mdl <- fit_ns(\"norm\", \"shift\", pr_df, varnm = \"pet\", covnm_1 = \"gmst\", lower = F)\n",
    "\n",
    "    png(paste0(\"fig/rlplot_\",varnm,\"_\",ds_nm,\".png\"), width = 480*1.2, height = 480); {\n",
    "        par(mar = c(3.5,3.5,1,3.5), cex = 1.4)\n",
    "        plot_returnperiods(mdl, cov1 = gmst_2022, cov1_cf = gmst_cf, cov2 = ondnino_2022, cov2_cf = ondnino_cf, ylab = \"PET (mm)\", ylim = c(2500,4500))\n",
    "    }; dev.off()\n",
    "    \n",
    "    png(paste0(\"fig/gmsttrend_\",varnm,\"_\",ds_nm,\".png\"), width = 480*1.2, height = 480); {\n",
    "        par(mar = c(3.5,3.5,1,3.5), cex = 1.4)\n",
    "        plot_gmsttrend(mdl, cov1 = gmst_2022, cov1_cf = gmst_cf, cov2 = ondnino_2022, ylab = \"PET (mm)\", legend_pos = NA, ylim = c(2500,4500))\n",
    "    }; dev.off()\n",
    "})"
   ]
  },
  {
   "cell_type": "markdown",
   "id": "24272332-138d-4296-8759-332f936bd2da",
   "metadata": {},
   "source": [
    "#### **spei_24 ~ gmst**"
   ]
  },
  {
   "cell_type": "code",
   "execution_count": 14,
   "id": "671b2f1a-0635-41e8-8f88-d421d3b64a20",
   "metadata": {},
   "outputs": [
    {
     "data": {
      "text/html": [
       "<strong>cpc.png:</strong> 2"
      ],
      "text/latex": [
       "\\textbf{cpc.png:} 2"
      ],
      "text/markdown": [
       "**cpc.png:** 2"
      ],
      "text/plain": [
       "cpc.png \n",
       "      2 "
      ]
     },
     "metadata": {},
     "output_type": "display_data"
    }
   ],
   "source": [
    "varnm = \"spei-24\"\n",
    "sapply(c(\"cpc\"), function(ds_nm) {\n",
    "        \n",
    "    pr_df <- merge(df, load_ts(paste0(\"ts/EA-drought_\",varnm,\"_\",ds_nm,\".dat\"), col.names = c(\"year\", \"spei\")))\n",
    "    \n",
    "    mdl <- fit_ns(\"norm\", \"shift\", pr_df, varnm = \"spei\", covnm_1 = \"gmst\", lower = T)\n",
    "\n",
    "    png(paste0(\"fig/rlplot_\",varnm,\"_\",ds_nm,\".png\"), width = 480*1.2, height = 480); {\n",
    "        par(mar = c(3.5,3.5,1,3.5), cex = 1.4)\n",
    "        plot_returnperiods(mdl, cov1 = gmst_2022, cov1_cf = gmst_cf, cov2 = ondnino_2022, cov2_cf = ondnino_cf, ylab = \"24-month SPEI\", ylim = c(-3.9, 3.9))\n",
    "    }; dev.off()\n",
    "    \n",
    "    png(paste0(\"fig/gmsttrend_\",varnm,\"_\",ds_nm,\".png\"), width = 480*1.2, height = 480); {\n",
    "        par(mar = c(3.5,3.5,1,3.5), cex = 1.4)\n",
    "        plot_gmsttrend(mdl, cov1 = gmst_2022, cov1_cf = gmst_cf, cov2 = ondnino_2022, ylab = \"24-month SPEI\", legend_pos = NA, ylim = c(-3.9, 3.9))\n",
    "    }; dev.off()\n",
    "})"
   ]
  },
  {
   "cell_type": "markdown",
   "id": "183fa52b-4683-459d-afa5-09f2f8e4f977",
   "metadata": {},
   "source": [
    "### **Joint distribution**"
   ]
  },
  {
   "cell_type": "code",
   "execution_count": 103,
   "id": "41bb5ee5-1ffb-4a43-9b5a-f0b61befc955",
   "metadata": {},
   "outputs": [],
   "source": [
    "# load covariate data\n",
    "df <- merge(merge(merge(merge(load_ts(\"ts/EA-drought_gmst-smoothed.dat\", col.names = c(\"year\", \"gmst\")),\n",
    "            load_ts(\"ts/EA-drought_detrended-nino-ond.dat\", col.names = c(\"year\", \"nino_ond\"))),\n",
    "            load_ts(\"ts/EA-drought_pr-24_cpc.dat\", col.names = c(\"year\", \"pr\"))),\n",
    "            load_ts(\"ts/EA-drought_pet-24_cpc.dat\", col.names = c(\"year\", \"pet\"))),\n",
    "            load_ts(\"ts/EA-drought_spei-24_cpc.dat\", col.names = c(\"year\", \"spei\")))\n",
    "df$log10pr <- log10(df$pr)\n",
    "\n",
    "gmst_2022 <- df$gmst[df$year == \"2022\"]\n",
    "gmst_cf <- gmst_2022 - 1.2"
   ]
  },
  {
   "cell_type": "markdown",
   "id": "75108619-1ce9-487c-a5f7-ace17f9be0f6",
   "metadata": {},
   "source": [
    "#### **Contour plot**"
   ]
  },
  {
   "cell_type": "code",
   "execution_count": 125,
   "id": "689a89b3-a12d-4238-acba-84e5c90128b6",
   "metadata": {},
   "outputs": [],
   "source": [
    "# fit marginal distributions\n",
    "mdl_pr <- fit_ns(\"norm\", \"fixeddisp\", df, varnm = \"log10pr\", covnm_1 = \"gmst\", lower = T)\n",
    "mdl_pet <- fit_ns(\"norm\", \"shift\", df, varnm = \"pet\", covnm_1 = \"gmst\", lower = F)\n",
    "\n",
    "# transform marginals to U\n",
    "u_pr <- map_to_u(mdl_pr)\n",
    "u_tas <- map_to_u(mdl_pet)\n",
    "\n",
    "# fit copula to u,v pairs\n",
    "fitted_copula <- fitCopula(tCopula(), data = cbind(u_pr, u_tas), hideWarnings = T)  # warning message about using df.fixed is irrelevant: can't actually change this setting\n",
    "cfit <- tCopula(coef(fitted_copula)[\"rho.1\"], df = round(coef(fitted_copula)[\"df\"], 0))  # has to be integer df for pCopula\n",
    "\n",
    "# get return levels in factual & counterfactual climates\n",
    "rl_pr <- list(\"2022\" = 10^mdl_pr$x[mdl_pr$ev_idx], \"hist\" = 10^map_from_u(map_to_u(mdl_pr)[mdl_pr$ev_idx], mdl_pr, gmst_cf))\n",
    "rl_pet <- list(\"2022\" = mdl_pet$x[mdl_pet$ev_idx], \"hist\" = map_from_u(map_to_u(mdl_pet)[mdl_pet$ev_idx], mdl_pet, gmst_cf))\n",
    "\n",
    "\n",
    "## SAVE CONTOURS FOR TRANSFER TO PYTHON\n",
    "require(jsonlite)\n",
    "\n",
    "contours <- list(\"coef\" = coef(fitted_copula), \n",
    "                 \"rl_pr\" = rl_pr,\n",
    "                 \"rl_pet\" = rl_pet,\n",
    "                 \"current\" = copula_mesh(mdl_pr, mdl_pet, cfit, gmst_2022), \n",
    "                 \"cf\" = copula_mesh(mdl_pr, mdl_pet, cfit, gmst_cf))\n",
    "write_json(contours, \"mv/joint-fit_pr-24_pet-24_cpc.json\")"
   ]
  },
  {
   "cell_type": "code",
   "execution_count": 123,
   "id": "92363a7f-02bf-473c-a03d-ca0e218ff2f7",
   "metadata": {},
   "outputs": [
    {
     "data": {
      "image/png": "[encoded data removed]",
      "text/plain": [
       "Plot with title “Joint exceedances”"
      ]
     },
     "metadata": {
      "image/png": {
       "height": 400,
       "width": 400
      }
     },
     "output_type": "display_data"
    }
   ],
   "source": [
    "prep_window(c(1,1))\n",
    "\n",
    "contour(copula_mesh(mdl_pr, mdl_pet, cfit, gmst_2022), levels = 1/c(5,10,20), labels = c(5,10,20), col = \"firebrick\",\n",
    "        main = \"Joint exceedances\", xlab = mdl_pr$varnm, ylab = mdl_pet$varnm)\n",
    "contour(copula_mesh(mdl_pr, mdl_pet, cfit, gmst_cf), levels = 1/c(5,10,20), labels = c(5,10,20), col = \"blue\", add = T)\n",
    "\n",
    "points(10^mdl_pr$x, mdl_pet$x, pch = 20)\n",
    "points(10^mdl_pr$x[mdl_pr$ev_idx], mdl_pet$x[mdl_pet$ev_idx], pch = 20, col = \"magenta\", cex = 1.5)\n",
    "\n",
    "points(rl_pr$\"2022\", rl_pet$\"2022\", pch = 0)\n",
    "points(rl_pr$\"hist\", rl_pet$\"hist\", pch = 0)"
   ]
  },
  {
   "cell_type": "markdown",
   "id": "0ca242a2-234a-4a45-af0c-ed3c1109868f",
   "metadata": {
    "tags": []
   },
   "source": [
    "#### **Marginal changes**"
   ]
  },
  {
   "cell_type": "code",
   "execution_count": null,
   "id": "019bb958-162d-44a2-96b7-e0f84b7e197a",
   "metadata": {},
   "outputs": [],
   "source": [
    "# load data\n",
    "pr_df <- merge(merge(merge(load_ts(\"ts/EA-drought_gmst-smoothed.dat\", col.names = c(\"year\", \"gmst\")),\n",
    "                     load_ts(paste0(\"ts/EA-drought_pr-24_cpc.dat\"), col.names = c(\"year\", \"pr\"))),\n",
    "               load_ts(paste0(\"ts/EA-drought_pet-24_cpc.dat\"), col.names = c(\"year\", \"pet\"))),\n",
    "               load_ts(paste0(\"ts/EA-drought_spei-24_cpc.dat\"), col.names = c(\"year\", \"spei\")))\n",
    "pr_df[\"log10_pr\"] <- log10(pr_df$pr)\n",
    "\n",
    "gmst_2022 <- pr_df$gmst[pr_df$year == 2022]\n",
    "gmst_cf <- gmst_2022 - 1.2"
   ]
  },
  {
   "cell_type": "code",
   "execution_count": null,
   "id": "cc0c35c0-e16b-44b1-a9c6-63a32e342e46",
   "metadata": {},
   "outputs": [],
   "source": [
    "# fit base models\n",
    "mdl_pr <- fit_ns(\"norm\", \"fixeddisp\", pr_df, varnm = \"log10_pr\", covnm_1 = \"gmst\", lower = T)\n",
    "mdl_pet <- fit_ns(\"norm\", \"shift\", pr_df, varnm = \"pet\", covnm_1 = \"gmst\", lower = F)\n",
    "mdl_spei <- fit_ns(\"norm\", \"shift\", pr_df, varnm = \"spei\", covnm_1 = \"gmst\", lower = T)\n",
    "\n",
    "rp_pr <- 1/map_to_u(mdl_pr)[mdl_pr$ev_idx]\n",
    "rp_pet <- 1/map_to_u(mdl_pet)[mdl_pet$ev_idx]\n",
    "rp_spei <- 1/map_to_u(mdl_spei)[mdl_spei$ev_idx]\n",
    "\n",
    "change_in_intensity <- c(\"pr\" = Delta_I(mdl_pr, rp = rp_pr, cov1 = gmst_2022, cov1_cf = gmst_cf, relative = F),\n",
    "                         \"pet\" = Delta_I(mdl_pet, rp = rp_pet, cov1 = gmst_2022, cov1_cf = gmst_cf, relative = F),\n",
    "                         \"spei\" = Delta_I(mdl_spei, rp = rp_spei, cov1 = gmst_2022, cov1_cf = gmst_cf, relative = F))"
   ]
  },
  {
   "cell_type": "code",
   "execution_count": null,
   "id": "218cc7d1-ea72-41aa-9482-bfde3634c157",
   "metadata": {},
   "outputs": [],
   "source": [
    "# bootstrap sample for change in intensity\n",
    "nsamp <- 1000\n",
    "set.seed(1)\n",
    "boot_res <- sapply(1:nsamp, function(i) {\n",
    "    \n",
    "    # resample data, refit models\n",
    "    boot_df <- pr_df[sample(1:nrow(pr_df), nrow(pr_df), replace = T),]\n",
    "    bootmdl_pr <- fit_ns(mdl_pr$dist, mdl_pr$type, boot_df, varnm = mdl_pr$varnm, covnm_1 = mdl_pr$covnm_1, covnm_2 = mdl_pr$covnm_2, lower = mdl_pr$lower)\n",
    "    bootmdl_pet <- fit_ns(mdl_pet$dist, mdl_pet$type, boot_df, varnm = mdl_pet$varnm, covnm_1 = mdl_pet$covnm_1, covnm_2 = mdl_pet$covnm_2, lower = mdl_pet$lower)\n",
    "    bootmdl_spei <- fit_ns(mdl_spei$dist, mdl_spei$type, boot_df, varnm = mdl_spei$varnm, covnm_1 = mdl_spei$covnm_1, covnm_2 = mdl_spei$covnm_2, lower = mdl_spei$lower)\n",
    "    \n",
    "    c(\"pr\" = Delta_I(bootmdl_pr, rp = rp_pr, cov1 = gmst_2022, cov1_cf = gmst_cf, relative = F),\n",
    "      \"pet\" = Delta_I(bootmdl_pet, rp = rp_pet, cov1 = gmst_2022, cov1_cf = gmst_cf, relative = F),\n",
    "      \"spei\" = Delta_I(bootmdl_spei, rp = rp_spei, cov1 = gmst_2022, cov1_cf = gmst_cf, relative = F))\n",
    "})"
   ]
  },
  {
   "cell_type": "code",
   "execution_count": null,
   "id": "751f7085-6c2a-4c04-8e48-7e0b603771b8",
   "metadata": {},
   "outputs": [],
   "source": [
    "boxplot(t(boot_res))"
   ]
  },
  {
   "cell_type": "code",
   "execution_count": null,
   "id": "4c4efac7-9cc2-419d-a358-e3fe48b5eb9a",
   "metadata": {},
   "outputs": [],
   "source": [
    "par(mfrow = c(1,3))\n",
    "boxplot(t(boot_res[c(\"pr\", \"pet\"),]))\n",
    "boxplot(boot_res[\"pet\",])"
   ]
  },
  {
   "cell_type": "markdown",
   "id": "5618cb76-57d9-44cd-9a2a-92488d5a6268",
   "metadata": {},
   "source": [
    "---\n",
    "## **Models**"
   ]
  },
  {
   "cell_type": "code",
   "execution_count": 8,
   "id": "c6bebcc0-5069-4fd1-a50a-ca810b8a5ced",
   "metadata": {
    "tags": []
   },
   "outputs": [],
   "source": [
    "source(\"../wwa_nonstationary_fitting.r\")\n",
    "\n",
    "model_results <- function(df, dist, fittype, varnm, covnm_1, covnm_2 = NA, cov1_2022, cov1_hist, cov1_fut, cov2_2022 = 0, cov2_hist = 0, cov2_fut = 0,\n",
    "                                lower = F, rp = 10, delta_relative = T, nsamp = 1000, seed = 1) {\n",
    "    \n",
    "    # FUNCTION TO CARRY OUT ALL ATTRIBUTION RUNS & PRODUCE RESULTS IN SPREADSHEET-FRIENDLY FORM\n",
    "    \n",
    "    set.seed(seed)\n",
    "    \n",
    "    #~~~~~~~~~~~~~~~~~~~~~~~~~~~~~~~~~~~~~~~~~~~~~~~~~~~~~~~~~~~~~~~~~~~~~~~\n",
    "    # FIT MODEL to three different subsets: for evaluation, attribution & projection\n",
    "    \n",
    "    df_eval <- df[df$year >= 1979 & df$year <= 2022,]\n",
    "    df_attr <- df[df$year <= 2022,]\n",
    "    df_proj <- df[df$year <= 2050,]\n",
    "    \n",
    "    mdl_eval <- fit_ns(dist, fittype, df_eval, varnm = varnm, covnm_1 = covnm_1, covnm_2 = covnm_2, lower = lower)\n",
    "    mdl_attr <- fit_ns(dist, fittype, df_attr, varnm = varnm, covnm_1 = covnm_1, covnm_2 = covnm_2, lower = lower)\n",
    "    mdl_proj <- fit_ns(dist, fittype, df_proj, varnm = varnm, covnm_1 = covnm_1, covnm_2 = covnm_2, lower = lower)\n",
    "    \n",
    "    #~~~~~~~~~~~~~~~~~~~~~~~~~~~~~~~~~~~~~~~~~~~~~~~~~~~~~~~~~~~~~~~~~~~~~~~\n",
    "    ## EVALUATION (get model parameters)\n",
    "    \n",
    "    if(fittype == \"fixeddisp\") {\n",
    "        disp_eval <- mdl_eval$par[\"sigma0\"] / mdl_eval$par[\"mu0\"]\n",
    "        boot_eval <- sapply(1:nsamp, function(i) {\n",
    "            \n",
    "            boot_df <- df_eval[sample(1:nrow(df_eval), nrow(df_eval), replace = T),]\n",
    "            boot_mdl <- fit_ns(mdl_eval$dist, mdl_eval$type, boot_df, varnm = mdl_eval$varnm, covnm_1 = mdl_eval$covnm_1, covnm_2 = mdl_eval$covnm_2, lower = mdl_eval$lower)\n",
    "            boot_mdl$par[\"sigma0\"] / boot_mdl$par[\"mu0\"]\n",
    "        })\n",
    "        ci_eval <- setNames(c(disp_eval, quantile(boot_eval, c(0.025, 0.975))),\n",
    "                            c(\"disp_est\", \"disp_lower\", \"disp_upper\"))\n",
    "    } else {\n",
    "        var_eval <- mdl_eval$par[\"sigma0\"]\n",
    "        boot_eval <- sapply(1:nsamp, function(i) {\n",
    "            \n",
    "            boot_df <- df_eval[sample(1:nrow(df_eval), nrow(df_eval), replace = T),]\n",
    "            boot_mdl <- fit_ns(mdl_eval$dist, mdl_eval$type, boot_df, varnm = mdl_eval$varnm, covnm_1 = mdl_eval$covnm_1, covnm_2 = mdl_eval$covnm_2, lower = mdl_eval$lower)\n",
    "            boot_mdl$par[\"sigma0\"]\n",
    "        })\n",
    "        ci_eval <- setNames(c(var_eval, quantile(boot_eval, c(0.025, 0.975))),\n",
    "                            c(\"var_est\", \"var_lower\", \"var_upper\"))\n",
    "    }\n",
    "    \n",
    "    #~~~~~~~~~~~~~~~~~~~~~~~~~~~~~~~~~~~~~~~~~~~~~~~~~~~~~~~~~~~~~~~~~~~~~~~\n",
    "    ## ATTRIBUTION (get event value, PR & DI)\n",
    "    \n",
    "    rl_2022 <- map_from_u(1/rp, mdl_attr, cov1 = cov1_2022, cov2 = cov2_2022)\n",
    "    if(substr(varnm,1,5) == \"log10\") { actual_rl2022 <- 10^rl_2022 } else { actual_rl2022 <- rl_2022 }\n",
    "    \n",
    "    pr_eval <- prob_ratio(mdl_attr, rl_2022, cov1 = cov1_2022, cov1_cf = cov1_hist, cov2 = cov2_2022, cov2_cf = cov2_hist)\n",
    "    dI_eval <- Delta_I(mdl_attr, rp, cov1 = cov1_2022, cov1_cf = cov1_hist, relative = delta_relative)\n",
    "    \n",
    "    boot_attr <- sapply(1:nsamp, function(i) {\n",
    "        \n",
    "        boot_df <- df_attr[sample(1:nrow(df_attr), nrow(df_attr), replace = T),]\n",
    "        boot_mdl <- fit_ns(mdl_attr$dist, mdl_attr$type, boot_df, varnm = mdl_attr$varnm, covnm_1 = mdl_attr$covnm_1, covnm_2 = mdl_attr$covnm_2, lower = mdl_attr$lower)\n",
    "        \n",
    "        boot_pr <- prob_ratio(boot_mdl, rl_2022, cov1 = cov1_2022, cov1_cf = cov1_hist, cov2 = cov2_2022, cov2_cf = cov2_hist)\n",
    "        boot_di <- Delta_I(boot_mdl, 10, cov1 = cov1_2022, cov1_cf = cov1_hist, cov2 = cov2_2022, cov2_cf = cov2_hist, relative = delta_relative)\n",
    "        \n",
    "        c(\"PR\" = boot_pr, \"DI\" = boot_di)\n",
    "    })\n",
    "    ci_attr <- rbind(\"est\" = c(pr_eval, dI_eval), apply(boot_attr, 1, quantile, c(0.025, 0.975)))\n",
    "    ci_attr <- unlist(lapply(colnames(ci_attr), function(cnm) setNames(ci_attr[,cnm], paste(\"attr\", cnm, c(\"est\", \"lower\", \"upper\"), sep = \"_\"))))\n",
    "                          \n",
    "    #~~~~~~~~~~~~~~~~~~~~~~~~~~~~~~~~~~~~~~~~~~~~~~~~~~~~~~~~~~~~~~~~~~~~~~~\n",
    "    ## PROJECTION (get PR & DI)\n",
    "\n",
    "    pr_proj <- prob_ratio(mdl_proj, rl_2022, cov1 = cov1_2022, cov1_cf = cov1_fut, cov2 = cov2_2022, cov2_cf = cov2_fut)\n",
    "    dI_proj <- Delta_I(mdl_proj, 10, cov1 = cov1_2022, cov1_cf = cov1_fut, relative = delta_relative)\n",
    "                             \n",
    "    boot_proj <- sapply(1:nsamp, function(i) {\n",
    "        \n",
    "        boot_df <- df_proj[sample(1:nrow(df_proj), nrow(df_proj), replace = T),]\n",
    "        boot_mdl <- fit_ns(mdl_proj$dist, mdl_proj$type, boot_df, varnm = mdl_proj$varnm, covnm_1 = mdl_proj$covnm_1, covnm_2 = mdl_proj$covnm_2, lower = mdl_proj$lower)\n",
    "        \n",
    "        boot_pr <- prob_ratio(boot_mdl, rl_2022, cov1 = cov1_2022, cov1_cf = cov1_fut, cov2 = cov2_2022, cov2_cf = cov2_fut)\n",
    "        boot_di <- Delta_I(boot_mdl, 10, cov1 = cov1_2022, cov1_cf = cov1_fut, cov2 = cov2_2022, cov2_cf = cov2_fut, relative = delta_relative)\n",
    "        \n",
    "        c(\"PR\" = boot_pr, \"DI\" = boot_di)\n",
    "    })\n",
    "    ci_proj <- rbind(\"est\" = c(pr_proj, dI_proj), apply(boot_proj, 1, quantile, c(0.025, 0.975)))\n",
    "      \n",
    "    # invert\n",
    "    ci_proj[,\"PR\"] <- 1/ci_proj[c(1,3,2),\"PR\"]\n",
    "    ci_proj[,\"DI\"] <- -ci_proj[c(1,3,2),\"DI\"]   \n",
    "                             \n",
    "    ci_proj <- unlist(lapply(colnames(ci_proj), function(cnm) setNames(ci_proj[,cnm], paste(\"proj\", cnm, c(\"est\", \"lower\", \"upper\"), sep = \"_\"))))\n",
    "                             \n",
    "    # #~~~~~~~~~~~~~~~~~~~~~~~~~~~~~~~~~~~~~~~~~~~~~~~~~~~~~~~~~~~~~~~~~~~~~~~\n",
    "                             \n",
    "    # t(setNames(data.frame(c(ci_eval, \"rp_value\" = actual_rl2022, ci_attr, ci_proj)), gsub(\".dat\", \"\", gsub(\".+pr-mam_\", \"\", fnm))))      \n",
    "    t(data.frame(c(ci_eval, \"rp_value\" = actual_rl2022, ci_attr, ci_proj)))     \n",
    "}\n",
    "\n"
   ]
  },
  {
   "cell_type": "markdown",
   "id": "bc9b31fd-9441-4908-89f6-0d2c0897afb5",
   "metadata": {},
   "source": [
    "### **CORDEX**"
   ]
  },
  {
   "cell_type": "markdown",
   "id": "8855d16d-2294-47cd-a900-8846654e999d",
   "metadata": {},
   "source": [
    "#### **Precipitation indices**"
   ]
  },
  {
   "cell_type": "code",
   "execution_count": 9,
   "id": "132f2f12-a8f3-4103-a197-3bce9a91f0d2",
   "metadata": {},
   "outputs": [],
   "source": [
    "# fit model & get results for each season\n",
    "invisible(sapply(c(\"mam\", \"ond\", \"24\"), function(seas) {\n",
    "    \n",
    "    rp <- return_periods[[seas]]                  # return period depending on variable\n",
    "    if(seas == \"ond\") { covnm_2 = \"nino_ond\" } else { covnm_2 = NA }      # OND needs second covariate\n",
    "    \n",
    "    # loop over all available models, get results for each\n",
    "    res <- sapply(list.files(\"ts\", pattern = paste0(\"pr-\",seas,\"_AFR\"), full.names = T), function(fnm) {\n",
    "        \n",
    "        if(grepl(\"HadGEM2-ES_r1_RegCM4-3\", fnm)) {return(rep(NA, 16))}\n",
    "        \n",
    "        # load necessary data\n",
    "        gmst_fnm <- list.files(\"ts\", pattern = paste0(\"smoothed-gsat_\", strsplit(fnm, \"_\")[[1]][4],\"_rcp85_\",strsplit(fnm, \"_\")[[1]][5],\".dat\"), full.names = T)\n",
    "        gmst <- load_ts(gmst_fnm, col.names = c(\"year\", \"gmst\"))\n",
    "        \n",
    "        nino_fnm <- list.files(\"ts\", paste0(\"nino-ond_\",strsplit(fnm, \"_\")[[1]][4],\"_rcp85_\",strsplit(fnm, \"_\")[[1]][5],\".dat\"), full.names = T)\n",
    "        nino <- load_ts(nino_fnm, col.names = c(\"year\", \"nino_ond\"))\n",
    "        \n",
    "        pr <- load_ts(fnm, col.names = c(\"year\", \"pr\"))\n",
    "        df <- merge(merge(gmst, nino), pr)\n",
    "        df[\"log10pr\"] <- log10(df$pr)   # fit models to log precip, convert back at the end (more stable model fitting)\n",
    "        \n",
    "        # covariates defining current, past & future climates\n",
    "        gmst_2022 <- gmst[gmst$year == 2022, \"gmst\"]\n",
    "        gmst_hist <- gmst_2022 - 1.2\n",
    "        gmst_fut <- gmst_2022 + 0.8\n",
    "        nino_2022 <- nino_hist <- nino_fut <- 0    # dummy covariates\n",
    "        \n",
    "        # fit model & get results\n",
    "        data.frame(model_results(df, \"norm\", \"fixeddisp\", varnm = \"log10pr\", covnm_1 = \"gmst\", covnm_2 = covnm_2, lower = T, rp = rp, delta_relative = T, nsamp = 1000,\n",
    "                                       cov1_2022 = gmst_2022, cov1_hist = gmst_hist, cov1_fut = gmst_fut, \n",
    "                                       cov2_2022 = nino_2022, cov2_hist = nino_hist, cov2_fut = nino_fut))\n",
    "    }, simplify = F)\n",
    "    \n",
    "    # merge results into single dataframe, tidy rownames & save to csv\n",
    "    res <- do.call(\"rbind\", res)\n",
    "    rownames(res) <- gsub(\".dat\", \"\", gsub(paste0(\".+pr-\",seas,\"_\"), \"\", rownames(res)))\n",
    "    write.csv(res, paste0(\"res/EA-drought_pr-\",seas,\"_cordex_fitted.csv\"))\n",
    "}))"
   ]
  },
  {
   "cell_type": "markdown",
   "id": "b89bbb19-8698-446d-9074-71218238072a",
   "metadata": {
    "toc-hr-collapsed": true
   },
   "source": [
    "#### **PET & SPEI**"
   ]
  },
  {
   "cell_type": "code",
   "execution_count": 19,
   "id": "7bd46f28-1ce4-4879-9d7e-21370f8b6ec5",
   "metadata": {},
   "outputs": [],
   "source": [
    "# fit model & get results for each season\n",
    "invisible(sapply(c(\"pet\", \"spei\"), function(varnm) {\n",
    "    \n",
    "    rp <- return_periods[[varnm]]                  # return period depending on variable\n",
    "    lower <- list(\"pet\" = F, \"spei\" = T)[[varnm]]                # consider lower or upper tail, depending on variable\n",
    "    relative_delta <- list(\"pet\" = T, \"spei\" = F)[[varnm]]\n",
    "    \n",
    "    # loop over all available models, get results for each\n",
    "    res <- sapply(sort(list.files(\"ts\", pattern = paste0(\"_\",varnm,\"-24_AFR\"), full.names = T)), function(fnm) {\n",
    "        \n",
    "        if(grepl(\"HadGEM2-ES_r1_RegCM4-3\", fnm)) {return(rep(NA, 16))}\n",
    "        \n",
    "        # load necessary data\n",
    "        gmst_fnm <- list.files(\"ts\", pattern = paste0(\"smoothed-gsat_\", strsplit(fnm, \"_\")[[1]][4],\"_rcp85_\",strsplit(fnm, \"_\")[[1]][5],\".dat\"), full.names = T)\n",
    "        gmst <- load_ts(gmst_fnm, col.names = c(\"year\", \"gmst\"))\n",
    "        \n",
    "        pr <- load_ts(fnm, col.names = c(\"year\", varnm))\n",
    "        df <- merge(gmst, pr)\n",
    "        df <- df[!is.na(df[,varnm]),]\n",
    "        \n",
    "        # covariates defining current, past & future climates\n",
    "        gmst_2022 <- gmst[gmst$year == 2022, \"gmst\"]\n",
    "        gmst_hist <- gmst_2022 - 1.2\n",
    "        gmst_fut <- gmst_2022 + 0.8\n",
    "        nino_2022 <- nino_hist <- nino_fut <- 0    # dummy covariates\n",
    "        \n",
    "        # fit model & get results\n",
    "        data.frame(model_results(df, \"norm\", \"shift\", varnm = varnm, covnm_1 = \"gmst\", covnm_2 = NA, lower = lower, rp = rp, delta_relative = relative_delta, nsamp = 1000,\n",
    "                                       cov1_2022 = gmst_2022, cov1_hist = gmst_hist, cov1_fut = gmst_fut, \n",
    "                                       cov2_2022 = nino_2022, cov2_hist = nino_hist, cov2_fut = nino_fut))\n",
    "    }, simplify = F)\n",
    "    \n",
    "    # merge results into single dataframe, tidy rownames & save to csv\n",
    "    res <- do.call(\"rbind\", res)\n",
    "    rownames(res) <- gsub(\".dat\", \"\", gsub(\".+-24_\", \"\", rownames(res)))\n",
    "    write.csv(res, paste0(\"res/EA-drought_\",varnm,\"-24_cordex_fitted.csv\"))\n",
    "}))"
   ]
  },
  {
   "cell_type": "markdown",
   "id": "72734d3f-6e02-4cf6-a625-ae68a86cfdd1",
   "metadata": {
    "tags": []
   },
   "source": [
    "#### **Joint distribution**\n",
    "_Plotting will be done in Python - however, R is better for model fitting & computing contour surfaces - hence saving them in a portable format_"
   ]
  },
  {
   "cell_type": "code",
   "execution_count": 99,
   "id": "8ff4e668-0577-4a20-8baf-41cd71c85ad7",
   "metadata": {},
   "outputs": [],
   "source": [
    "library(jsonlite) # need to save as json in order to load in python\n",
    "\n",
    "# need to fix limits of copula mesh : use 50-year return level + 2sd?\n",
    "\n",
    "# loop over files, get joint structure & contour surfaces\n",
    "invisible(sapply(sort(list.files(\"ts\", pattern = \"_pet-24_AFR\", full.names = T)), function(fnm) {\n",
    "    \n",
    "    mdl <- gsub(\".+pet-24_\", \"\", gsub(\".dat\", \"\", fnm))\n",
    "    \n",
    "    # load data\n",
    "    gmst_fnm <- list.files(\"ts\", pattern = paste0(\"smoothed-gsat_\", strsplit(fnm, \"_\")[[1]][4],\"_rcp85_\",strsplit(fnm, \"_\")[[1]][5],\".dat\"), full.names = T)\n",
    "    gmst <- load_ts(gmst_fnm, col.names = c(\"year\", \"gmst\"))\n",
    "    \n",
    "    pet <- load_ts(fnm, col.names = c(\"year\", \"pet\"))\n",
    "    pr <- load_ts(gsub(\"pet\", \"pr\", fnm), col.names = c(\"year\", \"pr\"))\n",
    "    \n",
    "    df <- merge(merge(gmst, pet), pr)\n",
    "    df$log10pr <- log10(df$pr)\n",
    "    \n",
    "    # fix covariate values\n",
    "    gmst_2022 <- df$gmst[df$year == \"2022\"]\n",
    "    gmst_hist <- gmst_2022 - 1.2\n",
    "    gmst_fut <- gmst_2022 + 0.8\n",
    "    \n",
    "    # fit marginal distributions\n",
    "    mdl_pr <- fit_ns(\"norm\", \"fixeddisp\", df, varnm = \"log10pr\", covnm_1 = \"gmst\", lower = T)\n",
    "    mdl_pet <- fit_ns(\"norm\", \"shift\", df, varnm = \"pet\", covnm_1 = \"gmst\", lower = F)\n",
    "    \n",
    "    # get return levels in factual & counterfactual climates\n",
    "    rl_pr <- lapply(list(\"2022\" = gmst_2022, \"hist\" = gmst_hist, \"fut\" = gmst_fut), function(cov) {\n",
    "        map_from_u(1/return_periods[[\"24\"]], mdl_pr, cov1 = cov)\n",
    "    })\n",
    "    rl_pet <- lapply(list(\"2022\" = gmst_2022, \"hist\" = gmst_hist, \"fut\" = gmst_fut), function(cov) {\n",
    "        map_from_u(1/return_periods[[\"pet\"]], mdl_pet, cov1 = cov)\n",
    "    })\n",
    "    \n",
    "    # transform marginals to U\n",
    "    u_pr <- map_to_u(mdl_pr)\n",
    "    u_tas <- map_to_u(mdl_pet)\n",
    "    \n",
    "    # fit copula to u,v pairs\n",
    "    fitted_copula <- fitCopula(tCopula(), data = cbind(u_pr, u_tas), hideWarnings = T)  # warning message about using df.fixed is irrelevant: can't actually change this setting\n",
    "    cfit <- tCopula(coef(fitted_copula)[\"rho.1\"], df = round(coef(fitted_copula)[\"df\"], 0))  # has to be integer df for pCopula\n",
    "    \n",
    "    # get contour surfaces\n",
    "    contours <- list(\"coef\" = coef(fitted_copula),\n",
    "                     \"rl_pr\" = rl_pr,\n",
    "                     \"rp_pet\" = rl_pet,\n",
    "                     \"current\" = copula_mesh(mdl_pr, mdl_pet, cfit, gmst_2022, \n",
    "                     \"hist\" = copula_mesh(mdl_pr, mdl_pet, cfit, gmst_hist),\n",
    "                     \"fut\" = copula_mesh(mdl_pr, mdl_pet, cfit, gmst_fut))\n",
    "    \n",
    "    # save surfaces for plotting in python\n",
    "    write_json(contours, paste0(\"mv/joint-fit_pr-24_pet-24_\",mdl,\".json\"))\n",
    "}))"
   ]
  },
  {
   "cell_type": "markdown",
   "id": "34951a6b-a459-43be-b531-4b1f9252c219",
   "metadata": {},
   "source": [
    "### **HighResMIP**"
   ]
  },
  {
   "cell_type": "code",
   "execution_count": 11,
   "id": "ba54a375-bc37-45f9-b2fd-38a0b2cb32b4",
   "metadata": {},
   "outputs": [],
   "source": [
    "source(\"../wwa_nonstationary_fitting.r\")\n",
    "\n",
    "# load covariate data\n",
    "cov_df <- merge(load_ts(\"ts/EA-drought_gmst-smoothed.dat\", col.names = c(\"year\", \"gmst\")),\n",
    "                load_ts(\"ts/EA-drought_detrended-nino-ond.dat\", col.names = c(\"year\", \"nino_ond\")))\n",
    "\n",
    "# fix covariate values defining current, past & future climates\n",
    "gmst_2022 <- cov_df[cov_df$year == 2022, \"gmst\"]\n",
    "gmst_hist <- gmst_2022 - 1.2\n",
    "gmst_fut <- gmst_2022 + 0.8\n",
    "\n",
    "nino_2022 <- nino_hist <- nino_fut <- cov_df[cov_df$year == 2022, \"nino_ond\"]"
   ]
  },
  {
   "cell_type": "code",
   "execution_count": 20,
   "id": "b03c3398-ae67-4668-b458-62fd36df142e",
   "metadata": {},
   "outputs": [],
   "source": [
    "hiresmip_results <- function(df, dist, fittype, varnm, covnm_1, covnm_2 = NA, cov1_2022, cov1_hist, cov1_fut = NA, cov2_2022 = 0, cov2_hist = 0, cov2_fut = NA,\n",
    "                                lower = F, rp = 10, delta_relative = T, nsamp = 1000, seed = 1) {\n",
    "    \n",
    "    # FUNCTION TO CARRY OUT ALL ATTRIBUTION RUNS & PRODUCE RESULTS IN SPREADSHEET-FRIENDLY FORM\n",
    "    \n",
    "    set.seed(seed)\n",
    "    \n",
    "    #~~~~~~~~~~~~~~~~~~~~~~~~~~~~~~~~~~~~~~~~~~~~~~~~~~~~~~~~~~~~~~~~~~~~~~~\n",
    "    # FIT MODEL to three different subsets: for evaluation, attribution & projection\n",
    "    \n",
    "    df_eval <- df[df$year >= 1979 & df$year <= 2022,]\n",
    "    df_attr <- df[df$year <= 2022,]\n",
    "    \n",
    "    mdl_eval <- fit_ns(dist, fittype, df_eval, varnm = varnm, covnm_1 = covnm_1, covnm_2 = covnm_2, lower = lower)\n",
    "    mdl_attr <- fit_ns(dist, fittype, df_attr, varnm = varnm, covnm_1 = covnm_1, covnm_2 = covnm_2, lower = lower)\n",
    "    \n",
    "    #~~~~~~~~~~~~~~~~~~~~~~~~~~~~~~~~~~~~~~~~~~~~~~~~~~~~~~~~~~~~~~~~~~~~~~~\n",
    "    ## EVALUATION (get model parameters)\n",
    "    \n",
    "    disp_eval <- mdl_eval$par[\"sigma0\"] / mdl_eval$par[\"mu0\"]\n",
    "    var_eval <- mdl_eval$par[\"sigma0\"]\n",
    "    boot_eval <- sapply(1:nsamp, function(i) {\n",
    "        \n",
    "        boot_df <- df_eval[sample(1:nrow(df_eval), nrow(df_eval), replace = T),]\n",
    "        boot_mdl <- fit_ns(mdl_eval$dist, mdl_eval$type, boot_df, varnm = mdl_eval$varnm, covnm_1 = mdl_eval$covnm_1, covnm_2 = mdl_eval$covnm_2, lower = mdl_eval$lower)\n",
    "        if(fittype == \"fixeddisp\") {\n",
    "            boot_mdl$par[\"sigma0\"] / boot_mdl$par[\"mu0\"]\n",
    "        } else {\n",
    "            boot_mdl$par[\"sigma0\"]\n",
    "        }\n",
    "    })\n",
    "    if(fittype == \"fixeddisp\") {\n",
    "        ci_eval <- setNames(c(disp_eval, quantile(boot_eval, c(0.025, 0.975))),\n",
    "                            c(\"disp_est\", \"disp_lower\", \"disp_upper\"))\n",
    "    } else {\n",
    "        ci_eval <- setNames(c(var_eval, quantile(boot_eval, c(0.025, 0.975))),\n",
    "                            c(\"var_est\", \"var_lower\", \"var_upper\"))\n",
    "    }\n",
    "    \n",
    "    #~~~~~~~~~~~~~~~~~~~~~~~~~~~~~~~~~~~~~~~~~~~~~~~~~~~~~~~~~~~~~~~~~~~~~~~\n",
    "    ## ATTRIBUTION (get event value, PR & DI)\n",
    "    \n",
    "    rl_2022 <- map_from_u(1/rp, mdl_attr, cov1 = cov1_2022, cov2 = cov2_2022)\n",
    "    if(substr(varnm,1,5) == \"log10\") { actual_rl2022 <- 10^rl_2022 } else { actual_rl2022 <- rl_2022 }\n",
    "    \n",
    "    pr_eval <- prob_ratio(mdl_attr, rl_2022, cov1 = cov1_2022, cov1_cf = cov1_hist, cov2 = cov2_2022, cov2_cf = cov2_hist)\n",
    "    dI_eval <- Delta_I(mdl_attr, rp, cov1 = cov1_2022, cov1_cf = cov1_hist, relative = delta_relative)\n",
    "    \n",
    "    boot_attr <- sapply(1:nsamp, function(i) {\n",
    "        \n",
    "        boot_df <- df_attr[sample(1:nrow(df_attr), nrow(df_attr), replace = T),]\n",
    "        boot_mdl <- fit_ns(mdl_attr$dist, mdl_attr$type, boot_df, varnm = mdl_attr$varnm, covnm_1 = mdl_attr$covnm_1, covnm_2 = mdl_attr$covnm_2, lower = mdl_attr$lower)\n",
    "        \n",
    "        boot_pr <- prob_ratio(boot_mdl, rl_2022, cov1 = cov1_2022, cov1_cf = cov1_hist, cov2 = cov2_2022, cov2_cf = cov2_hist)\n",
    "        boot_di <- Delta_I(boot_mdl, rp, cov1 = cov1_2022, cov1_cf = cov1_hist, cov2 = cov2_2022, cov2_cf = cov2_hist, relative = delta_relative)\n",
    "        \n",
    "        c(\"PR\" = boot_pr, \"DI\" = boot_di)\n",
    "    })\n",
    "    ci_attr <- rbind(\"est\" = c(pr_eval, dI_eval), apply(boot_attr, 1, quantile, c(0.025, 0.975)))\n",
    "    ci_attr <- unlist(lapply(colnames(ci_attr), function(cnm) setNames(ci_attr[,cnm], paste(\"attr\", cnm, c(\"est\", \"lower\", \"upper\"), sep = \"_\"))))\n",
    "                             \n",
    "    # #~~~~~~~~~~~~~~~~~~~~~~~~~~~~~~~~~~~~~~~~~~~~~~~~~~~~~~~~~~~~~~~~~~~~~~~\n",
    "\n",
    "    # Can't do future projection, because using observed GMST & Nino time series as covariates\n",
    "                             \n",
    "    # #~~~~~~~~~~~~~~~~~~~~~~~~~~~~~~~~~~~~~~~~~~~~~~~~~~~~~~~~~~~~~~~~~~~~~~~\n",
    "                             \n",
    "    # t(setNames(data.frame(c(ci_eval, \"rp_value\" = rl_2022, ci_attr, ci_proj)), gsub(\".dat\", \"\", gsub(\".+pr-mam_\", \"\", fnm))))      \n",
    "    t(data.frame(c(ci_eval, \"rp_value\" = actual_rl2022, ci_attr)))     \n",
    "}"
   ]
  },
  {
   "cell_type": "markdown",
   "id": "d170cb68-dec0-4f47-af96-9afc8ca01bf4",
   "metadata": {},
   "source": [
    "#### **Precipitation indices**"
   ]
  },
  {
   "cell_type": "code",
   "execution_count": 13,
   "id": "58f26ec0-12b9-400a-b82e-acc5244f5c42",
   "metadata": {},
   "outputs": [],
   "source": [
    "# fit model & get results for each season\n",
    "invisible(sapply(c(\"mam\", \"ond\", \"24\"), function(seas) {\n",
    "    \n",
    "    rp <- return_periods[[seas]]                  # return period depending on variable\n",
    "    if(seas == \"ond\") { covnm_2 = \"nino_ond\" } else { covnm_2 = NA }      # OND needs second covariate\n",
    "    \n",
    "    # loop over all available models, get results for each\n",
    "    res <- sapply(list.files(\"ts\", pattern = paste0(\"pr-\",seas,\"_highres\"), full.names = T), function(fnm) {\n",
    "        \n",
    "        pr <- load_ts(fnm, col.names = c(\"year\", \"pr\"))\n",
    "        df <- merge(cov_df, pr)\n",
    "        df[\"log10pr\"] <- log10(df$pr)   # fit models to log precip, convert back at the end (more stable model fitting)\n",
    "        \n",
    "        data.frame(hiresmip_results(df, \"norm\", \"fixeddisp\", varnm = \"log10pr\", covnm_1 = \"gmst\", covnm_2 = covnm_2, lower = T, rp = rp, delta_relative = T, nsamp = 1000,\n",
    "                                       cov1_2022 = gmst_2022, cov1_hist = gmst_hist, cov1_fut = gmst_fut, \n",
    "                                       cov2_2022 = nino_2022, cov2_hist = nino_hist, cov2_fut = nino_fut))\n",
    "    }, simplify = F)\n",
    "    \n",
    "    # merge results into single dataframe, tidy rownames & save to csv\n",
    "    res <- do.call(\"rbind\", res)\n",
    "    rownames(res) <- gsub(\".dat\", \"\", gsub(\".+highresSST_\", \"\", rownames(res)))\n",
    "    write.csv(res, paste0(\"res/EA-drought_pr-\",seas,\"_highresmip_fitted.csv\"))\n",
    "}))"
   ]
  },
  {
   "cell_type": "markdown",
   "id": "02b11c48-e65f-4043-a286-1f63d88e7db4",
   "metadata": {},
   "source": [
    "#### **PET & SPEI**"
   ]
  },
  {
   "cell_type": "code",
   "execution_count": 126,
   "id": "d9486508-5859-4e8a-9c98-3c4b0122861c",
   "metadata": {},
   "outputs": [],
   "source": [
    "invisible(sapply(c(\"pet\", \"spei\"), function(varnm) {\n",
    "    \n",
    "    rp <- return_periods[[varnm]]                  # return period depending on variable\n",
    "    lower <- list(\"pet\" = F, \"spei\" = T)[[varnm]]                # consider lower or upper tail, depending on variable\n",
    "    relative_delta <- list(\"pet\" = T, \"spei\" = F)[[varnm]]\n",
    "    \n",
    "    # loop over all available models, get results for each\n",
    "    res <- sapply(list.files(\"ts\", pattern = paste0(varnm, \"-24_highres\"), full.names = T), function(fnm) {\n",
    "        \n",
    "        ts <- load_ts(fnm, col.names = c(\"year\", varnm))\n",
    "        ts <- ts[!is.na(ts[,varnm]),]   # only fit to finite SPEI values (avoids problem of truncation of high values)\n",
    "        df <- merge(cov_df, ts)\n",
    "        \n",
    "        data.frame(hiresmip_results(df, \"norm\", \"shift\", varnm = varnm, covnm_1 = \"gmst\", lower = lower, rp = rp, delta_relative = relative_delta, nsamp = 1000,\n",
    "                                       cov1_2022 = gmst_2022, cov1_hist = gmst_hist, cov1_fut = gmst_2022, \n",
    "                                       cov2_2022 = nino_2022, cov2_hist = nino_hist, cov2_fut = gmst_2022))\n",
    "        }, simplify = F)\n",
    "    \n",
    "    # merge results into single dataframe, tidy rownames & save to csv\n",
    "    res <- do.call(\"rbind\", res)\n",
    "    rownames(res) <- gsub(\".dat\", \"\", gsub(\".+highresSST_\", \"\", rownames(res)))\n",
    "    write.csv(res, paste0(\"res/EA-drought_\",varnm,\"-24_highresmip_fitted.csv\"))\n",
    "}))"
   ]
  },
  {
   "cell_type": "markdown",
   "id": "e076726a-0aec-435b-9f43-707b13185aa8",
   "metadata": {
    "tags": []
   },
   "source": [
    "#### **Joint distribution**\n",
    "_Plotting will be done in Python - however, R is better for model fitting & computing contour surfaces - hence saving them in a portable format_"
   ]
  },
  {
   "cell_type": "code",
   "execution_count": 80,
   "id": "75eb91a3-0549-4db7-bc34-e234e96ed826",
   "metadata": {},
   "outputs": [],
   "source": [
    "library(jsonlite) # need to save as json in order to load in python\n",
    "\n",
    "# observed GMST used as covariate for HighResMIP models\n",
    "gmst <- load_ts(\"ts/EA-drought_gmst-smoothed.dat\", col.names = c(\"year\", \"gmst\"))\n",
    "\n",
    "# fix covariate values\n",
    "gmst_2022 <- df$gmst[df$year == \"2022\"]\n",
    "gmst_hist <- gmst_2022 - 1.2\n",
    "gmst_fut <- gmst_2022 + 0.8\n",
    "\n",
    "\n",
    "# loop over files, get joint structure & contour surfaces\n",
    "invisible(sapply(sort(list.files(\"ts\", pattern = \"_pet-24_highresSST\", full.names = T)), function(fnm) {\n",
    "    \n",
    "    mdl <- gsub(\".+pet-24_\", \"\", gsub(\".dat\", \"\", fnm))\n",
    "\n",
    "    # load data\n",
    "    pet <- load_ts(fnm, col.names = c(\"year\", \"pet\"))\n",
    "    pr <- load_ts(gsub(\"pet\", \"pr\", fnm), col.names = c(\"year\", \"pr\"))\n",
    "    \n",
    "    df <- merge(merge(gmst, pet), pr)\n",
    "    df$log10pr <- log10(df$pr)\n",
    "    \n",
    "    # fit marginal distributions\n",
    "    mdl_pr <- fit_ns(\"norm\", \"fixeddisp\", df, varnm = \"log10pr\", covnm_1 = \"gmst\", lower = T)\n",
    "    mdl_pet <- fit_ns(\"norm\", \"shift\", df, varnm = \"pet\", covnm_1 = \"gmst\", lower = F)\n",
    "    \n",
    "    # get return levels in factual & counterfactual climates\n",
    "    rl_pr <- lapply(list(\"2022\" = gmst_2022, \"hist\" = gmst_hist, \"fut\" = gmst_fut), function(cov) {\n",
    "        map_from_u(1/return_periods[[\"24\"]], mdl_pr, cov1 = cov)\n",
    "    })\n",
    "    rl_pet <- lapply(list(\"2022\" = gmst_2022, \"hist\" = gmst_hist, \"fut\" = gmst_fut), function(cov) {\n",
    "        map_from_u(1/return_periods[[\"pet\"]], mdl_pet, cov1 = cov)\n",
    "    })\n",
    "    \n",
    "    # transform marginals to U\n",
    "    u_pr <- map_to_u(mdl_pr)\n",
    "    u_tas <- map_to_u(mdl_pet)\n",
    "    \n",
    "    # fit copula to u,v pairs\n",
    "    fitted_copula <- fitCopula(tCopula(), data = cbind(u_pr, u_tas), hideWarnings = T)  # warning message about using df.fixed is irrelevant: can't actually change this setting\n",
    "    cfit <- tCopula(coef(fitted_copula)[\"rho.1\"], df = round(coef(fitted_copula)[\"df\"], 0))  # has to be integer df for pCopula\n",
    "    \n",
    "    # get contour surfaces\n",
    "    contours <- list(\"coef\" = coef(fitted_copula),\n",
    "                     \"rl_pr\" = rl_pr,\n",
    "                     \"rp_pet\" = rl_pet,\n",
    "                     \"current\" = copula_mesh(mdl_pr, mdl_pet, cfit, gmst_2022), \n",
    "                     \"hist\" = copula_mesh(mdl_pr, mdl_pet, cfit, gmst_hist),\n",
    "                     \"fut\" = copula_mesh(mdl_pr, mdl_pet, cfit, gmst_fut))\n",
    "    \n",
    "    # save surfaces for plotting in python\n",
    "    write_json(contours, paste0(\"mv/joint-fit_pr-24_pet-24_\",mdl,\".json\"))\n",
    "}))"
   ]
  },
  {
   "cell_type": "markdown",
   "id": "5f99eb0e-39cf-442a-8826-f9a5dcdc9a2a",
   "metadata": {},
   "source": [
    "---\n",
    "## **Station data**"
   ]
  },
  {
   "cell_type": "code",
   "execution_count": null,
   "id": "228a9ff9-85ef-4bf2-9a06-739e795f986e",
   "metadata": {},
   "outputs": [],
   "source": [
    "source(\"../wwa_nonstationary_fitting.r\")\n",
    "\n",
    "# load covariate data\n",
    "df <- merge(load_ts(\"ts/EA-drought_gmst-smoothed.dat\", col.names = c(\"year\", \"gmst\")),\n",
    "            load_ts(\"ts/EA-drought_detrended-nino-ond.dat\", col.names = c(\"year\", \"nino_ond\")))\n",
    "\n",
    "# fix covariate values\n",
    "gmst_2022 <- df[df$year == 2022, \"gmst\"]\n",
    "gmst_cf <- gmst_2022 - 1.2\n",
    "\n",
    "ondnino_2022 <- ondnino_cf <- df[df$year == 2022, \"nino_ond\"]"
   ]
  },
  {
   "cell_type": "markdown",
   "id": "b9165abf-3e9e-462a-a71b-00a512d65e9d",
   "metadata": {},
   "source": [
    "### **Trend plots**"
   ]
  },
  {
   "cell_type": "code",
   "execution_count": null,
   "id": "858990a9-076d-467c-819e-9715d024988e",
   "metadata": {},
   "outputs": [],
   "source": [
    "# Trends in GMST\n",
    "prep_window(c(2,4))\n",
    "par(mar = c(3.5,3.5,3.5,3.5))\n",
    "invisible(sapply(list.files(\"ts\", pattern = \"24-month_stn\", full.names = T), function(fnm) {\n",
    "    \n",
    "    stn <- gsub(\".dat\", \"\", strsplit(fnm, \"-\")[[1]][5])\n",
    "    pr_df <- merge(df, load_ts(fnm, col.names = c(\"year\", \"precip\")))\n",
    "    pr_df[\"log10_pr\"] <- log10(pr_df$pr)\n",
    "    \n",
    "    mdl <- fit_ns(\"norm\", \"fixeddisp\", pr_df, varnm = \"log10_pr\", covnm_1 = \"gmst\", lower = T)\n",
    "    \n",
    "    plot_gmsttrend(mdl, cov1 = gmst_2022, cov1_cf = gmst_cf, cov2 = ondnino_2022, ylab = \"log10 precip\", legend_pos = NA, main = stn)\n",
    "    yticks <- c(50,seq(100,1500,100), seq(2000,5000,500))\n",
    "    axis(4, at = log10(yticks), labels = yticks)\n",
    "    mtext(\"Precip (mm)\", side = 4, line = 2.5, cex = par(\"cex\"))\n",
    "}))\n",
    "plot.new()\n",
    "legend(\"left\", legend = c(\"location\", \"1-in-6-year event\", \"1-in-40-year event\"), lty = 1, col = c(\"black\", rep(\"blue\", 2)), lwd = c(2,2,1))"
   ]
  },
  {
   "cell_type": "code",
   "execution_count": null,
   "id": "3cd02bd7-991a-475c-af01-05e4ea2fcf4e",
   "metadata": {},
   "outputs": [],
   "source": [
    "# Return level plots\n",
    "prep_window(c(2,4))\n",
    "par(mar = c(3.5,3.5,3.5,3.5))\n",
    "invisible(sapply(list.files(\"ts\", pattern = \"24-month_stn\", full.names = T), function(fnm) {\n",
    "    \n",
    "    stn <- gsub(\".dat\", \"\", strsplit(fnm, \"-\")[[1]][5])\n",
    "    pr_df <- merge(df, load_ts(fnm, col.names = c(\"year\", \"precip\")))\n",
    "    pr_df[\"log10_pr\"] <- log10(pr_df$pr)\n",
    "    \n",
    "    mdl <- fit_ns(\"norm\", \"fixeddisp\", pr_df, varnm = \"log10_pr\", covnm_1 = \"gmst\", lower = T)\n",
    "    \n",
    "    plot_returnperiods(mdl, cov1 = gmst_2022, cov1_cf = gmst_cf, cov2 = ondnino_2022, cov2_cf = ondnino_cf, ylab = \"log10 precip\", main = stn)\n",
    "    \n",
    "    yticks <- c(50,seq(100,1500,100), seq(2000,5000,500))\n",
    "    axis(4, at = log10(yticks), labels = yticks)\n",
    "    mtext(\"Precip (mm)\", side = 4, line = 2.5, cex = par(\"cex\"))\n",
    "    \n",
    "}))"
   ]
  },
  {
   "cell_type": "code",
   "execution_count": null,
   "id": "c4a8a74a-eaf9-4c33-88b8-bb9bebdf1042",
   "metadata": {
    "tags": []
   },
   "outputs": [],
   "source": [
    "# Trends over time\n",
    "\n",
    "prep_window(c(2,4))\n",
    "par(mar = c(3.5,3.5,3.5,3.5))\n",
    "invisible(sapply(list.files(\"ts\", pattern = \"24-month_stn\", full.names = T), function(fnm) {\n",
    "    \n",
    "    stn <- gsub(\".dat\", \"\", strsplit(fnm, \"-\")[[1]][5])\n",
    "    pr_df <- merge(df, load_ts(fnm, col.names = c(\"year\", \"precip\")))\n",
    "    pr_df[\"log10_pr\"] <- log10(pr_df$pr)\n",
    "    \n",
    "    mdl <- fit_ns(\"norm\", \"fixeddisp\", pr_df, varnm = \"log10_pr\", covnm_1 = \"gmst\", lower = T)\n",
    "    rp_2022 <- 1/map_to_u(mdl)[mdl$ev_idx]\n",
    "    \n",
    "    plot(pr_df[,c(\"year\", \"precip\")], type = \"S\", lwd = 2, xlab = \"\", ylab = \"\", col = adjustcolor(\"black\", alpha = 0.5), main = paste0(stn, \" (rp\", round(rp_2022,0),\")\"))\n",
    "    lines(pr_df$year, 10^ns_pars(mdl)$loc, type = \"S\", lwd = 2, col = \"black\")\n",
    "    lines(pr_df$year, 10^map_from_u(1/6, mdl, cov1 = mdl$cov1), col = \"blue\", lwd = 2, type = \"s\")\n",
    "    lines(pr_df$year, 10^map_from_u(1/40, mdl, cov1 = mdl$cov1), col = \"blue\", lwd = 1, type = \"s\")\n",
    "    \n",
    "    points(2022, pr_df$precip[pr_df$year == 2022], col = \"magenta\", pch = 20, cex = 2)\n",
    "    mtext(\"Precip (mm)\", side = 2, line = 2.5, cex = par(\"cex\"))\n",
    "}))\n",
    "plot.new()\n",
    "legend(\"left\", legend = c(\"location\", \"1-in-6-year event\", \"1-in-40-year event\"), lty = 1, col = c(\"black\", rep(\"blue\", 2)), lwd = c(2,2,1))"
   ]
  },
  {
   "cell_type": "markdown",
   "id": "8ca025e7-67a2-4066-8b99-112658110104",
   "metadata": {},
   "source": [
    "### **Tables of fitted trends**"
   ]
  },
  {
   "cell_type": "code",
   "execution_count": null,
   "id": "4bd69496-fccb-4a98-b9a4-8fcc3dd9036d",
   "metadata": {},
   "outputs": [],
   "source": [
    "stn_ond_res <- t(sapply(list.files(\"ts\", pattern = \"ond_stn\", full.names = T), function(fnm) {\n",
    "    \n",
    "    stn <- gsub(\".dat\", \"\", strsplit(fnm, \"-\")[[1]][5])\n",
    "    pr_df <- merge(df, load_ts(fnm, col.names = c(\"year\", \"precip\")))\n",
    "    pr_df[\"log10_pr\"] <- log10(pr_df$pr)\n",
    "    \n",
    "    bootstrap_obs_results(fit_ns(\"norm\", \"fixeddisp\", pr_df, varnm = \"log10_pr\", covnm_1 = \"gmst\", covnm_2 = \"nino_ond\", lower = T), nsamp = 1000,\n",
    "                          cov1 = gmst_2022, cov1_cf = gmst_cf, cov2 = ondnino_2022, cov2_cf = ondnino_cf, convert_logs = T)\n",
    "}))\n",
    "write.csv(stn_ond_res, \"res/EA-drought_pr-ond_stations_fitted.csv\")"
   ]
  },
  {
   "cell_type": "code",
   "execution_count": null,
   "id": "62dd6eaf-2cfc-43de-a8bd-c529bd98bd02",
   "metadata": {},
   "outputs": [],
   "source": [
    "stn_mam_res <- t(sapply(list.files(\"ts\", pattern = \"mam_stn\", full.names = T), function(fnm) {\n",
    "    \n",
    "    stn <- gsub(\".dat\", \"\", strsplit(fnm, \"-\")[[1]][5])\n",
    "    pr_df <- merge(df, load_ts(fnm, col.names = c(\"year\", \"precip\")))\n",
    "    pr_df[\"log10_pr\"] <- log10(pr_df$pr)\n",
    "    \n",
    "    bootstrap_obs_results(fit_ns(\"norm\", \"fixeddisp\", pr_df, varnm = \"log10_pr\", covnm_1 = \"gmst\", lower = T), nsamp = 1000,\n",
    "                          cov1 = gmst_2022, cov1_cf = gmst_cf, cov2 = ondnino_2022, cov2_cf = ondnino_cf, convert_logs = T)\n",
    "}))\n",
    "write.csv(stn_mam_res, \"res/EA-drought_pr-mam_stations_fitted.csv\")"
   ]
  },
  {
   "cell_type": "code",
   "execution_count": null,
   "id": "5eea2032-60b5-44bc-b238-4b2b56a3d0c5",
   "metadata": {
    "tags": []
   },
   "outputs": [],
   "source": [
    "stn_24_res <- t(sapply(list.files(\"ts\", pattern = \"24-month_stn\", full.names = T), function(fnm) {\n",
    "    \n",
    "    stn <- gsub(\".dat\", \"\", strsplit(fnm, \"-\")[[1]][5])\n",
    "    pr_df <- merge(df, load_ts(fnm, col.names = c(\"year\", \"precip\")))\n",
    "    pr_df[\"log10_pr\"] <- log10(pr_df$pr)\n",
    "    \n",
    "    bootstrap_obs_results(fit_ns(\"norm\", \"fixeddisp\", pr_df, varnm = \"log10_pr\", covnm_1 = \"gmst\", lower = T), nsamp = 1000,\n",
    "                          cov1 = gmst_2022, cov1_cf = gmst_cf, cov2 = ondnino_2022, cov2_cf = ondnino_cf, convert_logs = T)\n",
    "}))\n",
    "write.csv(stn_mam_res, \"res/EA-drought_pr-24_stations_fitted.csv\")"
   ]
  },
  {
   "cell_type": "code",
   "execution_count": null,
   "id": "6e324eb8-53d0-489e-862c-692b64bca846",
   "metadata": {},
   "outputs": [],
   "source": []
  }
 ],
 "metadata": {
  "kernelspec": {
   "display_name": "R [conda env:r_env]",
   "language": "R",
   "name": "conda-env-r_env-r"
  },
  "language_info": {
   "codemirror_mode": "r",
   "file_extension": ".r",
   "mimetype": "text/x-r-source",
   "name": "R",
   "pygments_lexer": "r",
   "version": "4.2.2"
  }
 },
 "nbformat": 4,
 "nbformat_minor": 5
}
