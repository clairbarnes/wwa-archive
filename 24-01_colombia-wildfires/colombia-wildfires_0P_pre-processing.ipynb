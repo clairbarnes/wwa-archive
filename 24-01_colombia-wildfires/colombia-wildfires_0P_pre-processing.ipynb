{
 "cells": [
  {
   "cell_type": "code",
   "execution_count": 1,
   "metadata": {},
   "outputs": [],
   "source": [
    "import sys; sys.path.append('../'); from wwa import *\n",
    "\n",
    "Xn, Xx, Yn, Yx = [-86,-57,-11,17] # larger area for spatial patterns etc\n",
    "xn, xx, yn, yx = [-80,-66,-3,13]\n",
    "\n",
    "# set path to ephemeral drive, where data will be stored temporarily, & live data repository\n",
    "eph_path = \"/rds/general/project/wwa/ephemeral/colombia-wildfires/\"\n",
    "data_path = \"/rds/general/project/wwa/live/data/\""
   ]
  },
  {
   "cell_type": "markdown",
   "metadata": {},
   "source": [
    "---\n",
    "# **Observational products**"
   ]
  },
  {
   "cell_type": "markdown",
   "metadata": {},
   "source": [
    "## **CHIRPS**"
   ]
  },
  {
   "cell_type": "code",
   "execution_count": null,
   "metadata": {},
   "outputs": [],
   "source": [
    "ds = xr.open_mfdataset(data_path + \"chirps_05/*.nc\").sel(longitude = slice(xn,xx), latitude = slice(yn, yx))\n",
    "ds.to_netcdf(\"data/pr_chirps05_colombia.nc\")"
   ]
  },
  {
   "cell_type": "code",
   "execution_count": null,
   "metadata": {},
   "outputs": [],
   "source": [
    "print(\"!\")"
   ]
  },
  {
   "cell_type": "markdown",
   "metadata": {},
   "source": [
    "## **MSWEP/MSWX**"
   ]
  },
  {
   "cell_type": "code",
   "execution_count": 2,
   "metadata": {},
   "outputs": [
    {
     "name": "stdout",
     "output_type": "stream",
     "text": [
      "2024\n",
      "2023\n",
      "2022\n"
     ]
    }
   ],
   "source": [
    "# cut out yearly slices of precip\n",
    "for y in range(2024, 1978, -1)[:3]:\n",
    "    \n",
    "    new_fnm = eph_path+\"mswx/pr_mswep_colombia_\"+str(y)+\".nc\"\n",
    "    if os.path.exists(new_fnm): continue\n",
    "    \n",
    "    print(y)\n",
    "    da = xr.open_mfdataset(data_path+\"mswep_*/\"+str(y)+\"*.nc\").sel(lon = slice(xn,xx), lat = slice(yx, yn))\n",
    "    wrap_lon(da).rename(precipitation = \"pr\").to_netcdf(new_fnm) "
   ]
  },
  {
   "cell_type": "code",
   "execution_count": 3,
   "metadata": {},
   "outputs": [
    {
     "name": "stdout",
     "output_type": "stream",
     "text": [
      "2024\n",
      "2023\n",
      "2022\n"
     ]
    }
   ],
   "source": [
    "varnm = \"tmax\"\n",
    "\n",
    "# cut out yearly slices\n",
    "for y in range(2024, 1978, -1)[:3]:\n",
    "    \n",
    "    new_fnm = eph_path+\"mswx/\"+varnm+\"_mswx_colombia_\"+str(y)+\".nc\"\n",
    "    if os.path.exists(new_fnm): continue\n",
    "    \n",
    "    print(y)\n",
    "    da = xr.open_mfdataset(data_path+\"mswx/\"+varnm+\"_*/\"+str(y)+\"*.nc\").sel(lon = slice(xn,xx), lat = slice(yx, yn))\n",
    "    wrap_lon(da).rename(air_temperature = varnm).to_netcdf(new_fnm)"
   ]
  },
  {
   "cell_type": "code",
   "execution_count": null,
   "metadata": {},
   "outputs": [],
   "source": []
  }
 ],
 "metadata": {
  "kernelspec": {
   "display_name": "wwa",
   "language": "python",
   "name": "wwa"
  },
  "language_info": {
   "codemirror_mode": {
    "name": "ipython",
    "version": 3
   },
   "file_extension": ".py",
   "mimetype": "text/x-python",
   "name": "python",
   "nbconvert_exporter": "python",
   "pygments_lexer": "ipython3",
   "version": "3.10.8"
  }
 },
 "nbformat": 4,
 "nbformat_minor": 2
}
