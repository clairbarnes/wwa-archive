{
 "cells": [
  {
   "cell_type": "code",
   "execution_count": 1,
   "id": "0f154b9a-f8fe-4aef-8b14-bf698c646346",
   "metadata": {},
   "outputs": [],
   "source": [
    "source(\"../wwa_model-fitting.R\")\n",
    "source(\"../00_model-fitting-dev/multivariate/model-fitting_multi-covariate.R\")"
   ]
  },
  {
   "cell_type": "markdown",
   "id": "b07925ea-dfb7-4372-a31c-b41b458203d7",
   "metadata": {},
   "source": [
    "## **Additional model fitting function**"
   ]
  },
  {
   "cell_type": "code",
   "execution_count": 2,
   "id": "636c6975-c7db-4871-9206-9ae5f29978c5",
   "metadata": {},
   "outputs": [],
   "source": [
    "cmodel_results <- function(mdl, rp = 10, cov_now, cov_hist, cov_fut, nsamp = 1000, seed = 42, di_relative = NA, y_start = 1979, y_now = 2023, y_fut = 2050) {\n",
    "    \n",
    "    set.seed(seed)\n",
    "    \n",
    "    # fill in missing parameters\n",
    "    if(is.na(di_relative)) di_relative <- mdl$type == \"fixeddisp\"\n",
    "    \n",
    "    #~~~~~~~~~~~~~~~~~~~~~~~~~~~~~~~~~~~~~~~~~~~~~~~~~~~~~~~~~~~~~~~~~~~~~~~\n",
    "    # FIT MODEL to three different subsets: for evaluation, attribution & projection\n",
    "    \n",
    "    df <- mdl$data\n",
    "    \n",
    "    # fit models\n",
    "    mdl_eval <- refit(mdl, new_df = df[df$year >= y_start & df$year <= y_now,])\n",
    "    mdl_attr <- refit(mdl, new_df = df[df$year <= y_now,])\n",
    "    mdl_proj <- refit(mdl, new_df = df[df$year <= y_fut,])\n",
    "    \n",
    "    # get return level to use for analysis\n",
    "    event_rl <- eff_return_level(mdl_attr, rp = rp, fixed_cov = cov_now)\n",
    "    \n",
    "    #~~~~~~~~~~~~~~~~~~~~~~~~~~~~~~~~~~~~~~~~~~~~~~~~~~~~~~~~~~~~~~~~~~~~~~~\n",
    "    ## Bootstrap each set of model results\n",
    "    \n",
    "    if(di_relative) { di_cnm <- \"dI_rel\" } else { di_cnm <- \"dI_abs\" }\n",
    "    if(mdl$type == \"fixeddisp\") { key_par <- \"disp\" } else { key_par <- \"sigma0\" }\n",
    "    if(mdl$dist == \"gev\") { key_par <- c(key_par, \"shape\") }\n",
    "    \n",
    "    ci_eval <- boot_ci(mdl_eval, cov = cov_now, cov_cf = cov_hist, ev = event_rl, rp = rp, nsamp = nsamp)[c(key_par),,drop = F]\n",
    "    ci_attr <- boot_ci(mdl_attr, cov = cov_now, cov_cf = cov_hist, ev = event_rl, rp = rp, nsamp = nsamp)[c(\"PR\", di_cnm),]\n",
    "    ci_proj <- boot_ci(mdl_proj, cov = cov_now, cov_cf = cov_fut, ev = event_rl, rp = rp, nsamp = nsamp)[c(\"PR\", di_cnm),]\n",
    "                       \n",
    "    # invert future projections\n",
    "    ci_proj[\"PR\",] <- 1/ci_proj[\"PR\",c(1,3,2)]\n",
    "    ci_proj[di_cnm,] <- -ci_proj[di_cnm, c(1,3,2)]\n",
    "    \n",
    "    # flatten & rename\n",
    "    ci_eval <- unlist(lapply(rownames(ci_eval), function(cnm) setNames(ci_eval[cnm,], paste(\"eval\", gsub(\"_\", \"-\", cnm), c(\"est\", \"lower\", \"upper\"), sep = \"_\"))))\n",
    "    ci_attr <- unlist(lapply(rownames(ci_attr), function(cnm) setNames(ci_attr[cnm,], paste(\"attr\", gsub(\"_\", \"-\", cnm), c(\"est\", \"lower\", \"upper\"), sep = \"_\"))))\n",
    "    ci_proj <- unlist(lapply(rownames(ci_proj), function(cnm) setNames(ci_proj[cnm,], paste(\"proj\", gsub(\"_\", \"-\", cnm), c(\"est\", \"lower\", \"upper\"), sep = \"_\"))))\n",
    "                         \n",
    "    #~~~~~~~~~~~~~~~~~~~~~~~~~~~~~~~~~~~~~~~~~~~~~~~~~~~~~~~~~~~~~~~~~~~~~~~\n",
    "    \n",
    "    res <- t(data.frame(c(ci_eval, \"rp_value\" = event_rl, ci_attr, ci_proj)))     \n",
    "    rownames(res) <- paste0(mdl$varnm, \" ~ \", paste0(mdl$covnm, collapse = \" + \"), \" (rp\", rp,\")\")\n",
    "    return(res)\n",
    "}"
   ]
  },
  {
   "cell_type": "markdown",
   "id": "4db81f79-cba5-4981-bdce-b3519141fc69",
   "metadata": {},
   "source": [
    "## **Example**"
   ]
  },
  {
   "cell_type": "code",
   "execution_count": 3,
   "id": "65e7cf4d-fd99-42d0-b41d-366b3d4f3b22",
   "metadata": {},
   "outputs": [],
   "source": [
    "df <- read.csv(\"df.csv\")"
   ]
  },
  {
   "cell_type": "code",
   "execution_count": 4,
   "id": "3900aa1f-0642-4621-82dc-44f273ac7680",
   "metadata": {},
   "outputs": [],
   "source": [
    "# fit basic form of model\n",
    "mdl <- fit_ns(\"gev\", \"shift\", data = df, varnm = \"var\", covnm = c(\"gmst\", \"nino\"))\n",
    "\n",
    "y_now <- 2024\n",
    "\n",
    "cov_2024 <- df[df$year == y_now,c(\"gmst\", \"nino\"),drop = F]\n",
    "cov_hist <- df[df$year == y_now,c(\"gmst\", \"nino\"),drop = F] - c(1.2,0)\n",
    "cov_fut <- df[df$year == y_now,c(\"gmst\", \"nino\"),drop = F] + c(0.8,0)"
   ]
  },
  {
   "cell_type": "code",
   "execution_count": 5,
   "id": "03e2e735-aa58-472c-bca7-d20df83196a1",
   "metadata": {},
   "outputs": [
    {
     "data": {
      "text/html": [
       "<table class=\"dataframe\">\n",
       "<caption>A matrix: 1 × 19 of type dbl</caption>\n",
       "<thead>\n",
       "\t<tr><th></th><th scope=col>eval_sigma0_est</th><th scope=col>eval_sigma0_lower</th><th scope=col>eval_sigma0_upper</th><th scope=col>eval_shape_est</th><th scope=col>eval_shape_lower</th><th scope=col>eval_shape_upper</th><th scope=col>rp_value</th><th scope=col>attr_PR_est</th><th scope=col>attr_PR_lower</th><th scope=col>attr_PR_upper</th><th scope=col>attr_dI-abs_est</th><th scope=col>attr_dI-abs_lower</th><th scope=col>attr_dI-abs_upper</th><th scope=col>proj_PR_est</th><th scope=col>proj_PR_lower</th><th scope=col>proj_PR_upper</th><th scope=col>proj_dI-abs_est</th><th scope=col>proj_dI-abs_lower</th><th scope=col>proj_dI-abs_upper</th></tr>\n",
       "</thead>\n",
       "<tbody>\n",
       "\t<tr><th scope=row>var ~ gmst + nino (rp30)</th><td>45.30121</td><td>30.76185</td><td>59.95657</td><td>0.1201768</td><td>-0.4568368</td><td>0.5024565</td><td>382.4078</td><td>1.19205</td><td>0.7972616</td><td>2.11497</td><td>14.57023</td><td>-15.57928</td><td>45.11507</td><td>1.28089</td><td>1.050817</td><td>2.069517</td><td>15.58985</td><td>3.61575</td><td>30.01042</td></tr>\n",
       "</tbody>\n",
       "</table>\n"
      ],
      "text/latex": [
       "A matrix: 1 × 19 of type dbl\n",
       "\\begin{tabular}{r|lllllllllllllllllll}\n",
       "  & eval\\_sigma0\\_est & eval\\_sigma0\\_lower & eval\\_sigma0\\_upper & eval\\_shape\\_est & eval\\_shape\\_lower & eval\\_shape\\_upper & rp\\_value & attr\\_PR\\_est & attr\\_PR\\_lower & attr\\_PR\\_upper & attr\\_dI-abs\\_est & attr\\_dI-abs\\_lower & attr\\_dI-abs\\_upper & proj\\_PR\\_est & proj\\_PR\\_lower & proj\\_PR\\_upper & proj\\_dI-abs\\_est & proj\\_dI-abs\\_lower & proj\\_dI-abs\\_upper\\\\\n",
       "\\hline\n",
       "\tvar \\textasciitilde{} gmst + nino (rp30) & 45.30121 & 30.76185 & 59.95657 & 0.1201768 & -0.4568368 & 0.5024565 & 382.4078 & 1.19205 & 0.7972616 & 2.11497 & 14.57023 & -15.57928 & 45.11507 & 1.28089 & 1.050817 & 2.069517 & 15.58985 & 3.61575 & 30.01042\\\\\n",
       "\\end{tabular}\n"
      ],
      "text/markdown": [
       "\n",
       "A matrix: 1 × 19 of type dbl\n",
       "\n",
       "| <!--/--> | eval_sigma0_est | eval_sigma0_lower | eval_sigma0_upper | eval_shape_est | eval_shape_lower | eval_shape_upper | rp_value | attr_PR_est | attr_PR_lower | attr_PR_upper | attr_dI-abs_est | attr_dI-abs_lower | attr_dI-abs_upper | proj_PR_est | proj_PR_lower | proj_PR_upper | proj_dI-abs_est | proj_dI-abs_lower | proj_dI-abs_upper |\n",
       "|---|---|---|---|---|---|---|---|---|---|---|---|---|---|---|---|---|---|---|---|\n",
       "| var ~ gmst + nino (rp30) | 45.30121 | 30.76185 | 59.95657 | 0.1201768 | -0.4568368 | 0.5024565 | 382.4078 | 1.19205 | 0.7972616 | 2.11497 | 14.57023 | -15.57928 | 45.11507 | 1.28089 | 1.050817 | 2.069517 | 15.58985 | 3.61575 | 30.01042 |\n",
       "\n"
      ],
      "text/plain": [
       "                         eval_sigma0_est eval_sigma0_lower eval_sigma0_upper\n",
       "var ~ gmst + nino (rp30) 45.30121        30.76185          59.95657         \n",
       "                         eval_shape_est eval_shape_lower eval_shape_upper\n",
       "var ~ gmst + nino (rp30) 0.1201768      -0.4568368       0.5024565       \n",
       "                         rp_value attr_PR_est attr_PR_lower attr_PR_upper\n",
       "var ~ gmst + nino (rp30) 382.4078 1.19205     0.7972616     2.11497      \n",
       "                         attr_dI-abs_est attr_dI-abs_lower attr_dI-abs_upper\n",
       "var ~ gmst + nino (rp30) 14.57023        -15.57928         45.11507         \n",
       "                         proj_PR_est proj_PR_lower proj_PR_upper\n",
       "var ~ gmst + nino (rp30) 1.28089     1.050817      2.069517     \n",
       "                         proj_dI-abs_est proj_dI-abs_lower proj_dI-abs_upper\n",
       "var ~ gmst + nino (rp30) 15.58985        3.61575           30.01042         "
      ]
     },
     "metadata": {},
     "output_type": "display_data"
    }
   ],
   "source": [
    "cmodel_results(mdl, rp = 30, cov_now = cov_2024, cov_hist = cov_hist, cov_fut = cov_fut, y_now = 2024)"
   ]
  },
  {
   "cell_type": "code",
   "execution_count": null,
   "id": "b44ed8a8-1d6a-4796-b258-0b4739f90974",
   "metadata": {},
   "outputs": [],
   "source": []
  }
 ],
 "metadata": {
  "kernelspec": {
   "display_name": "R [conda env:r_env]",
   "language": "R",
   "name": "conda-env-r_env-r"
  },
  "language_info": {
   "codemirror_mode": "r",
   "file_extension": ".r",
   "mimetype": "text/x-r-source",
   "name": "R",
   "pygments_lexer": "r",
   "version": "4.2.2"
  }
 },
 "nbformat": 4,
 "nbformat_minor": 5
}
