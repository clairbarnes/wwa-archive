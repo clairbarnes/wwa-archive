{
 "cells": [
  {
   "cell_type": "code",
   "execution_count": 1,
   "metadata": {},
   "outputs": [],
   "source": [
    "import sys; sys.path.append('/rds/general/user/cb2714/home/01_wwa/'); from wwa import *"
   ]
  },
  {
   "cell_type": "markdown",
   "metadata": {},
   "source": [
    "# **Convert Ben's netcdf files to .csv**"
   ]
  },
  {
   "cell_type": "code",
   "execution_count": 14,
   "metadata": {},
   "outputs": [],
   "source": [
    "for fnm in glob.glob(\"../../00_WWA_project_folder/ephemeral/amazon_drought/cx_*_era.nc\"):\n",
    "    ts = decode_times(xr.open_dataset(fnm, decode_times = False))\n",
    "    ts.assign_coords(time = ts.time.dt.year).rename(time = \"year\").to_pandas().to_csv(\"ts/era5_\"+fnm.split(\"_\")[-2]+\".csv\")"
   ]
  },
  {
   "cell_type": "code",
   "execution_count": 5,
   "metadata": {},
   "outputs": [],
   "source": [
    "for fnm in glob.glob(\"../../00_WWA_project_folder/ephemeral/amazon_drought/obs_trends/*.nc\"):\n",
    "    ts = decode_times(xr.open_dataset(fnm, decode_times = False))\n",
    "    ts.assign_coords(time = ts.time.dt.year).rename(time = \"year\").to_pandas().to_csv(re.sub(\".nc\", \".csv\",\"ts/\"+fnm.split(\"/\")[-1]))"
   ]
  },
  {
   "cell_type": "code",
   "execution_count": 4,
   "metadata": {},
   "outputs": [],
   "source": [
    "ts = xr.open_dataset(\"../../00_WWA_project_folder/ephemeral/amazon_drought/mswep_pr_trend.nc\").precipitation\n",
    "ts = ts.assign_coords(time = ts.time.dt.year).rename(\"pr\", time = \"year\")"
   ]
  },
  {
   "cell_type": "code",
   "execution_count": 8,
   "metadata": {},
   "outputs": [],
   "source": [
    "ts.to_dataframe().to_csv(\"ts/cx_pr6_ms.csv\")"
   ]
  },
  {
   "cell_type": "code",
   "execution_count": null,
   "metadata": {},
   "outputs": [],
   "source": []
  }
 ],
 "metadata": {
  "kernelspec": {
   "display_name": "wwa",
   "language": "python",
   "name": "wwa"
  },
  "language_info": {
   "codemirror_mode": {
    "name": "ipython",
    "version": 3
   },
   "file_extension": ".py",
   "mimetype": "text/x-python",
   "name": "python",
   "nbconvert_exporter": "python",
   "pygments_lexer": "ipython3",
   "version": "3.10.8"
  }
 },
 "nbformat": 4,
 "nbformat_minor": 2
}
