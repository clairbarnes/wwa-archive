{
 "cells": [
  {
   "cell_type": "code",
   "execution_count": 1,
   "id": "abbbb341-2d07-4a38-8ee8-0d12e59f874e",
   "metadata": {},
   "outputs": [],
   "source": [
    "source(\"../00_model-fitting/wwa_model-fitting.R\")"
   ]
  },
  {
   "cell_type": "markdown",
   "id": "f0f12ed7-d628-4ced-93c7-5a0b6dfc497d",
   "metadata": {},
   "source": [
    "## **Linear trend in log10_cumDSR**"
   ]
  },
  {
   "cell_type": "markdown",
   "id": "e6c14453-d879-403d-90c4-06f1d1cfeab9",
   "metadata": {},
   "source": [
    "### **Prep data**"
   ]
  },
  {
   "cell_type": "code",
   "execution_count": 2,
   "id": "388f91f4-476e-4379-a2ca-685af084fcf8",
   "metadata": {},
   "outputs": [],
   "source": [
    "# load data\n",
    "gmst <- read.fwf(\"/home/clair/Data/gmst.dat\", comment.char = \"#\", widths = c(5,15), col.names = c(\"year\", \"gmst\"))\n",
    "cdsr <- read.csv(\"data/era5_cdsr.csv\")\n",
    "\n",
    "# take base10 log of DSR as in original study\n",
    "log10_cdsr <- sapply(colnames(cdsr)[-1], function(cnm) log10(cdsr[,cnm]))\n",
    "colnames(log10_cdsr) <- paste0(\"log10_\", colnames(log10_cdsr))       \n",
    "log10_cdsr <- data.frame(\"year\" = cdsr$year, log10_cdsr)\n",
    "                     \n",
    "# merge into single dataframe\n",
    "df <- merge(gmst, log10_cdsr)"
   ]
  },
  {
   "cell_type": "markdown",
   "id": "0b5df83f-7de3-44e3-a661-1a56971ba625",
   "metadata": {},
   "source": [
    "### **Check distribution of log10_cumDSR**"
   ]
  },
  {
   "cell_type": "code",
   "execution_count": 3,
   "id": "3e4b4678-ce9d-451a-8d64-adcecc822ba0",
   "metadata": {},
   "outputs": [
    {
     "data": {
      "text/html": [
       "<strong>png:</strong> 2"
      ],
      "text/latex": [
       "\\textbf{png:} 2"
      ],
      "text/markdown": [
       "**png:** 2"
      ],
      "text/plain": [
       "png \n",
       "  2 "
      ]
     },
     "metadata": {},
     "output_type": "display_data"
    }
   ],
   "source": [
    "prep_window(c(4,4))\n",
    "x <- seq(0.6,3,0.01)\n",
    "\n",
    "jpeg(\"fig/expl_era5_cdsr-fit.jpg\", width = 480 * 3, height = 480 * 2); par(mfrow = c(4,4), lwd = 2, cex = 1.2, mar = c(3,3,2,1)); {\n",
    "    invisible(sapply(colnames(df)[-(1:2)], function(cnm) { \n",
    "        ts <- df[,cnm]\n",
    "        hist(ts, prob = T, xlim = c(0.8,3), ylim = c(0,3), main = cnm, xlab = \"\", ylab = \"\")\n",
    "        lines(density(ts))\n",
    "        lines(x, dnorm(x, mean(ts), sd(ts)), col = \"blue\")\n",
    "    }))\n",
    "}; dev.off()"
   ]
  },
  {
   "cell_type": "markdown",
   "id": "197ed0a4-6bb2-4448-9ef9-f2730ffc6a31",
   "metadata": {},
   "source": [
    "### **Fit linear trend model**"
   ]
  },
  {
   "cell_type": "code",
   "execution_count": 4,
   "id": "7bc433a5-e4da-4808-a011-56315cfcae95",
   "metadata": {},
   "outputs": [],
   "source": [
    "models <- sapply(colnames(df)[-(1:2)], function(cnm) fit_ns(\"norm\", \"shift\", df, cnm, \"gmst\", lower = F), simplify = F)\n",
    "gmst_2023 <- gmst[gmst$year == 2023, \"gmst\"]\n",
    "gmst_hist <- gmst_2023 - 1.2"
   ]
  },
  {
   "cell_type": "code",
   "execution_count": 5,
   "id": "ef07d727-8922-4cb3-b9ae-9075f0fd8844",
   "metadata": {},
   "outputs": [],
   "source": [
    "res <- sapply(models, function(mdl) mdl_ests(mdl, cov = gmst_2023, cov_cf = gmst_hist, ev = mdl$ev))"
   ]
  },
  {
   "cell_type": "code",
   "execution_count": 6,
   "id": "4bf46a93-ce74-4b91-9dbc-af033ecf2009",
   "metadata": {},
   "outputs": [],
   "source": [
    "write.csv(res, file = \"res/cdsr_lineartrend-ests.csv\")"
   ]
  },
  {
   "cell_type": "code",
   "execution_count": 7,
   "id": "f85c25b3-0ab7-4ead-96a9-3e61348b806f",
   "metadata": {},
   "outputs": [
    {
     "data": {
      "text/html": [
       "<strong>png:</strong> 2"
      ],
      "text/latex": [
       "\\textbf{png:} 2"
      ],
      "text/markdown": [
       "**png:** 2"
      ],
      "text/plain": [
       "png \n",
       "  2 "
      ]
     },
     "metadata": {},
     "output_type": "display_data"
    }
   ],
   "source": [
    "prep_window(c(4,4))\n",
    "\n",
    "jpeg(\"fig/expl_era5_cdsr-trend.jpg\", width = 480 * 3, height = 480 * 2); par(mfrow = c(4,4), lwd = 2, cex = 1.2, mar = c(3,3,2,1)); {\n",
    "    invisible(lapply(models, function(mdl) { \n",
    "        plot_trend(mdl, legend_pos = NA, main = mdl$varnm)\n",
    "        lines(df$year, filter(mdl$x, rep(1/15,15), sides = 2), col = \"forestgreen\", lwd = 2)\n",
    "    }))\n",
    "}; dev.off()"
   ]
  },
  {
   "cell_type": "code",
   "execution_count": 8,
   "id": "df09f986-88da-4276-bb0c-325ceb32cb71",
   "metadata": {},
   "outputs": [
    {
     "data": {
      "text/html": [
       "<strong>png:</strong> 2"
      ],
      "text/latex": [
       "\\textbf{png:} 2"
      ],
      "text/markdown": [
       "**png:** 2"
      ],
      "text/plain": [
       "png \n",
       "  2 "
      ]
     },
     "metadata": {},
     "output_type": "display_data"
    }
   ],
   "source": [
    "prep_window(c(4,4))\n",
    "\n",
    "jpeg(\"fig/expl_era5_cdsr-gmsttrend.jpg\", width = 480 * 3, height = 480 * 2); par(mfrow = c(4,4), lwd = 2, cex = 1.2, mar = c(3,3,2,1)); {\n",
    "    invisible(lapply(models, function(mdl) { \n",
    "        plot_gmsttrend(mdl, legend_pos = NA, main = mdl$varnm, cov = gmst_2023, cov_cf = gmst_hist)\n",
    "        lines(df$gmst[order(df$gmst)], filter(mdl$x[order(df$gmst)], rep(1/15,15), sides = 2), col = \"forestgreen\", lwd = 2)\n",
    "    }))\n",
    "}; dev.off()"
   ]
  },
  {
   "cell_type": "code",
   "execution_count": 9,
   "id": "336ae712-99ad-4470-9464-3090385891af",
   "metadata": {},
   "outputs": [
    {
     "data": {
      "text/html": [
       "<strong>png:</strong> 2"
      ],
      "text/latex": [
       "\\textbf{png:} 2"
      ],
      "text/markdown": [
       "**png:** 2"
      ],
      "text/plain": [
       "png \n",
       "  2 "
      ]
     },
     "metadata": {},
     "output_type": "display_data"
    }
   ],
   "source": [
    "prep_window(c(4,4))\n",
    "\n",
    "jpeg(\"fig/expl_era5_cdsr-rlplots.jpg\", width = 480 * 3, height = 480 * 2); par(mfrow = c(4,4), lwd = 2, cex = 1.2, mar = c(3,3,2,1)); {\n",
    "    invisible(lapply(models, function(mdl) { \n",
    "        plot_returnlevels(mdl, legend_pos = NA, main = mdl$varnm, cov = gmst_2023, cov_cf = gmst_hist)\n",
    "    }))\n",
    "}; dev.off()"
   ]
  },
  {
   "cell_type": "markdown",
   "id": "92e34aad-a0d7-45d1-8976-ba4f98ecb2e9",
   "metadata": {},
   "source": [
    "---\n",
    "## **Sensitivity to start of time series (ERA5)**"
   ]
  },
  {
   "cell_type": "code",
   "execution_count": 10,
   "id": "ac8cdf45-8e7d-44c1-837d-a398f1441cc6",
   "metadata": {},
   "outputs": [],
   "source": [
    "# load data\n",
    "gmst <- read.fwf(\"/home/clair/Data/gmst.dat\", comment.char = \"#\", widths = c(5,15), col.names = c(\"year\", \"gmst\"))\n",
    "cdsr <- read.csv(\"data/era5_cdsr.csv\")\n",
    "\n",
    "# take base10 log of DSR as in original study\n",
    "log10_cdsr <- sapply(colnames(cdsr)[-1], function(cnm) log10(cdsr[,cnm]))\n",
    "colnames(log10_cdsr) <- paste0(\"log10_\", colnames(log10_cdsr))       \n",
    "log10_cdsr <- data.frame(\"year\" = cdsr$year, log10_cdsr)\n",
    "                     \n",
    "# merge into single dataframe\n",
    "df <- merge(gmst, log10_cdsr)\n",
    "                     \n",
    "# fit all the models, also excluding years prior to 1950/1960\n",
    "models_1940 <- sapply(colnames(df)[-(1:2)], function(cnm) fit_ns(\"norm\", \"shift\", df[df$year >= 1940,], cnm, \"gmst\", lower = F), simplify = F)\n",
    "models_1950 <- sapply(colnames(df)[-(1:2)], function(cnm) fit_ns(\"norm\", \"shift\", df[df$year >= 1950,], cnm, \"gmst\", lower = F), simplify = F)\n",
    "models_1960 <- sapply(colnames(df)[-(1:2)], function(cnm) fit_ns(\"norm\", \"shift\", df[df$year >= 1960,], cnm, \"gmst\", lower = F), simplify = F)\n",
    "\n",
    "gmst_2023 <- gmst[gmst$year == 2023, \"gmst\"]\n",
    "gmst_hist <- gmst_2023 - 1.2"
   ]
  },
  {
   "cell_type": "code",
   "execution_count": 11,
   "id": "071d93ff-e1e5-4470-aa79-10e030cd479a",
   "metadata": {},
   "outputs": [
    {
     "data": {
      "text/html": [
       "<strong>png:</strong> 2"
      ],
      "text/latex": [
       "\\textbf{png:} 2"
      ],
      "text/markdown": [
       "**png:** 2"
      ],
      "text/plain": [
       "png \n",
       "  2 "
      ]
     },
     "metadata": {},
     "output_type": "display_data"
    }
   ],
   "source": [
    "prep_window(c(4,4))\n",
    "\n",
    "jpeg(\"fig/expl-sa_era5_cdsr-trend_start-sensitivity.jpg\", width = 480 * 3, height = 480 * 2); par(mfrow = c(4,4), lwd = 2, cex = 1.2, mar = c(3,3,2,1)); {\n",
    "    invisible(sapply(1:16, function(i) {    \n",
    "        plot(df$year, df[,-(1:2)][,i], type = \"S\", main = models_1940[[i]]$varnm)\n",
    "\n",
    "        lines(models_1940[[i]]$data$year, ns_pars(models_1940[[i]])$loc)\n",
    "        lines(models_1950[[i]]$data$year, ns_pars(models_1950[[i]])$loc, col = \"darkblue\")\n",
    "        lines(models_1960[[i]]$data$year, ns_pars(models_1960[[i]])$loc, col = \"darkred\")\n",
    "        \n",
    "        lines(df$year, filter(models_1940[[i]]$x, rep(1/15,15), sides = 2), col = \"forestgreen\", lwd = 2)\n",
    "\n",
    "    }))\n",
    "}; dev.off()"
   ]
  },
  {
   "cell_type": "code",
   "execution_count": 12,
   "id": "f6c97eb4-366e-46e5-8472-ffc867c4b03f",
   "metadata": {},
   "outputs": [
    {
     "data": {
      "text/html": [
       "<strong>png:</strong> 2"
      ],
      "text/latex": [
       "\\textbf{png:} 2"
      ],
      "text/markdown": [
       "**png:** 2"
      ],
      "text/plain": [
       "png \n",
       "  2 "
      ]
     },
     "metadata": {},
     "output_type": "display_data"
    }
   ],
   "source": [
    "prep_window(c(4,4))\n",
    "\n",
    "jpeg(\"fig/expl-sa_era5_cdsr-gmsttrend_start-sensitivity.jpg\", width = 480 * 3, height = 480 * 2); par(mfrow = c(4,4), lwd = 2, cex = 1.2, pch = 20, mar = c(3,3,2,1)); {\n",
    "    invisible(sapply(1:16, function(i) {    \n",
    "        plot(df$gmst, df[,-(1:2)][,i], main = models_1940[[i]]$varnm, ylab = models_1940[[i]]$varnm)\n",
    "\n",
    "        lines(models_1940[[i]]$data$gmst, ns_pars(models_1940[[i]])$loc)\n",
    "        lines(models_1950[[i]]$data$gmst, ns_pars(models_1950[[i]])$loc, col = \"darkblue\")\n",
    "        lines(models_1960[[i]]$data$gmst, ns_pars(models_1960[[i]])$loc, col = \"darkred\")\n",
    "        \n",
    "        lines(df$gmst, eff_return_level(6, models_1940[[i]], fixed_cov = df$gmst))\n",
    "        lines(df$gmst, eff_return_level(6, models_1950[[i]], fixed_cov = df$gmst), col = \"darkblue\")\n",
    "        lines(df$gmst, eff_return_level(6, models_1960[[i]], fixed_cov = df$gmst), col = \"darkred\")\n",
    "        \n",
    "        lines(df$gmst[order(df$gmst)], filter(models_1940[[i]]$x[order(df$gmst)], rep(1/15,15), sides = 2), col = \"forestgreen\", lwd = 2)\n",
    "        points(df[df$year == 2023, c(\"gmst\", models_1940[[i]]$varnm)], pch = 0, col = \"magenta\", lwd = 2)\n",
    "\n",
    "    }))\n",
    "}; dev.off()"
   ]
  },
  {
   "cell_type": "code",
   "execution_count": null,
   "id": "40a0890f-bd26-47ae-b9ff-049d36917749",
   "metadata": {},
   "outputs": [],
   "source": []
  }
 ],
 "metadata": {
  "kernelspec": {
   "display_name": "R [conda env:r_env]",
   "language": "R",
   "name": "conda-env-r_env-r"
  },
  "language_info": {
   "codemirror_mode": "r",
   "file_extension": ".r",
   "mimetype": "text/x-r-source",
   "name": "R",
   "pygments_lexer": "r",
   "version": "4.2.2"
  }
 },
 "nbformat": 4,
 "nbformat_minor": 5
}
