{
 "cells": [
  {
   "cell_type": "markdown",
   "metadata": {},
   "source": [
    "## **Loop over GCM & RCM realisations**"
   ]
  },
  {
   "cell_type": "code",
   "execution_count": 17,
   "metadata": {},
   "outputs": [],
   "source": [
    "from IPython.display import clear_output\n",
    "import os, glob\n",
    "from datetime import datetime"
   ]
  },
  {
   "cell_type": "code",
   "execution_count": 15,
   "metadata": {},
   "outputs": [],
   "source": [
    "import xarray as xr\n",
    "da = xr.open_dataset(\"../00_WWA_project_folder/ephemeral/canada_fwi/99_processing/cordex/\")"
   ]
  },
  {
   "cell_type": "code",
   "execution_count": 20,
   "metadata": {},
   "outputs": [],
   "source": [
    "glob.glob(\"../00_WWA_project_folder/ephemeral/canada_fwi/99_processing/cordex/pr*\")"
   ]
  },
  {
   "cell_type": "code",
   "execution_count": 21,
   "metadata": {},
   "outputs": [
    {
     "name": "stdout",
     "output_type": "stream",
     "text": [
      "/bin/bash: which: line 1: syntax error: unexpected end of file\n",
      "/bin/bash: error importing function definition for `which'\n",
      "/bin/bash: module: line 1: syntax error: unexpected end of file\n",
      "/bin/bash: error importing function definition for `module'\n",
      "/bin/bash: scl: line 1: syntax error: unexpected end of file\n",
      "/bin/bash: error importing function definition for `scl'\n",
      "/bin/bash: ml: line 1: syntax error: unexpected end of file\n",
      "/bin/bash: error importing function definition for `ml'\n",
      "/rds/general/ephemeral/project/wwa/ephemeral/canada_fwi/can_lens\n"
     ]
    }
   ],
   "source": [
    "!pwd"
   ]
  },
  {
   "cell_type": "code",
   "execution_count": 5,
   "metadata": {},
   "outputs": [
    {
     "name": "stdout",
     "output_type": "stream",
     "text": [
      "/bin/bash: which: line 1: syntax error: unexpected end of file\n",
      "/bin/bash: error importing function definition for `which'\n",
      "/bin/bash: module: line 1: syntax error: unexpected end of file\n",
      "/bin/bash: error importing function definition for `module'\n",
      "/bin/bash: scl: line 1: syntax error: unexpected end of file\n",
      "/bin/bash: error importing function definition for `scl'\n",
      "/bin/bash: ml: line 1: syntax error: unexpected end of file\n",
      "/bin/bash: error importing function definition for `ml'\n",
      "/rds/general/ephemeral/project/wwa/ephemeral/canada_fwi/can_lens\n"
     ]
    }
   ],
   "source": [
    "glob.glob(\"r1_r1/snd_NAM-44_CCCma-CanESM2_historical-r1_r1i1p1_CCCma-CanRCM4_r2_day_19500101-19501231.nc\")"
   ]
  },
  {
   "cell_type": "code",
   "execution_count": 21,
   "metadata": {},
   "outputs": [],
   "source": [
    "fpath = \"https://crd-data-donnees-rdc.ec.gc.ca/CCCMA/products/CanSISE/output/CCCma/CanRCM4/\"\n",
    "times = {}\n",
    "for gcm in [\"r\"+str(i) for i in range(1,6)]:\n",
    "    for rcm in [\"r\"+str(i) for i in range(1,8)]:\n",
    "        \n",
    "        newdir = gcm+\"_\"+rcm\n",
    "        if not os.path.exists(newdir):\n",
    "            ! mkdir -p ${newdir} \n",
    "        times[newdir] = {\"start\" : datetime.now()}\n",
    "                \n",
    "        # 3-hourly data\n",
    "        for varbl in [\"hurs\", \"tas\", \"pr\", \"sfcWind\"]:\n",
    "            for y in range(1950, 2051):\n",
    "                \n",
    "                fnm = \"NAM-44_CCCma-CanESM2_historical-\"+gcm+\"/3hr/atmos/\"+varbl+\"/\"+rcm+\"i1p1/\"+varbl+\"_NAM-44_CCCma-CanESM2_historical-\"+gcm+\"_\"+rcm+\"i1p1_CCCma-CanRCM4_r2_3hr_\"+str(y)+\"010103-\"+str(y+1)+\"010100.nc\"\n",
    "                if not os.path.exists(newdir+\"/\"+fnm.split(\"/\")[-1]):\n",
    "                    fnm = fpath + fnm+\" -P \"+newdir\n",
    "                    ! wget $fnm\n",
    "                    clear_output(wait = False) \n",
    "            \n",
    "        # daily data\n",
    "        for varbl in [\"snd\"]:\n",
    "            \n",
    "            fnm = fpath+\"NAM-44_CCCma-CanESM2_historical-\"+gcm+\"/day/atmos/\"+varbl+\"/\"+rcm+\"i1p1/\"+varbl+\"_NAM-44_CCCma-CanESM2_historical-\"+gcm+\"_\"+rcm+\"i1p1_CCCma-CanRCM4_r2_day_19500101-19501231.nc -P \"+gcm+\"_\"+rcm\n",
    "            \n",
    "            for y in range(1951, 2051, 5):\n",
    "                fnm = \"NAM-44_CCCma-CanESM2_historical-\"+gcm+\"/day/atmos/\"+varbl+\"/\"+rcm+\"i1p1/\"+varbl+\"_NAM-44_CCCma-CanESM2_historical-\"+gcm+\"_\"+rcm+\"i1p1_CCCma-CanRCM4_r2_day_\"+str(y)+\"0101-\"+str(y+4)+\"1231.nc\"\n",
    "                if not os.path.exists(gcm+\"_\"+rcm+\"/\"+fnm.split(\"/\")[-1]):\n",
    "                    fnm = fpath+fnm+\" -P \"+gcm+\"_\"+rcm\n",
    "                    ! wget $fnm\n",
    "                    clear_output(wait = False)\n",
    "        \n",
    "        times[newdir][\"end\"] = datetime.now()"
   ]
  },
  {
   "cell_type": "code",
   "execution_count": 24,
   "metadata": {},
   "outputs": [
    {
     "data": {
      "text/plain": [
       "[['141 r1_r1/snd_NAM-44_CCCma-CanESM2_historical-r1_r1i1p1_CCCma-CanRCM4_r2_day_19510101-19551231.nc',\n",
       "  '141 r1_r1/snd_NAM-44_CCCma-CanESM2_historical-r1_r1i1p1_CCCma-CanRCM4_r2_day_19560101-19601231.nc',\n",
       "  '141 r1_r1/snd_NAM-44_CCCma-CanESM2_historical-r1_r1i1p1_CCCma-CanRCM4_r2_day_19610101-19651231.nc',\n",
       "  '141 r1_r1/snd_NAM-44_CCCma-CanESM2_historical-r1_r1i1p1_CCCma-CanRCM4_r2_day_19660101-19701231.nc',\n",
       "  '141 r1_r1/snd_NAM-44_CCCma-CanESM2_historical-r1_r1i1p1_CCCma-CanRCM4_r2_day_19710101-19751231.nc'],\n",
       " ['141 r1_r2/snd_NAM-44_CCCma-CanESM2_historical-r1_r2i1p1_CCCma-CanRCM4_r2_day_19510101-19551231.nc',\n",
       "  '141 r1_r2/snd_NAM-44_CCCma-CanESM2_historical-r1_r2i1p1_CCCma-CanRCM4_r2_day_19560101-19601231.nc',\n",
       "  '141 r1_r2/snd_NAM-44_CCCma-CanESM2_historical-r1_r2i1p1_CCCma-CanRCM4_r2_day_19610101-19651231.nc',\n",
       "  '141 r1_r2/snd_NAM-44_CCCma-CanESM2_historical-r1_r2i1p1_CCCma-CanRCM4_r2_day_19660101-19701231.nc',\n",
       "  '141 r1_r2/snd_NAM-44_CCCma-CanESM2_historical-r1_r2i1p1_CCCma-CanRCM4_r2_day_19710101-19751231.nc'],\n",
       " ['141 r1_r3/snd_NAM-44_CCCma-CanESM2_historical-r1_r3i1p1_CCCma-CanRCM4_r2_day_19510101-19551231.nc',\n",
       "  '141 r1_r3/snd_NAM-44_CCCma-CanESM2_historical-r1_r3i1p1_CCCma-CanRCM4_r2_day_19560101-19601231.nc',\n",
       "  '141 r1_r3/snd_NAM-44_CCCma-CanESM2_historical-r1_r3i1p1_CCCma-CanRCM4_r2_day_19610101-19651231.nc',\n",
       "  '141 r1_r3/snd_NAM-44_CCCma-CanESM2_historical-r1_r3i1p1_CCCma-CanRCM4_r2_day_19660101-19701231.nc',\n",
       "  '141 r1_r3/snd_NAM-44_CCCma-CanESM2_historical-r1_r3i1p1_CCCma-CanRCM4_r2_day_19710101-19751231.nc'],\n",
       " ['141 r1_r4/snd_NAM-44_CCCma-CanESM2_historical-r1_r4i1p1_CCCma-CanRCM4_r2_day_19510101-19551231.nc',\n",
       "  '141 r1_r4/snd_NAM-44_CCCma-CanESM2_historical-r1_r4i1p1_CCCma-CanRCM4_r2_day_19560101-19601231.nc',\n",
       "  '141 r1_r4/snd_NAM-44_CCCma-CanESM2_historical-r1_r4i1p1_CCCma-CanRCM4_r2_day_19610101-19651231.nc',\n",
       "  '141 r1_r4/snd_NAM-44_CCCma-CanESM2_historical-r1_r4i1p1_CCCma-CanRCM4_r2_day_19660101-19701231.nc',\n",
       "  '141 r1_r4/snd_NAM-44_CCCma-CanESM2_historical-r1_r4i1p1_CCCma-CanRCM4_r2_day_19710101-19751231.nc'],\n",
       " ['141 r1_r5/snd_NAM-44_CCCma-CanESM2_historical-r1_r5i1p1_CCCma-CanRCM4_r2_day_19510101-19551231.nc',\n",
       "  '141 r1_r5/snd_NAM-44_CCCma-CanESM2_historical-r1_r5i1p1_CCCma-CanRCM4_r2_day_19560101-19601231.nc',\n",
       "  '141 r1_r5/snd_NAM-44_CCCma-CanESM2_historical-r1_r5i1p1_CCCma-CanRCM4_r2_day_19610101-19651231.nc',\n",
       "  '141 r1_r5/snd_NAM-44_CCCma-CanESM2_historical-r1_r5i1p1_CCCma-CanRCM4_r2_day_19660101-19701231.nc',\n",
       "  '141 r1_r5/snd_NAM-44_CCCma-CanESM2_historical-r1_r5i1p1_CCCma-CanRCM4_r2_day_19710101-19751231.nc'],\n",
       " ['141 r1_r6/snd_NAM-44_CCCma-CanESM2_historical-r1_r6i1p1_CCCma-CanRCM4_r2_day_19510101-19551231.nc',\n",
       "  '141 r1_r6/snd_NAM-44_CCCma-CanESM2_historical-r1_r6i1p1_CCCma-CanRCM4_r2_day_19560101-19601231.nc',\n",
       "  '141 r1_r6/snd_NAM-44_CCCma-CanESM2_historical-r1_r6i1p1_CCCma-CanRCM4_r2_day_19610101-19651231.nc',\n",
       "  '141 r1_r6/snd_NAM-44_CCCma-CanESM2_historical-r1_r6i1p1_CCCma-CanRCM4_r2_day_19660101-19701231.nc',\n",
       "  '141 r1_r6/snd_NAM-44_CCCma-CanESM2_historical-r1_r6i1p1_CCCma-CanRCM4_r2_day_19710101-19751231.nc'],\n",
       " ['141 r1_r7/snd_NAM-44_CCCma-CanESM2_historical-r1_r7i1p1_CCCma-CanRCM4_r2_day_19510101-19551231.nc',\n",
       "  '141 r1_r7/snd_NAM-44_CCCma-CanESM2_historical-r1_r7i1p1_CCCma-CanRCM4_r2_day_19560101-19601231.nc',\n",
       "  '141 r1_r7/snd_NAM-44_CCCma-CanESM2_historical-r1_r7i1p1_CCCma-CanRCM4_r2_day_19610101-19651231.nc',\n",
       "  '141 r1_r7/snd_NAM-44_CCCma-CanESM2_historical-r1_r7i1p1_CCCma-CanRCM4_r2_day_19660101-19701231.nc',\n",
       "  '141 r1_r7/snd_NAM-44_CCCma-CanESM2_historical-r1_r7i1p1_CCCma-CanRCM4_r2_day_19710101-19751231.nc']]"
      ]
     },
     "execution_count": 24,
     "metadata": {},
     "output_type": "execute_result"
    }
   ],
   "source": [
    "# check that all files are successfully downloaded, no partial data\n",
    "[sorted([str(round(os.stat(f).st_size/1024/1024))+\" \"+f for f in glob.glob(\"r1_r\"+str(r+1)+\"/*.nc\")])[:5] for r in range(7)]"
   ]
  },
  {
   "cell_type": "markdown",
   "metadata": {},
   "source": [
    "---\n",
    "# **Test code**"
   ]
  },
  {
   "cell_type": "code",
   "execution_count": 4,
   "metadata": {},
   "outputs": [
    {
     "name": "stdout",
     "output_type": "stream",
     "text": [
      "--2023-07-25 10:06:13--  https://crd-data-donnees-rdc.ec.gc.ca/CCCMA/products/CanSISE/output/CCCma/CanRCM4/NAM-44_CCCma-CanESM2_historical-r1/3hr/atmos/hurs/r2i1p1/hurs_NAM-44_CCCma-CanESM2_historical-r1_r2i1p1_CCCma-CanRCM4_r2_3hr_1950010103-1951010100.nc\n",
      "Resolving crd-data-donnees-rdc.ec.gc.ca (crd-data-donnees-rdc.ec.gc.ca)... 2a0c:5bc0:4c:ff::8e62:e61a, 142.98.230.26\n",
      "Connecting to crd-data-donnees-rdc.ec.gc.ca (crd-data-donnees-rdc.ec.gc.ca)|2a0c:5bc0:4c:ff::8e62:e61a|:443... connected.\n",
      "HTTP request sent, awaiting response... 200 OK\n",
      "Length: 235750424 (225M) [application/x-netcdf]\n",
      "Saving to: ‘r1_r2/hurs_NAM-44_CCCma-CanESM2_historical-r1_r2i1p1_CCCma-CanRCM4_r2_3hr_1950010103-1951010100.nc.1’\n",
      "\n",
      "hurs_NAM-44_CCCma-C 100%[===================>] 224.83M  31.4MB/s    in 7.7s    \n",
      "\n",
      "2023-07-25 10:06:21 (29.1 MB/s) - ‘r1_r2/hurs_NAM-44_CCCma-CanESM2_historical-r1_r2i1p1_CCCma-CanRCM4_r2_3hr_1950010103-1951010100.nc.1’ saved [235750424/235750424]\n",
      "\n"
     ]
    }
   ],
   "source": [
    "! wget https://crd-data-donnees-rdc.ec.gc.ca/CCCMA/products/CanSISE/output/CCCma/CanRCM4/NAM-44_CCCma-CanESM2_historical-r1/3hr/atmos/hurs/r2i1p1/hurs_NAM-44_CCCma-CanESM2_historical-r1_r2i1p1_CCCma-CanRCM4_r2_3hr_1950010103-1951010100.nc -P r1_r2"
   ]
  },
  {
   "cell_type": "markdown",
   "metadata": {},
   "source": [
    "---\n",
    "## **Download single ensemble member**"
   ]
  },
  {
   "cell_type": "code",
   "execution_count": null,
   "metadata": {},
   "outputs": [],
   "source": [
    "# # download all precip\n",
    "# ! for y in `seq 1952 2050`; do yy=$((y+1)); wget https://crd-data-donnees-rdc.ec.gc.ca/CCCMA/products/CanSISE/output/CCCma/CanRCM4/NAM-44_CCCma-CanESM2_historical-r1/3hr/atmos/pr/r1i1p1/pr_NAM-44_CCCma-CanESM2_historical-r1_r1i1p1_CCCma-CanRCM4_r2_3hr_${y}010103-${yy}010100.nc; done\n",
    "# clear_output(wait = False)"
   ]
  },
  {
   "cell_type": "code",
   "execution_count": null,
   "metadata": {},
   "outputs": [],
   "source": [
    "# #download all hurs\n",
    "# ! for y in `seq 1953 2050`; do yy=$((y+1)); wget https://crd-data-donnees-rdc.ec.gc.ca/CCCMA/products/CanSISE/output/CCCma/CanRCM4/NAM-44_CCCma-CanESM2_historical-r1/3hr/atmos/hurs/r1i1p1/hurs_NAM-44_CCCma-CanESM2_historical-r1_r1i1p1_CCCma-CanRCM4_r2_3hr_${y}010103-${yy}010100.nc; done\n",
    "# clear_output(wait = False) "
   ]
  },
  {
   "cell_type": "code",
   "execution_count": 13,
   "metadata": {},
   "outputs": [],
   "source": [
    "# #download all sfcWind\n",
    "# ! for y in `seq 1950 2050`; do yy=$((y+1)); wget https://crd-data-donnees-rdc.ec.gc.ca/CCCMA/products/CanSISE/output/CCCma/CanRCM4/NAM-44_CCCma-CanESM2_historical-r1/3hr/atmos/sfcWind/r1i1p1/sfcWind_NAM-44_CCCma-CanESM2_historical-r1_r1i1p1_CCCma-CanRCM4_r2_3hr_${y}010103-${yy}010100.nc; done\n",
    "# clear_output(wait = False) "
   ]
  },
  {
   "cell_type": "code",
   "execution_count": 16,
   "metadata": {},
   "outputs": [],
   "source": [
    "# #download all tas\n",
    "# ! for y in `seq 1950 2050`; do yy=$((y+1)); wget https://crd-data-donnees-rdc.ec.gc.ca/CCCMA/products/CanSISE/output/CCCma/CanRCM4/NAM-44_CCCma-CanESM2_historical-r1/3hr/atmos/tas/r1i1p1/tas_NAM-44_CCCma-CanESM2_historical-r1_r1i1p1_CCCma-CanRCM4_r2_3hr_${y}010103-${yy}010100.nc; done\n",
    "# clear_output(wait = False) "
   ]
  },
  {
   "cell_type": "code",
   "execution_count": null,
   "metadata": {},
   "outputs": [],
   "source": [
    "# # # download all snd\n",
    "# ! wget https://crd-data-donnees-rdc.ec.gc.ca/CCCMA/products/CanSISE/output/CCCma/CanRCM4/NAM-44_CCCma-CanESM2_historical-r1/day/atmos/snd/r1i1p1/snd_NAM-44_CCCma-CanESM2_historical-r1_r1i1p1_CCCma-CanRCM4_r2_day_19500101-19501231.nc\n",
    "# ! for y in `seq 1951 5 2046`; do yy=$((y+4)); wget https://crd-data-donnees-rdc.ec.gc.ca/CCCMA/products/CanSISE/output/CCCma/CanRCM4/NAM-44_CCCma-CanESM2_historical-r1/day/atmos/snd/r1i1p1/snd_NAM-44_CCCma-CanESM2_historical-r1_r1i1p1_CCCma-CanRCM4_r2_day_${y}0101-${yy}1231.nc; done\n",
    "# clear_output(wait = False) "
   ]
  }
 ],
 "metadata": {
  "kernelspec": {
   "display_name": "Python [conda env:wwa]",
   "language": "python",
   "name": "conda-env-wwa-py"
  },
  "language_info": {
   "codemirror_mode": {
    "name": "ipython",
    "version": 3
   },
   "file_extension": ".py",
   "mimetype": "text/x-python",
   "name": "python",
   "nbconvert_exporter": "python",
   "pygments_lexer": "ipython3",
   "version": "3.10.8"
  }
 },
 "nbformat": 4,
 "nbformat_minor": 2
}
