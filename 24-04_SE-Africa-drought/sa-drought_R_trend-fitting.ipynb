{
 "cells": [
  {
   "cell_type": "code",
   "execution_count": 1,
   "id": "47a0766d",
   "metadata": {},
   "outputs": [
    {
     "name": "stderr",
     "output_type": "stream",
     "text": [
      "Loading required package: extRemes\n",
      "\n",
      "Loading required package: Lmoments\n",
      "\n",
      "Loading required package: distillery\n",
      "\n",
      "\n",
      "Attaching package: ‘extRemes’\n",
      "\n",
      "\n",
      "The following objects are masked from ‘package:stats’:\n",
      "\n",
      "    qqnorm, qqplot\n",
      "\n",
      "\n",
      "Loading required package: plyr\n",
      "\n",
      "\n",
      "Attaching package: ‘plyr’\n",
      "\n",
      "\n",
      "The following object is masked from ‘package:distillery’:\n",
      "\n",
      "    is.formula\n",
      "\n",
      "\n"
     ]
    }
   ],
   "source": [
    "library(rwwa)"
   ]
  },
  {
   "cell_type": "markdown",
   "id": "4c7d7d6b",
   "metadata": {
    "tags": []
   },
   "source": [
    "# Per grid cell"
   ]
  },
  {
   "cell_type": "code",
   "execution_count": 2,
   "id": "53b0775d",
   "metadata": {},
   "outputs": [],
   "source": [
    "gmst <- read.table(\"gmst.dat\", col.names = c(\"year\", \"gmst\"))\n",
    "gmst$gmst <- gmst$gmst - gmst$gmst[gmst$year == 2023]\n",
    "\n",
    "nino <- read.csv(\"nino34_djf.csv\", col.names = c(\"year\", \"nino\"))\n",
    "\n",
    "cov_2023 <- data.frame(gmst = gmst$gmst[gmst$year == 2023], nino = nino$nino[nino$year == 2023])\n",
    "cov_cf <- rbind(\"hist\" = cov_2023 - c(1.2, 0),\n",
    "                \"neut\" = c(cov_2023$gmst, 0))"
   ]
  },
  {
   "cell_type": "code",
   "execution_count": 2,
   "id": "8d5f7358",
   "metadata": {
    "tags": []
   },
   "outputs": [],
   "source": [
    "fl = list.files(pattern = \"tamsat_pr-djf_flattened\")\n",
    "\n",
    "for(fnm in fl) {\n",
    "    \n",
    "    res_fnm <- paste0(\"gridded-res_\",gsub(\"_flattened\", \"\", fnm))\n",
    "    \n",
    "    if (!file.exists(res_fnm)) {\n",
    "        df <- read.csv(fnm, skip = 3, header = F)\n",
    "        colnames(df)[1] <- \"year\"\n",
    "        df <- merge(merge(nino, gmst), df)\n",
    "\n",
    "        # fit nonstationary model to all grid cells\n",
    "        models <- sapply(colnames(df)[-(1:3)], function(cnm) {\n",
    "            df_c <- df[,c(\"year\", \"gmst\", \"nino\", cnm)]\n",
    "            tryCatch({\n",
    "                fit_ns(\"norm\", \"fixeddisp\", df_c, cnm, c(\"gmst\", \"nino\"), lower = T)\n",
    "            }, error = function(cond) { return(NULL) })\n",
    "        }, simplify = F)\n",
    "\n",
    "        # get all model results & save as .csv to be reconstructed & plotted in python\n",
    "        fitted_res <- sapply(models, function(mdl) {\n",
    "            if(!is.null(unlist(mdl)[1])) {\n",
    "                c(mdl_ests(mdl, cov_f = cov_2023, cov_cf = cov_cf), \"rp_neut\" = return_period(mdl, x = mdl$ev, fixed_cov = cov_cf[\"neut\",,drop=F]))\n",
    "            } else {\n",
    "                rep(NA, 14)\n",
    "            }})\n",
    "        write.csv(fitted_res, res_fnm)\n",
    "    }\n",
    "}"
   ]
  },
  {
   "cell_type": "markdown",
   "id": "930fd198",
   "metadata": {
    "tags": []
   },
   "source": [
    "# Unconditional return periods"
   ]
  },
  {
   "cell_type": "code",
   "execution_count": 33,
   "id": "8844b0c7",
   "metadata": {},
   "outputs": [],
   "source": [
    "gmst <- read.table(\"gmst.dat\", col.names = c(\"year\", \"gmst\"))\n",
    "gmst$gmst <- gmst$gmst - gmst$gmst[gmst$year == 2024]\n",
    "nino <- read.csv(\"nino34_djf.csv\", col.names = c(\"year\", \"nino\"))\n",
    "pr <- read.csv(\"era5_prDJF.dat\", sep = \" \", col.names = c(\"year\", \"pr\"))\n",
    "\n",
    "df <- merge(merge(gmst, nino), pr)\n",
    "\n",
    "mdl <- fit_ns(\"norm\", \"fixeddisp\", df, \"pr\", c(\"gmst\", \"nino\"), lower = T)"
   ]
  },
  {
   "cell_type": "code",
   "execution_count": 34,
   "id": "76712f18",
   "metadata": {},
   "outputs": [
    {
     "data": {
      "text/html": [
       "8.20819663619422"
      ],
      "text/latex": [
       "8.20819663619422"
      ],
      "text/markdown": [
       "8.20819663619422"
      ],
      "text/plain": [
       "[1] 8.208197"
      ]
     },
     "metadata": {},
     "output_type": "display_data"
    }
   ],
   "source": [
    "# return period in 2024 climate, given the observed distribution of Nino events\n",
    "1/(mean(sapply(df$nino, function(i) {\n",
    "        1/return_period(mdl, mdl$ev, fixed_cov = data.frame(\"gmst\" = 0, \"nino\" = i))\n",
    "})))"
   ]
  },
  {
   "cell_type": "code",
   "execution_count": 32,
   "id": "60d68cc7",
   "metadata": {},
   "outputs": [
    {
     "data": {
      "text/html": [
       "<table class=\"dataframe\">\n",
       "<caption>A data.frame: 46 × 2</caption>\n",
       "<thead>\n",
       "\t<tr><th scope=col>year</th><th scope=col>pr</th></tr>\n",
       "\t<tr><th scope=col>&lt;int&gt;</th><th scope=col>&lt;dbl&gt;</th></tr>\n",
       "</thead>\n",
       "<tbody>\n",
       "\t<tr><td>1979</td><td>       NA</td></tr>\n",
       "\t<tr><td>1980</td><td>329.36267</td></tr>\n",
       "\t<tr><td>1981</td><td>239.77788</td></tr>\n",
       "\t<tr><td>1982</td><td>206.89740</td></tr>\n",
       "\t<tr><td>1983</td><td>232.29886</td></tr>\n",
       "\t<tr><td>1984</td><td>276.96112</td></tr>\n",
       "\t<tr><td>1985</td><td>397.43973</td></tr>\n",
       "\t<tr><td>1986</td><td>366.64304</td></tr>\n",
       "\t<tr><td>1987</td><td>250.10803</td></tr>\n",
       "\t<tr><td>1988</td><td>453.82090</td></tr>\n",
       "\t<tr><td>1989</td><td>425.52606</td></tr>\n",
       "\t<tr><td>1990</td><td>364.28888</td></tr>\n",
       "\t<tr><td>1991</td><td>361.22696</td></tr>\n",
       "\t<tr><td>1992</td><td> 98.83227</td></tr>\n",
       "\t<tr><td>1993</td><td>286.87335</td></tr>\n",
       "\t<tr><td>1994</td><td>326.98734</td></tr>\n",
       "\t<tr><td>1995</td><td>278.93396</td></tr>\n",
       "\t<tr><td>1996</td><td>529.79760</td></tr>\n",
       "\t<tr><td>1997</td><td>492.55136</td></tr>\n",
       "\t<tr><td>1998</td><td>386.14856</td></tr>\n",
       "\t<tr><td>1999</td><td>580.40350</td></tr>\n",
       "\t<tr><td>2000</td><td>583.55310</td></tr>\n",
       "\t<tr><td>2001</td><td>406.65002</td></tr>\n",
       "\t<tr><td>2002</td><td>268.80972</td></tr>\n",
       "\t<tr><td>2003</td><td>282.64618</td></tr>\n",
       "\t<tr><td>2004</td><td>356.66860</td></tr>\n",
       "\t<tr><td>2005</td><td>299.37692</td></tr>\n",
       "\t<tr><td>2006</td><td>483.29053</td></tr>\n",
       "\t<tr><td>2007</td><td>319.30570</td></tr>\n",
       "\t<tr><td>2008</td><td>445.12350</td></tr>\n",
       "\t<tr><td>2009</td><td>399.41296</td></tr>\n",
       "\t<tr><td>2010</td><td>368.13547</td></tr>\n",
       "\t<tr><td>2011</td><td>385.97372</td></tr>\n",
       "\t<tr><td>2012</td><td>351.22950</td></tr>\n",
       "\t<tr><td>2013</td><td>426.50350</td></tr>\n",
       "\t<tr><td>2014</td><td>461.45056</td></tr>\n",
       "\t<tr><td>2015</td><td>338.42682</td></tr>\n",
       "\t<tr><td>2016</td><td>225.73405</td></tr>\n",
       "\t<tr><td>2017</td><td>523.07855</td></tr>\n",
       "\t<tr><td>2018</td><td>341.92233</td></tr>\n",
       "\t<tr><td>2019</td><td>300.68964</td></tr>\n",
       "\t<tr><td>2020</td><td>       NA</td></tr>\n",
       "\t<tr><td>2021</td><td>       NA</td></tr>\n",
       "\t<tr><td>2022</td><td>307.83698</td></tr>\n",
       "\t<tr><td>2023</td><td>425.34848</td></tr>\n",
       "\t<tr><td>2024</td><td>263.78090</td></tr>\n",
       "</tbody>\n",
       "</table>\n"
      ],
      "text/latex": [
       "A data.frame: 46 × 2\n",
       "\\begin{tabular}{ll}\n",
       " year & pr\\\\\n",
       " <int> & <dbl>\\\\\n",
       "\\hline\n",
       "\t 1979 &        NA\\\\\n",
       "\t 1980 & 329.36267\\\\\n",
       "\t 1981 & 239.77788\\\\\n",
       "\t 1982 & 206.89740\\\\\n",
       "\t 1983 & 232.29886\\\\\n",
       "\t 1984 & 276.96112\\\\\n",
       "\t 1985 & 397.43973\\\\\n",
       "\t 1986 & 366.64304\\\\\n",
       "\t 1987 & 250.10803\\\\\n",
       "\t 1988 & 453.82090\\\\\n",
       "\t 1989 & 425.52606\\\\\n",
       "\t 1990 & 364.28888\\\\\n",
       "\t 1991 & 361.22696\\\\\n",
       "\t 1992 &  98.83227\\\\\n",
       "\t 1993 & 286.87335\\\\\n",
       "\t 1994 & 326.98734\\\\\n",
       "\t 1995 & 278.93396\\\\\n",
       "\t 1996 & 529.79760\\\\\n",
       "\t 1997 & 492.55136\\\\\n",
       "\t 1998 & 386.14856\\\\\n",
       "\t 1999 & 580.40350\\\\\n",
       "\t 2000 & 583.55310\\\\\n",
       "\t 2001 & 406.65002\\\\\n",
       "\t 2002 & 268.80972\\\\\n",
       "\t 2003 & 282.64618\\\\\n",
       "\t 2004 & 356.66860\\\\\n",
       "\t 2005 & 299.37692\\\\\n",
       "\t 2006 & 483.29053\\\\\n",
       "\t 2007 & 319.30570\\\\\n",
       "\t 2008 & 445.12350\\\\\n",
       "\t 2009 & 399.41296\\\\\n",
       "\t 2010 & 368.13547\\\\\n",
       "\t 2011 & 385.97372\\\\\n",
       "\t 2012 & 351.22950\\\\\n",
       "\t 2013 & 426.50350\\\\\n",
       "\t 2014 & 461.45056\\\\\n",
       "\t 2015 & 338.42682\\\\\n",
       "\t 2016 & 225.73405\\\\\n",
       "\t 2017 & 523.07855\\\\\n",
       "\t 2018 & 341.92233\\\\\n",
       "\t 2019 & 300.68964\\\\\n",
       "\t 2020 &        NA\\\\\n",
       "\t 2021 &        NA\\\\\n",
       "\t 2022 & 307.83698\\\\\n",
       "\t 2023 & 425.34848\\\\\n",
       "\t 2024 & 263.78090\\\\\n",
       "\\end{tabular}\n"
      ],
      "text/markdown": [
       "\n",
       "A data.frame: 46 × 2\n",
       "\n",
       "| year &lt;int&gt; | pr &lt;dbl&gt; |\n",
       "|---|---|\n",
       "| 1979 |        NA |\n",
       "| 1980 | 329.36267 |\n",
       "| 1981 | 239.77788 |\n",
       "| 1982 | 206.89740 |\n",
       "| 1983 | 232.29886 |\n",
       "| 1984 | 276.96112 |\n",
       "| 1985 | 397.43973 |\n",
       "| 1986 | 366.64304 |\n",
       "| 1987 | 250.10803 |\n",
       "| 1988 | 453.82090 |\n",
       "| 1989 | 425.52606 |\n",
       "| 1990 | 364.28888 |\n",
       "| 1991 | 361.22696 |\n",
       "| 1992 |  98.83227 |\n",
       "| 1993 | 286.87335 |\n",
       "| 1994 | 326.98734 |\n",
       "| 1995 | 278.93396 |\n",
       "| 1996 | 529.79760 |\n",
       "| 1997 | 492.55136 |\n",
       "| 1998 | 386.14856 |\n",
       "| 1999 | 580.40350 |\n",
       "| 2000 | 583.55310 |\n",
       "| 2001 | 406.65002 |\n",
       "| 2002 | 268.80972 |\n",
       "| 2003 | 282.64618 |\n",
       "| 2004 | 356.66860 |\n",
       "| 2005 | 299.37692 |\n",
       "| 2006 | 483.29053 |\n",
       "| 2007 | 319.30570 |\n",
       "| 2008 | 445.12350 |\n",
       "| 2009 | 399.41296 |\n",
       "| 2010 | 368.13547 |\n",
       "| 2011 | 385.97372 |\n",
       "| 2012 | 351.22950 |\n",
       "| 2013 | 426.50350 |\n",
       "| 2014 | 461.45056 |\n",
       "| 2015 | 338.42682 |\n",
       "| 2016 | 225.73405 |\n",
       "| 2017 | 523.07855 |\n",
       "| 2018 | 341.92233 |\n",
       "| 2019 | 300.68964 |\n",
       "| 2020 |        NA |\n",
       "| 2021 |        NA |\n",
       "| 2022 | 307.83698 |\n",
       "| 2023 | 425.34848 |\n",
       "| 2024 | 263.78090 |\n",
       "\n"
      ],
      "text/plain": [
       "   year pr       \n",
       "1  1979        NA\n",
       "2  1980 329.36267\n",
       "3  1981 239.77788\n",
       "4  1982 206.89740\n",
       "5  1983 232.29886\n",
       "6  1984 276.96112\n",
       "7  1985 397.43973\n",
       "8  1986 366.64304\n",
       "9  1987 250.10803\n",
       "10 1988 453.82090\n",
       "11 1989 425.52606\n",
       "12 1990 364.28888\n",
       "13 1991 361.22696\n",
       "14 1992  98.83227\n",
       "15 1993 286.87335\n",
       "16 1994 326.98734\n",
       "17 1995 278.93396\n",
       "18 1996 529.79760\n",
       "19 1997 492.55136\n",
       "20 1998 386.14856\n",
       "21 1999 580.40350\n",
       "22 2000 583.55310\n",
       "23 2001 406.65002\n",
       "24 2002 268.80972\n",
       "25 2003 282.64618\n",
       "26 2004 356.66860\n",
       "27 2005 299.37692\n",
       "28 2006 483.29053\n",
       "29 2007 319.30570\n",
       "30 2008 445.12350\n",
       "31 2009 399.41296\n",
       "32 2010 368.13547\n",
       "33 2011 385.97372\n",
       "34 2012 351.22950\n",
       "35 2013 426.50350\n",
       "36 2014 461.45056\n",
       "37 2015 338.42682\n",
       "38 2016 225.73405\n",
       "39 2017 523.07855\n",
       "40 2018 341.92233\n",
       "41 2019 300.68964\n",
       "42 2020        NA\n",
       "43 2021        NA\n",
       "44 2022 307.83698\n",
       "45 2023 425.34848\n",
       "46 2024 263.78090"
      ]
     },
     "metadata": {},
     "output_type": "display_data"
    }
   ],
   "source": [
    "read.csv(\"mswep_prDJF.dat\", sep = \" \", col.names = c(\"year\", \"pr\"))"
   ]
  },
  {
   "cell_type": "code",
   "execution_count": null,
   "id": "51d64cbf",
   "metadata": {},
   "outputs": [],
   "source": []
  }
 ],
 "metadata": {
  "kernelspec": {
   "display_name": "R [conda env:r_env]",
   "language": "R",
   "name": "conda-env-r_env-r"
  },
  "language_info": {
   "codemirror_mode": "r",
   "file_extension": ".r",
   "mimetype": "text/x-r-source",
   "name": "R",
   "pygments_lexer": "r",
   "version": "4.2.3"
  }
 },
 "nbformat": 4,
 "nbformat_minor": 5
}
