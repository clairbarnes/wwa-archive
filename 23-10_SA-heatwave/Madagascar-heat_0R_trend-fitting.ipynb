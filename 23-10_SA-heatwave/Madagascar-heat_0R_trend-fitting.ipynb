{
 "cells": [
  {
   "cell_type": "code",
   "execution_count": 134,
   "id": "64617a7e-b5e3-429d-abbb-8548f454cd88",
   "metadata": {},
   "outputs": [],
   "source": [
    "source(\"../00_model-fitting/wwa_model-fitting.R\")\n",
    "library(extRemes)\n",
    "library(plyr)"
   ]
  },
  {
   "cell_type": "code",
   "execution_count": 42,
   "id": "9ac2a339-4b18-444b-bc66-e12004674917",
   "metadata": {},
   "outputs": [],
   "source": [
    "# load data\n",
    "gmst <- read.fwf(\"../../Data/gmst.dat\", comment.char = \"#\", widths = c(5,15), col.names = c(\"year\", \"gmst\"))\n",
    "nino <- read.csv(\"data/nino34rel_september.csv\")\n",
    "iod <- read.csv(\"data/iod_september.csv\")"
   ]
  },
  {
   "cell_type": "markdown",
   "id": "2b94b38e-eae5-41f6-a8b0-ac8a0b4a9edb",
   "metadata": {},
   "source": [
    "---\n",
    "## **Check significance of other covariates (normal linear model)**"
   ]
  },
  {
   "cell_type": "code",
   "execution_count": 93,
   "id": "d65e0325-6e9b-4a52-99d4-77db9eddbb11",
   "metadata": {},
   "outputs": [
    {
     "data": {
      "text/html": [
       "<table class=\"dataframe\">\n",
       "<caption>A matrix: 7 × 6 of type lgl</caption>\n",
       "<thead>\n",
       "\t<tr><th></th><th scope=col>X.Intercept.</th><th scope=col>gmst</th><th scope=col>nino34</th><th scope=col>iod</th><th scope=col>gmst.nino34</th><th scope=col>gmst.iod</th></tr>\n",
       "</thead>\n",
       "<tbody>\n",
       "\t<tr><th scope=row>gmst</th><td>TRUE</td><td>TRUE</td><td>   NA</td><td>   NA</td><td>   NA</td><td>   NA</td></tr>\n",
       "\t<tr><th scope=row>nino34</th><td>TRUE</td><td>  NA</td><td>FALSE</td><td>   NA</td><td>   NA</td><td>   NA</td></tr>\n",
       "\t<tr><th scope=row>iod</th><td>TRUE</td><td>  NA</td><td>   NA</td><td> TRUE</td><td>   NA</td><td>   NA</td></tr>\n",
       "\t<tr><th scope=row>gmst + nino34</th><td>TRUE</td><td>TRUE</td><td>FALSE</td><td>   NA</td><td>   NA</td><td>   NA</td></tr>\n",
       "\t<tr><th scope=row>gmst * nino34</th><td>TRUE</td><td>TRUE</td><td>FALSE</td><td>   NA</td><td>FALSE</td><td>   NA</td></tr>\n",
       "\t<tr><th scope=row>gmst + iod</th><td>TRUE</td><td>TRUE</td><td>   NA</td><td>FALSE</td><td>   NA</td><td>   NA</td></tr>\n",
       "\t<tr><th scope=row>gmst * iod</th><td>TRUE</td><td>TRUE</td><td>   NA</td><td>FALSE</td><td>   NA</td><td>FALSE</td></tr>\n",
       "</tbody>\n",
       "</table>\n"
      ],
      "text/latex": [
       "A matrix: 7 × 6 of type lgl\n",
       "\\begin{tabular}{r|llllll}\n",
       "  & X.Intercept. & gmst & nino34 & iod & gmst.nino34 & gmst.iod\\\\\n",
       "\\hline\n",
       "\tgmst & TRUE & TRUE &    NA &    NA &    NA &    NA\\\\\n",
       "\tnino34 & TRUE &   NA & FALSE &    NA &    NA &    NA\\\\\n",
       "\tiod & TRUE &   NA &    NA &  TRUE &    NA &    NA\\\\\n",
       "\tgmst + nino34 & TRUE & TRUE & FALSE &    NA &    NA &    NA\\\\\n",
       "\tgmst * nino34 & TRUE & TRUE & FALSE &    NA & FALSE &    NA\\\\\n",
       "\tgmst + iod & TRUE & TRUE &    NA & FALSE &    NA &    NA\\\\\n",
       "\tgmst * iod & TRUE & TRUE &    NA & FALSE &    NA & FALSE\\\\\n",
       "\\end{tabular}\n"
      ],
      "text/markdown": [
       "\n",
       "A matrix: 7 × 6 of type lgl\n",
       "\n",
       "| <!--/--> | X.Intercept. | gmst | nino34 | iod | gmst.nino34 | gmst.iod |\n",
       "|---|---|---|---|---|---|---|\n",
       "| gmst | TRUE | TRUE |    NA |    NA |    NA |    NA |\n",
       "| nino34 | TRUE |   NA | FALSE |    NA |    NA |    NA |\n",
       "| iod | TRUE |   NA |    NA |  TRUE |    NA |    NA |\n",
       "| gmst + nino34 | TRUE | TRUE | FALSE |    NA |    NA |    NA |\n",
       "| gmst * nino34 | TRUE | TRUE | FALSE |    NA | FALSE |    NA |\n",
       "| gmst + iod | TRUE | TRUE |    NA | FALSE |    NA |    NA |\n",
       "| gmst * iod | TRUE | TRUE |    NA | FALSE |    NA | FALSE |\n",
       "\n"
      ],
      "text/plain": [
       "              X.Intercept. gmst nino34 iod   gmst.nino34 gmst.iod\n",
       "gmst          TRUE         TRUE    NA     NA    NA          NA   \n",
       "nino34        TRUE           NA FALSE     NA    NA          NA   \n",
       "iod           TRUE           NA    NA   TRUE    NA          NA   \n",
       "gmst + nino34 TRUE         TRUE FALSE     NA    NA          NA   \n",
       "gmst * nino34 TRUE         TRUE FALSE     NA FALSE          NA   \n",
       "gmst + iod    TRUE         TRUE    NA  FALSE    NA          NA   \n",
       "gmst * iod    TRUE         TRUE    NA  FALSE    NA       FALSE   "
      ]
     },
     "metadata": {},
     "output_type": "display_data"
    }
   ],
   "source": [
    "# load data\n",
    "fnm <- \"data/era5_madagascar_t2m-mean.csv\"\n",
    "df <- merge(merge(merge(gmst, nino), iod), read.csv(fnm))\n",
    "\n",
    "mdls <- c(\"gmst\", \"nino34\", \"iod\", \"gmst + nino34\", \"gmst * nino34\", \"gmst + iod\", \"gmst * iod\")\n",
    "res <- rbind.fill(sapply(mdls, function(f) data.frame(t(summary(lm(paste0(\"var ~ \", f), df))$coef[,4])), simplify = F)) < 0.05\n",
    "rownames(res) <- mdls\n",
    "res"
   ]
  },
  {
   "cell_type": "code",
   "execution_count": 94,
   "id": "9719c15b-7849-469d-aa74-8ef59e1d0b2e",
   "metadata": {},
   "outputs": [
    {
     "data": {
      "text/html": [
       "<table class=\"dataframe\">\n",
       "<caption>A matrix: 7 × 6 of type lgl</caption>\n",
       "<thead>\n",
       "\t<tr><th></th><th scope=col>X.Intercept.</th><th scope=col>gmst</th><th scope=col>nino34</th><th scope=col>iod</th><th scope=col>gmst.nino34</th><th scope=col>gmst.iod</th></tr>\n",
       "</thead>\n",
       "<tbody>\n",
       "\t<tr><th scope=row>gmst</th><td>TRUE</td><td>TRUE</td><td>   NA</td><td>   NA</td><td>   NA</td><td>   NA</td></tr>\n",
       "\t<tr><th scope=row>nino34</th><td>TRUE</td><td>  NA</td><td>FALSE</td><td>   NA</td><td>   NA</td><td>   NA</td></tr>\n",
       "\t<tr><th scope=row>iod</th><td>TRUE</td><td>  NA</td><td>   NA</td><td>FALSE</td><td>   NA</td><td>   NA</td></tr>\n",
       "\t<tr><th scope=row>gmst + nino34</th><td>TRUE</td><td>TRUE</td><td>FALSE</td><td>   NA</td><td>   NA</td><td>   NA</td></tr>\n",
       "\t<tr><th scope=row>gmst * nino34</th><td>TRUE</td><td>TRUE</td><td>FALSE</td><td>   NA</td><td>FALSE</td><td>   NA</td></tr>\n",
       "\t<tr><th scope=row>gmst + iod</th><td>TRUE</td><td>TRUE</td><td>   NA</td><td>FALSE</td><td>   NA</td><td>   NA</td></tr>\n",
       "\t<tr><th scope=row>gmst * iod</th><td>TRUE</td><td>TRUE</td><td>   NA</td><td>FALSE</td><td>   NA</td><td>FALSE</td></tr>\n",
       "</tbody>\n",
       "</table>\n"
      ],
      "text/latex": [
       "A matrix: 7 × 6 of type lgl\n",
       "\\begin{tabular}{r|llllll}\n",
       "  & X.Intercept. & gmst & nino34 & iod & gmst.nino34 & gmst.iod\\\\\n",
       "\\hline\n",
       "\tgmst & TRUE & TRUE &    NA &    NA &    NA &    NA\\\\\n",
       "\tnino34 & TRUE &   NA & FALSE &    NA &    NA &    NA\\\\\n",
       "\tiod & TRUE &   NA &    NA & FALSE &    NA &    NA\\\\\n",
       "\tgmst + nino34 & TRUE & TRUE & FALSE &    NA &    NA &    NA\\\\\n",
       "\tgmst * nino34 & TRUE & TRUE & FALSE &    NA & FALSE &    NA\\\\\n",
       "\tgmst + iod & TRUE & TRUE &    NA & FALSE &    NA &    NA\\\\\n",
       "\tgmst * iod & TRUE & TRUE &    NA & FALSE &    NA & FALSE\\\\\n",
       "\\end{tabular}\n"
      ],
      "text/markdown": [
       "\n",
       "A matrix: 7 × 6 of type lgl\n",
       "\n",
       "| <!--/--> | X.Intercept. | gmst | nino34 | iod | gmst.nino34 | gmst.iod |\n",
       "|---|---|---|---|---|---|---|\n",
       "| gmst | TRUE | TRUE |    NA |    NA |    NA |    NA |\n",
       "| nino34 | TRUE |   NA | FALSE |    NA |    NA |    NA |\n",
       "| iod | TRUE |   NA |    NA | FALSE |    NA |    NA |\n",
       "| gmst + nino34 | TRUE | TRUE | FALSE |    NA |    NA |    NA |\n",
       "| gmst * nino34 | TRUE | TRUE | FALSE |    NA | FALSE |    NA |\n",
       "| gmst + iod | TRUE | TRUE |    NA | FALSE |    NA |    NA |\n",
       "| gmst * iod | TRUE | TRUE |    NA | FALSE |    NA | FALSE |\n",
       "\n"
      ],
      "text/plain": [
       "              X.Intercept. gmst nino34 iod   gmst.nino34 gmst.iod\n",
       "gmst          TRUE         TRUE    NA     NA    NA          NA   \n",
       "nino34        TRUE           NA FALSE     NA    NA          NA   \n",
       "iod           TRUE           NA    NA  FALSE    NA          NA   \n",
       "gmst + nino34 TRUE         TRUE FALSE     NA    NA          NA   \n",
       "gmst * nino34 TRUE         TRUE FALSE     NA FALSE          NA   \n",
       "gmst + iod    TRUE         TRUE    NA  FALSE    NA          NA   \n",
       "gmst * iod    TRUE         TRUE    NA  FALSE    NA       FALSE   "
      ]
     },
     "metadata": {},
     "output_type": "display_data"
    }
   ],
   "source": [
    "# load data\n",
    "fnm <- \"data/era5_antananarivo_tx7x.csv\"\n",
    "df <- merge(merge(merge(gmst, nino), iod), read.csv(fnm))\n",
    "\n",
    "mdls <- c(\"gmst\", \"nino34\", \"iod\", \"gmst + nino34\", \"gmst * nino34\", \"gmst + iod\", \"gmst * iod\")\n",
    "res <- rbind.fill(sapply(mdls, function(f) data.frame(t(summary(lm(paste0(\"var ~ \", f), df))$coef[,4])), simplify = F)) < 0.05\n",
    "rownames(res) <- mdls\n",
    "res"
   ]
  },
  {
   "cell_type": "code",
   "execution_count": 95,
   "id": "9a043b3c-7dba-417f-885e-e903feec0707",
   "metadata": {},
   "outputs": [
    {
     "data": {
      "text/html": [
       "<table class=\"dataframe\">\n",
       "<caption>A matrix: 7 × 6 of type lgl</caption>\n",
       "<thead>\n",
       "\t<tr><th></th><th scope=col>X.Intercept.</th><th scope=col>gmst</th><th scope=col>nino34</th><th scope=col>iod</th><th scope=col>gmst.nino34</th><th scope=col>gmst.iod</th></tr>\n",
       "</thead>\n",
       "<tbody>\n",
       "\t<tr><th scope=row>gmst</th><td>TRUE</td><td>TRUE</td><td>   NA</td><td>   NA</td><td>   NA</td><td>   NA</td></tr>\n",
       "\t<tr><th scope=row>nino34</th><td>TRUE</td><td>  NA</td><td>FALSE</td><td>   NA</td><td>   NA</td><td>   NA</td></tr>\n",
       "\t<tr><th scope=row>iod</th><td>TRUE</td><td>  NA</td><td>   NA</td><td> TRUE</td><td>   NA</td><td>   NA</td></tr>\n",
       "\t<tr><th scope=row>gmst + nino34</th><td>TRUE</td><td>TRUE</td><td>FALSE</td><td>   NA</td><td>   NA</td><td>   NA</td></tr>\n",
       "\t<tr><th scope=row>gmst * nino34</th><td>TRUE</td><td>TRUE</td><td>FALSE</td><td>   NA</td><td>FALSE</td><td>   NA</td></tr>\n",
       "\t<tr><th scope=row>gmst + iod</th><td>TRUE</td><td>TRUE</td><td>   NA</td><td> TRUE</td><td>   NA</td><td>   NA</td></tr>\n",
       "\t<tr><th scope=row>gmst * iod</th><td>TRUE</td><td>TRUE</td><td>   NA</td><td>FALSE</td><td>   NA</td><td>FALSE</td></tr>\n",
       "</tbody>\n",
       "</table>\n"
      ],
      "text/latex": [
       "A matrix: 7 × 6 of type lgl\n",
       "\\begin{tabular}{r|llllll}\n",
       "  & X.Intercept. & gmst & nino34 & iod & gmst.nino34 & gmst.iod\\\\\n",
       "\\hline\n",
       "\tgmst & TRUE & TRUE &    NA &    NA &    NA &    NA\\\\\n",
       "\tnino34 & TRUE &   NA & FALSE &    NA &    NA &    NA\\\\\n",
       "\tiod & TRUE &   NA &    NA &  TRUE &    NA &    NA\\\\\n",
       "\tgmst + nino34 & TRUE & TRUE & FALSE &    NA &    NA &    NA\\\\\n",
       "\tgmst * nino34 & TRUE & TRUE & FALSE &    NA & FALSE &    NA\\\\\n",
       "\tgmst + iod & TRUE & TRUE &    NA &  TRUE &    NA &    NA\\\\\n",
       "\tgmst * iod & TRUE & TRUE &    NA & FALSE &    NA & FALSE\\\\\n",
       "\\end{tabular}\n"
      ],
      "text/markdown": [
       "\n",
       "A matrix: 7 × 6 of type lgl\n",
       "\n",
       "| <!--/--> | X.Intercept. | gmst | nino34 | iod | gmst.nino34 | gmst.iod |\n",
       "|---|---|---|---|---|---|---|\n",
       "| gmst | TRUE | TRUE |    NA |    NA |    NA |    NA |\n",
       "| nino34 | TRUE |   NA | FALSE |    NA |    NA |    NA |\n",
       "| iod | TRUE |   NA |    NA |  TRUE |    NA |    NA |\n",
       "| gmst + nino34 | TRUE | TRUE | FALSE |    NA |    NA |    NA |\n",
       "| gmst * nino34 | TRUE | TRUE | FALSE |    NA | FALSE |    NA |\n",
       "| gmst + iod | TRUE | TRUE |    NA |  TRUE |    NA |    NA |\n",
       "| gmst * iod | TRUE | TRUE |    NA | FALSE |    NA | FALSE |\n",
       "\n"
      ],
      "text/plain": [
       "              X.Intercept. gmst nino34 iod   gmst.nino34 gmst.iod\n",
       "gmst          TRUE         TRUE    NA     NA    NA          NA   \n",
       "nino34        TRUE           NA FALSE     NA    NA          NA   \n",
       "iod           TRUE           NA    NA   TRUE    NA          NA   \n",
       "gmst + nino34 TRUE         TRUE FALSE     NA    NA          NA   \n",
       "gmst * nino34 TRUE         TRUE FALSE     NA FALSE          NA   \n",
       "gmst + iod    TRUE         TRUE    NA   TRUE    NA          NA   \n",
       "gmst * iod    TRUE         TRUE    NA  FALSE    NA       FALSE   "
      ]
     },
     "metadata": {},
     "output_type": "display_data"
    }
   ],
   "source": [
    "# load data\n",
    "fnm <- \"data/era5_antananarivo_tn7x.csv\"\n",
    "df <- merge(merge(merge(gmst, nino), iod), read.csv(fnm))\n",
    "\n",
    "mdls <- c(\"gmst\", \"nino34\", \"iod\", \"gmst + nino34\", \"gmst * nino34\", \"gmst + iod\", \"gmst * iod\")\n",
    "res <- rbind.fill(sapply(mdls, function(f) data.frame(t(summary(lm(paste0(\"var ~ \", f), df))$coef[,4])), simplify = F)) < 0.05\n",
    "rownames(res) <- mdls\n",
    "res"
   ]
  },
  {
   "cell_type": "code",
   "execution_count": 132,
   "id": "1f8d07f4-d3b4-4ce0-b78a-088c14622748",
   "metadata": {},
   "outputs": [
    {
     "data": {
      "text/plain": [
       "\n",
       "Call:\n",
       "lm(formula = var ~ gmst + iod, data = df)\n",
       "\n",
       "Residuals:\n",
       "     Min       1Q   Median       3Q      Max \n",
       "-1.88105 -0.55322 -0.02208  0.56428  1.85956 \n",
       "\n",
       "Coefficients:\n",
       "            Estimate Std. Error t value Pr(>|t|)    \n",
       "(Intercept)  13.4017     0.1173 114.249  < 2e-16 ***\n",
       "gmst          1.4224     0.2638   5.392 8.68e-07 ***\n",
       "iod           0.3271     0.1586   2.062   0.0428 *  \n",
       "---\n",
       "Signif. codes:  0 ‘***’ 0.001 ‘**’ 0.01 ‘*’ 0.05 ‘.’ 0.1 ‘ ’ 1\n",
       "\n",
       "Residual standard error: 0.7371 on 71 degrees of freedom\n",
       "Multiple R-squared:  0.3614,\tAdjusted R-squared:  0.3434 \n",
       "F-statistic: 20.09 on 2 and 71 DF,  p-value: 1.218e-07\n"
      ]
     },
     "metadata": {},
     "output_type": "display_data"
    }
   ],
   "source": [
    "summary(lm(var ~ gmst + iod, df))"
   ]
  },
  {
   "cell_type": "markdown",
   "id": "1d221cb6-20ef-4963-a142-020300a1d010",
   "metadata": {},
   "source": [
    "---\n",
    "## **LR test with GEV**"
   ]
  },
  {
   "cell_type": "code",
   "execution_count": 102,
   "id": "9909576b-bb64-4362-a884-01f102a2d929",
   "metadata": {},
   "outputs": [],
   "source": [
    "fnm <- \"data/era5_antananarivo_tn7x.csv\"\n",
    "df <- merge(merge(merge(gmst, nino), iod), read.csv(fnm))"
   ]
  },
  {
   "cell_type": "code",
   "execution_count": 128,
   "id": "2ac49f02-7aa6-4e8a-9d88-470b7563dd21",
   "metadata": {},
   "outputs": [],
   "source": [
    "mdl_gmst <- fevd(var, df, location.fun = ~ gmst)\n",
    "mdl_gmst_iod <- fevd(var, df, location.fun = ~ gmst + iod)"
   ]
  },
  {
   "cell_type": "code",
   "execution_count": 133,
   "id": "84b3e920-edb9-420c-884b-d88df314a5db",
   "metadata": {},
   "outputs": [
    {
     "name": "stdout",
     "output_type": "stream",
     "text": [
      "\n",
      "fevd(x = var, data = df, location.fun = ~gmst)\n",
      "\n",
      "[1] \"Estimation Method used: MLE\"\n",
      "\n",
      "\n",
      " Negative Log-Likelihood Value:  82.63551 \n",
      "\n",
      "\n",
      " Estimated parameters:\n",
      "       mu0        mu1      scale      shape \n",
      "13.1760812  1.4863778  0.7475926 -0.3006160 \n",
      "\n",
      " Standard Error Estimates:\n",
      "       mu0        mu1      scale      shape \n",
      "0.12769907 0.25479311 0.06735000 0.07395368 \n",
      "\n",
      " Estimated parameter covariance matrix.\n",
      "                mu0          mu1         scale        shape\n",
      "mu0    0.0163070536 -0.021670554  0.0002946562 -0.004054607\n",
      "mu1   -0.0216705540  0.064919527 -0.0012506890  0.004498019\n",
      "scale  0.0002946562 -0.001250689  0.0045360218 -0.002859641\n",
      "shape -0.0040546073  0.004498019 -0.0028596410  0.005469146\n",
      "\n",
      " AIC = 173.271 \n",
      "\n",
      " BIC = 182.4873 \n",
      "\n",
      "fevd(x = var, data = df, location.fun = ~gmst + iod)\n",
      "\n",
      "[1] \"Estimation Method used: MLE\"\n",
      "\n",
      "\n",
      " Negative Log-Likelihood Value:  80.59427 \n",
      "\n",
      "\n",
      " Estimated parameters:\n",
      "       mu0        mu1        mu2      scale      shape \n",
      "13.1633367  1.3615900  0.3199600  0.7171638 -0.2728140 \n",
      "\n",
      " Standard Error Estimates:\n",
      "       mu0        mu1        mu2      scale      shape \n",
      "0.12292746 0.25639410 0.15407417 0.06418863 0.06981599 \n",
      "\n",
      " Estimated parameter covariance matrix.\n",
      "                mu0          mu1           mu2         scale        shape\n",
      "mu0    0.0151111612 -0.020028697 -0.0010089025  0.0004068631 -0.003588713\n",
      "mu1   -0.0200286970  0.065737932 -0.0096564811 -0.0008083820  0.003535489\n",
      "mu2   -0.0010089025 -0.009656481  0.0237388489 -0.0003559898  0.001065043\n",
      "scale  0.0004068631 -0.000808382 -0.0003559898  0.0041201807 -0.002506225\n",
      "shape -0.0035887134  0.003535489  0.0010650435 -0.0025062250  0.004874273\n",
      "\n",
      " AIC = 171.1885 \n",
      "\n",
      " BIC = 182.7089 \n"
     ]
    },
    {
     "data": {
      "text/html": [
       "<style>\n",
       ".list-inline {list-style: none; margin:0; padding: 0}\n",
       ".list-inline>li {display: inline-block}\n",
       ".list-inline>li:not(:last-child)::after {content: \"\\00b7\"; padding: 0 .5ex}\n",
       "</style>\n",
       "<ol class=list-inline><li>173.271010604321</li><li>171.188533727345</li></ol>\n"
      ],
      "text/latex": [
       "\\begin{enumerate*}\n",
       "\\item 173.271010604321\n",
       "\\item 171.188533727345\n",
       "\\end{enumerate*}\n"
      ],
      "text/markdown": [
       "1. 173.271010604321\n",
       "2. 171.188533727345\n",
       "\n",
       "\n"
      ],
      "text/plain": [
       "[1] 173.2710 171.1885"
      ]
     },
     "metadata": {},
     "output_type": "display_data"
    }
   ],
   "source": [
    "c(summary(mdl_gmst)$AIC, summary(mdl_gmst_iod)$AIC)"
   ]
  },
  {
   "cell_type": "code",
   "execution_count": null,
   "id": "c565c0ac-2361-4f73-bb46-c7a3fccab389",
   "metadata": {},
   "outputs": [],
   "source": []
  }
 ],
 "metadata": {
  "kernelspec": {
   "display_name": "R [conda env:r_env]",
   "language": "R",
   "name": "conda-env-r_env-r"
  },
  "language_info": {
   "codemirror_mode": "r",
   "file_extension": ".r",
   "mimetype": "text/x-r-source",
   "name": "R",
   "pygments_lexer": "r",
   "version": "4.2.2"
  }
 },
 "nbformat": 4,
 "nbformat_minor": 5
}
