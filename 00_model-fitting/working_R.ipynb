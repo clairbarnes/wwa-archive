{
 "cells": [
  {
   "cell_type": "code",
   "execution_count": 2,
   "id": "8c1749b1-9348-45eb-b2cf-a500662e17ff",
   "metadata": {},
   "outputs": [],
   "source": [
    "suppressMessages({\n",
    "    library(extRemes)\n",
    "})"
   ]
  },
  {
   "cell_type": "markdown",
   "id": "2ed530cd-b239-4e49-b85f-d65f8ada1365",
   "metadata": {},
   "source": [
    "Options to include:\n",
    "  - shift & fixed dispersion\n",
    "  - normal & GEV\n",
    "  - logged or negative values\n",
    "  - single covariate"
   ]
  },
  {
   "cell_type": "markdown",
   "id": "add1d2e2-88b4-4ab1-9cb7-1e715b483a97",
   "metadata": {},
   "source": [
    "Methods needed:\n",
    "  - [x] model fitting\n",
    "  - [x] parameters of nonstationary model\n",
    "  - [ ] map to u\n",
    "  - [ ] return periods\n",
    "  - [ ] return times\n",
    "  - [ ] return level plot\n",
    "  - [ ] GMST trend plot\n",
    "  - [ ] time trend plot\n",
    "  - [ ] obs results for spreadsheet\n",
    "  - [ ] model results for spreadsheet"
   ]
  },
  {
   "cell_type": "markdown",
   "id": "b2fdb500-e63e-429b-a70c-89544bbea836",
   "metadata": {},
   "source": [
    "---\n",
    "## **Fitting methods**"
   ]
  },
  {
   "cell_type": "markdown",
   "id": "1a8b2839-6cab-4dae-badb-8d33679565c3",
   "metadata": {},
   "source": [
    "### **Nonstationary log-likelihood**"
   ]
  },
  {
   "cell_type": "code",
   "execution_count": 105,
   "id": "7a7b3660-e3d1-4f57-83dd-e3651be547b1",
   "metadata": {},
   "outputs": [],
   "source": [
    "# nonstationary log-likelihood function\n",
    "ns_loglik <- function(pars, cov1, x, dist, fittype) {\n",
    "\n",
    "    # compute nonstationary location & scale\n",
    "    if(fittype == \"fixeddisp\") {\n",
    "        const = exp((pars[\"alpha\"] * cov1) / pars[\"mu0\"])\n",
    "        loc = pars[\"mu0\"] * const\n",
    "        scale = pars[\"sigma0\"] * const\n",
    "    } else if(fittype == \"shift\") {\n",
    "        loc = pars[\"mu0\"] + pars[\"alpha\"] * cov1\n",
    "        scale = pars[\"sigma0\"]\n",
    "    } else {\n",
    "        print(paste(fittype, \"not implemented\"))\n",
    "        return()\n",
    "    }\n",
    "    \n",
    "    # return negative log-likelihood\n",
    "    if(dist == \"norm\") {\n",
    "        return(-sum(dnorm(x, mean = loc, sd = scale, log = T)))\n",
    "    } else if(dist == \"gev\") {\n",
    "        shape = pars[\"shape\"]\n",
    "        return(-sum(devd(x, loc = loc, scale = scale, shape = shape, log = T)))\n",
    "    } else {\n",
    "        print(paste(dist, \"not implemented\"))\n",
    "        return()\n",
    "    }\n",
    "}"
   ]
  },
  {
   "cell_type": "code",
   "execution_count": 73,
   "id": "e3623b43-f824-443e-9c19-439759c01c37",
   "metadata": {},
   "outputs": [],
   "source": [
    "# load model data for testing\n",
    "log10_pr <- merge(read.csv(\"data/test_gmst.dat\", comment.char = \"#\", sep = \" \", col.names = c(\"year\", \"gmst\")),\n",
    "            read.csv(\"data/test_precip.dat\", comment.char = \"#\", sep = \" \", col.names = c(\"year\", \"pr\")))\n",
    "log10_pr$log10_pr <- log10(log10_pr$pr)\n",
    "\n",
    "tmax <- merge(read.csv(\"data/test_gmst.dat\", comment.char = \"#\", sep = \" \", col.names = c(\"year\", \"gmst\")),\n",
    "            read.csv(\"data/test_tasmax.dat\", comment.char = \"#\", sep = \" \", col.names = c(\"year\", \"tmax\")))"
   ]
  },
  {
   "cell_type": "code",
   "execution_count": 93,
   "id": "27f01f6b-94d7-4483-867d-fe092c6fd7a4",
   "metadata": {},
   "outputs": [],
   "source": [
    "test_nsll <- function(varnm, dist, fittype, dp = 3) {\n",
    "    # quick testing function\n",
    "    \n",
    "    df <- get(varnm)\n",
    "    init <- c(\"mu0\" = mean(df[,varnm]), \"sigma0\" = sd(df[,varnm]), \"alpha\" = 0)\n",
    "    if(dist == \"gev\") init <- c(init, \"shape\" = 0)\n",
    "    \n",
    "    fitted <- round(optim(par = init, ns_loglik, cov1 = df$gmst, x = df[,varnm], dist = dist, fittype = fittype)$par, dp)\n",
    "    if(dist == \"norm\") fitted <- c(fitted, \"shape\" = NA)[c(\"mu0\", \"sigma0\", \"shape\", \"alpha\")]\n",
    "    \n",
    "    c(\"variable\" = varnm, \"dist\" = dist, \"fittype\" = fittype, fitted)\n",
    "}"
   ]
  },
  {
   "cell_type": "code",
   "execution_count": 94,
   "id": "e41599cb-7ae1-4a9a-833c-9a817c16688e",
   "metadata": {},
   "outputs": [
    {
     "data": {
      "text/html": [
       "<table class=\"dataframe\">\n",
       "<caption>A matrix: 4 × 7 of type chr</caption>\n",
       "<thead>\n",
       "\t<tr><th scope=col>variable</th><th scope=col>dist</th><th scope=col>fittype</th><th scope=col>mu0</th><th scope=col>sigma0</th><th scope=col>alpha</th><th scope=col>shape</th></tr>\n",
       "</thead>\n",
       "<tbody>\n",
       "\t<tr><td>tmax    </td><td>gev </td><td>shift    </td><td>32.059</td><td>0.962</td><td>3.185</td><td>-0.095</td></tr>\n",
       "\t<tr><td>tmax    </td><td>gev </td><td>fixeddisp</td><td>32.11 </td><td>0.929</td><td>3.017</td><td>-0.118</td></tr>\n",
       "\t<tr><td>log10_pr</td><td>norm</td><td>shift    </td><td>2.145 </td><td>0.176</td><td>NA   </td><td>0.127 </td></tr>\n",
       "\t<tr><td>log10_pr</td><td>norm</td><td>fixeddisp</td><td>2.145 </td><td>0.171</td><td>NA   </td><td>0.126 </td></tr>\n",
       "</tbody>\n",
       "</table>\n"
      ],
      "text/latex": [
       "A matrix: 4 × 7 of type chr\n",
       "\\begin{tabular}{lllllll}\n",
       " variable & dist & fittype & mu0 & sigma0 & alpha & shape\\\\\n",
       "\\hline\n",
       "\t tmax     & gev  & shift     & 32.059 & 0.962 & 3.185 & -0.095\\\\\n",
       "\t tmax     & gev  & fixeddisp & 32.11  & 0.929 & 3.017 & -0.118\\\\\n",
       "\t log10\\_pr & norm & shift     & 2.145  & 0.176 & NA    & 0.127 \\\\\n",
       "\t log10\\_pr & norm & fixeddisp & 2.145  & 0.171 & NA    & 0.126 \\\\\n",
       "\\end{tabular}\n"
      ],
      "text/markdown": [
       "\n",
       "A matrix: 4 × 7 of type chr\n",
       "\n",
       "| variable | dist | fittype | mu0 | sigma0 | alpha | shape |\n",
       "|---|---|---|---|---|---|---|\n",
       "| tmax     | gev  | shift     | 32.059 | 0.962 | 3.185 | -0.095 |\n",
       "| tmax     | gev  | fixeddisp | 32.11  | 0.929 | 3.017 | -0.118 |\n",
       "| log10_pr | norm | shift     | 2.145  | 0.176 | NA    | 0.127  |\n",
       "| log10_pr | norm | fixeddisp | 2.145  | 0.171 | NA    | 0.126  |\n",
       "\n"
      ],
      "text/plain": [
       "     variable dist fittype   mu0    sigma0 alpha shape \n",
       "[1,] tmax     gev  shift     32.059 0.962  3.185 -0.095\n",
       "[2,] tmax     gev  fixeddisp 32.11  0.929  3.017 -0.118\n",
       "[3,] log10_pr norm shift     2.145  0.176  NA    0.127 \n",
       "[4,] log10_pr norm fixeddisp 2.145  0.171  NA    0.126 "
      ]
     },
     "metadata": {},
     "output_type": "display_data"
    }
   ],
   "source": [
    "rbind(test_nsll(\"tmax\", \"gev\", \"shift\"),\n",
    "      test_nsll(\"tmax\", \"gev\", \"fixeddisp\"),\n",
    "      test_nsll(\"log10_pr\", \"norm\", \"shift\"),\n",
    "      test_nsll(\"log10_pr\", \"norm\", \"fixeddisp\"))"
   ]
  },
  {
   "cell_type": "code",
   "execution_count": 88,
   "id": "2915285d-c587-4f28-86a9-de420e5df625",
   "metadata": {},
   "outputs": [
    {
     "data": {
      "text/html": [
       "<table class=\"dataframe\">\n",
       "<caption>A data.frame: 4 × 7</caption>\n",
       "<thead>\n",
       "\t<tr><th scope=col>variable</th><th scope=col>dist</th><th scope=col>fittype</th><th scope=col>mu0</th><th scope=col>sigma0</th><th scope=col>shape</th><th scope=col>alpha</th></tr>\n",
       "\t<tr><th scope=col>&lt;chr&gt;</th><th scope=col>&lt;chr&gt;</th><th scope=col>&lt;chr&gt;</th><th scope=col>&lt;dbl&gt;</th><th scope=col>&lt;dbl&gt;</th><th scope=col>&lt;dbl&gt;</th><th scope=col>&lt;dbl&gt;</th></tr>\n",
       "</thead>\n",
       "<tbody>\n",
       "\t<tr><td>tmax    </td><td>gev </td><td>shift    </td><td>32.119</td><td>0.962</td><td>-0.108</td><td>3.100</td></tr>\n",
       "\t<tr><td>tmax    </td><td>gev </td><td>fixeddisp</td><td>32.135</td><td>0.914</td><td>-0.089</td><td>3.102</td></tr>\n",
       "\t<tr><td>log10_pr</td><td>norm</td><td>shift    </td><td> 2.135</td><td>0.175</td><td>    NA</td><td>0.141</td></tr>\n",
       "\t<tr><td>log10_pr</td><td>norm</td><td>fixeddisp</td><td> 2.134</td><td>0.169</td><td> 0.146</td><td>   NA</td></tr>\n",
       "</tbody>\n",
       "</table>\n"
      ],
      "text/latex": [
       "A data.frame: 4 × 7\n",
       "\\begin{tabular}{lllllll}\n",
       " variable & dist & fittype & mu0 & sigma0 & shape & alpha\\\\\n",
       " <chr> & <chr> & <chr> & <dbl> & <dbl> & <dbl> & <dbl>\\\\\n",
       "\\hline\n",
       "\t tmax     & gev  & shift     & 32.119 & 0.962 & -0.108 & 3.100\\\\\n",
       "\t tmax     & gev  & fixeddisp & 32.135 & 0.914 & -0.089 & 3.102\\\\\n",
       "\t log10\\_pr & norm & shift     &  2.135 & 0.175 &     NA & 0.141\\\\\n",
       "\t log10\\_pr & norm & fixeddisp &  2.134 & 0.169 &  0.146 &    NA\\\\\n",
       "\\end{tabular}\n"
      ],
      "text/markdown": [
       "\n",
       "A data.frame: 4 × 7\n",
       "\n",
       "| variable &lt;chr&gt; | dist &lt;chr&gt; | fittype &lt;chr&gt; | mu0 &lt;dbl&gt; | sigma0 &lt;dbl&gt; | shape &lt;dbl&gt; | alpha &lt;dbl&gt; |\n",
       "|---|---|---|---|---|---|---|\n",
       "| tmax     | gev  | shift     | 32.119 | 0.962 | -0.108 | 3.100 |\n",
       "| tmax     | gev  | fixeddisp | 32.135 | 0.914 | -0.089 | 3.102 |\n",
       "| log10_pr | norm | shift     |  2.135 | 0.175 |     NA | 0.141 |\n",
       "| log10_pr | norm | fixeddisp |  2.134 | 0.169 |  0.146 |    NA |\n",
       "\n"
      ],
      "text/plain": [
       "  variable dist fittype   mu0    sigma0 shape  alpha\n",
       "1 tmax     gev  shift     32.119 0.962  -0.108 3.100\n",
       "2 tmax     gev  fixeddisp 32.135 0.914  -0.089 3.102\n",
       "3 log10_pr norm shift      2.135 0.175      NA 0.141\n",
       "4 log10_pr norm fixeddisp  2.134 0.169   0.146    NA"
      ]
     },
     "metadata": {},
     "output_type": "display_data"
    }
   ],
   "source": [
    "# results from climate explorer - not identical, but very similar\n",
    "read.csv(\"cx-results.txt\", sep = \" \")"
   ]
  },
  {
   "cell_type": "markdown",
   "id": "c8e0f704-8ff8-497c-9a3b-c52f5549135a",
   "metadata": {},
   "source": [
    "### **Wrapper method to fit distribution**"
   ]
  },
  {
   "cell_type": "code",
   "execution_count": 177,
   "id": "3e3d69c9-d74c-438a-88ad-bc533d1af780",
   "metadata": {},
   "outputs": [],
   "source": [
    "# wrapper to fit nonstationary fixed-dispersion model\n",
    "\n",
    "fit_ns <- function(dist, type = \"fixeddisp\", data, varnm, covnm_1, lower = F, mintemps = F, event_index = NA, ...) {\n",
    "    \n",
    "    # currently only works for distributions fully specified by mean & sd: only tested for normal, lognormal\n",
    "    if(! dist %in% c(\"norm\", \"gev\")) {\n",
    "        print(\"Not yet implemented: use norm or gev\")\n",
    "        return()\n",
    "    }\n",
    "    \n",
    "    # if looking at minimum temperatures (or minima of negative values generally), need to flip data for stable model fitting\n",
    "    x <- data[,varnm]; if(mintemps) x <- -x\n",
    "    cov1 <- data[,covnm_1]\n",
    "    \n",
    "    # fit model with appropriate number of parameters, pad if necessary\n",
    "    init <- c(\"mu0\" = mean(x), \"sigma0\" = sd(x), \"alpha\" = 0)\n",
    "    if(dist == \"gev\") init <- c(init, \"shape\" = 0)\n",
    "    fitted <- suppressWarnings(optim(par = init, ns_loglik, cov1 = cov1, x = x, dist = dist, fittype = type))\n",
    "    \n",
    "    # if looking at minimum temperatures (or minima of negative values generally), so trend & location parameters have been flipped. This may cause some confusion so may have to modify later!\n",
    "    if(mintemps) {\n",
    "        fitted[[\"NOTE\"]] <- \"NB: model parameters are estimated for negative values\"\n",
    "        fitted$par[\"mu0\"] <- -fitted$par[\"mu0\"]\n",
    "        fitted$par[\"alpha\"] <- -fitted$par[\"alpha\"]\n",
    "        x <- -x\n",
    "    }\n",
    "            \n",
    "    # attach assorted useful information\n",
    "    fitted[[\"dist\"]] <- dist\n",
    "    fitted[[\"type\"]] <- type\n",
    "    fitted[[\"varnm\"]] <- varnm\n",
    "    fitted[[\"covnm_1\"]] <- covnm_1\n",
    "    fitted[[\"x\"]] <- x\n",
    "    fitted[[\"cov1\"]] <- data[,covnm_1]\n",
    "    \n",
    "    fitted[[\"lower\"]] <- lower               # saves having to specify every time later on\n",
    "    fitted[[\"mintemps\"]] <- mintemps         # look at maxima of 0-temps, rather than minima of observed temps\n",
    "    \n",
    "    if(is.na(event_index)) { event_index <- length(x) } # assume that year of interest is most recent, unless told otherwise (used in later plotting functions)\n",
    "    fitted[[\"ev_idx\"]] <- event_index\n",
    "\n",
    "    return(fitted)\n",
    "}"
   ]
  },
  {
   "cell_type": "code",
   "execution_count": 178,
   "id": "36a5be1e-515a-49b8-943e-85160a23a635",
   "metadata": {},
   "outputs": [],
   "source": [
    "# load model data for testing\n",
    "pr <- merge(read.csv(\"data/test_gmst.dat\", comment.char = \"#\", sep = \" \", col.names = c(\"year\", \"gmst\")),\n",
    "            read.csv(\"data/test_precip.dat\", comment.char = \"#\", sep = \" \", col.names = c(\"year\", \"pr\")))\n",
    "pr$log10_pr <- log10(pr$pr)\n",
    "\n",
    "tmax <- merge(read.csv(\"data/test_gmst.dat\", comment.char = \"#\", sep = \" \", col.names = c(\"year\", \"gmst\")),\n",
    "            read.csv(\"data/test_tasmax.dat\", comment.char = \"#\", sep = \" \", col.names = c(\"year\", \"tmax\")))\n",
    "\n",
    "tmin <- merge(read.csv(\"data/test_gmst.dat\", comment.char = \"#\", sep = \" \", col.names = c(\"year\", \"gmst\")),\n",
    "              read.csv(\"data/test_tasmin.dat\", comment.char = \"#\", sep = \" \", col.names = c(\"year\", \"tmin\")))\n",
    "\n",
    "pr_shift <- fit_ns(\"norm\", \"shift\", pr, \"log10_pr\", \"gmst\", lower = T)\n",
    "pr_fd <- fit_ns(\"norm\", \"fixeddisp\", pr, \"log10_pr\", \"gmst\", lower = T)\n",
    "\n",
    "tmax_shift <- fit_ns(\"gev\", \"shift\", tmax, \"tmax\", \"gmst\")\n",
    "tmax_fd <- fit_ns(\"gev\", \"fixeddisp\", tmax, \"tmax\", \"gmst\")\n",
    "\n",
    "tmin_shift <- fit_ns(\"gev\", \"shift\", tmin, \"tmin\", \"gmst\", lower = T, mintemps = T)"
   ]
  },
  {
   "cell_type": "markdown",
   "id": "a0454099-579d-4bb2-9c77-c679bdfad281",
   "metadata": {},
   "source": [
    "### **Get nonstationary parameters**"
   ]
  },
  {
   "cell_type": "code",
   "execution_count": 179,
   "id": "9f2b0be8-b5c0-4425-90aa-8459f36d2055",
   "metadata": {},
   "outputs": [],
   "source": [
    "ns_pars <- function(mdl, fixed_cov = NA) {\n",
    "    \n",
    "    # if no covariate value given, evaluate at all covariate values\n",
    "    if(is.na(fixed_cov)) fixed_cov <- mdl$cov1\n",
    "    \n",
    "    # calculate the nonstationary parameter values\n",
    "    pars <- mdl$par\n",
    "    if(mdl$type == \"fixeddisp\") {\n",
    "        \n",
    "        ns_const = exp((pars[\"alpha\"] * fixed_cov) / pars[\"mu0\"])\n",
    "        loc = pars[\"mu0\"] * ns_const\n",
    "        scale = pars[\"sigma0\"] * ns_const\n",
    "        \n",
    "    } else if(mdl$type == \"shift\") {\n",
    "        loc = pars[\"mu0\"] + pars[\"alpha\"] * fixed_cov\n",
    "        scale = pars[\"sigma0\"]\n",
    "        \n",
    "    } else {\n",
    "        print(paste(mdl$type,\"not implemented\"))\n",
    "        return()\n",
    "    }\n",
    "        \n",
    "    # return the list of named parameters: location, scale, shape (if applicable)\n",
    "    if(\"shape\" %in% names(pars)) {\n",
    "        return(lapply(list(\"loc\" = loc, \"scale\" = scale, \"shape\" = pars[\"shape\"]), unname))\n",
    "    } else {\n",
    "        return(lapply(list(\"loc\" = loc, \"scale\" = scale), unname))\n",
    "    }\n",
    "    \n",
    "}"
   ]
  },
  {
   "cell_type": "code",
   "execution_count": 180,
   "id": "8cacaa50-9309-408f-8cc0-4d0ec78f33cb",
   "metadata": {},
   "outputs": [
    {
     "data": {
      "text/html": [
       "<dl>\n",
       "\t<dt>$loc</dt>\n",
       "\t\t<dd>1.99664999862288</dd>\n",
       "\t<dt>$scale</dt>\n",
       "\t\t<dd>1.49141877362709</dd>\n",
       "\t<dt>$shape</dt>\n",
       "\t\t<dd>-0.120874300774847</dd>\n",
       "</dl>\n"
      ],
      "text/latex": [
       "\\begin{description}\n",
       "\\item[\\$loc] 1.99664999862288\n",
       "\\item[\\$scale] 1.49141877362709\n",
       "\\item[\\$shape] -0.120874300774847\n",
       "\\end{description}\n"
      ],
      "text/markdown": [
       "$loc\n",
       ":   1.99664999862288\n",
       "$scale\n",
       ":   1.49141877362709\n",
       "$shape\n",
       ":   -0.120874300774847\n",
       "\n",
       "\n"
      ],
      "text/plain": [
       "$loc\n",
       "[1] 1.99665\n",
       "\n",
       "$scale\n",
       "[1] 1.491419\n",
       "\n",
       "$shape\n",
       "[1] -0.1208743\n"
      ]
     },
     "metadata": {},
     "output_type": "display_data"
    }
   ],
   "source": [
    "ns_pars(tmin_shift, tmin$gmst[tmin$year == 2022])"
   ]
  },
  {
   "cell_type": "code",
   "execution_count": 176,
   "id": "a6a7a4dc-a599-46aa-914a-91bc9d91dac0",
   "metadata": {},
   "outputs": [
    {
     "data": {
      "text/html": [
       "0.9165972"
      ],
      "text/latex": [
       "0.9165972"
      ],
      "text/markdown": [
       "0.9165972"
      ],
      "text/plain": [
       "[1] 0.9165972"
      ]
     },
     "metadata": {},
     "output_type": "display_data"
    }
   ],
   "source": [
    "tmin$gmst[tmin$year == 2022]"
   ]
  },
  {
   "cell_type": "code",
   "execution_count": null,
   "id": "44be73ef-276f-4d78-837e-c71b1c79cb9f",
   "metadata": {},
   "outputs": [],
   "source": []
  }
 ],
 "metadata": {
  "kernelspec": {
   "display_name": "R [conda env:r_env]",
   "language": "R",
   "name": "conda-env-r_env-r"
  },
  "language_info": {
   "codemirror_mode": "r",
   "file_extension": ".r",
   "mimetype": "text/x-r-source",
   "name": "R",
   "pygments_lexer": "r",
   "version": "4.2.2"
  }
 },
 "nbformat": 4,
 "nbformat_minor": 5
}
