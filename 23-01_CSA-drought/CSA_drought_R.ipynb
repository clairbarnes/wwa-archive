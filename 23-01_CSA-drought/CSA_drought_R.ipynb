{
 "cells": [
  {
   "cell_type": "markdown",
   "id": "f7b92248-ae01-4558-86d5-71eca2cb2a33",
   "metadata": {},
   "source": [
    "# **Agricultural drought in central South America**"
   ]
  },
  {
   "cell_type": "code",
   "execution_count": 74,
   "id": "a76f6d57-65d3-4d77-b5f5-b7720cffa41a",
   "metadata": {},
   "outputs": [],
   "source": [
    "source(\"../methods_extRemes.r\")"
   ]
  },
  {
   "cell_type": "markdown",
   "id": "3dcc36a7-9aef-45a9-8bb4-3afe8db59fe4",
   "metadata": {},
   "source": [
    "### **Fit distribution**"
   ]
  },
  {
   "cell_type": "code",
   "execution_count": 39,
   "id": "7fe56059-849f-40b0-af43-83cc45b6e16d",
   "metadata": {},
   "outputs": [],
   "source": [
    "df <- read.csv(\"ts/CSA-drought_pr-ndj_era5.dat\", comment.char = \"#\", header = F, sep = \" \", col.names = c(\"year\", \"precip\"))\n",
    "gmst <- read.fwf(\"/home/clair/wwa/90_data/gmst.dat\", comment.char = \"#\", widths = c(5,15), col.names = c(\"year\", \"gmst\"))\n",
    "df <- merge(gmst, df)\n",
    "\n",
    "event_year <- max(df$year)\n",
    "event_gmst <- gmst[gmst$year == event_year, \"gmst\"]\n",
    "event_value <- df[df$year == event_year, \"precip\"]\n",
    "y <- which(df$year == event_year)"
   ]
  },
  {
   "cell_type": "code",
   "execution_count": 27,
   "id": "1a16b7e4-4dab-4027-9c06-4261630be68f",
   "metadata": {},
   "outputs": [],
   "source": [
    "fd_fit <- fnorm_fixeddisp(\"precip\", \"gmst\", df, method = \"MLE\") "
   ]
  },
  {
   "cell_type": "code",
   "execution_count": 47,
   "id": "5f653fb9-6392-484b-a350-3f4b251364c8",
   "metadata": {},
   "outputs": [],
   "source": [
    "event_rp <- return_period(fd_fit, event_value, event_gmst, lower = T)"
   ]
  },
  {
   "cell_type": "code",
   "execution_count": 51,
   "id": "e14b0114-d4d3-4576-8f99-1d7576b5dcc7",
   "metadata": {},
   "outputs": [],
   "source": [
    "return_period(fd_fit, event_value, event_gmst, lower = T)"
   ]
  },
  {
   "cell_type": "code",
   "execution_count": 54,
   "id": "57ebd9cb-cab9-49b5-ac42-c0c6e0f0a113",
   "metadata": {},
   "outputs": [
    {
     "data": {
      "text/html": [
       "1004.28616969861"
      ],
      "text/latex": [
       "1004.28616969861"
      ],
      "text/markdown": [
       "1004.28616969861"
      ],
      "text/plain": [
       "[1] 1004.286"
      ]
     },
     "metadata": {},
     "output_type": "display_data"
    }
   ],
   "source": [
    "return_period(fd_fit, event_value, gmst[gmst$year == \"2000\", \"gmst\"], lower = T)"
   ]
  },
  {
   "cell_type": "code",
   "execution_count": 76,
   "id": "ed589da5-b19e-4cd0-b693-6db2c2b5cb9a",
   "metadata": {},
   "outputs": [
    {
     "data": {
      "text/html": [
       "1.0007020338781"
      ],
      "text/latex": [
       "1.0007020338781"
      ],
      "text/markdown": [
       "1.0007020338781"
      ],
      "text/plain": [
       "[1] 1.000702"
      ]
     },
     "metadata": {},
     "output_type": "display_data"
    }
   ],
   "source": [
    "1/prob_ratio(fd_fit, event_value, event_gmst, gmst[gmst$year == \"2000\", \"gmst\"], lower = T)"
   ]
  },
  {
   "cell_type": "code",
   "execution_count": 33,
   "id": "b172075f-5a1f-4fc4-ae16-e849be6187e5",
   "metadata": {},
   "outputs": [],
   "source": [
    "pnorm(value, mean = pars[\"mu0\"] * exp(pars[\"alpha\"] * cov1 / pars[\"mu0\"]), sd = pars[\"sigma0\"] * exp(pars[\"alpha\"] * cov1 / pars[\"mu0\"]), lower.tail = lower)"
   ]
  },
  {
   "cell_type": "code",
   "execution_count": 77,
   "id": "c7eec0af-caf6-4f1c-a7ba-9e6707f1cacc",
   "metadata": {},
   "outputs": [
    {
     "data": {
      "text/html": [
       "0.998303425051846"
      ],
      "text/latex": [
       "0.998303425051846"
      ],
      "text/markdown": [
       "0.998303425051846"
      ],
      "text/plain": [
       "[1] 0.9983034"
      ]
     },
     "metadata": {},
     "output_type": "display_data"
    }
   ],
   "source": [
    "pnorm(event_value, mean = pars$loc, sd = pars$scale, lower.tail = F) / pnorm(event_value, mean = pars$loc, sd = pars$scale, lower.tail = F)"
   ]
  },
  {
   "cell_type": "code",
   "execution_count": 63,
   "id": "54ee6492-2755-4e65-a0d6-8aae464ba4bb",
   "metadata": {},
   "outputs": [],
   "source": [
    "cov1 = event_gmst\n",
    "pars[\"mu0\"] * exp(pars[\"alpha\"] * cov1 / pars[\"mu0\"])"
   ]
  },
  {
   "cell_type": "code",
   "execution_count": 78,
   "id": "e0115482-4856-42c5-9717-1481a84c9031",
   "metadata": {},
   "outputs": [],
   "source": [
    "pars <- sgev_pars(fd_fit, event_gmst)\n",
    "pars2 <- sgev_pars(fd_fit, gmst[gmst$year == \"2000\", \"gmst\"])"
   ]
  },
  {
   "cell_type": "code",
   "execution_count": 79,
   "id": "de3417e8-ccfd-485d-bffb-80596fb1f201",
   "metadata": {},
   "outputs": [
    {
     "data": {
      "text/html": [
       "<dl>\n",
       "\t<dt>$loc</dt>\n",
       "\t\t<dd>4.20944203500614</dd>\n",
       "\t<dt>$scale</dt>\n",
       "\t\t<dd>0.68440984818348</dd>\n",
       "\t<dt>$shape</dt>\n",
       "\t\t<dd>&lt;NA&gt;</dd>\n",
       "</dl>\n"
      ],
      "text/latex": [
       "\\begin{description}\n",
       "\\item[\\$loc] 4.20944203500614\n",
       "\\item[\\$scale] 0.68440984818348\n",
       "\\item[\\$shape] <NA>\n",
       "\\end{description}\n"
      ],
      "text/markdown": [
       "$loc\n",
       ":   4.20944203500614\n",
       "$scale\n",
       ":   0.68440984818348\n",
       "$shape\n",
       ":   &lt;NA&gt;\n",
       "\n",
       "\n"
      ],
      "text/plain": [
       "$loc\n",
       "[1] 4.209442\n",
       "\n",
       "$scale\n",
       "[1] 0.6844098\n",
       "\n",
       "$shape\n",
       "[1] NA\n"
      ]
     },
     "metadata": {},
     "output_type": "display_data"
    }
   ],
   "source": [
    "pars2"
   ]
  },
  {
   "cell_type": "markdown",
   "id": "71a98df2-1e8e-43b8-ab53-8fe9023fcb1b",
   "metadata": {
    "jp-MarkdownHeadingCollapsed": true,
    "tags": []
   },
   "source": [
    "---\n",
    "### **CPC SPI**\n",
    "Very slow to fit in R, although more error checking - look at porting this into Python at some point"
   ]
  },
  {
   "cell_type": "code",
   "execution_count": null,
   "id": "803b351a-d89b-46d2-b05f-a3809bf79b46",
   "metadata": {},
   "outputs": [],
   "source": [
    "# suppressMessages({\n",
    "#     library(\"SPEI\")            # conda activate r_env; conda install r-spei -y\n",
    "# })\n",
    "\n",
    "# # load data for whole map, create df with just those columns containing land surface cells\n",
    "# df_all = read.csv(\"data/cpc_pr_monthly.csv\", skip = 2)\n",
    "# df = df_all[,colSums(!is.na(df_all)) > 0]\n",
    "\n",
    "# # fit SPI to land surface cells only (this part is s-l-o-w)\n",
    "# df_spi <- spi(ts(df[,-1], start = c(1979,01), frequency = 12), scale = 3, ref.start = c(1980,01), ref.end = c(2010,12), distribution = \"Gamma\")\n",
    "\n",
    "# save(df_spi, file = \"data/cpc_spi3-fitted.Rdata\")\n",
    "\n",
    "# # overwrite non-null values in original dataframe with fitted SPI, and save\n",
    "# df_map <- df_all[,-1]\n",
    "# df_map[,colSums(!is.na(df_map)) > 0] <- data.frame(df_spi$fitted)\n",
    "# df_map <- cbind(\"time\" = df_all[,1], df_map)\n",
    "\n",
    "# write.csv(df_map, \"data/cpc_spi3_rfitted.csv\", row.names = F)"
   ]
  }
 ],
 "metadata": {
  "kernelspec": {
   "display_name": "R [conda env:r_env]",
   "language": "R",
   "name": "conda-env-r_env-r"
  },
  "language_info": {
   "codemirror_mode": "r",
   "file_extension": ".r",
   "mimetype": "text/x-r-source",
   "name": "R",
   "pygments_lexer": "r",
   "version": "4.2.2"
  }
 },
 "nbformat": 4,
 "nbformat_minor": 5
}
