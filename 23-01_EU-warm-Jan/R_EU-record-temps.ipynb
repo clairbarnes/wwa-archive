{
 "cells": [
  {
   "cell_type": "code",
   "execution_count": 46,
   "id": "4236544a-7f02-42f4-a9ea-9f7b2f1b0e3f",
   "metadata": {
    "tags": []
   },
   "outputs": [],
   "source": [
    "source(\"../methods_extRemes.r\")\n",
    "\n",
    "fnm <- \"eobs_tx1x-jul_weu_flattened.csv\"\n",
    "\n",
    "#~~~~~~~~~~~~~~~~~~~~~~~~~~~~~~~~~~~~~~~~~~~~~~~~~~~~~~~~~~~~~~~~~~~~~~\n",
    "\n",
    "df <- read.csv(paste0(\"fitted-models/\", fnm), skip = 2)\n",
    "gmst <- read.csv(\"../90_data/gmst.csv\")\n",
    "df <- merge(gmst, df)\n",
    "\n",
    "event_year <- max(df$year)\n",
    "event_gmst <- gmst$gmst[gmst$year == event_year]\n",
    "y <- which(df$year == event_year)"
   ]
  },
  {
   "cell_type": "markdown",
   "id": "9d32ee2e-f5e7-4c2c-8543-5085628375d4",
   "metadata": {
    "tags": []
   },
   "source": [
    "---\n",
    "### **Fit GEV to each land surface cell**"
   ]
  },
  {
   "cell_type": "code",
   "execution_count": 47,
   "id": "688bdf67-8462-424a-8175-cff410828ead",
   "metadata": {},
   "outputs": [
    {
     "data": {
      "text/plain": [
       "   user  system elapsed \n",
       " 78.635   0.064  78.819 "
      ]
     },
     "metadata": {},
     "output_type": "display_data"
    }
   ],
   "source": [
    "# fit model to each grid cell (takes about 80s)\n",
    "system.time({\n",
    "    mle_gev = lapply(colnames(df)[-(1:2)], function(cnm) {\n",
    "        \n",
    "        if(sum(is.na(df[,cnm])) > 2) {\n",
    "            return(NULL)\n",
    "        } else {\n",
    "            df_c = setNames(df[,c(\"gmst\",cnm)], c(\"gmst\", \"tmax\"))\n",
    "            df_c = df_c[!is.na(df_c$tmax),]\n",
    "            return(suppressWarnings(fevd(x=tmax, data=df_c, location.fun=~gmst, type=\"GEV\", optim.args = list(method = \"Nelder-Mead\"))))\n",
    "        }\n",
    "    })\n",
    "})"
   ]
  },
  {
   "cell_type": "code",
   "execution_count": 48,
   "id": "697efc19-ed42-4b4a-8e6b-8465c2baac06",
   "metadata": {},
   "outputs": [],
   "source": [
    "# parameter estimates, event value, return period\n",
    "ml_res <- data.frame(t(do.call(\"rbind\", lapply(1:length(mle_gev), function(i) {\n",
    "    if(is.null(mle_gev[[i]])) {\n",
    "        return(setNames(rep(NA,11), c(\"mu0\", \"mu1\", \"sigma0\", \"shape\", \"ep\", \"rp\", \"rl10\", \"rl20\", \"pr\", \"delta_I\", \"nll\")))\n",
    "    } else {\n",
    "        mdl <- mle_gev[[i]]\n",
    "        pars <- model_pars(mdl)\n",
    "        qc = event_qcov(mdl, event_gmst)\n",
    "        ev = mdl$x[y]\n",
    "        \n",
    "        ep = unname(1-pextRemes(mdl, q = ev, qcov = qc))\n",
    "        rp = 1/(ep)\n",
    "        rl10 = unname(return_level(mdl, 10, event_gmst))\n",
    "        rl20 = unname(return_level(mdl, 20, event_gmst))\n",
    "        \n",
    "        pr = prob_ratio(mdl, ev, event_gmst, event_gmst - 1.2)\n",
    "        \n",
    "        nll = mdl$results$value\n",
    "        \n",
    "        if(is.finite(rp)) {\n",
    "            di = delta_I(mdl, rp, event_gmst, event_gmst - 1.2)\n",
    "        } else {\n",
    "            di = NA\n",
    "        }\n",
    "        \n",
    "        return(c(\"mu0\" = unname(pars[\"mu0\"]), \"mu1\" = unname(pars[\"mu1\"]), \"scale\" = unname(pars[\"scale\"]), \"shape\" = unname(pars[\"shape\"]), \n",
    "                 \"ep\" = ep, \"rp\" = rp, \"rl10\" = rl10, \"rl20\" = rl20, \"pr\" = pr, \"delta_I\" = di, \"nll\" = nll))\n",
    "    }\n",
    "}))))\n",
    "write.csv(ml_res, paste0(\"fitted-models/\", gsub(\"flattened\", \"shift-ml-ests\", fnm)))"
   ]
  },
  {
   "cell_type": "code",
   "execution_count": null,
   "id": "c62a8727-f527-4fa4-b5eb-348b41298f73",
   "metadata": {},
   "outputs": [],
   "source": []
  }
 ],
 "metadata": {
  "kernelspec": {
   "display_name": "R [conda env:r_env]",
   "language": "R",
   "name": "conda-env-r_env-r"
  },
  "language_info": {
   "codemirror_mode": "r",
   "file_extension": ".r",
   "mimetype": "text/x-r-source",
   "name": "R",
   "pygments_lexer": "r",
   "version": "4.2.2"
  }
 },
 "nbformat": 4,
 "nbformat_minor": 5
}
