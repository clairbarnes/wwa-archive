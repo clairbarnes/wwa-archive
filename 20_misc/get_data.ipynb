{
 "cells": [
  {
   "cell_type": "markdown",
   "metadata": {},
   "source": [
    "---\n",
    "### **CHIRPS**"
   ]
  },
  {
   "cell_type": "markdown",
   "metadata": {},
   "source": [
    "Download archive of global daily data at 0.25 / .05 degree resolution (only needs to be run once):\n",
    "```\n",
    "! cd /rds/general/project/wwa/live/data/chirps_05; for y in `seq 1981 2022`; do wget https://data.chc.ucsb.edu/products/CHIRPS-2.0/global_daily/netcdf/p05/chirps-v2.0.$y.days_p05.nc; done\n",
    "! cd /rds/general/project/wwa/live/data/chirps_25; for y in `seq 1981 2022`; do wget https://data.chc.ucsb.edu/products/CHIRPS-2.0/global_daily/netcdf/p25/chirps-v2.0.$y.days_p5.nc; done\n",
    "```"
   ]
  },
  {
   "cell_type": "code",
   "execution_count": null,
   "metadata": {},
   "outputs": [],
   "source": [
    "# update this year's data:\n",
    "\n",
    "! cd /rds/general/project/wwa/live/data/chirps_05; rm chirps-v2.0.2023.days_p05.nc; wget https://data.chc.ucsb.edu/products/CHIRPS-2.0/global_daily/netcdf/p05/chirps-v2.0.2023.days_p05.nc\n",
    "! cd /rds/general/project/wwa/live/data/chirps_25; rm chirps-v2.0.2023.days_p25.nc; wget https://data.chc.ucsb.edu/products/CHIRPS-2.0/global_daily/netcdf/p25/chirps-v2.0.2023.days_p25.nc"
   ]
  },
  {
   "cell_type": "markdown",
   "metadata": {},
   "source": [
    "---\n",
    "### **CORDEX (and other ESGF data)**\n",
    "\n"
   ]
  },
  {
   "cell_type": "markdown",
   "metadata": {},
   "source": [
    "#### **Searching & installing data**\n",
    "Always search for the data before installing, to make sure you're picking up the right files. Examples of valid searches:\n",
    "```\n",
    "synda search domain=\"AFR-44 AFR-22\" variable=pr\n",
    "synda search domain=EUR-11 variable=tas\n",
    "```\n",
    "Once you're happy with the search criteria, you can install the data by replacing 'search' with 'install'.\n",
    "\n",
    "After you're finished with the data, it's a good idea to uninstall it by running the same command, but replacing 'search' with 'remove'.\n"
   ]
  },
  {
   "cell_type": "markdown",
   "metadata": {},
   "source": [
    "#### **Initial setup**"
   ]
  },
  {
   "cell_type": "markdown",
   "metadata": {},
   "source": [
    "Any data that is available from ESGF can be downloaded via `synda`. To use synda you'll need a dedicated conda environment, created via\n",
    "```\n",
    "! conda create -y --name synda -c IPSL synda\n",
    "```\n",
    "You will also need to declare the `ST_HOME` variable in your .bashrc file, by running\n",
    "```\n",
    "cat `export ST_HOME=/rds/general/user/cb2714/projects/wwa/ephemeral/synda` >> .bashrc\n",
    "```\n",
    "\n",
    "Then run `conda activate synda` and you should be ready to start downloading."
   ]
  },
  {
   "cell_type": "markdown",
   "metadata": {},
   "source": [
    "#### **Re-initialising the synda directory**"
   ]
  },
  {
   "cell_type": "markdown",
   "metadata": {},
   "source": [
    "Synda is set up to run on the ephemeral drive, so data will be deleted after 30 days.  \n",
    "Depending on how much of the file setup is deleted, the synda file tree may need to be reinitialised before new data can be downloaded. To do this, run `synda init-env` and enter `y` to create new file stubs.  \n",
    "Someone will need to provide their ESGF credentials: to download CORDEX data, membership of the CORDEX access control group must be [requested via ESGF](http://esg-dn1.nsc.liu.se/ac/subscribe/CORDEX_Research/).\n",
    "\n",
    "Before attempting to download data, the default settings need to be modified (otherwise downloads seem to fail for some reason). Open `/rds/general/user/cb2714/projects/wwa/ephemeral/synda/conf/default/default.txt` and replace the contents with the following:\n",
    "```\n",
    "# $ST_HOME/conf/defaults/default.txt\n",
    "\n",
    "latest=true\n",
    "local_path_format=custom\n",
    "local_path_drs_template=%(project)s/%(domain)s/%(driving_model)s/%(ensemble)s/%(rcm_name)s/%(variable)s\n",
    "\n",
    "frequency=day\n",
    "experiment=rcp85 historical\n",
    "\n",
    "#distrib=true\n",
    "protocol=http\n",
    "#replica=true\n",
    "\n",
    "timeslice=19000101-20501231\n",
    "```\n",
    "\n",
    "To search for data from projects other than CORDEX, you may need to un-comment `distrib=true` and/or `replica=true`. You may also need to modify the format of `local_path_drs_template` to remove references to the domain and rcm_name, neither of which are valid fields for CMIP5 or CMIP6.\n"
   ]
  },
  {
   "cell_type": "markdown",
   "metadata": {},
   "source": [
    "---\n",
    "### **CPC**"
   ]
  },
  {
   "cell_type": "markdown",
   "metadata": {},
   "source": [
    "Download archive of global daily precip, tmax, tmin (only needs to be run once):\n",
    "```\n",
    "! cd /rds/general/project/wwa/live/data/cpc; for y in `seq 1979 2023`; do wget https://downloads.psl.noaa.gov/Datasets/cpc_global_precip/precip.$y.nc; wget https://downloads.psl.noaa.gov/Datasets/cpc_global_temp/tmax.$y.nc; wget https://downloads.psl.noaa.gov/Datasets/cpc_global_temp/tmin.$y.nc; done\n",
    "```"
   ]
  },
  {
   "cell_type": "code",
   "execution_count": null,
   "metadata": {},
   "outputs": [],
   "source": [
    "! cd /rds/general/project/wwa/live/data/cpc; for y in `seq 1979 2023`; do wget https://downloads.psl.noaa.gov/Datasets/cpc_global_precip/precip.$y.nc; wget https://downloads.psl.noaa.gov/Datasets/cpc_global_temp/tmax.$y.nc; wget https://downloads.psl.noaa.gov/Datasets/cpc_global_temp/tmin.$y.nc; done"
   ]
  },
  {
   "cell_type": "code",
   "execution_count": null,
   "metadata": {},
   "outputs": [],
   "source": [
    "# update this year's data:\n",
    "\n",
    "! cd /rds/general/project/wwa/live/data/cpc; rm precip.2023.nc; rm tmax.2023.nc; rm tmin.2023.nc; wget https://downloads.psl.noaa.gov/Datasets/cpc_global_precip/precip.2023.nc; wget https://downloads.psl.noaa.gov/Datasets/cpc_global_temp/tmax.2023.nc; wget https://downloads.psl.noaa.gov/Datasets/cpc_global_temp/tmin.2023.nc"
   ]
  },
  {
   "cell_type": "markdown",
   "metadata": {},
   "source": [
    "---\n",
    "### **MSWEP**"
   ]
  },
  {
   "cell_type": "markdown",
   "metadata": {},
   "source": [
    "#### **Initial setup**\n",
    "\n",
    "Data has to be downloaded from Google drive via `rclone`: this requires some initial setup.\n",
    "\n",
    "The process is slightly more complicated because we're working on a remote machine and can't just authorise access to Google Drive as you usually would.  \n",
    "First you need to configure `rclone` on your local machine, then copy the config file to the RDS (following method 2 [here](https://rclone.org/remote_setup/)).\n",
    "\n",
    "First [install rclone](https://rclone.org/install/) following the instructions for your OS.  \n",
    "\n",
    "Then configure `rclone` on your local machine (walkthrough video available [here](http://www.gloh2o.org/mswep/#faq)):\n",
    "```\n",
    "> rclone config\n",
    "- 'n' to create a new connection - give it a meaningful name (eg mswep)\n",
    "- storage type: drive\n",
    "- most options can be left blank as default, unless noted otherwise below\n",
    "- read-only access\n",
    "- use auto config: y\n",
    "- authenticate your Google account\n",
    "```\n",
    "When local setup is complete, run `rclone config file` to find out where the config file is saved. We now need to copy this to the RDS.\n",
    "\n",
    "On the rds, run `rclone config file` to find out where the config file needs to be saved. Paste the config file into this location. (You might need to create an empty text file, paste in the file contents, rename & move to the final location)\n"
   ]
  },
  {
   "cell_type": "markdown",
   "metadata": {},
   "source": [
    "#### **To update with the latest data:**\n",
    "Rclone checks each file to see if the original has been updated since the data was last downloaded.  \n",
    "Checking every file in the 'past' archive can be quite slow, so it is recommended to do this only once every few months, as data moves from 'nrt' to 'past'.\n",
    "```\n",
    "# ! module load rclone; rclone sync -v --drive-shared-with-me mswep:/MSWEP_V280/Past/Daily /rds/general/project/wwa/live/data/mswep_past\n",
    "! module load rclone; rclone sync -v --drive-shared-with-me mswep:/MSWEP_V280/NRT/Daily /rds/general/project/wwa/live/data/mswep_nrt\n",
    "```\n"
   ]
  },
  {
   "cell_type": "code",
   "execution_count": null,
   "metadata": {},
   "outputs": [],
   "source": []
  }
 ],
 "metadata": {
  "kernelspec": {
   "display_name": "wwa",
   "language": "python",
   "name": "wwa"
  },
  "language_info": {
   "codemirror_mode": {
    "name": "ipython",
    "version": 3
   },
   "file_extension": ".py",
   "mimetype": "text/x-python",
   "name": "python",
   "nbconvert_exporter": "python",
   "pygments_lexer": "ipython3",
   "version": "3.10.8"
  }
 },
 "nbformat": 4,
 "nbformat_minor": 2
}
