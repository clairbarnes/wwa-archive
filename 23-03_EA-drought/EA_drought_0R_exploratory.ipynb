{
 "cells": [
  {
   "cell_type": "markdown",
   "id": "69377586-6c4b-4628-bb69-46c5d9fb849e",
   "metadata": {},
   "source": [
    "# **East Africa drought study - exploratory analysis**"
   ]
  },
  {
   "cell_type": "code",
   "execution_count": 2,
   "id": "90133e1e-b50c-44d7-a70f-2ea9ac70e165",
   "metadata": {},
   "outputs": [],
   "source": [
    "source(\"../methods_extRemes.r\")"
   ]
  },
  {
   "cell_type": "markdown",
   "id": "5c68c87a-723e-4e38-8932-bda23f32f224",
   "metadata": {},
   "source": [
    "## **Trends in ENSO/GMST/IOD/MJO**"
   ]
  },
  {
   "cell_type": "code",
   "execution_count": 35,
   "id": "436e69eb-b046-4348-8861-3cac8fb7fd94",
   "metadata": {},
   "outputs": [],
   "source": [
    "df <- merge(merge(merge(merge(merge(merge(merge(merge(read.fwf(\"/home/clair/wwa/90_data/gmst.dat\", comment.char = \"#\", widths = c(5,15), col.names = c(\"year\", \"gmst\")),\n",
    "                                                      read.csv(\"data/nino3.4rel_mam.csv\", col.names = c(\"year\", \"nino_mam\"))),\n",
    "                                                read.csv(\"data/nino3.4rel_ond.csv\", col.names = c(\"year\", \"nino_ond\"))),\n",
    "                                          read.csv(\"ts/EA-drought_pr-mam_chirps05.dat\", comment.char = \"#\", sep = \" \", header = F, col.names = c(\"year\", \"mam\"))),\n",
    "                                    read.csv(\"ts/EA-drought_pr-ond_chirps05.dat\", comment.char = \"#\", sep = \" \", header = F, col.names = c(\"year\", \"ond\"))),\n",
    "                              read.csv(\"ts/EA-drought_pr12_chirps05.dat\", comment.char = \"#\", sep = \" \", header = F, col.names = c(\"year\", \"pr12\"))),\n",
    "                        read.csv(\"ts/EA-drought_pr24_chirps05.dat\", comment.char = \"#\", sep = \" \", header = F, col.names = c(\"year\", \"pr24\")), all = T),\n",
    "                  read.csv(\"data/iod_ond.csv\"), all = T),\n",
    "            read.csv(\"data/mjo_ond.csv\"), all = T)\n",
    "write.csv(df, \"data/gmst-nino-rains.csv\", row.names = F)\n",
    "\n",
    "df[\"log_ond\"] <- log10(df$ond)\n",
    "\n",
    "write.csv(df, \"data/gmst-nino-rains.csv\", row.names = F)"
   ]
  },
  {
   "cell_type": "code",
   "execution_count": 36,
   "id": "bc03461c-25e7-4c10-a0b7-159e55466038",
   "metadata": {},
   "outputs": [
    {
     "data": {
      "text/plain": [
       "\n",
       "Call:\n",
       "lm(formula = log_ond ~ gmst + nino_ond, data = df)\n",
       "\n",
       "Coefficients:\n",
       "(Intercept)         gmst     nino_ond  \n",
       "    2.10883      0.20680      0.08381  \n"
      ]
     },
     "metadata": {},
     "output_type": "display_data"
    }
   ],
   "source": [
    "df <- read.csv(\"data/gmst-nino-rains.csv\")\n",
    "\n",
    "lm_ond <- lm(ond ~ gmst + nino_ond, df)\n",
    "lm_logond <- lm(log_ond ~ gmst + nino_ond, df)\n",
    "\n",
    "# ml_ond <- fnorm(\"ond\", \"gmst\", df, type = \"fixeddisp\")\n",
    "# ml_logond <- fnorm(\"log_ond\", \"gmst\", df, type = \"fixeddisp\")\n",
    "lm_logond"
   ]
  },
  {
   "cell_type": "code",
   "execution_count": 53,
   "id": "17c058e5-2eaa-44e2-abde-28f667570441",
   "metadata": {},
   "outputs": [
    {
     "data": {
      "text/plain": [
       "\n",
       "Call:\n",
       "lm(formula = log_ond ~ gmst + nino_ond, data = df[, c(\"log_ond\", \n",
       "    \"gmst\", \"nino_ond\")])\n",
       "\n",
       "Residuals:\n",
       "     Min       1Q   Median       3Q      Max \n",
       "-0.30852 -0.09853 -0.01236  0.08978  0.34928 \n",
       "\n",
       "Coefficients:\n",
       "            Estimate Std. Error t value Pr(>|t|)    \n",
       "(Intercept)  2.10883    0.05753  36.657  < 2e-16 ***\n",
       "gmst         0.20680    0.09927   2.083 0.043826 *  \n",
       "nino_ond     0.08381    0.02051   4.086 0.000211 ***\n",
       "---\n",
       "Signif. codes:  0 ‘***’ 0.001 ‘**’ 0.01 ‘*’ 0.05 ‘.’ 0.1 ‘ ’ 1\n",
       "\n",
       "Residual standard error: 0.1519 on 39 degrees of freedom\n",
       "  (111 observations deleted due to missingness)\n",
       "Multiple R-squared:  0.3248,\tAdjusted R-squared:  0.2901 \n",
       "F-statistic: 9.378 on 2 and 39 DF,  p-value: 0.0004726\n"
      ]
     },
     "metadata": {},
     "output_type": "display_data"
    }
   ],
   "source": [
    "summary(lm(log_ond ~ gmst + nino_ond, df[,c(\"log_ond\", \"gmst\", \"nino_ond\")]))"
   ]
  },
  {
   "cell_type": "code",
   "execution_count": 52,
   "id": "23ce6144-6989-4f6c-9c64-c348350cb07c",
   "metadata": {},
   "outputs": [
    {
     "data": {
      "text/plain": [
       "\n",
       "Call:\n",
       "lm(formula = log_ond ~ gmst + mjo09_ond, data = df)\n",
       "\n",
       "Residuals:\n",
       "     Min       1Q   Median       3Q      Max \n",
       "-0.27097 -0.07101 -0.00627  0.08418  0.43951 \n",
       "\n",
       "Coefficients:\n",
       "            Estimate Std. Error t value Pr(>|t|)    \n",
       "(Intercept)  2.11387    0.05274  40.079  < 2e-16 ***\n",
       "gmst         0.25371    0.09345   2.715  0.00991 ** \n",
       "mjo09_ond   -0.33397    0.06283  -5.315 4.94e-06 ***\n",
       "---\n",
       "Signif. codes:  0 ‘***’ 0.001 ‘**’ 0.01 ‘*’ 0.05 ‘.’ 0.1 ‘ ’ 1\n",
       "\n",
       "Residual standard error: 0.1381 on 38 degrees of freedom\n",
       "  (112 observations deleted due to missingness)\n",
       "Multiple R-squared:  0.4533,\tAdjusted R-squared:  0.4245 \n",
       "F-statistic: 15.75 on 2 and 38 DF,  p-value: 1.042e-05\n"
      ]
     },
     "metadata": {},
     "output_type": "display_data"
    }
   ],
   "source": [
    "summary(lm(log_ond ~ gmst + mjo09_ond, df))"
   ]
  },
  {
   "cell_type": "code",
   "execution_count": 23,
   "id": "15bab88b-5f7c-4d0e-939f-5fca5fd434a7",
   "metadata": {},
   "outputs": [
    {
     "data": {
      "text/html": [
       "<dl>\n",
       "\t<dt>$par</dt>\n",
       "\t\t<dd><style>\n",
       ".dl-inline {width: auto; margin:0; padding: 0}\n",
       ".dl-inline>dt, .dl-inline>dd {float: none; width: auto; display: inline-block}\n",
       ".dl-inline>dt::after {content: \":\\0020\"; padding-right: .5ex}\n",
       ".dl-inline>dt:not(:first-of-type) {padding-left: .5ex}\n",
       "</style><dl class=dl-inline><dt>mu0</dt><dd>2.10327304154507</dd><dt>sigma0</dt><dd>0.147473407592301</dd><dt>alpha</dt><dd>0.221315770503575</dd><dt>beta</dt><dd>0.0826116760971827</dd></dl>\n",
       "</dd>\n",
       "\t<dt>$value</dt>\n",
       "\t\t<dd>-20.3013713507363</dd>\n",
       "\t<dt>$counts</dt>\n",
       "\t\t<dd><style>\n",
       ".dl-inline {width: auto; margin:0; padding: 0}\n",
       ".dl-inline>dt, .dl-inline>dd {float: none; width: auto; display: inline-block}\n",
       ".dl-inline>dt::after {content: \":\\0020\"; padding-right: .5ex}\n",
       ".dl-inline>dt:not(:first-of-type) {padding-left: .5ex}\n",
       "</style><dl class=dl-inline><dt>function</dt><dd>389</dd><dt>gradient</dt><dd>&lt;NA&gt;</dd></dl>\n",
       "</dd>\n",
       "\t<dt>$convergence</dt>\n",
       "\t\t<dd>0</dd>\n",
       "\t<dt>$message</dt>\n",
       "\t\t<dd>NULL</dd>\n",
       "</dl>\n"
      ],
      "text/latex": [
       "\\begin{description}\n",
       "\\item[\\$par] \\begin{description*}\n",
       "\\item[mu0] 2.10327304154507\n",
       "\\item[sigma0] 0.147473407592301\n",
       "\\item[alpha] 0.221315770503575\n",
       "\\item[beta] 0.0826116760971827\n",
       "\\end{description*}\n",
       "\n",
       "\\item[\\$value] -20.3013713507363\n",
       "\\item[\\$counts] \\begin{description*}\n",
       "\\item[function] 389\n",
       "\\item[gradient] <NA>\n",
       "\\end{description*}\n",
       "\n",
       "\\item[\\$convergence] 0\n",
       "\\item[\\$message] NULL\n",
       "\\end{description}\n"
      ],
      "text/markdown": [
       "$par\n",
       ":   mu0\n",
       ":   2.10327304154507sigma0\n",
       ":   0.147473407592301alpha\n",
       ":   0.221315770503575beta\n",
       ":   0.0826116760971827\n",
       "\n",
       "\n",
       "$value\n",
       ":   -20.3013713507363\n",
       "$counts\n",
       ":   function\n",
       ":   389gradient\n",
       ":   &lt;NA&gt;\n",
       "\n",
       "\n",
       "$convergence\n",
       ":   0\n",
       "$message\n",
       ":   NULL\n",
       "\n",
       "\n"
      ],
      "text/plain": [
       "$par\n",
       "       mu0     sigma0      alpha       beta \n",
       "2.10327304 0.14747341 0.22131577 0.08261168 \n",
       "\n",
       "$value\n",
       "[1] -20.30137\n",
       "\n",
       "$counts\n",
       "function gradient \n",
       "     389       NA \n",
       "\n",
       "$convergence\n",
       "[1] 0\n",
       "\n",
       "$message\n",
       "NULL\n"
      ]
     },
     "metadata": {},
     "output_type": "display_data"
    }
   ],
   "source": [
    "# MLE with two covariates (no interaction)\n",
    "norm_shift_2cov <- function(pars = c(mu0, sigma0, alpha, beta), cov1, cov2, x) {\n",
    "    \n",
    "    loc = pars[\"mu0\"] + pars[\"alpha\"] * cov1 + pars[\"beta\"] * cov2\n",
    "    scale = pars[\"sigma0\"]\n",
    "    \n",
    "    # return negative log-likelihood to be minimised\n",
    "    return(-sum(dnorm(x, mean = loc, sd = scale, log = T)))\n",
    "}\n",
    "\n",
    "init <- c(\"mu0\" = mean(df$log_ond), \"sigma0\" = sd(df$log_ond), \"alpha\" = 0, \"beta\" = 0)\n",
    "ml_shift_2cov <- optim(par = init, norm_shift_2cov, cov1 = df$gmst, cov2 = df$nino_ond, x = df$log_ond)\n",
    "ml_shift_2cov"
   ]
  },
  {
   "cell_type": "code",
   "execution_count": 27,
   "id": "68b685ff-c20e-460b-9363-dae06c8490e9",
   "metadata": {},
   "outputs": [],
   "source": [
    "norm_fixeddisp_2cov <- function(pars = c(mu0, sigma0, alpha, beta), cov1, cov2, x) {\n",
    "    \n",
    "    const = exp((pars[\"alpha\"] * cov1 + pars[\"beta\"] * cov2) / pars[\"mu0\"])\n",
    "    loc = pars[\"mu0\"] * const\n",
    "    scale = pars[\"sigma0\"] * const\n",
    "    \n",
    "    # return negative log-likelihood to be minimised\n",
    "    return(-sum(dnorm(x, mean = loc, sd = scale, log = T)))\n",
    "}\n",
    "ml_fd_gmst_nino <- optim(par = init, norm_fixeddisp_2cov, cov1 = df$gmst, cov2 = df$nino_ond, x = df$log_ond)\n",
    "ml_fd_gmst_iod <- optim(par = init, norm_fixeddisp_2cov, cov1 = df$gmst, cov2 = df$iod_ond, x = df$log_ond)\n",
    "ml_fd_gmst_mjo <- optim(par = init, norm_fixeddisp_2cov, cov1 = df$gmst, cov2 = df$mjo09_ond, x = df$log_ond)"
   ]
  },
  {
   "cell_type": "code",
   "execution_count": 28,
   "id": "4a4c9dd4-a065-4c18-b6d8-12cf7520823f",
   "metadata": {},
   "outputs": [
    {
     "data": {
      "text/html": [
       "<dl>\n",
       "\t<dt>$par</dt>\n",
       "\t\t<dd><style>\n",
       ".dl-inline {width: auto; margin:0; padding: 0}\n",
       ".dl-inline>dt, .dl-inline>dd {float: none; width: auto; display: inline-block}\n",
       ".dl-inline>dt::after {content: \":\\0020\"; padding-right: .5ex}\n",
       ".dl-inline>dt:not(:first-of-type) {padding-left: .5ex}\n",
       "</style><dl class=dl-inline><dt>mu0</dt><dd>2.10316050709274</dd><dt>sigma0</dt><dd>0.138229882200062</dd><dt>alpha</dt><dd>0.211455111446034</dd><dt>beta</dt><dd>0.0788360983090596</dd></dl>\n",
       "</dd>\n",
       "\t<dt>$value</dt>\n",
       "\t\t<dd>-20.916648914881</dd>\n",
       "\t<dt>$counts</dt>\n",
       "\t\t<dd><style>\n",
       ".dl-inline {width: auto; margin:0; padding: 0}\n",
       ".dl-inline>dt, .dl-inline>dd {float: none; width: auto; display: inline-block}\n",
       ".dl-inline>dt::after {content: \":\\0020\"; padding-right: .5ex}\n",
       ".dl-inline>dt:not(:first-of-type) {padding-left: .5ex}\n",
       "</style><dl class=dl-inline><dt>function</dt><dd>339</dd><dt>gradient</dt><dd>&lt;NA&gt;</dd></dl>\n",
       "</dd>\n",
       "\t<dt>$convergence</dt>\n",
       "\t\t<dd>0</dd>\n",
       "\t<dt>$message</dt>\n",
       "\t\t<dd>NULL</dd>\n",
       "</dl>\n"
      ],
      "text/latex": [
       "\\begin{description}\n",
       "\\item[\\$par] \\begin{description*}\n",
       "\\item[mu0] 2.10316050709274\n",
       "\\item[sigma0] 0.138229882200062\n",
       "\\item[alpha] 0.211455111446034\n",
       "\\item[beta] 0.0788360983090596\n",
       "\\end{description*}\n",
       "\n",
       "\\item[\\$value] -20.916648914881\n",
       "\\item[\\$counts] \\begin{description*}\n",
       "\\item[function] 339\n",
       "\\item[gradient] <NA>\n",
       "\\end{description*}\n",
       "\n",
       "\\item[\\$convergence] 0\n",
       "\\item[\\$message] NULL\n",
       "\\end{description}\n"
      ],
      "text/markdown": [
       "$par\n",
       ":   mu0\n",
       ":   2.10316050709274sigma0\n",
       ":   0.138229882200062alpha\n",
       ":   0.211455111446034beta\n",
       ":   0.0788360983090596\n",
       "\n",
       "\n",
       "$value\n",
       ":   -20.916648914881\n",
       "$counts\n",
       ":   function\n",
       ":   339gradient\n",
       ":   &lt;NA&gt;\n",
       "\n",
       "\n",
       "$convergence\n",
       ":   0\n",
       "$message\n",
       ":   NULL\n",
       "\n",
       "\n"
      ],
      "text/plain": [
       "$par\n",
       "      mu0    sigma0     alpha      beta \n",
       "2.1031605 0.1382299 0.2114551 0.0788361 \n",
       "\n",
       "$value\n",
       "[1] -20.91665\n",
       "\n",
       "$counts\n",
       "function gradient \n",
       "     339       NA \n",
       "\n",
       "$convergence\n",
       "[1] 0\n",
       "\n",
       "$message\n",
       "NULL\n"
      ]
     },
     "metadata": {},
     "output_type": "display_data"
    },
    {
     "data": {
      "text/html": [
       "<dl>\n",
       "\t<dt>$par</dt>\n",
       "\t\t<dd><style>\n",
       ".dl-inline {width: auto; margin:0; padding: 0}\n",
       ".dl-inline>dt, .dl-inline>dd {float: none; width: auto; display: inline-block}\n",
       ".dl-inline>dt::after {content: \":\\0020\"; padding-right: .5ex}\n",
       ".dl-inline>dt:not(:first-of-type) {padding-left: .5ex}\n",
       "</style><dl class=dl-inline><dt>mu0</dt><dd>2.14833309619077</dd><dt>sigma0</dt><dd>0.107643659467013</dd><dt>alpha</dt><dd>-0.0685439299787451</dd><dt>beta</dt><dd>0.404476383032545</dd></dl>\n",
       "</dd>\n",
       "\t<dt>$value</dt>\n",
       "\t\t<dd>-32.0759524539654</dd>\n",
       "\t<dt>$counts</dt>\n",
       "\t\t<dd><style>\n",
       ".dl-inline {width: auto; margin:0; padding: 0}\n",
       ".dl-inline>dt, .dl-inline>dd {float: none; width: auto; display: inline-block}\n",
       ".dl-inline>dt::after {content: \":\\0020\"; padding-right: .5ex}\n",
       ".dl-inline>dt:not(:first-of-type) {padding-left: .5ex}\n",
       "</style><dl class=dl-inline><dt>function</dt><dd>271</dd><dt>gradient</dt><dd>&lt;NA&gt;</dd></dl>\n",
       "</dd>\n",
       "\t<dt>$convergence</dt>\n",
       "\t\t<dd>0</dd>\n",
       "\t<dt>$message</dt>\n",
       "\t\t<dd>NULL</dd>\n",
       "</dl>\n"
      ],
      "text/latex": [
       "\\begin{description}\n",
       "\\item[\\$par] \\begin{description*}\n",
       "\\item[mu0] 2.14833309619077\n",
       "\\item[sigma0] 0.107643659467013\n",
       "\\item[alpha] -0.0685439299787451\n",
       "\\item[beta] 0.404476383032545\n",
       "\\end{description*}\n",
       "\n",
       "\\item[\\$value] -32.0759524539654\n",
       "\\item[\\$counts] \\begin{description*}\n",
       "\\item[function] 271\n",
       "\\item[gradient] <NA>\n",
       "\\end{description*}\n",
       "\n",
       "\\item[\\$convergence] 0\n",
       "\\item[\\$message] NULL\n",
       "\\end{description}\n"
      ],
      "text/markdown": [
       "$par\n",
       ":   mu0\n",
       ":   2.14833309619077sigma0\n",
       ":   0.107643659467013alpha\n",
       ":   -0.0685439299787451beta\n",
       ":   0.404476383032545\n",
       "\n",
       "\n",
       "$value\n",
       ":   -32.0759524539654\n",
       "$counts\n",
       ":   function\n",
       ":   271gradient\n",
       ":   &lt;NA&gt;\n",
       "\n",
       "\n",
       "$convergence\n",
       ":   0\n",
       "$message\n",
       ":   NULL\n",
       "\n",
       "\n"
      ],
      "text/plain": [
       "$par\n",
       "        mu0      sigma0       alpha        beta \n",
       " 2.14833310  0.10764366 -0.06854393  0.40447638 \n",
       "\n",
       "$value\n",
       "[1] -32.07595\n",
       "\n",
       "$counts\n",
       "function gradient \n",
       "     271       NA \n",
       "\n",
       "$convergence\n",
       "[1] 0\n",
       "\n",
       "$message\n",
       "NULL\n"
      ]
     },
     "metadata": {},
     "output_type": "display_data"
    },
    {
     "data": {
      "text/html": [
       "<dl>\n",
       "\t<dt>$par</dt>\n",
       "\t\t<dd><style>\n",
       ".dl-inline {width: auto; margin:0; padding: 0}\n",
       ".dl-inline>dt, .dl-inline>dd {float: none; width: auto; display: inline-block}\n",
       ".dl-inline>dt::after {content: \":\\0020\"; padding-right: .5ex}\n",
       ".dl-inline>dt:not(:first-of-type) {padding-left: .5ex}\n",
       "</style><dl class=dl-inline><dt>mu0</dt><dd>2.10881380201511</dd><dt>sigma0</dt><dd>0.127141944022553</dd><dt>alpha</dt><dd>0.244993021957114</dd><dt>beta</dt><dd>-0.292766526896778</dd></dl>\n",
       "</dd>\n",
       "\t<dt>$value</dt>\n",
       "\t\t<dd>-24.468393092577</dd>\n",
       "\t<dt>$counts</dt>\n",
       "\t\t<dd><style>\n",
       ".dl-inline {width: auto; margin:0; padding: 0}\n",
       ".dl-inline>dt, .dl-inline>dd {float: none; width: auto; display: inline-block}\n",
       ".dl-inline>dt::after {content: \":\\0020\"; padding-right: .5ex}\n",
       ".dl-inline>dt:not(:first-of-type) {padding-left: .5ex}\n",
       "</style><dl class=dl-inline><dt>function</dt><dd>399</dd><dt>gradient</dt><dd>&lt;NA&gt;</dd></dl>\n",
       "</dd>\n",
       "\t<dt>$convergence</dt>\n",
       "\t\t<dd>0</dd>\n",
       "\t<dt>$message</dt>\n",
       "\t\t<dd>NULL</dd>\n",
       "</dl>\n"
      ],
      "text/latex": [
       "\\begin{description}\n",
       "\\item[\\$par] \\begin{description*}\n",
       "\\item[mu0] 2.10881380201511\n",
       "\\item[sigma0] 0.127141944022553\n",
       "\\item[alpha] 0.244993021957114\n",
       "\\item[beta] -0.292766526896778\n",
       "\\end{description*}\n",
       "\n",
       "\\item[\\$value] -24.468393092577\n",
       "\\item[\\$counts] \\begin{description*}\n",
       "\\item[function] 399\n",
       "\\item[gradient] <NA>\n",
       "\\end{description*}\n",
       "\n",
       "\\item[\\$convergence] 0\n",
       "\\item[\\$message] NULL\n",
       "\\end{description}\n"
      ],
      "text/markdown": [
       "$par\n",
       ":   mu0\n",
       ":   2.10881380201511sigma0\n",
       ":   0.127141944022553alpha\n",
       ":   0.244993021957114beta\n",
       ":   -0.292766526896778\n",
       "\n",
       "\n",
       "$value\n",
       ":   -24.468393092577\n",
       "$counts\n",
       ":   function\n",
       ":   399gradient\n",
       ":   &lt;NA&gt;\n",
       "\n",
       "\n",
       "$convergence\n",
       ":   0\n",
       "$message\n",
       ":   NULL\n",
       "\n",
       "\n"
      ],
      "text/plain": [
       "$par\n",
       "       mu0     sigma0      alpha       beta \n",
       " 2.1088138  0.1271419  0.2449930 -0.2927665 \n",
       "\n",
       "$value\n",
       "[1] -24.46839\n",
       "\n",
       "$counts\n",
       "function gradient \n",
       "     399       NA \n",
       "\n",
       "$convergence\n",
       "[1] 0\n",
       "\n",
       "$message\n",
       "NULL\n"
      ]
     },
     "metadata": {},
     "output_type": "display_data"
    }
   ],
   "source": [
    "ml_fd_gmst_nino\n",
    "ml_fd_gmst_iod\n",
    "ml_fd_gmst_mjo"
   ]
  },
  {
   "cell_type": "markdown",
   "id": "100c83e8-2010-4edd-b275-a9b17b57f4c2",
   "metadata": {},
   "source": [
    "### **Choose best representation for Nino3.4**"
   ]
  },
  {
   "cell_type": "code",
   "execution_count": 8,
   "id": "a90af236-cfaf-409d-91e6-d1c411e944d4",
   "metadata": {},
   "outputs": [],
   "source": [
    "\n",
    "df[\"nino_ond_factor\"] <- as.factor(c(1,0,2)[findInterval(df$nino_ond, c(-0.5,0.5))+1]) # 0 is neutral, 1 is La Nina, 2 is El Nino\n",
    "df[\"nino_mam_factor\"] <- as.factor(c(1,0,2)[findInterval(df$nino_ond, c(-0.5,0.5))+1])\n",
    "\n",
    "df[\"nino_ond_bin\"] <- findInterval(df$nino_ond, c(-0.5,0.5))-1 # 0 is neutral, -1 if La Nina, 1 if El Nino"
   ]
  },
  {
   "cell_type": "code",
   "execution_count": 4,
   "id": "090111f0-d102-49f4-8750-1651348862dc",
   "metadata": {},
   "outputs": [],
   "source": [
    "# best fit is from treating Nino3.4 as a continuous coefficient\n",
    "lm_ond_cts <- lm(ond ~ gmst + nino_ond, df)\n",
    "lm_ond_disc <- lm(ond ~ gmst + I(nino_ond < -0.5) + I(nino_ond > 0.5), df) # identical results to using factorial definition\n",
    "lm_ond_fac <- lm(ond ~ gmst + nino_ond_factor, df)\n",
    "lm_ond_bin <- lm(ond ~ gmst + nino_ond_bin, df)\n",
    "lm_ond_nogmst <- lm(ond ~ nino_ond, df)"
   ]
  },
  {
   "cell_type": "code",
   "execution_count": 57,
   "id": "497d1082-550e-4bf3-b854-4e6a12bd12cc",
   "metadata": {},
   "outputs": [
    {
     "data": {
      "text/html": [
       "<table class=\"dataframe\">\n",
       "<caption>A data.frame: 5 × 10</caption>\n",
       "<thead>\n",
       "\t<tr><th></th><th scope=col>rsq</th><th scope=col>adj.rsq</th><th scope=col>(Intercept)</th><th scope=col>gmst</th><th scope=col>nino_ond</th><th scope=col>I(nino_ond &lt; -0.5)TRUE</th><th scope=col>I(nino_ond &gt; 0.5)TRUE</th><th scope=col>nino_ond_factor1</th><th scope=col>nino_ond_factor2</th><th scope=col>nino_ond_bin</th></tr>\n",
       "\t<tr><th></th><th scope=col>&lt;dbl&gt;</th><th scope=col>&lt;dbl&gt;</th><th scope=col>&lt;dbl&gt;</th><th scope=col>&lt;dbl&gt;</th><th scope=col>&lt;dbl&gt;</th><th scope=col>&lt;dbl&gt;</th><th scope=col>&lt;dbl&gt;</th><th scope=col>&lt;dbl&gt;</th><th scope=col>&lt;dbl&gt;</th><th scope=col>&lt;dbl&gt;</th></tr>\n",
       "</thead>\n",
       "<tbody>\n",
       "\t<tr><th scope=row>continuous</th><td>0.2970957</td><td>0.2610493</td><td>133.8361</td><td>91.53667</td><td>41.46163</td><td>       NA</td><td>      NA</td><td>       NA</td><td>      NA</td><td>      NA</td></tr>\n",
       "\t<tr><th scope=row>discretised</th><td>0.2179090</td><td>0.1561650</td><td>131.1351</td><td>86.30261</td><td>      NA</td><td>-38.87009</td><td>59.99385</td><td>       NA</td><td>      NA</td><td>      NA</td></tr>\n",
       "\t<tr><th scope=row>as factor</th><td>0.2179090</td><td>0.1561650</td><td>131.1351</td><td>86.30261</td><td>      NA</td><td>       NA</td><td>      NA</td><td>-38.87009</td><td>59.99385</td><td>      NA</td></tr>\n",
       "\t<tr><th scope=row>Nina -1, Nino +1</th><td>0.2150905</td><td>0.1748388</td><td>136.8762</td><td>89.12251</td><td>      NA</td><td>       NA</td><td>      NA</td><td>       NA</td><td>      NA</td><td>49.00473</td></tr>\n",
       "\t<tr><th scope=row>cts, no GMST</th><td>0.2402755</td><td>0.2212823</td><td>182.2470</td><td>      NA</td><td>38.36857</td><td>       NA</td><td>      NA</td><td>       NA</td><td>      NA</td><td>      NA</td></tr>\n",
       "</tbody>\n",
       "</table>\n"
      ],
      "text/latex": [
       "A data.frame: 5 × 10\n",
       "\\begin{tabular}{r|llllllllll}\n",
       "  & rsq & adj.rsq & (Intercept) & gmst & nino\\_ond & I(nino\\_ond < -0.5)TRUE & I(nino\\_ond > 0.5)TRUE & nino\\_ond\\_factor1 & nino\\_ond\\_factor2 & nino\\_ond\\_bin\\\\\n",
       "  & <dbl> & <dbl> & <dbl> & <dbl> & <dbl> & <dbl> & <dbl> & <dbl> & <dbl> & <dbl>\\\\\n",
       "\\hline\n",
       "\tcontinuous & 0.2970957 & 0.2610493 & 133.8361 & 91.53667 & 41.46163 &        NA &       NA &        NA &       NA &       NA\\\\\n",
       "\tdiscretised & 0.2179090 & 0.1561650 & 131.1351 & 86.30261 &       NA & -38.87009 & 59.99385 &        NA &       NA &       NA\\\\\n",
       "\tas factor & 0.2179090 & 0.1561650 & 131.1351 & 86.30261 &       NA &        NA &       NA & -38.87009 & 59.99385 &       NA\\\\\n",
       "\tNina -1, Nino +1 & 0.2150905 & 0.1748388 & 136.8762 & 89.12251 &       NA &        NA &       NA &        NA &       NA & 49.00473\\\\\n",
       "\tcts, no GMST & 0.2402755 & 0.2212823 & 182.2470 &       NA & 38.36857 &        NA &       NA &        NA &       NA &       NA\\\\\n",
       "\\end{tabular}\n"
      ],
      "text/markdown": [
       "\n",
       "A data.frame: 5 × 10\n",
       "\n",
       "| <!--/--> | rsq &lt;dbl&gt; | adj.rsq &lt;dbl&gt; | (Intercept) &lt;dbl&gt; | gmst &lt;dbl&gt; | nino_ond &lt;dbl&gt; | I(nino_ond &lt; -0.5)TRUE &lt;dbl&gt; | I(nino_ond &gt; 0.5)TRUE &lt;dbl&gt; | nino_ond_factor1 &lt;dbl&gt; | nino_ond_factor2 &lt;dbl&gt; | nino_ond_bin &lt;dbl&gt; |\n",
       "|---|---|---|---|---|---|---|---|---|---|---|\n",
       "| continuous | 0.2970957 | 0.2610493 | 133.8361 | 91.53667 | 41.46163 |        NA |       NA |        NA |       NA |       NA |\n",
       "| discretised | 0.2179090 | 0.1561650 | 131.1351 | 86.30261 |       NA | -38.87009 | 59.99385 |        NA |       NA |       NA |\n",
       "| as factor | 0.2179090 | 0.1561650 | 131.1351 | 86.30261 |       NA |        NA |       NA | -38.87009 | 59.99385 |       NA |\n",
       "| Nina -1, Nino +1 | 0.2150905 | 0.1748388 | 136.8762 | 89.12251 |       NA |        NA |       NA |        NA |       NA | 49.00473 |\n",
       "| cts, no GMST | 0.2402755 | 0.2212823 | 182.2470 |       NA | 38.36857 |        NA |       NA |        NA |       NA |       NA |\n",
       "\n"
      ],
      "text/plain": [
       "                 rsq       adj.rsq   (Intercept) gmst     nino_ond\n",
       "continuous       0.2970957 0.2610493 133.8361    91.53667 41.46163\n",
       "discretised      0.2179090 0.1561650 131.1351    86.30261       NA\n",
       "as factor        0.2179090 0.1561650 131.1351    86.30261       NA\n",
       "Nina -1, Nino +1 0.2150905 0.1748388 136.8762    89.12251       NA\n",
       "cts, no GMST     0.2402755 0.2212823 182.2470          NA 38.36857\n",
       "                 I(nino_ond < -0.5)TRUE I(nino_ond > 0.5)TRUE nino_ond_factor1\n",
       "continuous              NA                    NA                     NA       \n",
       "discretised      -38.87009              59.99385                     NA       \n",
       "as factor               NA                    NA              -38.87009       \n",
       "Nina -1, Nino +1        NA                    NA                     NA       \n",
       "cts, no GMST            NA                    NA                     NA       \n",
       "                 nino_ond_factor2 nino_ond_bin\n",
       "continuous             NA               NA    \n",
       "discretised            NA               NA    \n",
       "as factor        59.99385               NA    \n",
       "Nina -1, Nino +1       NA         49.00473    \n",
       "cts, no GMST           NA               NA    "
      ]
     },
     "metadata": {},
     "output_type": "display_data"
    }
   ],
   "source": [
    "res = rbind.fill(sapply(list(\"continuous\" = lm_ond_cts, \"discretised\" = lm_ond_disc, \"as factor\" = lm_ond_fac, \"Nina -1, Nino +1\" = lm_ond_bin, \"cts, no GMST\" = lm_ond_nogmst), function(mdl) {\n",
    "    res = c(\"rsq\" = summary(mdl)$r.squared, \"adj.rsq\" = summary(mdl)$adj.r.squared, mdl$coefficients)\n",
    "    as.data.frame(t(res))\n",
    "}, simplify = F))\n",
    "rownames(res) <- c(\"continuous\", \"discretised\", \"as factor\", \"Nina -1, Nino +1\", \"cts, no GMST\")\n",
    "res\n",
    "\n",
    "# will set as continuous variable: gives best R^2 & similar results to other methods"
   ]
  },
  {
   "cell_type": "markdown",
   "id": "8279b81d-4004-4f8b-a24e-cb3ab1fae1f4",
   "metadata": {},
   "source": [
    "### **pr_ond ~ gmst + nino_ond**"
   ]
  },
  {
   "cell_type": "code",
   "execution_count": 6,
   "id": "46c04653-ae87-499e-9ca5-b70c48cade6c",
   "metadata": {},
   "outputs": [],
   "source": []
  },
  {
   "cell_type": "code",
   "execution_count": 6,
   "id": "4ad00543-14c7-4ee2-ac08-86ce79df87b5",
   "metadata": {},
   "outputs": [
    {
     "name": "stderr",
     "output_type": "stream",
     "text": [
      "Warning message in abline(lm_ond_cts, col = \"blue\"):\n",
      "“only using the first two of 3 regression coefficients”\n"
     ]
    },
    {
     "data": {
      "image/png": "[encoded data removed]",
      "text/plain": [
       "plot without title"
      ]
     },
     "metadata": {
      "image/png": {
       "height": 420,
       "width": 420
      }
     },
     "output_type": "display_data"
    }
   ],
   "source": [
    "plot(df$gmst, df$ond, pch = 20, ylim = c(0,500))\n",
    "abline(lm_ond_cts, col = \"blue\")\n",
    "points(df$gmst, fitted(lm_ond_cts), pch = 4, col = \"blue\")"
   ]
  },
  {
   "cell_type": "code",
   "execution_count": 213,
   "id": "f78f22c6-97f8-473d-b507-3ac0c60d3cd0",
   "metadata": {},
   "outputs": [
    {
     "data": {
      "image/png": "[encoded data removed]",
      "text/plain": [
       "plot without title"
      ]
     },
     "metadata": {
      "image/png": {
       "height": 420,
       "width": 420
      }
     },
     "output_type": "display_data"
    }
   ],
   "source": [
    "plot(df$gmst, df$ond, pch = 20, ylim = c(0,500), col = c(\"red\", \"gold\", \"blue\")[df$nino_ond_bin+2])\n",
    "abline(sum(lm_ond_bin$coefficients[c(1,3)]), lm_ond_bin$coefficients[2], col = \"blue\")\n",
    "abline(lm_ond_bin$coefficients[1], lm_ond_bin$coefficients[2], col = \"gold\")\n",
    "abline(diff(lm_ond_bin$coefficients[c(3,1)]), lm_ond_bin$coefficients[2], col = \"red\")"
   ]
  },
  {
   "cell_type": "code",
   "execution_count": 207,
   "id": "4970d8be-0267-4577-8369-fa284b317c26",
   "metadata": {},
   "outputs": [
    {
     "data": {
      "image/png": "[encoded data removed]",
      "text/plain": [
       "plot without title"
      ]
     },
     "metadata": {
      "image/png": {
       "height": 420,
       "width": 420
      }
     },
     "output_type": "display_data"
    }
   ],
   "source": [
    "plot(0, type = \"n\", ylim = c(0,500), xlim = c(0,1))\n",
    "abline(diff(lm_ond_bin$coefficients[c(1,3)]), lm_ond_bin$coefficients[2], col = \"blue\")"
   ]
  },
  {
   "cell_type": "code",
   "execution_count": 210,
   "id": "b58ca487-2a4d-4520-a987-be4fbff30a06",
   "metadata": {},
   "outputs": [
    {
     "data": {
      "text/html": [
       "<strong>(Intercept):</strong> 88.3188055943037"
      ],
      "text/latex": [
       "\\textbf{(Intercept):} 88.3188055943037"
      ],
      "text/markdown": [
       "**(Intercept):** 88.3188055943037"
      ],
      "text/plain": [
       "(Intercept) \n",
       "   88.31881 "
      ]
     },
     "metadata": {},
     "output_type": "display_data"
    }
   ],
   "source": [
    "diff(lm_ond_bin$coefficients[c(3,1)])"
   ]
  },
  {
   "cell_type": "code",
   "execution_count": 202,
   "id": "0f243156-23cf-495a-90ac-8c22f62e403a",
   "metadata": {},
   "outputs": [
    {
     "data": {
      "text/html": [
       "<strong>gmst:</strong> 91.0479938447726"
      ],
      "text/latex": [
       "\\textbf{gmst:} 91.0479938447726"
      ],
      "text/markdown": [
       "**gmst:** 91.0479938447726"
      ],
      "text/plain": [
       "    gmst \n",
       "91.04799 "
      ]
     },
     "metadata": {},
     "output_type": "display_data"
    }
   ],
   "source": [
    "lm_ond_bin$coefficients[2]"
   ]
  },
  {
   "cell_type": "code",
   "execution_count": 209,
   "id": "d07d20e0-2731-40e8-baf8-8f10c44f2b14",
   "metadata": {},
   "outputs": [
    {
     "data": {
      "text/html": [
       "<style>\n",
       ".dl-inline {width: auto; margin:0; padding: 0}\n",
       ".dl-inline>dt, .dl-inline>dd {float: none; width: auto; display: inline-block}\n",
       ".dl-inline>dt::after {content: \":\\0020\"; padding-right: .5ex}\n",
       ".dl-inline>dt:not(:first-of-type) {padding-left: .5ex}\n",
       "</style><dl class=dl-inline><dt>(Intercept)</dt><dd>134.672302354666</dd><dt>nino_ond_bin</dt><dd>46.3534967603624</dd></dl>\n"
      ],
      "text/latex": [
       "\\begin{description*}\n",
       "\\item[(Intercept)] 134.672302354666\n",
       "\\item[nino\\textbackslash{}\\_ond\\textbackslash{}\\_bin] 46.3534967603624\n",
       "\\end{description*}\n"
      ],
      "text/markdown": [
       "(Intercept)\n",
       ":   134.672302354666nino_ond_bin\n",
       ":   46.3534967603624\n",
       "\n"
      ],
      "text/plain": [
       " (Intercept) nino_ond_bin \n",
       "    134.6723      46.3535 "
      ]
     },
     "metadata": {},
     "output_type": "display_data"
    }
   ],
   "source": [
    "lm_ond_bin$coefficients[c(1,3)]"
   ]
  },
  {
   "cell_type": "markdown",
   "id": "217c7b9b-cd30-40ff-be60-bc64d6edadd0",
   "metadata": {},
   "source": [
    "## **Choice of distribution**"
   ]
  },
  {
   "cell_type": "markdown",
   "id": "cab225b0-f98a-4f08-b8fa-dc51810a9d47",
   "metadata": {},
   "source": [
    "### **Gamma fitting**\n",
    "\n",
    "_gamma distribution has fixed coefficient of variation, so shouldn't be necessary to fit location + scale: instead, let rate vary with covariate_"
   ]
  },
  {
   "cell_type": "code",
   "execution_count": 1,
   "id": "c53eb349-a545-457c-bcae-ed5e9e3fef81",
   "metadata": {},
   "outputs": [],
   "source": [
    "source(\"../methods_extRemes.r\")\n",
    "df <- read.csv(\"data/gmst-nino-rains.csv\")"
   ]
  },
  {
   "cell_type": "code",
   "execution_count": 25,
   "id": "00f90ce5-e98d-4192-a5a1-9db22886ccec",
   "metadata": {},
   "outputs": [],
   "source": [
    "# fit all gamma models & check results\n",
    "\n",
    "invisible(sapply(c(\"ond\", \"mam\", \"pr12\", \"pr24\")[1], function(varnm) {\n",
    "    \n",
    "    var_df = df[!is.na(df[varnm]),]\n",
    "    gamma_init = c(fitdistr(var_df[,varnm], \"gamma\")$estimate, \"alpha\" = 0)\n",
    "    x <- seq(0,1,length.out = nrow(var_df)+2)[2:(nrow(var_df)+1)]\n",
    "    \n",
    "    sapply(c(\"gmst\", \"nino_ond\")[1], function(covnm) {\n",
    "        if((varnm == \"mam\") & (covnm == \"nino_ond\")) covnm = \"nino_mam\"\n",
    "        \n",
    "        mdl <- fgamma(varnm, covnm, var_df)\n",
    "        \n",
    "        ns_rate <- mdl$results$par[\"rate\"] + mdl$results$par[\"alpha\"] * var_df[,covnm]\n",
    "        shape <- mdl$results$par[\"shape\"]\n",
    "        event_rate <- mdl$results$par[\"rate\"] + mdl$results$par[\"alpha\"] * df[df$year == 2022, covnm]\n",
    "        \n",
    "        ts_stationary <- qgamma(pgamma(var_df[,varnm], shape, ns_rate), shape, event_rate)\n",
    "        x_stationary <- qgamma(x, shape, event_rate)\n",
    "        \n",
    "        write.csv(data.frame(\"x\" = x_stationary, \"y\" = sort(ts_stationary)), paste0(\"rfit-gamma_\",varnm,\"_\",covnm,\".csv\"), row.names = F)\n",
    "    }, simplify = F)\n",
    "}))"
   ]
  }
 ],
 "metadata": {
  "kernelspec": {
   "display_name": "R [conda env:r_env]",
   "language": "R",
   "name": "conda-env-r_env-r"
  },
  "language_info": {
   "codemirror_mode": "r",
   "file_extension": ".r",
   "mimetype": "text/x-r-source",
   "name": "R",
   "pygments_lexer": "r",
   "version": "4.2.2"
  }
 },
 "nbformat": 4,
 "nbformat_minor": 5
}
