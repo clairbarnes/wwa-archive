{
 "cells": [
  {
   "cell_type": "markdown",
   "metadata": {},
   "source": [
    "## **CORDEX data pre-processing for East Africa drought study**"
   ]
  },
  {
   "cell_type": "code",
   "execution_count": 1,
   "metadata": {},
   "outputs": [
    {
     "name": "stderr",
     "output_type": "stream",
     "text": [
      "ERROR 1: PROJ: proj_create_from_database: Open of /rds/general/user/cb2714/home/anaconda3/envs/wwa/share/proj failed\n"
     ]
    }
   ],
   "source": [
    "import glob, re, regionmask, geopandas as gpd, numpy as np, xarray as xr\n",
    "xr.set_options(keep_attrs = True)\n",
    "\n",
    "from xclim.core.units import convert_units_to\n",
    "from xclim.core.calendar import convert_calendar\n",
    "\n",
    "from xclim.indices._conversion import potential_evapotranspiration\n",
    "\n",
    "# load shapefile of study region\n",
    "sf = gpd.read_file(\"sf_gha\")"
   ]
  },
  {
   "cell_type": "markdown",
   "metadata": {},
   "source": [
    "---\n",
    "### **Precipitation**\n",
    "- OND accumulated precipitation averaged over the study region\n",
    "- MAM accumulated precipitation averaged over the study region\n",
    "- 2-year accumulated precipitation (Jan-Dec) averaged over the study region\n",
    "- seasonal cycle over the study region\n",
    "- spatial pattern of OND and MAM precip over the region from 28E-54E and 15S-18N"
   ]
  },
  {
   "cell_type": "code",
   "execution_count": 6,
   "metadata": {},
   "outputs": [
    {
     "name": "stdout",
     "output_type": "stream",
     "text": [
      "pr_AFR-22_CCCma-CanESM2_rcp85_r1i1p1_CCCma-CanRCM4_r2_day_19500101-21001231.nc\n",
      "pr_AFR-22_MOHC-HadGEM2-ES_rcp85_r1i1p1_CLMcom-KIT-CCLM5-0-15_v1_day_19500101-20991230.nc\n",
      "pr_AFR-22_MOHC-HadGEM2-ES_rcp85_r1i1p1_GERICS-REMO2015_v1_day_19700101-20991230.nc\n",
      "pr_AFR-22_MOHC-HadGEM2-ES_rcp85_r1i1p1_ICTP-RegCM4-7_v0_day_19700101-20991230.nc\n",
      "pr_AFR-22_MPI-M-MPI-ESM-LR_rcp85_r1i1p1_CLMcom-KIT-CCLM5-0-15_v1_day_19500101-21001231.nc\n",
      "pr_AFR-22_MPI-M-MPI-ESM-LR_rcp85_r1i1p1_GERICS-REMO2015_v1_day_19700101-21001231.nc\n",
      "pr_AFR-22_MPI-M-MPI-ESM-MR_rcp85_r1i1p1_ICTP-RegCM4-7_v0_day_19700101-20991231.nc\n",
      "pr_AFR-22_NCC-NorESM1-M_rcp85_r1i1p1_CLMcom-KIT-CCLM5-0-15_v1_day_19500101-21001231.nc\n",
      "pr_AFR-22_NCC-NorESM1-M_rcp85_r1i1p1_GERICS-REMO2015_v1_day_19700101-21001231.nc\n",
      "pr_AFR-22_NCC-NorESM1-M_rcp85_r1i1p1_ICTP-RegCM4-7_v0_day_19700101-20991231.nc\n",
      "pr_AFR-44_CCCma-CanESM2_historical_r1i1p1_UQAM-CRCM5_v1_day_19500101-20051231.nc\n",
      "pr_AFR-44_CCCma-CanESM2_rcp85_r1i1p1_CCCma-CanRCM4_r2_day_19500101-21001231.nc\n",
      "pr_AFR-44_CCCma-CanESM2_rcp85_r1i1p1_SMHI-RCA4_v1_day_19510101-21001231.nc\n",
      "pr_AFR-44_CNRM-CERFACS-CNRM-CM5_rcp85_r1i1p1_CLMcom-CCLM4-8-17_v1_day_19500101-21001231.nc\n",
      "pr_AFR-44_CNRM-CERFACS-CNRM-CM5_rcp85_r1i1p1_SMHI-RCA4_v1_day_19510101-21001231.nc\n",
      "pr_AFR-44_CSIRO-QCCCE-CSIRO-Mk3-6-0_rcp85_r1i1p1_SMHI-RCA4_v1_day_19510101-21001231.nc\n",
      "pr_AFR-44_ICHEC-EC-EARTH_rcp85_r12i1p1_CLMcom-CCLM4-8-17_v1_day_19491201-21001231.nc\n",
      "pr_AFR-44_ICHEC-EC-EARTH_historical_r12i1p1_KNMI-RACMO22T_v1_day_19500101-20051231.nc\n",
      "pr_AFR-44_ICHEC-EC-EARTH_rcp85_r12i1p1_SMHI-RCA4_v1_day_19510101-21001231.nc\n",
      "pr_AFR-44_ICHEC-EC-EARTH_rcp85_r12i1p1_MPI-CSC-REMO2009_v1_day_19500101-21001231.nc\n",
      "pr_AFR-44_ICHEC-EC-EARTH_rcp85_r1i1p1_KNMI-RACMO22T_v1_day_19500101-21001231.nc\n",
      "pr_AFR-44_ICHEC-EC-EARTH_rcp85_r1i1p1_SMHI-RCA4_v1_day_19510101-21001231.nc\n",
      "pr_AFR-44_ICHEC-EC-EARTH_rcp85_r3i1p1_DMI-HIRHAM5_v2_day_19510101-21001231.nc\n",
      "pr_AFR-44_ICHEC-EC-EARTH_rcp85_r3i1p1_SMHI-RCA4_v1_day_19510101-21001231.nc\n",
      "pr_AFR-44_IPSL-IPSL-CM5A-LR_rcp85_r1i1p1_GERICS-REMO2009_v1_day_19500101-21001231.nc\n",
      "pr_AFR-44_IPSL-IPSL-CM5A-MR_rcp85_r1i1p1_SMHI-RCA4_v1_day_19510101-21001231.nc\n",
      "pr_AFR-44_MIROC-MIROC5_rcp85_r1i1p1_SMHI-RCA4_v1_day_19510101-21001231.nc\n",
      "pr_AFR-44_MIROC-MIROC5_rcp85_r1i1p1_GERICS-REMO2009_v1_day_19500101-21001231.nc\n",
      "pr_AFR-44_MOHC-HadGEM2-ES_rcp85_r1i1p1_CLMcom-CCLM4-8-17_v1_day_19491201-20991130.nc\n",
      "pr_AFR-44_MOHC-HadGEM2-ES_rcp85_r1i1p1_KNMI-RACMO22T_v2_day_19500101-20991230.nc\n",
      "pr_AFR-44_MOHC-HadGEM2-ES_rcp85_r1i1p1_SMHI-RCA4_v1_day_19510101-20991230.nc\n",
      "pr_AFR-44_MOHC-HadGEM2-ES_rcp85_r1i1p1_GERICS-REMO2009_v1_day_19500101-20991230.nc\n",
      "pr_AFR-44_MOHC-HadGEM2-ES_rcp85_r1i1p1_ICTP-RegCM4-3_v4_day_19700101-21000101.nc\n",
      "pr_AFR-44_MPI-M-MPI-ESM-LR_rcp85_r1i1p1_CLMcom-CCLM4-8-17_v1_day_19491201-21001231.nc\n",
      "pr_AFR-44_MPI-M-MPI-ESM-LR_historical_r1i1p1_UQAM-CRCM5_v1_day_19490101-20051231.nc\n",
      "pr_AFR-44_MPI-M-MPI-ESM-LR_rcp85_r1i1p1_SMHI-RCA4_v1_day_19510101-21001231.nc\n",
      "pr_AFR-44_MPI-M-MPI-ESM-LR_rcp85_r1i1p1_MPI-CSC-REMO2009_v1_day_19500101-21001231.nc\n",
      "pr_AFR-44_MPI-M-MPI-ESM-LR_rcp85_r2i1p1_SMHI-RCA4_v1_day_19510101-21001231.nc\n",
      "pr_AFR-44_MPI-M-MPI-ESM-LR_rcp85_r3i1p1_SMHI-RCA4_v1_day_19510101-21001231.nc\n",
      "pr_AFR-44_MPI-M-MPI-ESM-MR_rcp85_r1i1p1_ICTP-RegCM4-3_v4_day_19700101-21000101.nc\n",
      "pr_AFR-44_NCC-NorESM1-M_rcp85_r1i1p1_SMHI-RCA4_v1_day_19510101-21001231.nc\n",
      "pr_AFR-44_NOAA-GFDL-GFDL-ESM2G_historical_r1i1p1_GERICS-REMO2009_v1_day_19500101-20051231.nc\n",
      "pr_AFR-44_NOAA-GFDL-GFDL-ESM2M_rcp85_r1i1p1_SMHI-RCA4_v1_day_19510101-21001231.nc\n"
     ]
    }
   ],
   "source": [
    "for fnm in sorted(glob.glob(\"../synda/data/CORDEX/AFR-*/*/*/*/day/pr\")):\n",
    "    \n",
    "    mdl_fl = sorted(glob.glob(fnm+\"/*.nc\"))\n",
    "    new_fnm = re.sub(\"_[0-9]{8}-\", \"_\"+mdl_fl[0][-20:-12]+\"-\", mdl_fl[-1].split(\"/\")[-1])\n",
    "    print(new_fnm)\n",
    "    \n",
    "    # skip if file already exists\n",
    "#     if len(glob.glob(new_fnm)) > 0: continue\n",
    "    if len(glob.glob(new_fnm)) > 0: continue\n",
    "      \n",
    "    # also skip if not both historical & RCP runs available\n",
    "    if not all([any([s in fnm for fnm in mdl_fl]) for s in [\"historical\", \"rcp85\"]]): continue\n",
    "    \n",
    "    # otherwise - carry on\n",
    "    rcp = xr.open_mfdataset([fnm for fnm in mdl_fl if \"rcp85\" in fnm]).sel(time = slice(None, \"2050\"))\n",
    "    hist = xr.open_mfdataset([fnm for fnm in mdl_fl if \"historical\" in fnm])\n",
    "    \n",
    "    if \"rlon\" in rcp.dims:\n",
    "        hist = hist.assign_coords(rlon = rcp.rlon, rlat = rcp.rlat)\n",
    "        xy_dims = [\"rlon\", \"rlat\"]\n",
    "    elif \"x\" in rcp.dims:\n",
    "        hist = hist.assign_coords(x = rcp.x, y = rcp.y)\n",
    "        xy_dims = [\"x\", \"y\"]\n",
    "    else:\n",
    "        print(hist.dims)\n",
    "        continue\n",
    "    \n",
    "    # combine historical & rcp into single array, create regionmask & larger rectangular mask\n",
    "    da = xr.concat([hist, rcp], \"time\").pr\n",
    "    rm = regionmask.mask_3D_geopandas(sf, da.lon, da.lat, drop = False).squeeze(drop = True)\n",
    "    \n",
    "    #~~~~~~~~~~~~~~~~~~~~~~~~~~~~~~~~~~~~~~~~~~~~~~~~~~~~~~~~~~~~~~~~~~~~~~~~~~~~~~~~~~~~~~~~~~~~~~~~\n",
    "                  \n",
    "    # daily time series over study region (will compute seasonal/annual indices separately)\n",
    "    ts = convert_units_to(da.where(rm == 1).mean(xy_dims), \"mm/day\")\n",
    "    ts.to_netcdf(new_fnm)\n",
    "                  \n",
    "    # seasonal cycle over the study region (obs period only)\n",
    "    sc = ts.sel(time = slice(\"1980\", \"2022\")).groupby(\"time.dayofyear\").mean()\n",
    "    sc.to_netcdf(\"sc_\"+re.sub(\"[0-9]{8}-[0-9]{8}\", \"19800101-20221231\", new_fnm))\n",
    "    \n",
    "    # spatial pattern over larger rectangular region (obs period only)\n",
    "    sp_mask = np.logical_and(np.logical_and(da.lat > -15, da.lat < 18), np.logical_and(da.lon > 28, da.lon < 54))\n",
    "    sp = da.where(sp_mask == 1).dropna(xy_dims[0], \"all\").dropna(xy_dims[1], \"all\").sel(time = slice(\"1980\", \"2022\"))\n",
    "    \n",
    "    # check spatial patterns for short & long rains separately\n",
    "    sp.sel(time = [m in [10,11,12] for m in sp.time.dt.month]).mean(\"time\").to_netcdf(\"sp-ond-\"+re.sub(\"[0-9]{8}-[0-9]{8}\", \"19800101-20221231\", new_fnm))\n",
    "    sp.sel(time = [m in [3,4,5] for m in sp.time.dt.month]).mean(\"time\").to_netcdf(\"sp-mam-\"+re.sub(\"[0-9]{8}-[0-9]{8}\", \"19800101-20221231\", new_fnm))"
   ]
  },
  {
   "cell_type": "markdown",
   "metadata": {},
   "source": [
    "---\n",
    "### **Temperature**\n",
    " - gridded PET for the study region\n",
    " - seasonal cycle over the study region\n",
    " - spatial pattern of annual mean temperatures over the region from 28E-54E and 15S-18N"
   ]
  },
  {
   "cell_type": "code",
   "execution_count": 2,
   "metadata": {},
   "outputs": [
    {
     "name": "stdout",
     "output_type": "stream",
     "text": [
      "tas_AFR-22_NCC-NorESM1-M_rcp85_r1i1p1_CLMcom-KIT-CCLM5-0-15_v1_day_19500101-21001231.nc\n",
      "tas_AFR-22_NCC-NorESM1-M_rcp85_r1i1p1_GERICS-REMO2015_v1_day_19700101-21001231.nc\n",
      "tas_AFR-22_NCC-NorESM1-M_rcp85_r1i1p1_ICTP-RegCM4-7_v0_day_19700101-20991231.nc\n"
     ]
    }
   ],
   "source": [
    "for fpath in glob.glob(\"/rds/general/user/cb2714/home/synda/data/CORDEX/AFR-*/*/*/*/day/tas\")[:2]:\n",
    "    \n",
    "    mdl_fl = sorted(glob.glob(fpath+\"/*.nc\"))\n",
    "    new_fnm = re.sub(\"_[0-9]{8}-\", \"_\"+mdl_fl[0][-20:-12]+\"-\", mdl_fl[-1].split(\"/\")[-1])\n",
    "    print(new_fnm)\n",
    "    \n",
    "    # skip if file already exists\n",
    "    if len(glob.glob(new_fnm)) > 0: continue\n",
    "\n",
    "    # also skip if not both historical & RCP runs available\n",
    "    if not all([any([s in fnm for fnm in mdl_fl]) for s in [\"historical\", \"rcp85\"]]): continue\n",
    "        \n",
    "    # skip if file already exists\n",
    "#     if len(glob.glob(new_fnm)) > 0: continue\n",
    "\n",
    "    # otherwise - carry on\n",
    "    rcp = convert_calendar(xr.open_mfdataset([fnm for fnm in mdl_fl if \"rcp85\" in fnm]).sel(time = slice(None, \"2050\")), \"default\", align_on = \"year\")\n",
    "    hist = convert_calendar(xr.open_mfdataset([fnm for fnm in mdl_fl if \"historical\" in fnm]), \"default\", align_on = \"year\")\n",
    "\n",
    "    if \"rlon\" in rcp.dims:\n",
    "        hist = hist.assign_coords(rlon = rcp.rlon, rlat = rcp.rlat)\n",
    "        xy_dims = [\"rlon\", \"rlat\"]\n",
    "    elif \"x\" in rcp.dims:\n",
    "        hist = hist.assign_coords(x = rcp.x, y = rcp.y)\n",
    "        xy_dims = [\"x\", \"y\"]\n",
    "    else:\n",
    "        print(hist.dims)\n",
    "        continue\n",
    "    \n",
    "    # combine historical & rcp into single array, create regionmask & larger rectangular mask\n",
    "    da = convert_units_to(xr.concat([hist, rcp], \"time\").tas, \"degC\")\n",
    "    rm = regionmask.mask_3D_geopandas(sf, da.lon, da.lat, drop = False).squeeze(drop = True)\n",
    "    \n",
    "    #~~~~~~~~~~~~~~~~~~~~~~~~~~~~~~~~~~~~~~~~~~~~~~~~~~~~~~~~~~~~~~~~~~~~~~~~~~~~~~~~~~~~~~~~~~~~~~~~\n",
    "    \n",
    "    # define region over which to compute PET & spatial pattern\n",
    "    sp_mask = np.logical_and(np.logical_and(da.lat > -15, da.lat < 18), np.logical_and(da.lon > 28, da.lon < 54))\n",
    "    da = da.where(sp_mask == 1).dropna(xy_dims[0], \"all\").dropna(xy_dims[1], \"all\")\n",
    "    \n",
    "#     # PET averaged over the study region - note that the method returns monthly PET, even from daily temperatures\n",
    "#     pet = convert_units_to(potential_evapotranspiration(tas = da, method = \"thornthwaite48\"), \"mm/month\", context = \"hydro\").rename(\"pet\")\n",
    "#     pet_ts = pet.where(rm == 1).mean(xy_dims)\n",
    "#     pet_ts.to_netcdf(re.sub(\"tas\", \"pet\", new_fnm))\n",
    "\n",
    "    # spatial pattern over larger rectangular region (obs period only)\n",
    "    sp = da.sel(time = slice(\"1980\", \"2022\")).mean(\"time\")\n",
    "    sp.to_netcdf(\"sp-\"+re.sub(\"[0-9]{8}-[0-9]{8}\", \"19800101-20221231\", new_fnm))\n",
    "    \n",
    "    # seasonal cycle over the study region (obs period only)\n",
    "    sc = da.where(rm == 1).mean(xy_dims).sel(time = slice(\"1980\", \"2022\")).groupby(\"time.dayofyear\").mean()\n",
    "    sc.to_netcdf(\"sc_\"+re.sub(\"[0-9]{8}-[0-9]{8}\", \"19800101-20221231\", new_fnm))\n",
    "    "
   ]
  },
  {
   "cell_type": "markdown",
   "metadata": {},
   "source": [
    "---\n",
    "### **Potential evapotranspiration**\n",
    "- if available, 2-year evspsblpot averaged over the study region\n",
    "- retain full daily time series for comparison with values computed from temperatures"
   ]
  },
  {
   "cell_type": "code",
   "execution_count": 4,
   "metadata": {},
   "outputs": [
    {
     "name": "stdout",
     "output_type": "stream",
     "text": [
      "evspsblpot_AFR-44_CCCma-CanESM2_rcp85_r1i1p1_SMHI-RCA4_v1_day_19510101-21001231.nc\n",
      "evspsblpot_AFR-44_ICHEC-EC-EARTH_rcp85_r1i1p1_SMHI-RCA4_v1_day_19510101-21001231.nc\n",
      "evspsblpot_AFR-44_ICHEC-EC-EARTH_rcp85_r3i1p1_SMHI-RCA4_v1_day_19510101-21001231.nc\n",
      "evspsblpot_AFR-44_ICHEC-EC-EARTH_rcp85_r12i1p1_SMHI-RCA4_v1_day_19510101-21001231.nc\n",
      "evspsblpot_AFR-44_CNRM-CERFACS-CNRM-CM5_rcp85_r1i1p1_SMHI-RCA4_v1_day_19510101-21001231.nc\n",
      "evspsblpot_AFR-44_IPSL-IPSL-CM5A-MR_rcp85_r1i1p1_SMHI-RCA4_v1_day_19510101-21001231.nc\n",
      "evspsblpot_AFR-44_MPI-M-MPI-ESM-LR_rcp85_r1i1p1_SMHI-RCA4_v1_day_19510101-21001231.nc\n",
      "evspsblpot_AFR-44_MPI-M-MPI-ESM-LR_rcp85_r3i1p1_SMHI-RCA4_v1_day_19510101-21001231.nc\n",
      "evspsblpot_AFR-44_MPI-M-MPI-ESM-LR_rcp85_r2i1p1_SMHI-RCA4_v1_day_19510101-21001231.nc\n",
      "evspsblpot_AFR-44_CSIRO-QCCCE-CSIRO-Mk3-6-0_rcp85_r1i1p1_SMHI-RCA4_v1_day_19510101-21001231.nc\n",
      "evspsblpot_AFR-44_MIROC-MIROC5_rcp85_r1i1p1_SMHI-RCA4_v1_day_19510101-21001231.nc\n",
      "evspsblpot_AFR-44_MOHC-HadGEM2-ES_rcp85_r1i1p1_SMHI-RCA4_v1_day_19510101-20991230.nc\n",
      "evspsblpot_AFR-44_NCC-NorESM1-M_rcp85_r1i1p1_SMHI-RCA4_v1_day_19510101-21001231.nc\n",
      "evspsblpot_AFR-44_NOAA-GFDL-GFDL-ESM2M_rcp85_r1i1p1_SMHI-RCA4_v1_day_19510101-21001231.nc\n"
     ]
    }
   ],
   "source": [
    "for fpath in glob.glob(\"/rds/general/user/cb2714/home/synda/data/CORDEX/AFR-*/*/*/*/day/evspsblpot\"):\n",
    "    \n",
    "    mdl_fl = sorted(glob.glob(fpath+\"/*.nc\"))\n",
    "    new_fnm = re.sub(\"_[0-9]{8}-\", \"_\"+mdl_fl[0][-20:-12]+\"-\", mdl_fl[-1].split(\"/\")[-1])\n",
    "    print(new_fnm)\n",
    "    \n",
    "    # also skip if not both historical & RCP runs available\n",
    "    if not all([any([s in fnm for fnm in mdl_fl]) for s in [\"historical\", \"rcp85\"]]): continue\n",
    "        \n",
    "    # skip if file already exists\n",
    "    if len(glob.glob(new_fnm)) > 0: continue\n",
    "        \n",
    "    # otherwise - carry on\n",
    "    rcp = convert_calendar(xr.open_mfdataset([fnm for fnm in mdl_fl if \"rcp85\" in fnm]).sel(time = slice(None, \"2050\")), \"default\", align_on = \"year\")\n",
    "    hist = convert_calendar(xr.open_mfdataset([fnm for fnm in mdl_fl if \"historical\" in fnm]), \"default\", align_on = \"year\")\n",
    "\n",
    "    if \"rlon\" in rcp.dims:\n",
    "        hist = hist.assign_coords(rlon = rcp.rlon, rlat = rcp.rlat)\n",
    "        xy_dims = [\"rlon\", \"rlat\"]\n",
    "    elif \"x\" in rcp.dims:\n",
    "        hist = hist.assign_coords(x = rcp.x, y = rcp.y)\n",
    "        xy_dims = [\"x\", \"y\"]\n",
    "    else:\n",
    "        print(hist.dims)\n",
    "        continue\n",
    "    \n",
    "    # combine historical & rcp into single array, create regionmask\n",
    "    da = convert_units_to(xr.concat([hist, rcp], \"time\").evspsblpot, \"mm/day\", context = \"hydro\")\n",
    "    rm = regionmask.mask_3D_geopandas(sf, da.lon, da.lat, drop = False).squeeze(drop = True)\n",
    "    \n",
    "    # get daily time series over study region\n",
    "    ts = da.where(rm == 1).mean(xy_dims)\n",
    "    ts.to_netcdf(new_fnm)"
   ]
  },
  {
   "cell_type": "code",
   "execution_count": null,
   "metadata": {},
   "outputs": [],
   "source": []
  },
  {
   "cell_type": "code",
   "execution_count": null,
   "metadata": {},
   "outputs": [],
   "source": []
  }
 ],
 "metadata": {
  "kernelspec": {
   "display_name": "wwa",
   "language": "python",
   "name": "wwa"
  },
  "language_info": {
   "codemirror_mode": {
    "name": "ipython",
    "version": 3
   },
   "file_extension": ".py",
   "mimetype": "text/x-python",
   "name": "python",
   "nbconvert_exporter": "python",
   "pygments_lexer": "ipython3",
   "version": "3.10.8"
  }
 },
 "nbformat": 4,
 "nbformat_minor": 2
}
