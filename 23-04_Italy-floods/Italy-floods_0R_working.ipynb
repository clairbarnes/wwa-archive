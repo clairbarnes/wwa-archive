{
 "cells": [
  {
   "cell_type": "markdown",
   "id": "91cc233f-bbbd-401d-b387-dd13341747aa",
   "metadata": {},
   "source": [
    "# **Flooding in Italy - working code (R)**"
   ]
  },
  {
   "cell_type": "code",
   "execution_count": 1,
   "id": "58f3ec2b-aae6-4488-99b9-c701bd4e328b",
   "metadata": {},
   "outputs": [],
   "source": [
    "source(\"../methods_extRemes.r\")\n",
    "\n",
    "prep_window <- function(rc = c(1,1), w = 4, h = 4) { options(repr.plot.width = rc[2]*w, repr.plot.height = rc[1]*h, repr.plot.res = 200); par(mfrow = rc, pch = 20) }\n",
    "load_ts <- function(fnm, col.names) { read.csv(fnm, comment.char = \"#\", sep = \" \", header = F, col.names = col.names) }\n",
    "\n",
    "# parameters for confidence intervals\n",
    "rp <- 100\n",
    "nsamp <- 1000"
   ]
  },
  {
   "cell_type": "code",
   "execution_count": 2,
   "id": "4512d1b2-c5b4-4baa-8826-c28aaea934f4",
   "metadata": {},
   "outputs": [],
   "source": [
    "# support function to give required results\n",
    "mdl_ests <- function(mdl, cov, cov_cf, ev, rp = NA) {\n",
    "\n",
    "    pars <- mdl$results$par\n",
    "    disp <- unname(pars[\"sigma0\"] / pars[\"mu0\"])\n",
    "\n",
    "    if(is.na(rp)) rp <- return_period(mdl, value = ev, covariate = cov, lower = F)\n",
    "    if(is.finite(rp)) {\n",
    "        rp_cf <- return_period(mdl, value = ev, covariate = cov_cf)\n",
    "        rl_cf <- unname(return_level(mdl, rp = rp, covariate = cov_cf))\n",
    "\n",
    "        c(pars,\n",
    "          \"disp\" = disp, \n",
    "          \"event_magnitude\" = ev, \n",
    "          \"return_period\" = rp, \n",
    "          \"PR\" = rp_cf / rp, \n",
    "          \"dI_abs\" = ev - rl_cf, \n",
    "          \"dI_rel\" = (ev - rl_cf) / rl_cf * 100)\n",
    "    } else {\n",
    "        return(rep(NA, 10))\n",
    "    }\n",
    "}"
   ]
  },
  {
   "cell_type": "code",
   "execution_count": 3,
   "id": "0a8d59ad-b9bf-4b9f-87cc-8ea3d70b6531",
   "metadata": {},
   "outputs": [],
   "source": [
    "# wrapper function to get bootstrapped confidence intervals for spreadsheet\n",
    "boot_ci <- function(mdl, cov, cov_cf, ev = NA, rp = NA, seed = 42, nsamp = 500, dp = 5) {\n",
    "    \n",
    "    # get best estimate from the observed data\n",
    "    if(is.na(ev)) ev  <- mdl$x[length(mdl$x)]\n",
    "    mdl_res <- mdl_ests(mdl, cov, cov_cf, ev, rp = rp)\n",
    "    mdl_df <- mdl$cov.data\n",
    "    \n",
    "    # get bootstrap sample\n",
    "    set.seed(seed)    \n",
    "    boot_res <- sapply(1:nsamp, function(i) {\n",
    "        boot_df <- mdl_df[sample(1:nrow(mdl_df), nrow(mdl_df), replace = T),]\n",
    "        tryCatch({\n",
    "            boot_mdl <- fevd_fixeddisp(\"rx21day\", \"gmst\", boot_df, solver = \"Nelder-Mead\")\n",
    "            mdl_ests(boot_mdl, cov, cov_cf, ev, rp = rp)\n",
    "        },\n",
    "        error = function(cond) {return(rep(NA, 10))})\n",
    "    })\n",
    "    boot_qq <- t(rbind(\"bestimate\" = mdl_res, apply(boot_res, 1, quantile, c(0.025, 0.975), na.rm = T)))\n",
    "    if(!is.na(dp)) boot_qq <- round(boot_qq, dp)\n",
    "    return(boot_qq)\n",
    "}"
   ]
  },
  {
   "cell_type": "code",
   "execution_count": 4,
   "id": "f1d2e305-2275-45ce-8847-952ac1d6a418",
   "metadata": {},
   "outputs": [],
   "source": [
    "model_results <- function(df, rp = 10, cov_pres, cov_pi, cov_fut, nsamp = 5, seed = 42) {\n",
    "    \n",
    "    # FUNCTION TO CARRY OUT ALL ATTRIBUTION RUNS & PRODUCE RESULTS IN SPREADSHEET-FRIENDLY FORM\n",
    "    \n",
    "    set.seed(seed)\n",
    "    \n",
    "    #~~~~~~~~~~~~~~~~~~~~~~~~~~~~~~~~~~~~~~~~~~~~~~~~~~~~~~~~~~~~~~~~~~~~~~~\n",
    "    # FIT MODEL to three different subsets: for evaluation, attribution & projection\n",
    "    \n",
    "    # fit models\n",
    "    mdl_eval <- fevd_fixeddisp(\"rx21day\", \"gmst\", df[df$year >= 1979 & df$year <= 2023,], solver = \"Nelder-Mead\")\n",
    "    mdl_attr <- fevd_fixeddisp(\"rx21day\", \"gmst\", df[df$year <= 2023,], solver = \"Nelder-Mead\")\n",
    "    mdl_proj <- fevd_fixeddisp(\"rx21day\", \"gmst\", df[df$year <= 2050,], solver = \"Nelder-Mead\")\n",
    "    \n",
    "    # get return level to use for analysis\n",
    "    event_rl <- unname(return_level(mdl_attr, rp = rp, covariate = cov_pres))\n",
    "    \n",
    "    #~~~~~~~~~~~~~~~~~~~~~~~~~~~~~~~~~~~~~~~~~~~~~~~~~~~~~~~~~~~~~~~~~~~~~~~\n",
    "    ## Bootstrap each set of model results\n",
    "\n",
    "    ci_eval <- boot_ci(mdl_eval, cov = cov_pres, cov_cf = cov_pi, ev = event_rl, rp = rp, nsamp = nsamp)[c(\"disp\", \"shape\"),]\n",
    "    ci_attr <- boot_ci(mdl_attr, cov = cov_pres, cov_cf = cov_pi, ev = event_rl, rp = rp, nsamp = nsamp)[c(\"PR\", \"dI_rel\"),]\n",
    "    ci_proj <- boot_ci(mdl_proj, cov = cov_pres, cov_cf = cov_fut, ev = event_rl, rp = rp, nsamp = nsamp)[c(\"PR\", \"dI_rel\"),]\n",
    "                   \n",
    "    # invert future projections\n",
    "    ci_proj[\"PR\",] <- 1/ci_proj[\"PR\",c(1,3,2)]\n",
    "    ci_proj[\"dI_rel\",] <- -ci_proj[\"dI_rel\", c(1,3,2)]\n",
    "    \n",
    "    # flatten & rename\n",
    "    ci_eval <- unlist(lapply(rownames(ci_eval), function(cnm) setNames(ci_eval[cnm,], paste(\"eval\", gsub(\"_\", \"-\", cnm), c(\"est\", \"lower\", \"upper\"), sep = \"_\"))))\n",
    "    ci_attr <- unlist(lapply(rownames(ci_attr), function(cnm) setNames(ci_attr[cnm,], paste(\"attr\", gsub(\"_\", \"-\", cnm), c(\"est\", \"lower\", \"upper\"), sep = \"_\"))))\n",
    "    ci_proj <- unlist(lapply(rownames(ci_proj), function(cnm) setNames(ci_proj[cnm,], paste(\"proj\", gsub(\"_\", \"-\", cnm), c(\"est\", \"lower\", \"upper\"), sep = \"_\"))))\n",
    "                         \n",
    "    # #~~~~~~~~~~~~~~~~~~~~~~~~~~~~~~~~~~~~~~~~~~~~~~~~~~~~~~~~~~~~~~~~~~~~~~~\n",
    "    \n",
    "    t(data.frame(c(ci_eval, \"rp_value\" = event_rl, ci_attr, ci_proj)))     \n",
    "}"
   ]
  },
  {
   "cell_type": "markdown",
   "id": "d8f4d6b0-3a8b-455a-94d6-9145094a3c93",
   "metadata": {},
   "source": [
    "---\n",
    "## **Trend analysis - observations**"
   ]
  },
  {
   "cell_type": "code",
   "execution_count": 4,
   "id": "6899b8a5-6420-4361-8244-4a60aca824f5",
   "metadata": {},
   "outputs": [],
   "source": [
    "gmst <- load_ts(\"ts/Italy-floods_gmst-smoothed.dat\", col.names = c(\"year\", \"gmst\"))\n",
    "gmst_2023 <- gmst[gmst$year == 2023, \"gmst\"]\n",
    "gmst_cf <- gmst_2023 - 1.2"
   ]
  },
  {
   "cell_type": "code",
   "execution_count": 6,
   "id": "be0eef98-e9cd-4479-b04d-db72bdb1592c",
   "metadata": {},
   "outputs": [],
   "source": [
    "# MSWEP\n",
    "df <- merge(gmst, load_ts(\"ts/Italy-floods_rx21day-amj_mswep.dat\", col.names = c(\"year\", \"rx21day\")))\n",
    "ns_mdl <- fevd_fixeddisp(\"rx21day\", \"gmst\", df, solver = \"Nelder-Mead\")\n",
    "boot_res <- boot_ci(ns_mdl, gmst_2023, gmst_cf, nsamp = 1000)\n",
    "write.csv(t(boot_res), \"res/res_Italy-floods_rx21day-amj_mswep.csv\")"
   ]
  },
  {
   "cell_type": "code",
   "execution_count": 7,
   "id": "84b19800-9982-4c2d-b108-66adbab2a25b",
   "metadata": {},
   "outputs": [],
   "source": [
    "# ERA5\n",
    "df <- merge(gmst, load_ts(\"ts/Italy-floods_rx21day-amj_era5.dat\", col.names = c(\"year\", \"rx21day\")))\n",
    "ns_mdl <- fevd_fixeddisp(\"rx21day\", \"gmst\", df, solver = \"Nelder-Mead\")\n",
    "boot_res <- boot_ci(ns_mdl, gmst_2023, gmst_cf, nsamp = 1000)\n",
    "write.csv(t(boot_res), \"res/res_Italy-floods_rx21day-amj_era5.csv\")"
   ]
  },
  {
   "cell_type": "markdown",
   "id": "9f14867e-a11f-4d60-bd88-f319233f2460",
   "metadata": {},
   "source": [
    "## **Trend analysis - CORDEX**"
   ]
  },
  {
   "cell_type": "code",
   "execution_count": 6,
   "id": "9ae11cc3-3a14-4e1f-8d4f-2d0afd38ee4d",
   "metadata": {},
   "outputs": [
    {
     "name": "stdout",
     "output_type": "stream",
     "text": [
      "[1] \"ts/Italy-floods_rx21day-amj_EUR-11_CNRM-CM5_r1_ALADIN53.dat\"\n",
      "[1] \"ts/Italy-floods_rx21day-amj_EUR-11_CNRM-CM5_r1_ALADIN63.dat\"\n",
      "[1] \"ts/Italy-floods_rx21day-amj_EUR-11_CNRM-CM5_r1_ALARO-0.dat\"\n",
      "[1] \"ts/Italy-floods_rx21day-amj_EUR-11_CNRM-CM5_r1_CCLM4-8-17.dat\"\n",
      "[1] \"ts/Italy-floods_rx21day-amj_EUR-11_CNRM-CM5_r1_crCLIM-v1-1.dat\"\n",
      "[1] \"ts/Italy-floods_rx21day-amj_EUR-11_CNRM-CM5_r1_HadREM3-GA7-05.dat\"\n",
      "[1] \"ts/Italy-floods_rx21day-amj_EUR-11_CNRM-CM5_r1_RACMO22E.dat\"\n",
      "[1] \"ts/Italy-floods_rx21day-amj_EUR-11_CNRM-CM5_r1_RCA4.dat\"\n",
      "[1] \"ts/Italy-floods_rx21day-amj_EUR-11_CNRM-CM5_r1_RegCM4-6.dat\"\n",
      "[1] \"ts/Italy-floods_rx21day-amj_EUR-11_CNRM-CM5_r1_REMO2015.dat\"\n",
      "[1] \"ts/Italy-floods_rx21day-amj_EUR-11_CNRM-CM5_r1_WRF381P.dat\"\n",
      "[1] \"ts/Italy-floods_rx21day-amj_EUR-11_EC-EARTH_r1_crCLIM-v1-1.dat\"\n",
      "[1] \"ts/Italy-floods_rx21day-amj_EUR-11_EC-EARTH_r1_RACMO22E.dat\"\n",
      "[1] \"ts/Italy-floods_rx21day-amj_EUR-11_EC-EARTH_r1_RCA4.dat\"\n",
      "[1] \"ts/Italy-floods_rx21day-amj_EUR-11_EC-EARTH_r12_CCLM4-8-17.dat\"\n",
      "[1] \"ts/Italy-floods_rx21day-amj_EUR-11_EC-EARTH_r12_crCLIM-v1-1.dat\"\n",
      "[1] \"ts/Italy-floods_rx21day-amj_EUR-11_EC-EARTH_r12_HadREM3-GA7-05.dat\"\n",
      "[1] \"ts/Italy-floods_rx21day-amj_EUR-11_EC-EARTH_r12_RACMO22E.dat\"\n",
      "[1] \"ts/Italy-floods_rx21day-amj_EUR-11_EC-EARTH_r12_RCA4.dat\"\n",
      "[1] \"ts/Italy-floods_rx21day-amj_EUR-11_EC-EARTH_r12_RegCM4-6.dat\"\n",
      "[1] \"ts/Italy-floods_rx21day-amj_EUR-11_EC-EARTH_r12_WRF381P.dat\"\n",
      "[1] \"ts/Italy-floods_rx21day-amj_EUR-11_EC-EARTH_r3_crCLIM-v1-1.dat\"\n",
      "[1] \"ts/Italy-floods_rx21day-amj_EUR-11_EC-EARTH_r3_RACMO22E.dat\"\n",
      "[1] \"ts/Italy-floods_rx21day-amj_EUR-11_EC-EARTH_r3_RCA4.dat\"\n",
      "[1] \"ts/Italy-floods_rx21day-amj_EUR-11_HadGEM2-ES_r1_ALADIN63.dat\"\n",
      "[1] \"ts/Italy-floods_rx21day-amj_EUR-11_HadGEM2-ES_r1_CCLM4-8-17.dat\"\n",
      "[1] \"ts/Italy-floods_rx21day-amj_EUR-11_HadGEM2-ES_r1_crCLIM-v1-1.dat\"\n",
      "[1] \"ts/Italy-floods_rx21day-amj_EUR-11_HadGEM2-ES_r1_HadREM3-GA7-05.dat\"\n",
      "[1] \"ts/Italy-floods_rx21day-amj_EUR-11_HadGEM2-ES_r1_RACMO22E.dat\"\n",
      "[1] \"ts/Italy-floods_rx21day-amj_EUR-11_HadGEM2-ES_r1_RCA4.dat\"\n",
      "[1] \"ts/Italy-floods_rx21day-amj_EUR-11_HadGEM2-ES_r1_WRF381P.dat\"\n",
      "[1] \"ts/Italy-floods_rx21day-amj_EUR-11_IPSL-CM5A-MR_r1_RACMO22E.dat\"\n",
      "[1] \"ts/Italy-floods_rx21day-amj_EUR-11_IPSL-CM5A-MR_r1_RCA4.dat\"\n",
      "[1] \"ts/Italy-floods_rx21day-amj_EUR-11_IPSL-CM5A-MR_r1_REMO2015.dat\"\n",
      "[1] \"ts/Italy-floods_rx21day-amj_EUR-11_IPSL-CM5A-MR_r1_WRF381P.dat\"\n",
      "[1] \"ts/Italy-floods_rx21day-amj_EUR-11_MPI-ESM-LR_r1_ALADIN63.dat\"\n",
      "[1] \"ts/Italy-floods_rx21day-amj_EUR-11_MPI-ESM-LR_r1_CCLM4-8-17.dat\"\n",
      "[1] \"ts/Italy-floods_rx21day-amj_EUR-11_MPI-ESM-LR_r1_crCLIM-v1-1.dat\"\n",
      "[1] \"ts/Italy-floods_rx21day-amj_EUR-11_MPI-ESM-LR_r1_HadREM3-GA7-05.dat\"\n",
      "[1] \"ts/Italy-floods_rx21day-amj_EUR-11_MPI-ESM-LR_r1_RACMO22E.dat\"\n",
      "[1] \"ts/Italy-floods_rx21day-amj_EUR-11_MPI-ESM-LR_r1_RCA4.dat\"\n",
      "[1] \"ts/Italy-floods_rx21day-amj_EUR-11_MPI-ESM-LR_r1_RegCM4-6.dat\"\n",
      "[1] \"ts/Italy-floods_rx21day-amj_EUR-11_MPI-ESM-LR_r1_REMO2009.dat\"\n",
      "[1] \"ts/Italy-floods_rx21day-amj_EUR-11_MPI-ESM-LR_r1_WRF361H.dat\"\n",
      "[1] \"ts/Italy-floods_rx21day-amj_EUR-11_MPI-ESM-LR_r1_WRF381P.dat\"\n",
      "[1] \"ts/Italy-floods_rx21day-amj_EUR-11_MPI-ESM-LR_r2_crCLIM-v1-1.dat\"\n",
      "[1] \"ts/Italy-floods_rx21day-amj_EUR-11_MPI-ESM-LR_r2_RCA4.dat\"\n",
      "[1] \"ts/Italy-floods_rx21day-amj_EUR-11_MPI-ESM-LR_r2_REMO2009.dat\"\n",
      "[1] \"ts/Italy-floods_rx21day-amj_EUR-11_MPI-ESM-LR_r3_crCLIM-v1-1.dat\"\n",
      "[1] \"ts/Italy-floods_rx21day-amj_EUR-11_MPI-ESM-LR_r3_RCA4.dat\"\n",
      "[1] \"ts/Italy-floods_rx21day-amj_EUR-11_MPI-ESM-LR_r3_REMO2015.dat\"\n",
      "[1] \"ts/Italy-floods_rx21day-amj_EUR-11_NorESM1-M_r1_ALADIN63.dat\"\n",
      "[1] \"ts/Italy-floods_rx21day-amj_EUR-11_NorESM1-M_r1_crCLIM-v1-1.dat\"\n",
      "[1] \"ts/Italy-floods_rx21day-amj_EUR-11_NorESM1-M_r1_HadREM3-GA7-05.dat\"\n",
      "[1] \"ts/Italy-floods_rx21day-amj_EUR-11_NorESM1-M_r1_RACMO22E.dat\"\n",
      "[1] \"ts/Italy-floods_rx21day-amj_EUR-11_NorESM1-M_r1_RCA4.dat\"\n",
      "[1] \"ts/Italy-floods_rx21day-amj_EUR-11_NorESM1-M_r1_RegCM4-6.dat\"\n",
      "[1] \"ts/Italy-floods_rx21day-amj_EUR-11_NorESM1-M_r1_REMO2015.dat\"\n",
      "[1] \"ts/Italy-floods_rx21day-amj_EUR-11_NorESM1-M_r1_WRF381P.dat\"\n"
     ]
    }
   ],
   "source": [
    "# loop over all available models, get results for each\n",
    "invisible(sapply(list.files(\"ts\", pattern = \"rx21day-amj_EUR-11\", full.names = T), function(fnm) {\n",
    "\n",
    "    res_fnm <- paste0(\"res/res_\",gsub(\"ts/\", \"\", gsub(\".dat\", \"\", fnm)), \".csv\")\n",
    "    print(fnm)\n",
    "    if(!file.exists(res_fnm)) {\n",
    "        \n",
    "        # load data   \n",
    "        gmst_fnm <- list.files(\"ts\", paste0(\"smoothed-gsat_\", strsplit(fnm, \"_\")[[1]][4], \"_rcp85_\", strsplit(fnm, \"_\")[[1]][5], \".dat\"), full.names = T)\n",
    "        df <- merge(load_ts(gmst_fnm, col.names = c(\"year\", \"gmst\")), \n",
    "                    load_ts(fnm, col.names = c(\"year\", \"rx21day\")))\n",
    "        \n",
    "        gmst_2023 <- df[df$year == 2023, \"gmst\"]\n",
    "        gmst_pi <- gmst_2023 - 1.2\n",
    "        gmst_fut <- gmst_2023 + 0.8\n",
    "\n",
    "        res_df <- model_results(df, rp = rp, gmst_2023, gmst_pi, gmst_fut, nsamp = nsamp)\n",
    "        rownames(res_df) <- gsub(\".dat\", \"\", paste0(strsplit(fnm, \"_\")[[1]][4:6], collapse = \"_\"))\n",
    "\n",
    "        write.csv(res_df, res_fnm)\n",
    "    }\n",
    "}))"
   ]
  },
  {
   "cell_type": "code",
   "execution_count": 8,
   "id": "2e952ba1-1d34-40cd-9bbb-6eccc8c93b6d",
   "metadata": {},
   "outputs": [],
   "source": [
    "# compile into single file \n",
    "res <- do.call(\"rbind\", sapply(list.files(\"res\", pattern = \"EUR-11\", full.names = T), read.csv, row.names = 1, simplify = F))\n",
    "rownames(res) <- sapply(rownames(res), function(rnm) gsub(\".csv\", \"\", paste0(strsplit(rnm, \"_\")[[1]][5:7], collapse = \"_\")))\n",
    "write.csv(res, \"Italy-floods_cordex-results.csv\")"
   ]
  },
  {
   "cell_type": "markdown",
   "id": "d35ba0ba-ec1d-48f8-bff5-d53aa6ef7b3d",
   "metadata": {},
   "source": [
    "## **Trend analysis - UKCP**"
   ]
  },
  {
   "cell_type": "code",
   "execution_count": 5,
   "id": "99bd71ac-dcdc-444e-93a0-6449213ac5b6",
   "metadata": {},
   "outputs": [
    {
     "name": "stdout",
     "output_type": "stream",
     "text": [
      "[1] \"ts/Italy-floods_rx21day-amj_UKCP18-12km_01.dat\"\n",
      "[1] \"ts/Italy-floods_rx21day-amj_UKCP18-12km_04.dat\"\n",
      "[1] \"ts/Italy-floods_rx21day-amj_UKCP18-12km_05.dat\"\n",
      "[1] \"ts/Italy-floods_rx21day-amj_UKCP18-12km_06.dat\"\n",
      "[1] \"ts/Italy-floods_rx21day-amj_UKCP18-12km_07.dat\"\n",
      "[1] \"ts/Italy-floods_rx21day-amj_UKCP18-12km_08.dat\"\n",
      "[1] \"ts/Italy-floods_rx21day-amj_UKCP18-12km_09.dat\"\n",
      "[1] \"ts/Italy-floods_rx21day-amj_UKCP18-12km_10.dat\"\n",
      "[1] \"ts/Italy-floods_rx21day-amj_UKCP18-12km_11.dat\"\n",
      "[1] \"ts/Italy-floods_rx21day-amj_UKCP18-12km_12.dat\"\n",
      "[1] \"ts/Italy-floods_rx21day-amj_UKCP18-12km_13.dat\"\n",
      "[1] \"ts/Italy-floods_rx21day-amj_UKCP18-12km_15.dat\"\n"
     ]
    }
   ],
   "source": [
    "# loop over all available models, get results for each\n",
    "invisible(sapply(list.files(\"ts\", pattern = \"rx21day-amj_UKCP18\", full.names = T), function(fnm) {\n",
    "    \n",
    "    ens <- gsub(\".dat\", \"\", gsub(\".+_\", \"\", fnm))\n",
    "    res_fnm <- paste0(\"res/res_\",gsub(\"ts/\", \"\", gsub(\".dat\", \"\", fnm)), \".csv\")\n",
    "    print(fnm)\n",
    "    if(!file.exists(res_fnm)) {\n",
    "        \n",
    "        # load data   \n",
    "        gmst_fnm <- list.files(\"ts\", paste0(\"gsat-aw_sm_\", ens), full.names = T)\n",
    "        df <- merge(load_ts(gmst_fnm, col.names = c(\"year\", \"gmst\")), \n",
    "                    load_ts(fnm, col.names = c(\"year\", \"rx21day\")))\n",
    "        \n",
    "        gmst_2023 <- df[df$year == 2023, \"gmst\"]\n",
    "        gmst_pi <- gmst_2023 - 1.2\n",
    "        gmst_fut <- gmst_2023 + 0.8\n",
    "        \n",
    "        res_df <- model_results(df, rp = rp, gmst_2023, gmst_pi, gmst_fut, nsamp = nsamp)\n",
    "        rownames(res_df) <- ens\n",
    "\n",
    "        write.csv(res_df, res_fnm)\n",
    "    }\n",
    "}))"
   ]
  },
  {
   "cell_type": "code",
   "execution_count": 14,
   "id": "6d4fc250-4a44-4818-b412-392e31fe083e",
   "metadata": {},
   "outputs": [],
   "source": [
    "# compile into single file \n",
    "res <- do.call(\"rbind\", sapply(list.files(\"res\", pattern = \"UKCP18\", full.names = T), read.csv, row.names = 1, simplify = F))\n",
    "rownames(res) <- sapply(rownames(res), function(rnm) gsub(\".csv\", \"\", gsub(\".+_\", \"\", rnm)))\n",
    "write.csv(res, \"Italy-floods_ukcp18-results.csv\")"
   ]
  },
  {
   "cell_type": "markdown",
   "id": "b82b2210-6aa8-432e-afbc-0fc971292a28",
   "metadata": {},
   "source": [
    "---\n",
    "## **Trends in frequency of extreme short-duration precipitation**"
   ]
  },
  {
   "cell_type": "code",
   "execution_count": null,
   "id": "a4037d72-1427-4d63-b3a8-7e64319fc3ef",
   "metadata": {},
   "outputs": [],
   "source": []
  }
 ],
 "metadata": {
  "kernelspec": {
   "display_name": "R [conda env:r_env]",
   "language": "R",
   "name": "conda-env-r_env-r"
  },
  "language_info": {
   "codemirror_mode": "r",
   "file_extension": ".r",
   "mimetype": "text/x-r-source",
   "name": "R",
   "pygments_lexer": "r",
   "version": "4.2.2"
  }
 },
 "nbformat": 4,
 "nbformat_minor": 5
}
