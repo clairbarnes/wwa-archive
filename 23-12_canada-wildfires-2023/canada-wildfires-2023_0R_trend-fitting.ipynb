{
 "cells": [
  {
   "cell_type": "code",
   "execution_count": 11,
   "id": "abbbb341-2d07-4a38-8ee8-0d12e59f874e",
   "metadata": {},
   "outputs": [],
   "source": [
    "source(\"../00_model-fitting/wwa_model-fitting.R\")"
   ]
  },
  {
   "cell_type": "markdown",
   "id": "f0f12ed7-d628-4ced-93c7-5a0b6dfc497d",
   "metadata": {},
   "source": [
    "# **Linear trend in log10_cumDSR**"
   ]
  },
  {
   "cell_type": "markdown",
   "id": "fdf00f65-f961-44cc-a01b-b20c2200eb69",
   "metadata": {},
   "source": [
    "## **log10_cumDSR per HFRZ**"
   ]
  },
  {
   "cell_type": "markdown",
   "id": "e6c14453-d879-403d-90c4-06f1d1cfeab9",
   "metadata": {},
   "source": [
    "### **Prep data**"
   ]
  },
  {
   "cell_type": "code",
   "execution_count": 16,
   "id": "388f91f4-476e-4379-a2ca-685af084fcf8",
   "metadata": {},
   "outputs": [],
   "source": [
    "# load data\n",
    "gmst <- read.fwf(\"/home/clair/Data/gmst.dat\", comment.char = \"#\", widths = c(5,15), col.names = c(\"year\", \"gmst\"))\n",
    "cdsr <- read.csv(\"data/era5_cdsr.csv\")\n",
    "\n",
    "# take base10 log of DSR as in original study\n",
    "log10_cdsr <- sapply(colnames(cdsr)[-1], function(cnm) log10(cdsr[,cnm]))\n",
    "colnames(log10_cdsr) <- paste0(\"log10_\", colnames(log10_cdsr))       \n",
    "log10_cdsr <- data.frame(\"year\" = cdsr$year, log10_cdsr)\n",
    "                     \n",
    "# merge into single dataframe\n",
    "df <- merge(gmst, log10_cdsr)"
   ]
  },
  {
   "cell_type": "markdown",
   "id": "0b5df83f-7de3-44e3-a661-1a56971ba625",
   "metadata": {},
   "source": [
    "### **Check distribution of log10_cumDSR**"
   ]
  },
  {
   "cell_type": "code",
   "execution_count": 3,
   "id": "3e4b4678-ce9d-451a-8d64-adcecc822ba0",
   "metadata": {},
   "outputs": [
    {
     "data": {
      "text/html": [
       "<strong>png:</strong> 2"
      ],
      "text/latex": [
       "\\textbf{png:} 2"
      ],
      "text/markdown": [
       "**png:** 2"
      ],
      "text/plain": [
       "png \n",
       "  2 "
      ]
     },
     "metadata": {},
     "output_type": "display_data"
    }
   ],
   "source": [
    "prep_window(c(4,4))\n",
    "x <- seq(0.6,3,0.01)\n",
    "\n",
    "jpeg(\"fig/expl_era5_cdsr-fit.jpg\", width = 480 * 3, height = 480 * 2); par(mfrow = c(4,4), lwd = 2, cex = 1.2, mar = c(3,3,2,1)); {\n",
    "    invisible(sapply(colnames(df)[-(1:2)], function(cnm) { \n",
    "        ts <- df[,cnm]\n",
    "        hist(ts, prob = T, xlim = c(0.8,3), ylim = c(0,3), main = cnm, xlab = \"\", ylab = \"\")\n",
    "        lines(density(ts))\n",
    "        lines(x, dnorm(x, mean(ts), sd(ts)), col = \"blue\")\n",
    "    }))\n",
    "}; dev.off()"
   ]
  },
  {
   "cell_type": "markdown",
   "id": "197ed0a4-6bb2-4448-9ef9-f2730ffc6a31",
   "metadata": {},
   "source": [
    "### **Fit linear trend model**"
   ]
  },
  {
   "cell_type": "code",
   "execution_count": 17,
   "id": "7bc433a5-e4da-4808-a011-56315cfcae95",
   "metadata": {},
   "outputs": [],
   "source": [
    "models <- sapply(colnames(df)[-(1:2)], function(cnm) fit_ns(\"norm\", \"shift\", df, cnm, \"gmst\", lower = F), simplify = F)\n",
    "gmst_2023 <- gmst[gmst$year == 2023, \"gmst\"]\n",
    "gmst_hist <- gmst_2023 - 1.2"
   ]
  },
  {
   "cell_type": "code",
   "execution_count": 4,
   "id": "95523364-b74f-4b70-8c47-9d0887cd39b6",
   "metadata": {},
   "outputs": [],
   "source": [
    "res <- sapply(models, function(mdl) mdl_ests(mdl, cov = gmst_2023, cov_cf = gmst_hist, ev = mdl$ev))"
   ]
  },
  {
   "cell_type": "code",
   "execution_count": 10,
   "id": "24616540-0016-463f-a765-57294cd7d49c",
   "metadata": {},
   "outputs": [
    {
     "data": {
      "text/html": [
       "<table class=\"dataframe\">\n",
       "<caption>A matrix: 3 × 16 of type dbl</caption>\n",
       "<thead>\n",
       "\t<tr><th></th><th scope=col>log10_EJB</th><th scope=col>log10_ES</th><th scope=col>log10_ET</th><th scope=col>log10_GBL</th><th scope=col>log10_GSL</th><th scope=col>log10_IC</th><th scope=col>log10_LA</th><th scope=col>log10_LW</th><th scope=col>log10_NAT</th><th scope=col>log10_P</th><th scope=col>log10_SC</th><th scope=col>log10_SP</th><th scope=col>log10_SY</th><th scope=col>log10_WJB</th><th scope=col>log10_WO</th><th scope=col>log10_WS</th></tr>\n",
       "</thead>\n",
       "<tbody>\n",
       "\t<tr><th scope=row>mu0</th><td>1.7706601</td><td>1.4852844</td><td>2.0648489</td><td>2.0689752</td><td>2.48391102</td><td>2.08079934</td><td>2.2010444</td><td>2.10729064</td><td>1.68624332</td><td>1.78207481</td><td>2.3616798</td><td> 2.534200256</td><td>1.9098785</td><td>2.1259144</td><td>1.9871093</td><td>2.0686211</td></tr>\n",
       "\t<tr><th scope=row>alpha</th><td>0.1844718</td><td>0.2715079</td><td>0.0705635</td><td>0.2186396</td><td>0.06273564</td><td>0.07145091</td><td>0.1209055</td><td>0.08404658</td><td>0.03979895</td><td>0.09941973</td><td>0.1342584</td><td>-0.005470569</td><td>0.1175365</td><td>0.1126802</td><td>0.1153882</td><td>0.1423676</td></tr>\n",
       "\t<tr><th scope=row>sigma0</th><td>0.1727815</td><td>0.2372574</td><td>0.1458640</td><td>0.1663821</td><td>0.15573033</td><td>0.18842426</td><td>0.1744042</td><td>0.16007508</td><td>0.14217505</td><td>0.18291477</td><td>0.1579131</td><td> 0.165353315</td><td>0.2026454</td><td>0.1481913</td><td>0.1797439</td><td>0.1810322</td></tr>\n",
       "</tbody>\n",
       "</table>\n"
      ],
      "text/latex": [
       "A matrix: 3 × 16 of type dbl\n",
       "\\begin{tabular}{r|llllllllllllllll}\n",
       "  & log10\\_EJB & log10\\_ES & log10\\_ET & log10\\_GBL & log10\\_GSL & log10\\_IC & log10\\_LA & log10\\_LW & log10\\_NAT & log10\\_P & log10\\_SC & log10\\_SP & log10\\_SY & log10\\_WJB & log10\\_WO & log10\\_WS\\\\\n",
       "\\hline\n",
       "\tmu0 & 1.7706601 & 1.4852844 & 2.0648489 & 2.0689752 & 2.48391102 & 2.08079934 & 2.2010444 & 2.10729064 & 1.68624332 & 1.78207481 & 2.3616798 &  2.534200256 & 1.9098785 & 2.1259144 & 1.9871093 & 2.0686211\\\\\n",
       "\talpha & 0.1844718 & 0.2715079 & 0.0705635 & 0.2186396 & 0.06273564 & 0.07145091 & 0.1209055 & 0.08404658 & 0.03979895 & 0.09941973 & 0.1342584 & -0.005470569 & 0.1175365 & 0.1126802 & 0.1153882 & 0.1423676\\\\\n",
       "\tsigma0 & 0.1727815 & 0.2372574 & 0.1458640 & 0.1663821 & 0.15573033 & 0.18842426 & 0.1744042 & 0.16007508 & 0.14217505 & 0.18291477 & 0.1579131 &  0.165353315 & 0.2026454 & 0.1481913 & 0.1797439 & 0.1810322\\\\\n",
       "\\end{tabular}\n"
      ],
      "text/markdown": [
       "\n",
       "A matrix: 3 × 16 of type dbl\n",
       "\n",
       "| <!--/--> | log10_EJB | log10_ES | log10_ET | log10_GBL | log10_GSL | log10_IC | log10_LA | log10_LW | log10_NAT | log10_P | log10_SC | log10_SP | log10_SY | log10_WJB | log10_WO | log10_WS |\n",
       "|---|---|---|---|---|---|---|---|---|---|---|---|---|---|---|---|---|\n",
       "| mu0 | 1.7706601 | 1.4852844 | 2.0648489 | 2.0689752 | 2.48391102 | 2.08079934 | 2.2010444 | 2.10729064 | 1.68624332 | 1.78207481 | 2.3616798 |  2.534200256 | 1.9098785 | 2.1259144 | 1.9871093 | 2.0686211 |\n",
       "| alpha | 0.1844718 | 0.2715079 | 0.0705635 | 0.2186396 | 0.06273564 | 0.07145091 | 0.1209055 | 0.08404658 | 0.03979895 | 0.09941973 | 0.1342584 | -0.005470569 | 0.1175365 | 0.1126802 | 0.1153882 | 0.1423676 |\n",
       "| sigma0 | 0.1727815 | 0.2372574 | 0.1458640 | 0.1663821 | 0.15573033 | 0.18842426 | 0.1744042 | 0.16007508 | 0.14217505 | 0.18291477 | 0.1579131 |  0.165353315 | 0.2026454 | 0.1481913 | 0.1797439 | 0.1810322 |\n",
       "\n"
      ],
      "text/plain": [
       "       log10_EJB log10_ES  log10_ET  log10_GBL log10_GSL  log10_IC   log10_LA \n",
       "mu0    1.7706601 1.4852844 2.0648489 2.0689752 2.48391102 2.08079934 2.2010444\n",
       "alpha  0.1844718 0.2715079 0.0705635 0.2186396 0.06273564 0.07145091 0.1209055\n",
       "sigma0 0.1727815 0.2372574 0.1458640 0.1663821 0.15573033 0.18842426 0.1744042\n",
       "       log10_LW   log10_NAT  log10_P    log10_SC  log10_SP     log10_SY \n",
       "mu0    2.10729064 1.68624332 1.78207481 2.3616798  2.534200256 1.9098785\n",
       "alpha  0.08404658 0.03979895 0.09941973 0.1342584 -0.005470569 0.1175365\n",
       "sigma0 0.16007508 0.14217505 0.18291477 0.1579131  0.165353315 0.2026454\n",
       "       log10_WJB log10_WO  log10_WS \n",
       "mu0    2.1259144 1.9871093 2.0686211\n",
       "alpha  0.1126802 0.1153882 0.1423676\n",
       "sigma0 0.1481913 0.1797439 0.1810322"
      ]
     },
     "metadata": {},
     "output_type": "display_data"
    }
   ],
   "source": [
    "res[c(\"mu0\", \"alpha\", \"sigma0\"),]"
   ]
  },
  {
   "cell_type": "code",
   "execution_count": 6,
   "id": "4bf46a93-ce74-4b91-9dbc-af033ecf2009",
   "metadata": {},
   "outputs": [],
   "source": [
    "write.csv(res, file = \"res/cdsr_lineartrend-ests.csv\")"
   ]
  },
  {
   "cell_type": "code",
   "execution_count": 7,
   "id": "f85c25b3-0ab7-4ead-96a9-3e61348b806f",
   "metadata": {},
   "outputs": [
    {
     "data": {
      "text/html": [
       "<strong>png:</strong> 2"
      ],
      "text/latex": [
       "\\textbf{png:} 2"
      ],
      "text/markdown": [
       "**png:** 2"
      ],
      "text/plain": [
       "png \n",
       "  2 "
      ]
     },
     "metadata": {},
     "output_type": "display_data"
    }
   ],
   "source": [
    "prep_window(c(4,4))\n",
    "\n",
    "jpeg(\"fig/expl_era5_cdsr-trend.jpg\", width = 480 * 3, height = 480 * 2); par(mfrow = c(4,4), lwd = 2, cex = 1.2, mar = c(3,3,2,1)); {\n",
    "    invisible(lapply(models, function(mdl) { \n",
    "        plot_trend(mdl, legend_pos = NA, main = mdl$varnm)\n",
    "        lines(df$year, filter(mdl$x, rep(1/15,15), sides = 2), col = \"forestgreen\", lwd = 2)\n",
    "    }))\n",
    "}; dev.off()"
   ]
  },
  {
   "cell_type": "code",
   "execution_count": 8,
   "id": "df09f986-88da-4276-bb0c-325ceb32cb71",
   "metadata": {},
   "outputs": [
    {
     "data": {
      "text/html": [
       "<strong>png:</strong> 2"
      ],
      "text/latex": [
       "\\textbf{png:} 2"
      ],
      "text/markdown": [
       "**png:** 2"
      ],
      "text/plain": [
       "png \n",
       "  2 "
      ]
     },
     "metadata": {},
     "output_type": "display_data"
    }
   ],
   "source": [
    "prep_window(c(4,4))\n",
    "\n",
    "jpeg(\"fig/expl_era5_cdsr-gmsttrend.jpg\", width = 480 * 3, height = 480 * 2); par(mfrow = c(4,4), lwd = 2, cex = 1.2, mar = c(3,3,2,1)); {\n",
    "    invisible(lapply(models, function(mdl) { \n",
    "        plot_gmsttrend(mdl, legend_pos = NA, main = mdl$varnm, cov = gmst_2023, cov_cf = gmst_hist)\n",
    "        lines(df$gmst[order(df$gmst)], filter(mdl$x[order(df$gmst)], rep(1/15,15), sides = 2), col = \"forestgreen\", lwd = 2)\n",
    "    }))\n",
    "}; dev.off()"
   ]
  },
  {
   "cell_type": "code",
   "execution_count": 9,
   "id": "9397dd26-b50b-49ea-882a-8ec03515844d",
   "metadata": {},
   "outputs": [],
   "source": [
    "prep_window(c(4,4))\n",
    "\n",
    "jpeg(\"fig/expl_era5_cdsr-rlplots.jpg\", width = 480 * 3, height = 480 * 2); par(mfrow = c(4,4), lwd = 2, cex = 1.2, mar = c(3,3,2,1)); {\n",
    "    invisible(lapply(models, function(mdl) { \n",
    "        plot_returnlevels(mdl, legend_pos = NA, main = mdl$varnm, cov = gmst_2023, cov_cf = gmst_hist)\n",
    "    }))\n",
    "}; dev.off()"
   ]
  },
  {
   "cell_type": "markdown",
   "id": "9d4882f0-7c6c-4ab2-93e1-00fc64ed4fcf",
   "metadata": {},
   "source": [
    "### **Estimated return periods**"
   ]
  },
  {
   "cell_type": "code",
   "execution_count": 18,
   "id": "979e2321-fdd1-495a-8bf9-b57f227453cf",
   "metadata": {},
   "outputs": [],
   "source": [
    "models <- sapply(colnames(df)[-(1:2)], function(cnm) fit_ns(\"norm\", \"shift\", df, cnm, \"gmst\", lower = F), simplify = F)\n",
    "gmst_2023 <- gmst[gmst$year == 2023, \"gmst\"]\n",
    "gmst_hist <- gmst_2023 - 1.2"
   ]
  },
  {
   "cell_type": "code",
   "execution_count": 25,
   "id": "da776f09-2e07-4c71-aaee-8023bde10e7e",
   "metadata": {},
   "outputs": [],
   "source": [
    "boots <- lapply(models, function(mdl) boot_ci(mdl, cov = gmst_2023, cov_cf = gmst_hist, ev = mdl$ev))"
   ]
  },
  {
   "cell_type": "code",
   "execution_count": 31,
   "id": "472e34c0-4fba-418c-8d43-8f5c3c6dab4e",
   "metadata": {},
   "outputs": [
    {
     "data": {
      "text/html": [
       "<table class=\"dataframe\">\n",
       "<caption>A matrix: 3 × 8 of type dbl</caption>\n",
       "<thead>\n",
       "\t<tr><th></th><th scope=col>log10_EJB</th><th scope=col>log10_ES</th><th scope=col>log10_ET</th><th scope=col>log10_GBL</th><th scope=col>log10_GSL</th><th scope=col>log10_IC</th><th scope=col>log10_LA</th><th scope=col>log10_LW</th></tr>\n",
       "</thead>\n",
       "<tbody>\n",
       "\t<tr><th scope=row>bestimate</th><td> 41.64</td><td>20.01</td><td>4.17</td><td> 8.28</td><td> 43.41</td><td>11.38</td><td>11.06</td><td>2.99</td></tr>\n",
       "\t<tr><th scope=row>2.5%</th><td> 14.31</td><td> 7.56</td><td>2.63</td><td> 3.93</td><td> 14.68</td><td> 5.82</td><td> 5.59</td><td>2.09</td></tr>\n",
       "\t<tr><th scope=row>97.5%</th><td>195.12</td><td>74.30</td><td>7.84</td><td>22.78</td><td>237.70</td><td>31.87</td><td>27.81</td><td>5.01</td></tr>\n",
       "</tbody>\n",
       "</table>\n"
      ],
      "text/latex": [
       "A matrix: 3 × 8 of type dbl\n",
       "\\begin{tabular}{r|llllllll}\n",
       "  & log10\\_EJB & log10\\_ES & log10\\_ET & log10\\_GBL & log10\\_GSL & log10\\_IC & log10\\_LA & log10\\_LW\\\\\n",
       "\\hline\n",
       "\tbestimate &  41.64 & 20.01 & 4.17 &  8.28 &  43.41 & 11.38 & 11.06 & 2.99\\\\\n",
       "\t2.5\\% &  14.31 &  7.56 & 2.63 &  3.93 &  14.68 &  5.82 &  5.59 & 2.09\\\\\n",
       "\t97.5\\% & 195.12 & 74.30 & 7.84 & 22.78 & 237.70 & 31.87 & 27.81 & 5.01\\\\\n",
       "\\end{tabular}\n"
      ],
      "text/markdown": [
       "\n",
       "A matrix: 3 × 8 of type dbl\n",
       "\n",
       "| <!--/--> | log10_EJB | log10_ES | log10_ET | log10_GBL | log10_GSL | log10_IC | log10_LA | log10_LW |\n",
       "|---|---|---|---|---|---|---|---|---|\n",
       "| bestimate |  41.64 | 20.01 | 4.17 |  8.28 |  43.41 | 11.38 | 11.06 | 2.99 |\n",
       "| 2.5% |  14.31 |  7.56 | 2.63 |  3.93 |  14.68 |  5.82 |  5.59 | 2.09 |\n",
       "| 97.5% | 195.12 | 74.30 | 7.84 | 22.78 | 237.70 | 31.87 | 27.81 | 5.01 |\n",
       "\n"
      ],
      "text/plain": [
       "          log10_EJB log10_ES log10_ET log10_GBL log10_GSL log10_IC log10_LA\n",
       "bestimate  41.64    20.01    4.17      8.28      43.41    11.38    11.06   \n",
       "2.5%       14.31     7.56    2.63      3.93      14.68     5.82     5.59   \n",
       "97.5%     195.12    74.30    7.84     22.78     237.70    31.87    27.81   \n",
       "          log10_LW\n",
       "bestimate 2.99    \n",
       "2.5%      2.09    \n",
       "97.5%     5.01    "
      ]
     },
     "metadata": {},
     "output_type": "display_data"
    }
   ],
   "source": [
    "round(sapply(boots, \"[\", \"return_period\",)[,(1:8)], 2)"
   ]
  },
  {
   "cell_type": "code",
   "execution_count": 30,
   "id": "c55f05aa-da38-4eee-9821-ccde424448e6",
   "metadata": {
    "tags": []
   },
   "outputs": [
    {
     "data": {
      "text/html": [
       "<table class=\"dataframe\">\n",
       "<caption>A matrix: 3 × 8 of type dbl</caption>\n",
       "<thead>\n",
       "\t<tr><th></th><th scope=col>log10_NAT</th><th scope=col>log10_P</th><th scope=col>log10_SC</th><th scope=col>log10_SP</th><th scope=col>log10_SY</th><th scope=col>log10_WJB</th><th scope=col>log10_WO</th><th scope=col>log10_WS</th></tr>\n",
       "</thead>\n",
       "<tbody>\n",
       "\t<tr><th scope=row>bestimate</th><td>1.58</td><td>12.04</td><td>3.03</td><td>12.52</td><td>3.06</td><td> 75.80</td><td> 5.85</td><td> 4.85</td></tr>\n",
       "\t<tr><th scope=row>2.5%</th><td>1.25</td><td> 5.97</td><td>2.02</td><td> 6.76</td><td>1.92</td><td> 24.53</td><td> 3.43</td><td> 2.78</td></tr>\n",
       "\t<tr><th scope=row>97.5%</th><td>2.13</td><td>39.77</td><td>5.57</td><td>31.70</td><td>6.52</td><td>547.92</td><td>12.72</td><td>10.13</td></tr>\n",
       "</tbody>\n",
       "</table>\n"
      ],
      "text/latex": [
       "A matrix: 3 × 8 of type dbl\n",
       "\\begin{tabular}{r|llllllll}\n",
       "  & log10\\_NAT & log10\\_P & log10\\_SC & log10\\_SP & log10\\_SY & log10\\_WJB & log10\\_WO & log10\\_WS\\\\\n",
       "\\hline\n",
       "\tbestimate & 1.58 & 12.04 & 3.03 & 12.52 & 3.06 &  75.80 &  5.85 &  4.85\\\\\n",
       "\t2.5\\% & 1.25 &  5.97 & 2.02 &  6.76 & 1.92 &  24.53 &  3.43 &  2.78\\\\\n",
       "\t97.5\\% & 2.13 & 39.77 & 5.57 & 31.70 & 6.52 & 547.92 & 12.72 & 10.13\\\\\n",
       "\\end{tabular}\n"
      ],
      "text/markdown": [
       "\n",
       "A matrix: 3 × 8 of type dbl\n",
       "\n",
       "| <!--/--> | log10_NAT | log10_P | log10_SC | log10_SP | log10_SY | log10_WJB | log10_WO | log10_WS |\n",
       "|---|---|---|---|---|---|---|---|---|\n",
       "| bestimate | 1.58 | 12.04 | 3.03 | 12.52 | 3.06 |  75.80 |  5.85 |  4.85 |\n",
       "| 2.5% | 1.25 |  5.97 | 2.02 |  6.76 | 1.92 |  24.53 |  3.43 |  2.78 |\n",
       "| 97.5% | 2.13 | 39.77 | 5.57 | 31.70 | 6.52 | 547.92 | 12.72 | 10.13 |\n",
       "\n"
      ],
      "text/plain": [
       "          log10_NAT log10_P log10_SC log10_SP log10_SY log10_WJB log10_WO\n",
       "bestimate 1.58      12.04   3.03     12.52    3.06      75.80     5.85   \n",
       "2.5%      1.25       5.97   2.02      6.76    1.92      24.53     3.43   \n",
       "97.5%     2.13      39.77   5.57     31.70    6.52     547.92    12.72   \n",
       "          log10_WS\n",
       "bestimate  4.85   \n",
       "2.5%       2.78   \n",
       "97.5%     10.13   "
      ]
     },
     "metadata": {},
     "output_type": "display_data"
    }
   ],
   "source": [
    "round(sapply(boots, \"[\", \"return_period\",)[,(9:16)], 2)"
   ]
  },
  {
   "cell_type": "markdown",
   "id": "5849f1a2-dfc5-4f16-b67f-07dc8e6ae733",
   "metadata": {},
   "source": [
    "### **Change in intensity**"
   ]
  },
  {
   "cell_type": "code",
   "execution_count": 33,
   "id": "44069cb2-132e-441e-bbd3-6b7c8dabd707",
   "metadata": {},
   "outputs": [
    {
     "data": {
      "text/html": [
       "<table class=\"dataframe\">\n",
       "<caption>A matrix: 3 × 8 of type dbl</caption>\n",
       "<thead>\n",
       "\t<tr><th></th><th scope=col>log10_EJB</th><th scope=col>log10_ES</th><th scope=col>log10_ET</th><th scope=col>log10_GBL</th><th scope=col>log10_GSL</th><th scope=col>log10_IC</th><th scope=col>log10_LA</th><th scope=col>log10_LW</th></tr>\n",
       "</thead>\n",
       "<tbody>\n",
       "\t<tr><th scope=row>bestimate</th><td> 66.48</td><td>111.74</td><td>21.53</td><td> 82.96</td><td>18.93</td><td> 21.83</td><td>39.66</td><td>26.14</td></tr>\n",
       "\t<tr><th scope=row>2.5%</th><td> 21.47</td><td> 36.57</td><td>-3.82</td><td> 32.53</td><td>-8.64</td><td>-12.90</td><td> 3.91</td><td>-4.69</td></tr>\n",
       "\t<tr><th scope=row>97.5%</th><td>122.84</td><td>219.30</td><td>49.74</td><td>155.30</td><td>62.15</td><td> 69.94</td><td>94.42</td><td>62.81</td></tr>\n",
       "</tbody>\n",
       "</table>\n"
      ],
      "text/latex": [
       "A matrix: 3 × 8 of type dbl\n",
       "\\begin{tabular}{r|llllllll}\n",
       "  & log10\\_EJB & log10\\_ES & log10\\_ET & log10\\_GBL & log10\\_GSL & log10\\_IC & log10\\_LA & log10\\_LW\\\\\n",
       "\\hline\n",
       "\tbestimate &  66.48 & 111.74 & 21.53 &  82.96 & 18.93 &  21.83 & 39.66 & 26.14\\\\\n",
       "\t2.5\\% &  21.47 &  36.57 & -3.82 &  32.53 & -8.64 & -12.90 &  3.91 & -4.69\\\\\n",
       "\t97.5\\% & 122.84 & 219.30 & 49.74 & 155.30 & 62.15 &  69.94 & 94.42 & 62.81\\\\\n",
       "\\end{tabular}\n"
      ],
      "text/markdown": [
       "\n",
       "A matrix: 3 × 8 of type dbl\n",
       "\n",
       "| <!--/--> | log10_EJB | log10_ES | log10_ET | log10_GBL | log10_GSL | log10_IC | log10_LA | log10_LW |\n",
       "|---|---|---|---|---|---|---|---|---|\n",
       "| bestimate |  66.48 | 111.74 | 21.53 |  82.96 | 18.93 |  21.83 | 39.66 | 26.14 |\n",
       "| 2.5% |  21.47 |  36.57 | -3.82 |  32.53 | -8.64 | -12.90 |  3.91 | -4.69 |\n",
       "| 97.5% | 122.84 | 219.30 | 49.74 | 155.30 | 62.15 |  69.94 | 94.42 | 62.81 |\n",
       "\n"
      ],
      "text/plain": [
       "          log10_EJB log10_ES log10_ET log10_GBL log10_GSL log10_IC log10_LA\n",
       "bestimate  66.48    111.74   21.53     82.96    18.93      21.83   39.66   \n",
       "2.5%       21.47     36.57   -3.82     32.53    -8.64     -12.90    3.91   \n",
       "97.5%     122.84    219.30   49.74    155.30    62.15      69.94   94.42   \n",
       "          log10_LW\n",
       "bestimate 26.14   \n",
       "2.5%      -4.69   \n",
       "97.5%     62.81   "
      ]
     },
     "metadata": {},
     "output_type": "display_data"
    }
   ],
   "source": [
    "round(sapply(boots, \"[\", \"dI_rel\",)[,(1:8)], 2)"
   ]
  },
  {
   "cell_type": "code",
   "execution_count": 34,
   "id": "5a261bbd-7dfe-47f4-8f09-abc8ee13f589",
   "metadata": {
    "tags": []
   },
   "outputs": [
    {
     "data": {
      "text/html": [
       "<table class=\"dataframe\">\n",
       "<caption>A matrix: 3 × 8 of type dbl</caption>\n",
       "<thead>\n",
       "\t<tr><th></th><th scope=col>log10_NAT</th><th scope=col>log10_P</th><th scope=col>log10_SC</th><th scope=col>log10_SP</th><th scope=col>log10_SY</th><th scope=col>log10_WJB</th><th scope=col>log10_WO</th><th scope=col>log10_WS</th></tr>\n",
       "</thead>\n",
       "<tbody>\n",
       "\t<tr><th scope=row>bestimate</th><td> 11.62</td><td>31.61</td><td>44.91</td><td> -1.50</td><td> 38.37</td><td>36.53</td><td>37.55</td><td> 48.20</td></tr>\n",
       "\t<tr><th scope=row>2.5%</th><td>-11.73</td><td>-3.82</td><td> 9.63</td><td>-24.41</td><td> -7.73</td><td> 4.68</td><td> 3.75</td><td> 10.45</td></tr>\n",
       "\t<tr><th scope=row>97.5%</th><td> 47.07</td><td>86.12</td><td>94.10</td><td> 28.11</td><td>102.05</td><td>75.41</td><td>83.69</td><td>107.53</td></tr>\n",
       "</tbody>\n",
       "</table>\n"
      ],
      "text/latex": [
       "A matrix: 3 × 8 of type dbl\n",
       "\\begin{tabular}{r|llllllll}\n",
       "  & log10\\_NAT & log10\\_P & log10\\_SC & log10\\_SP & log10\\_SY & log10\\_WJB & log10\\_WO & log10\\_WS\\\\\n",
       "\\hline\n",
       "\tbestimate &  11.62 & 31.61 & 44.91 &  -1.50 &  38.37 & 36.53 & 37.55 &  48.20\\\\\n",
       "\t2.5\\% & -11.73 & -3.82 &  9.63 & -24.41 &  -7.73 &  4.68 &  3.75 &  10.45\\\\\n",
       "\t97.5\\% &  47.07 & 86.12 & 94.10 &  28.11 & 102.05 & 75.41 & 83.69 & 107.53\\\\\n",
       "\\end{tabular}\n"
      ],
      "text/markdown": [
       "\n",
       "A matrix: 3 × 8 of type dbl\n",
       "\n",
       "| <!--/--> | log10_NAT | log10_P | log10_SC | log10_SP | log10_SY | log10_WJB | log10_WO | log10_WS |\n",
       "|---|---|---|---|---|---|---|---|---|\n",
       "| bestimate |  11.62 | 31.61 | 44.91 |  -1.50 |  38.37 | 36.53 | 37.55 |  48.20 |\n",
       "| 2.5% | -11.73 | -3.82 |  9.63 | -24.41 |  -7.73 |  4.68 |  3.75 |  10.45 |\n",
       "| 97.5% |  47.07 | 86.12 | 94.10 |  28.11 | 102.05 | 75.41 | 83.69 | 107.53 |\n",
       "\n"
      ],
      "text/plain": [
       "          log10_NAT log10_P log10_SC log10_SP log10_SY log10_WJB log10_WO\n",
       "bestimate  11.62    31.61   44.91     -1.50    38.37   36.53     37.55   \n",
       "2.5%      -11.73    -3.82    9.63    -24.41    -7.73    4.68      3.75   \n",
       "97.5%      47.07    86.12   94.10     28.11   102.05   75.41     83.69   \n",
       "          log10_WS\n",
       "bestimate  48.20  \n",
       "2.5%       10.45  \n",
       "97.5%     107.53  "
      ]
     },
     "metadata": {},
     "output_type": "display_data"
    }
   ],
   "source": [
    "round(sapply(boots, \"[\", \"dI_rel\",)[,(9:16)], 2)"
   ]
  },
  {
   "cell_type": "markdown",
   "id": "a68c2607-334c-4104-98e1-f31064ecc4f1",
   "metadata": {},
   "source": [
    "### **Probability ratio**"
   ]
  },
  {
   "cell_type": "code",
   "execution_count": 36,
   "id": "e5ba70e2-b176-4c85-b692-5cd0877a9669",
   "metadata": {},
   "outputs": [
    {
     "data": {
      "text/html": [
       "<table class=\"dataframe\">\n",
       "<caption>A matrix: 3 × 8 of type dbl</caption>\n",
       "<thead>\n",
       "\t<tr><th></th><th scope=col>log10_EJB</th><th scope=col>log10_ES</th><th scope=col>log10_ET</th><th scope=col>log10_GBL</th><th scope=col>log10_GSL</th><th scope=col>log10_IC</th><th scope=col>log10_LA</th><th scope=col>log10_LW</th></tr>\n",
       "</thead>\n",
       "<tbody>\n",
       "\t<tr><th scope=row>bestimate</th><td> 42.85</td><td> 39.32</td><td>2.42</td><td> 40.27</td><td> 3.49</td><td> 2.49</td><td> 6.03</td><td>2.31</td></tr>\n",
       "\t<tr><th scope=row>2.5%</th><td>  3.88</td><td>  4.24</td><td>0.84</td><td>  4.50</td><td> 0.47</td><td> 0.50</td><td> 1.22</td><td>0.85</td></tr>\n",
       "\t<tr><th scope=row>97.5%</th><td>633.28</td><td>642.82</td><td>6.79</td><td>781.92</td><td>40.65</td><td>14.55</td><td>57.99</td><td>6.93</td></tr>\n",
       "</tbody>\n",
       "</table>\n"
      ],
      "text/latex": [
       "A matrix: 3 × 8 of type dbl\n",
       "\\begin{tabular}{r|llllllll}\n",
       "  & log10\\_EJB & log10\\_ES & log10\\_ET & log10\\_GBL & log10\\_GSL & log10\\_IC & log10\\_LA & log10\\_LW\\\\\n",
       "\\hline\n",
       "\tbestimate &  42.85 &  39.32 & 2.42 &  40.27 &  3.49 &  2.49 &  6.03 & 2.31\\\\\n",
       "\t2.5\\% &   3.88 &   4.24 & 0.84 &   4.50 &  0.47 &  0.50 &  1.22 & 0.85\\\\\n",
       "\t97.5\\% & 633.28 & 642.82 & 6.79 & 781.92 & 40.65 & 14.55 & 57.99 & 6.93\\\\\n",
       "\\end{tabular}\n"
      ],
      "text/markdown": [
       "\n",
       "A matrix: 3 × 8 of type dbl\n",
       "\n",
       "| <!--/--> | log10_EJB | log10_ES | log10_ET | log10_GBL | log10_GSL | log10_IC | log10_LA | log10_LW |\n",
       "|---|---|---|---|---|---|---|---|---|\n",
       "| bestimate |  42.85 |  39.32 | 2.42 |  40.27 |  3.49 |  2.49 |  6.03 | 2.31 |\n",
       "| 2.5% |   3.88 |   4.24 | 0.84 |   4.50 |  0.47 |  0.50 |  1.22 | 0.85 |\n",
       "| 97.5% | 633.28 | 642.82 | 6.79 | 781.92 | 40.65 | 14.55 | 57.99 | 6.93 |\n",
       "\n"
      ],
      "text/plain": [
       "          log10_EJB log10_ES log10_ET log10_GBL log10_GSL log10_IC log10_LA\n",
       "bestimate  42.85     39.32   2.42      40.27     3.49      2.49     6.03   \n",
       "2.5%        3.88      4.24   0.84       4.50     0.47      0.50     1.22   \n",
       "97.5%     633.28    642.82   6.79     781.92    40.65     14.55    57.99   \n",
       "          log10_LW\n",
       "bestimate 2.31    \n",
       "2.5%      0.85    \n",
       "97.5%     6.93    "
      ]
     },
     "metadata": {},
     "output_type": "display_data"
    }
   ],
   "source": [
    "round(sapply(boots, \"[\", \"PR\",)[,(1:8)], 2)"
   ]
  },
  {
   "cell_type": "code",
   "execution_count": 37,
   "id": "d20b9d24-4c17-47d6-9749-f597303145e1",
   "metadata": {
    "tags": []
   },
   "outputs": [
    {
     "data": {
      "text/html": [
       "<table class=\"dataframe\">\n",
       "<caption>A matrix: 3 × 8 of type dbl</caption>\n",
       "<thead>\n",
       "\t<tr><th></th><th scope=col>log10_NAT</th><th scope=col>log10_P</th><th scope=col>log10_SC</th><th scope=col>log10_SP</th><th scope=col>log10_SY</th><th scope=col>log10_WJB</th><th scope=col>log10_WO</th><th scope=col>log10_WS</th></tr>\n",
       "</thead>\n",
       "<tbody>\n",
       "\t<tr><th scope=row>bestimate</th><td>1.26</td><td> 3.99</td><td> 4.58</td><td>0.93</td><td>2.59</td><td> 15.25</td><td> 4.01</td><td> 5.30</td></tr>\n",
       "\t<tr><th scope=row>2.5%</th><td>0.76</td><td> 0.81</td><td> 1.39</td><td>0.25</td><td>0.78</td><td>  1.58</td><td> 1.15</td><td> 1.48</td></tr>\n",
       "\t<tr><th scope=row>97.5%</th><td>2.24</td><td>25.66</td><td>22.41</td><td>3.60</td><td>9.17</td><td>201.81</td><td>17.92</td><td>30.40</td></tr>\n",
       "</tbody>\n",
       "</table>\n"
      ],
      "text/latex": [
       "A matrix: 3 × 8 of type dbl\n",
       "\\begin{tabular}{r|llllllll}\n",
       "  & log10\\_NAT & log10\\_P & log10\\_SC & log10\\_SP & log10\\_SY & log10\\_WJB & log10\\_WO & log10\\_WS\\\\\n",
       "\\hline\n",
       "\tbestimate & 1.26 &  3.99 &  4.58 & 0.93 & 2.59 &  15.25 &  4.01 &  5.30\\\\\n",
       "\t2.5\\% & 0.76 &  0.81 &  1.39 & 0.25 & 0.78 &   1.58 &  1.15 &  1.48\\\\\n",
       "\t97.5\\% & 2.24 & 25.66 & 22.41 & 3.60 & 9.17 & 201.81 & 17.92 & 30.40\\\\\n",
       "\\end{tabular}\n"
      ],
      "text/markdown": [
       "\n",
       "A matrix: 3 × 8 of type dbl\n",
       "\n",
       "| <!--/--> | log10_NAT | log10_P | log10_SC | log10_SP | log10_SY | log10_WJB | log10_WO | log10_WS |\n",
       "|---|---|---|---|---|---|---|---|---|\n",
       "| bestimate | 1.26 |  3.99 |  4.58 | 0.93 | 2.59 |  15.25 |  4.01 |  5.30 |\n",
       "| 2.5% | 0.76 |  0.81 |  1.39 | 0.25 | 0.78 |   1.58 |  1.15 |  1.48 |\n",
       "| 97.5% | 2.24 | 25.66 | 22.41 | 3.60 | 9.17 | 201.81 | 17.92 | 30.40 |\n",
       "\n"
      ],
      "text/plain": [
       "          log10_NAT log10_P log10_SC log10_SP log10_SY log10_WJB log10_WO\n",
       "bestimate 1.26       3.99    4.58    0.93     2.59      15.25     4.01   \n",
       "2.5%      0.76       0.81    1.39    0.25     0.78       1.58     1.15   \n",
       "97.5%     2.24      25.66   22.41    3.60     9.17     201.81    17.92   \n",
       "          log10_WS\n",
       "bestimate  5.30   \n",
       "2.5%       1.48   \n",
       "97.5%     30.40   "
      ]
     },
     "metadata": {},
     "output_type": "display_data"
    }
   ],
   "source": [
    "round(sapply(boots, \"[\", \"PR\",)[,(9:16)], 2)"
   ]
  },
  {
   "cell_type": "markdown",
   "id": "ca95b600-a570-47d1-b7c3-6a2da0c2e677",
   "metadata": {},
   "source": [
    "## **log10_cumDSR over all HFRZs**"
   ]
  },
  {
   "cell_type": "markdown",
   "id": "c2cf1779-8807-41aa-920f-8a2faf8a2499",
   "metadata": {},
   "source": [
    "### **Prep data**"
   ]
  },
  {
   "cell_type": "code",
   "execution_count": 20,
   "id": "beb6b1c5-9a65-4a2d-906a-b2418f42b2f4",
   "metadata": {},
   "outputs": [],
   "source": [
    "# load data\n",
    "gmst <- read.fwf(\"/home/clair/Data/gmst.dat\", comment.char = \"#\", widths = c(5,15), col.names = c(\"year\", \"gmst\"))\n",
    "gmst$gmst <- gmst$gmst - gmst[gmst$year == 2023, \"gmst\"]\n",
    "\n",
    "cdsr <- read.csv(\"data/era5_cdsr-canada.csv\")\n",
    "df <- merge(gmst, cdsr)\n",
    "df$log10_cdsr <- log10(df$cdsr)"
   ]
  },
  {
   "cell_type": "markdown",
   "id": "84153a77-6a15-4ca1-84cb-f5506ece9869",
   "metadata": {},
   "source": [
    "### **Linear model**"
   ]
  },
  {
   "cell_type": "code",
   "execution_count": 21,
   "id": "6466bbfd-06b2-4e6a-982d-cd7e4845ca9f",
   "metadata": {},
   "outputs": [],
   "source": [
    "mdl <- fit_ns(\"norm\", \"shift\", df, \"log10_cdsr\", \"gmst\", lower = F)\n",
    "\n",
    "gmst_2023 <- gmst[gmst$year == 2023, \"gmst\"]\n",
    "gmst_hist <- gmst_2023 - 1.2"
   ]
  },
  {
   "cell_type": "code",
   "execution_count": 28,
   "id": "ea051cfe-fe36-445d-bcda-5f9d6047c4c7",
   "metadata": {},
   "outputs": [
    {
     "data": {
      "text/html": [
       "<strong>png:</strong> 2"
      ],
      "text/latex": [
       "\\textbf{png:} 2"
      ],
      "text/markdown": [
       "**png:** 2"
      ],
      "text/plain": [
       "png \n",
       "  2 "
      ]
     },
     "metadata": {},
     "output_type": "display_data"
    }
   ],
   "source": [
    "prep_window(c(1,3))\n",
    "\n",
    "jpeg(\"fig/expl_era5_cdsr-gmsttrend_canada.jpg\", height = 480, width = 480*4); par(mfrow = c(1,3), lwd = 2, cex = 1.2, mar = c(3,3,2,1)); {\n",
    "    \n",
    "    plot_trend(mdl, main = \"Trend in cumDSR over time\")\n",
    "    lines(df$year, filter(mdl$x, rep(1/15,15), sides = 2), col = \"forestgreen\", lwd = 2)\n",
    "    \n",
    "    plot_gmsttrend(mdl, cov = gmst_2023, cov_cf = gmst_hist)\n",
    "    lines(df$gmst[order(df$gmst)], filter(mdl$x[order(df$gmst)], rep(1/15,15), sides = 2), col = \"forestgreen\", lwd = 2)\n",
    "    \n",
    "    plot_returnlevels(mdl, cov = gmst_2023, cov_cf = gmst_hist)\n",
    "    \n",
    "}; dev.off()"
   ]
  },
  {
   "cell_type": "code",
   "execution_count": 31,
   "id": "c49f440b-fdfb-4d54-bf56-3d64e391a9f5",
   "metadata": {},
   "outputs": [
    {
     "data": {
      "text/html": [
       "<table class=\"dataframe\">\n",
       "<caption>A matrix: 3 × 6 of type dbl</caption>\n",
       "<thead>\n",
       "\t<tr><th></th><th scope=col>mu0</th><th scope=col>sigma0</th><th scope=col>alpha</th><th scope=col>return_period</th><th scope=col>PR</th><th scope=col>dI_rel</th></tr>\n",
       "</thead>\n",
       "<tbody>\n",
       "\t<tr><th scope=row>bestimate</th><td>6.421</td><td>0.094</td><td>0.085</td><td> 48.663</td><td> 22.701</td><td>26.363</td></tr>\n",
       "\t<tr><th scope=row>2.5%</th><td>6.380</td><td>0.081</td><td>0.024</td><td> 16.618</td><td>  2.366</td><td> 6.834</td></tr>\n",
       "\t<tr><th scope=row>97.5%</th><td>6.463</td><td>0.107</td><td>0.147</td><td>212.340</td><td>385.090</td><td>50.285</td></tr>\n",
       "</tbody>\n",
       "</table>\n"
      ],
      "text/latex": [
       "A matrix: 3 × 6 of type dbl\n",
       "\\begin{tabular}{r|llllll}\n",
       "  & mu0 & sigma0 & alpha & return\\_period & PR & dI\\_rel\\\\\n",
       "\\hline\n",
       "\tbestimate & 6.421 & 0.094 & 0.085 &  48.663 &  22.701 & 26.363\\\\\n",
       "\t2.5\\% & 6.380 & 0.081 & 0.024 &  16.618 &   2.366 &  6.834\\\\\n",
       "\t97.5\\% & 6.463 & 0.107 & 0.147 & 212.340 & 385.090 & 50.285\\\\\n",
       "\\end{tabular}\n"
      ],
      "text/markdown": [
       "\n",
       "A matrix: 3 × 6 of type dbl\n",
       "\n",
       "| <!--/--> | mu0 | sigma0 | alpha | return_period | PR | dI_rel |\n",
       "|---|---|---|---|---|---|---|\n",
       "| bestimate | 6.421 | 0.094 | 0.085 |  48.663 |  22.701 | 26.363 |\n",
       "| 2.5% | 6.380 | 0.081 | 0.024 |  16.618 |   2.366 |  6.834 |\n",
       "| 97.5% | 6.463 | 0.107 | 0.147 | 212.340 | 385.090 | 50.285 |\n",
       "\n"
      ],
      "text/plain": [
       "          mu0   sigma0 alpha return_period PR      dI_rel\n",
       "bestimate 6.421 0.094  0.085  48.663        22.701 26.363\n",
       "2.5%      6.380 0.081  0.024  16.618         2.366  6.834\n",
       "97.5%     6.463 0.107  0.147 212.340       385.090 50.285"
      ]
     },
     "metadata": {},
     "output_type": "display_data"
    }
   ],
   "source": [
    "t(round(boot_ci(mdl, cov = gmst_2023, cov_cf = gmst_hist, ev = mdl$ev), 3))[,-c(4,5,8)]"
   ]
  },
  {
   "cell_type": "markdown",
   "id": "92e34aad-a0d7-45d1-8976-ba4f98ecb2e9",
   "metadata": {},
   "source": [
    "---\n",
    "## **Sensitivity to start of time series (ERA5)**"
   ]
  },
  {
   "cell_type": "code",
   "execution_count": 10,
   "id": "ac8cdf45-8e7d-44c1-837d-a398f1441cc6",
   "metadata": {},
   "outputs": [],
   "source": [
    "# load data\n",
    "gmst <- read.fwf(\"/home/clair/Data/gmst.dat\", comment.char = \"#\", widths = c(5,15), col.names = c(\"year\", \"gmst\"))\n",
    "cdsr <- read.csv(\"data/era5_cdsr.csv\")\n",
    "\n",
    "# take base10 log of DSR as in original study\n",
    "log10_cdsr <- sapply(colnames(cdsr)[-1], function(cnm) log10(cdsr[,cnm]))\n",
    "colnames(log10_cdsr) <- paste0(\"log10_\", colnames(log10_cdsr))       \n",
    "log10_cdsr <- data.frame(\"year\" = cdsr$year, log10_cdsr)\n",
    "                     \n",
    "# merge into single dataframe\n",
    "df <- merge(gmst, log10_cdsr)\n",
    "                     \n",
    "# fit all the models, also excluding years prior to 1950/1960\n",
    "models_1940 <- sapply(colnames(df)[-(1:2)], function(cnm) fit_ns(\"norm\", \"shift\", df[df$year >= 1940,], cnm, \"gmst\", lower = F), simplify = F)\n",
    "models_1950 <- sapply(colnames(df)[-(1:2)], function(cnm) fit_ns(\"norm\", \"shift\", df[df$year >= 1950,], cnm, \"gmst\", lower = F), simplify = F)\n",
    "models_1960 <- sapply(colnames(df)[-(1:2)], function(cnm) fit_ns(\"norm\", \"shift\", df[df$year >= 1960,], cnm, \"gmst\", lower = F), simplify = F)\n",
    "\n",
    "gmst_2023 <- gmst[gmst$year == 2023, \"gmst\"]\n",
    "gmst_hist <- gmst_2023 - 1.2"
   ]
  },
  {
   "cell_type": "code",
   "execution_count": 11,
   "id": "071d93ff-e1e5-4470-aa79-10e030cd479a",
   "metadata": {},
   "outputs": [
    {
     "data": {
      "text/html": [
       "<strong>png:</strong> 2"
      ],
      "text/latex": [
       "\\textbf{png:} 2"
      ],
      "text/markdown": [
       "**png:** 2"
      ],
      "text/plain": [
       "png \n",
       "  2 "
      ]
     },
     "metadata": {},
     "output_type": "display_data"
    }
   ],
   "source": [
    "prep_window(c(4,4))\n",
    "\n",
    "jpeg(\"fig/expl-sa_era5_cdsr-trend_start-sensitivity.jpg\", width = 480 * 3, height = 480 * 2); par(mfrow = c(4,4), lwd = 2, cex = 1.2, mar = c(3,3,2,1)); {\n",
    "    invisible(sapply(1:16, function(i) {    \n",
    "        plot(df$year, df[,-(1:2)][,i], type = \"S\", main = models_1940[[i]]$varnm)\n",
    "\n",
    "        lines(models_1940[[i]]$data$year, ns_pars(models_1940[[i]])$loc)\n",
    "        lines(models_1950[[i]]$data$year, ns_pars(models_1950[[i]])$loc, col = \"darkblue\")\n",
    "        lines(models_1960[[i]]$data$year, ns_pars(models_1960[[i]])$loc, col = \"darkred\")\n",
    "        \n",
    "        lines(df$year, filter(models_1940[[i]]$x, rep(1/15,15), sides = 2), col = \"forestgreen\", lwd = 2)\n",
    "\n",
    "    }))\n",
    "}; dev.off()"
   ]
  },
  {
   "cell_type": "code",
   "execution_count": 12,
   "id": "f6c97eb4-366e-46e5-8472-ffc867c4b03f",
   "metadata": {},
   "outputs": [
    {
     "data": {
      "text/html": [
       "<strong>png:</strong> 2"
      ],
      "text/latex": [
       "\\textbf{png:} 2"
      ],
      "text/markdown": [
       "**png:** 2"
      ],
      "text/plain": [
       "png \n",
       "  2 "
      ]
     },
     "metadata": {},
     "output_type": "display_data"
    }
   ],
   "source": [
    "prep_window(c(4,4))\n",
    "\n",
    "jpeg(\"fig/expl-sa_era5_cdsr-gmsttrend_start-sensitivity.jpg\", width = 480 * 3, height = 480 * 2); par(mfrow = c(4,4), lwd = 2, cex = 1.2, pch = 20, mar = c(3,3,2,1)); {\n",
    "    invisible(sapply(1:16, function(i) {    \n",
    "        plot(df$gmst, df[,-(1:2)][,i], main = models_1940[[i]]$varnm, ylab = models_1940[[i]]$varnm)\n",
    "\n",
    "        lines(models_1940[[i]]$data$gmst, ns_pars(models_1940[[i]])$loc)\n",
    "        lines(models_1950[[i]]$data$gmst, ns_pars(models_1950[[i]])$loc, col = \"darkblue\")\n",
    "        lines(models_1960[[i]]$data$gmst, ns_pars(models_1960[[i]])$loc, col = \"darkred\")\n",
    "        \n",
    "        lines(df$gmst, eff_return_level(6, models_1940[[i]], fixed_cov = df$gmst))\n",
    "        lines(df$gmst, eff_return_level(6, models_1950[[i]], fixed_cov = df$gmst), col = \"darkblue\")\n",
    "        lines(df$gmst, eff_return_level(6, models_1960[[i]], fixed_cov = df$gmst), col = \"darkred\")\n",
    "        \n",
    "        lines(df$gmst[order(df$gmst)], filter(models_1940[[i]]$x[order(df$gmst)], rep(1/15,15), sides = 2), col = \"forestgreen\", lwd = 2)\n",
    "        points(df[df$year == 2023, c(\"gmst\", models_1940[[i]]$varnm)], pch = 0, col = \"magenta\", lwd = 2)\n",
    "\n",
    "    }))\n",
    "}; dev.off()"
   ]
  },
  {
   "cell_type": "code",
   "execution_count": null,
   "id": "40a0890f-bd26-47ae-b9ff-049d36917749",
   "metadata": {},
   "outputs": [],
   "source": []
  }
 ],
 "metadata": {
  "kernelspec": {
   "display_name": "R [conda env:r_env]",
   "language": "R",
   "name": "conda-env-r_env-r"
  },
  "language_info": {
   "codemirror_mode": "r",
   "file_extension": ".r",
   "mimetype": "text/x-r-source",
   "name": "R",
   "pygments_lexer": "r",
   "version": "4.2.2"
  }
 },
 "nbformat": 4,
 "nbformat_minor": 5
}
