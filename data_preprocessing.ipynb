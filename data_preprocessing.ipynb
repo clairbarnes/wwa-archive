{
 "cells": [
  {
   "cell_type": "markdown",
   "id": "ff658761-48cb-4713-8267-0ef6b9899b31",
   "metadata": {},
   "source": [
    "## **Scripts used to download archives of climate data**"
   ]
  },
  {
   "cell_type": "code",
   "execution_count": 8,
   "id": "55960d80-cbc2-4920-bfec-0b151d060327",
   "metadata": {},
   "outputs": [],
   "source": [
    "import xarray as xr, pandas as pd\n",
    "import os\n",
    "import re\n",
    "import glob\n",
    "from IPython.display import clear_output\n",
    "\n",
    "import sys; sys.path.append('/home/clair/wwa'); from wwa import decode_times"
   ]
  },
  {
   "cell_type": "markdown",
   "id": "21b42b25-3e90-4577-9488-23e8d149b7cd",
   "metadata": {},
   "source": [
    "---\n",
    "### **GMST from Climate Explorer**"
   ]
  },
  {
   "cell_type": "code",
   "execution_count": null,
   "id": "ba9b41f4-7af9-418c-b02b-eba403a86a64",
   "metadata": {},
   "outputs": [],
   "source": [
    "! curl http://climexp.knmi.nl/getindices.cgi?STATION=smoothed_GMST&TYPE=i&WMO=NASAData/giss_al_gl_a_4yrlo&id=62f4b5a82fde776a4c64f0ca33646aa0 --output /home/clair/wwa/90_data/gmst.dat\n",
    "\n",
    "# curl fails - check & resolve (also for Nino3.4?)"
   ]
  },
  {
   "cell_type": "code",
   "execution_count": 9,
   "id": "dff262e7-cea3-426a-9c86-f3d92df86797",
   "metadata": {},
   "outputs": [
    {
     "data": {
      "text/html": [
       "<div>\n",
       "<style scoped>\n",
       "    .dataframe tbody tr th:only-of-type {\n",
       "        vertical-align: middle;\n",
       "    }\n",
       "\n",
       "    .dataframe tbody tr th {\n",
       "        vertical-align: top;\n",
       "    }\n",
       "\n",
       "    .dataframe thead th {\n",
       "        text-align: right;\n",
       "    }\n",
       "</style>\n",
       "<table border=\"1\" class=\"dataframe\">\n",
       "  <thead>\n",
       "    <tr style=\"text-align: right;\">\n",
       "      <th></th>\n",
       "      <th>year</th>\n",
       "      <th>gmst</th>\n",
       "    </tr>\n",
       "  </thead>\n",
       "  <tbody>\n",
       "    <tr>\n",
       "      <th>0</th>\n",
       "      <td>1879</td>\n",
       "      <td>-0.169167</td>\n",
       "    </tr>\n",
       "    <tr>\n",
       "      <th>1</th>\n",
       "      <td>1880</td>\n",
       "      <td>-0.128750</td>\n",
       "    </tr>\n",
       "    <tr>\n",
       "      <th>2</th>\n",
       "      <td>1881</td>\n",
       "      <td>-0.122778</td>\n",
       "    </tr>\n",
       "    <tr>\n",
       "      <th>3</th>\n",
       "      <td>1882</td>\n",
       "      <td>-0.136042</td>\n",
       "    </tr>\n",
       "    <tr>\n",
       "      <th>4</th>\n",
       "      <td>1883</td>\n",
       "      <td>-0.165000</td>\n",
       "    </tr>\n",
       "    <tr>\n",
       "      <th>...</th>\n",
       "      <td>...</td>\n",
       "      <td>...</td>\n",
       "    </tr>\n",
       "    <tr>\n",
       "      <th>150</th>\n",
       "      <td>2070</td>\n",
       "      <td>1.770000</td>\n",
       "    </tr>\n",
       "    <tr>\n",
       "      <th>151</th>\n",
       "      <td>2100</td>\n",
       "      <td>2.670000</td>\n",
       "    </tr>\n",
       "    <tr>\n",
       "      <th>152</th>\n",
       "      <td>2105</td>\n",
       "      <td>2.770000</td>\n",
       "    </tr>\n",
       "    <tr>\n",
       "      <th>153</th>\n",
       "      <td>2150</td>\n",
       "      <td>3.670000</td>\n",
       "    </tr>\n",
       "    <tr>\n",
       "      <th>154</th>\n",
       "      <td>2155</td>\n",
       "      <td>3.770000</td>\n",
       "    </tr>\n",
       "  </tbody>\n",
       "</table>\n",
       "<p>155 rows × 2 columns</p>\n",
       "</div>"
      ],
      "text/plain": [
       "     year      gmst\n",
       "0    1879 -0.169167\n",
       "1    1880 -0.128750\n",
       "2    1881 -0.122778\n",
       "3    1882 -0.136042\n",
       "4    1883 -0.165000\n",
       "..    ...       ...\n",
       "150  2070  1.770000\n",
       "151  2100  2.670000\n",
       "152  2105  2.770000\n",
       "153  2150  3.670000\n",
       "154  2155  3.770000\n",
       "\n",
       "[155 rows x 2 columns]"
      ]
     },
     "execution_count": 9,
     "metadata": {},
     "output_type": "execute_result"
    }
   ],
   "source": [
    "# convert to a more user-friendly format\n",
    "import pandas as pd\n",
    "\n",
    "pd.read_csv(\"90_data/gmst.dat\", comment = \"#\", header = None, sep = \" +\", engine = \"python\", names = [\"year\", \"gmst\"])"
   ]
  },
  {
   "cell_type": "markdown",
   "id": "d160f99d-a3e1-4353-b5ca-162fb80685ae",
   "metadata": {
    "tags": []
   },
   "source": [
    "---\n",
    "### **CHIRPS**"
   ]
  },
  {
   "cell_type": "markdown",
   "id": "2f0f57af-f98e-4b01-ba6e-03f4864506d9",
   "metadata": {},
   "source": [
    "Download archive of global daily data at 0.25 / .05 degree resolution:\n",
    "```\n",
    "! cd /home/clair/Data/chirps_25; for y in `seq 1981 2022`; do wget https://data.chc.ucsb.edu/products/CHIRPS-2.0/global_daily/netcdf/p25/chirps-v2.0.$y.days_p25.nc; done\n",
    "! cd /home/clair/Data/chirps_05; for y in `seq 1981 2022`; do wget https://data.chc.ucsb.edu/products/CHIRPS-2.0/global_daily/netcdf/p05/chirps-v2.0.$y.days_p05.nc; done\n",
    "```\n",
    "\n",
    "Update with latest file only:\n",
    "```\n",
    "! cd /home/clair/Data/chirps_25; rm chirps-v2.0.2023.days_p25.nc; wget https://data.chc.ucsb.edu/products/CHIRPS-2.0/global_daily/netcdf/p25/chirps-v2.0.2023.days_p25.nc\n",
    "! cd /home/clair/Data/chirps_05; rm chirps-v2.0.2023.days_p05.nc; wget https://data.chc.ucsb.edu/products/CHIRPS-2.0/global_daily/netcdf/p05/chirps-v2.0.2023.days_p05.nc\n",
    "```"
   ]
  },
  {
   "cell_type": "code",
   "execution_count": 2,
   "id": "316d356f-6556-4766-a60e-799c9a67a163",
   "metadata": {},
   "outputs": [
    {
     "name": "stdout",
     "output_type": "stream",
     "text": [
      "--2023-06-21 11:17:02--  https://data.chc.ucsb.edu/products/CHIRPS-2.0/global_daily/netcdf/p05/chirps-v2.0.2023.days_p05.nc\n",
      "Resolving data.chc.ucsb.edu (data.chc.ucsb.edu)... 128.111.100.31\n",
      "Connecting to data.chc.ucsb.edu (data.chc.ucsb.edu)|128.111.100.31|:443... connected.\n",
      "HTTP request sent, awaiting response... 200 OK\n",
      "Length: 505935033 (482M) [application/x-netcdf]\n",
      "Saving to: ‘chirps-v2.0.2023.days_p05.nc’\n",
      "\n",
      "chirps-v2.0.2023.da 100%[===================>] 482.50M  4.66MB/s    in 5m 47s  \n",
      "\n",
      "2023-06-21 11:22:50 (1.39 MB/s) - ‘chirps-v2.0.2023.days_p05.nc’ saved [505935033/505935033]\n",
      "\n"
     ]
    }
   ],
   "source": [
    "# ! cd /home/clair/Data/chirps_25; rm chirps-v2.0.2023.days_p25.nc; wget https://data.chc.ucsb.edu/products/CHIRPS-2.0/global_daily/netcdf/p25/chirps-v2.0.2023.days_p25.nc\n",
    "! cd /home/clair/Data/chirps_05; rm chirps-v2.0.2023.days_p05.nc; wget https://data.chc.ucsb.edu/products/CHIRPS-2.0/global_daily/netcdf/p05/chirps-v2.0.2023.days_p05.nc"
   ]
  },
  {
   "cell_type": "markdown",
   "id": "863daf52-26eb-4066-8499-019f23a9d333",
   "metadata": {},
   "source": [
    "---\n",
    "### **E-OBS**"
   ]
  },
  {
   "cell_type": "code",
   "execution_count": 2,
   "id": "05e96e9c-06e6-4036-9f7c-4078a1140d64",
   "metadata": {},
   "outputs": [],
   "source": [
    "# define variables to download\n",
    "var_list = [\"tg\", \"tn\", \"tx\", \"rr\"]\n",
    "os.chdir(\"/home/clair/Data/e-obs_025/\")"
   ]
  },
  {
   "cell_type": "markdown",
   "id": "0a48a7c5-c38c-4e75-9e52-ad1c08412f8d",
   "metadata": {
    "tags": []
   },
   "source": [
    "#### Download archive of data at 0.25 degree resolution \n",
    "- only needs to be modified / run when version updated"
   ]
  },
  {
   "cell_type": "code",
   "execution_count": null,
   "id": "3032bdb0-8d66-447d-accf-c56c876aae78",
   "metadata": {},
   "outputs": [],
   "source": [
    "chunks = [\"1950-1964\", \"1965-1979\", \"1980-1994\", \"1995-2010\"]\n",
    "for varnm in var_list:\n",
    "    for ch in chunks:\n",
    "\n",
    "        urlstring = \"https://knmi-ecad-assets-prd.s3.amazonaws.com/ensembles/data/Grid_0.25deg_reg_ensemble/\"+varnm+\"_ens_mean_0.25deg_reg_\"+ch+\"_v26.0e.nc\"\n",
    "        ! wget $urlstring\n",
    "        \n",
    "    clear_output(wait = False)\n",
    "    \n",
    "print(\"Done.\")"
   ]
  },
  {
   "cell_type": "markdown",
   "id": "5d277b41-e84a-4a78-bf73-8d736a25fb5a",
   "metadata": {},
   "source": [
    "#### Download & merge current data\n",
    "\n",
    "- get most recent chunk + current calendar year + last 60 days\n",
    "- concatenate latest data into a single file"
   ]
  },
  {
   "cell_type": "code",
   "execution_count": 2,
   "id": "910f8aeb-03a9-4cea-87e4-e1b07619b5c4",
   "metadata": {},
   "outputs": [],
   "source": [
    "# method adapted from https://developer.dataplatform.knmi.nl/example-scripts#list-10-current-files-get-first\n",
    "\n",
    "import requests\n",
    "\n",
    "def download_file_from_temporary_download_url(download_url, filename):\n",
    "    # support method to download individual files from URL\n",
    "    try:\n",
    "        with requests.get(download_url, stream=True) as r:\n",
    "            r.raise_for_status()\n",
    "            with open(filename, \"wb\") as f:\n",
    "                for chunk in r.iter_content(chunk_size=8192):\n",
    "                    f.write(chunk)\n",
    "    except Exception:\n",
    "        print(\"Unable to download file using download URL\")\n",
    "        \n",
    "    print(filename+\" downloaded\")\n",
    "\n",
    "def download_eobs_60day(varnm):\n",
    "    \n",
    "    # method to list all available files & download\n",
    "\n",
    "    api_url = \"https://api.dataplatform.knmi.nl/open-data/v1/datasets/daily_updated_\"+varnm+\"_eobs/versions/1/files\"\n",
    "    \n",
    "    list_files = requests.get(f\"{api_url}\", headers = {\"Authorization\": api_key}, params = {\"maxKeys\": 200}).json().get(\"files\")\n",
    "    list_files = [file for file in list_files if \"0.25deg\" in file.get(\"filename\")]\n",
    "    \n",
    "    for file in list_files:\n",
    "        \n",
    "        filename = file.get(\"filename\")\n",
    "        endpoint = f\"{api_url}/{filename}/url\"\n",
    "        get_file_response = requests.get(endpoint, headers={\"Authorization\": api_key})\n",
    "        \n",
    "        download_url = get_file_response.json().get(\"temporaryDownloadUrl\")\n",
    "        download_file_from_temporary_download_url(download_url, filename)\n",
    "        \n",
    "    clear_output(wait = False)\n",
    "\n",
    "#~~~~~~~~~~~~~~~~~~~~~~~~~~~~~~~~~~~~~~~~~~~~~~~~~~~~~~~~~~~~~~~~~~~~~~~~~~~~~~~~~~~~~~~~~~~~~~~~\n",
    "\n",
    "# load API from file - https://developer.dataplatform.knmi.nl/get-started#obtain-an-api-key\n",
    "with open(\"/home/clair/Data/knmi_api.txt\") as f_api: api_key = f_api.read()\n",
    "\n"
   ]
  },
  {
   "cell_type": "code",
   "execution_count": 3,
   "id": "03c9b855-66d5-4ba2-b3cd-57cfe272d8f9",
   "metadata": {},
   "outputs": [],
   "source": [
    "os.chdir(\"/home/clair/Data/e-obs_025/tmp\")\n",
    "\n",
    "var_list = [\"rr\"]\n",
    "for varnm in var_list:\n",
    "    \n",
    "    # download current chunk\n",
    "    chunk_string = \"https://knmi-ecad-assets-prd.s3.amazonaws.com/ensembles/data/Grid_0.25deg_reg_ensemble/\"+varnm+\"_ens_mean_0.25deg_reg_2011-2022_v26.0e.nc\"\n",
    "    if os.path.exists(re.sub(\".+/\", \"\", chunk_string)): \n",
    "        print(\"Delete existing \"+varnm+\" files manually first\")\n",
    "        continue\n",
    "    ! wget $chunk_string\n",
    "        \n",
    "    # download current calendar year\n",
    "    cy_string = \"https://knmi-ecad-assets-prd.s3.amazonaws.com/ensembles/data/months/ens/\"+varnm+\"_0.25deg_day_2023_grid_ensmean.nc\"\n",
    "    ! wget $cy_string\n",
    "    \n",
    "    # download last 60 days\n",
    "    download_eobs_60day(varnm)\n",
    "    \n",
    "    # load the latest data for this year\n",
    "    ds_chunk = xr.open_dataset(re.sub(\".+/\", \"\", chunk_string)).dropna(\"time\", \"all\")\n",
    "    ds_cy = xr.open_dataset(re.sub(\".+/\", \"\", cy_string)).dropna(\"time\", \"all\")\n",
    "    ds_60d = xr.open_mfdataset([fnm for fnm in glob.glob(varnm+\"*.nc\") if re.search(\"_[0-9]{8}_\", fnm)])\n",
    "    \n",
    "    # use latest version of each day available (60d > monthly current year > most recent chunk)\n",
    "    ds_cy = ds_cy.sel(time = ds_cy.time < ds_60d.time.min())\n",
    "    ds_chunk = ds_chunk.sel(time = ds_chunk.time < ds_cy.time.min())\n",
    "    \n",
    "    # save as netcdf\n",
    "    ds_latest = xr.concat([ds_chunk, ds_cy, ds_60d], \"time\")\n",
    "    ds_latest.to_netcdf(\"../\"+re.sub(\".+/\", \"\", re.sub(\"[0-9]{4}-[0-9]{4}\", \"latest\", chunk_string)))\n",
    "    \n",
    "    clear_output(wait = False)\n",
    "    print(\"Done.\")"
   ]
  },
  {
   "cell_type": "markdown",
   "id": "48b81b52-11d4-4855-bee2-c95497946799",
   "metadata": {},
   "source": [
    "---\n",
    "### **CPC**"
   ]
  },
  {
   "cell_type": "markdown",
   "id": "87050382-75cc-41c4-9281-e9824b0ecab1",
   "metadata": {},
   "source": [
    "Download archive of global daily precip, tmax, tmin\n",
    "```\n",
    "! cd /home/clair/Data/cpc; for y in `seq 1979 2023`; do wget https://downloads.psl.noaa.gov/Datasets/cpc_global_precip/precip.$y.nc; wget https://downloads.psl.noaa.gov/Datasets/cpc_global_temp/tmax.$y.nc; wget https://downloads.psl.noaa.gov/Datasets/cpc_global_temp/tmin.$y.nc; done\n",
    "```\n",
    "\n",
    "Update with latest data:\n",
    "```\n",
    "! cd /home/clair/Data/cpc; rm precip.2023.nc; rm tmax.2023.nc; rm tmin.2023.nc; wget https://downloads.psl.noaa.gov/Datasets/cpc_global_precip/precip.2023.nc; wget https://downloads.psl.noaa.gov/Datasets/cpc_global_temp/tmax.2023.nc; wget https://downloads.psl.noaa.gov/Datasets/cpc_global_temp/tmin.2023.nc\n",
    "```"
   ]
  },
  {
   "cell_type": "code",
   "execution_count": null,
   "id": "63a9144f-397e-4a00-8f1e-bd4f5e75b427",
   "metadata": {},
   "outputs": [],
   "source": [
    "! cd /home/clair/Data/cpc; rm precip.2023.nc; rm tmax.2023.nc; rm tmin.2023.nc; wget https://downloads.psl.noaa.gov/Datasets/cpc_global_precip/precip.2023.nc; wget https://downloads.psl.noaa.gov/Datasets/cpc_global_temp/tmax.2023.nc; wget https://downloads.psl.noaa.gov/Datasets/cpc_global_temp/tmin.2023.nc"
   ]
  },
  {
   "cell_type": "markdown",
   "id": "a03a6c6f-70dd-42d5-8a40-da13a7649949",
   "metadata": {},
   "source": [
    "### **MSWEP**"
   ]
  },
  {
   "cell_type": "markdown",
   "id": "aacaf2f0-8050-414c-aadd-df9181847540",
   "metadata": {},
   "source": [
    "Download & setup instructions [here](http://www.gloh2o.org/mswep/#faq)\n",
    "\n",
    "To update with latest near-real-time data:\n",
    "\n",
    "```\n",
    "rclone sync -v --drive-shared-with-me mswep:/MSWEP_V280/NRT/Daily /home/clair/Data/mswep_nrt\n",
    "rclone sync -v --drive-shared-with-me mswep:/MSWEP_V280/Past/Daily /home/clair/Data/mswep_past\n",
    "# rclone sync -v --drive-shared-with-me mswep:/MSWEP_V280/NRT/3hourly /home/clair/Data/mswep_3hr\n",
    "```"
   ]
  },
  {
   "cell_type": "markdown",
   "id": "9fec1b49-c41d-4374-b60f-765a222b492e",
   "metadata": {},
   "source": [
    "```\n",
    "rclone sync -v --drive-shared-with-me mswx:/MSWX_V100/Past/Temp/Monthly /home/clair/Data/mswx/tg-monthly\n",
    "```"
   ]
  },
  {
   "cell_type": "markdown",
   "id": "6fc638fe-ae36-4f0c-9bb6-55ae82658734",
   "metadata": {},
   "source": [
    "---\n",
    "## **Climate indices**"
   ]
  },
  {
   "cell_type": "markdown",
   "id": "539cb47b-b82b-4b76-b4d9-6b1b39167e4f",
   "metadata": {},
   "source": [
    "### **Smoothed GMST**\n",
    "- GMSTs downloaded from Climate Explorer\n"
   ]
  },
  {
   "cell_type": "markdown",
   "id": "861c9a76-aac1-4990-9b91-ed675f7253bd",
   "metadata": {},
   "source": [
    "#### **CMIP5**"
   ]
  },
  {
   "cell_type": "code",
   "execution_count": null,
   "id": "23ca8ab8-ca27-4a03-9e49-1f8197ca162b",
   "metadata": {
    "tags": []
   },
   "outputs": [],
   "source": [
    "# dictionary to convert between CMIP5 ensemble member id assigned by Climate Explorer and GCM\n",
    "# NB. This is specific to the files already downloaded & will need to be checked if they are ever updated, since the numbering may change\n",
    "cmip5_mdl = {\"004\" : \"CanESM2_r1\",\n",
    "             \"021\" : \"CNRM-CM5_r1\",\n",
    "             \"026\" : \"CSIRO-Mk3-6-0_r1\",\n",
    "             \"038\" : \"EC-EARTH_r1\",\n",
    "             \"040\" : \"EC-EARTH_r3\",\n",
    "             \"036\" : \"EC-EARTH_r12\",\n",
    "             \"049\" : \"GFDL-ESM2M_rcp85_r1\",\n",
    "             \"058\" : \"HadGEM2-ES_r1\",\n",
    "             \"063\" : \"IPSL-CM5A-LR_r1\",\n",
    "             \"067\" : \"IPSL-CM5A-MR_r1\",\n",
    "             \"069\" : \"MIROC5_r1\",\n",
    "             \"074\" : \"MPI-ESM-LR_r1\",\n",
    "             \"075\" : \"MPI-ESM-LR_r2\",\n",
    "             \"076\" : \"MPI-ESM-LR_r3\",\n",
    "             \"077\" : \"MPI-ESM-MR_r1\",\n",
    "             \"080\" : \"NorESM1-M_r1\"}\n",
    "\n",
    "for fnm in sorted(glob.glob(\"00_gsat/iiglobal_tas_Amon_ens_rcp85*.nc\")):\n",
    "    \n",
    "    ens_num = fnm[-6:-3]\n",
    "    gmst = convert_units_to(decode_times(xr.open_dataset(fnm, decode_times = False).tas.isel(time = slice(0,3500))), \"degC\")\n",
    "    mdl = gmst.long_name.split(\" \")[1]+\"_rcp85_\"+gmst.long_name.split(\" \")[-1]\n",
    "    \n",
    "    # verify that correct time series is being used\n",
    "    if not re.sub(\"i1p1\", \"\", re.sub(\"_rcp85\", \"\", mdl)) == cmip5_mdl[str(ens_num)]:\n",
    "        print(\"Check:\", ens_num, cmip5_mdl[str(ens_num)], gmst.long_name)\n",
    "    \n",
    "    ts = gmst.resample(time = \"AS-JAN\").mean().rolling(time = 4, center = True).mean().dropna(\"time\", \"any\")   # annual GMST, 4-year rolling average\n",
    "    ts = ts - ts.sel(time = \"2022\").values                                                                     # anomaly wrt 2022\n",
    "    \n",
    "    csv_fnm = \"00_gsat/cmip5_smoothed-gsat_\"+\"_rcp85_\".join(cmip5_mdl[ens_num].split(\"_\"))+\".dat\"\n",
    "    csv_fnm = re.sub(\"rcp85_rcp85_rcp85\", \"rcp85\", csv_fnm)\n",
    "    if len(csv_fnm.split(\"/\")[-1]) >= 65: print(\"! Filename too long: \", csv_fnm)\n",
    "    \n",
    "    # create  header lines\n",
    "    str1 = \"# contact :: CMIP5-\"+ens_num+\" \"+mdl+\" smoothed GSAT anomaly - East Africa drought 2023, c.barnes22@imperial.ac.uk\"\n",
    "    str2 = \"# gmst [degC] 4-year smoothed global surface air temperature anomaly wrt 2022 at \"+re.sub(\".dat\", \"\", csv_fnm.split(\"/\")[-1])\n",
    "    head = \"# year gmst\"\n",
    "    \n",
    "    ! echo \"$str1 \" > $csv_fnm\n",
    "    ! echo \"$str2\" >> $csv_fnm\n",
    "    ! echo \"$head\" >> $csv_fnm\n",
    "    \n",
    "    ts.assign_coords(time = ts.time.dt.year).to_dataframe().to_csv(csv_fnm, sep = \" \", mode = \"a\", header = False)"
   ]
  },
  {
   "cell_type": "code",
   "execution_count": null,
   "id": "be04d2c1-dbb2-4e50-b52a-6b4303f43065",
   "metadata": {
    "tags": []
   },
   "outputs": [],
   "source": [
    "# quick visual check against previous version\n",
    "pd.read_csv(\"00_gsat/cordex_tas_Amon_NorESM1-M_rcp85_r1i1p1.dat\", comment = \"#\", sep = \" \", header = None, names = [\"year\", \"gmst\"], index_col = 0).plot(drawstyle = \"steps\")\n",
    "pd.read_csv(csv_fnm, comment = \"#\", sep = \" \", header = None, names = [\"year\", \"gmst\"], index_col = 0).plot(drawstyle = \"steps\", ax = plt.gca())"
   ]
  },
  {
   "cell_type": "markdown",
   "id": "8a873924-cf7d-47e8-a653-ccc074a49bf8",
   "metadata": {
    "tags": []
   },
   "source": [
    "#### **CMIP6**\n",
    "All data downloaded from https://climexp.knmi.nl/CMIP6/Tglobal/"
   ]
  },
  {
   "cell_type": "code",
   "execution_count": 83,
   "id": "da65eeb5-2078-494f-a4cb-5f6091358d76",
   "metadata": {
    "tags": []
   },
   "outputs": [
    {
     "name": "stdout",
     "output_type": "stream",
     "text": [
      "10_gsat/cmip6_smoothed-gsat_EC-Earth3_r1i1p1f1_ssp585.dat\n",
      "10_gsat/cmip6_smoothed-gsat_HadGEM3-GC31-LL_r1i1p1f3_ssp585.dat\n",
      "10_gsat/cmip6_smoothed-gsat_HadGEM3-GC31-MM_r1i1p1f3_ssp585.dat\n",
      "10_gsat/cmip6_smoothed-gsat_MIROC6_r1i1p1f1_ssp585.dat\n",
      "10_gsat/cmip6_smoothed-gsat_MPI-ESM1-2-LR_r1i1p1f1_ssp585.dat\n"
     ]
    }
   ],
   "source": [
    "for fnm in sorted(glob.glob(\"10_gsat/tas_mon_*ssp585*.txt\")):\n",
    "    \n",
    "    for line in open(fnm, \"r\").read().splitlines():\n",
    "        if \"further_info_url\" in line:\n",
    "            mdl_str = line\n",
    "            break\n",
    "    mdl_fnm = mdl_str.split(\".\")[4]+\"_\"+mdl_str.split(\".\")[-1]+\"_ssp585\"\n",
    "\n",
    "    csv_fnm = \"10_gsat/cmip6_smoothed-gsat_\"+mdl_fnm+\".dat\"\n",
    "    if len(mdl_fnm.split(\"/\")[-1]) >= 65: print(\"! Filename too long: \", mdl_fnm)\n",
    "    print(csv_fnm)\n",
    "    \n",
    "    df = pd.read_csv(fnm, sep = \" +\", engine = \"python\", comment = \"#\", header = None, index_col = 0) - 273.15\n",
    "    gmst_sm = pd.DataFrame(df.mean(axis = 1).rolling(4, center = True).mean()).dropna(axis = 0, how = \"all\")\n",
    "    \n",
    "    # create  header lines\n",
    "    str1 = \"# contact :: CMIP6-\"+mdl_fnm+\" smoothed GSAT anomaly, c.barnes22@imperial.ac.uk\"\n",
    "    str2 = \"# gmst [degC] 4-year smoothed global surface air temperature anomaly at \"+re.sub(\".dat\", \"\", csv_fnm.split(\"/\")[-1])\n",
    "    head = \"# year gmst\"\n",
    "    \n",
    "    ! echo \"$str1 \" > $csv_fnm\n",
    "    ! echo \"$str2\" >> $csv_fnm\n",
    "    ! echo \"$head\" >> $csv_fnm\n",
    "    \n",
    "    gmst_sm.to_csv(csv_fnm, sep = \" \", mode = \"a\", header = False)"
   ]
  },
  {
   "cell_type": "markdown",
   "id": "6753983c-cbb4-4dec-b7a7-e62707bec7b7",
   "metadata": {
    "tags": []
   },
   "source": [
    "---\n",
    "### **Nino3.4 & detrended Nino3.4**\n",
    "- detrend Nino3.4 by subtracting tropical SSTs (per paper reference in Climate Explorer, but without normalising per calendar month)\n",
    "- Nino3.4 and tropical SSTs obtained from Climate Explorer\n"
   ]
  },
  {
   "cell_type": "markdown",
   "id": "994b6c27-8715-42da-b0ca-658be2b5e78c",
   "metadata": {},
   "source": [
    "#### **Observed**"
   ]
  },
  {
   "cell_type": "code",
   "execution_count": null,
   "id": "51ac4dea-c69b-482e-aced-60e671105380",
   "metadata": {},
   "outputs": [],
   "source": [
    "nino = decode_times(xr.open_dataset(\"../Data/iersst_nino3.4a.nc\", decode_times = False))[\"Nino3.4\"].sel(time = slice(\"1950\", None))\n",
    "sst = decode_times(xr.open_dataset(\"../Data/iersstv5_0-360E_-20-20N_n_su.nc\", decode_times = False)).sst.sel(time = slice(\"1950\", None))\n",
    "nino_detrended = nino - (sst - sst.mean())"
   ]
  },
  {
   "cell_type": "markdown",
   "id": "906b8d73-c7be-474a-be30-23f8710379c8",
   "metadata": {},
   "source": [
    "#### **CMIP5**"
   ]
  },
  {
   "cell_type": "code",
   "execution_count": null,
   "id": "ee78b249-713b-43ad-9c05-6a04e92118bb",
   "metadata": {},
   "outputs": [],
   "source": [
    "cmip5_mdl = {\"004\" : \"CanESM2_r1\",\n",
    "             \"020\" : \"CNRM-CM5_r1\",\n",
    "             \"025\" : \"CSIRO-Mk3-6-0_r1\",\n",
    "             \"035\" : \"EC-EARTH_r1\",\n",
    "             \"037\" : \"EC-EARTH_r3\",\n",
    "             \"041\" : \"EC-EARTH_r12\",\n",
    "             \"049\" : \"GFDL-ESM2M_rcp85_r1\",\n",
    "             \"058\" : \"HadGEM2-ES_r1\",\n",
    "             \"063\" : \"IPSL-CM5A-LR_r1\",\n",
    "             \"067\" : \"IPSL-CM5A-MR_r1\",\n",
    "             \"069\" : \"MIROC5_r1\",\n",
    "             \"074\" : \"MPI-ESM-LR_r1\",\n",
    "             \"075\" : \"MPI-ESM-LR_r2\",\n",
    "             \"076\" : \"MPI-ESM-LR_r3\",\n",
    "             \"077\" : \"MPI-ESM-MR_r1\",\n",
    "             \"079\" : \"NorESM1-M_r1\"}\n",
    "\n",
    "for fnm in glob.glob(\"10_nino-detrended/*-5-5N*.nc\"):\n",
    "    \n",
    "    ens_num = fnm[-6:-3]\n",
    "    ds = decode_times(xr.open_dataset(fnm, decode_times = False))\n",
    "    nino = ds.tas\n",
    "    tsst_ds = decode_times(xr.open_dataset(re.sub(\"iicmip\", \"icmip\", re.sub(\"-120--170E_-5-5N\", \"0-360E_-20-20N\", fnm)), decode_times = False))\n",
    "    tsst = tsst_ds.tas\n",
    "    nino_dt = nino-tsst\n",
    "    mdl = ds.title.split(\" \")[3]+\"_rcp85_\"+ds.title.split(\" \")[-1]\n",
    "    \n",
    "    # verify that correct time series is being used\n",
    "    if not re.sub(\"i1p1\", \"\", re.sub(\"_rcp85\", \"\", mdl)) == cmip5_mdl[str(ens_num)]:\n",
    "        print(\"Check:\", ens_num, cmip5_mdl[str(ens_num)], ds.title)\n",
    "    \n",
    "    # make sure the Nino & SST time series match\n",
    "    if not ds.title == tsst_ds.title:\n",
    "        print(\"Check:\", ds.title,\"/\",tsst_ds.title)\n",
    "    \n",
    "    csv_fnm = \"10_nino-detrended/cmip5_nino-detrended_\"+\"_rcp85_\".join(cmip5_mdl[ens_num].split(\"_\"))+\".dat\"\n",
    "    csv_fnm = re.sub(\"rcp85_rcp85_rcp85\", \"rcp85\", csv_fnm)\n",
    "    if len(csv_fnm.split(\"/\")[-1]) >= 65: print(\"! Filename too long: \", csv_fnm)\n",
    "    \n",
    "    # create  header lines\n",
    "    str1 = \"# contact :: CMIP5-\"+fnm[-6:-3]+\" \"+mdl+\" detrended Nino3.4 index - East Africa drought 2023, c.barnes22@imperial.ac.uk\"\n",
    "    str2 = \"# nino34_dt [degC] difference between SSTs averaged over (120W-170W, 5S-5N) & (20S-20N) at \"+re.sub(\".dat\", \"\", csv_fnm.split(\"/\")[-1])\n",
    "    head = \"# date nino34_dt\"\n",
    "    \n",
    "    ! echo \"$str1 \" > $csv_fnm\n",
    "    ! echo \"$str2\" >> $csv_fnm\n",
    "    ! echo \"$head\" >> $csv_fnm\n",
    "    \n",
    "    nino_dt.to_dataframe().to_csv(csv_fnm, sep = \" \", mode = \"a\", header = False)"
   ]
  },
  {
   "cell_type": "code",
   "execution_count": 5,
   "id": "43121bb7-a335-4b99-8dc3-75acd4956f20",
   "metadata": {},
   "outputs": [
    {
     "data": {
      "text/plain": [
       "<matplotlib.collections.QuadMesh at 0x7f11582d69b0>"
      ]
     },
     "execution_count": 5,
     "metadata": {},
     "output_type": "execute_result"
    },
    {
     "data": {
      "image/png": "[encoded data removed]",
      "text/plain": [
       "<Figure size 640x480 with 2 Axes>"
      ]
     },
     "metadata": {},
     "output_type": "display_data"
    }
   ],
   "source": [
    "xr.open_dataset(\"23-05_Canada-wildfires/data/percentile_99_map.nc\").fwi.plot()"
   ]
  },
  {
   "cell_type": "code",
   "execution_count": null,
   "id": "202aff9b-1c7b-43b7-9f6c-29ab67019188",
   "metadata": {},
   "outputs": [],
   "source": []
  }
 ],
 "metadata": {
  "kernelspec": {
   "display_name": "Python [conda env:wwa]",
   "language": "python",
   "name": "conda-env-wwa-py"
  },
  "language_info": {
   "codemirror_mode": {
    "name": "ipython",
    "version": 3
   },
   "file_extension": ".py",
   "mimetype": "text/x-python",
   "name": "python",
   "nbconvert_exporter": "python",
   "pygments_lexer": "ipython3",
   "version": "3.10.8"
  }
 },
 "nbformat": 4,
 "nbformat_minor": 5
}
