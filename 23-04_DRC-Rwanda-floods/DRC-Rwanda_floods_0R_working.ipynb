{
 "cells": [
  {
   "cell_type": "markdown",
   "id": "832c8d7a-4d77-4fb4-ae43-a486058ba3a5",
   "metadata": {},
   "source": [
    "# **Flooding in DRC/Rwanda - working code for trend analysis**"
   ]
  },
  {
   "cell_type": "code",
   "execution_count": 1,
   "id": "37ccb395-c8dc-4b92-ad8c-176f7b43106a",
   "metadata": {},
   "outputs": [],
   "source": [
    "source(\"../00_model-fitting/wwa_model-fitting.R\")\n",
    "\n",
    "variable = \"rx5day-mam\"\n",
    "region = \"shapefile\"\n",
    "region_name = \"DRC/Rwanda region\""
   ]
  },
  {
   "cell_type": "markdown",
   "id": "8eae9505-08f4-4a09-a7fe-33c8ed785fe4",
   "metadata": {},
   "source": [
    "---\n",
    "## **RX5day precip (GEV)**"
   ]
  },
  {
   "cell_type": "code",
   "execution_count": 3,
   "id": "c9752fd2-72b8-4a19-9970-d186078a7aca",
   "metadata": {},
   "outputs": [],
   "source": [
    "# loop over gridded obs products, fit GEV\n",
    "gmst <- load_ts(\"ts/drc-rw-floods_gmst-smoothed.dat\", col.names = c(\"year\", \"gmst\"))\n",
    "\n",
    "obs_fitted <- sapply(c(\"mswep\", \"chirps\", \"cpc\", \"era5\", \"tamsat\"), function(fnm) {\n",
    "    df <- merge(gmst, load_ts(paste0(\"ts/drc-rw-floods_\",variable,\"_\", fnm, \"_\", region,\".dat\"), col.names = c(\"year\", \"pr\")))\n",
    "    fit_ns(\"gev\", \"fixeddisp\", df, \"pr\", \"gmst\", lower = F)\n",
    "}, simplify = F)\n",
    "\n",
    "# set covariates\n",
    "gmst_2023 <- gmst$gmst[gmst$year == 2023]"
   ]
  },
  {
   "cell_type": "code",
   "execution_count": 4,
   "id": "22b315df-afe9-4f51-86b4-d9941ed087bb",
   "metadata": {},
   "outputs": [],
   "source": [
    "set.seed(42)\n",
    "obs_ci <- t(sapply(obs_fitted, function(mdl) {\n",
    "    zz <- boot_ci(mdl, cov = gmst_2023, cov_cf = gmst_2023 - 1.2, nsamp = 1000)\n",
    "    unlist(sapply(rownames(zz), function(a) c(zz[a,]), simplify = F))\n",
    "}))\n",
    "write.csv(obs_ci, paste0(\"res-obs_\", variable, \"_\", region, \".csv\"))"
   ]
  },
  {
   "cell_type": "code",
   "execution_count": 4,
   "id": "5ca6eefd-3a6a-4122-a517-f518317b506f",
   "metadata": {},
   "outputs": [
    {
     "data": {
      "text/html": [
       "<strong>png:</strong> 2"
      ],
      "text/latex": [
       "\\textbf{png:} 2"
      ],
      "text/markdown": [
       "**png:** 2"
      ],
      "text/plain": [
       "png \n",
       "  2 "
      ]
     },
     "metadata": {},
     "output_type": "display_data"
    }
   ],
   "source": [
    "# return level plots\n",
    "prep_window(c(2,3))\n",
    "\n",
    "png(paste0(\"fig/obs_return-levels_\",variable,\"_\",region,\".png\"), width = 540*3, height = 540*2); {\n",
    "    par(mfrow = c(2,3), cex = 1.4, lwd = 3, oma = c(0,0,2,0))\n",
    "    invisible(sapply(1:5, function(i) {\n",
    "        mdl <- obs_fitted[[i]]\n",
    "        plot_returnlevels(mdl, cov = gmst_2023, cov_cf = gmst_2023 - 1.2, legend_pos = NA, nsamp = 500, main = names(obs_fitted)[i], ylim = c(20,200))\n",
    "    }))\n",
    "    plot.new()\n",
    "    legend(\"left\", legend = c(\"Present climate\", \"Counterfactual climate\", \"Observed event\"), col = c(\"firebrick\", \"blue\", \"magenta\"), lty = 1, pch = c(20,20,NA), bty = \"n\")\n",
    "    mtext(paste0(\"Return level plots for \",variable,\" over \",region_name,\" region\"), outer = T, cex = 2, font = 2)\n",
    "}; dev.off()"
   ]
  },
  {
   "cell_type": "code",
   "execution_count": 5,
   "id": "f2420cea-bac2-444f-b2d5-efb72004cef3",
   "metadata": {},
   "outputs": [
    {
     "data": {
      "text/html": [
       "<strong>png:</strong> 2"
      ],
      "text/latex": [
       "\\textbf{png:} 2"
      ],
      "text/markdown": [
       "**png:** 2"
      ],
      "text/plain": [
       "png \n",
       "  2 "
      ]
     },
     "metadata": {},
     "output_type": "display_data"
    }
   ],
   "source": [
    "# trend plots\n",
    "prep_window(c(2,3))\n",
    "\n",
    "png(paste0(\"fig/obs_trend_\",variable,\"_\",region,\".png\"), width = 540*3, height = 540*2); {\n",
    "    par(mfrow = c(2,3), cex = 1.4, lwd = 3, oma = c(0,0,2,0))\n",
    "    invisible(sapply(1:5, function(i) {\n",
    "        mdl <- obs_fitted[[i]]\n",
    "        plot_trend(mdl, main = names(obs_fitted)[i], legend_pos = NA)\n",
    "    }))\n",
    "    plot.new()\n",
    "    legend(\"left\", legend = c(\"location\", \"1-in-6-year event\", \"1-in-40-year event\"), lty = 1, col = c(\"black\", \"blue\", \"blue\"), lwd = c(2,2,1), bty = \"n\")\n",
    "    mtext(paste0(\"Trend in \",variable,\" over \",region_name,\" region\"), outer = T, cex = 2, font = 2)\n",
    "}; dev.off()"
   ]
  },
  {
   "cell_type": "code",
   "execution_count": 6,
   "id": "645a7215-81b3-479d-b318-dca942718219",
   "metadata": {},
   "outputs": [
    {
     "data": {
      "text/html": [
       "<strong>png:</strong> 2"
      ],
      "text/latex": [
       "\\textbf{png:} 2"
      ],
      "text/markdown": [
       "**png:** 2"
      ],
      "text/plain": [
       "png \n",
       "  2 "
      ]
     },
     "metadata": {},
     "output_type": "display_data"
    }
   ],
   "source": [
    "# GMST trend plots\n",
    "prep_window(c(1,5))\n",
    "\n",
    "png(paste0(\"fig/obs_gmst-trend_\",variable,\"_\",region,\".png\"), width = 540*3, height = 540*2); {\n",
    "    par(mfrow = c(2,3), cex = 1.4, lwd = 3, oma = c(0,0,2,0))\n",
    "    invisible(sapply(1:5, function(i) {\n",
    "        mdl <- obs_fitted[[i]]\n",
    "        plot_gmsttrend(mdl, cov = gmst_2023, cov_cf = gmst_2023 - 1.2, main = names(obs_fitted)[i], legend_pos = NA)\n",
    "    }))\n",
    "    plot.new()\n",
    "    legend(\"left\", legend = c(\"location\", \"1-in-6-year event\", \"1-in-40-year event\"), lty = 1, col = c(\"black\", \"blue\", \"blue\"), lwd = c(2,2,1), bty = \"n\")\n",
    "    mtext(paste0(\"GMST trend in \",variable,\" over \",region_name,\" region\"), outer = T, cex = 2, font = 2)\n",
    "}; dev.off()"
   ]
  },
  {
   "cell_type": "markdown",
   "id": "75e079ec-81f7-46c9-a097-e45a6b0e23f0",
   "metadata": {},
   "source": [
    "---\n",
    "## **MAM precip (Gaussian)**"
   ]
  },
  {
   "cell_type": "code",
   "execution_count": 7,
   "id": "861df589-5656-4794-b6fd-5a323d647aff",
   "metadata": {},
   "outputs": [],
   "source": [
    "variable = \"mam\"\n",
    "region = \"26_31_-5_2\"\n",
    "region_name = \"26E-31E, 5S-2N\""
   ]
  },
  {
   "cell_type": "code",
   "execution_count": 8,
   "id": "765f0ed6-2647-4b10-8dbb-8dd09cf89c92",
   "metadata": {},
   "outputs": [],
   "source": [
    "# loop over models, fit GEV\n",
    "gmst <- load_ts(\"ts/drc-rw-floods_gmst-smoothed.dat\", col.names = c(\"year\", \"gmst\"))\n",
    "\n",
    "obs_fitted <- sapply(c(\"mswep\", \"chirps\", \"cpc\", \"era5\", \"tamsat\"), function(fnm) {\n",
    "    df <- merge(gmst, load_ts(paste0(\"ts/drc-rw-floods_\",variable,\"_\", fnm, \"_\", region,\".dat\"), col.names = c(\"year\", \"pr\")))\n",
    "    fit_ns(\"norm\", \"fixeddisp\", df, \"pr\", \"gmst\", lower = F)\n",
    "}, simplify = F)\n",
    "\n",
    "# set covariates\n",
    "gmst_2023 <- gmst$gmst[gmst$year == 2023]"
   ]
  },
  {
   "cell_type": "code",
   "execution_count": 9,
   "id": "760c34f2-e98f-4b1a-91df-808c634fcf25",
   "metadata": {},
   "outputs": [],
   "source": [
    "obs_ci <- t(sapply(obs_fitted, function(mdl) {\n",
    "    zz <- boot_ci(mdl, cov = gmst_2023, cov_cf = gmst_2023 - 1.2, nsamp = 50)\n",
    "    unlist(sapply(rownames(zz), function(a) c(zz[a,]), simplify = F))\n",
    "}))\n",
    "write.csv(obs_ci, paste0(\"res-obs_\", variable, \"_\", region, \".csv\"))"
   ]
  },
  {
   "cell_type": "code",
   "execution_count": 10,
   "id": "499553ed-8da7-4d48-96c1-0cf53f45202d",
   "metadata": {},
   "outputs": [
    {
     "data": {
      "text/html": [
       "<strong>png:</strong> 2"
      ],
      "text/latex": [
       "\\textbf{png:} 2"
      ],
      "text/markdown": [
       "**png:** 2"
      ],
      "text/plain": [
       "png \n",
       "  2 "
      ]
     },
     "metadata": {},
     "output_type": "display_data"
    }
   ],
   "source": [
    "# return level plots\n",
    "prep_window(c(2,3))\n",
    "\n",
    "png(paste0(\"fig/obs_return-levels_\",variable,\"_\",region,\".png\"), width = 540*3, height = 540*2); {\n",
    "    par(mfrow = c(2,3), cex = 1.4, lwd = 3, oma = c(0,0,2,0))\n",
    "    invisible(sapply(1:5, function(i) {\n",
    "        mdl <- obs_fitted[[i]]\n",
    "        plot_returnlevels(mdl, cov = gmst_2023, cov_cf = gmst_2023 - 1.2, legend_pos = NA, nsamp = 500, main = names(obs_fitted)[i], ylim = c(200,1200))\n",
    "    }))\n",
    "    plot.new()\n",
    "    legend(\"left\", legend = c(\"Present climate\", \"Counterfactual climate\", \"Observed event\"), col = c(\"firebrick\", \"blue\", \"magenta\"), lty = 1, pch = c(20,20,NA), bty = \"n\")\n",
    "    mtext(paste0(\"Return level plots for \",variable,\" over \",region_name,\" region\"), outer = T, cex = 2, font = 2)\n",
    "}; dev.off()"
   ]
  },
  {
   "cell_type": "code",
   "execution_count": 11,
   "id": "be0dccc9-bd50-4846-8391-8d7ab65c9beb",
   "metadata": {},
   "outputs": [
    {
     "data": {
      "text/html": [
       "<strong>png:</strong> 2"
      ],
      "text/latex": [
       "\\textbf{png:} 2"
      ],
      "text/markdown": [
       "**png:** 2"
      ],
      "text/plain": [
       "png \n",
       "  2 "
      ]
     },
     "metadata": {},
     "output_type": "display_data"
    }
   ],
   "source": [
    "# trend plots\n",
    "prep_window(c(2,3))\n",
    "\n",
    "png(paste0(\"fig/obs_trend_\",variable,\"_\",region,\".png\"), width = 540*3, height = 540*2); {\n",
    "    par(mfrow = c(2,3), cex = 1.4, lwd = 3, oma = c(0,0,2,0))\n",
    "    invisible(sapply(1:5, function(i) {\n",
    "        mdl <- obs_fitted[[i]]\n",
    "        plot_trend(mdl, main = names(obs_fitted)[i], legend_pos = NA)\n",
    "    }))\n",
    "    plot.new()\n",
    "    legend(\"left\", legend = c(\"location\", \"1-in-6-year event\", \"1-in-40-year event\"), lty = 1, col = c(\"black\", \"blue\", \"blue\"), lwd = c(2,2,1), bty = \"n\")\n",
    "    mtext(paste0(\"Trend in \",variable,\" over \",region_name,\" region\"), outer = T, cex = 2, font = 2)\n",
    "}; dev.off()"
   ]
  },
  {
   "cell_type": "code",
   "execution_count": 12,
   "id": "6fb6f23e-b657-4e8d-b413-a259ecb0e6c0",
   "metadata": {},
   "outputs": [
    {
     "data": {
      "text/html": [
       "<strong>png:</strong> 2"
      ],
      "text/latex": [
       "\\textbf{png:} 2"
      ],
      "text/markdown": [
       "**png:** 2"
      ],
      "text/plain": [
       "png \n",
       "  2 "
      ]
     },
     "metadata": {},
     "output_type": "display_data"
    }
   ],
   "source": [
    "# GMST trend plots\n",
    "prep_window(c(1,5))\n",
    "\n",
    "png(paste0(\"fig/obs_gmst-trend_\",variable,\"_\",region,\".png\"), width = 540*3, height = 540*2); {\n",
    "    par(mfrow = c(2,3), cex = 1.4, lwd = 3, oma = c(0,0,2,0))\n",
    "    invisible(sapply(1:5, function(i) {\n",
    "        mdl <- obs_fitted[[i]]\n",
    "        plot_gmsttrend(mdl, cov = gmst_2023, cov_cf = gmst_2023 - 1.2, main = names(obs_fitted)[i], legend_pos = NA)\n",
    "    }))\n",
    "    plot.new()\n",
    "    legend(\"left\", legend = c(\"location\", \"1-in-6-year event\", \"1-in-40-year event\"), lty = 1, col = c(\"black\", \"blue\", \"blue\"), lwd = c(2,2,1), bty = \"n\")\n",
    "    mtext(paste0(\"GMST trend in \",variable,\" over \",region_name,\" region\"), outer = T, cex = 2, font = 2)\n",
    "}; dev.off()"
   ]
  },
  {
   "cell_type": "markdown",
   "id": "4e61bb47-c46a-4b3a-9691-2e3d0f017f2d",
   "metadata": {},
   "source": [
    "---\n",
    "## **Plots for scientific report**"
   ]
  },
  {
   "cell_type": "code",
   "execution_count": 1,
   "id": "3dac8d33-b299-47be-b360-3d22b62bb8e2",
   "metadata": {},
   "outputs": [],
   "source": [
    "source(\"../00_model-fitting/wwa_model-fitting.R\")"
   ]
  },
  {
   "cell_type": "markdown",
   "id": "ebcfadc8-37fa-4a03-a593-cc1f689779a6",
   "metadata": {},
   "source": [
    "### **RX5day**"
   ]
  },
  {
   "cell_type": "code",
   "execution_count": 36,
   "id": "037cd356-c97a-47a5-b316-4fbb87d74e2f",
   "metadata": {},
   "outputs": [],
   "source": [
    "# loop over gridded obs products, fit GEV\n",
    "df <- merge(load_ts(\"ts/drc-rw-floods_gmst-smoothed.dat\", col.names = c(\"year\", \"gmst\")),\n",
    "            load_ts(paste0(\"ts/drc-rw-floods_rx5day-mam_chirps_shapefile.dat\"), col.names = c(\"year\", \"pr\")))\n",
    "\n",
    "gmst_2023 <- df$gmst[df$year == 2023]\n",
    "\n",
    "mdl <- fit_ns(\"gev\", \"fixeddisp\", df, \"pr\", \"gmst\", lower = F)"
   ]
  },
  {
   "cell_type": "code",
   "execution_count": 47,
   "id": "04ba90bc-8a73-4eb7-a49c-299e8bbc7ebf",
   "metadata": {},
   "outputs": [
    {
     "data": {
      "text/html": [
       "<table class=\"dataframe\">\n",
       "<caption>A matrix: 10 × 3 of type dbl</caption>\n",
       "<thead>\n",
       "\t<tr><th></th><th scope=col>bestimate</th><th scope=col>2.5%</th><th scope=col>97.5%</th></tr>\n",
       "</thead>\n",
       "<tbody>\n",
       "\t<tr><th scope=row>mu0</th><td> 45.42612</td><td> 41.14721</td><td>4.961975e+01</td></tr>\n",
       "\t<tr><th scope=row>sigma0</th><td>  6.74773</td><td>  5.15526</td><td>8.172510e+00</td></tr>\n",
       "\t<tr><th scope=row>alpha</th><td> -3.49160</td><td>-12.71205</td><td>6.682650e+00</td></tr>\n",
       "\t<tr><th scope=row>shape</th><td>  0.05330</td><td> -0.09930</td><td>2.543300e-01</td></tr>\n",
       "\t<tr><th scope=row>disp</th><td>  0.14854</td><td>  0.11712</td><td>1.738000e-01</td></tr>\n",
       "\t<tr><th scope=row>event_magnitude</th><td> 92.69010</td><td> 92.69010</td><td>9.269010e+01</td></tr>\n",
       "\t<tr><th scope=row>return_period</th><td>385.01909</td><td> 47.13330</td><td>3.512222e+06</td></tr>\n",
       "\t<tr><th scope=row>PR</th><td>  0.40626</td><td>  0.00012</td><td>4.453330e+00</td></tr>\n",
       "\t<tr><th scope=row>dI_abs</th><td> -8.95605</td><td>-40.57576</td><td>1.429928e+01</td></tr>\n",
       "\t<tr><th scope=row>dI_rel</th><td> -8.81101</td><td>-30.44723</td><td>1.824118e+01</td></tr>\n",
       "</tbody>\n",
       "</table>\n"
      ],
      "text/latex": [
       "A matrix: 10 × 3 of type dbl\n",
       "\\begin{tabular}{r|lll}\n",
       "  & bestimate & 2.5\\% & 97.5\\%\\\\\n",
       "\\hline\n",
       "\tmu0 &  45.42612 &  41.14721 & 4.961975e+01\\\\\n",
       "\tsigma0 &   6.74773 &   5.15526 & 8.172510e+00\\\\\n",
       "\talpha &  -3.49160 & -12.71205 & 6.682650e+00\\\\\n",
       "\tshape &   0.05330 &  -0.09930 & 2.543300e-01\\\\\n",
       "\tdisp &   0.14854 &   0.11712 & 1.738000e-01\\\\\n",
       "\tevent\\_magnitude &  92.69010 &  92.69010 & 9.269010e+01\\\\\n",
       "\treturn\\_period & 385.01909 &  47.13330 & 3.512222e+06\\\\\n",
       "\tPR &   0.40626 &   0.00012 & 4.453330e+00\\\\\n",
       "\tdI\\_abs &  -8.95605 & -40.57576 & 1.429928e+01\\\\\n",
       "\tdI\\_rel &  -8.81101 & -30.44723 & 1.824118e+01\\\\\n",
       "\\end{tabular}\n"
      ],
      "text/markdown": [
       "\n",
       "A matrix: 10 × 3 of type dbl\n",
       "\n",
       "| <!--/--> | bestimate | 2.5% | 97.5% |\n",
       "|---|---|---|---|\n",
       "| mu0 |  45.42612 |  41.14721 | 4.961975e+01 |\n",
       "| sigma0 |   6.74773 |   5.15526 | 8.172510e+00 |\n",
       "| alpha |  -3.49160 | -12.71205 | 6.682650e+00 |\n",
       "| shape |   0.05330 |  -0.09930 | 2.543300e-01 |\n",
       "| disp |   0.14854 |   0.11712 | 1.738000e-01 |\n",
       "| event_magnitude |  92.69010 |  92.69010 | 9.269010e+01 |\n",
       "| return_period | 385.01909 |  47.13330 | 3.512222e+06 |\n",
       "| PR |   0.40626 |   0.00012 | 4.453330e+00 |\n",
       "| dI_abs |  -8.95605 | -40.57576 | 1.429928e+01 |\n",
       "| dI_rel |  -8.81101 | -30.44723 | 1.824118e+01 |\n",
       "\n"
      ],
      "text/plain": [
       "                bestimate 2.5%      97.5%       \n",
       "mu0              45.42612  41.14721 4.961975e+01\n",
       "sigma0            6.74773   5.15526 8.172510e+00\n",
       "alpha            -3.49160 -12.71205 6.682650e+00\n",
       "shape             0.05330  -0.09930 2.543300e-01\n",
       "disp              0.14854   0.11712 1.738000e-01\n",
       "event_magnitude  92.69010  92.69010 9.269010e+01\n",
       "return_period   385.01909  47.13330 3.512222e+06\n",
       "PR                0.40626   0.00012 4.453330e+00\n",
       "dI_abs           -8.95605 -40.57576 1.429928e+01\n",
       "dI_rel           -8.81101 -30.44723 1.824118e+01"
      ]
     },
     "metadata": {},
     "output_type": "display_data"
    }
   ],
   "source": [
    "boot_ci(mdl, cov = gmst_2023, cov_cf = gmst_2023 - 1.2, nsamp = 1000)"
   ]
  },
  {
   "cell_type": "code",
   "execution_count": 46,
   "id": "c29441f6-606f-4b47-8396-18df1cced0c0",
   "metadata": {},
   "outputs": [
    {
     "data": {
      "text/html": [
       "<table class=\"dataframe\">\n",
       "<caption>A matrix: 10 × 3 of type dbl</caption>\n",
       "<thead>\n",
       "\t<tr><th></th><th scope=col>bestimate</th><th scope=col>2.5%</th><th scope=col>97.5%</th></tr>\n",
       "</thead>\n",
       "<tbody>\n",
       "\t<tr><th scope=row>mu0</th><td>45.42612</td><td> 41.11757</td><td> 49.60841</td></tr>\n",
       "\t<tr><th scope=row>sigma0</th><td> 6.74773</td><td>  5.15798</td><td>  8.16986</td></tr>\n",
       "\t<tr><th scope=row>alpha</th><td>-3.49160</td><td>-12.82877</td><td>  6.67409</td></tr>\n",
       "\t<tr><th scope=row>shape</th><td> 0.05330</td><td> -0.10476</td><td>  0.25340</td></tr>\n",
       "\t<tr><th scope=row>disp</th><td> 0.14854</td><td>  0.11714</td><td>  0.17375</td></tr>\n",
       "\t<tr><th scope=row>event_magnitude</th><td>83.98977</td><td> 83.98977</td><td> 83.98977</td></tr>\n",
       "\t<tr><th scope=row>return_period</th><td>89.35093</td><td> 22.38104</td><td>892.39402</td></tr>\n",
       "\t<tr><th scope=row>PR</th><td> 0.70065</td><td>  0.11661</td><td>  1.86698</td></tr>\n",
       "\t<tr><th scope=row>dI_abs</th><td>-3.33450</td><td>-14.16749</td><td>  5.72080</td></tr>\n",
       "\t<tr><th scope=row>dI_rel</th><td>-3.81853</td><td>-14.43342</td><td>  7.30918</td></tr>\n",
       "</tbody>\n",
       "</table>\n"
      ],
      "text/latex": [
       "A matrix: 10 × 3 of type dbl\n",
       "\\begin{tabular}{r|lll}\n",
       "  & bestimate & 2.5\\% & 97.5\\%\\\\\n",
       "\\hline\n",
       "\tmu0 & 45.42612 &  41.11757 &  49.60841\\\\\n",
       "\tsigma0 &  6.74773 &   5.15798 &   8.16986\\\\\n",
       "\talpha & -3.49160 & -12.82877 &   6.67409\\\\\n",
       "\tshape &  0.05330 &  -0.10476 &   0.25340\\\\\n",
       "\tdisp &  0.14854 &   0.11714 &   0.17375\\\\\n",
       "\tevent\\_magnitude & 83.98977 &  83.98977 &  83.98977\\\\\n",
       "\treturn\\_period & 89.35093 &  22.38104 & 892.39402\\\\\n",
       "\tPR &  0.70065 &   0.11661 &   1.86698\\\\\n",
       "\tdI\\_abs & -3.33450 & -14.16749 &   5.72080\\\\\n",
       "\tdI\\_rel & -3.81853 & -14.43342 &   7.30918\\\\\n",
       "\\end{tabular}\n"
      ],
      "text/markdown": [
       "\n",
       "A matrix: 10 × 3 of type dbl\n",
       "\n",
       "| <!--/--> | bestimate | 2.5% | 97.5% |\n",
       "|---|---|---|---|\n",
       "| mu0 | 45.42612 |  41.11757 |  49.60841 |\n",
       "| sigma0 |  6.74773 |   5.15798 |   8.16986 |\n",
       "| alpha | -3.49160 | -12.82877 |   6.67409 |\n",
       "| shape |  0.05330 |  -0.10476 |   0.25340 |\n",
       "| disp |  0.14854 |   0.11714 |   0.17375 |\n",
       "| event_magnitude | 83.98977 |  83.98977 |  83.98977 |\n",
       "| return_period | 89.35093 |  22.38104 | 892.39402 |\n",
       "| PR |  0.70065 |   0.11661 |   1.86698 |\n",
       "| dI_abs | -3.33450 | -14.16749 |   5.72080 |\n",
       "| dI_rel | -3.81853 | -14.43342 |   7.30918 |\n",
       "\n"
      ],
      "text/plain": [
       "                bestimate 2.5%      97.5%    \n",
       "mu0             45.42612   41.11757  49.60841\n",
       "sigma0           6.74773    5.15798   8.16986\n",
       "alpha           -3.49160  -12.82877   6.67409\n",
       "shape            0.05330   -0.10476   0.25340\n",
       "disp             0.14854    0.11714   0.17375\n",
       "event_magnitude 83.98977   83.98977  83.98977\n",
       "return_period   89.35093   22.38104 892.39402\n",
       "PR               0.70065    0.11661   1.86698\n",
       "dI_abs          -3.33450  -14.16749   5.72080\n",
       "dI_rel          -3.81853  -14.43342   7.30918"
      ]
     },
     "metadata": {},
     "output_type": "display_data"
    }
   ],
   "source": [
    "boot_ci(mdl, cov = df$gmst[df$year == 1985], cov_cf = gmst_2023 - 1.2, nsamp = 1000, ev = df$pr[df$year == 1985])"
   ]
  },
  {
   "cell_type": "code",
   "execution_count": 4,
   "id": "ef1410aa-f7aa-4ac1-9839-647d7b235bf4",
   "metadata": {},
   "outputs": [
    {
     "data": {
      "text/html": [
       "<strong>png:</strong> 2"
      ],
      "text/latex": [
       "\\textbf{png:} 2"
      ],
      "text/markdown": [
       "**png:** 2"
      ],
      "text/plain": [
       "png \n",
       "  2 "
      ]
     },
     "metadata": {},
     "output_type": "display_data"
    }
   ],
   "source": [
    "png(paste0(\"fig/obs-results_rx5day-mam_chirps.png\"), width = 540*2, height = 540*1); {\n",
    "    par(mfrow = c(1,2), cex = 1.4)\n",
    "    ylim = c(20,150)\n",
    "    plot_gmsttrend(mdl, cov = gmst_2023, cov_cf = gmst_2023 - 1.2, main = \"(a) Fitted trend in GMST\", legend_pos = NA, ylim = ylim)\n",
    "    plot_returnlevels(mdl, cov = gmst_2023, cov_cf = gmst_2023 - 1.2, legend_pos = NA, nsamp = 500, main = \"(b) Return level plots\", ylim = ylim)\n",
    "}; dev.off()"
   ]
  },
  {
   "cell_type": "code",
   "execution_count": 5,
   "id": "32664321-8493-4ea1-ba14-7c2bfcdb6f0c",
   "metadata": {},
   "outputs": [
    {
     "data": {
      "image/png": "[encoded data removed]",
      "text/plain": [
       "Plot with title “”"
      ]
     },
     "metadata": {
      "image/png": {
       "height": 420,
       "width": 420
      }
     },
     "output_type": "display_data"
    }
   ],
   "source": [
    "plot_trend(mdl)\n"
   ]
  },
  {
   "cell_type": "code",
   "execution_count": 61,
   "id": "0cdb666a-b73b-4df4-a982-b081a1d79da1",
   "metadata": {},
   "outputs": [
    {
     "data": {
      "image/png": "[encoded data removed]",
      "text/plain": [
       "Plot with title “”"
      ]
     },
     "metadata": {
      "image/png": {
       "height": 420,
       "width": 420
      }
     },
     "output_type": "display_data"
    }
   ],
   "source": [
    "# is it just those two outliers ruining the fit?\n",
    "df <- merge(load_ts(\"ts/drc-rw-floods_gmst-smoothed.dat\", col.names = c(\"year\", \"gmst\")),\n",
    "            load_ts(paste0(\"ts/drc-rw-floods_rx5day-mam_chirps_shapefile.dat\"), col.names = c(\"year\", \"pr\")))\n",
    "\n",
    "rx5_cleaned_fit <- fit_ns(\"gev\", \"fixeddisp\", df[df$pr < 80,], \"pr\", \"gmst\", lower = F)\n",
    "\n",
    "plot_returnlevels(rx5_cleaned_fit, cov = gmst_2023, cov_cf = gmst_2023 - 1.2, ylim = c(20,90))\n",
    "\n",
    "# well... yes"
   ]
  },
  {
   "cell_type": "markdown",
   "id": "7b242807-4f62-4930-9e6e-8d5b6448e60f",
   "metadata": {},
   "source": [
    "### **MAM**"
   ]
  },
  {
   "cell_type": "code",
   "execution_count": 48,
   "id": "678dd3f8-74b7-4c03-baeb-0f26eaf35c4e",
   "metadata": {},
   "outputs": [],
   "source": [
    "# loop over gridded obs products, fit GEV\n",
    "df <- merge(load_ts(\"ts/drc-rw-floods_gmst-smoothed.dat\", col.names = c(\"year\", \"gmst\")),\n",
    "            load_ts(paste0(\"ts/drc-rw-floods_mam_chirps_shapefile.dat\"), col.names = c(\"year\", \"pr\")))\n",
    "\n",
    "gmst_2023 <- df$gmst[df$year == 2023]\n",
    "\n",
    "mdl <- fit_ns(\"norm\", \"fixeddisp\", df, \"pr\", \"gmst\", lower = F)"
   ]
  },
  {
   "cell_type": "code",
   "execution_count": 49,
   "id": "58eb2616-e58c-4993-8b4a-f11564e677d6",
   "metadata": {},
   "outputs": [
    {
     "data": {
      "text/html": [
       "<table class=\"dataframe\">\n",
       "<caption>A matrix: 9 × 3 of type dbl</caption>\n",
       "<thead>\n",
       "\t<tr><th></th><th scope=col>bestimate</th><th scope=col>2.5%</th><th scope=col>97.5%</th></tr>\n",
       "</thead>\n",
       "<tbody>\n",
       "\t<tr><th scope=row>mu0</th><td>472.11343</td><td>445.78665</td><td> 497.98104</td></tr>\n",
       "\t<tr><th scope=row>sigma0</th><td> 45.56274</td><td> 32.65673</td><td>  54.27381</td></tr>\n",
       "\t<tr><th scope=row>alpha</th><td> 12.15273</td><td>-47.97908</td><td>  82.06044</td></tr>\n",
       "\t<tr><th scope=row>disp</th><td>  0.09651</td><td>  0.07125</td><td>   0.11342</td></tr>\n",
       "\t<tr><th scope=row>event_magnitude</th><td>556.42550</td><td>556.42550</td><td> 556.42550</td></tr>\n",
       "\t<tr><th scope=row>return_period</th><td> 31.12979</td><td>  8.39773</td><td>1043.51033</td></tr>\n",
       "\t<tr><th scope=row>PR</th><td>  2.51842</td><td>  0.01392</td><td>2298.22952</td></tr>\n",
       "\t<tr><th scope=row>dI_abs</th><td> 16.92487</td><td>-76.98505</td><td> 100.12912</td></tr>\n",
       "\t<tr><th scope=row>dI_rel</th><td>  3.13714</td><td>-12.15405</td><td>  21.94390</td></tr>\n",
       "</tbody>\n",
       "</table>\n"
      ],
      "text/latex": [
       "A matrix: 9 × 3 of type dbl\n",
       "\\begin{tabular}{r|lll}\n",
       "  & bestimate & 2.5\\% & 97.5\\%\\\\\n",
       "\\hline\n",
       "\tmu0 & 472.11343 & 445.78665 &  497.98104\\\\\n",
       "\tsigma0 &  45.56274 &  32.65673 &   54.27381\\\\\n",
       "\talpha &  12.15273 & -47.97908 &   82.06044\\\\\n",
       "\tdisp &   0.09651 &   0.07125 &    0.11342\\\\\n",
       "\tevent\\_magnitude & 556.42550 & 556.42550 &  556.42550\\\\\n",
       "\treturn\\_period &  31.12979 &   8.39773 & 1043.51033\\\\\n",
       "\tPR &   2.51842 &   0.01392 & 2298.22952\\\\\n",
       "\tdI\\_abs &  16.92487 & -76.98505 &  100.12912\\\\\n",
       "\tdI\\_rel &   3.13714 & -12.15405 &   21.94390\\\\\n",
       "\\end{tabular}\n"
      ],
      "text/markdown": [
       "\n",
       "A matrix: 9 × 3 of type dbl\n",
       "\n",
       "| <!--/--> | bestimate | 2.5% | 97.5% |\n",
       "|---|---|---|---|\n",
       "| mu0 | 472.11343 | 445.78665 |  497.98104 |\n",
       "| sigma0 |  45.56274 |  32.65673 |   54.27381 |\n",
       "| alpha |  12.15273 | -47.97908 |   82.06044 |\n",
       "| disp |   0.09651 |   0.07125 |    0.11342 |\n",
       "| event_magnitude | 556.42550 | 556.42550 |  556.42550 |\n",
       "| return_period |  31.12979 |   8.39773 | 1043.51033 |\n",
       "| PR |   2.51842 |   0.01392 | 2298.22952 |\n",
       "| dI_abs |  16.92487 | -76.98505 |  100.12912 |\n",
       "| dI_rel |   3.13714 | -12.15405 |   21.94390 |\n",
       "\n"
      ],
      "text/plain": [
       "                bestimate 2.5%      97.5%     \n",
       "mu0             472.11343 445.78665  497.98104\n",
       "sigma0           45.56274  32.65673   54.27381\n",
       "alpha            12.15273 -47.97908   82.06044\n",
       "disp              0.09651   0.07125    0.11342\n",
       "event_magnitude 556.42550 556.42550  556.42550\n",
       "return_period    31.12979   8.39773 1043.51033\n",
       "PR                2.51842   0.01392 2298.22952\n",
       "dI_abs           16.92487 -76.98505  100.12912\n",
       "dI_rel            3.13714 -12.15405   21.94390"
      ]
     },
     "metadata": {},
     "output_type": "display_data"
    }
   ],
   "source": [
    "boot_ci(mdl, cov = gmst_2023, cov_cf = gmst_2023 - 1.2, nsamp = 1000)\n"
   ]
  },
  {
   "cell_type": "code",
   "execution_count": 28,
   "id": "1733abf6-75c4-4493-a146-60bed142fc44",
   "metadata": {},
   "outputs": [
    {
     "data": {
      "text/html": [
       "<strong>png:</strong> 2"
      ],
      "text/latex": [
       "\\textbf{png:} 2"
      ],
      "text/markdown": [
       "**png:** 2"
      ],
      "text/plain": [
       "png \n",
       "  2 "
      ]
     },
     "metadata": {},
     "output_type": "display_data"
    }
   ],
   "source": [
    "png(paste0(\"fig/obs-results_mam_chirps.png\"), width = 540*2, height = 540*1); {\n",
    "    par(mfrow = c(1,2), cex = 1.4)\n",
    "    ylim = c(200,800)\n",
    "    plot_gmsttrend(mdl, cov = gmst_2023, cov_cf = gmst_2023 - 1.2, main = \"(a) Fitted trend in GMST\", legend_pos = NA, ylim = ylim)\n",
    "    plot_returnlevels(mdl, cov = gmst_2023, cov_cf = gmst_2023 - 1.2, legend_pos = NA, nsamp = 500, main = \"(b) Return level plots\", ylim = ylim)\n",
    "}; dev.off()"
   ]
  },
  {
   "cell_type": "code",
   "execution_count": 9,
   "id": "4a0e2e1b-5258-464b-a728-2adbe64e028d",
   "metadata": {},
   "outputs": [
    {
     "data": {
      "image/png": "[encoded data removed]",
      "text/plain": [
       "Plot with title “”"
      ]
     },
     "metadata": {
      "image/png": {
       "height": 420,
       "width": 420
      }
     },
     "output_type": "display_data"
    }
   ],
   "source": [
    "plot_trend(mdl)"
   ]
  },
  {
   "cell_type": "code",
   "execution_count": null,
   "id": "9939eeb1-f97b-4dd4-bc4e-157a2bdfec49",
   "metadata": {},
   "outputs": [],
   "source": []
  }
 ],
 "metadata": {
  "kernelspec": {
   "display_name": "R [conda env:r_env]",
   "language": "R",
   "name": "conda-env-r_env-r"
  },
  "language_info": {
   "codemirror_mode": "r",
   "file_extension": ".r",
   "mimetype": "text/x-r-source",
   "name": "R",
   "pygments_lexer": "r",
   "version": "4.2.2"
  }
 },
 "nbformat": 4,
 "nbformat_minor": 5
}
