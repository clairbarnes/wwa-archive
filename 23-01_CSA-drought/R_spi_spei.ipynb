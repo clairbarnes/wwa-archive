{
 "cells": [
  {
   "cell_type": "code",
   "execution_count": 1,
   "id": "ffba2a5b-5fbd-4523-ac23-cb8cb3ee2093",
   "metadata": {},
   "outputs": [],
   "source": [
    "suppressMessages({\n",
    "    library(\"SPEI\")            # conda activate r_env; conda install r-spei -y\n",
    "})"
   ]
  },
  {
   "cell_type": "markdown",
   "id": "01a1b65a-cc37-41ab-a225-69984e1bbccc",
   "metadata": {},
   "source": [
    "### **CPC SPI**"
   ]
  },
  {
   "cell_type": "code",
   "execution_count": 93,
   "id": "1ed9a1a9-7223-4db7-b562-9aaa4832a35e",
   "metadata": {},
   "outputs": [],
   "source": [
    "# load data for whole map, create df with just those columns containing land surface cells\n",
    "df_all = read.csv(\"data/cpc_pr_monthly.csv\", skip = 2)\n",
    "df = df_all[,colSums(!is.na(df_all)) > 0]\n",
    "\n",
    "# fit SPI to land surface cells only (this part is s-l-o-w)\n",
    "df_spi <- spi(ts(df[,-1], start = c(1979,01), frequency = 12), scale = 3, ref.start = c(1980,01), ref.end = c(2010,12), distribution = \"Gamma\")\n",
    "\n",
    "save(df_spi, file = \"data/cpc_spi3-fitted.Rdata\")\n",
    "\n",
    "# overwrite non-null values in original dataframe with fitted SPI, and save\n",
    "df_map <- df_all[,-1]\n",
    "df_map[,colSums(!is.na(df_map)) > 0] <- data.frame(df_spi$fitted)\n",
    "df_map <- cbind(\"time\" = df_all[,1], df_map)\n",
    "\n",
    "write.csv(df_map, \"data/cpc_spi3_rfitted.csv\", row.names = F)"
   ]
  },
  {
   "cell_type": "markdown",
   "id": "9ef8b907-ed58-4126-b239-2e1d926742f3",
   "metadata": {},
   "source": [
    "### **ERA5 SPI**"
   ]
  },
  {
   "cell_type": "code",
   "execution_count": null,
   "id": "ded86d4f-b8c2-4ac2-9b42-2da92dc21d39",
   "metadata": {},
   "outputs": [],
   "source": [
    "system.time({\n",
    "    # load data for whole map, create df with just those columns containing land surface cells\n",
    "    df_all = read.csv(\"data/era5_pr_monthly.csv\", skip = 2)\n",
    "    df = df_all[,colSums(!is.na(df_all)) > 0]\n",
    "    \n",
    "    # fit SPI to land surface cells only (this part is s-l-o-w)\n",
    "    df_spi <- spi(ts(df[,-1], start = c(1979,01), frequency = 12), scale = 3, ref.start = c(1980,01), ref.end = c(2010,12), distribution = \"Gamma\")\n",
    "    \n",
    "    # overwrite non-null values in original dataframe with fitted SPI, and save\n",
    "    df_map <- df_all[,-1]\n",
    "    df_map[,colSums(!is.na(df_map)) > 0] <- data.frame(df_spi$fitted)\n",
    "    df_map <- cbind(\"time\" = df_all[,1], df_map)\n",
    "    \n",
    "    write.csv(df_map, \"data/era5_spi3_rfitted.csv\", row.names = F)\n",
    "})"
   ]
  },
  {
   "cell_type": "code",
   "execution_count": 98,
   "id": "d90c2a3f-5d4b-4b88-a6bb-d9f0a43314a5",
   "metadata": {},
   "outputs": [],
   "source": []
  },
  {
   "cell_type": "code",
   "execution_count": null,
   "id": "a0670ade-9edb-4d81-a7b6-e538f67087fa",
   "metadata": {},
   "outputs": [],
   "source": []
  }
 ],
 "metadata": {
  "kernelspec": {
   "display_name": "R [conda env:r_env]",
   "language": "R",
   "name": "conda-env-r_env-r"
  },
  "language_info": {
   "codemirror_mode": "r",
   "file_extension": ".r",
   "mimetype": "text/x-r-source",
   "name": "R",
   "pygments_lexer": "r",
   "version": "4.2.2"
  }
 },
 "nbformat": 4,
 "nbformat_minor": 5
}
